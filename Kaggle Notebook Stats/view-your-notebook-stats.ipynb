{
 "cells": [
  {
   "cell_type": "markdown",
   "id": "befdf55b",
   "metadata": {
    "papermill": {
     "duration": 0.004574,
     "end_time": "2022-06-12T00:06:01.263406",
     "exception": false,
     "start_time": "2022-06-12T00:06:01.258832",
     "status": "completed"
    },
    "tags": []
   },
   "source": [
    "Similarly, if you want to see view counts on your Kaggle notebooks - you have to increase the view count by one... *until now!* We can spy on the latest view counts (and other stats) by requesting a listing from the Kaggle API...\n",
    "\n",
    "To use this notebook:\n",
    "\n",
    " 1.   Fork this notebook by clicking on Copy and Edit.\n",
    " 2.   Set the username variable to your own username."
   ]
  },
  {
   "cell_type": "code",
   "execution_count": 18,
   "id": "62e7d37a",
   "metadata": {
    "execution": {
     "iopub.execute_input": "2022-06-12T00:06:01.272800Z",
     "iopub.status.busy": "2022-06-12T00:06:01.271910Z",
     "iopub.status.idle": "2022-06-12T00:06:01.284991Z",
     "shell.execute_reply": "2022-06-12T00:06:01.284120Z"
    },
    "papermill": {
     "duration": 0.020102,
     "end_time": "2022-06-12T00:06:01.287120",
     "exception": false,
     "start_time": "2022-06-12T00:06:01.267018",
     "status": "completed"
    },
    "tags": []
   },
   "outputs": [],
   "source": [
    "username = 'azminetoushikwasi'"
   ]
  },
  {
   "cell_type": "code",
   "execution_count": 19,
   "id": "636a7a76",
   "metadata": {
    "_kg_hide-input": true,
    "execution": {
     "iopub.execute_input": "2022-06-12T00:06:01.295765Z",
     "iopub.status.busy": "2022-06-12T00:06:01.295366Z",
     "iopub.status.idle": "2022-06-12T00:06:01.446307Z",
     "shell.execute_reply": "2022-06-12T00:06:01.445254Z"
    },
    "papermill": {
     "duration": 0.158209,
     "end_time": "2022-06-12T00:06:01.448853",
     "exception": false,
     "start_time": "2022-06-12T00:06:01.290644",
     "status": "completed"
    },
    "tags": []
   },
   "outputs": [],
   "source": [
    "from IPython.display import Markdown, display\n",
    "import datetime, requests, json, os, re, sys, time\n",
    "from matplotlib.ticker import FixedLocator, MaxNLocator\n",
    "import pandas as pd\n",
    "import numpy as np\n",
    "import math\n",
    "import seaborn as sns\n",
    "import matplotlib.pyplot as plt\n",
    "import warnings\n",
    "warnings.filterwarnings('ignore')\n",
    "from plotly.subplots import make_subplots"
   ]
  },
  {
   "cell_type": "code",
   "execution_count": 20,
   "id": "9550f4dd",
   "metadata": {},
   "outputs": [],
   "source": [
    "pd.set_option('display.max_rows', 500)\n",
    "\n",
    "session = requests.session()\n",
    "profile = session.get('https://www.kaggle.com/' + username)\n",
    "session.headers['x-xsrf-token'] = session.cookies['XSRF-TOKEN']\n",
    "\n",
    "uid = int(re.findall('Kaggle\\.State\\.push\\({.*?\"userId\":(\\d+),', profile.text)[0])\n",
    "count = int(re.findall('\"scriptsSummary\":{.*?\"totalResults\":(\\d+),', profile.text)[0])\n",
    "pages = int(np.ceil(count / 20))"
   ]
  },
  {
   "cell_type": "code",
   "execution_count": 21,
   "id": "0b676f37",
   "metadata": {
    "_kg_hide-input": true,
    "execution": {
     "iopub.execute_input": "2022-06-12T00:06:01.458529Z",
     "iopub.status.busy": "2022-06-12T00:06:01.457924Z",
     "iopub.status.idle": "2022-06-12T00:06:01.465424Z",
     "shell.execute_reply": "2022-06-12T00:06:01.464165Z"
    },
    "papermill": {
     "duration": 0.014946,
     "end_time": "2022-06-12T00:06:01.467432",
     "exception": false,
     "start_time": "2022-06-12T00:06:01.452486",
     "status": "completed"
    },
    "tags": []
   },
   "outputs": [],
   "source": [
    "url = 'https://www.kaggle.com/api/i/kernels.KernelsService/ListKernels'\n",
    "request = {\n",
    "    'kernelFilterCriteria': {\n",
    "        'search': '',\n",
    "        'listRequest': {\n",
    "            'userId': 0,\n",
    "            'sortBy': 'DATE_RUN',\n",
    "            'pageSize': 20,\n",
    "            'group': 'PROFILE',\n",
    "            'page': 1,\n",
    "            'tagIds': '',\n",
    "            'excludeResultsFilesOutputs': False,\n",
    "            'wantOutputFiles': False\n",
    "        }\n",
    "    },\n",
    "    'detailFilterCriteria': {\n",
    "        'deletedAccessBehavior': 'RETURN_NOTHING',\n",
    "        'unauthorizedAccessBehavior': 'RETURN_NOTHING',\n",
    "        'excludeResultsFilesOutputs': False,\n",
    "        'wantOutputFiles': False,\n",
    "        'kernelIds': [],\n",
    "        'outputFileTypes': []\n",
    "    }\n",
    "}"
   ]
  },
  {
   "cell_type": "code",
   "execution_count": 22,
   "id": "6150d2d1",
   "metadata": {
    "_kg_hide-input": true,
    "execution": {
     "iopub.execute_input": "2022-06-12T00:06:01.478891Z",
     "iopub.status.busy": "2022-06-12T00:06:01.478475Z",
     "iopub.status.idle": "2022-06-12T00:06:03.889142Z",
     "shell.execute_reply": "2022-06-12T00:06:03.888184Z"
    },
    "papermill": {
     "duration": 2.421448,
     "end_time": "2022-06-12T00:06:03.892456",
     "exception": false,
     "start_time": "2022-06-12T00:06:01.471008",
     "status": "completed"
    },
    "tags": []
   },
   "outputs": [
    {
     "data": {
      "text/markdown": [
       "\n",
       " - Notebook count: 17\n",
       " - Total views: 43,479\n",
       " - Total comments: 372\n",
       " - Total medals: 17\n",
       " - Total votes: 1,449\n",
       " - Mean views per vote: 30\n"
      ],
      "text/plain": [
       "<IPython.core.display.Markdown object>"
      ]
     },
     "metadata": {},
     "output_type": "display_data"
    }
   ],
   "source": [
    "request['kernelFilterCriteria']['listRequest']['userId'] = uid\n",
    "\n",
    "dfs = []\n",
    "for page in range(1, pages + 1):\n",
    "    request['kernelFilterCriteria']['listRequest']['page'] = page\n",
    "    data = json.dumps(request, separators=(',', ':'))\n",
    "    res = session.post(url, data=data)\n",
    "    #print(page, res.status_code, len(res.text))\n",
    "    if res.status_code != 200:\n",
    "        break\n",
    "    df = pd.DataFrame(json.loads(res.text)['kernels'])\n",
    "    dfs.append(df)\n",
    "\n",
    "def split_columns(df, col):\n",
    "    values = df.pop(col)\n",
    "    return df.join(values.apply(pd.Series).add_prefix(col + \"_\"))\n",
    "\n",
    "df = pd.concat(dfs, ignore_index=True)\n",
    "df = split_columns(df, 'author')\n",
    "df = split_columns(df, 'dataSources')\n",
    "df = split_columns(df, 'categories')\n",
    "\n",
    "filename = f'{username}-{datetime.datetime.now().strftime(\"%Y-%m-%d\")}.csv'\n",
    "df.to_csv(\"./data/\"+filename, index=False)\n",
    "\n",
    "display(Markdown(f\"\"\"\n",
    " - Notebook count: {df.shape[0]:,.0f}\n",
    " - Total views: {df.totalViews.sum():,.0f}\n",
    " - Total comments: {df.totalComments.sum():,.0f}\n",
    " - Total medals: {df.medal.count():,.0f}\n",
    " - Total votes: {df.totalVotes.sum():,.0f}\n",
    " - Mean views per vote: {df.totalViews.sum() / df.totalVotes.sum():,.0f}\n",
    "\"\"\"))"
   ]
  },
  {
   "cell_type": "code",
   "execution_count": 23,
   "id": "2a8bdd38",
   "metadata": {
    "_kg_hide-input": true,
    "execution": {
     "iopub.execute_input": "2022-06-12T00:06:03.902067Z",
     "iopub.status.busy": "2022-06-12T00:06:03.901217Z",
     "iopub.status.idle": "2022-06-12T00:06:04.049288Z",
     "shell.execute_reply": "2022-06-12T00:06:04.048375Z"
    },
    "papermill": {
     "duration": 0.154913,
     "end_time": "2022-06-12T00:06:04.051346",
     "exception": false,
     "start_time": "2022-06-12T00:06:03.896433",
     "status": "completed"
    },
    "tags": []
   },
   "outputs": [
    {
     "data": {
      "text/markdown": [
       "# Notebooks by Azmine Wasi"
      ],
      "text/plain": [
       "<IPython.core.display.Markdown object>"
      ]
     },
     "metadata": {},
     "output_type": "display_data"
    },
    {
     "data": {
      "text/html": [
       "<style type=\"text/css\">\n",
       "#T_e774d_row0_col1, #T_e774d_row0_col2, #T_e774d_row0_col3, #T_e774d_row0_col4 {\n",
       "  width: 10em;\n",
       "  height: 80%;\n",
       "}\n",
       "#T_e774d_row1_col1 {\n",
       "  width: 10em;\n",
       "  height: 80%;\n",
       "  background: linear-gradient(90deg,#4cf 7.2%, transparent 7.2%);\n",
       "}\n",
       "#T_e774d_row1_col2 {\n",
       "  width: 10em;\n",
       "  height: 80%;\n",
       "  background: linear-gradient(90deg,#4cf 10.4%, transparent 10.4%);\n",
       "}\n",
       "#T_e774d_row1_col3 {\n",
       "  width: 10em;\n",
       "  height: 80%;\n",
       "  background: linear-gradient(90deg,#4cf 3.1%, transparent 3.1%);\n",
       "}\n",
       "#T_e774d_row1_col4 {\n",
       "  width: 10em;\n",
       "  height: 80%;\n",
       "  background: linear-gradient(90deg,#4cf 28.4%, transparent 28.4%);\n",
       "}\n",
       "#T_e774d_row2_col1 {\n",
       "  width: 10em;\n",
       "  height: 80%;\n",
       "  background: linear-gradient(90deg,#4cf 8.4%, transparent 8.4%);\n",
       "}\n",
       "#T_e774d_row2_col2, #T_e774d_row6_col1 {\n",
       "  width: 10em;\n",
       "  height: 80%;\n",
       "  background: linear-gradient(90deg,#4cf 6.1%, transparent 6.1%);\n",
       "}\n",
       "#T_e774d_row2_col3, #T_e774d_row7_col4, #T_e774d_row16_col1, #T_e774d_row16_col2 {\n",
       "  width: 10em;\n",
       "  height: 80%;\n",
       "  background: linear-gradient(90deg,#4cf 50.0%, transparent 50.0%);\n",
       "}\n",
       "#T_e774d_row2_col4 {\n",
       "  width: 10em;\n",
       "  height: 80%;\n",
       "  background: linear-gradient(90deg,#4cf 2.7%, transparent 2.7%);\n",
       "}\n",
       "#T_e774d_row3_col1 {\n",
       "  width: 10em;\n",
       "  height: 80%;\n",
       "  background: linear-gradient(90deg,#4cf 6.6%, transparent 6.6%);\n",
       "}\n",
       "#T_e774d_row3_col2 {\n",
       "  width: 10em;\n",
       "  height: 80%;\n",
       "  background: linear-gradient(90deg,#4cf 11.0%, transparent 11.0%);\n",
       "}\n",
       "#T_e774d_row3_col3 {\n",
       "  width: 10em;\n",
       "  height: 80%;\n",
       "  background: linear-gradient(90deg,#4cf 3.4%, transparent 3.4%);\n",
       "}\n",
       "#T_e774d_row3_col4 {\n",
       "  width: 10em;\n",
       "  height: 80%;\n",
       "  background: linear-gradient(90deg,#4cf 29.7%, transparent 29.7%);\n",
       "}\n",
       "#T_e774d_row4_col1 {\n",
       "  width: 10em;\n",
       "  height: 80%;\n",
       "  background: linear-gradient(90deg,#4cf 9.8%, transparent 9.8%);\n",
       "}\n",
       "#T_e774d_row4_col2 {\n",
       "  width: 10em;\n",
       "  height: 80%;\n",
       "  background: linear-gradient(90deg,#4cf 12.4%, transparent 12.4%);\n",
       "}\n",
       "#T_e774d_row4_col3 {\n",
       "  width: 10em;\n",
       "  height: 80%;\n",
       "  background: linear-gradient(90deg,#4cf 5.9%, transparent 5.9%);\n",
       "}\n",
       "#T_e774d_row4_col4, #T_e774d_row8_col4 {\n",
       "  width: 10em;\n",
       "  height: 80%;\n",
       "  background: linear-gradient(90deg,#4cf 14.9%, transparent 14.9%);\n",
       "}\n",
       "#T_e774d_row5_col1 {\n",
       "  width: 10em;\n",
       "  height: 80%;\n",
       "  background: linear-gradient(90deg,#4cf 34.9%, transparent 34.9%);\n",
       "}\n",
       "#T_e774d_row5_col2 {\n",
       "  width: 10em;\n",
       "  height: 80%;\n",
       "  background: linear-gradient(90deg,#4cf 26.3%, transparent 26.3%);\n",
       "}\n",
       "#T_e774d_row5_col3 {\n",
       "  width: 10em;\n",
       "  height: 80%;\n",
       "  background: linear-gradient(90deg,#4cf 6.3%, transparent 6.3%);\n",
       "}\n",
       "#T_e774d_row5_col4 {\n",
       "  width: 10em;\n",
       "  height: 80%;\n",
       "  background: linear-gradient(90deg,#4cf 24.3%, transparent 24.3%);\n",
       "}\n",
       "#T_e774d_row6_col2 {\n",
       "  width: 10em;\n",
       "  height: 80%;\n",
       "  background: linear-gradient(90deg,#4cf 11.6%, transparent 11.6%);\n",
       "}\n",
       "#T_e774d_row6_col3 {\n",
       "  width: 10em;\n",
       "  height: 80%;\n",
       "  background: linear-gradient(90deg,#4cf 3.9%, transparent 3.9%);\n",
       "}\n",
       "#T_e774d_row6_col4 {\n",
       "  width: 10em;\n",
       "  height: 80%;\n",
       "  background: linear-gradient(90deg,#4cf 27.0%, transparent 27.0%);\n",
       "}\n",
       "#T_e774d_row7_col1 {\n",
       "  width: 10em;\n",
       "  height: 80%;\n",
       "  background: linear-gradient(90deg,#4cf 21.1%, transparent 21.1%);\n",
       "}\n",
       "#T_e774d_row7_col2, #T_e774d_row13_col2 {\n",
       "  width: 10em;\n",
       "  height: 80%;\n",
       "  background: linear-gradient(90deg,#4cf 19.1%, transparent 19.1%);\n",
       "}\n",
       "#T_e774d_row7_col3, #T_e774d_row16_col3 {\n",
       "  width: 10em;\n",
       "  height: 80%;\n",
       "  background: linear-gradient(90deg,#4cf 1.9%, transparent 1.9%);\n",
       "}\n",
       "#T_e774d_row8_col1 {\n",
       "  width: 10em;\n",
       "  height: 80%;\n",
       "  background: linear-gradient(90deg,#4cf 13.9%, transparent 13.9%);\n",
       "}\n",
       "#T_e774d_row8_col2 {\n",
       "  width: 10em;\n",
       "  height: 80%;\n",
       "  background: linear-gradient(90deg,#4cf 16.5%, transparent 16.5%);\n",
       "}\n",
       "#T_e774d_row8_col3 {\n",
       "  width: 10em;\n",
       "  height: 80%;\n",
       "  background: linear-gradient(90deg,#4cf 2.9%, transparent 2.9%);\n",
       "}\n",
       "#T_e774d_row9_col1 {\n",
       "  width: 10em;\n",
       "  height: 80%;\n",
       "  background: linear-gradient(90deg,#4cf 23.8%, transparent 23.8%);\n",
       "}\n",
       "#T_e774d_row9_col2, #T_e774d_row10_col2 {\n",
       "  width: 10em;\n",
       "  height: 80%;\n",
       "  background: linear-gradient(90deg,#4cf 15.9%, transparent 15.9%);\n",
       "}\n",
       "#T_e774d_row9_col3 {\n",
       "  width: 10em;\n",
       "  height: 80%;\n",
       "  background: linear-gradient(90deg,#4cf 2.4%, transparent 2.4%);\n",
       "}\n",
       "#T_e774d_row9_col4, #T_e774d_row12_col4 {\n",
       "  width: 10em;\n",
       "  height: 80%;\n",
       "  background: linear-gradient(90deg,#4cf 23.0%, transparent 23.0%);\n",
       "}\n",
       "#T_e774d_row10_col1 {\n",
       "  width: 10em;\n",
       "  height: 80%;\n",
       "  background: linear-gradient(90deg,#4cf 17.1%, transparent 17.1%);\n",
       "}\n",
       "#T_e774d_row10_col3 {\n",
       "  width: 10em;\n",
       "  height: 80%;\n",
       "  background: linear-gradient(90deg,#4cf 5.3%, transparent 5.3%);\n",
       "}\n",
       "#T_e774d_row10_col4 {\n",
       "  width: 10em;\n",
       "  height: 80%;\n",
       "  background: linear-gradient(90deg,#4cf 32.4%, transparent 32.4%);\n",
       "}\n",
       "#T_e774d_row11_col1 {\n",
       "  width: 10em;\n",
       "  height: 80%;\n",
       "  background: linear-gradient(90deg,#4cf 35.3%, transparent 35.3%);\n",
       "}\n",
       "#T_e774d_row11_col2 {\n",
       "  width: 10em;\n",
       "  height: 80%;\n",
       "  background: linear-gradient(90deg,#4cf 26.6%, transparent 26.6%);\n",
       "}\n",
       "#T_e774d_row11_col3 {\n",
       "  width: 10em;\n",
       "  height: 80%;\n",
       "  background: linear-gradient(90deg,#4cf 6.4%, transparent 6.4%);\n",
       "}\n",
       "#T_e774d_row11_col4, #T_e774d_row15_col2 {\n",
       "  width: 10em;\n",
       "  height: 80%;\n",
       "  background: linear-gradient(90deg,#4cf 40.5%, transparent 40.5%);\n",
       "}\n",
       "#T_e774d_row12_col1 {\n",
       "  width: 10em;\n",
       "  height: 80%;\n",
       "  background: linear-gradient(90deg,#4cf 13.1%, transparent 13.1%);\n",
       "}\n",
       "#T_e774d_row12_col2 {\n",
       "  width: 10em;\n",
       "  height: 80%;\n",
       "  background: linear-gradient(90deg,#4cf 12.1%, transparent 12.1%);\n",
       "}\n",
       "#T_e774d_row12_col3 {\n",
       "  width: 10em;\n",
       "  height: 80%;\n",
       "  background: linear-gradient(90deg,#4cf 6.7%, transparent 6.7%);\n",
       "}\n",
       "#T_e774d_row13_col1 {\n",
       "  width: 10em;\n",
       "  height: 80%;\n",
       "  background: linear-gradient(90deg,#4cf 20.1%, transparent 20.1%);\n",
       "}\n",
       "#T_e774d_row13_col3 {\n",
       "  width: 10em;\n",
       "  height: 80%;\n",
       "  background: linear-gradient(90deg,#4cf 2.3%, transparent 2.3%);\n",
       "}\n",
       "#T_e774d_row13_col4 {\n",
       "  width: 10em;\n",
       "  height: 80%;\n",
       "  background: linear-gradient(90deg,#4cf 37.8%, transparent 37.8%);\n",
       "}\n",
       "#T_e774d_row14_col1 {\n",
       "  width: 10em;\n",
       "  height: 80%;\n",
       "  background: linear-gradient(90deg,#4cf 14.8%, transparent 14.8%);\n",
       "}\n",
       "#T_e774d_row14_col2 {\n",
       "  width: 10em;\n",
       "  height: 80%;\n",
       "  background: linear-gradient(90deg,#4cf 17.3%, transparent 17.3%);\n",
       "}\n",
       "#T_e774d_row14_col3 {\n",
       "  width: 10em;\n",
       "  height: 80%;\n",
       "  background: linear-gradient(90deg,#4cf 1.6%, transparent 1.6%);\n",
       "}\n",
       "#T_e774d_row14_col4 {\n",
       "  width: 10em;\n",
       "  height: 80%;\n",
       "  background: linear-gradient(90deg,#4cf 18.9%, transparent 18.9%);\n",
       "}\n",
       "#T_e774d_row15_col1 {\n",
       "  width: 10em;\n",
       "  height: 80%;\n",
       "  background: linear-gradient(90deg,#4cf 21.4%, transparent 21.4%);\n",
       "}\n",
       "#T_e774d_row15_col3 {\n",
       "  width: 10em;\n",
       "  height: 80%;\n",
       "  background: linear-gradient(90deg,#4cf 7.4%, transparent 7.4%);\n",
       "}\n",
       "#T_e774d_row15_col4 {\n",
       "  width: 10em;\n",
       "  height: 80%;\n",
       "  background: linear-gradient(90deg,#4cf 20.3%, transparent 20.3%);\n",
       "}\n",
       "#T_e774d_row16_col4 {\n",
       "  width: 10em;\n",
       "  height: 80%;\n",
       "  background: linear-gradient(90deg,#4cf 45.9%, transparent 45.9%);\n",
       "}\n",
       "</style>\n",
       "<table id=\"T_e774d_\">\n",
       "  <thead>\n",
       "    <tr>\n",
       "      <th class=\"col_heading level0 col0\" >title</th>\n",
       "      <th class=\"col_heading level0 col1\" >totalViews</th>\n",
       "      <th class=\"col_heading level0 col2\" >totalVotes</th>\n",
       "      <th class=\"col_heading level0 col3\" >totalLines</th>\n",
       "      <th class=\"col_heading level0 col4\" >totalComments</th>\n",
       "    </tr>\n",
       "  </thead>\n",
       "  <tbody>\n",
       "    <tr>\n",
       "      <td id=\"T_e774d_row0_col0\" class=\"data row0 col0\" ><a href=\"https://www.kaggle.com/code/azminetoushikwasi/lstm-time-series-forecasting\"  title=\"Language: Python\n",
       "Medal: BRONZE\n",
       "Last run: Wed Sep  7 13:24:06 2022\n",
       "Runtime: 3s\n",
       "Views per vote: 7\">🔮 LSTM 🗓️ Time Series Forecasting 📆</a></td>\n",
       "      <td id=\"T_e774d_row0_col1\" class=\"data row0 col1\" >150</td>\n",
       "      <td id=\"T_e774d_row0_col2\" class=\"data row0 col2\" >22</td>\n",
       "      <td id=\"T_e774d_row0_col3\" class=\"data row0 col3\" >257</td>\n",
       "      <td id=\"T_e774d_row0_col4\" class=\"data row0 col4\" >3</td>\n",
       "    </tr>\n",
       "    <tr>\n",
       "      <td id=\"T_e774d_row1_col0\" class=\"data row1 col0\" ><a href=\"https://www.kaggle.com/code/azminetoushikwasi/coursera-eda-sentiment-analysis\"  title=\"Language: Python\n",
       "Medal: SILVER\n",
       "Last run: Wed Sep  7 11:38:52 2022\n",
       "Runtime: 4s\n",
       "Views per vote: 19\">📚 Coursera 📉 EDA, Sentiment Analysis 🔴🟢🔵</a></td>\n",
       "      <td id=\"T_e774d_row1_col1\" class=\"data row1 col1\" >1,124</td>\n",
       "      <td id=\"T_e774d_row1_col2\" class=\"data row1 col2\" >58</td>\n",
       "      <td id=\"T_e774d_row1_col3\" class=\"data row1 col3\" >422</td>\n",
       "      <td id=\"T_e774d_row1_col4\" class=\"data row1 col4\" >24</td>\n",
       "    </tr>\n",
       "    <tr>\n",
       "      <td id=\"T_e774d_row2_col0\" class=\"data row2 col0\" ><a href=\"https://www.kaggle.com/code/azminetoushikwasi/house-price-prediction-with-stacking-ensembling\"  title=\"Language: Python\n",
       "Medal: SILVER\n",
       "Last run: Wed Sep  7 11:33:11 2022\n",
       "Runtime: 5s\n",
       "Views per vote: 29\">House Price Prediction with Stacking & Ensembling</a></td>\n",
       "      <td id=\"T_e774d_row2_col1\" class=\"data row2 col1\" >1,278</td>\n",
       "      <td id=\"T_e774d_row2_col2\" class=\"data row2 col2\" >43</td>\n",
       "      <td id=\"T_e774d_row2_col3\" class=\"data row2 col3\" >2,878</td>\n",
       "      <td id=\"T_e774d_row2_col4\" class=\"data row2 col4\" >5</td>\n",
       "    </tr>\n",
       "    <tr>\n",
       "      <td id=\"T_e774d_row3_col0\" class=\"data row3 col0\" ><a href=\"https://www.kaggle.com/code/azminetoushikwasi/daily-aqi-scheduled-dataset\"  title=\"Language: Python\n",
       "Medal: SILVER\n",
       "Last run: Tue Sep  6 16:45:32 2022\n",
       "Runtime: 303s\n",
       "Views per vote: 17\">📆 Daily AQI 🗺️ Scheduled + Dataset 🌪️</a></td>\n",
       "      <td id=\"T_e774d_row3_col1\" class=\"data row3 col1\" >1,044</td>\n",
       "      <td id=\"T_e774d_row3_col2\" class=\"data row3 col2\" >60</td>\n",
       "      <td id=\"T_e774d_row3_col3\" class=\"data row3 col3\" >435</td>\n",
       "      <td id=\"T_e774d_row3_col4\" class=\"data row3 col4\" >25</td>\n",
       "    </tr>\n",
       "    <tr>\n",
       "      <td id=\"T_e774d_row4_col0\" class=\"data row4 col0\" ><a href=\"https://www.kaggle.com/code/azminetoushikwasi/intro-to-time-series-analysis-forecasting\"  title=\"Language: Python\n",
       "Medal: GOLD\n",
       "Last run: Tue Sep  6 12:25:24 2022\n",
       "Runtime: 229s\n",
       "Views per vote: 22\">🗓 Intro to Time Series Analysis 🔺  Forecasting🔻</a></td>\n",
       "      <td id=\"T_e774d_row4_col1\" class=\"data row4 col1\" >1,472</td>\n",
       "      <td id=\"T_e774d_row4_col2\" class=\"data row4 col2\" >65</td>\n",
       "      <td id=\"T_e774d_row4_col3\" class=\"data row4 col3\" >564</td>\n",
       "      <td id=\"T_e774d_row4_col4\" class=\"data row4 col4\" >14</td>\n",
       "    </tr>\n",
       "    <tr>\n",
       "      <td id=\"T_e774d_row5_col0\" class=\"data row5 col0\" ><a href=\"https://www.kaggle.com/code/azminetoushikwasi/xgboost-wrangling-with-hyperparameters-guide\"  title=\"Language: Python\n",
       "Medal: GOLD\n",
       "Last run: Mon Aug 22 17:28:35 2022\n",
       "Runtime: 50s\n",
       "Views per vote: 43\">XGBoost | Wrangling with Hyperparameters | Guide</a></td>\n",
       "      <td id=\"T_e774d_row5_col1\" class=\"data row5 col1\" >4,854</td>\n",
       "      <td id=\"T_e774d_row5_col2\" class=\"data row5 col2\" >113</td>\n",
       "      <td id=\"T_e774d_row5_col3\" class=\"data row5 col3\" >586</td>\n",
       "      <td id=\"T_e774d_row5_col4\" class=\"data row5 col4\" >21</td>\n",
       "    </tr>\n",
       "    <tr>\n",
       "      <td id=\"T_e774d_row6_col0\" class=\"data row6 col0\" ><a href=\"https://www.kaggle.com/code/azminetoushikwasi/investment-and-financial-analysis-epz\"  title=\"Language: Python\n",
       "Medal: GOLD\n",
       "Last run: Tue Aug 16 16:57:07 2022\n",
       "Runtime: 51s\n",
       "Views per vote: 15\">Investment and Financial Analysis  🏭 EPZ</a></td>\n",
       "      <td id=\"T_e774d_row6_col1\" class=\"data row6 col1\" >975</td>\n",
       "      <td id=\"T_e774d_row6_col2\" class=\"data row6 col2\" >62</td>\n",
       "      <td id=\"T_e774d_row6_col3\" class=\"data row6 col3\" >463</td>\n",
       "      <td id=\"T_e774d_row6_col4\" class=\"data row6 col4\" >23</td>\n",
       "    </tr>\n",
       "    <tr>\n",
       "      <td id=\"T_e774d_row7_col0\" class=\"data row7 col0\" ><a href=\"https://www.kaggle.com/code/azminetoushikwasi/cristiano-ronaldo-goals-eda-analysis\"  title=\"Language: Python\n",
       "Medal: GOLD\n",
       "Last run: Tue Aug 16 08:15:56 2022\n",
       "Runtime: 51s\n",
       "Views per vote: 34\">▶️ Cristiano Ronaldo ⚽ Goals  📊 EDA, Analysis</a></td>\n",
       "      <td id=\"T_e774d_row7_col1\" class=\"data row7 col1\" >2,998</td>\n",
       "      <td id=\"T_e774d_row7_col2\" class=\"data row7 col2\" >88</td>\n",
       "      <td id=\"T_e774d_row7_col3\" class=\"data row7 col3\" >357</td>\n",
       "      <td id=\"T_e774d_row7_col4\" class=\"data row7 col4\" >40</td>\n",
       "    </tr>\n",
       "    <tr>\n",
       "      <td id=\"T_e774d_row8_col0\" class=\"data row8 col0\" ><a href=\"https://www.kaggle.com/code/azminetoushikwasi/classification-comparing-different-algorithms\"  title=\"Language: Python\n",
       "Medal: GOLD\n",
       "Last run: Sun Aug  7 20:11:54 2022\n",
       "Runtime: 49s\n",
       "Views per vote: 25\">Classification ➡️ Comparing Different Algorithms</a></td>\n",
       "      <td id=\"T_e774d_row8_col1\" class=\"data row8 col1\" >2,022</td>\n",
       "      <td id=\"T_e774d_row8_col2\" class=\"data row8 col2\" >79</td>\n",
       "      <td id=\"T_e774d_row8_col3\" class=\"data row8 col3\" >407</td>\n",
       "      <td id=\"T_e774d_row8_col4\" class=\"data row8 col4\" >14</td>\n",
       "    </tr>\n",
       "    <tr>\n",
       "      <td id=\"T_e774d_row9_col0\" class=\"data row9 col0\" ><a href=\"https://www.kaggle.com/code/azminetoushikwasi/advanced-feature-engineering-for-classification\"  title=\"Language: Python\n",
       "Medal: GOLD\n",
       "Last run: Wed Aug  3 08:23:12 2022\n",
       "Runtime: 68s\n",
       "Views per vote: 43\">Advanced Feature Engineering for Classification</a></td>\n",
       "      <td id=\"T_e774d_row9_col1\" class=\"data row9 col1\" >3,355</td>\n",
       "      <td id=\"T_e774d_row9_col2\" class=\"data row9 col2\" >77</td>\n",
       "      <td id=\"T_e774d_row9_col3\" class=\"data row9 col3\" >382</td>\n",
       "      <td id=\"T_e774d_row9_col4\" class=\"data row9 col4\" >20</td>\n",
       "    </tr>\n",
       "    <tr>\n",
       "      <td id=\"T_e774d_row10_col0\" class=\"data row10 col0\" ><a href=\"https://www.kaggle.com/code/azminetoushikwasi/ucl-eda-viz-2021-22-players-teams\"  title=\"Language: Python\n",
       "Medal: GOLD\n",
       "Last run: Wed Jul 27 09:00:24 2022\n",
       "Runtime: 60s\n",
       "Views per vote: 32\">UCL ⚽ EDA & Viz ⭐ 2021-22 ⭐ Players & Teams</a></td>\n",
       "      <td id=\"T_e774d_row10_col1\" class=\"data row10 col1\" >2,456</td>\n",
       "      <td id=\"T_e774d_row10_col2\" class=\"data row10 col2\" >77</td>\n",
       "      <td id=\"T_e774d_row10_col3\" class=\"data row10 col3\" >536</td>\n",
       "      <td id=\"T_e774d_row10_col4\" class=\"data row10 col4\" >27</td>\n",
       "    </tr>\n",
       "    <tr>\n",
       "      <td id=\"T_e774d_row11_col0\" class=\"data row11 col0\" ><a href=\"https://www.kaggle.com/code/azminetoushikwasi/mastering-bias-variance-tradeoff\"  title=\"Language: Python\n",
       "Medal: GOLD\n",
       "Last run: Tue Jul 19 01:47:02 2022\n",
       "Runtime: 50s\n",
       "Views per vote: 43\">Mastering Bias-Variance Tradeoff </a></td>\n",
       "      <td id=\"T_e774d_row11_col1\" class=\"data row11 col1\" >4,907</td>\n",
       "      <td id=\"T_e774d_row11_col2\" class=\"data row11 col2\" >114</td>\n",
       "      <td id=\"T_e774d_row11_col3\" class=\"data row11 col3\" >592</td>\n",
       "      <td id=\"T_e774d_row11_col4\" class=\"data row11 col4\" >33</td>\n",
       "    </tr>\n",
       "    <tr>\n",
       "      <td id=\"T_e774d_row12_col0\" class=\"data row12 col0\" ><a href=\"https://www.kaggle.com/code/azminetoushikwasi/divorce-prediction-reasons-xgb-shap-rfe-tsne\"  title=\"Language: Python\n",
       "Medal: GOLD\n",
       "Last run: Sun Jul 17 06:36:10 2022\n",
       "Runtime: 102s\n",
       "Views per vote: 30\">Divorce Prediction & Reasons : XGB,SHAP,RFE,TSNE</a></td>\n",
       "      <td id=\"T_e774d_row12_col1\" class=\"data row12 col1\" >1,923</td>\n",
       "      <td id=\"T_e774d_row12_col2\" class=\"data row12 col2\" >64</td>\n",
       "      <td id=\"T_e774d_row12_col3\" class=\"data row12 col3\" >608</td>\n",
       "      <td id=\"T_e774d_row12_col4\" class=\"data row12 col4\" >20</td>\n",
       "    </tr>\n",
       "    <tr>\n",
       "      <td id=\"T_e774d_row13_col0\" class=\"data row13 col0\" ><a href=\"https://www.kaggle.com/code/azminetoushikwasi/lionel-messi-extended-eda-goals\"  title=\"Language: Python\n",
       "Medal: GOLD\n",
       "Last run: Sat Jul  9 12:08:22 2022\n",
       "Runtime: 56s\n",
       "Views per vote: 32\">▶️ Lionel Messi 📊 Extended EDA ⚽ Goals </a></td>\n",
       "      <td id=\"T_e774d_row13_col1\" class=\"data row13 col1\" >2,855</td>\n",
       "      <td id=\"T_e774d_row13_col2\" class=\"data row13 col2\" >88</td>\n",
       "      <td id=\"T_e774d_row13_col3\" class=\"data row13 col3\" >380</td>\n",
       "      <td id=\"T_e774d_row13_col4\" class=\"data row13 col4\" >31</td>\n",
       "    </tr>\n",
       "    <tr>\n",
       "      <td id=\"T_e774d_row14_col0\" class=\"data row14 col0\" ><a href=\"https://www.kaggle.com/code/azminetoushikwasi/ml-foundation-cross-validation-all-methods\"  title=\"Language: Python\n",
       "Medal: GOLD\n",
       "Last run: Tue Jul  5 04:38:45 2022\n",
       "Runtime: 70s\n",
       "Views per vote: 26\">ML Foundation ➡️ Cross Validation ✅ All Methods</a></td>\n",
       "      <td id=\"T_e774d_row14_col1\" class=\"data row14 col1\" >2,140</td>\n",
       "      <td id=\"T_e774d_row14_col2\" class=\"data row14 col2\" >82</td>\n",
       "      <td id=\"T_e774d_row14_col3\" class=\"data row14 col3\" >342</td>\n",
       "      <td id=\"T_e774d_row14_col4\" class=\"data row14 col4\" >17</td>\n",
       "    </tr>\n",
       "    <tr>\n",
       "      <td id=\"T_e774d_row15_col0\" class=\"data row15 col0\" ><a href=\"https://www.kaggle.com/code/azminetoushikwasi/different-clustering-techniques-and-algorithms\"  title=\"Language: Python\n",
       "Medal: GOLD\n",
       "Last run: Fri Jul  1 18:28:34 2022\n",
       "Runtime: 6s\n",
       "Views per vote: 19\">Different Clustering Techniques and Algorithms</a></td>\n",
       "      <td id=\"T_e774d_row15_col1\" class=\"data row15 col1\" >3,034</td>\n",
       "      <td id=\"T_e774d_row15_col2\" class=\"data row15 col2\" >162</td>\n",
       "      <td id=\"T_e774d_row15_col3\" class=\"data row15 col3\" >645</td>\n",
       "      <td id=\"T_e774d_row15_col4\" class=\"data row15 col4\" >18</td>\n",
       "    </tr>\n",
       "    <tr>\n",
       "      <td id=\"T_e774d_row16_col0\" class=\"data row16 col0\" ><a href=\"https://www.kaggle.com/code/azminetoushikwasi/all-imputation-techniques-with-pros-and-cons\"  title=\"Language: Python\n",
       "Medal: GOLD\n",
       "Last run: Fri Jul  1 08:32:21 2022\n",
       "Runtime: 85s\n",
       "Views per vote: 35\">All Imputation Techniques with Pros and Cons</a></td>\n",
       "      <td id=\"T_e774d_row16_col1\" class=\"data row16 col1\" >6,892</td>\n",
       "      <td id=\"T_e774d_row16_col2\" class=\"data row16 col2\" >195</td>\n",
       "      <td id=\"T_e774d_row16_col3\" class=\"data row16 col3\" >357</td>\n",
       "      <td id=\"T_e774d_row16_col4\" class=\"data row16 col4\" >37</td>\n",
       "    </tr>\n",
       "  </tbody>\n",
       "</table>\n"
      ],
      "text/plain": [
       "<pandas.io.formats.style.Styler at 0x252bc5b0100>"
      ]
     },
     "execution_count": 23,
     "metadata": {},
     "output_type": "execute_result"
    }
   ],
   "source": [
    "display(Markdown(f'# Notebooks by {df.author_displayName.get(0)}'))\n",
    "df['viewsPerVote'] = df.eval('(totalViews+1)/(totalVotes+1)')\n",
    "df['lastRun'] = pd.to_datetime(df.lastRunTime).dt.strftime('%c')\n",
    "stats = ['totalViews', 'totalVotes', 'totalLines', 'totalComments']\n",
    "links = ('<a href=\"https://www.kaggle.com' + df.scriptUrl + '\" '\n",
    "         + ' title=\"'\n",
    "         + 'Language: ' + df.languageName.fillna('N/A') + '\\n'\n",
    "         + 'Medal: ' + df.medal.fillna('N/A') + '\\n'\n",
    "         + 'Last run: ' + df.lastRun + '\\n'\n",
    "         + 'Runtime: ' + df.lastRunExecutionTimeSeconds.map(str) + 's' + '\\n'\n",
    "         + 'Views per vote: ' + df.eval('(totalViews+1)/(totalVotes+1)').apply(lambda x: f'{x:,.0f}')\n",
    "         + '\">' # end title=\"...\"\n",
    "         + df.title\n",
    "         + '</a>')\n",
    "show = df[['title'] + stats].copy()\n",
    "show['title'] = links\n",
    "show.style.format({k:'{:,.0f}' for k in stats}, na_rep=\"\").hide_index().bar(width=50, color='#4cf')"
   ]
  },
  {
   "cell_type": "code",
   "execution_count": 24,
   "id": "112b6326",
   "metadata": {},
   "outputs": [],
   "source": [
    "df['medal'].fillna('N/A', inplace=True)\n",
    "medal_data=df[['medal','title']].set_index('title')\n",
    "medal_data=medal_data.to_dict(orient='index')"
   ]
  },
  {
   "cell_type": "markdown",
   "id": "ad6989db",
   "metadata": {
    "papermill": {
     "duration": 0.006343,
     "end_time": "2022-06-12T00:06:04.064594",
     "exception": false,
     "start_time": "2022-06-12T00:06:04.058251",
     "status": "completed"
    },
    "tags": []
   },
   "source": [
    "# Plotly Scatter Plot\n",
    "\n",
    "You may want to tweak these settings depending on how many notebooks you have...\n"
   ]
  },
  {
   "cell_type": "code",
   "execution_count": 25,
   "id": "b5af83c5",
   "metadata": {
    "_kg_hide-input": true,
    "execution": {
     "iopub.execute_input": "2022-06-12T00:06:04.079824Z",
     "iopub.status.busy": "2022-06-12T00:06:04.079134Z",
     "iopub.status.idle": "2022-06-12T00:06:08.110631Z",
     "shell.execute_reply": "2022-06-12T00:06:08.109685Z"
    },
    "papermill": {
     "duration": 4.041848,
     "end_time": "2022-06-12T00:06:08.112985",
     "exception": false,
     "start_time": "2022-06-12T00:06:04.071137",
     "status": "completed"
    },
    "tags": []
   },
   "outputs": [
    {
     "data": {
      "application/vnd.plotly.v1+json": {
       "config": {
        "plotlyServerURL": "https://plot.ly"
       },
       "data": [
        {
         "customdata": [
          [
           14.666666666666666,
           257,
           3,
           6.565217391304348,
           "Python",
           4,
           "Wed Sep  7 13:24:06 2022",
           3,
           "BRONZE"
          ]
         ],
         "hovertemplate": "<b>%{hovertext}</b><br><br>medal=%{customdata[8]}<br>totalViews=%{x:,.0f}<br>totalVotes=%{y:,.0f}<br>totalLines=%{customdata[1]:,.0f}<br>totalComments=%{customdata[2]:,.0f}<br>viewsPerVote=%{customdata[3]:,.0f}<br>languageName=%{customdata[4]}<br>versionNumber=%{customdata[5]}<br>lastRun=%{customdata[6]}<br>lastRunExecutionTimeSeconds=%{customdata[7]:,.0f}<extra></extra>",
         "hovertext": [
          "🔮 LSTM 🗓️ Time Series Forecasting 📆"
         ],
         "legendgroup": "BRONZE",
         "marker": {
          "color": "chocolate",
          "size": [
           14.666666666666666
          ],
          "sizemode": "area",
          "sizeref": 0.03666666666666667,
          "symbol": "circle"
         },
         "mode": "markers",
         "name": "BRONZE",
         "orientation": "v",
         "showlegend": true,
         "type": "scatter",
         "x": [
          150
         ],
         "xaxis": "x",
         "y": [
          22
         ],
         "yaxis": "y"
        },
        {
         "customdata": [
          [
           5.160142348754448,
           422,
           24,
           19.06779661016949,
           "Python",
           27,
           "Wed Sep  7 11:38:52 2022",
           4,
           "SILVER"
          ],
          [
           3.3646322378716746,
           2878,
           5,
           29.068181818181817,
           "Python",
           4,
           "Wed Sep  7 11:33:11 2022",
           5,
           "SILVER"
          ],
          [
           5.747126436781609,
           435,
           25,
           17.131147540983605,
           "Python",
           56,
           "Tue Sep  6 16:45:32 2022",
           303,
           "SILVER"
          ]
         ],
         "hovertemplate": "<b>%{hovertext}</b><br><br>medal=%{customdata[8]}<br>totalViews=%{x:,.0f}<br>totalVotes=%{y:,.0f}<br>totalLines=%{customdata[1]:,.0f}<br>totalComments=%{customdata[2]:,.0f}<br>viewsPerVote=%{customdata[3]:,.0f}<br>languageName=%{customdata[4]}<br>versionNumber=%{customdata[5]}<br>lastRun=%{customdata[6]}<br>lastRunExecutionTimeSeconds=%{customdata[7]:,.0f}<extra></extra>",
         "hovertext": [
          "📚 Coursera 📉 EDA, Sentiment Analysis 🔴🟢🔵",
          "House Price Prediction with Stacking & Ensembling",
          "📆 Daily AQI 🗺️ Scheduled + Dataset 🌪️"
         ],
         "legendgroup": "SILVER",
         "marker": {
          "color": "silver",
          "size": [
           5.160142348754448,
           3.3646322378716746,
           5.747126436781609
          ],
          "sizemode": "area",
          "sizeref": 0.03666666666666667,
          "symbol": "circle"
         },
         "mode": "markers",
         "name": "SILVER",
         "orientation": "v",
         "showlegend": true,
         "type": "scatter",
         "x": [
          1124,
          1278,
          1044
         ],
         "xaxis": "x",
         "y": [
          58,
          43,
          60
         ],
         "yaxis": "y"
        },
        {
         "customdata": [
          [
           4.415760869565218,
           564,
           14,
           22.318181818181817,
           "Python",
           6,
           "Tue Sep  6 12:25:24 2022",
           229,
           "GOLD"
          ],
          [
           2.3279769262463947,
           586,
           21,
           42.58771929824562,
           "Python",
           5,
           "Mon Aug 22 17:28:35 2022",
           50,
           "GOLD"
          ],
          [
           6.3589743589743595,
           463,
           23,
           15.492063492063492,
           "Python",
           20,
           "Tue Aug 16 16:57:07 2022",
           51,
           "GOLD"
          ],
          [
           2.935290193462308,
           357,
           40,
           33.69662921348315,
           "Python",
           17,
           "Tue Aug 16 08:15:56 2022",
           51,
           "GOLD"
          ],
          [
           3.90702274975272,
           407,
           14,
           25.2875,
           "Python",
           6,
           "Sun Aug  7 20:11:54 2022",
           49,
           "GOLD"
          ],
          [
           2.2950819672131146,
           382,
           20,
           43.02564102564103,
           "Python",
           13,
           "Wed Aug  3 08:23:12 2022",
           68,
           "GOLD"
          ],
          [
           3.1351791530944624,
           536,
           27,
           31.5,
           "Python",
           16,
           "Wed Jul 27 09:00:24 2022",
           60,
           "GOLD"
          ],
          [
           2.3232117383329935,
           592,
           33,
           42.678260869565214,
           "Python",
           14,
           "Tue Jul 19 01:47:02 2022",
           50,
           "GOLD"
          ],
          [
           3.3281331253250133,
           608,
           20,
           29.6,
           "Python",
           19,
           "Sun Jul 17 06:36:10 2022",
           102,
           "GOLD"
          ],
          [
           3.0823117338003505,
           380,
           31,
           32.08988764044944,
           "Python",
           13,
           "Sat Jul  9 12:08:22 2022",
           56,
           "GOLD"
          ],
          [
           3.8317757009345796,
           342,
           17,
           25.795180722891565,
           "Python",
           14,
           "Tue Jul  5 04:38:45 2022",
           70,
           "GOLD"
          ],
          [
           5.339485827290705,
           645,
           18,
           18.619631901840492,
           "Python",
           1,
           "Fri Jul  1 18:28:34 2022",
           6,
           "GOLD"
          ],
          [
           2.829367382472432,
           357,
           37,
           35.16836734693877,
           "Python",
           7,
           "Fri Jul  1 08:32:21 2022",
           85,
           "GOLD"
          ]
         ],
         "hovertemplate": "<b>%{hovertext}</b><br><br>medal=%{customdata[8]}<br>totalViews=%{x:,.0f}<br>totalVotes=%{y:,.0f}<br>totalLines=%{customdata[1]:,.0f}<br>totalComments=%{customdata[2]:,.0f}<br>viewsPerVote=%{customdata[3]:,.0f}<br>languageName=%{customdata[4]}<br>versionNumber=%{customdata[5]}<br>lastRun=%{customdata[6]}<br>lastRunExecutionTimeSeconds=%{customdata[7]:,.0f}<extra></extra>",
         "hovertext": [
          "🗓 Intro to Time Series Analysis 🔺  Forecasting🔻",
          "XGBoost | Wrangling with Hyperparameters | Guide",
          "Investment and Financial Analysis  🏭 EPZ",
          "▶️ Cristiano Ronaldo ⚽ Goals  📊 EDA, Analysis",
          "Classification ➡️ Comparing Different Algorithms",
          "Advanced Feature Engineering for Classification",
          "UCL ⚽ EDA & Viz ⭐ 2021-22 ⭐ Players & Teams",
          "Mastering Bias-Variance Tradeoff ",
          "Divorce Prediction & Reasons : XGB,SHAP,RFE,TSNE",
          "▶️ Lionel Messi 📊 Extended EDA ⚽ Goals ",
          "ML Foundation ➡️ Cross Validation ✅ All Methods",
          "Different Clustering Techniques and Algorithms",
          "All Imputation Techniques with Pros and Cons"
         ],
         "legendgroup": "GOLD",
         "marker": {
          "color": "gold",
          "size": [
           4.415760869565218,
           2.3279769262463947,
           6.3589743589743595,
           2.935290193462308,
           3.90702274975272,
           2.2950819672131146,
           3.1351791530944624,
           2.3232117383329935,
           3.3281331253250133,
           3.0823117338003505,
           3.8317757009345796,
           5.339485827290705,
           2.829367382472432
          ],
          "sizemode": "area",
          "sizeref": 0.03666666666666667,
          "symbol": "circle"
         },
         "mode": "markers",
         "name": "GOLD",
         "orientation": "v",
         "showlegend": true,
         "type": "scatter",
         "x": [
          1472,
          4854,
          975,
          2998,
          2022,
          3355,
          2456,
          4907,
          1923,
          2855,
          2140,
          3034,
          6892
         ],
         "xaxis": "x",
         "y": [
          65,
          113,
          62,
          88,
          79,
          77,
          77,
          114,
          64,
          88,
          82,
          162,
          195
         ],
         "yaxis": "y"
        },
        {
         "hovertemplate": "<b>OLS trendline</b><br>totalVotes = 0.0212571 * totalViews + 30.8685<br>R<sup>2</sup>=0.751420<br><br>totalViews=%{x:,.0f}<br>totalVotes=%{y:,.0f} <b>(trend)</b><extra></extra>",
         "legendgroup": "Overall Trendline",
         "line": {
          "color": "#19d3f3"
         },
         "mode": "lines",
         "name": "Overall Trendline",
         "showlegend": true,
         "type": "scatter",
         "x": [
          150,
          975,
          1044,
          1124,
          1278,
          1472,
          1923,
          2022,
          2140,
          2456,
          2855,
          2998,
          3034,
          3355,
          4854,
          4907,
          6892
         ],
         "xaxis": "x",
         "y": [
          34.05702312076523,
          51.594105647366604,
          53.060843458682356,
          54.76140903701946,
          58.03499777531838,
          62.15886930278586,
          71.74580775066127,
          73.85025765385345,
          76.35859188190067,
          83.07582591633222,
          91.55739673828853,
          94.59715770956609,
          95.36241221981778,
          102.18593160289542,
          134.05027912698688,
          135.1769038226352,
          177.37218723512456
         ],
         "yaxis": "y"
        }
       ],
       "layout": {
        "height": 800,
        "legend": {
         "itemsizing": "constant",
         "title": {
          "text": "medal"
         },
         "tracegroupgap": 0
        },
        "template": {
         "data": {
          "bar": [
           {
            "error_x": {
             "color": "#f2f5fa"
            },
            "error_y": {
             "color": "#f2f5fa"
            },
            "marker": {
             "line": {
              "color": "rgb(17,17,17)",
              "width": 0.5
             },
             "pattern": {
              "fillmode": "overlay",
              "size": 10,
              "solidity": 0.2
             }
            },
            "type": "bar"
           }
          ],
          "barpolar": [
           {
            "marker": {
             "line": {
              "color": "rgb(17,17,17)",
              "width": 0.5
             },
             "pattern": {
              "fillmode": "overlay",
              "size": 10,
              "solidity": 0.2
             }
            },
            "type": "barpolar"
           }
          ],
          "carpet": [
           {
            "aaxis": {
             "endlinecolor": "#A2B1C6",
             "gridcolor": "#506784",
             "linecolor": "#506784",
             "minorgridcolor": "#506784",
             "startlinecolor": "#A2B1C6"
            },
            "baxis": {
             "endlinecolor": "#A2B1C6",
             "gridcolor": "#506784",
             "linecolor": "#506784",
             "minorgridcolor": "#506784",
             "startlinecolor": "#A2B1C6"
            },
            "type": "carpet"
           }
          ],
          "choropleth": [
           {
            "colorbar": {
             "outlinewidth": 0,
             "ticks": ""
            },
            "type": "choropleth"
           }
          ],
          "contour": [
           {
            "colorbar": {
             "outlinewidth": 0,
             "ticks": ""
            },
            "colorscale": [
             [
              0,
              "#0d0887"
             ],
             [
              0.1111111111111111,
              "#46039f"
             ],
             [
              0.2222222222222222,
              "#7201a8"
             ],
             [
              0.3333333333333333,
              "#9c179e"
             ],
             [
              0.4444444444444444,
              "#bd3786"
             ],
             [
              0.5555555555555556,
              "#d8576b"
             ],
             [
              0.6666666666666666,
              "#ed7953"
             ],
             [
              0.7777777777777778,
              "#fb9f3a"
             ],
             [
              0.8888888888888888,
              "#fdca26"
             ],
             [
              1,
              "#f0f921"
             ]
            ],
            "type": "contour"
           }
          ],
          "contourcarpet": [
           {
            "colorbar": {
             "outlinewidth": 0,
             "ticks": ""
            },
            "type": "contourcarpet"
           }
          ],
          "heatmap": [
           {
            "colorbar": {
             "outlinewidth": 0,
             "ticks": ""
            },
            "colorscale": [
             [
              0,
              "#0d0887"
             ],
             [
              0.1111111111111111,
              "#46039f"
             ],
             [
              0.2222222222222222,
              "#7201a8"
             ],
             [
              0.3333333333333333,
              "#9c179e"
             ],
             [
              0.4444444444444444,
              "#bd3786"
             ],
             [
              0.5555555555555556,
              "#d8576b"
             ],
             [
              0.6666666666666666,
              "#ed7953"
             ],
             [
              0.7777777777777778,
              "#fb9f3a"
             ],
             [
              0.8888888888888888,
              "#fdca26"
             ],
             [
              1,
              "#f0f921"
             ]
            ],
            "type": "heatmap"
           }
          ],
          "heatmapgl": [
           {
            "colorbar": {
             "outlinewidth": 0,
             "ticks": ""
            },
            "colorscale": [
             [
              0,
              "#0d0887"
             ],
             [
              0.1111111111111111,
              "#46039f"
             ],
             [
              0.2222222222222222,
              "#7201a8"
             ],
             [
              0.3333333333333333,
              "#9c179e"
             ],
             [
              0.4444444444444444,
              "#bd3786"
             ],
             [
              0.5555555555555556,
              "#d8576b"
             ],
             [
              0.6666666666666666,
              "#ed7953"
             ],
             [
              0.7777777777777778,
              "#fb9f3a"
             ],
             [
              0.8888888888888888,
              "#fdca26"
             ],
             [
              1,
              "#f0f921"
             ]
            ],
            "type": "heatmapgl"
           }
          ],
          "histogram": [
           {
            "marker": {
             "pattern": {
              "fillmode": "overlay",
              "size": 10,
              "solidity": 0.2
             }
            },
            "type": "histogram"
           }
          ],
          "histogram2d": [
           {
            "colorbar": {
             "outlinewidth": 0,
             "ticks": ""
            },
            "colorscale": [
             [
              0,
              "#0d0887"
             ],
             [
              0.1111111111111111,
              "#46039f"
             ],
             [
              0.2222222222222222,
              "#7201a8"
             ],
             [
              0.3333333333333333,
              "#9c179e"
             ],
             [
              0.4444444444444444,
              "#bd3786"
             ],
             [
              0.5555555555555556,
              "#d8576b"
             ],
             [
              0.6666666666666666,
              "#ed7953"
             ],
             [
              0.7777777777777778,
              "#fb9f3a"
             ],
             [
              0.8888888888888888,
              "#fdca26"
             ],
             [
              1,
              "#f0f921"
             ]
            ],
            "type": "histogram2d"
           }
          ],
          "histogram2dcontour": [
           {
            "colorbar": {
             "outlinewidth": 0,
             "ticks": ""
            },
            "colorscale": [
             [
              0,
              "#0d0887"
             ],
             [
              0.1111111111111111,
              "#46039f"
             ],
             [
              0.2222222222222222,
              "#7201a8"
             ],
             [
              0.3333333333333333,
              "#9c179e"
             ],
             [
              0.4444444444444444,
              "#bd3786"
             ],
             [
              0.5555555555555556,
              "#d8576b"
             ],
             [
              0.6666666666666666,
              "#ed7953"
             ],
             [
              0.7777777777777778,
              "#fb9f3a"
             ],
             [
              0.8888888888888888,
              "#fdca26"
             ],
             [
              1,
              "#f0f921"
             ]
            ],
            "type": "histogram2dcontour"
           }
          ],
          "mesh3d": [
           {
            "colorbar": {
             "outlinewidth": 0,
             "ticks": ""
            },
            "type": "mesh3d"
           }
          ],
          "parcoords": [
           {
            "line": {
             "colorbar": {
              "outlinewidth": 0,
              "ticks": ""
             }
            },
            "type": "parcoords"
           }
          ],
          "pie": [
           {
            "automargin": true,
            "type": "pie"
           }
          ],
          "scatter": [
           {
            "marker": {
             "line": {
              "color": "#283442"
             }
            },
            "type": "scatter"
           }
          ],
          "scatter3d": [
           {
            "line": {
             "colorbar": {
              "outlinewidth": 0,
              "ticks": ""
             }
            },
            "marker": {
             "colorbar": {
              "outlinewidth": 0,
              "ticks": ""
             }
            },
            "type": "scatter3d"
           }
          ],
          "scattercarpet": [
           {
            "marker": {
             "colorbar": {
              "outlinewidth": 0,
              "ticks": ""
             }
            },
            "type": "scattercarpet"
           }
          ],
          "scattergeo": [
           {
            "marker": {
             "colorbar": {
              "outlinewidth": 0,
              "ticks": ""
             }
            },
            "type": "scattergeo"
           }
          ],
          "scattergl": [
           {
            "marker": {
             "line": {
              "color": "#283442"
             }
            },
            "type": "scattergl"
           }
          ],
          "scattermapbox": [
           {
            "marker": {
             "colorbar": {
              "outlinewidth": 0,
              "ticks": ""
             }
            },
            "type": "scattermapbox"
           }
          ],
          "scatterpolar": [
           {
            "marker": {
             "colorbar": {
              "outlinewidth": 0,
              "ticks": ""
             }
            },
            "type": "scatterpolar"
           }
          ],
          "scatterpolargl": [
           {
            "marker": {
             "colorbar": {
              "outlinewidth": 0,
              "ticks": ""
             }
            },
            "type": "scatterpolargl"
           }
          ],
          "scatterternary": [
           {
            "marker": {
             "colorbar": {
              "outlinewidth": 0,
              "ticks": ""
             }
            },
            "type": "scatterternary"
           }
          ],
          "surface": [
           {
            "colorbar": {
             "outlinewidth": 0,
             "ticks": ""
            },
            "colorscale": [
             [
              0,
              "#0d0887"
             ],
             [
              0.1111111111111111,
              "#46039f"
             ],
             [
              0.2222222222222222,
              "#7201a8"
             ],
             [
              0.3333333333333333,
              "#9c179e"
             ],
             [
              0.4444444444444444,
              "#bd3786"
             ],
             [
              0.5555555555555556,
              "#d8576b"
             ],
             [
              0.6666666666666666,
              "#ed7953"
             ],
             [
              0.7777777777777778,
              "#fb9f3a"
             ],
             [
              0.8888888888888888,
              "#fdca26"
             ],
             [
              1,
              "#f0f921"
             ]
            ],
            "type": "surface"
           }
          ],
          "table": [
           {
            "cells": {
             "fill": {
              "color": "#506784"
             },
             "line": {
              "color": "rgb(17,17,17)"
             }
            },
            "header": {
             "fill": {
              "color": "#2a3f5f"
             },
             "line": {
              "color": "rgb(17,17,17)"
             }
            },
            "type": "table"
           }
          ]
         },
         "layout": {
          "annotationdefaults": {
           "arrowcolor": "#f2f5fa",
           "arrowhead": 0,
           "arrowwidth": 1
          },
          "autotypenumbers": "strict",
          "coloraxis": {
           "colorbar": {
            "outlinewidth": 0,
            "ticks": ""
           }
          },
          "colorscale": {
           "diverging": [
            [
             0,
             "#8e0152"
            ],
            [
             0.1,
             "#c51b7d"
            ],
            [
             0.2,
             "#de77ae"
            ],
            [
             0.3,
             "#f1b6da"
            ],
            [
             0.4,
             "#fde0ef"
            ],
            [
             0.5,
             "#f7f7f7"
            ],
            [
             0.6,
             "#e6f5d0"
            ],
            [
             0.7,
             "#b8e186"
            ],
            [
             0.8,
             "#7fbc41"
            ],
            [
             0.9,
             "#4d9221"
            ],
            [
             1,
             "#276419"
            ]
           ],
           "sequential": [
            [
             0,
             "#0d0887"
            ],
            [
             0.1111111111111111,
             "#46039f"
            ],
            [
             0.2222222222222222,
             "#7201a8"
            ],
            [
             0.3333333333333333,
             "#9c179e"
            ],
            [
             0.4444444444444444,
             "#bd3786"
            ],
            [
             0.5555555555555556,
             "#d8576b"
            ],
            [
             0.6666666666666666,
             "#ed7953"
            ],
            [
             0.7777777777777778,
             "#fb9f3a"
            ],
            [
             0.8888888888888888,
             "#fdca26"
            ],
            [
             1,
             "#f0f921"
            ]
           ],
           "sequentialminus": [
            [
             0,
             "#0d0887"
            ],
            [
             0.1111111111111111,
             "#46039f"
            ],
            [
             0.2222222222222222,
             "#7201a8"
            ],
            [
             0.3333333333333333,
             "#9c179e"
            ],
            [
             0.4444444444444444,
             "#bd3786"
            ],
            [
             0.5555555555555556,
             "#d8576b"
            ],
            [
             0.6666666666666666,
             "#ed7953"
            ],
            [
             0.7777777777777778,
             "#fb9f3a"
            ],
            [
             0.8888888888888888,
             "#fdca26"
            ],
            [
             1,
             "#f0f921"
            ]
           ]
          },
          "colorway": [
           "#636efa",
           "#EF553B",
           "#00cc96",
           "#ab63fa",
           "#FFA15A",
           "#19d3f3",
           "#FF6692",
           "#B6E880",
           "#FF97FF",
           "#FECB52"
          ],
          "font": {
           "color": "#f2f5fa"
          },
          "geo": {
           "bgcolor": "rgb(17,17,17)",
           "lakecolor": "rgb(17,17,17)",
           "landcolor": "rgb(17,17,17)",
           "showlakes": true,
           "showland": true,
           "subunitcolor": "#506784"
          },
          "hoverlabel": {
           "align": "left"
          },
          "hovermode": "closest",
          "mapbox": {
           "style": "dark"
          },
          "paper_bgcolor": "rgb(17,17,17)",
          "plot_bgcolor": "rgb(17,17,17)",
          "polar": {
           "angularaxis": {
            "gridcolor": "#506784",
            "linecolor": "#506784",
            "ticks": ""
           },
           "bgcolor": "rgb(17,17,17)",
           "radialaxis": {
            "gridcolor": "#506784",
            "linecolor": "#506784",
            "ticks": ""
           }
          },
          "scene": {
           "xaxis": {
            "backgroundcolor": "rgb(17,17,17)",
            "gridcolor": "#506784",
            "gridwidth": 2,
            "linecolor": "#506784",
            "showbackground": true,
            "ticks": "",
            "zerolinecolor": "#C8D4E3"
           },
           "yaxis": {
            "backgroundcolor": "rgb(17,17,17)",
            "gridcolor": "#506784",
            "gridwidth": 2,
            "linecolor": "#506784",
            "showbackground": true,
            "ticks": "",
            "zerolinecolor": "#C8D4E3"
           },
           "zaxis": {
            "backgroundcolor": "rgb(17,17,17)",
            "gridcolor": "#506784",
            "gridwidth": 2,
            "linecolor": "#506784",
            "showbackground": true,
            "ticks": "",
            "zerolinecolor": "#C8D4E3"
           }
          },
          "shapedefaults": {
           "line": {
            "color": "#f2f5fa"
           }
          },
          "sliderdefaults": {
           "bgcolor": "#C8D4E3",
           "bordercolor": "rgb(17,17,17)",
           "borderwidth": 1,
           "tickwidth": 0
          },
          "ternary": {
           "aaxis": {
            "gridcolor": "#506784",
            "linecolor": "#506784",
            "ticks": ""
           },
           "baxis": {
            "gridcolor": "#506784",
            "linecolor": "#506784",
            "ticks": ""
           },
           "bgcolor": "rgb(17,17,17)",
           "caxis": {
            "gridcolor": "#506784",
            "linecolor": "#506784",
            "ticks": ""
           }
          },
          "title": {
           "x": 0.05
          },
          "updatemenudefaults": {
           "bgcolor": "#506784",
           "borderwidth": 0
          },
          "xaxis": {
           "automargin": true,
           "gridcolor": "#283442",
           "linecolor": "#506784",
           "ticks": "",
           "title": {
            "standoff": 15
           },
           "zerolinecolor": "#283442",
           "zerolinewidth": 2
          },
          "yaxis": {
           "automargin": true,
           "gridcolor": "#283442",
           "linecolor": "#506784",
           "ticks": "",
           "title": {
            "standoff": 15
           },
           "zerolinecolor": "#283442",
           "zerolinewidth": 2
          }
         }
        },
        "title": {
         "text": "Notebooks by Azmine Wasi Today 2022-09-07"
        },
        "xaxis": {
         "anchor": "y",
         "domain": [
          0,
          1
         ],
         "title": {
          "text": "totalViews"
         }
        },
        "yaxis": {
         "anchor": "x",
         "domain": [
          0,
          1
         ],
         "title": {
          "text": "totalVotes"
         }
        }
       }
      }
     },
     "metadata": {},
     "output_type": "display_data"
    }
   ],
   "source": [
    "import plotly.express as px\n",
    "from datetime import datetime\n",
    "\n",
    "\n",
    "df['totalComments'].fillna(0, inplace=True)\n",
    "df['medal'].fillna('N/A', inplace=True)\n",
    "#df['size'] = df['totalComments'].clip(lower=1) \n",
    "df['size'] = df['totalVotes']/df['totalViews']*100\n",
    "color_map = {\n",
    "    'GOLD': 'gold',\n",
    "    'SILVER': 'silver',\n",
    "    'BRONZE': 'chocolate',\n",
    "    'N/A': '#08ecfc',\n",
    "    'Not Found' : '#ec08fc'\n",
    "}\n",
    "fig=px.scatter(\n",
    "    df,\n",
    "    'totalViews',\n",
    "    'totalVotes',\n",
    "    title=f'Notebooks by {df.author_displayName.get(0)} Today '+str(datetime.today().strftime('%Y-%m-%d')),\n",
    "    log_x=False,\n",
    "    log_y=False,\n",
    "    #width=800, \n",
    "    height=800,\n",
    "    color='medal',\n",
    "    color_discrete_map=color_map,\n",
    "    size='size',\n",
    "    trendline='ols',\n",
    "    #symbol='title',\n",
    "    trendline_options=dict(log_x=False, log_y=False, add_constant=True),\n",
    "    #trendline='lowess', # Use for Locally Weighted Scatterplot Smoothing line\n",
    "    trendline_scope='overall', # Use this for one trendline\n",
    "    template='plotly_dark',\n",
    "    hover_name='title',\n",
    "    hover_data={\n",
    "        'size': False,\n",
    "        'totalViews': ':,.0f',\n",
    "        'totalVotes': ':,.0f',\n",
    "        'totalLines': ':,.0f',\n",
    "        'totalComments': ':,.0f',\n",
    "        'viewsPerVote': ':,.0f',\n",
    "        'languageName': True,\n",
    "        'versionNumber': True,\n",
    "        'lastRun': True,\n",
    "        'lastRunExecutionTimeSeconds': ':,.0f',\n",
    "        'medal': True,\n",
    "    })\n",
    "fig.update_layout(legend= {'itemsizing': 'constant'})\n",
    "fig.show()"
   ]
  },
  {
   "cell_type": "code",
   "execution_count": 26,
   "id": "aab79752",
   "metadata": {},
   "outputs": [],
   "source": [
    "links=[]\n",
    "for dirname, _, filenames in os.walk('./data/'):\n",
    "    for filename in filenames:\n",
    "        link=os.path.join(dirname, filename)\n",
    "        if filename.endswith(\".csv\"):\n",
    "            links.append(link)"
   ]
  },
  {
   "cell_type": "markdown",
   "id": "eb634aaa",
   "metadata": {
    "papermill": {
     "duration": 0.006682,
     "end_time": "2022-06-12T00:06:08.127181",
     "exception": false,
     "start_time": "2022-06-12T00:06:08.120499",
     "status": "completed"
    },
    "tags": []
   },
   "source": [
    "# Analysis"
   ]
  },
  {
   "cell_type": "code",
   "execution_count": 27,
   "id": "f9f5c79b",
   "metadata": {},
   "outputs": [],
   "source": [
    "dfx=pd.DataFrame()\n",
    "date_list=[]\n",
    "titles_dft=[]\n",
    "date_dft=[]\n",
    "count_dft=[]\n",
    "view_dft=[]\n",
    "\n",
    "gTotalUpvotes=[]\n",
    "gTotalViews=[]\n",
    "gTotalComments=[]\n",
    "\n",
    "\n",
    "for link in links:\n",
    "    date=link[25:35]\n",
    "    date_list.append(date)\n",
    "    temp_df=pd.read_csv(link)\n",
    "    \n",
    "    gTotalUpvotes.append(temp_df.totalVotes.sum())\n",
    "    gTotalViews.append(temp_df.totalViews.sum())\n",
    "    gTotalComments.append(temp_df.totalComments.sum())\n",
    "    \n",
    "    temp_titles=list(temp_df.title)\n",
    "    temp_totalVotes=list(temp_df.totalVotes)\n",
    "    temp_totalViews=list(temp_df.totalViews)\n",
    "    \n",
    "    for name in temp_titles:\n",
    "        titles_dft.append(name)\n",
    "        date_dft.append(date)\n",
    "        count_dft.append(temp_totalVotes[temp_titles.index(name)])\n",
    "        view_dft.append(temp_totalViews[temp_titles.index(name)])\n",
    "\n",
    "\n",
    "df_d={\"title\":titles_dft, \"date\":date_dft, \"count\":count_dft,\"view_count\":view_dft}\n",
    "df_d=pd.DataFrame(df_d)\n"
   ]
  },
  {
   "cell_type": "code",
   "execution_count": 28,
   "id": "ecb759a0",
   "metadata": {},
   "outputs": [],
   "source": [
    "medal=[]\n",
    "for i in range(len(df_d)):\n",
    "    try:\n",
    "        medal.append(medal_data[df_d['title'][i]]['medal'])\n",
    "    except:\n",
    "        medal.append(\"Not Found\")\n",
    "df_d['medal']=medal"
   ]
  },
  {
   "cell_type": "code",
   "execution_count": 29,
   "id": "ba6112e9",
   "metadata": {},
   "outputs": [
    {
     "data": {
      "application/vnd.plotly.v1+json": {
       "config": {
        "plotlyServerURL": "https://plot.ly"
       },
       "data": [
        {
         "hovertemplate": "<b>%{hovertext}</b><br><br>medal=GOLD<br>title=UCL ⚽ EDA & Viz ⭐ 2021-22 ⭐ Players & Teams<br>date=%{x}<br>count=%{y}<extra></extra>",
         "hovertext": [
          "UCL ⚽ EDA & Viz ⭐ 2021-22 ⭐ Players & Teams",
          "UCL ⚽ EDA & Viz ⭐ 2021-22 ⭐ Players & Teams",
          "UCL ⚽ EDA & Viz ⭐ 2021-22 ⭐ Players & Teams",
          "UCL ⚽ EDA & Viz ⭐ 2021-22 ⭐ Players & Teams",
          "UCL ⚽ EDA & Viz ⭐ 2021-22 ⭐ Players & Teams",
          "UCL ⚽ EDA & Viz ⭐ 2021-22 ⭐ Players & Teams",
          "UCL ⚽ EDA & Viz ⭐ 2021-22 ⭐ Players & Teams",
          "UCL ⚽ EDA & Viz ⭐ 2021-22 ⭐ Players & Teams",
          "UCL ⚽ EDA & Viz ⭐ 2021-22 ⭐ Players & Teams",
          "UCL ⚽ EDA & Viz ⭐ 2021-22 ⭐ Players & Teams",
          "UCL ⚽ EDA & Viz ⭐ 2021-22 ⭐ Players & Teams",
          "UCL ⚽ EDA & Viz ⭐ 2021-22 ⭐ Players & Teams",
          "UCL ⚽ EDA & Viz ⭐ 2021-22 ⭐ Players & Teams",
          "UCL ⚽ EDA & Viz ⭐ 2021-22 ⭐ Players & Teams",
          "UCL ⚽ EDA & Viz ⭐ 2021-22 ⭐ Players & Teams",
          "UCL ⚽ EDA & Viz ⭐ 2021-22 ⭐ Players & Teams",
          "UCL ⚽ EDA & Viz ⭐ 2021-22 ⭐ Players & Teams",
          "UCL ⚽ EDA & Viz ⭐ 2021-22 ⭐ Players & Teams",
          "UCL ⚽ EDA & Viz ⭐ 2021-22 ⭐ Players & Teams",
          "UCL ⚽ EDA & Viz ⭐ 2021-22 ⭐ Players & Teams",
          "UCL ⚽ EDA & Viz ⭐ 2021-22 ⭐ Players & Teams",
          "UCL ⚽ EDA & Viz ⭐ 2021-22 ⭐ Players & Teams",
          "UCL ⚽ EDA & Viz ⭐ 2021-22 ⭐ Players & Teams",
          "UCL ⚽ EDA & Viz ⭐ 2021-22 ⭐ Players & Teams",
          "UCL ⚽ EDA & Viz ⭐ 2021-22 ⭐ Players & Teams",
          "UCL ⚽ EDA & Viz ⭐ 2021-22 ⭐ Players & Teams",
          "UCL ⚽ EDA & Viz ⭐ 2021-22 ⭐ Players & Teams",
          "UCL ⚽ EDA & Viz ⭐ 2021-22 ⭐ Players & Teams",
          "UCL ⚽ EDA & Viz ⭐ 2021-22 ⭐ Players & Teams",
          "UCL ⚽ EDA & Viz ⭐ 2021-22 ⭐ Players & Teams",
          "UCL ⚽ EDA & Viz ⭐ 2021-22 ⭐ Players & Teams",
          "UCL ⚽ EDA & Viz ⭐ 2021-22 ⭐ Players & Teams",
          "UCL ⚽ EDA & Viz ⭐ 2021-22 ⭐ Players & Teams",
          "UCL ⚽ EDA & Viz ⭐ 2021-22 ⭐ Players & Teams",
          "UCL ⚽ EDA & Viz ⭐ 2021-22 ⭐ Players & Teams",
          "UCL ⚽ EDA & Viz ⭐ 2021-22 ⭐ Players & Teams",
          "UCL ⚽ EDA & Viz ⭐ 2021-22 ⭐ Players & Teams",
          "UCL ⚽ EDA & Viz ⭐ 2021-22 ⭐ Players & Teams",
          "UCL ⚽ EDA & Viz ⭐ 2021-22 ⭐ Players & Teams",
          "UCL ⚽ EDA & Viz ⭐ 2021-22 ⭐ Players & Teams",
          "UCL ⚽ EDA & Viz ⭐ 2021-22 ⭐ Players & Teams",
          "UCL ⚽ EDA & Viz ⭐ 2021-22 ⭐ Players & Teams",
          "UCL ⚽ EDA & Viz ⭐ 2021-22 ⭐ Players & Teams",
          "UCL ⚽ EDA & Viz ⭐ 2021-22 ⭐ Players & Teams",
          "UCL ⚽ EDA & Viz ⭐ 2021-22 ⭐ Players & Teams",
          "UCL ⚽ EDA & Viz ⭐ 2021-22 ⭐ Players & Teams",
          "UCL ⚽ EDA & Viz ⭐ 2021-22 ⭐ Players & Teams",
          "UCL ⚽ EDA & Viz ⭐ 2021-22 ⭐ Players & Teams",
          "UCL ⚽ EDA & Viz ⭐ 2021-22 ⭐ Players & Teams",
          "UCL ⚽ EDA & Viz ⭐ 2021-22 ⭐ Players & Teams",
          "UCL ⚽ EDA & Viz ⭐ 2021-22 ⭐ Players & Teams",
          "UCL ⚽ EDA & Viz ⭐ 2021-22 ⭐ Players & Teams",
          "UCL ⚽ EDA & Viz ⭐ 2021-22 ⭐ Players & Teams",
          "UCL ⚽ EDA & Viz ⭐ 2021-22 ⭐ Players & Teams",
          "UCL ⚽ EDA & Viz ⭐ 2021-22 ⭐ Players & Teams",
          "UCL ⚽ EDA & Viz ⭐ 2021-22 ⭐ Players & Teams",
          "UCL ⚽ EDA & Viz ⭐ 2021-22 ⭐ Players & Teams",
          "UCL ⚽ EDA & Viz ⭐ 2021-22 ⭐ Players & Teams",
          "UCL ⚽ EDA & Viz ⭐ 2021-22 ⭐ Players & Teams",
          "UCL ⚽ EDA & Viz ⭐ 2021-22 ⭐ Players & Teams",
          "UCL ⚽ EDA & Viz ⭐ 2021-22 ⭐ Players & Teams",
          "UCL ⚽ EDA & Viz ⭐ 2021-22 ⭐ Players & Teams",
          "UCL ⚽ EDA & Viz ⭐ 2021-22 ⭐ Players & Teams",
          "UCL ⚽ EDA & Viz ⭐ 2021-22 ⭐ Players & Teams",
          "UCL ⚽ EDA & Viz ⭐ 2021-22 ⭐ Players & Teams",
          "UCL ⚽ EDA & Viz ⭐ 2021-22 ⭐ Players & Teams"
         ],
         "legendgroup": "GOLD",
         "line": {
          "color": "gold",
          "dash": "solid"
         },
         "marker": {
          "symbol": "circle"
         },
         "mode": "lines",
         "name": "GOLD",
         "orientation": "v",
         "showlegend": true,
         "type": "scatter",
         "x": [
          "2022-06-12",
          "2022-06-13",
          "2022-06-14",
          "2022-06-15",
          "2022-06-16",
          "2022-06-17",
          "2022-06-18",
          "2022-06-19",
          "2022-06-20",
          "2022-06-21",
          "2022-06-22",
          "2022-06-25",
          "2022-06-26",
          "2022-06-28",
          "2022-06-29",
          "2022-07-01",
          "2022-07-02",
          "2022-07-03",
          "2022-07-04",
          "2022-07-05",
          "2022-07-06",
          "2022-07-07",
          "2022-07-11",
          "2022-07-12",
          "2022-07-14",
          "2022-07-15",
          "2022-07-17",
          "2022-07-18",
          "2022-07-21",
          "2022-07-22",
          "2022-07-23",
          "2022-07-24",
          "2022-07-25",
          "2022-07-26",
          "2022-07-29",
          "2022-07-30",
          "2022-07-31",
          "2022-08-01",
          "2022-08-03",
          "2022-08-05",
          "2022-08-06",
          "2022-08-08",
          "2022-08-10",
          "2022-08-12",
          "2022-08-14",
          "2022-08-16",
          "2022-08-17",
          "2022-08-18",
          "2022-08-19",
          "2022-08-20",
          "2022-08-21",
          "2022-08-22",
          "2022-08-23",
          "2022-08-24",
          "2022-08-25",
          "2022-08-26",
          "2022-08-27",
          "2022-08-28",
          "2022-08-29",
          "2022-08-30",
          "2022-08-31",
          "2022-09-03",
          "2022-09-04",
          "2022-09-05",
          "2022-09-06",
          "2022-09-07"
         ],
         "xaxis": "x",
         "y": [
          14,
          17,
          17,
          20,
          23,
          26,
          30,
          30,
          34,
          35,
          35,
          35,
          36,
          37,
          37,
          39,
          39,
          39,
          39,
          40,
          41,
          41,
          47,
          48,
          51,
          52,
          54,
          56,
          59,
          59,
          60,
          62,
          62,
          62,
          62,
          65,
          65,
          67,
          67,
          68,
          69,
          69,
          70,
          71,
          71,
          73,
          74,
          74,
          74,
          74,
          74,
          74,
          75,
          75,
          75,
          75,
          75,
          75,
          76,
          76,
          76,
          75,
          75,
          76,
          77,
          77
         ],
         "yaxis": "y"
        },
        {
         "hovertemplate": "<b>%{hovertext}</b><br><br>medal=GOLD<br>title=Divorce Prediction & Reasons : XGB,SHAP,RFE,TSNE<br>date=%{x}<br>count=%{y}<extra></extra>",
         "hovertext": [
          "Divorce Prediction & Reasons : XGB,SHAP,RFE,TSNE",
          "Divorce Prediction & Reasons : XGB,SHAP,RFE,TSNE",
          "Divorce Prediction & Reasons : XGB,SHAP,RFE,TSNE",
          "Divorce Prediction & Reasons : XGB,SHAP,RFE,TSNE",
          "Divorce Prediction & Reasons : XGB,SHAP,RFE,TSNE",
          "Divorce Prediction & Reasons : XGB,SHAP,RFE,TSNE",
          "Divorce Prediction & Reasons : XGB,SHAP,RFE,TSNE",
          "Divorce Prediction & Reasons : XGB,SHAP,RFE,TSNE",
          "Divorce Prediction & Reasons : XGB,SHAP,RFE,TSNE",
          "Divorce Prediction & Reasons : XGB,SHAP,RFE,TSNE",
          "Divorce Prediction & Reasons : XGB,SHAP,RFE,TSNE",
          "Divorce Prediction & Reasons : XGB,SHAP,RFE,TSNE",
          "Divorce Prediction & Reasons : XGB,SHAP,RFE,TSNE",
          "Divorce Prediction & Reasons : XGB,SHAP,RFE,TSNE",
          "Divorce Prediction & Reasons : XGB,SHAP,RFE,TSNE",
          "Divorce Prediction & Reasons : XGB,SHAP,RFE,TSNE",
          "Divorce Prediction & Reasons : XGB,SHAP,RFE,TSNE",
          "Divorce Prediction & Reasons : XGB,SHAP,RFE,TSNE",
          "Divorce Prediction & Reasons : XGB,SHAP,RFE,TSNE",
          "Divorce Prediction & Reasons : XGB,SHAP,RFE,TSNE",
          "Divorce Prediction & Reasons : XGB,SHAP,RFE,TSNE",
          "Divorce Prediction & Reasons : XGB,SHAP,RFE,TSNE",
          "Divorce Prediction & Reasons : XGB,SHAP,RFE,TSNE",
          "Divorce Prediction & Reasons : XGB,SHAP,RFE,TSNE",
          "Divorce Prediction & Reasons : XGB,SHAP,RFE,TSNE",
          "Divorce Prediction & Reasons : XGB,SHAP,RFE,TSNE",
          "Divorce Prediction & Reasons : XGB,SHAP,RFE,TSNE",
          "Divorce Prediction & Reasons : XGB,SHAP,RFE,TSNE",
          "Divorce Prediction & Reasons : XGB,SHAP,RFE,TSNE",
          "Divorce Prediction & Reasons : XGB,SHAP,RFE,TSNE",
          "Divorce Prediction & Reasons : XGB,SHAP,RFE,TSNE",
          "Divorce Prediction & Reasons : XGB,SHAP,RFE,TSNE",
          "Divorce Prediction & Reasons : XGB,SHAP,RFE,TSNE",
          "Divorce Prediction & Reasons : XGB,SHAP,RFE,TSNE",
          "Divorce Prediction & Reasons : XGB,SHAP,RFE,TSNE",
          "Divorce Prediction & Reasons : XGB,SHAP,RFE,TSNE",
          "Divorce Prediction & Reasons : XGB,SHAP,RFE,TSNE",
          "Divorce Prediction & Reasons : XGB,SHAP,RFE,TSNE",
          "Divorce Prediction & Reasons : XGB,SHAP,RFE,TSNE",
          "Divorce Prediction & Reasons : XGB,SHAP,RFE,TSNE",
          "Divorce Prediction & Reasons : XGB,SHAP,RFE,TSNE",
          "Divorce Prediction & Reasons : XGB,SHAP,RFE,TSNE",
          "Divorce Prediction & Reasons : XGB,SHAP,RFE,TSNE",
          "Divorce Prediction & Reasons : XGB,SHAP,RFE,TSNE",
          "Divorce Prediction & Reasons : XGB,SHAP,RFE,TSNE",
          "Divorce Prediction & Reasons : XGB,SHAP,RFE,TSNE",
          "Divorce Prediction & Reasons : XGB,SHAP,RFE,TSNE",
          "Divorce Prediction & Reasons : XGB,SHAP,RFE,TSNE",
          "Divorce Prediction & Reasons : XGB,SHAP,RFE,TSNE",
          "Divorce Prediction & Reasons : XGB,SHAP,RFE,TSNE",
          "Divorce Prediction & Reasons : XGB,SHAP,RFE,TSNE",
          "Divorce Prediction & Reasons : XGB,SHAP,RFE,TSNE",
          "Divorce Prediction & Reasons : XGB,SHAP,RFE,TSNE",
          "Divorce Prediction & Reasons : XGB,SHAP,RFE,TSNE",
          "Divorce Prediction & Reasons : XGB,SHAP,RFE,TSNE",
          "Divorce Prediction & Reasons : XGB,SHAP,RFE,TSNE",
          "Divorce Prediction & Reasons : XGB,SHAP,RFE,TSNE",
          "Divorce Prediction & Reasons : XGB,SHAP,RFE,TSNE",
          "Divorce Prediction & Reasons : XGB,SHAP,RFE,TSNE",
          "Divorce Prediction & Reasons : XGB,SHAP,RFE,TSNE",
          "Divorce Prediction & Reasons : XGB,SHAP,RFE,TSNE",
          "Divorce Prediction & Reasons : XGB,SHAP,RFE,TSNE",
          "Divorce Prediction & Reasons : XGB,SHAP,RFE,TSNE",
          "Divorce Prediction & Reasons : XGB,SHAP,RFE,TSNE",
          "Divorce Prediction & Reasons : XGB,SHAP,RFE,TSNE",
          "Divorce Prediction & Reasons : XGB,SHAP,RFE,TSNE"
         ],
         "legendgroup": "GOLD",
         "line": {
          "color": "gold",
          "dash": "solid"
         },
         "marker": {
          "symbol": "circle"
         },
         "mode": "lines",
         "name": "GOLD",
         "orientation": "v",
         "showlegend": false,
         "type": "scatter",
         "x": [
          "2022-06-12",
          "2022-06-13",
          "2022-06-14",
          "2022-06-15",
          "2022-06-16",
          "2022-06-17",
          "2022-06-18",
          "2022-06-19",
          "2022-06-20",
          "2022-06-21",
          "2022-06-22",
          "2022-06-25",
          "2022-06-26",
          "2022-06-28",
          "2022-06-29",
          "2022-07-01",
          "2022-07-02",
          "2022-07-03",
          "2022-07-04",
          "2022-07-05",
          "2022-07-06",
          "2022-07-07",
          "2022-07-11",
          "2022-07-12",
          "2022-07-14",
          "2022-07-15",
          "2022-07-17",
          "2022-07-18",
          "2022-07-21",
          "2022-07-22",
          "2022-07-23",
          "2022-07-24",
          "2022-07-25",
          "2022-07-26",
          "2022-07-29",
          "2022-07-30",
          "2022-07-31",
          "2022-08-01",
          "2022-08-03",
          "2022-08-05",
          "2022-08-06",
          "2022-08-08",
          "2022-08-10",
          "2022-08-12",
          "2022-08-14",
          "2022-08-16",
          "2022-08-17",
          "2022-08-18",
          "2022-08-19",
          "2022-08-20",
          "2022-08-21",
          "2022-08-22",
          "2022-08-23",
          "2022-08-24",
          "2022-08-25",
          "2022-08-26",
          "2022-08-27",
          "2022-08-28",
          "2022-08-29",
          "2022-08-30",
          "2022-08-31",
          "2022-09-03",
          "2022-09-04",
          "2022-09-05",
          "2022-09-06",
          "2022-09-07"
         ],
         "xaxis": "x",
         "y": [
          26,
          31,
          31,
          31,
          32,
          33,
          33,
          33,
          33,
          33,
          33,
          33,
          33,
          33,
          33,
          34,
          34,
          34,
          34,
          37,
          40,
          40,
          42,
          47,
          50,
          51,
          53,
          55,
          55,
          56,
          56,
          58,
          58,
          57,
          57,
          57,
          57,
          57,
          57,
          57,
          58,
          58,
          59,
          60,
          60,
          62,
          62,
          62,
          62,
          62,
          62,
          62,
          63,
          63,
          63,
          63,
          63,
          63,
          64,
          64,
          64,
          63,
          63,
          64,
          64,
          64
         ],
         "yaxis": "y"
        },
        {
         "hovertemplate": "<b>%{hovertext}</b><br><br>medal=GOLD<br>title=Advanced Feature Engineering for Classification<br>date=%{x}<br>count=%{y}<extra></extra>",
         "hovertext": [
          "Advanced Feature Engineering for Classification",
          "Advanced Feature Engineering for Classification",
          "Advanced Feature Engineering for Classification",
          "Advanced Feature Engineering for Classification",
          "Advanced Feature Engineering for Classification",
          "Advanced Feature Engineering for Classification",
          "Advanced Feature Engineering for Classification",
          "Advanced Feature Engineering for Classification",
          "Advanced Feature Engineering for Classification",
          "Advanced Feature Engineering for Classification",
          "Advanced Feature Engineering for Classification",
          "Advanced Feature Engineering for Classification",
          "Advanced Feature Engineering for Classification",
          "Advanced Feature Engineering for Classification",
          "Advanced Feature Engineering for Classification",
          "Advanced Feature Engineering for Classification",
          "Advanced Feature Engineering for Classification",
          "Advanced Feature Engineering for Classification",
          "Advanced Feature Engineering for Classification",
          "Advanced Feature Engineering for Classification",
          "Advanced Feature Engineering for Classification",
          "Advanced Feature Engineering for Classification",
          "Advanced Feature Engineering for Classification",
          "Advanced Feature Engineering for Classification",
          "Advanced Feature Engineering for Classification",
          "Advanced Feature Engineering for Classification",
          "Advanced Feature Engineering for Classification",
          "Advanced Feature Engineering for Classification",
          "Advanced Feature Engineering for Classification",
          "Advanced Feature Engineering for Classification",
          "Advanced Feature Engineering for Classification",
          "Advanced Feature Engineering for Classification",
          "Advanced Feature Engineering for Classification",
          "Advanced Feature Engineering for Classification",
          "Advanced Feature Engineering for Classification",
          "Advanced Feature Engineering for Classification",
          "Advanced Feature Engineering for Classification",
          "Advanced Feature Engineering for Classification",
          "Advanced Feature Engineering for Classification",
          "Advanced Feature Engineering for Classification",
          "Advanced Feature Engineering for Classification",
          "Advanced Feature Engineering for Classification",
          "Advanced Feature Engineering for Classification",
          "Advanced Feature Engineering for Classification",
          "Advanced Feature Engineering for Classification",
          "Advanced Feature Engineering for Classification",
          "Advanced Feature Engineering for Classification",
          "Advanced Feature Engineering for Classification",
          "Advanced Feature Engineering for Classification",
          "Advanced Feature Engineering for Classification",
          "Advanced Feature Engineering for Classification",
          "Advanced Feature Engineering for Classification",
          "Advanced Feature Engineering for Classification",
          "Advanced Feature Engineering for Classification",
          "Advanced Feature Engineering for Classification",
          "Advanced Feature Engineering for Classification",
          "Advanced Feature Engineering for Classification",
          "Advanced Feature Engineering for Classification",
          "Advanced Feature Engineering for Classification",
          "Advanced Feature Engineering for Classification",
          "Advanced Feature Engineering for Classification",
          "Advanced Feature Engineering for Classification",
          "Advanced Feature Engineering for Classification",
          "Advanced Feature Engineering for Classification",
          "Advanced Feature Engineering for Classification",
          "Advanced Feature Engineering for Classification"
         ],
         "legendgroup": "GOLD",
         "line": {
          "color": "gold",
          "dash": "solid"
         },
         "marker": {
          "symbol": "circle"
         },
         "mode": "lines",
         "name": "GOLD",
         "orientation": "v",
         "showlegend": false,
         "type": "scatter",
         "x": [
          "2022-06-12",
          "2022-06-13",
          "2022-06-14",
          "2022-06-15",
          "2022-06-16",
          "2022-06-17",
          "2022-06-18",
          "2022-06-19",
          "2022-06-20",
          "2022-06-21",
          "2022-06-22",
          "2022-06-25",
          "2022-06-26",
          "2022-06-28",
          "2022-06-29",
          "2022-07-01",
          "2022-07-02",
          "2022-07-03",
          "2022-07-04",
          "2022-07-05",
          "2022-07-06",
          "2022-07-07",
          "2022-07-11",
          "2022-07-12",
          "2022-07-14",
          "2022-07-15",
          "2022-07-17",
          "2022-07-18",
          "2022-07-21",
          "2022-07-22",
          "2022-07-23",
          "2022-07-24",
          "2022-07-25",
          "2022-07-26",
          "2022-07-29",
          "2022-07-30",
          "2022-07-31",
          "2022-08-01",
          "2022-08-03",
          "2022-08-05",
          "2022-08-06",
          "2022-08-08",
          "2022-08-10",
          "2022-08-12",
          "2022-08-14",
          "2022-08-16",
          "2022-08-17",
          "2022-08-18",
          "2022-08-19",
          "2022-08-20",
          "2022-08-21",
          "2022-08-22",
          "2022-08-23",
          "2022-08-24",
          "2022-08-25",
          "2022-08-26",
          "2022-08-27",
          "2022-08-28",
          "2022-08-29",
          "2022-08-30",
          "2022-08-31",
          "2022-09-03",
          "2022-09-04",
          "2022-09-05",
          "2022-09-06",
          "2022-09-07"
         ],
         "xaxis": "x",
         "y": [
          36,
          36,
          36,
          36,
          36,
          36,
          36,
          36,
          36,
          36,
          36,
          37,
          37,
          37,
          37,
          38,
          38,
          38,
          38,
          39,
          40,
          40,
          41,
          41,
          41,
          42,
          43,
          44,
          47,
          47,
          47,
          49,
          49,
          49,
          49,
          49,
          49,
          51,
          52,
          59,
          61,
          64,
          67,
          69,
          70,
          72,
          72,
          72,
          72,
          72,
          72,
          72,
          72,
          72,
          73,
          73,
          73,
          73,
          74,
          74,
          74,
          76,
          76,
          77,
          77,
          77
         ],
         "yaxis": "y"
        },
        {
         "hovertemplate": "<b>%{hovertext}</b><br><br>medal=GOLD<br>title=All Imputation Techniques with Pros and Cons<br>date=%{x}<br>count=%{y}<extra></extra>",
         "hovertext": [
          "All Imputation Techniques with Pros and Cons",
          "All Imputation Techniques with Pros and Cons",
          "All Imputation Techniques with Pros and Cons",
          "All Imputation Techniques with Pros and Cons",
          "All Imputation Techniques with Pros and Cons",
          "All Imputation Techniques with Pros and Cons",
          "All Imputation Techniques with Pros and Cons",
          "All Imputation Techniques with Pros and Cons",
          "All Imputation Techniques with Pros and Cons",
          "All Imputation Techniques with Pros and Cons",
          "All Imputation Techniques with Pros and Cons",
          "All Imputation Techniques with Pros and Cons",
          "All Imputation Techniques with Pros and Cons",
          "All Imputation Techniques with Pros and Cons",
          "All Imputation Techniques with Pros and Cons",
          "All Imputation Techniques with Pros and Cons",
          "All Imputation Techniques with Pros and Cons",
          "All Imputation Techniques with Pros and Cons",
          "All Imputation Techniques with Pros and Cons",
          "All Imputation Techniques with Pros and Cons",
          "All Imputation Techniques with Pros and Cons",
          "All Imputation Techniques with Pros and Cons",
          "All Imputation Techniques with Pros and Cons",
          "All Imputation Techniques with Pros and Cons",
          "All Imputation Techniques with Pros and Cons",
          "All Imputation Techniques with Pros and Cons",
          "All Imputation Techniques with Pros and Cons",
          "All Imputation Techniques with Pros and Cons",
          "All Imputation Techniques with Pros and Cons",
          "All Imputation Techniques with Pros and Cons",
          "All Imputation Techniques with Pros and Cons",
          "All Imputation Techniques with Pros and Cons",
          "All Imputation Techniques with Pros and Cons",
          "All Imputation Techniques with Pros and Cons",
          "All Imputation Techniques with Pros and Cons",
          "All Imputation Techniques with Pros and Cons",
          "All Imputation Techniques with Pros and Cons",
          "All Imputation Techniques with Pros and Cons",
          "All Imputation Techniques with Pros and Cons",
          "All Imputation Techniques with Pros and Cons",
          "All Imputation Techniques with Pros and Cons",
          "All Imputation Techniques with Pros and Cons",
          "All Imputation Techniques with Pros and Cons",
          "All Imputation Techniques with Pros and Cons",
          "All Imputation Techniques with Pros and Cons",
          "All Imputation Techniques with Pros and Cons",
          "All Imputation Techniques with Pros and Cons",
          "All Imputation Techniques with Pros and Cons",
          "All Imputation Techniques with Pros and Cons",
          "All Imputation Techniques with Pros and Cons",
          "All Imputation Techniques with Pros and Cons",
          "All Imputation Techniques with Pros and Cons",
          "All Imputation Techniques with Pros and Cons",
          "All Imputation Techniques with Pros and Cons",
          "All Imputation Techniques with Pros and Cons",
          "All Imputation Techniques with Pros and Cons",
          "All Imputation Techniques with Pros and Cons",
          "All Imputation Techniques with Pros and Cons",
          "All Imputation Techniques with Pros and Cons",
          "All Imputation Techniques with Pros and Cons",
          "All Imputation Techniques with Pros and Cons",
          "All Imputation Techniques with Pros and Cons",
          "All Imputation Techniques with Pros and Cons",
          "All Imputation Techniques with Pros and Cons",
          "All Imputation Techniques with Pros and Cons",
          "All Imputation Techniques with Pros and Cons"
         ],
         "legendgroup": "GOLD",
         "line": {
          "color": "gold",
          "dash": "solid"
         },
         "marker": {
          "symbol": "circle"
         },
         "mode": "lines",
         "name": "GOLD",
         "orientation": "v",
         "showlegend": false,
         "type": "scatter",
         "x": [
          "2022-06-12",
          "2022-06-13",
          "2022-06-14",
          "2022-06-15",
          "2022-06-16",
          "2022-06-17",
          "2022-06-18",
          "2022-06-19",
          "2022-06-20",
          "2022-06-21",
          "2022-06-22",
          "2022-06-25",
          "2022-06-26",
          "2022-06-28",
          "2022-06-29",
          "2022-07-01",
          "2022-07-02",
          "2022-07-03",
          "2022-07-04",
          "2022-07-05",
          "2022-07-06",
          "2022-07-07",
          "2022-07-11",
          "2022-07-12",
          "2022-07-14",
          "2022-07-15",
          "2022-07-17",
          "2022-07-18",
          "2022-07-21",
          "2022-07-22",
          "2022-07-23",
          "2022-07-24",
          "2022-07-25",
          "2022-07-26",
          "2022-07-29",
          "2022-07-30",
          "2022-07-31",
          "2022-08-01",
          "2022-08-03",
          "2022-08-05",
          "2022-08-06",
          "2022-08-08",
          "2022-08-10",
          "2022-08-12",
          "2022-08-14",
          "2022-08-16",
          "2022-08-17",
          "2022-08-18",
          "2022-08-19",
          "2022-08-20",
          "2022-08-21",
          "2022-08-22",
          "2022-08-23",
          "2022-08-24",
          "2022-08-25",
          "2022-08-26",
          "2022-08-27",
          "2022-08-28",
          "2022-08-29",
          "2022-08-30",
          "2022-08-31",
          "2022-09-03",
          "2022-09-04",
          "2022-09-05",
          "2022-09-06",
          "2022-09-07"
         ],
         "xaxis": "x",
         "y": [
          46,
          48,
          70,
          83,
          88,
          93,
          97,
          101,
          103,
          107,
          112,
          117,
          121,
          126,
          132,
          135,
          135,
          136,
          136,
          139,
          140,
          140,
          144,
          144,
          144,
          144,
          148,
          150,
          152,
          153,
          155,
          157,
          159,
          161,
          162,
          162,
          164,
          165,
          165,
          167,
          168,
          169,
          173,
          175,
          178,
          182,
          184,
          187,
          187,
          187,
          187,
          187,
          188,
          188,
          189,
          190,
          189,
          189,
          190,
          191,
          191,
          193,
          193,
          195,
          195,
          195
         ],
         "yaxis": "y"
        },
        {
         "hovertemplate": "<b>%{hovertext}</b><br><br>medal=GOLD<br>title=Mastering Bias-Variance Tradeoff <br>date=%{x}<br>count=%{y}<extra></extra>",
         "hovertext": [
          "Mastering Bias-Variance Tradeoff ",
          "Mastering Bias-Variance Tradeoff ",
          "Mastering Bias-Variance Tradeoff ",
          "Mastering Bias-Variance Tradeoff ",
          "Mastering Bias-Variance Tradeoff ",
          "Mastering Bias-Variance Tradeoff ",
          "Mastering Bias-Variance Tradeoff ",
          "Mastering Bias-Variance Tradeoff ",
          "Mastering Bias-Variance Tradeoff ",
          "Mastering Bias-Variance Tradeoff ",
          "Mastering Bias-Variance Tradeoff ",
          "Mastering Bias-Variance Tradeoff ",
          "Mastering Bias-Variance Tradeoff ",
          "Mastering Bias-Variance Tradeoff ",
          "Mastering Bias-Variance Tradeoff ",
          "Mastering Bias-Variance Tradeoff ",
          "Mastering Bias-Variance Tradeoff ",
          "Mastering Bias-Variance Tradeoff ",
          "Mastering Bias-Variance Tradeoff ",
          "Mastering Bias-Variance Tradeoff ",
          "Mastering Bias-Variance Tradeoff ",
          "Mastering Bias-Variance Tradeoff ",
          "Mastering Bias-Variance Tradeoff ",
          "Mastering Bias-Variance Tradeoff ",
          "Mastering Bias-Variance Tradeoff ",
          "Mastering Bias-Variance Tradeoff ",
          "Mastering Bias-Variance Tradeoff ",
          "Mastering Bias-Variance Tradeoff ",
          "Mastering Bias-Variance Tradeoff ",
          "Mastering Bias-Variance Tradeoff ",
          "Mastering Bias-Variance Tradeoff ",
          "Mastering Bias-Variance Tradeoff ",
          "Mastering Bias-Variance Tradeoff ",
          "Mastering Bias-Variance Tradeoff ",
          "Mastering Bias-Variance Tradeoff ",
          "Mastering Bias-Variance Tradeoff ",
          "Mastering Bias-Variance Tradeoff ",
          "Mastering Bias-Variance Tradeoff ",
          "Mastering Bias-Variance Tradeoff ",
          "Mastering Bias-Variance Tradeoff ",
          "Mastering Bias-Variance Tradeoff ",
          "Mastering Bias-Variance Tradeoff ",
          "Mastering Bias-Variance Tradeoff ",
          "Mastering Bias-Variance Tradeoff ",
          "Mastering Bias-Variance Tradeoff ",
          "Mastering Bias-Variance Tradeoff ",
          "Mastering Bias-Variance Tradeoff ",
          "Mastering Bias-Variance Tradeoff ",
          "Mastering Bias-Variance Tradeoff ",
          "Mastering Bias-Variance Tradeoff ",
          "Mastering Bias-Variance Tradeoff ",
          "Mastering Bias-Variance Tradeoff ",
          "Mastering Bias-Variance Tradeoff ",
          "Mastering Bias-Variance Tradeoff ",
          "Mastering Bias-Variance Tradeoff ",
          "Mastering Bias-Variance Tradeoff ",
          "Mastering Bias-Variance Tradeoff ",
          "Mastering Bias-Variance Tradeoff ",
          "Mastering Bias-Variance Tradeoff ",
          "Mastering Bias-Variance Tradeoff ",
          "Mastering Bias-Variance Tradeoff ",
          "Mastering Bias-Variance Tradeoff ",
          "Mastering Bias-Variance Tradeoff ",
          "Mastering Bias-Variance Tradeoff ",
          "Mastering Bias-Variance Tradeoff ",
          "Mastering Bias-Variance Tradeoff "
         ],
         "legendgroup": "GOLD",
         "line": {
          "color": "gold",
          "dash": "solid"
         },
         "marker": {
          "symbol": "circle"
         },
         "mode": "lines",
         "name": "GOLD",
         "orientation": "v",
         "showlegend": false,
         "type": "scatter",
         "x": [
          "2022-06-12",
          "2022-06-13",
          "2022-06-14",
          "2022-06-15",
          "2022-06-16",
          "2022-06-17",
          "2022-06-18",
          "2022-06-19",
          "2022-06-20",
          "2022-06-21",
          "2022-06-22",
          "2022-06-25",
          "2022-06-26",
          "2022-06-28",
          "2022-06-29",
          "2022-07-01",
          "2022-07-02",
          "2022-07-03",
          "2022-07-04",
          "2022-07-05",
          "2022-07-06",
          "2022-07-07",
          "2022-07-11",
          "2022-07-12",
          "2022-07-14",
          "2022-07-15",
          "2022-07-17",
          "2022-07-18",
          "2022-07-21",
          "2022-07-22",
          "2022-07-23",
          "2022-07-24",
          "2022-07-25",
          "2022-07-26",
          "2022-07-29",
          "2022-07-30",
          "2022-07-31",
          "2022-08-01",
          "2022-08-03",
          "2022-08-05",
          "2022-08-06",
          "2022-08-08",
          "2022-08-10",
          "2022-08-12",
          "2022-08-14",
          "2022-08-16",
          "2022-08-17",
          "2022-08-18",
          "2022-08-19",
          "2022-08-20",
          "2022-08-21",
          "2022-08-22",
          "2022-08-23",
          "2022-08-24",
          "2022-08-25",
          "2022-08-26",
          "2022-08-27",
          "2022-08-28",
          "2022-08-29",
          "2022-08-30",
          "2022-08-31",
          "2022-09-03",
          "2022-09-04",
          "2022-09-05",
          "2022-09-06",
          "2022-09-07"
         ],
         "xaxis": "x",
         "y": [
          27,
          27,
          27,
          28,
          28,
          28,
          28,
          28,
          28,
          28,
          28,
          29,
          29,
          29,
          29,
          30,
          30,
          30,
          30,
          32,
          32,
          35,
          39,
          39,
          43,
          45,
          51,
          53,
          62,
          64,
          64,
          69,
          71,
          71,
          79,
          80,
          82,
          83,
          84,
          86,
          88,
          88,
          91,
          93,
          95,
          99,
          100,
          103,
          103,
          105,
          105,
          107,
          107,
          107,
          109,
          109,
          110,
          110,
          111,
          111,
          111,
          110,
          110,
          113,
          114,
          114
         ],
         "yaxis": "y"
        },
        {
         "hovertemplate": "<b>%{hovertext}</b><br><br>medal=GOLD<br>title=▶️ Lionel Messi 📊 Extended EDA ⚽ Goals <br>date=%{x}<br>count=%{y}<extra></extra>",
         "hovertext": [
          "▶️ Lionel Messi 📊 Extended EDA ⚽ Goals ",
          "▶️ Lionel Messi 📊 Extended EDA ⚽ Goals ",
          "▶️ Lionel Messi 📊 Extended EDA ⚽ Goals ",
          "▶️ Lionel Messi 📊 Extended EDA ⚽ Goals ",
          "▶️ Lionel Messi 📊 Extended EDA ⚽ Goals ",
          "▶️ Lionel Messi 📊 Extended EDA ⚽ Goals ",
          "▶️ Lionel Messi 📊 Extended EDA ⚽ Goals ",
          "▶️ Lionel Messi 📊 Extended EDA ⚽ Goals ",
          "▶️ Lionel Messi 📊 Extended EDA ⚽ Goals ",
          "▶️ Lionel Messi 📊 Extended EDA ⚽ Goals ",
          "▶️ Lionel Messi 📊 Extended EDA ⚽ Goals ",
          "▶️ Lionel Messi 📊 Extended EDA ⚽ Goals ",
          "▶️ Lionel Messi 📊 Extended EDA ⚽ Goals ",
          "▶️ Lionel Messi 📊 Extended EDA ⚽ Goals ",
          "▶️ Lionel Messi 📊 Extended EDA ⚽ Goals ",
          "▶️ Lionel Messi 📊 Extended EDA ⚽ Goals ",
          "▶️ Lionel Messi 📊 Extended EDA ⚽ Goals ",
          "▶️ Lionel Messi 📊 Extended EDA ⚽ Goals ",
          "▶️ Lionel Messi 📊 Extended EDA ⚽ Goals ",
          "▶️ Lionel Messi 📊 Extended EDA ⚽ Goals ",
          "▶️ Lionel Messi 📊 Extended EDA ⚽ Goals ",
          "▶️ Lionel Messi 📊 Extended EDA ⚽ Goals ",
          "▶️ Lionel Messi 📊 Extended EDA ⚽ Goals ",
          "▶️ Lionel Messi 📊 Extended EDA ⚽ Goals ",
          "▶️ Lionel Messi 📊 Extended EDA ⚽ Goals ",
          "▶️ Lionel Messi 📊 Extended EDA ⚽ Goals ",
          "▶️ Lionel Messi 📊 Extended EDA ⚽ Goals ",
          "▶️ Lionel Messi 📊 Extended EDA ⚽ Goals ",
          "▶️ Lionel Messi 📊 Extended EDA ⚽ Goals ",
          "▶️ Lionel Messi 📊 Extended EDA ⚽ Goals ",
          "▶️ Lionel Messi 📊 Extended EDA ⚽ Goals ",
          "▶️ Lionel Messi 📊 Extended EDA ⚽ Goals ",
          "▶️ Lionel Messi 📊 Extended EDA ⚽ Goals ",
          "▶️ Lionel Messi 📊 Extended EDA ⚽ Goals ",
          "▶️ Lionel Messi 📊 Extended EDA ⚽ Goals ",
          "▶️ Lionel Messi 📊 Extended EDA ⚽ Goals ",
          "▶️ Lionel Messi 📊 Extended EDA ⚽ Goals ",
          "▶️ Lionel Messi 📊 Extended EDA ⚽ Goals ",
          "▶️ Lionel Messi 📊 Extended EDA ⚽ Goals ",
          "▶️ Lionel Messi 📊 Extended EDA ⚽ Goals ",
          "▶️ Lionel Messi 📊 Extended EDA ⚽ Goals ",
          "▶️ Lionel Messi 📊 Extended EDA ⚽ Goals ",
          "▶️ Lionel Messi 📊 Extended EDA ⚽ Goals ",
          "▶️ Lionel Messi 📊 Extended EDA ⚽ Goals ",
          "▶️ Lionel Messi 📊 Extended EDA ⚽ Goals ",
          "▶️ Lionel Messi 📊 Extended EDA ⚽ Goals ",
          "▶️ Lionel Messi 📊 Extended EDA ⚽ Goals ",
          "▶️ Lionel Messi 📊 Extended EDA ⚽ Goals ",
          "▶️ Lionel Messi 📊 Extended EDA ⚽ Goals ",
          "▶️ Lionel Messi 📊 Extended EDA ⚽ Goals ",
          "▶️ Lionel Messi 📊 Extended EDA ⚽ Goals ",
          "▶️ Lionel Messi 📊 Extended EDA ⚽ Goals ",
          "▶️ Lionel Messi 📊 Extended EDA ⚽ Goals ",
          "▶️ Lionel Messi 📊 Extended EDA ⚽ Goals ",
          "▶️ Lionel Messi 📊 Extended EDA ⚽ Goals ",
          "▶️ Lionel Messi 📊 Extended EDA ⚽ Goals ",
          "▶️ Lionel Messi 📊 Extended EDA ⚽ Goals ",
          "▶️ Lionel Messi 📊 Extended EDA ⚽ Goals ",
          "▶️ Lionel Messi 📊 Extended EDA ⚽ Goals ",
          "▶️ Lionel Messi 📊 Extended EDA ⚽ Goals ",
          "▶️ Lionel Messi 📊 Extended EDA ⚽ Goals ",
          "▶️ Lionel Messi 📊 Extended EDA ⚽ Goals ",
          "▶️ Lionel Messi 📊 Extended EDA ⚽ Goals ",
          "▶️ Lionel Messi 📊 Extended EDA ⚽ Goals ",
          "▶️ Lionel Messi 📊 Extended EDA ⚽ Goals ",
          "▶️ Lionel Messi 📊 Extended EDA ⚽ Goals "
         ],
         "legendgroup": "GOLD",
         "line": {
          "color": "gold",
          "dash": "solid"
         },
         "marker": {
          "symbol": "circle"
         },
         "mode": "lines",
         "name": "GOLD",
         "orientation": "v",
         "showlegend": false,
         "type": "scatter",
         "x": [
          "2022-06-12",
          "2022-06-13",
          "2022-06-14",
          "2022-06-15",
          "2022-06-16",
          "2022-06-17",
          "2022-06-18",
          "2022-06-19",
          "2022-06-20",
          "2022-06-21",
          "2022-06-22",
          "2022-06-25",
          "2022-06-26",
          "2022-06-28",
          "2022-06-29",
          "2022-07-01",
          "2022-07-02",
          "2022-07-03",
          "2022-07-04",
          "2022-07-05",
          "2022-07-06",
          "2022-07-07",
          "2022-07-11",
          "2022-07-12",
          "2022-07-14",
          "2022-07-15",
          "2022-07-17",
          "2022-07-18",
          "2022-07-21",
          "2022-07-22",
          "2022-07-23",
          "2022-07-24",
          "2022-07-25",
          "2022-07-26",
          "2022-07-29",
          "2022-07-30",
          "2022-07-31",
          "2022-08-01",
          "2022-08-03",
          "2022-08-05",
          "2022-08-06",
          "2022-08-08",
          "2022-08-10",
          "2022-08-12",
          "2022-08-14",
          "2022-08-16",
          "2022-08-17",
          "2022-08-18",
          "2022-08-19",
          "2022-08-20",
          "2022-08-21",
          "2022-08-22",
          "2022-08-23",
          "2022-08-24",
          "2022-08-25",
          "2022-08-26",
          "2022-08-27",
          "2022-08-28",
          "2022-08-29",
          "2022-08-30",
          "2022-08-31",
          "2022-09-03",
          "2022-09-04",
          "2022-09-05",
          "2022-09-06",
          "2022-09-07"
         ],
         "xaxis": "x",
         "y": [
          44,
          44,
          44,
          44,
          44,
          44,
          44,
          44,
          45,
          46,
          46,
          47,
          47,
          48,
          48,
          49,
          51,
          51,
          51,
          54,
          56,
          57,
          63,
          66,
          69,
          69,
          69,
          69,
          71,
          71,
          71,
          73,
          73,
          73,
          73,
          75,
          75,
          75,
          75,
          76,
          77,
          77,
          78,
          79,
          80,
          82,
          82,
          83,
          84,
          84,
          84,
          85,
          85,
          85,
          86,
          86,
          86,
          86,
          87,
          87,
          87,
          87,
          87,
          88,
          88,
          88
         ],
         "yaxis": "y"
        },
        {
         "hovertemplate": "<b>%{hovertext}</b><br><br>medal=GOLD<br>title=▶️ Cristiano Ronaldo ⚽ Goals  📊 EDA, Analysis<br>date=%{x}<br>count=%{y}<extra></extra>",
         "hovertext": [
          "▶️ Cristiano Ronaldo ⚽ Goals  📊 EDA, Analysis",
          "▶️ Cristiano Ronaldo ⚽ Goals  📊 EDA, Analysis",
          "▶️ Cristiano Ronaldo ⚽ Goals  📊 EDA, Analysis",
          "▶️ Cristiano Ronaldo ⚽ Goals  📊 EDA, Analysis",
          "▶️ Cristiano Ronaldo ⚽ Goals  📊 EDA, Analysis",
          "▶️ Cristiano Ronaldo ⚽ Goals  📊 EDA, Analysis",
          "▶️ Cristiano Ronaldo ⚽ Goals  📊 EDA, Analysis",
          "▶️ Cristiano Ronaldo ⚽ Goals  📊 EDA, Analysis",
          "▶️ Cristiano Ronaldo ⚽ Goals  📊 EDA, Analysis",
          "▶️ Cristiano Ronaldo ⚽ Goals  📊 EDA, Analysis",
          "▶️ Cristiano Ronaldo ⚽ Goals  📊 EDA, Analysis",
          "▶️ Cristiano Ronaldo ⚽ Goals  📊 EDA, Analysis",
          "▶️ Cristiano Ronaldo ⚽ Goals  📊 EDA, Analysis",
          "▶️ Cristiano Ronaldo ⚽ Goals  📊 EDA, Analysis",
          "▶️ Cristiano Ronaldo ⚽ Goals  📊 EDA, Analysis",
          "▶️ Cristiano Ronaldo ⚽ Goals  📊 EDA, Analysis",
          "▶️ Cristiano Ronaldo ⚽ Goals  📊 EDA, Analysis",
          "▶️ Cristiano Ronaldo ⚽ Goals  📊 EDA, Analysis",
          "▶️ Cristiano Ronaldo ⚽ Goals  📊 EDA, Analysis",
          "▶️ Cristiano Ronaldo ⚽ Goals  📊 EDA, Analysis",
          "▶️ Cristiano Ronaldo ⚽ Goals  📊 EDA, Analysis",
          "▶️ Cristiano Ronaldo ⚽ Goals  📊 EDA, Analysis",
          "▶️ Cristiano Ronaldo ⚽ Goals  📊 EDA, Analysis",
          "▶️ Cristiano Ronaldo ⚽ Goals  📊 EDA, Analysis",
          "▶️ Cristiano Ronaldo ⚽ Goals  📊 EDA, Analysis",
          "▶️ Cristiano Ronaldo ⚽ Goals  📊 EDA, Analysis",
          "▶️ Cristiano Ronaldo ⚽ Goals  📊 EDA, Analysis",
          "▶️ Cristiano Ronaldo ⚽ Goals  📊 EDA, Analysis",
          "▶️ Cristiano Ronaldo ⚽ Goals  📊 EDA, Analysis",
          "▶️ Cristiano Ronaldo ⚽ Goals  📊 EDA, Analysis",
          "▶️ Cristiano Ronaldo ⚽ Goals  📊 EDA, Analysis",
          "▶️ Cristiano Ronaldo ⚽ Goals  📊 EDA, Analysis",
          "▶️ Cristiano Ronaldo ⚽ Goals  📊 EDA, Analysis",
          "▶️ Cristiano Ronaldo ⚽ Goals  📊 EDA, Analysis",
          "▶️ Cristiano Ronaldo ⚽ Goals  📊 EDA, Analysis",
          "▶️ Cristiano Ronaldo ⚽ Goals  📊 EDA, Analysis",
          "▶️ Cristiano Ronaldo ⚽ Goals  📊 EDA, Analysis",
          "▶️ Cristiano Ronaldo ⚽ Goals  📊 EDA, Analysis",
          "▶️ Cristiano Ronaldo ⚽ Goals  📊 EDA, Analysis",
          "▶️ Cristiano Ronaldo ⚽ Goals  📊 EDA, Analysis",
          "▶️ Cristiano Ronaldo ⚽ Goals  📊 EDA, Analysis",
          "▶️ Cristiano Ronaldo ⚽ Goals  📊 EDA, Analysis",
          "▶️ Cristiano Ronaldo ⚽ Goals  📊 EDA, Analysis",
          "▶️ Cristiano Ronaldo ⚽ Goals  📊 EDA, Analysis",
          "▶️ Cristiano Ronaldo ⚽ Goals  📊 EDA, Analysis",
          "▶️ Cristiano Ronaldo ⚽ Goals  📊 EDA, Analysis",
          "▶️ Cristiano Ronaldo ⚽ Goals  📊 EDA, Analysis",
          "▶️ Cristiano Ronaldo ⚽ Goals  📊 EDA, Analysis",
          "▶️ Cristiano Ronaldo ⚽ Goals  📊 EDA, Analysis",
          "▶️ Cristiano Ronaldo ⚽ Goals  📊 EDA, Analysis",
          "▶️ Cristiano Ronaldo ⚽ Goals  📊 EDA, Analysis",
          "▶️ Cristiano Ronaldo ⚽ Goals  📊 EDA, Analysis",
          "▶️ Cristiano Ronaldo ⚽ Goals  📊 EDA, Analysis",
          "▶️ Cristiano Ronaldo ⚽ Goals  📊 EDA, Analysis",
          "▶️ Cristiano Ronaldo ⚽ Goals  📊 EDA, Analysis",
          "▶️ Cristiano Ronaldo ⚽ Goals  📊 EDA, Analysis",
          "▶️ Cristiano Ronaldo ⚽ Goals  📊 EDA, Analysis",
          "▶️ Cristiano Ronaldo ⚽ Goals  📊 EDA, Analysis",
          "▶️ Cristiano Ronaldo ⚽ Goals  📊 EDA, Analysis",
          "▶️ Cristiano Ronaldo ⚽ Goals  📊 EDA, Analysis",
          "▶️ Cristiano Ronaldo ⚽ Goals  📊 EDA, Analysis",
          "▶️ Cristiano Ronaldo ⚽ Goals  📊 EDA, Analysis",
          "▶️ Cristiano Ronaldo ⚽ Goals  📊 EDA, Analysis",
          "▶️ Cristiano Ronaldo ⚽ Goals  📊 EDA, Analysis",
          "▶️ Cristiano Ronaldo ⚽ Goals  📊 EDA, Analysis",
          "▶️ Cristiano Ronaldo ⚽ Goals  📊 EDA, Analysis"
         ],
         "legendgroup": "GOLD",
         "line": {
          "color": "gold",
          "dash": "solid"
         },
         "marker": {
          "symbol": "circle"
         },
         "mode": "lines",
         "name": "GOLD",
         "orientation": "v",
         "showlegend": false,
         "type": "scatter",
         "x": [
          "2022-06-12",
          "2022-06-13",
          "2022-06-14",
          "2022-06-15",
          "2022-06-16",
          "2022-06-17",
          "2022-06-18",
          "2022-06-19",
          "2022-06-20",
          "2022-06-21",
          "2022-06-22",
          "2022-06-25",
          "2022-06-26",
          "2022-06-28",
          "2022-06-29",
          "2022-07-01",
          "2022-07-02",
          "2022-07-03",
          "2022-07-04",
          "2022-07-05",
          "2022-07-06",
          "2022-07-07",
          "2022-07-11",
          "2022-07-12",
          "2022-07-14",
          "2022-07-15",
          "2022-07-17",
          "2022-07-18",
          "2022-07-21",
          "2022-07-22",
          "2022-07-23",
          "2022-07-24",
          "2022-07-25",
          "2022-07-26",
          "2022-07-29",
          "2022-07-30",
          "2022-07-31",
          "2022-08-01",
          "2022-08-03",
          "2022-08-05",
          "2022-08-06",
          "2022-08-08",
          "2022-08-10",
          "2022-08-12",
          "2022-08-14",
          "2022-08-16",
          "2022-08-17",
          "2022-08-18",
          "2022-08-19",
          "2022-08-20",
          "2022-08-21",
          "2022-08-22",
          "2022-08-23",
          "2022-08-24",
          "2022-08-25",
          "2022-08-26",
          "2022-08-27",
          "2022-08-28",
          "2022-08-29",
          "2022-08-30",
          "2022-08-31",
          "2022-09-03",
          "2022-09-04",
          "2022-09-05",
          "2022-09-06",
          "2022-09-07"
         ],
         "xaxis": "x",
         "y": [
          39,
          39,
          39,
          39,
          39,
          39,
          39,
          39,
          39,
          40,
          40,
          40,
          40,
          40,
          40,
          41,
          41,
          41,
          41,
          42,
          42,
          42,
          46,
          47,
          49,
          49,
          49,
          49,
          53,
          53,
          53,
          55,
          56,
          57,
          57,
          58,
          58,
          60,
          60,
          62,
          62,
          63,
          68,
          70,
          72,
          79,
          81,
          82,
          82,
          83,
          83,
          83,
          83,
          83,
          83,
          83,
          85,
          86,
          87,
          87,
          87,
          87,
          87,
          88,
          88,
          88
         ],
         "yaxis": "y"
        },
        {
         "hovertemplate": "<b>%{hovertext}</b><br><br>medal=GOLD<br>title=Investment and Financial Analysis  🏭 EPZ<br>date=%{x}<br>count=%{y}<extra></extra>",
         "hovertext": [
          "Investment and Financial Analysis  🏭 EPZ",
          "Investment and Financial Analysis  🏭 EPZ",
          "Investment and Financial Analysis  🏭 EPZ",
          "Investment and Financial Analysis  🏭 EPZ",
          "Investment and Financial Analysis  🏭 EPZ",
          "Investment and Financial Analysis  🏭 EPZ",
          "Investment and Financial Analysis  🏭 EPZ",
          "Investment and Financial Analysis  🏭 EPZ",
          "Investment and Financial Analysis  🏭 EPZ",
          "Investment and Financial Analysis  🏭 EPZ",
          "Investment and Financial Analysis  🏭 EPZ",
          "Investment and Financial Analysis  🏭 EPZ",
          "Investment and Financial Analysis  🏭 EPZ",
          "Investment and Financial Analysis  🏭 EPZ",
          "Investment and Financial Analysis  🏭 EPZ",
          "Investment and Financial Analysis  🏭 EPZ",
          "Investment and Financial Analysis  🏭 EPZ",
          "Investment and Financial Analysis  🏭 EPZ",
          "Investment and Financial Analysis  🏭 EPZ",
          "Investment and Financial Analysis  🏭 EPZ",
          "Investment and Financial Analysis  🏭 EPZ",
          "Investment and Financial Analysis  🏭 EPZ",
          "Investment and Financial Analysis  🏭 EPZ",
          "Investment and Financial Analysis  🏭 EPZ",
          "Investment and Financial Analysis  🏭 EPZ",
          "Investment and Financial Analysis  🏭 EPZ",
          "Investment and Financial Analysis  🏭 EPZ",
          "Investment and Financial Analysis  🏭 EPZ",
          "Investment and Financial Analysis  🏭 EPZ",
          "Investment and Financial Analysis  🏭 EPZ",
          "Investment and Financial Analysis  🏭 EPZ",
          "Investment and Financial Analysis  🏭 EPZ",
          "Investment and Financial Analysis  🏭 EPZ",
          "Investment and Financial Analysis  🏭 EPZ",
          "Investment and Financial Analysis  🏭 EPZ",
          "Investment and Financial Analysis  🏭 EPZ",
          "Investment and Financial Analysis  🏭 EPZ",
          "Investment and Financial Analysis  🏭 EPZ",
          "Investment and Financial Analysis  🏭 EPZ",
          "Investment and Financial Analysis  🏭 EPZ",
          "Investment and Financial Analysis  🏭 EPZ",
          "Investment and Financial Analysis  🏭 EPZ",
          "Investment and Financial Analysis  🏭 EPZ",
          "Investment and Financial Analysis  🏭 EPZ",
          "Investment and Financial Analysis  🏭 EPZ",
          "Investment and Financial Analysis  🏭 EPZ",
          "Investment and Financial Analysis  🏭 EPZ",
          "Investment and Financial Analysis  🏭 EPZ",
          "Investment and Financial Analysis  🏭 EPZ",
          "Investment and Financial Analysis  🏭 EPZ",
          "Investment and Financial Analysis  🏭 EPZ",
          "Investment and Financial Analysis  🏭 EPZ",
          "Investment and Financial Analysis  🏭 EPZ",
          "Investment and Financial Analysis  🏭 EPZ",
          "Investment and Financial Analysis  🏭 EPZ",
          "Investment and Financial Analysis  🏭 EPZ",
          "Investment and Financial Analysis  🏭 EPZ",
          "Investment and Financial Analysis  🏭 EPZ",
          "Investment and Financial Analysis  🏭 EPZ",
          "Investment and Financial Analysis  🏭 EPZ",
          "Investment and Financial Analysis  🏭 EPZ",
          "Investment and Financial Analysis  🏭 EPZ",
          "Investment and Financial Analysis  🏭 EPZ",
          "Investment and Financial Analysis  🏭 EPZ",
          "Investment and Financial Analysis  🏭 EPZ",
          "Investment and Financial Analysis  🏭 EPZ"
         ],
         "legendgroup": "GOLD",
         "line": {
          "color": "gold",
          "dash": "solid"
         },
         "marker": {
          "symbol": "circle"
         },
         "mode": "lines",
         "name": "GOLD",
         "orientation": "v",
         "showlegend": false,
         "type": "scatter",
         "x": [
          "2022-06-12",
          "2022-06-13",
          "2022-06-14",
          "2022-06-15",
          "2022-06-16",
          "2022-06-17",
          "2022-06-18",
          "2022-06-19",
          "2022-06-20",
          "2022-06-21",
          "2022-06-22",
          "2022-06-25",
          "2022-06-26",
          "2022-06-28",
          "2022-06-29",
          "2022-07-01",
          "2022-07-02",
          "2022-07-03",
          "2022-07-04",
          "2022-07-05",
          "2022-07-06",
          "2022-07-07",
          "2022-07-11",
          "2022-07-12",
          "2022-07-14",
          "2022-07-15",
          "2022-07-17",
          "2022-07-18",
          "2022-07-21",
          "2022-07-22",
          "2022-07-23",
          "2022-07-24",
          "2022-07-25",
          "2022-07-26",
          "2022-07-29",
          "2022-07-30",
          "2022-07-31",
          "2022-08-01",
          "2022-08-03",
          "2022-08-05",
          "2022-08-06",
          "2022-08-08",
          "2022-08-10",
          "2022-08-12",
          "2022-08-14",
          "2022-08-16",
          "2022-08-17",
          "2022-08-18",
          "2022-08-19",
          "2022-08-20",
          "2022-08-21",
          "2022-08-22",
          "2022-08-23",
          "2022-08-24",
          "2022-08-25",
          "2022-08-26",
          "2022-08-27",
          "2022-08-28",
          "2022-08-29",
          "2022-08-30",
          "2022-08-31",
          "2022-09-03",
          "2022-09-04",
          "2022-09-05",
          "2022-09-06",
          "2022-09-07"
         ],
         "xaxis": "x",
         "y": [
          29,
          29,
          29,
          29,
          30,
          30,
          30,
          30,
          30,
          30,
          30,
          30,
          30,
          30,
          30,
          31,
          31,
          31,
          31,
          32,
          32,
          32,
          32,
          32,
          32,
          32,
          32,
          34,
          35,
          35,
          35,
          37,
          38,
          38,
          38,
          38,
          38,
          39,
          41,
          41,
          41,
          43,
          46,
          47,
          48,
          52,
          61,
          61,
          61,
          61,
          61,
          61,
          61,
          61,
          61,
          61,
          61,
          61,
          62,
          62,
          62,
          61,
          61,
          62,
          62,
          62
         ],
         "yaxis": "y"
        },
        {
         "hovertemplate": "<b>%{hovertext}</b><br><br>medal=GOLD<br>title=ML Foundation ➡️ Cross Validation ✅ All Methods<br>date=%{x}<br>count=%{y}<extra></extra>",
         "hovertext": [
          "ML Foundation ➡️ Cross Validation ✅ All Methods",
          "ML Foundation ➡️ Cross Validation ✅ All Methods",
          "ML Foundation ➡️ Cross Validation ✅ All Methods",
          "ML Foundation ➡️ Cross Validation ✅ All Methods",
          "ML Foundation ➡️ Cross Validation ✅ All Methods",
          "ML Foundation ➡️ Cross Validation ✅ All Methods",
          "ML Foundation ➡️ Cross Validation ✅ All Methods",
          "ML Foundation ➡️ Cross Validation ✅ All Methods",
          "ML Foundation ➡️ Cross Validation ✅ All Methods",
          "ML Foundation ➡️ Cross Validation ✅ All Methods",
          "ML Foundation ➡️ Cross Validation ✅ All Methods",
          "ML Foundation ➡️ Cross Validation ✅ All Methods",
          "ML Foundation ➡️ Cross Validation ✅ All Methods",
          "ML Foundation ➡️ Cross Validation ✅ All Methods",
          "ML Foundation ➡️ Cross Validation ✅ All Methods",
          "ML Foundation ➡️ Cross Validation ✅ All Methods",
          "ML Foundation ➡️ Cross Validation ✅ All Methods",
          "ML Foundation ➡️ Cross Validation ✅ All Methods",
          "ML Foundation ➡️ Cross Validation ✅ All Methods",
          "ML Foundation ➡️ Cross Validation ✅ All Methods",
          "ML Foundation ➡️ Cross Validation ✅ All Methods",
          "ML Foundation ➡️ Cross Validation ✅ All Methods",
          "ML Foundation ➡️ Cross Validation ✅ All Methods",
          "ML Foundation ➡️ Cross Validation ✅ All Methods",
          "ML Foundation ➡️ Cross Validation ✅ All Methods",
          "ML Foundation ➡️ Cross Validation ✅ All Methods",
          "ML Foundation ➡️ Cross Validation ✅ All Methods",
          "ML Foundation ➡️ Cross Validation ✅ All Methods",
          "ML Foundation ➡️ Cross Validation ✅ All Methods",
          "ML Foundation ➡️ Cross Validation ✅ All Methods",
          "ML Foundation ➡️ Cross Validation ✅ All Methods",
          "ML Foundation ➡️ Cross Validation ✅ All Methods",
          "ML Foundation ➡️ Cross Validation ✅ All Methods",
          "ML Foundation ➡️ Cross Validation ✅ All Methods",
          "ML Foundation ➡️ Cross Validation ✅ All Methods",
          "ML Foundation ➡️ Cross Validation ✅ All Methods",
          "ML Foundation ➡️ Cross Validation ✅ All Methods",
          "ML Foundation ➡️ Cross Validation ✅ All Methods",
          "ML Foundation ➡️ Cross Validation ✅ All Methods",
          "ML Foundation ➡️ Cross Validation ✅ All Methods",
          "ML Foundation ➡️ Cross Validation ✅ All Methods",
          "ML Foundation ➡️ Cross Validation ✅ All Methods",
          "ML Foundation ➡️ Cross Validation ✅ All Methods",
          "ML Foundation ➡️ Cross Validation ✅ All Methods",
          "ML Foundation ➡️ Cross Validation ✅ All Methods",
          "ML Foundation ➡️ Cross Validation ✅ All Methods",
          "ML Foundation ➡️ Cross Validation ✅ All Methods",
          "ML Foundation ➡️ Cross Validation ✅ All Methods",
          "ML Foundation ➡️ Cross Validation ✅ All Methods",
          "ML Foundation ➡️ Cross Validation ✅ All Methods",
          "ML Foundation ➡️ Cross Validation ✅ All Methods",
          "ML Foundation ➡️ Cross Validation ✅ All Methods",
          "ML Foundation ➡️ Cross Validation ✅ All Methods",
          "ML Foundation ➡️ Cross Validation ✅ All Methods",
          "ML Foundation ➡️ Cross Validation ✅ All Methods",
          "ML Foundation ➡️ Cross Validation ✅ All Methods",
          "ML Foundation ➡️ Cross Validation ✅ All Methods",
          "ML Foundation ➡️ Cross Validation ✅ All Methods",
          "ML Foundation ➡️ Cross Validation ✅ All Methods",
          "ML Foundation ➡️ Cross Validation ✅ All Methods",
          "ML Foundation ➡️ Cross Validation ✅ All Methods",
          "ML Foundation ➡️ Cross Validation ✅ All Methods",
          "ML Foundation ➡️ Cross Validation ✅ All Methods",
          "ML Foundation ➡️ Cross Validation ✅ All Methods",
          "ML Foundation ➡️ Cross Validation ✅ All Methods",
          "ML Foundation ➡️ Cross Validation ✅ All Methods"
         ],
         "legendgroup": "GOLD",
         "line": {
          "color": "gold",
          "dash": "solid"
         },
         "marker": {
          "symbol": "circle"
         },
         "mode": "lines",
         "name": "GOLD",
         "orientation": "v",
         "showlegend": false,
         "type": "scatter",
         "x": [
          "2022-06-12",
          "2022-06-13",
          "2022-06-14",
          "2022-06-15",
          "2022-06-16",
          "2022-06-17",
          "2022-06-18",
          "2022-06-19",
          "2022-06-20",
          "2022-06-21",
          "2022-06-22",
          "2022-06-25",
          "2022-06-26",
          "2022-06-28",
          "2022-06-29",
          "2022-07-01",
          "2022-07-02",
          "2022-07-03",
          "2022-07-04",
          "2022-07-05",
          "2022-07-06",
          "2022-07-07",
          "2022-07-11",
          "2022-07-12",
          "2022-07-14",
          "2022-07-15",
          "2022-07-17",
          "2022-07-18",
          "2022-07-21",
          "2022-07-22",
          "2022-07-23",
          "2022-07-24",
          "2022-07-25",
          "2022-07-26",
          "2022-07-29",
          "2022-07-30",
          "2022-07-31",
          "2022-08-01",
          "2022-08-03",
          "2022-08-05",
          "2022-08-06",
          "2022-08-08",
          "2022-08-10",
          "2022-08-12",
          "2022-08-14",
          "2022-08-16",
          "2022-08-17",
          "2022-08-18",
          "2022-08-19",
          "2022-08-20",
          "2022-08-21",
          "2022-08-22",
          "2022-08-23",
          "2022-08-24",
          "2022-08-25",
          "2022-08-26",
          "2022-08-27",
          "2022-08-28",
          "2022-08-29",
          "2022-08-30",
          "2022-08-31",
          "2022-09-03",
          "2022-09-04",
          "2022-09-05",
          "2022-09-06",
          "2022-09-07"
         ],
         "xaxis": "x",
         "y": [
          35,
          35,
          36,
          37,
          38,
          39,
          39,
          39,
          40,
          41,
          42,
          42,
          42,
          42,
          42,
          44,
          44,
          46,
          47,
          51,
          55,
          55,
          61,
          62,
          64,
          65,
          67,
          67,
          67,
          67,
          67,
          68,
          68,
          69,
          70,
          70,
          72,
          72,
          73,
          74,
          75,
          75,
          76,
          77,
          78,
          80,
          80,
          80,
          80,
          80,
          80,
          80,
          80,
          80,
          80,
          80,
          80,
          80,
          81,
          82,
          82,
          81,
          81,
          82,
          82,
          82
         ],
         "yaxis": "y"
        },
        {
         "hovertemplate": "<b>%{hovertext}</b><br><br>medal=GOLD<br>title=Different Clustering Techniques and Algorithms<br>date=%{x}<br>count=%{y}<extra></extra>",
         "hovertext": [
          "Different Clustering Techniques and Algorithms",
          "Different Clustering Techniques and Algorithms",
          "Different Clustering Techniques and Algorithms",
          "Different Clustering Techniques and Algorithms",
          "Different Clustering Techniques and Algorithms",
          "Different Clustering Techniques and Algorithms",
          "Different Clustering Techniques and Algorithms",
          "Different Clustering Techniques and Algorithms",
          "Different Clustering Techniques and Algorithms",
          "Different Clustering Techniques and Algorithms",
          "Different Clustering Techniques and Algorithms",
          "Different Clustering Techniques and Algorithms",
          "Different Clustering Techniques and Algorithms",
          "Different Clustering Techniques and Algorithms",
          "Different Clustering Techniques and Algorithms",
          "Different Clustering Techniques and Algorithms",
          "Different Clustering Techniques and Algorithms",
          "Different Clustering Techniques and Algorithms",
          "Different Clustering Techniques and Algorithms",
          "Different Clustering Techniques and Algorithms",
          "Different Clustering Techniques and Algorithms",
          "Different Clustering Techniques and Algorithms",
          "Different Clustering Techniques and Algorithms",
          "Different Clustering Techniques and Algorithms",
          "Different Clustering Techniques and Algorithms",
          "Different Clustering Techniques and Algorithms",
          "Different Clustering Techniques and Algorithms",
          "Different Clustering Techniques and Algorithms",
          "Different Clustering Techniques and Algorithms",
          "Different Clustering Techniques and Algorithms",
          "Different Clustering Techniques and Algorithms",
          "Different Clustering Techniques and Algorithms",
          "Different Clustering Techniques and Algorithms",
          "Different Clustering Techniques and Algorithms",
          "Different Clustering Techniques and Algorithms",
          "Different Clustering Techniques and Algorithms",
          "Different Clustering Techniques and Algorithms",
          "Different Clustering Techniques and Algorithms",
          "Different Clustering Techniques and Algorithms",
          "Different Clustering Techniques and Algorithms",
          "Different Clustering Techniques and Algorithms",
          "Different Clustering Techniques and Algorithms",
          "Different Clustering Techniques and Algorithms",
          "Different Clustering Techniques and Algorithms",
          "Different Clustering Techniques and Algorithms",
          "Different Clustering Techniques and Algorithms",
          "Different Clustering Techniques and Algorithms",
          "Different Clustering Techniques and Algorithms",
          "Different Clustering Techniques and Algorithms",
          "Different Clustering Techniques and Algorithms",
          "Different Clustering Techniques and Algorithms"
         ],
         "legendgroup": "GOLD",
         "line": {
          "color": "gold",
          "dash": "solid"
         },
         "marker": {
          "symbol": "circle"
         },
         "mode": "lines",
         "name": "GOLD",
         "orientation": "v",
         "showlegend": false,
         "type": "scatter",
         "x": [
          "2022-07-01",
          "2022-07-02",
          "2022-07-03",
          "2022-07-04",
          "2022-07-05",
          "2022-07-06",
          "2022-07-07",
          "2022-07-11",
          "2022-07-12",
          "2022-07-14",
          "2022-07-15",
          "2022-07-17",
          "2022-07-18",
          "2022-07-21",
          "2022-07-22",
          "2022-07-23",
          "2022-07-24",
          "2022-07-25",
          "2022-07-26",
          "2022-07-29",
          "2022-07-30",
          "2022-07-31",
          "2022-08-01",
          "2022-08-03",
          "2022-08-05",
          "2022-08-06",
          "2022-08-08",
          "2022-08-10",
          "2022-08-12",
          "2022-08-14",
          "2022-08-16",
          "2022-08-17",
          "2022-08-18",
          "2022-08-19",
          "2022-08-20",
          "2022-08-21",
          "2022-08-22",
          "2022-08-23",
          "2022-08-24",
          "2022-08-25",
          "2022-08-26",
          "2022-08-27",
          "2022-08-28",
          "2022-08-29",
          "2022-08-30",
          "2022-08-31",
          "2022-09-03",
          "2022-09-04",
          "2022-09-05",
          "2022-09-06",
          "2022-09-07"
         ],
         "xaxis": "x",
         "y": [
          8,
          49,
          57,
          63,
          71,
          73,
          75,
          88,
          88,
          97,
          100,
          108,
          109,
          116,
          118,
          122,
          124,
          130,
          131,
          133,
          135,
          139,
          139,
          139,
          143,
          145,
          146,
          150,
          152,
          152,
          154,
          155,
          155,
          155,
          155,
          155,
          156,
          156,
          156,
          157,
          157,
          157,
          157,
          158,
          158,
          158,
          158,
          158,
          160,
          162,
          162
         ],
         "yaxis": "y"
        },
        {
         "hovertemplate": "<b>%{hovertext}</b><br><br>medal=GOLD<br>title=Classification ➡️ Comparing Different Algorithms<br>date=%{x}<br>count=%{y}<extra></extra>",
         "hovertext": [
          "Classification ➡️ Comparing Different Algorithms",
          "Classification ➡️ Comparing Different Algorithms",
          "Classification ➡️ Comparing Different Algorithms",
          "Classification ➡️ Comparing Different Algorithms",
          "Classification ➡️ Comparing Different Algorithms",
          "Classification ➡️ Comparing Different Algorithms",
          "Classification ➡️ Comparing Different Algorithms",
          "Classification ➡️ Comparing Different Algorithms",
          "Classification ➡️ Comparing Different Algorithms",
          "Classification ➡️ Comparing Different Algorithms",
          "Classification ➡️ Comparing Different Algorithms",
          "Classification ➡️ Comparing Different Algorithms",
          "Classification ➡️ Comparing Different Algorithms",
          "Classification ➡️ Comparing Different Algorithms",
          "Classification ➡️ Comparing Different Algorithms",
          "Classification ➡️ Comparing Different Algorithms",
          "Classification ➡️ Comparing Different Algorithms",
          "Classification ➡️ Comparing Different Algorithms",
          "Classification ➡️ Comparing Different Algorithms",
          "Classification ➡️ Comparing Different Algorithms",
          "Classification ➡️ Comparing Different Algorithms",
          "Classification ➡️ Comparing Different Algorithms",
          "Classification ➡️ Comparing Different Algorithms",
          "Classification ➡️ Comparing Different Algorithms",
          "Classification ➡️ Comparing Different Algorithms",
          "Classification ➡️ Comparing Different Algorithms",
          "Classification ➡️ Comparing Different Algorithms",
          "Classification ➡️ Comparing Different Algorithms",
          "Classification ➡️ Comparing Different Algorithms"
         ],
         "legendgroup": "GOLD",
         "line": {
          "color": "gold",
          "dash": "solid"
         },
         "marker": {
          "symbol": "circle"
         },
         "mode": "lines",
         "name": "GOLD",
         "orientation": "v",
         "showlegend": false,
         "type": "scatter",
         "x": [
          "2022-08-01",
          "2022-08-03",
          "2022-08-05",
          "2022-08-06",
          "2022-08-08",
          "2022-08-10",
          "2022-08-12",
          "2022-08-14",
          "2022-08-16",
          "2022-08-17",
          "2022-08-18",
          "2022-08-19",
          "2022-08-20",
          "2022-08-21",
          "2022-08-22",
          "2022-08-23",
          "2022-08-24",
          "2022-08-25",
          "2022-08-26",
          "2022-08-27",
          "2022-08-28",
          "2022-08-29",
          "2022-08-30",
          "2022-08-31",
          "2022-09-03",
          "2022-09-04",
          "2022-09-05",
          "2022-09-06",
          "2022-09-07"
         ],
         "xaxis": "x",
         "y": [
          6,
          17,
          25,
          32,
          34,
          42,
          45,
          59,
          63,
          63,
          67,
          67,
          69,
          69,
          70,
          71,
          71,
          73,
          73,
          73,
          73,
          74,
          75,
          76,
          75,
          75,
          76,
          79,
          79
         ],
         "yaxis": "y"
        },
        {
         "hovertemplate": "<b>%{hovertext}</b><br><br>medal=GOLD<br>title=XGBoost | Wrangling with Hyperparameters | Guide<br>date=%{x}<br>count=%{y}<extra></extra>",
         "hovertext": [
          "XGBoost | Wrangling with Hyperparameters | Guide",
          "XGBoost | Wrangling with Hyperparameters | Guide",
          "XGBoost | Wrangling with Hyperparameters | Guide",
          "XGBoost | Wrangling with Hyperparameters | Guide",
          "XGBoost | Wrangling with Hyperparameters | Guide",
          "XGBoost | Wrangling with Hyperparameters | Guide",
          "XGBoost | Wrangling with Hyperparameters | Guide",
          "XGBoost | Wrangling with Hyperparameters | Guide",
          "XGBoost | Wrangling with Hyperparameters | Guide",
          "XGBoost | Wrangling with Hyperparameters | Guide",
          "XGBoost | Wrangling with Hyperparameters | Guide",
          "XGBoost | Wrangling with Hyperparameters | Guide",
          "XGBoost | Wrangling with Hyperparameters | Guide",
          "XGBoost | Wrangling with Hyperparameters | Guide",
          "XGBoost | Wrangling with Hyperparameters | Guide",
          "XGBoost | Wrangling with Hyperparameters | Guide",
          "XGBoost | Wrangling with Hyperparameters | Guide",
          "XGBoost | Wrangling with Hyperparameters | Guide",
          "XGBoost | Wrangling with Hyperparameters | Guide",
          "XGBoost | Wrangling with Hyperparameters | Guide"
         ],
         "legendgroup": "GOLD",
         "line": {
          "color": "gold",
          "dash": "solid"
         },
         "marker": {
          "symbol": "circle"
         },
         "mode": "lines",
         "name": "GOLD",
         "orientation": "v",
         "showlegend": false,
         "type": "scatter",
         "x": [
          "2022-08-17",
          "2022-08-18",
          "2022-08-19",
          "2022-08-20",
          "2022-08-21",
          "2022-08-22",
          "2022-08-23",
          "2022-08-24",
          "2022-08-25",
          "2022-08-26",
          "2022-08-27",
          "2022-08-28",
          "2022-08-29",
          "2022-08-30",
          "2022-08-31",
          "2022-09-03",
          "2022-09-04",
          "2022-09-05",
          "2022-09-06",
          "2022-09-07"
         ],
         "xaxis": "x",
         "y": [
          1,
          8,
          34,
          65,
          69,
          71,
          84,
          84,
          87,
          87,
          90,
          93,
          96,
          101,
          104,
          108,
          108,
          109,
          112,
          113
         ],
         "yaxis": "y"
        },
        {
         "hovertemplate": "<b>%{hovertext}</b><br><br>medal=GOLD<br>title=🗓 Intro to Time Series Analysis 🔺  Forecasting🔻<br>date=%{x}<br>count=%{y}<extra></extra>",
         "hovertext": [
          "🗓 Intro to Time Series Analysis 🔺  Forecasting🔻",
          "🗓 Intro to Time Series Analysis 🔺  Forecasting🔻",
          "🗓 Intro to Time Series Analysis 🔺  Forecasting🔻",
          "🗓 Intro to Time Series Analysis 🔺  Forecasting🔻",
          "🗓 Intro to Time Series Analysis 🔺  Forecasting🔻"
         ],
         "legendgroup": "GOLD",
         "line": {
          "color": "gold",
          "dash": "solid"
         },
         "marker": {
          "symbol": "circle"
         },
         "mode": "lines",
         "name": "GOLD",
         "orientation": "v",
         "showlegend": false,
         "type": "scatter",
         "x": [
          "2022-09-03",
          "2022-09-04",
          "2022-09-05",
          "2022-09-06",
          "2022-09-07"
         ],
         "xaxis": "x",
         "y": [
          2,
          11,
          36,
          51,
          65
         ],
         "yaxis": "y"
        },
        {
         "hovertemplate": "<b>%{hovertext}</b><br><br>medal=SILVER<br>title=📚 Coursera 📉 EDA, Sentiment Analysis 🔴🟢🔵<br>date=%{x}<br>count=%{y}<extra></extra>",
         "hovertext": [
          "📚 Coursera 📉 EDA, Sentiment Analysis 🔴🟢🔵",
          "📚 Coursera 📉 EDA, Sentiment Analysis 🔴🟢🔵",
          "📚 Coursera 📉 EDA, Sentiment Analysis 🔴🟢🔵",
          "📚 Coursera 📉 EDA, Sentiment Analysis 🔴🟢🔵",
          "📚 Coursera 📉 EDA, Sentiment Analysis 🔴🟢🔵",
          "📚 Coursera 📉 EDA, Sentiment Analysis 🔴🟢🔵",
          "📚 Coursera 📉 EDA, Sentiment Analysis 🔴🟢🔵",
          "📚 Coursera 📉 EDA, Sentiment Analysis 🔴🟢🔵",
          "📚 Coursera 📉 EDA, Sentiment Analysis 🔴🟢🔵",
          "📚 Coursera 📉 EDA, Sentiment Analysis 🔴🟢🔵",
          "📚 Coursera 📉 EDA, Sentiment Analysis 🔴🟢🔵",
          "📚 Coursera 📉 EDA, Sentiment Analysis 🔴🟢🔵",
          "📚 Coursera 📉 EDA, Sentiment Analysis 🔴🟢🔵",
          "📚 Coursera 📉 EDA, Sentiment Analysis 🔴🟢🔵",
          "📚 Coursera 📉 EDA, Sentiment Analysis 🔴🟢🔵",
          "📚 Coursera 📉 EDA, Sentiment Analysis 🔴🟢🔵",
          "📚 Coursera 📉 EDA, Sentiment Analysis 🔴🟢🔵",
          "📚 Coursera 📉 EDA, Sentiment Analysis 🔴🟢🔵",
          "📚 Coursera 📉 EDA, Sentiment Analysis 🔴🟢🔵",
          "📚 Coursera 📉 EDA, Sentiment Analysis 🔴🟢🔵",
          "📚 Coursera 📉 EDA, Sentiment Analysis 🔴🟢🔵",
          "📚 Coursera 📉 EDA, Sentiment Analysis 🔴🟢🔵",
          "📚 Coursera 📉 EDA, Sentiment Analysis 🔴🟢🔵",
          "📚 Coursera 📉 EDA, Sentiment Analysis 🔴🟢🔵",
          "📚 Coursera 📉 EDA, Sentiment Analysis 🔴🟢🔵",
          "📚 Coursera 📉 EDA, Sentiment Analysis 🔴🟢🔵",
          "📚 Coursera 📉 EDA, Sentiment Analysis 🔴🟢🔵",
          "📚 Coursera 📉 EDA, Sentiment Analysis 🔴🟢🔵",
          "📚 Coursera 📉 EDA, Sentiment Analysis 🔴🟢🔵",
          "📚 Coursera 📉 EDA, Sentiment Analysis 🔴🟢🔵",
          "📚 Coursera 📉 EDA, Sentiment Analysis 🔴🟢🔵",
          "📚 Coursera 📉 EDA, Sentiment Analysis 🔴🟢🔵",
          "📚 Coursera 📉 EDA, Sentiment Analysis 🔴🟢🔵",
          "📚 Coursera 📉 EDA, Sentiment Analysis 🔴🟢🔵",
          "📚 Coursera 📉 EDA, Sentiment Analysis 🔴🟢🔵",
          "📚 Coursera 📉 EDA, Sentiment Analysis 🔴🟢🔵",
          "📚 Coursera 📉 EDA, Sentiment Analysis 🔴🟢🔵",
          "📚 Coursera 📉 EDA, Sentiment Analysis 🔴🟢🔵",
          "📚 Coursera 📉 EDA, Sentiment Analysis 🔴🟢🔵",
          "📚 Coursera 📉 EDA, Sentiment Analysis 🔴🟢🔵",
          "📚 Coursera 📉 EDA, Sentiment Analysis 🔴🟢🔵",
          "📚 Coursera 📉 EDA, Sentiment Analysis 🔴🟢🔵",
          "📚 Coursera 📉 EDA, Sentiment Analysis 🔴🟢🔵",
          "📚 Coursera 📉 EDA, Sentiment Analysis 🔴🟢🔵",
          "📚 Coursera 📉 EDA, Sentiment Analysis 🔴🟢🔵",
          "📚 Coursera 📉 EDA, Sentiment Analysis 🔴🟢🔵",
          "📚 Coursera 📉 EDA, Sentiment Analysis 🔴🟢🔵",
          "📚 Coursera 📉 EDA, Sentiment Analysis 🔴🟢🔵",
          "📚 Coursera 📉 EDA, Sentiment Analysis 🔴🟢🔵",
          "📚 Coursera 📉 EDA, Sentiment Analysis 🔴🟢🔵",
          "📚 Coursera 📉 EDA, Sentiment Analysis 🔴🟢🔵",
          "📚 Coursera 📉 EDA, Sentiment Analysis 🔴🟢🔵",
          "📚 Coursera 📉 EDA, Sentiment Analysis 🔴🟢🔵",
          "📚 Coursera 📉 EDA, Sentiment Analysis 🔴🟢🔵",
          "📚 Coursera 📉 EDA, Sentiment Analysis 🔴🟢🔵",
          "📚 Coursera 📉 EDA, Sentiment Analysis 🔴🟢🔵",
          "📚 Coursera 📉 EDA, Sentiment Analysis 🔴🟢🔵",
          "📚 Coursera 📉 EDA, Sentiment Analysis 🔴🟢🔵",
          "📚 Coursera 📉 EDA, Sentiment Analysis 🔴🟢🔵",
          "📚 Coursera 📉 EDA, Sentiment Analysis 🔴🟢🔵",
          "📚 Coursera 📉 EDA, Sentiment Analysis 🔴🟢🔵",
          "📚 Coursera 📉 EDA, Sentiment Analysis 🔴🟢🔵",
          "📚 Coursera 📉 EDA, Sentiment Analysis 🔴🟢🔵",
          "📚 Coursera 📉 EDA, Sentiment Analysis 🔴🟢🔵",
          "📚 Coursera 📉 EDA, Sentiment Analysis 🔴🟢🔵",
          "📚 Coursera 📉 EDA, Sentiment Analysis 🔴🟢🔵"
         ],
         "legendgroup": "SILVER",
         "line": {
          "color": "silver",
          "dash": "solid"
         },
         "marker": {
          "symbol": "circle"
         },
         "mode": "lines",
         "name": "SILVER",
         "orientation": "v",
         "showlegend": true,
         "type": "scatter",
         "x": [
          "2022-06-12",
          "2022-06-13",
          "2022-06-14",
          "2022-06-15",
          "2022-06-16",
          "2022-06-17",
          "2022-06-18",
          "2022-06-19",
          "2022-06-20",
          "2022-06-21",
          "2022-06-22",
          "2022-06-25",
          "2022-06-26",
          "2022-06-28",
          "2022-06-29",
          "2022-07-01",
          "2022-07-02",
          "2022-07-03",
          "2022-07-04",
          "2022-07-05",
          "2022-07-06",
          "2022-07-07",
          "2022-07-11",
          "2022-07-12",
          "2022-07-14",
          "2022-07-15",
          "2022-07-17",
          "2022-07-18",
          "2022-07-21",
          "2022-07-22",
          "2022-07-23",
          "2022-07-24",
          "2022-07-25",
          "2022-07-26",
          "2022-07-29",
          "2022-07-30",
          "2022-07-31",
          "2022-08-01",
          "2022-08-03",
          "2022-08-05",
          "2022-08-06",
          "2022-08-08",
          "2022-08-10",
          "2022-08-12",
          "2022-08-14",
          "2022-08-16",
          "2022-08-17",
          "2022-08-18",
          "2022-08-19",
          "2022-08-20",
          "2022-08-21",
          "2022-08-22",
          "2022-08-23",
          "2022-08-24",
          "2022-08-25",
          "2022-08-26",
          "2022-08-27",
          "2022-08-28",
          "2022-08-29",
          "2022-08-30",
          "2022-08-31",
          "2022-09-03",
          "2022-09-04",
          "2022-09-05",
          "2022-09-06",
          "2022-09-07"
         ],
         "xaxis": "x",
         "y": [
          26,
          26,
          26,
          26,
          27,
          27,
          27,
          27,
          27,
          27,
          27,
          27,
          27,
          27,
          27,
          27,
          27,
          27,
          27,
          28,
          28,
          28,
          28,
          28,
          28,
          28,
          29,
          29,
          29,
          29,
          29,
          29,
          30,
          30,
          31,
          32,
          33,
          36,
          37,
          37,
          37,
          38,
          41,
          43,
          44,
          48,
          49,
          50,
          51,
          51,
          51,
          51,
          51,
          51,
          52,
          52,
          53,
          53,
          55,
          55,
          55,
          54,
          55,
          57,
          58,
          58
         ],
         "yaxis": "y"
        },
        {
         "hovertemplate": "<b>%{hovertext}</b><br><br>medal=SILVER<br>title=📆 Daily AQI 🗺️ Scheduled + Dataset 🌪️<br>date=%{x}<br>count=%{y}<extra></extra>",
         "hovertext": [
          "📆 Daily AQI 🗺️ Scheduled + Dataset 🌪️",
          "📆 Daily AQI 🗺️ Scheduled + Dataset 🌪️",
          "📆 Daily AQI 🗺️ Scheduled + Dataset 🌪️",
          "📆 Daily AQI 🗺️ Scheduled + Dataset 🌪️",
          "📆 Daily AQI 🗺️ Scheduled + Dataset 🌪️",
          "📆 Daily AQI 🗺️ Scheduled + Dataset 🌪️",
          "📆 Daily AQI 🗺️ Scheduled + Dataset 🌪️",
          "📆 Daily AQI 🗺️ Scheduled + Dataset 🌪️",
          "📆 Daily AQI 🗺️ Scheduled + Dataset 🌪️",
          "📆 Daily AQI 🗺️ Scheduled + Dataset 🌪️",
          "📆 Daily AQI 🗺️ Scheduled + Dataset 🌪️",
          "📆 Daily AQI 🗺️ Scheduled + Dataset 🌪️",
          "📆 Daily AQI 🗺️ Scheduled + Dataset 🌪️",
          "📆 Daily AQI 🗺️ Scheduled + Dataset 🌪️",
          "📆 Daily AQI 🗺️ Scheduled + Dataset 🌪️",
          "📆 Daily AQI 🗺️ Scheduled + Dataset 🌪️",
          "📆 Daily AQI 🗺️ Scheduled + Dataset 🌪️",
          "📆 Daily AQI 🗺️ Scheduled + Dataset 🌪️",
          "📆 Daily AQI 🗺️ Scheduled + Dataset 🌪️",
          "📆 Daily AQI 🗺️ Scheduled + Dataset 🌪️",
          "📆 Daily AQI 🗺️ Scheduled + Dataset 🌪️",
          "📆 Daily AQI 🗺️ Scheduled + Dataset 🌪️",
          "📆 Daily AQI 🗺️ Scheduled + Dataset 🌪️",
          "📆 Daily AQI 🗺️ Scheduled + Dataset 🌪️",
          "📆 Daily AQI 🗺️ Scheduled + Dataset 🌪️",
          "📆 Daily AQI 🗺️ Scheduled + Dataset 🌪️",
          "📆 Daily AQI 🗺️ Scheduled + Dataset 🌪️",
          "📆 Daily AQI 🗺️ Scheduled + Dataset 🌪️",
          "📆 Daily AQI 🗺️ Scheduled + Dataset 🌪️",
          "📆 Daily AQI 🗺️ Scheduled + Dataset 🌪️",
          "📆 Daily AQI 🗺️ Scheduled + Dataset 🌪️",
          "📆 Daily AQI 🗺️ Scheduled + Dataset 🌪️",
          "📆 Daily AQI 🗺️ Scheduled + Dataset 🌪️",
          "📆 Daily AQI 🗺️ Scheduled + Dataset 🌪️",
          "📆 Daily AQI 🗺️ Scheduled + Dataset 🌪️",
          "📆 Daily AQI 🗺️ Scheduled + Dataset 🌪️",
          "📆 Daily AQI 🗺️ Scheduled + Dataset 🌪️",
          "📆 Daily AQI 🗺️ Scheduled + Dataset 🌪️"
         ],
         "legendgroup": "SILVER",
         "line": {
          "color": "silver",
          "dash": "solid"
         },
         "marker": {
          "symbol": "circle"
         },
         "mode": "lines",
         "name": "SILVER",
         "orientation": "v",
         "showlegend": false,
         "type": "scatter",
         "x": [
          "2022-07-21",
          "2022-07-22",
          "2022-07-23",
          "2022-07-24",
          "2022-07-25",
          "2022-07-26",
          "2022-07-29",
          "2022-07-30",
          "2022-07-31",
          "2022-08-01",
          "2022-08-03",
          "2022-08-05",
          "2022-08-06",
          "2022-08-08",
          "2022-08-10",
          "2022-08-12",
          "2022-08-14",
          "2022-08-16",
          "2022-08-17",
          "2022-08-18",
          "2022-08-19",
          "2022-08-20",
          "2022-08-21",
          "2022-08-22",
          "2022-08-23",
          "2022-08-24",
          "2022-08-25",
          "2022-08-26",
          "2022-08-27",
          "2022-08-28",
          "2022-08-29",
          "2022-08-30",
          "2022-08-31",
          "2022-09-03",
          "2022-09-04",
          "2022-09-05",
          "2022-09-06",
          "2022-09-07"
         ],
         "xaxis": "x",
         "y": [
          3,
          11,
          12,
          14,
          15,
          16,
          18,
          18,
          19,
          22,
          23,
          25,
          26,
          28,
          32,
          35,
          39,
          42,
          45,
          45,
          48,
          48,
          49,
          50,
          51,
          51,
          52,
          52,
          53,
          53,
          56,
          57,
          57,
          56,
          57,
          59,
          59,
          60
         ],
         "yaxis": "y"
        },
        {
         "hovertemplate": "<b>%{hovertext}</b><br><br>medal=SILVER<br>title=House Price Prediction with Stacking & Ensembling<br>date=%{x}<br>count=%{y}<extra></extra>",
         "hovertext": [
          "House Price Prediction with Stacking & Ensembling",
          "House Price Prediction with Stacking & Ensembling",
          "House Price Prediction with Stacking & Ensembling",
          "House Price Prediction with Stacking & Ensembling",
          "House Price Prediction with Stacking & Ensembling",
          "House Price Prediction with Stacking & Ensembling",
          "House Price Prediction with Stacking & Ensembling",
          "House Price Prediction with Stacking & Ensembling",
          "House Price Prediction with Stacking & Ensembling",
          "House Price Prediction with Stacking & Ensembling",
          "House Price Prediction with Stacking & Ensembling",
          "House Price Prediction with Stacking & Ensembling",
          "House Price Prediction with Stacking & Ensembling",
          "House Price Prediction with Stacking & Ensembling",
          "House Price Prediction with Stacking & Ensembling",
          "House Price Prediction with Stacking & Ensembling",
          "House Price Prediction with Stacking & Ensembling",
          "House Price Prediction with Stacking & Ensembling",
          "House Price Prediction with Stacking & Ensembling",
          "House Price Prediction with Stacking & Ensembling"
         ],
         "legendgroup": "SILVER",
         "line": {
          "color": "silver",
          "dash": "solid"
         },
         "marker": {
          "symbol": "circle"
         },
         "mode": "lines",
         "name": "SILVER",
         "orientation": "v",
         "showlegend": false,
         "type": "scatter",
         "x": [
          "2022-08-17",
          "2022-08-18",
          "2022-08-19",
          "2022-08-20",
          "2022-08-21",
          "2022-08-22",
          "2022-08-23",
          "2022-08-24",
          "2022-08-25",
          "2022-08-26",
          "2022-08-27",
          "2022-08-28",
          "2022-08-29",
          "2022-08-30",
          "2022-08-31",
          "2022-09-03",
          "2022-09-04",
          "2022-09-05",
          "2022-09-06",
          "2022-09-07"
         ],
         "xaxis": "x",
         "y": [
          7,
          10,
          15,
          15,
          17,
          19,
          20,
          20,
          24,
          26,
          27,
          29,
          31,
          32,
          32,
          36,
          37,
          40,
          41,
          43
         ],
         "yaxis": "y"
        },
        {
         "hovertemplate": "<b>%{hovertext}</b><br><br>medal=BRONZE<br>title=🔮 LSTM 🗓️ Time Series Forecasting 📆<br>date=%{x}<br>count=%{y}<extra></extra>",
         "hovertext": [
          "🔮 LSTM 🗓️ Time Series Forecasting 📆",
          "🔮 LSTM 🗓️ Time Series Forecasting 📆",
          "🔮 LSTM 🗓️ Time Series Forecasting 📆",
          "🔮 LSTM 🗓️ Time Series Forecasting 📆",
          "🔮 LSTM 🗓️ Time Series Forecasting 📆"
         ],
         "legendgroup": "BRONZE",
         "line": {
          "color": "chocolate",
          "dash": "solid"
         },
         "marker": {
          "symbol": "circle"
         },
         "mode": "lines",
         "name": "BRONZE",
         "orientation": "v",
         "showlegend": true,
         "type": "scatter",
         "x": [
          "2022-09-03",
          "2022-09-04",
          "2022-09-05",
          "2022-09-06",
          "2022-09-07"
         ],
         "xaxis": "x",
         "y": [
          1,
          11,
          22,
          22,
          22
         ],
         "yaxis": "y"
        },
        {
         "marker": {
          "color": "gold",
          "size": 10
         },
         "mode": "markers+text",
         "text": "[77]UCL ⚽ EDA & Viz ⭐ 2021-22 ⭐ Players & Teams",
         "textposition": "middle right",
         "type": "scatter",
         "x": [
          "2022-09-07"
         ],
         "y": [
          77
         ]
        },
        {
         "marker": {
          "color": "gold",
          "size": 10
         },
         "mode": "markers+text",
         "text": "[64]Divorce Prediction & Reasons : XGB,SHAP,RFE,TSNE",
         "textposition": "middle right",
         "type": "scatter",
         "x": [
          "2022-09-07"
         ],
         "y": [
          64
         ]
        },
        {
         "marker": {
          "color": "gold",
          "size": 10
         },
         "mode": "markers+text",
         "text": "[77]Advanced Feature Engineering for Classification",
         "textposition": "middle right",
         "type": "scatter",
         "x": [
          "2022-09-07"
         ],
         "y": [
          77
         ]
        },
        {
         "marker": {
          "color": "gold",
          "size": 10
         },
         "mode": "markers+text",
         "text": "[195]All Imputation Techniques with Pros and Cons",
         "textposition": "middle right",
         "type": "scatter",
         "x": [
          "2022-09-07"
         ],
         "y": [
          195
         ]
        },
        {
         "marker": {
          "color": "gold",
          "size": 10
         },
         "mode": "markers+text",
         "text": "[114]Mastering Bias-Variance Tradeoff ",
         "textposition": "middle right",
         "type": "scatter",
         "x": [
          "2022-09-07"
         ],
         "y": [
          114
         ]
        },
        {
         "marker": {
          "color": "gold",
          "size": 10
         },
         "mode": "markers+text",
         "text": "[88]▶️ Lionel Messi 📊 Extended EDA ⚽ Goals ",
         "textposition": "middle right",
         "type": "scatter",
         "x": [
          "2022-09-07"
         ],
         "y": [
          88
         ]
        },
        {
         "marker": {
          "color": "gold",
          "size": 10
         },
         "mode": "markers+text",
         "text": "[88]▶️ Cristiano Ronaldo ⚽ Goals  📊 EDA, Analysis",
         "textposition": "middle right",
         "type": "scatter",
         "x": [
          "2022-09-07"
         ],
         "y": [
          88
         ]
        },
        {
         "marker": {
          "color": "gold",
          "size": 10
         },
         "mode": "markers+text",
         "text": "[62]Investment and Financial Analysis  🏭 EPZ",
         "textposition": "middle right",
         "type": "scatter",
         "x": [
          "2022-09-07"
         ],
         "y": [
          62
         ]
        },
        {
         "marker": {
          "color": "gold",
          "size": 10
         },
         "mode": "markers+text",
         "text": "[82]ML Foundation ➡️ Cross Validation ✅ All Methods",
         "textposition": "middle right",
         "type": "scatter",
         "x": [
          "2022-09-07"
         ],
         "y": [
          82
         ]
        },
        {
         "marker": {
          "color": "gold",
          "size": 10
         },
         "mode": "markers+text",
         "text": "[162]Different Clustering Techniques and Algorithms",
         "textposition": "middle right",
         "type": "scatter",
         "x": [
          "2022-09-07"
         ],
         "y": [
          162
         ]
        },
        {
         "marker": {
          "color": "gold",
          "size": 10
         },
         "mode": "markers+text",
         "text": "[79]Classification ➡️ Comparing Different Algorithms",
         "textposition": "middle right",
         "type": "scatter",
         "x": [
          "2022-09-07"
         ],
         "y": [
          79
         ]
        },
        {
         "marker": {
          "color": "gold",
          "size": 10
         },
         "mode": "markers+text",
         "text": "[113]XGBoost | Wrangling with Hyperparameters | Guide",
         "textposition": "middle right",
         "type": "scatter",
         "x": [
          "2022-09-07"
         ],
         "y": [
          113
         ]
        },
        {
         "marker": {
          "color": "gold",
          "size": 10
         },
         "mode": "markers+text",
         "text": "[65]🗓 Intro to Time Series Analysis 🔺  Forecasting🔻",
         "textposition": "middle right",
         "type": "scatter",
         "x": [
          "2022-09-07"
         ],
         "y": [
          65
         ]
        },
        {
         "marker": {
          "color": "silver",
          "size": 10
         },
         "mode": "markers+text",
         "text": "[58]📚 Coursera 📉 EDA, Sentiment Analysis 🔴🟢🔵",
         "textposition": "middle right",
         "type": "scatter",
         "x": [
          "2022-09-07"
         ],
         "y": [
          58
         ]
        },
        {
         "marker": {
          "color": "silver",
          "size": 10
         },
         "mode": "markers+text",
         "text": "[60]📆 Daily AQI 🗺️ Scheduled + Dataset 🌪️",
         "textposition": "middle right",
         "type": "scatter",
         "x": [
          "2022-09-07"
         ],
         "y": [
          60
         ]
        },
        {
         "marker": {
          "color": "silver",
          "size": 10
         },
         "mode": "markers+text",
         "text": "[43]House Price Prediction with Stacking & Ensembling",
         "textposition": "middle right",
         "type": "scatter",
         "x": [
          "2022-09-07"
         ],
         "y": [
          43
         ]
        },
        {
         "marker": {
          "color": "chocolate",
          "size": 10
         },
         "mode": "markers+text",
         "text": "[22]🔮 LSTM 🗓️ Time Series Forecasting 📆",
         "textposition": "middle right",
         "type": "scatter",
         "x": [
          "2022-09-07"
         ],
         "y": [
          22
         ]
        }
       ],
       "layout": {
        "height": 800,
        "legend": {
         "title": {
          "text": "medal"
         },
         "tracegroupgap": 0
        },
        "showlegend": false,
        "template": {
         "data": {
          "bar": [
           {
            "error_x": {
             "color": "#f2f5fa"
            },
            "error_y": {
             "color": "#f2f5fa"
            },
            "marker": {
             "line": {
              "color": "rgb(17,17,17)",
              "width": 0.5
             },
             "pattern": {
              "fillmode": "overlay",
              "size": 10,
              "solidity": 0.2
             }
            },
            "type": "bar"
           }
          ],
          "barpolar": [
           {
            "marker": {
             "line": {
              "color": "rgb(17,17,17)",
              "width": 0.5
             },
             "pattern": {
              "fillmode": "overlay",
              "size": 10,
              "solidity": 0.2
             }
            },
            "type": "barpolar"
           }
          ],
          "carpet": [
           {
            "aaxis": {
             "endlinecolor": "#A2B1C6",
             "gridcolor": "#506784",
             "linecolor": "#506784",
             "minorgridcolor": "#506784",
             "startlinecolor": "#A2B1C6"
            },
            "baxis": {
             "endlinecolor": "#A2B1C6",
             "gridcolor": "#506784",
             "linecolor": "#506784",
             "minorgridcolor": "#506784",
             "startlinecolor": "#A2B1C6"
            },
            "type": "carpet"
           }
          ],
          "choropleth": [
           {
            "colorbar": {
             "outlinewidth": 0,
             "ticks": ""
            },
            "type": "choropleth"
           }
          ],
          "contour": [
           {
            "colorbar": {
             "outlinewidth": 0,
             "ticks": ""
            },
            "colorscale": [
             [
              0,
              "#0d0887"
             ],
             [
              0.1111111111111111,
              "#46039f"
             ],
             [
              0.2222222222222222,
              "#7201a8"
             ],
             [
              0.3333333333333333,
              "#9c179e"
             ],
             [
              0.4444444444444444,
              "#bd3786"
             ],
             [
              0.5555555555555556,
              "#d8576b"
             ],
             [
              0.6666666666666666,
              "#ed7953"
             ],
             [
              0.7777777777777778,
              "#fb9f3a"
             ],
             [
              0.8888888888888888,
              "#fdca26"
             ],
             [
              1,
              "#f0f921"
             ]
            ],
            "type": "contour"
           }
          ],
          "contourcarpet": [
           {
            "colorbar": {
             "outlinewidth": 0,
             "ticks": ""
            },
            "type": "contourcarpet"
           }
          ],
          "heatmap": [
           {
            "colorbar": {
             "outlinewidth": 0,
             "ticks": ""
            },
            "colorscale": [
             [
              0,
              "#0d0887"
             ],
             [
              0.1111111111111111,
              "#46039f"
             ],
             [
              0.2222222222222222,
              "#7201a8"
             ],
             [
              0.3333333333333333,
              "#9c179e"
             ],
             [
              0.4444444444444444,
              "#bd3786"
             ],
             [
              0.5555555555555556,
              "#d8576b"
             ],
             [
              0.6666666666666666,
              "#ed7953"
             ],
             [
              0.7777777777777778,
              "#fb9f3a"
             ],
             [
              0.8888888888888888,
              "#fdca26"
             ],
             [
              1,
              "#f0f921"
             ]
            ],
            "type": "heatmap"
           }
          ],
          "heatmapgl": [
           {
            "colorbar": {
             "outlinewidth": 0,
             "ticks": ""
            },
            "colorscale": [
             [
              0,
              "#0d0887"
             ],
             [
              0.1111111111111111,
              "#46039f"
             ],
             [
              0.2222222222222222,
              "#7201a8"
             ],
             [
              0.3333333333333333,
              "#9c179e"
             ],
             [
              0.4444444444444444,
              "#bd3786"
             ],
             [
              0.5555555555555556,
              "#d8576b"
             ],
             [
              0.6666666666666666,
              "#ed7953"
             ],
             [
              0.7777777777777778,
              "#fb9f3a"
             ],
             [
              0.8888888888888888,
              "#fdca26"
             ],
             [
              1,
              "#f0f921"
             ]
            ],
            "type": "heatmapgl"
           }
          ],
          "histogram": [
           {
            "marker": {
             "pattern": {
              "fillmode": "overlay",
              "size": 10,
              "solidity": 0.2
             }
            },
            "type": "histogram"
           }
          ],
          "histogram2d": [
           {
            "colorbar": {
             "outlinewidth": 0,
             "ticks": ""
            },
            "colorscale": [
             [
              0,
              "#0d0887"
             ],
             [
              0.1111111111111111,
              "#46039f"
             ],
             [
              0.2222222222222222,
              "#7201a8"
             ],
             [
              0.3333333333333333,
              "#9c179e"
             ],
             [
              0.4444444444444444,
              "#bd3786"
             ],
             [
              0.5555555555555556,
              "#d8576b"
             ],
             [
              0.6666666666666666,
              "#ed7953"
             ],
             [
              0.7777777777777778,
              "#fb9f3a"
             ],
             [
              0.8888888888888888,
              "#fdca26"
             ],
             [
              1,
              "#f0f921"
             ]
            ],
            "type": "histogram2d"
           }
          ],
          "histogram2dcontour": [
           {
            "colorbar": {
             "outlinewidth": 0,
             "ticks": ""
            },
            "colorscale": [
             [
              0,
              "#0d0887"
             ],
             [
              0.1111111111111111,
              "#46039f"
             ],
             [
              0.2222222222222222,
              "#7201a8"
             ],
             [
              0.3333333333333333,
              "#9c179e"
             ],
             [
              0.4444444444444444,
              "#bd3786"
             ],
             [
              0.5555555555555556,
              "#d8576b"
             ],
             [
              0.6666666666666666,
              "#ed7953"
             ],
             [
              0.7777777777777778,
              "#fb9f3a"
             ],
             [
              0.8888888888888888,
              "#fdca26"
             ],
             [
              1,
              "#f0f921"
             ]
            ],
            "type": "histogram2dcontour"
           }
          ],
          "mesh3d": [
           {
            "colorbar": {
             "outlinewidth": 0,
             "ticks": ""
            },
            "type": "mesh3d"
           }
          ],
          "parcoords": [
           {
            "line": {
             "colorbar": {
              "outlinewidth": 0,
              "ticks": ""
             }
            },
            "type": "parcoords"
           }
          ],
          "pie": [
           {
            "automargin": true,
            "type": "pie"
           }
          ],
          "scatter": [
           {
            "marker": {
             "line": {
              "color": "#283442"
             }
            },
            "type": "scatter"
           }
          ],
          "scatter3d": [
           {
            "line": {
             "colorbar": {
              "outlinewidth": 0,
              "ticks": ""
             }
            },
            "marker": {
             "colorbar": {
              "outlinewidth": 0,
              "ticks": ""
             }
            },
            "type": "scatter3d"
           }
          ],
          "scattercarpet": [
           {
            "marker": {
             "colorbar": {
              "outlinewidth": 0,
              "ticks": ""
             }
            },
            "type": "scattercarpet"
           }
          ],
          "scattergeo": [
           {
            "marker": {
             "colorbar": {
              "outlinewidth": 0,
              "ticks": ""
             }
            },
            "type": "scattergeo"
           }
          ],
          "scattergl": [
           {
            "marker": {
             "line": {
              "color": "#283442"
             }
            },
            "type": "scattergl"
           }
          ],
          "scattermapbox": [
           {
            "marker": {
             "colorbar": {
              "outlinewidth": 0,
              "ticks": ""
             }
            },
            "type": "scattermapbox"
           }
          ],
          "scatterpolar": [
           {
            "marker": {
             "colorbar": {
              "outlinewidth": 0,
              "ticks": ""
             }
            },
            "type": "scatterpolar"
           }
          ],
          "scatterpolargl": [
           {
            "marker": {
             "colorbar": {
              "outlinewidth": 0,
              "ticks": ""
             }
            },
            "type": "scatterpolargl"
           }
          ],
          "scatterternary": [
           {
            "marker": {
             "colorbar": {
              "outlinewidth": 0,
              "ticks": ""
             }
            },
            "type": "scatterternary"
           }
          ],
          "surface": [
           {
            "colorbar": {
             "outlinewidth": 0,
             "ticks": ""
            },
            "colorscale": [
             [
              0,
              "#0d0887"
             ],
             [
              0.1111111111111111,
              "#46039f"
             ],
             [
              0.2222222222222222,
              "#7201a8"
             ],
             [
              0.3333333333333333,
              "#9c179e"
             ],
             [
              0.4444444444444444,
              "#bd3786"
             ],
             [
              0.5555555555555556,
              "#d8576b"
             ],
             [
              0.6666666666666666,
              "#ed7953"
             ],
             [
              0.7777777777777778,
              "#fb9f3a"
             ],
             [
              0.8888888888888888,
              "#fdca26"
             ],
             [
              1,
              "#f0f921"
             ]
            ],
            "type": "surface"
           }
          ],
          "table": [
           {
            "cells": {
             "fill": {
              "color": "#506784"
             },
             "line": {
              "color": "rgb(17,17,17)"
             }
            },
            "header": {
             "fill": {
              "color": "#2a3f5f"
             },
             "line": {
              "color": "rgb(17,17,17)"
             }
            },
            "type": "table"
           }
          ]
         },
         "layout": {
          "annotationdefaults": {
           "arrowcolor": "#f2f5fa",
           "arrowhead": 0,
           "arrowwidth": 1
          },
          "autotypenumbers": "strict",
          "coloraxis": {
           "colorbar": {
            "outlinewidth": 0,
            "ticks": ""
           }
          },
          "colorscale": {
           "diverging": [
            [
             0,
             "#8e0152"
            ],
            [
             0.1,
             "#c51b7d"
            ],
            [
             0.2,
             "#de77ae"
            ],
            [
             0.3,
             "#f1b6da"
            ],
            [
             0.4,
             "#fde0ef"
            ],
            [
             0.5,
             "#f7f7f7"
            ],
            [
             0.6,
             "#e6f5d0"
            ],
            [
             0.7,
             "#b8e186"
            ],
            [
             0.8,
             "#7fbc41"
            ],
            [
             0.9,
             "#4d9221"
            ],
            [
             1,
             "#276419"
            ]
           ],
           "sequential": [
            [
             0,
             "#0d0887"
            ],
            [
             0.1111111111111111,
             "#46039f"
            ],
            [
             0.2222222222222222,
             "#7201a8"
            ],
            [
             0.3333333333333333,
             "#9c179e"
            ],
            [
             0.4444444444444444,
             "#bd3786"
            ],
            [
             0.5555555555555556,
             "#d8576b"
            ],
            [
             0.6666666666666666,
             "#ed7953"
            ],
            [
             0.7777777777777778,
             "#fb9f3a"
            ],
            [
             0.8888888888888888,
             "#fdca26"
            ],
            [
             1,
             "#f0f921"
            ]
           ],
           "sequentialminus": [
            [
             0,
             "#0d0887"
            ],
            [
             0.1111111111111111,
             "#46039f"
            ],
            [
             0.2222222222222222,
             "#7201a8"
            ],
            [
             0.3333333333333333,
             "#9c179e"
            ],
            [
             0.4444444444444444,
             "#bd3786"
            ],
            [
             0.5555555555555556,
             "#d8576b"
            ],
            [
             0.6666666666666666,
             "#ed7953"
            ],
            [
             0.7777777777777778,
             "#fb9f3a"
            ],
            [
             0.8888888888888888,
             "#fdca26"
            ],
            [
             1,
             "#f0f921"
            ]
           ]
          },
          "colorway": [
           "#636efa",
           "#EF553B",
           "#00cc96",
           "#ab63fa",
           "#FFA15A",
           "#19d3f3",
           "#FF6692",
           "#B6E880",
           "#FF97FF",
           "#FECB52"
          ],
          "font": {
           "color": "#f2f5fa"
          },
          "geo": {
           "bgcolor": "rgb(17,17,17)",
           "lakecolor": "rgb(17,17,17)",
           "landcolor": "rgb(17,17,17)",
           "showlakes": true,
           "showland": true,
           "subunitcolor": "#506784"
          },
          "hoverlabel": {
           "align": "left"
          },
          "hovermode": "closest",
          "mapbox": {
           "style": "dark"
          },
          "paper_bgcolor": "rgb(17,17,17)",
          "plot_bgcolor": "rgb(17,17,17)",
          "polar": {
           "angularaxis": {
            "gridcolor": "#506784",
            "linecolor": "#506784",
            "ticks": ""
           },
           "bgcolor": "rgb(17,17,17)",
           "radialaxis": {
            "gridcolor": "#506784",
            "linecolor": "#506784",
            "ticks": ""
           }
          },
          "scene": {
           "xaxis": {
            "backgroundcolor": "rgb(17,17,17)",
            "gridcolor": "#506784",
            "gridwidth": 2,
            "linecolor": "#506784",
            "showbackground": true,
            "ticks": "",
            "zerolinecolor": "#C8D4E3"
           },
           "yaxis": {
            "backgroundcolor": "rgb(17,17,17)",
            "gridcolor": "#506784",
            "gridwidth": 2,
            "linecolor": "#506784",
            "showbackground": true,
            "ticks": "",
            "zerolinecolor": "#C8D4E3"
           },
           "zaxis": {
            "backgroundcolor": "rgb(17,17,17)",
            "gridcolor": "#506784",
            "gridwidth": 2,
            "linecolor": "#506784",
            "showbackground": true,
            "ticks": "",
            "zerolinecolor": "#C8D4E3"
           }
          },
          "shapedefaults": {
           "line": {
            "color": "#f2f5fa"
           }
          },
          "sliderdefaults": {
           "bgcolor": "#C8D4E3",
           "bordercolor": "rgb(17,17,17)",
           "borderwidth": 1,
           "tickwidth": 0
          },
          "ternary": {
           "aaxis": {
            "gridcolor": "#506784",
            "linecolor": "#506784",
            "ticks": ""
           },
           "baxis": {
            "gridcolor": "#506784",
            "linecolor": "#506784",
            "ticks": ""
           },
           "bgcolor": "rgb(17,17,17)",
           "caxis": {
            "gridcolor": "#506784",
            "linecolor": "#506784",
            "ticks": ""
           }
          },
          "title": {
           "x": 0.05
          },
          "updatemenudefaults": {
           "bgcolor": "#506784",
           "borderwidth": 0
          },
          "xaxis": {
           "automargin": true,
           "gridcolor": "#283442",
           "linecolor": "#506784",
           "ticks": "",
           "title": {
            "standoff": 15
           },
           "zerolinecolor": "#283442",
           "zerolinewidth": 2
          },
          "yaxis": {
           "automargin": true,
           "gridcolor": "#283442",
           "linecolor": "#506784",
           "ticks": "",
           "title": {
            "standoff": 15
           },
           "zerolinecolor": "#283442",
           "zerolinewidth": 2
          }
         }
        },
        "title": {
         "text": "Notebooks by Azmine Wasi - Upvotes Count 2022-09-06"
        },
        "xaxis": {
         "anchor": "y",
         "domain": [
          0,
          1
         ],
         "title": {
          "text": "date"
         }
        },
        "yaxis": {
         "anchor": "x",
         "domain": [
          0,
          1
         ],
         "title": {
          "text": "count"
         }
        }
       }
      }
     },
     "metadata": {},
     "output_type": "display_data"
    }
   ],
   "source": [
    "fig=px.line(\n",
    "    df_d,\n",
    "    x='date',\n",
    "    y='count',\n",
    "    title=f'Notebooks by {df.author_displayName.get(0)} - Upvotes Count '+str(links[-2][25:35]),\n",
    "    log_x=False,\n",
    "    log_y=False,\n",
    "    line_group='title',\n",
    "    #symbol='title',\n",
    "    markers=False,\n",
    "    #width=800, \n",
    "    height=800,\n",
    "    #line_shape='spline',\n",
    "    color='medal',\n",
    "    color_discrete_map=color_map,\n",
    "    template='plotly_dark',\n",
    "    hover_name='title')\n",
    "\n",
    "# add traces for annotations and text for end of lines\n",
    "for i in range (len(fig.data)):\n",
    "    fig.add_scatter(x = [fig.data[i].x[-1]], y = [fig.data[i].y[-1]],\n",
    "                     marker = {'color':color_map[fig.data[i].name], 'size':10},\n",
    "                     text = str([fig.data[i].y[-1]])+ str(fig.data[i].hovertext[0]),\n",
    "                     mode = 'markers + text',\n",
    "                     textposition='middle right')\n",
    "fig.update_layout(showlegend=False)\n",
    "fig.show()"
   ]
  },
  {
   "cell_type": "code",
   "execution_count": 30,
   "id": "ef90ca2e",
   "metadata": {},
   "outputs": [
    {
     "data": {
      "application/vnd.plotly.v1+json": {
       "config": {
        "plotlyServerURL": "https://plot.ly"
       },
       "data": [
        {
         "hovertemplate": "<b>%{hovertext}</b><br><br>medal=GOLD<br>title=UCL ⚽ EDA & Viz ⭐ 2021-22 ⭐ Players & Teams<br>date=%{x}<br>view_count=%{y}<extra></extra>",
         "hovertext": [
          "UCL ⚽ EDA & Viz ⭐ 2021-22 ⭐ Players & Teams",
          "UCL ⚽ EDA & Viz ⭐ 2021-22 ⭐ Players & Teams",
          "UCL ⚽ EDA & Viz ⭐ 2021-22 ⭐ Players & Teams",
          "UCL ⚽ EDA & Viz ⭐ 2021-22 ⭐ Players & Teams",
          "UCL ⚽ EDA & Viz ⭐ 2021-22 ⭐ Players & Teams",
          "UCL ⚽ EDA & Viz ⭐ 2021-22 ⭐ Players & Teams",
          "UCL ⚽ EDA & Viz ⭐ 2021-22 ⭐ Players & Teams",
          "UCL ⚽ EDA & Viz ⭐ 2021-22 ⭐ Players & Teams",
          "UCL ⚽ EDA & Viz ⭐ 2021-22 ⭐ Players & Teams",
          "UCL ⚽ EDA & Viz ⭐ 2021-22 ⭐ Players & Teams",
          "UCL ⚽ EDA & Viz ⭐ 2021-22 ⭐ Players & Teams",
          "UCL ⚽ EDA & Viz ⭐ 2021-22 ⭐ Players & Teams",
          "UCL ⚽ EDA & Viz ⭐ 2021-22 ⭐ Players & Teams",
          "UCL ⚽ EDA & Viz ⭐ 2021-22 ⭐ Players & Teams",
          "UCL ⚽ EDA & Viz ⭐ 2021-22 ⭐ Players & Teams",
          "UCL ⚽ EDA & Viz ⭐ 2021-22 ⭐ Players & Teams",
          "UCL ⚽ EDA & Viz ⭐ 2021-22 ⭐ Players & Teams",
          "UCL ⚽ EDA & Viz ⭐ 2021-22 ⭐ Players & Teams",
          "UCL ⚽ EDA & Viz ⭐ 2021-22 ⭐ Players & Teams",
          "UCL ⚽ EDA & Viz ⭐ 2021-22 ⭐ Players & Teams",
          "UCL ⚽ EDA & Viz ⭐ 2021-22 ⭐ Players & Teams",
          "UCL ⚽ EDA & Viz ⭐ 2021-22 ⭐ Players & Teams",
          "UCL ⚽ EDA & Viz ⭐ 2021-22 ⭐ Players & Teams",
          "UCL ⚽ EDA & Viz ⭐ 2021-22 ⭐ Players & Teams",
          "UCL ⚽ EDA & Viz ⭐ 2021-22 ⭐ Players & Teams",
          "UCL ⚽ EDA & Viz ⭐ 2021-22 ⭐ Players & Teams",
          "UCL ⚽ EDA & Viz ⭐ 2021-22 ⭐ Players & Teams",
          "UCL ⚽ EDA & Viz ⭐ 2021-22 ⭐ Players & Teams",
          "UCL ⚽ EDA & Viz ⭐ 2021-22 ⭐ Players & Teams",
          "UCL ⚽ EDA & Viz ⭐ 2021-22 ⭐ Players & Teams",
          "UCL ⚽ EDA & Viz ⭐ 2021-22 ⭐ Players & Teams",
          "UCL ⚽ EDA & Viz ⭐ 2021-22 ⭐ Players & Teams",
          "UCL ⚽ EDA & Viz ⭐ 2021-22 ⭐ Players & Teams",
          "UCL ⚽ EDA & Viz ⭐ 2021-22 ⭐ Players & Teams",
          "UCL ⚽ EDA & Viz ⭐ 2021-22 ⭐ Players & Teams",
          "UCL ⚽ EDA & Viz ⭐ 2021-22 ⭐ Players & Teams",
          "UCL ⚽ EDA & Viz ⭐ 2021-22 ⭐ Players & Teams",
          "UCL ⚽ EDA & Viz ⭐ 2021-22 ⭐ Players & Teams",
          "UCL ⚽ EDA & Viz ⭐ 2021-22 ⭐ Players & Teams",
          "UCL ⚽ EDA & Viz ⭐ 2021-22 ⭐ Players & Teams",
          "UCL ⚽ EDA & Viz ⭐ 2021-22 ⭐ Players & Teams",
          "UCL ⚽ EDA & Viz ⭐ 2021-22 ⭐ Players & Teams",
          "UCL ⚽ EDA & Viz ⭐ 2021-22 ⭐ Players & Teams",
          "UCL ⚽ EDA & Viz ⭐ 2021-22 ⭐ Players & Teams",
          "UCL ⚽ EDA & Viz ⭐ 2021-22 ⭐ Players & Teams",
          "UCL ⚽ EDA & Viz ⭐ 2021-22 ⭐ Players & Teams",
          "UCL ⚽ EDA & Viz ⭐ 2021-22 ⭐ Players & Teams",
          "UCL ⚽ EDA & Viz ⭐ 2021-22 ⭐ Players & Teams",
          "UCL ⚽ EDA & Viz ⭐ 2021-22 ⭐ Players & Teams",
          "UCL ⚽ EDA & Viz ⭐ 2021-22 ⭐ Players & Teams",
          "UCL ⚽ EDA & Viz ⭐ 2021-22 ⭐ Players & Teams",
          "UCL ⚽ EDA & Viz ⭐ 2021-22 ⭐ Players & Teams",
          "UCL ⚽ EDA & Viz ⭐ 2021-22 ⭐ Players & Teams",
          "UCL ⚽ EDA & Viz ⭐ 2021-22 ⭐ Players & Teams",
          "UCL ⚽ EDA & Viz ⭐ 2021-22 ⭐ Players & Teams",
          "UCL ⚽ EDA & Viz ⭐ 2021-22 ⭐ Players & Teams",
          "UCL ⚽ EDA & Viz ⭐ 2021-22 ⭐ Players & Teams",
          "UCL ⚽ EDA & Viz ⭐ 2021-22 ⭐ Players & Teams",
          "UCL ⚽ EDA & Viz ⭐ 2021-22 ⭐ Players & Teams",
          "UCL ⚽ EDA & Viz ⭐ 2021-22 ⭐ Players & Teams",
          "UCL ⚽ EDA & Viz ⭐ 2021-22 ⭐ Players & Teams",
          "UCL ⚽ EDA & Viz ⭐ 2021-22 ⭐ Players & Teams",
          "UCL ⚽ EDA & Viz ⭐ 2021-22 ⭐ Players & Teams",
          "UCL ⚽ EDA & Viz ⭐ 2021-22 ⭐ Players & Teams",
          "UCL ⚽ EDA & Viz ⭐ 2021-22 ⭐ Players & Teams",
          "UCL ⚽ EDA & Viz ⭐ 2021-22 ⭐ Players & Teams"
         ],
         "legendgroup": "GOLD",
         "line": {
          "color": "gold",
          "dash": "solid"
         },
         "marker": {
          "symbol": "circle"
         },
         "mode": "lines",
         "name": "GOLD",
         "orientation": "v",
         "showlegend": true,
         "type": "scatter",
         "x": [
          "2022-06-12",
          "2022-06-13",
          "2022-06-14",
          "2022-06-15",
          "2022-06-16",
          "2022-06-17",
          "2022-06-18",
          "2022-06-19",
          "2022-06-20",
          "2022-06-21",
          "2022-06-22",
          "2022-06-25",
          "2022-06-26",
          "2022-06-28",
          "2022-06-29",
          "2022-07-01",
          "2022-07-02",
          "2022-07-03",
          "2022-07-04",
          "2022-07-05",
          "2022-07-06",
          "2022-07-07",
          "2022-07-11",
          "2022-07-12",
          "2022-07-14",
          "2022-07-15",
          "2022-07-17",
          "2022-07-18",
          "2022-07-21",
          "2022-07-22",
          "2022-07-23",
          "2022-07-24",
          "2022-07-25",
          "2022-07-26",
          "2022-07-29",
          "2022-07-30",
          "2022-07-31",
          "2022-08-01",
          "2022-08-03",
          "2022-08-05",
          "2022-08-06",
          "2022-08-08",
          "2022-08-10",
          "2022-08-12",
          "2022-08-14",
          "2022-08-16",
          "2022-08-17",
          "2022-08-18",
          "2022-08-19",
          "2022-08-20",
          "2022-08-21",
          "2022-08-22",
          "2022-08-23",
          "2022-08-24",
          "2022-08-25",
          "2022-08-26",
          "2022-08-27",
          "2022-08-28",
          "2022-08-29",
          "2022-08-30",
          "2022-08-31",
          "2022-09-03",
          "2022-09-04",
          "2022-09-05",
          "2022-09-06",
          "2022-09-07"
         ],
         "xaxis": "x",
         "y": [
          404,
          455,
          502,
          568,
          702,
          766,
          833,
          865,
          926,
          1003,
          1045,
          1124,
          1159,
          1211,
          1248,
          1331,
          1355,
          1368,
          1378,
          1437,
          1464,
          1475,
          1553,
          1566,
          1619,
          1634,
          1700,
          1713,
          1774,
          1782,
          1812,
          1842,
          1864,
          1893,
          1935,
          1950,
          1969,
          1992,
          2021,
          2062,
          2074,
          2081,
          2115,
          2141,
          2171,
          2192,
          2200,
          2216,
          2230,
          2238,
          2244,
          2249,
          2268,
          2268,
          2310,
          2318,
          2339,
          2352,
          2358,
          2369,
          2378,
          2417,
          2426,
          2436,
          2451,
          2456
         ],
         "yaxis": "y"
        },
        {
         "hovertemplate": "<b>%{hovertext}</b><br><br>medal=GOLD<br>title=Divorce Prediction & Reasons : XGB,SHAP,RFE,TSNE<br>date=%{x}<br>view_count=%{y}<extra></extra>",
         "hovertext": [
          "Divorce Prediction & Reasons : XGB,SHAP,RFE,TSNE",
          "Divorce Prediction & Reasons : XGB,SHAP,RFE,TSNE",
          "Divorce Prediction & Reasons : XGB,SHAP,RFE,TSNE",
          "Divorce Prediction & Reasons : XGB,SHAP,RFE,TSNE",
          "Divorce Prediction & Reasons : XGB,SHAP,RFE,TSNE",
          "Divorce Prediction & Reasons : XGB,SHAP,RFE,TSNE",
          "Divorce Prediction & Reasons : XGB,SHAP,RFE,TSNE",
          "Divorce Prediction & Reasons : XGB,SHAP,RFE,TSNE",
          "Divorce Prediction & Reasons : XGB,SHAP,RFE,TSNE",
          "Divorce Prediction & Reasons : XGB,SHAP,RFE,TSNE",
          "Divorce Prediction & Reasons : XGB,SHAP,RFE,TSNE",
          "Divorce Prediction & Reasons : XGB,SHAP,RFE,TSNE",
          "Divorce Prediction & Reasons : XGB,SHAP,RFE,TSNE",
          "Divorce Prediction & Reasons : XGB,SHAP,RFE,TSNE",
          "Divorce Prediction & Reasons : XGB,SHAP,RFE,TSNE",
          "Divorce Prediction & Reasons : XGB,SHAP,RFE,TSNE",
          "Divorce Prediction & Reasons : XGB,SHAP,RFE,TSNE",
          "Divorce Prediction & Reasons : XGB,SHAP,RFE,TSNE",
          "Divorce Prediction & Reasons : XGB,SHAP,RFE,TSNE",
          "Divorce Prediction & Reasons : XGB,SHAP,RFE,TSNE",
          "Divorce Prediction & Reasons : XGB,SHAP,RFE,TSNE",
          "Divorce Prediction & Reasons : XGB,SHAP,RFE,TSNE",
          "Divorce Prediction & Reasons : XGB,SHAP,RFE,TSNE",
          "Divorce Prediction & Reasons : XGB,SHAP,RFE,TSNE",
          "Divorce Prediction & Reasons : XGB,SHAP,RFE,TSNE",
          "Divorce Prediction & Reasons : XGB,SHAP,RFE,TSNE",
          "Divorce Prediction & Reasons : XGB,SHAP,RFE,TSNE",
          "Divorce Prediction & Reasons : XGB,SHAP,RFE,TSNE",
          "Divorce Prediction & Reasons : XGB,SHAP,RFE,TSNE",
          "Divorce Prediction & Reasons : XGB,SHAP,RFE,TSNE",
          "Divorce Prediction & Reasons : XGB,SHAP,RFE,TSNE",
          "Divorce Prediction & Reasons : XGB,SHAP,RFE,TSNE",
          "Divorce Prediction & Reasons : XGB,SHAP,RFE,TSNE",
          "Divorce Prediction & Reasons : XGB,SHAP,RFE,TSNE",
          "Divorce Prediction & Reasons : XGB,SHAP,RFE,TSNE",
          "Divorce Prediction & Reasons : XGB,SHAP,RFE,TSNE",
          "Divorce Prediction & Reasons : XGB,SHAP,RFE,TSNE",
          "Divorce Prediction & Reasons : XGB,SHAP,RFE,TSNE",
          "Divorce Prediction & Reasons : XGB,SHAP,RFE,TSNE",
          "Divorce Prediction & Reasons : XGB,SHAP,RFE,TSNE",
          "Divorce Prediction & Reasons : XGB,SHAP,RFE,TSNE",
          "Divorce Prediction & Reasons : XGB,SHAP,RFE,TSNE",
          "Divorce Prediction & Reasons : XGB,SHAP,RFE,TSNE",
          "Divorce Prediction & Reasons : XGB,SHAP,RFE,TSNE",
          "Divorce Prediction & Reasons : XGB,SHAP,RFE,TSNE",
          "Divorce Prediction & Reasons : XGB,SHAP,RFE,TSNE",
          "Divorce Prediction & Reasons : XGB,SHAP,RFE,TSNE",
          "Divorce Prediction & Reasons : XGB,SHAP,RFE,TSNE",
          "Divorce Prediction & Reasons : XGB,SHAP,RFE,TSNE",
          "Divorce Prediction & Reasons : XGB,SHAP,RFE,TSNE",
          "Divorce Prediction & Reasons : XGB,SHAP,RFE,TSNE",
          "Divorce Prediction & Reasons : XGB,SHAP,RFE,TSNE",
          "Divorce Prediction & Reasons : XGB,SHAP,RFE,TSNE",
          "Divorce Prediction & Reasons : XGB,SHAP,RFE,TSNE",
          "Divorce Prediction & Reasons : XGB,SHAP,RFE,TSNE",
          "Divorce Prediction & Reasons : XGB,SHAP,RFE,TSNE",
          "Divorce Prediction & Reasons : XGB,SHAP,RFE,TSNE",
          "Divorce Prediction & Reasons : XGB,SHAP,RFE,TSNE",
          "Divorce Prediction & Reasons : XGB,SHAP,RFE,TSNE",
          "Divorce Prediction & Reasons : XGB,SHAP,RFE,TSNE",
          "Divorce Prediction & Reasons : XGB,SHAP,RFE,TSNE",
          "Divorce Prediction & Reasons : XGB,SHAP,RFE,TSNE",
          "Divorce Prediction & Reasons : XGB,SHAP,RFE,TSNE",
          "Divorce Prediction & Reasons : XGB,SHAP,RFE,TSNE",
          "Divorce Prediction & Reasons : XGB,SHAP,RFE,TSNE",
          "Divorce Prediction & Reasons : XGB,SHAP,RFE,TSNE"
         ],
         "legendgroup": "GOLD",
         "line": {
          "color": "gold",
          "dash": "solid"
         },
         "marker": {
          "symbol": "circle"
         },
         "mode": "lines",
         "name": "GOLD",
         "orientation": "v",
         "showlegend": false,
         "type": "scatter",
         "x": [
          "2022-06-12",
          "2022-06-13",
          "2022-06-14",
          "2022-06-15",
          "2022-06-16",
          "2022-06-17",
          "2022-06-18",
          "2022-06-19",
          "2022-06-20",
          "2022-06-21",
          "2022-06-22",
          "2022-06-25",
          "2022-06-26",
          "2022-06-28",
          "2022-06-29",
          "2022-07-01",
          "2022-07-02",
          "2022-07-03",
          "2022-07-04",
          "2022-07-05",
          "2022-07-06",
          "2022-07-07",
          "2022-07-11",
          "2022-07-12",
          "2022-07-14",
          "2022-07-15",
          "2022-07-17",
          "2022-07-18",
          "2022-07-21",
          "2022-07-22",
          "2022-07-23",
          "2022-07-24",
          "2022-07-25",
          "2022-07-26",
          "2022-07-29",
          "2022-07-30",
          "2022-07-31",
          "2022-08-01",
          "2022-08-03",
          "2022-08-05",
          "2022-08-06",
          "2022-08-08",
          "2022-08-10",
          "2022-08-12",
          "2022-08-14",
          "2022-08-16",
          "2022-08-17",
          "2022-08-18",
          "2022-08-19",
          "2022-08-20",
          "2022-08-21",
          "2022-08-22",
          "2022-08-23",
          "2022-08-24",
          "2022-08-25",
          "2022-08-26",
          "2022-08-27",
          "2022-08-28",
          "2022-08-29",
          "2022-08-30",
          "2022-08-31",
          "2022-09-03",
          "2022-09-04",
          "2022-09-05",
          "2022-09-06",
          "2022-09-07"
         ],
         "xaxis": "x",
         "y": [
          435,
          470,
          490,
          514,
          540,
          568,
          580,
          591,
          596,
          607,
          626,
          679,
          706,
          733,
          757,
          784,
          796,
          802,
          813,
          846,
          872,
          877,
          965,
          986,
          1035,
          1060,
          1111,
          1120,
          1198,
          1207,
          1217,
          1235,
          1247,
          1262,
          1288,
          1294,
          1308,
          1318,
          1348,
          1376,
          1393,
          1400,
          1445,
          1464,
          1504,
          1549,
          1566,
          1610,
          1618,
          1629,
          1635,
          1643,
          1675,
          1675,
          1709,
          1720,
          1736,
          1751,
          1770,
          1787,
          1802,
          1862,
          1876,
          1888,
          1902,
          1923
         ],
         "yaxis": "y"
        },
        {
         "hovertemplate": "<b>%{hovertext}</b><br><br>medal=GOLD<br>title=Advanced Feature Engineering for Classification<br>date=%{x}<br>view_count=%{y}<extra></extra>",
         "hovertext": [
          "Advanced Feature Engineering for Classification",
          "Advanced Feature Engineering for Classification",
          "Advanced Feature Engineering for Classification",
          "Advanced Feature Engineering for Classification",
          "Advanced Feature Engineering for Classification",
          "Advanced Feature Engineering for Classification",
          "Advanced Feature Engineering for Classification",
          "Advanced Feature Engineering for Classification",
          "Advanced Feature Engineering for Classification",
          "Advanced Feature Engineering for Classification",
          "Advanced Feature Engineering for Classification",
          "Advanced Feature Engineering for Classification",
          "Advanced Feature Engineering for Classification",
          "Advanced Feature Engineering for Classification",
          "Advanced Feature Engineering for Classification",
          "Advanced Feature Engineering for Classification",
          "Advanced Feature Engineering for Classification",
          "Advanced Feature Engineering for Classification",
          "Advanced Feature Engineering for Classification",
          "Advanced Feature Engineering for Classification",
          "Advanced Feature Engineering for Classification",
          "Advanced Feature Engineering for Classification",
          "Advanced Feature Engineering for Classification",
          "Advanced Feature Engineering for Classification",
          "Advanced Feature Engineering for Classification",
          "Advanced Feature Engineering for Classification",
          "Advanced Feature Engineering for Classification",
          "Advanced Feature Engineering for Classification",
          "Advanced Feature Engineering for Classification",
          "Advanced Feature Engineering for Classification",
          "Advanced Feature Engineering for Classification",
          "Advanced Feature Engineering for Classification",
          "Advanced Feature Engineering for Classification",
          "Advanced Feature Engineering for Classification",
          "Advanced Feature Engineering for Classification",
          "Advanced Feature Engineering for Classification",
          "Advanced Feature Engineering for Classification",
          "Advanced Feature Engineering for Classification",
          "Advanced Feature Engineering for Classification",
          "Advanced Feature Engineering for Classification",
          "Advanced Feature Engineering for Classification",
          "Advanced Feature Engineering for Classification",
          "Advanced Feature Engineering for Classification",
          "Advanced Feature Engineering for Classification",
          "Advanced Feature Engineering for Classification",
          "Advanced Feature Engineering for Classification",
          "Advanced Feature Engineering for Classification",
          "Advanced Feature Engineering for Classification",
          "Advanced Feature Engineering for Classification",
          "Advanced Feature Engineering for Classification",
          "Advanced Feature Engineering for Classification",
          "Advanced Feature Engineering for Classification",
          "Advanced Feature Engineering for Classification",
          "Advanced Feature Engineering for Classification",
          "Advanced Feature Engineering for Classification",
          "Advanced Feature Engineering for Classification",
          "Advanced Feature Engineering for Classification",
          "Advanced Feature Engineering for Classification",
          "Advanced Feature Engineering for Classification",
          "Advanced Feature Engineering for Classification",
          "Advanced Feature Engineering for Classification",
          "Advanced Feature Engineering for Classification",
          "Advanced Feature Engineering for Classification",
          "Advanced Feature Engineering for Classification",
          "Advanced Feature Engineering for Classification",
          "Advanced Feature Engineering for Classification"
         ],
         "legendgroup": "GOLD",
         "line": {
          "color": "gold",
          "dash": "solid"
         },
         "marker": {
          "symbol": "circle"
         },
         "mode": "lines",
         "name": "GOLD",
         "orientation": "v",
         "showlegend": false,
         "type": "scatter",
         "x": [
          "2022-06-12",
          "2022-06-13",
          "2022-06-14",
          "2022-06-15",
          "2022-06-16",
          "2022-06-17",
          "2022-06-18",
          "2022-06-19",
          "2022-06-20",
          "2022-06-21",
          "2022-06-22",
          "2022-06-25",
          "2022-06-26",
          "2022-06-28",
          "2022-06-29",
          "2022-07-01",
          "2022-07-02",
          "2022-07-03",
          "2022-07-04",
          "2022-07-05",
          "2022-07-06",
          "2022-07-07",
          "2022-07-11",
          "2022-07-12",
          "2022-07-14",
          "2022-07-15",
          "2022-07-17",
          "2022-07-18",
          "2022-07-21",
          "2022-07-22",
          "2022-07-23",
          "2022-07-24",
          "2022-07-25",
          "2022-07-26",
          "2022-07-29",
          "2022-07-30",
          "2022-07-31",
          "2022-08-01",
          "2022-08-03",
          "2022-08-05",
          "2022-08-06",
          "2022-08-08",
          "2022-08-10",
          "2022-08-12",
          "2022-08-14",
          "2022-08-16",
          "2022-08-17",
          "2022-08-18",
          "2022-08-19",
          "2022-08-20",
          "2022-08-21",
          "2022-08-22",
          "2022-08-23",
          "2022-08-24",
          "2022-08-25",
          "2022-08-26",
          "2022-08-27",
          "2022-08-28",
          "2022-08-29",
          "2022-08-30",
          "2022-08-31",
          "2022-09-03",
          "2022-09-04",
          "2022-09-05",
          "2022-09-06",
          "2022-09-07"
         ],
         "xaxis": "x",
         "y": [
          622,
          636,
          659,
          672,
          680,
          688,
          694,
          697,
          699,
          708,
          715,
          734,
          738,
          745,
          769,
          787,
          796,
          799,
          803,
          825,
          844,
          848,
          917,
          941,
          1001,
          1020,
          1075,
          1087,
          1189,
          1220,
          1270,
          1302,
          1336,
          1375,
          1473,
          1504,
          1551,
          1582,
          1648,
          1808,
          1903,
          1957,
          2091,
          2166,
          2328,
          2438,
          2477,
          2565,
          2598,
          2632,
          2671,
          2716,
          2767,
          2767,
          2839,
          2873,
          2944,
          2973,
          3006,
          3063,
          3084,
          3227,
          3241,
          3286,
          3325,
          3355
         ],
         "yaxis": "y"
        },
        {
         "hovertemplate": "<b>%{hovertext}</b><br><br>medal=GOLD<br>title=All Imputation Techniques with Pros and Cons<br>date=%{x}<br>view_count=%{y}<extra></extra>",
         "hovertext": [
          "All Imputation Techniques with Pros and Cons",
          "All Imputation Techniques with Pros and Cons",
          "All Imputation Techniques with Pros and Cons",
          "All Imputation Techniques with Pros and Cons",
          "All Imputation Techniques with Pros and Cons",
          "All Imputation Techniques with Pros and Cons",
          "All Imputation Techniques with Pros and Cons",
          "All Imputation Techniques with Pros and Cons",
          "All Imputation Techniques with Pros and Cons",
          "All Imputation Techniques with Pros and Cons",
          "All Imputation Techniques with Pros and Cons",
          "All Imputation Techniques with Pros and Cons",
          "All Imputation Techniques with Pros and Cons",
          "All Imputation Techniques with Pros and Cons",
          "All Imputation Techniques with Pros and Cons",
          "All Imputation Techniques with Pros and Cons",
          "All Imputation Techniques with Pros and Cons",
          "All Imputation Techniques with Pros and Cons",
          "All Imputation Techniques with Pros and Cons",
          "All Imputation Techniques with Pros and Cons",
          "All Imputation Techniques with Pros and Cons",
          "All Imputation Techniques with Pros and Cons",
          "All Imputation Techniques with Pros and Cons",
          "All Imputation Techniques with Pros and Cons",
          "All Imputation Techniques with Pros and Cons",
          "All Imputation Techniques with Pros and Cons",
          "All Imputation Techniques with Pros and Cons",
          "All Imputation Techniques with Pros and Cons",
          "All Imputation Techniques with Pros and Cons",
          "All Imputation Techniques with Pros and Cons",
          "All Imputation Techniques with Pros and Cons",
          "All Imputation Techniques with Pros and Cons",
          "All Imputation Techniques with Pros and Cons",
          "All Imputation Techniques with Pros and Cons",
          "All Imputation Techniques with Pros and Cons",
          "All Imputation Techniques with Pros and Cons",
          "All Imputation Techniques with Pros and Cons",
          "All Imputation Techniques with Pros and Cons",
          "All Imputation Techniques with Pros and Cons",
          "All Imputation Techniques with Pros and Cons",
          "All Imputation Techniques with Pros and Cons",
          "All Imputation Techniques with Pros and Cons",
          "All Imputation Techniques with Pros and Cons",
          "All Imputation Techniques with Pros and Cons",
          "All Imputation Techniques with Pros and Cons",
          "All Imputation Techniques with Pros and Cons",
          "All Imputation Techniques with Pros and Cons",
          "All Imputation Techniques with Pros and Cons",
          "All Imputation Techniques with Pros and Cons",
          "All Imputation Techniques with Pros and Cons",
          "All Imputation Techniques with Pros and Cons",
          "All Imputation Techniques with Pros and Cons",
          "All Imputation Techniques with Pros and Cons",
          "All Imputation Techniques with Pros and Cons",
          "All Imputation Techniques with Pros and Cons",
          "All Imputation Techniques with Pros and Cons",
          "All Imputation Techniques with Pros and Cons",
          "All Imputation Techniques with Pros and Cons",
          "All Imputation Techniques with Pros and Cons",
          "All Imputation Techniques with Pros and Cons",
          "All Imputation Techniques with Pros and Cons",
          "All Imputation Techniques with Pros and Cons",
          "All Imputation Techniques with Pros and Cons",
          "All Imputation Techniques with Pros and Cons",
          "All Imputation Techniques with Pros and Cons",
          "All Imputation Techniques with Pros and Cons"
         ],
         "legendgroup": "GOLD",
         "line": {
          "color": "gold",
          "dash": "solid"
         },
         "marker": {
          "symbol": "circle"
         },
         "mode": "lines",
         "name": "GOLD",
         "orientation": "v",
         "showlegend": false,
         "type": "scatter",
         "x": [
          "2022-06-12",
          "2022-06-13",
          "2022-06-14",
          "2022-06-15",
          "2022-06-16",
          "2022-06-17",
          "2022-06-18",
          "2022-06-19",
          "2022-06-20",
          "2022-06-21",
          "2022-06-22",
          "2022-06-25",
          "2022-06-26",
          "2022-06-28",
          "2022-06-29",
          "2022-07-01",
          "2022-07-02",
          "2022-07-03",
          "2022-07-04",
          "2022-07-05",
          "2022-07-06",
          "2022-07-07",
          "2022-07-11",
          "2022-07-12",
          "2022-07-14",
          "2022-07-15",
          "2022-07-17",
          "2022-07-18",
          "2022-07-21",
          "2022-07-22",
          "2022-07-23",
          "2022-07-24",
          "2022-07-25",
          "2022-07-26",
          "2022-07-29",
          "2022-07-30",
          "2022-07-31",
          "2022-08-01",
          "2022-08-03",
          "2022-08-05",
          "2022-08-06",
          "2022-08-08",
          "2022-08-10",
          "2022-08-12",
          "2022-08-14",
          "2022-08-16",
          "2022-08-17",
          "2022-08-18",
          "2022-08-19",
          "2022-08-20",
          "2022-08-21",
          "2022-08-22",
          "2022-08-23",
          "2022-08-24",
          "2022-08-25",
          "2022-08-26",
          "2022-08-27",
          "2022-08-28",
          "2022-08-29",
          "2022-08-30",
          "2022-08-31",
          "2022-09-03",
          "2022-09-04",
          "2022-09-05",
          "2022-09-06",
          "2022-09-07"
         ],
         "xaxis": "x",
         "y": [
          755,
          804,
          1428,
          1976,
          2132,
          2238,
          2333,
          2409,
          2519,
          2658,
          2739,
          2963,
          3041,
          3238,
          3355,
          3555,
          3608,
          3656,
          3713,
          3827,
          3910,
          3934,
          4229,
          4265,
          4384,
          4433,
          4567,
          4591,
          4767,
          4811,
          4877,
          4925,
          4987,
          5053,
          5195,
          5241,
          5326,
          5379,
          5440,
          5575,
          5629,
          5678,
          5838,
          5921,
          6026,
          6109,
          6146,
          6199,
          6224,
          6252,
          6286,
          6333,
          6370,
          6370,
          6443,
          6462,
          6508,
          6547,
          6580,
          6633,
          6671,
          6774,
          6791,
          6830,
          6868,
          6892
         ],
         "yaxis": "y"
        },
        {
         "hovertemplate": "<b>%{hovertext}</b><br><br>medal=GOLD<br>title=Mastering Bias-Variance Tradeoff <br>date=%{x}<br>view_count=%{y}<extra></extra>",
         "hovertext": [
          "Mastering Bias-Variance Tradeoff ",
          "Mastering Bias-Variance Tradeoff ",
          "Mastering Bias-Variance Tradeoff ",
          "Mastering Bias-Variance Tradeoff ",
          "Mastering Bias-Variance Tradeoff ",
          "Mastering Bias-Variance Tradeoff ",
          "Mastering Bias-Variance Tradeoff ",
          "Mastering Bias-Variance Tradeoff ",
          "Mastering Bias-Variance Tradeoff ",
          "Mastering Bias-Variance Tradeoff ",
          "Mastering Bias-Variance Tradeoff ",
          "Mastering Bias-Variance Tradeoff ",
          "Mastering Bias-Variance Tradeoff ",
          "Mastering Bias-Variance Tradeoff ",
          "Mastering Bias-Variance Tradeoff ",
          "Mastering Bias-Variance Tradeoff ",
          "Mastering Bias-Variance Tradeoff ",
          "Mastering Bias-Variance Tradeoff ",
          "Mastering Bias-Variance Tradeoff ",
          "Mastering Bias-Variance Tradeoff ",
          "Mastering Bias-Variance Tradeoff ",
          "Mastering Bias-Variance Tradeoff ",
          "Mastering Bias-Variance Tradeoff ",
          "Mastering Bias-Variance Tradeoff ",
          "Mastering Bias-Variance Tradeoff ",
          "Mastering Bias-Variance Tradeoff ",
          "Mastering Bias-Variance Tradeoff ",
          "Mastering Bias-Variance Tradeoff ",
          "Mastering Bias-Variance Tradeoff ",
          "Mastering Bias-Variance Tradeoff ",
          "Mastering Bias-Variance Tradeoff ",
          "Mastering Bias-Variance Tradeoff ",
          "Mastering Bias-Variance Tradeoff ",
          "Mastering Bias-Variance Tradeoff ",
          "Mastering Bias-Variance Tradeoff ",
          "Mastering Bias-Variance Tradeoff ",
          "Mastering Bias-Variance Tradeoff ",
          "Mastering Bias-Variance Tradeoff ",
          "Mastering Bias-Variance Tradeoff ",
          "Mastering Bias-Variance Tradeoff ",
          "Mastering Bias-Variance Tradeoff ",
          "Mastering Bias-Variance Tradeoff ",
          "Mastering Bias-Variance Tradeoff ",
          "Mastering Bias-Variance Tradeoff ",
          "Mastering Bias-Variance Tradeoff ",
          "Mastering Bias-Variance Tradeoff ",
          "Mastering Bias-Variance Tradeoff ",
          "Mastering Bias-Variance Tradeoff ",
          "Mastering Bias-Variance Tradeoff ",
          "Mastering Bias-Variance Tradeoff ",
          "Mastering Bias-Variance Tradeoff ",
          "Mastering Bias-Variance Tradeoff ",
          "Mastering Bias-Variance Tradeoff ",
          "Mastering Bias-Variance Tradeoff ",
          "Mastering Bias-Variance Tradeoff ",
          "Mastering Bias-Variance Tradeoff ",
          "Mastering Bias-Variance Tradeoff ",
          "Mastering Bias-Variance Tradeoff ",
          "Mastering Bias-Variance Tradeoff ",
          "Mastering Bias-Variance Tradeoff ",
          "Mastering Bias-Variance Tradeoff ",
          "Mastering Bias-Variance Tradeoff ",
          "Mastering Bias-Variance Tradeoff ",
          "Mastering Bias-Variance Tradeoff ",
          "Mastering Bias-Variance Tradeoff ",
          "Mastering Bias-Variance Tradeoff "
         ],
         "legendgroup": "GOLD",
         "line": {
          "color": "gold",
          "dash": "solid"
         },
         "marker": {
          "symbol": "circle"
         },
         "mode": "lines",
         "name": "GOLD",
         "orientation": "v",
         "showlegend": false,
         "type": "scatter",
         "x": [
          "2022-06-12",
          "2022-06-13",
          "2022-06-14",
          "2022-06-15",
          "2022-06-16",
          "2022-06-17",
          "2022-06-18",
          "2022-06-19",
          "2022-06-20",
          "2022-06-21",
          "2022-06-22",
          "2022-06-25",
          "2022-06-26",
          "2022-06-28",
          "2022-06-29",
          "2022-07-01",
          "2022-07-02",
          "2022-07-03",
          "2022-07-04",
          "2022-07-05",
          "2022-07-06",
          "2022-07-07",
          "2022-07-11",
          "2022-07-12",
          "2022-07-14",
          "2022-07-15",
          "2022-07-17",
          "2022-07-18",
          "2022-07-21",
          "2022-07-22",
          "2022-07-23",
          "2022-07-24",
          "2022-07-25",
          "2022-07-26",
          "2022-07-29",
          "2022-07-30",
          "2022-07-31",
          "2022-08-01",
          "2022-08-03",
          "2022-08-05",
          "2022-08-06",
          "2022-08-08",
          "2022-08-10",
          "2022-08-12",
          "2022-08-14",
          "2022-08-16",
          "2022-08-17",
          "2022-08-18",
          "2022-08-19",
          "2022-08-20",
          "2022-08-21",
          "2022-08-22",
          "2022-08-23",
          "2022-08-24",
          "2022-08-25",
          "2022-08-26",
          "2022-08-27",
          "2022-08-28",
          "2022-08-29",
          "2022-08-30",
          "2022-08-31",
          "2022-09-03",
          "2022-09-04",
          "2022-09-05",
          "2022-09-06",
          "2022-09-07"
         ],
         "xaxis": "x",
         "y": [
          480,
          490,
          498,
          511,
          516,
          526,
          527,
          538,
          545,
          547,
          554,
          562,
          564,
          573,
          576,
          580,
          584,
          585,
          587,
          656,
          738,
          763,
          974,
          1038,
          1248,
          1330,
          1509,
          1547,
          1868,
          1935,
          2040,
          2107,
          2211,
          2303,
          2518,
          2620,
          2761,
          2854,
          2950,
          3120,
          3200,
          3273,
          3461,
          3596,
          3726,
          3814,
          3876,
          3972,
          4031,
          4077,
          4121,
          4184,
          4280,
          4280,
          4384,
          4417,
          4474,
          4504,
          4551,
          4606,
          4637,
          4765,
          4779,
          4821,
          4875,
          4907
         ],
         "yaxis": "y"
        },
        {
         "hovertemplate": "<b>%{hovertext}</b><br><br>medal=GOLD<br>title=▶️ Lionel Messi 📊 Extended EDA ⚽ Goals <br>date=%{x}<br>view_count=%{y}<extra></extra>",
         "hovertext": [
          "▶️ Lionel Messi 📊 Extended EDA ⚽ Goals ",
          "▶️ Lionel Messi 📊 Extended EDA ⚽ Goals ",
          "▶️ Lionel Messi 📊 Extended EDA ⚽ Goals ",
          "▶️ Lionel Messi 📊 Extended EDA ⚽ Goals ",
          "▶️ Lionel Messi 📊 Extended EDA ⚽ Goals ",
          "▶️ Lionel Messi 📊 Extended EDA ⚽ Goals ",
          "▶️ Lionel Messi 📊 Extended EDA ⚽ Goals ",
          "▶️ Lionel Messi 📊 Extended EDA ⚽ Goals ",
          "▶️ Lionel Messi 📊 Extended EDA ⚽ Goals ",
          "▶️ Lionel Messi 📊 Extended EDA ⚽ Goals ",
          "▶️ Lionel Messi 📊 Extended EDA ⚽ Goals ",
          "▶️ Lionel Messi 📊 Extended EDA ⚽ Goals ",
          "▶️ Lionel Messi 📊 Extended EDA ⚽ Goals ",
          "▶️ Lionel Messi 📊 Extended EDA ⚽ Goals ",
          "▶️ Lionel Messi 📊 Extended EDA ⚽ Goals ",
          "▶️ Lionel Messi 📊 Extended EDA ⚽ Goals ",
          "▶️ Lionel Messi 📊 Extended EDA ⚽ Goals ",
          "▶️ Lionel Messi 📊 Extended EDA ⚽ Goals ",
          "▶️ Lionel Messi 📊 Extended EDA ⚽ Goals ",
          "▶️ Lionel Messi 📊 Extended EDA ⚽ Goals ",
          "▶️ Lionel Messi 📊 Extended EDA ⚽ Goals ",
          "▶️ Lionel Messi 📊 Extended EDA ⚽ Goals ",
          "▶️ Lionel Messi 📊 Extended EDA ⚽ Goals ",
          "▶️ Lionel Messi 📊 Extended EDA ⚽ Goals ",
          "▶️ Lionel Messi 📊 Extended EDA ⚽ Goals ",
          "▶️ Lionel Messi 📊 Extended EDA ⚽ Goals ",
          "▶️ Lionel Messi 📊 Extended EDA ⚽ Goals ",
          "▶️ Lionel Messi 📊 Extended EDA ⚽ Goals ",
          "▶️ Lionel Messi 📊 Extended EDA ⚽ Goals ",
          "▶️ Lionel Messi 📊 Extended EDA ⚽ Goals ",
          "▶️ Lionel Messi 📊 Extended EDA ⚽ Goals ",
          "▶️ Lionel Messi 📊 Extended EDA ⚽ Goals ",
          "▶️ Lionel Messi 📊 Extended EDA ⚽ Goals ",
          "▶️ Lionel Messi 📊 Extended EDA ⚽ Goals ",
          "▶️ Lionel Messi 📊 Extended EDA ⚽ Goals ",
          "▶️ Lionel Messi 📊 Extended EDA ⚽ Goals ",
          "▶️ Lionel Messi 📊 Extended EDA ⚽ Goals ",
          "▶️ Lionel Messi 📊 Extended EDA ⚽ Goals ",
          "▶️ Lionel Messi 📊 Extended EDA ⚽ Goals ",
          "▶️ Lionel Messi 📊 Extended EDA ⚽ Goals ",
          "▶️ Lionel Messi 📊 Extended EDA ⚽ Goals ",
          "▶️ Lionel Messi 📊 Extended EDA ⚽ Goals ",
          "▶️ Lionel Messi 📊 Extended EDA ⚽ Goals ",
          "▶️ Lionel Messi 📊 Extended EDA ⚽ Goals ",
          "▶️ Lionel Messi 📊 Extended EDA ⚽ Goals ",
          "▶️ Lionel Messi 📊 Extended EDA ⚽ Goals ",
          "▶️ Lionel Messi 📊 Extended EDA ⚽ Goals ",
          "▶️ Lionel Messi 📊 Extended EDA ⚽ Goals ",
          "▶️ Lionel Messi 📊 Extended EDA ⚽ Goals ",
          "▶️ Lionel Messi 📊 Extended EDA ⚽ Goals ",
          "▶️ Lionel Messi 📊 Extended EDA ⚽ Goals ",
          "▶️ Lionel Messi 📊 Extended EDA ⚽ Goals ",
          "▶️ Lionel Messi 📊 Extended EDA ⚽ Goals ",
          "▶️ Lionel Messi 📊 Extended EDA ⚽ Goals ",
          "▶️ Lionel Messi 📊 Extended EDA ⚽ Goals ",
          "▶️ Lionel Messi 📊 Extended EDA ⚽ Goals ",
          "▶️ Lionel Messi 📊 Extended EDA ⚽ Goals ",
          "▶️ Lionel Messi 📊 Extended EDA ⚽ Goals ",
          "▶️ Lionel Messi 📊 Extended EDA ⚽ Goals ",
          "▶️ Lionel Messi 📊 Extended EDA ⚽ Goals ",
          "▶️ Lionel Messi 📊 Extended EDA ⚽ Goals ",
          "▶️ Lionel Messi 📊 Extended EDA ⚽ Goals ",
          "▶️ Lionel Messi 📊 Extended EDA ⚽ Goals ",
          "▶️ Lionel Messi 📊 Extended EDA ⚽ Goals ",
          "▶️ Lionel Messi 📊 Extended EDA ⚽ Goals ",
          "▶️ Lionel Messi 📊 Extended EDA ⚽ Goals "
         ],
         "legendgroup": "GOLD",
         "line": {
          "color": "gold",
          "dash": "solid"
         },
         "marker": {
          "symbol": "circle"
         },
         "mode": "lines",
         "name": "GOLD",
         "orientation": "v",
         "showlegend": false,
         "type": "scatter",
         "x": [
          "2022-06-12",
          "2022-06-13",
          "2022-06-14",
          "2022-06-15",
          "2022-06-16",
          "2022-06-17",
          "2022-06-18",
          "2022-06-19",
          "2022-06-20",
          "2022-06-21",
          "2022-06-22",
          "2022-06-25",
          "2022-06-26",
          "2022-06-28",
          "2022-06-29",
          "2022-07-01",
          "2022-07-02",
          "2022-07-03",
          "2022-07-04",
          "2022-07-05",
          "2022-07-06",
          "2022-07-07",
          "2022-07-11",
          "2022-07-12",
          "2022-07-14",
          "2022-07-15",
          "2022-07-17",
          "2022-07-18",
          "2022-07-21",
          "2022-07-22",
          "2022-07-23",
          "2022-07-24",
          "2022-07-25",
          "2022-07-26",
          "2022-07-29",
          "2022-07-30",
          "2022-07-31",
          "2022-08-01",
          "2022-08-03",
          "2022-08-05",
          "2022-08-06",
          "2022-08-08",
          "2022-08-10",
          "2022-08-12",
          "2022-08-14",
          "2022-08-16",
          "2022-08-17",
          "2022-08-18",
          "2022-08-19",
          "2022-08-20",
          "2022-08-21",
          "2022-08-22",
          "2022-08-23",
          "2022-08-24",
          "2022-08-25",
          "2022-08-26",
          "2022-08-27",
          "2022-08-28",
          "2022-08-29",
          "2022-08-30",
          "2022-08-31",
          "2022-09-03",
          "2022-09-04",
          "2022-09-05",
          "2022-09-06",
          "2022-09-07"
         ],
         "xaxis": "x",
         "y": [
          1037,
          1059,
          1082,
          1101,
          1146,
          1181,
          1204,
          1214,
          1233,
          1266,
          1298,
          1377,
          1412,
          1452,
          1481,
          1546,
          1569,
          1581,
          1592,
          1642,
          1668,
          1696,
          1800,
          1836,
          1889,
          1912,
          1956,
          1961,
          2014,
          2020,
          2046,
          2065,
          2075,
          2088,
          2126,
          2144,
          2164,
          2194,
          2225,
          2295,
          2316,
          2321,
          2352,
          2384,
          2432,
          2463,
          2479,
          2509,
          2524,
          2550,
          2557,
          2579,
          2597,
          2597,
          2635,
          2648,
          2658,
          2667,
          2674,
          2724,
          2731,
          2792,
          2804,
          2826,
          2836,
          2855
         ],
         "yaxis": "y"
        },
        {
         "hovertemplate": "<b>%{hovertext}</b><br><br>medal=GOLD<br>title=▶️ Cristiano Ronaldo ⚽ Goals  📊 EDA, Analysis<br>date=%{x}<br>view_count=%{y}<extra></extra>",
         "hovertext": [
          "▶️ Cristiano Ronaldo ⚽ Goals  📊 EDA, Analysis",
          "▶️ Cristiano Ronaldo ⚽ Goals  📊 EDA, Analysis",
          "▶️ Cristiano Ronaldo ⚽ Goals  📊 EDA, Analysis",
          "▶️ Cristiano Ronaldo ⚽ Goals  📊 EDA, Analysis",
          "▶️ Cristiano Ronaldo ⚽ Goals  📊 EDA, Analysis",
          "▶️ Cristiano Ronaldo ⚽ Goals  📊 EDA, Analysis",
          "▶️ Cristiano Ronaldo ⚽ Goals  📊 EDA, Analysis",
          "▶️ Cristiano Ronaldo ⚽ Goals  📊 EDA, Analysis",
          "▶️ Cristiano Ronaldo ⚽ Goals  📊 EDA, Analysis",
          "▶️ Cristiano Ronaldo ⚽ Goals  📊 EDA, Analysis",
          "▶️ Cristiano Ronaldo ⚽ Goals  📊 EDA, Analysis",
          "▶️ Cristiano Ronaldo ⚽ Goals  📊 EDA, Analysis",
          "▶️ Cristiano Ronaldo ⚽ Goals  📊 EDA, Analysis",
          "▶️ Cristiano Ronaldo ⚽ Goals  📊 EDA, Analysis",
          "▶️ Cristiano Ronaldo ⚽ Goals  📊 EDA, Analysis",
          "▶️ Cristiano Ronaldo ⚽ Goals  📊 EDA, Analysis",
          "▶️ Cristiano Ronaldo ⚽ Goals  📊 EDA, Analysis",
          "▶️ Cristiano Ronaldo ⚽ Goals  📊 EDA, Analysis",
          "▶️ Cristiano Ronaldo ⚽ Goals  📊 EDA, Analysis",
          "▶️ Cristiano Ronaldo ⚽ Goals  📊 EDA, Analysis",
          "▶️ Cristiano Ronaldo ⚽ Goals  📊 EDA, Analysis",
          "▶️ Cristiano Ronaldo ⚽ Goals  📊 EDA, Analysis",
          "▶️ Cristiano Ronaldo ⚽ Goals  📊 EDA, Analysis",
          "▶️ Cristiano Ronaldo ⚽ Goals  📊 EDA, Analysis",
          "▶️ Cristiano Ronaldo ⚽ Goals  📊 EDA, Analysis",
          "▶️ Cristiano Ronaldo ⚽ Goals  📊 EDA, Analysis",
          "▶️ Cristiano Ronaldo ⚽ Goals  📊 EDA, Analysis",
          "▶️ Cristiano Ronaldo ⚽ Goals  📊 EDA, Analysis",
          "▶️ Cristiano Ronaldo ⚽ Goals  📊 EDA, Analysis",
          "▶️ Cristiano Ronaldo ⚽ Goals  📊 EDA, Analysis",
          "▶️ Cristiano Ronaldo ⚽ Goals  📊 EDA, Analysis",
          "▶️ Cristiano Ronaldo ⚽ Goals  📊 EDA, Analysis",
          "▶️ Cristiano Ronaldo ⚽ Goals  📊 EDA, Analysis",
          "▶️ Cristiano Ronaldo ⚽ Goals  📊 EDA, Analysis",
          "▶️ Cristiano Ronaldo ⚽ Goals  📊 EDA, Analysis",
          "▶️ Cristiano Ronaldo ⚽ Goals  📊 EDA, Analysis",
          "▶️ Cristiano Ronaldo ⚽ Goals  📊 EDA, Analysis",
          "▶️ Cristiano Ronaldo ⚽ Goals  📊 EDA, Analysis",
          "▶️ Cristiano Ronaldo ⚽ Goals  📊 EDA, Analysis",
          "▶️ Cristiano Ronaldo ⚽ Goals  📊 EDA, Analysis",
          "▶️ Cristiano Ronaldo ⚽ Goals  📊 EDA, Analysis",
          "▶️ Cristiano Ronaldo ⚽ Goals  📊 EDA, Analysis",
          "▶️ Cristiano Ronaldo ⚽ Goals  📊 EDA, Analysis",
          "▶️ Cristiano Ronaldo ⚽ Goals  📊 EDA, Analysis",
          "▶️ Cristiano Ronaldo ⚽ Goals  📊 EDA, Analysis",
          "▶️ Cristiano Ronaldo ⚽ Goals  📊 EDA, Analysis",
          "▶️ Cristiano Ronaldo ⚽ Goals  📊 EDA, Analysis",
          "▶️ Cristiano Ronaldo ⚽ Goals  📊 EDA, Analysis",
          "▶️ Cristiano Ronaldo ⚽ Goals  📊 EDA, Analysis",
          "▶️ Cristiano Ronaldo ⚽ Goals  📊 EDA, Analysis",
          "▶️ Cristiano Ronaldo ⚽ Goals  📊 EDA, Analysis",
          "▶️ Cristiano Ronaldo ⚽ Goals  📊 EDA, Analysis",
          "▶️ Cristiano Ronaldo ⚽ Goals  📊 EDA, Analysis",
          "▶️ Cristiano Ronaldo ⚽ Goals  📊 EDA, Analysis",
          "▶️ Cristiano Ronaldo ⚽ Goals  📊 EDA, Analysis",
          "▶️ Cristiano Ronaldo ⚽ Goals  📊 EDA, Analysis",
          "▶️ Cristiano Ronaldo ⚽ Goals  📊 EDA, Analysis",
          "▶️ Cristiano Ronaldo ⚽ Goals  📊 EDA, Analysis",
          "▶️ Cristiano Ronaldo ⚽ Goals  📊 EDA, Analysis",
          "▶️ Cristiano Ronaldo ⚽ Goals  📊 EDA, Analysis",
          "▶️ Cristiano Ronaldo ⚽ Goals  📊 EDA, Analysis",
          "▶️ Cristiano Ronaldo ⚽ Goals  📊 EDA, Analysis",
          "▶️ Cristiano Ronaldo ⚽ Goals  📊 EDA, Analysis",
          "▶️ Cristiano Ronaldo ⚽ Goals  📊 EDA, Analysis",
          "▶️ Cristiano Ronaldo ⚽ Goals  📊 EDA, Analysis",
          "▶️ Cristiano Ronaldo ⚽ Goals  📊 EDA, Analysis"
         ],
         "legendgroup": "GOLD",
         "line": {
          "color": "gold",
          "dash": "solid"
         },
         "marker": {
          "symbol": "circle"
         },
         "mode": "lines",
         "name": "GOLD",
         "orientation": "v",
         "showlegend": false,
         "type": "scatter",
         "x": [
          "2022-06-12",
          "2022-06-13",
          "2022-06-14",
          "2022-06-15",
          "2022-06-16",
          "2022-06-17",
          "2022-06-18",
          "2022-06-19",
          "2022-06-20",
          "2022-06-21",
          "2022-06-22",
          "2022-06-25",
          "2022-06-26",
          "2022-06-28",
          "2022-06-29",
          "2022-07-01",
          "2022-07-02",
          "2022-07-03",
          "2022-07-04",
          "2022-07-05",
          "2022-07-06",
          "2022-07-07",
          "2022-07-11",
          "2022-07-12",
          "2022-07-14",
          "2022-07-15",
          "2022-07-17",
          "2022-07-18",
          "2022-07-21",
          "2022-07-22",
          "2022-07-23",
          "2022-07-24",
          "2022-07-25",
          "2022-07-26",
          "2022-07-29",
          "2022-07-30",
          "2022-07-31",
          "2022-08-01",
          "2022-08-03",
          "2022-08-05",
          "2022-08-06",
          "2022-08-08",
          "2022-08-10",
          "2022-08-12",
          "2022-08-14",
          "2022-08-16",
          "2022-08-17",
          "2022-08-18",
          "2022-08-19",
          "2022-08-20",
          "2022-08-21",
          "2022-08-22",
          "2022-08-23",
          "2022-08-24",
          "2022-08-25",
          "2022-08-26",
          "2022-08-27",
          "2022-08-28",
          "2022-08-29",
          "2022-08-30",
          "2022-08-31",
          "2022-09-03",
          "2022-09-04",
          "2022-09-05",
          "2022-09-06",
          "2022-09-07"
         ],
         "xaxis": "x",
         "y": [
          1518,
          1551,
          1568,
          1593,
          1610,
          1620,
          1629,
          1633,
          1643,
          1658,
          1675,
          1712,
          1728,
          1744,
          1760,
          1783,
          1785,
          1788,
          1792,
          1800,
          1810,
          1813,
          1856,
          1867,
          1888,
          1891,
          1909,
          1916,
          1981,
          1983,
          1999,
          2013,
          2030,
          2069,
          2102,
          2123,
          2143,
          2183,
          2210,
          2269,
          2291,
          2308,
          2372,
          2407,
          2475,
          2543,
          2566,
          2591,
          2602,
          2611,
          2625,
          2648,
          2670,
          2670,
          2722,
          2736,
          2771,
          2794,
          2809,
          2829,
          2846,
          2919,
          2927,
          2961,
          2978,
          2998
         ],
         "yaxis": "y"
        },
        {
         "hovertemplate": "<b>%{hovertext}</b><br><br>medal=GOLD<br>title=Investment and Financial Analysis  🏭 EPZ<br>date=%{x}<br>view_count=%{y}<extra></extra>",
         "hovertext": [
          "Investment and Financial Analysis  🏭 EPZ",
          "Investment and Financial Analysis  🏭 EPZ",
          "Investment and Financial Analysis  🏭 EPZ",
          "Investment and Financial Analysis  🏭 EPZ",
          "Investment and Financial Analysis  🏭 EPZ",
          "Investment and Financial Analysis  🏭 EPZ",
          "Investment and Financial Analysis  🏭 EPZ",
          "Investment and Financial Analysis  🏭 EPZ",
          "Investment and Financial Analysis  🏭 EPZ",
          "Investment and Financial Analysis  🏭 EPZ",
          "Investment and Financial Analysis  🏭 EPZ",
          "Investment and Financial Analysis  🏭 EPZ",
          "Investment and Financial Analysis  🏭 EPZ",
          "Investment and Financial Analysis  🏭 EPZ",
          "Investment and Financial Analysis  🏭 EPZ",
          "Investment and Financial Analysis  🏭 EPZ",
          "Investment and Financial Analysis  🏭 EPZ",
          "Investment and Financial Analysis  🏭 EPZ",
          "Investment and Financial Analysis  🏭 EPZ",
          "Investment and Financial Analysis  🏭 EPZ",
          "Investment and Financial Analysis  🏭 EPZ",
          "Investment and Financial Analysis  🏭 EPZ",
          "Investment and Financial Analysis  🏭 EPZ",
          "Investment and Financial Analysis  🏭 EPZ",
          "Investment and Financial Analysis  🏭 EPZ",
          "Investment and Financial Analysis  🏭 EPZ",
          "Investment and Financial Analysis  🏭 EPZ",
          "Investment and Financial Analysis  🏭 EPZ",
          "Investment and Financial Analysis  🏭 EPZ",
          "Investment and Financial Analysis  🏭 EPZ",
          "Investment and Financial Analysis  🏭 EPZ",
          "Investment and Financial Analysis  🏭 EPZ",
          "Investment and Financial Analysis  🏭 EPZ",
          "Investment and Financial Analysis  🏭 EPZ",
          "Investment and Financial Analysis  🏭 EPZ",
          "Investment and Financial Analysis  🏭 EPZ",
          "Investment and Financial Analysis  🏭 EPZ",
          "Investment and Financial Analysis  🏭 EPZ",
          "Investment and Financial Analysis  🏭 EPZ",
          "Investment and Financial Analysis  🏭 EPZ",
          "Investment and Financial Analysis  🏭 EPZ",
          "Investment and Financial Analysis  🏭 EPZ",
          "Investment and Financial Analysis  🏭 EPZ",
          "Investment and Financial Analysis  🏭 EPZ",
          "Investment and Financial Analysis  🏭 EPZ",
          "Investment and Financial Analysis  🏭 EPZ",
          "Investment and Financial Analysis  🏭 EPZ",
          "Investment and Financial Analysis  🏭 EPZ",
          "Investment and Financial Analysis  🏭 EPZ",
          "Investment and Financial Analysis  🏭 EPZ",
          "Investment and Financial Analysis  🏭 EPZ",
          "Investment and Financial Analysis  🏭 EPZ",
          "Investment and Financial Analysis  🏭 EPZ",
          "Investment and Financial Analysis  🏭 EPZ",
          "Investment and Financial Analysis  🏭 EPZ",
          "Investment and Financial Analysis  🏭 EPZ",
          "Investment and Financial Analysis  🏭 EPZ",
          "Investment and Financial Analysis  🏭 EPZ",
          "Investment and Financial Analysis  🏭 EPZ",
          "Investment and Financial Analysis  🏭 EPZ",
          "Investment and Financial Analysis  🏭 EPZ",
          "Investment and Financial Analysis  🏭 EPZ",
          "Investment and Financial Analysis  🏭 EPZ",
          "Investment and Financial Analysis  🏭 EPZ",
          "Investment and Financial Analysis  🏭 EPZ",
          "Investment and Financial Analysis  🏭 EPZ"
         ],
         "legendgroup": "GOLD",
         "line": {
          "color": "gold",
          "dash": "solid"
         },
         "marker": {
          "symbol": "circle"
         },
         "mode": "lines",
         "name": "GOLD",
         "orientation": "v",
         "showlegend": false,
         "type": "scatter",
         "x": [
          "2022-06-12",
          "2022-06-13",
          "2022-06-14",
          "2022-06-15",
          "2022-06-16",
          "2022-06-17",
          "2022-06-18",
          "2022-06-19",
          "2022-06-20",
          "2022-06-21",
          "2022-06-22",
          "2022-06-25",
          "2022-06-26",
          "2022-06-28",
          "2022-06-29",
          "2022-07-01",
          "2022-07-02",
          "2022-07-03",
          "2022-07-04",
          "2022-07-05",
          "2022-07-06",
          "2022-07-07",
          "2022-07-11",
          "2022-07-12",
          "2022-07-14",
          "2022-07-15",
          "2022-07-17",
          "2022-07-18",
          "2022-07-21",
          "2022-07-22",
          "2022-07-23",
          "2022-07-24",
          "2022-07-25",
          "2022-07-26",
          "2022-07-29",
          "2022-07-30",
          "2022-07-31",
          "2022-08-01",
          "2022-08-03",
          "2022-08-05",
          "2022-08-06",
          "2022-08-08",
          "2022-08-10",
          "2022-08-12",
          "2022-08-14",
          "2022-08-16",
          "2022-08-17",
          "2022-08-18",
          "2022-08-19",
          "2022-08-20",
          "2022-08-21",
          "2022-08-22",
          "2022-08-23",
          "2022-08-24",
          "2022-08-25",
          "2022-08-26",
          "2022-08-27",
          "2022-08-28",
          "2022-08-29",
          "2022-08-30",
          "2022-08-31",
          "2022-09-03",
          "2022-09-04",
          "2022-09-05",
          "2022-09-06",
          "2022-09-07"
         ],
         "xaxis": "x",
         "y": [
          604,
          612,
          620,
          623,
          634,
          639,
          639,
          641,
          644,
          647,
          651,
          655,
          655,
          664,
          666,
          675,
          680,
          680,
          682,
          687,
          690,
          690,
          697,
          698,
          703,
          705,
          712,
          718,
          727,
          728,
          734,
          740,
          745,
          747,
          752,
          752,
          753,
          757,
          762,
          773,
          778,
          780,
          785,
          789,
          798,
          822,
          892,
          895,
          900,
          904,
          905,
          906,
          909,
          909,
          919,
          920,
          926,
          928,
          930,
          934,
          935,
          954,
          962,
          965,
          971,
          975
         ],
         "yaxis": "y"
        },
        {
         "hovertemplate": "<b>%{hovertext}</b><br><br>medal=GOLD<br>title=ML Foundation ➡️ Cross Validation ✅ All Methods<br>date=%{x}<br>view_count=%{y}<extra></extra>",
         "hovertext": [
          "ML Foundation ➡️ Cross Validation ✅ All Methods",
          "ML Foundation ➡️ Cross Validation ✅ All Methods",
          "ML Foundation ➡️ Cross Validation ✅ All Methods",
          "ML Foundation ➡️ Cross Validation ✅ All Methods",
          "ML Foundation ➡️ Cross Validation ✅ All Methods",
          "ML Foundation ➡️ Cross Validation ✅ All Methods",
          "ML Foundation ➡️ Cross Validation ✅ All Methods",
          "ML Foundation ➡️ Cross Validation ✅ All Methods",
          "ML Foundation ➡️ Cross Validation ✅ All Methods",
          "ML Foundation ➡️ Cross Validation ✅ All Methods",
          "ML Foundation ➡️ Cross Validation ✅ All Methods",
          "ML Foundation ➡️ Cross Validation ✅ All Methods",
          "ML Foundation ➡️ Cross Validation ✅ All Methods",
          "ML Foundation ➡️ Cross Validation ✅ All Methods",
          "ML Foundation ➡️ Cross Validation ✅ All Methods",
          "ML Foundation ➡️ Cross Validation ✅ All Methods",
          "ML Foundation ➡️ Cross Validation ✅ All Methods",
          "ML Foundation ➡️ Cross Validation ✅ All Methods",
          "ML Foundation ➡️ Cross Validation ✅ All Methods",
          "ML Foundation ➡️ Cross Validation ✅ All Methods",
          "ML Foundation ➡️ Cross Validation ✅ All Methods",
          "ML Foundation ➡️ Cross Validation ✅ All Methods",
          "ML Foundation ➡️ Cross Validation ✅ All Methods",
          "ML Foundation ➡️ Cross Validation ✅ All Methods",
          "ML Foundation ➡️ Cross Validation ✅ All Methods",
          "ML Foundation ➡️ Cross Validation ✅ All Methods",
          "ML Foundation ➡️ Cross Validation ✅ All Methods",
          "ML Foundation ➡️ Cross Validation ✅ All Methods",
          "ML Foundation ➡️ Cross Validation ✅ All Methods",
          "ML Foundation ➡️ Cross Validation ✅ All Methods",
          "ML Foundation ➡️ Cross Validation ✅ All Methods",
          "ML Foundation ➡️ Cross Validation ✅ All Methods",
          "ML Foundation ➡️ Cross Validation ✅ All Methods",
          "ML Foundation ➡️ Cross Validation ✅ All Methods",
          "ML Foundation ➡️ Cross Validation ✅ All Methods",
          "ML Foundation ➡️ Cross Validation ✅ All Methods",
          "ML Foundation ➡️ Cross Validation ✅ All Methods",
          "ML Foundation ➡️ Cross Validation ✅ All Methods",
          "ML Foundation ➡️ Cross Validation ✅ All Methods",
          "ML Foundation ➡️ Cross Validation ✅ All Methods",
          "ML Foundation ➡️ Cross Validation ✅ All Methods",
          "ML Foundation ➡️ Cross Validation ✅ All Methods",
          "ML Foundation ➡️ Cross Validation ✅ All Methods",
          "ML Foundation ➡️ Cross Validation ✅ All Methods",
          "ML Foundation ➡️ Cross Validation ✅ All Methods",
          "ML Foundation ➡️ Cross Validation ✅ All Methods",
          "ML Foundation ➡️ Cross Validation ✅ All Methods",
          "ML Foundation ➡️ Cross Validation ✅ All Methods",
          "ML Foundation ➡️ Cross Validation ✅ All Methods",
          "ML Foundation ➡️ Cross Validation ✅ All Methods",
          "ML Foundation ➡️ Cross Validation ✅ All Methods",
          "ML Foundation ➡️ Cross Validation ✅ All Methods",
          "ML Foundation ➡️ Cross Validation ✅ All Methods",
          "ML Foundation ➡️ Cross Validation ✅ All Methods",
          "ML Foundation ➡️ Cross Validation ✅ All Methods",
          "ML Foundation ➡️ Cross Validation ✅ All Methods",
          "ML Foundation ➡️ Cross Validation ✅ All Methods",
          "ML Foundation ➡️ Cross Validation ✅ All Methods",
          "ML Foundation ➡️ Cross Validation ✅ All Methods",
          "ML Foundation ➡️ Cross Validation ✅ All Methods",
          "ML Foundation ➡️ Cross Validation ✅ All Methods",
          "ML Foundation ➡️ Cross Validation ✅ All Methods",
          "ML Foundation ➡️ Cross Validation ✅ All Methods",
          "ML Foundation ➡️ Cross Validation ✅ All Methods",
          "ML Foundation ➡️ Cross Validation ✅ All Methods",
          "ML Foundation ➡️ Cross Validation ✅ All Methods"
         ],
         "legendgroup": "GOLD",
         "line": {
          "color": "gold",
          "dash": "solid"
         },
         "marker": {
          "symbol": "circle"
         },
         "mode": "lines",
         "name": "GOLD",
         "orientation": "v",
         "showlegend": false,
         "type": "scatter",
         "x": [
          "2022-06-12",
          "2022-06-13",
          "2022-06-14",
          "2022-06-15",
          "2022-06-16",
          "2022-06-17",
          "2022-06-18",
          "2022-06-19",
          "2022-06-20",
          "2022-06-21",
          "2022-06-22",
          "2022-06-25",
          "2022-06-26",
          "2022-06-28",
          "2022-06-29",
          "2022-07-01",
          "2022-07-02",
          "2022-07-03",
          "2022-07-04",
          "2022-07-05",
          "2022-07-06",
          "2022-07-07",
          "2022-07-11",
          "2022-07-12",
          "2022-07-14",
          "2022-07-15",
          "2022-07-17",
          "2022-07-18",
          "2022-07-21",
          "2022-07-22",
          "2022-07-23",
          "2022-07-24",
          "2022-07-25",
          "2022-07-26",
          "2022-07-29",
          "2022-07-30",
          "2022-07-31",
          "2022-08-01",
          "2022-08-03",
          "2022-08-05",
          "2022-08-06",
          "2022-08-08",
          "2022-08-10",
          "2022-08-12",
          "2022-08-14",
          "2022-08-16",
          "2022-08-17",
          "2022-08-18",
          "2022-08-19",
          "2022-08-20",
          "2022-08-21",
          "2022-08-22",
          "2022-08-23",
          "2022-08-24",
          "2022-08-25",
          "2022-08-26",
          "2022-08-27",
          "2022-08-28",
          "2022-08-29",
          "2022-08-30",
          "2022-08-31",
          "2022-09-03",
          "2022-09-04",
          "2022-09-05",
          "2022-09-06",
          "2022-09-07"
         ],
         "xaxis": "x",
         "y": [
          596,
          605,
          631,
          671,
          698,
          716,
          737,
          758,
          815,
          871,
          888,
          932,
          944,
          980,
          1022,
          1063,
          1086,
          1116,
          1155,
          1212,
          1256,
          1267,
          1372,
          1391,
          1431,
          1445,
          1480,
          1487,
          1535,
          1542,
          1566,
          1573,
          1591,
          1606,
          1637,
          1653,
          1674,
          1687,
          1706,
          1743,
          1760,
          1768,
          1788,
          1809,
          1853,
          1882,
          1891,
          1905,
          1915,
          1921,
          1928,
          1938,
          1947,
          1947,
          1968,
          1979,
          2004,
          2022,
          2029,
          2049,
          2058,
          2092,
          2095,
          2111,
          2127,
          2140
         ],
         "yaxis": "y"
        },
        {
         "hovertemplate": "<b>%{hovertext}</b><br><br>medal=GOLD<br>title=Different Clustering Techniques and Algorithms<br>date=%{x}<br>view_count=%{y}<extra></extra>",
         "hovertext": [
          "Different Clustering Techniques and Algorithms",
          "Different Clustering Techniques and Algorithms",
          "Different Clustering Techniques and Algorithms",
          "Different Clustering Techniques and Algorithms",
          "Different Clustering Techniques and Algorithms",
          "Different Clustering Techniques and Algorithms",
          "Different Clustering Techniques and Algorithms",
          "Different Clustering Techniques and Algorithms",
          "Different Clustering Techniques and Algorithms",
          "Different Clustering Techniques and Algorithms",
          "Different Clustering Techniques and Algorithms",
          "Different Clustering Techniques and Algorithms",
          "Different Clustering Techniques and Algorithms",
          "Different Clustering Techniques and Algorithms",
          "Different Clustering Techniques and Algorithms",
          "Different Clustering Techniques and Algorithms",
          "Different Clustering Techniques and Algorithms",
          "Different Clustering Techniques and Algorithms",
          "Different Clustering Techniques and Algorithms",
          "Different Clustering Techniques and Algorithms",
          "Different Clustering Techniques and Algorithms",
          "Different Clustering Techniques and Algorithms",
          "Different Clustering Techniques and Algorithms",
          "Different Clustering Techniques and Algorithms",
          "Different Clustering Techniques and Algorithms",
          "Different Clustering Techniques and Algorithms",
          "Different Clustering Techniques and Algorithms",
          "Different Clustering Techniques and Algorithms",
          "Different Clustering Techniques and Algorithms",
          "Different Clustering Techniques and Algorithms",
          "Different Clustering Techniques and Algorithms",
          "Different Clustering Techniques and Algorithms",
          "Different Clustering Techniques and Algorithms",
          "Different Clustering Techniques and Algorithms",
          "Different Clustering Techniques and Algorithms",
          "Different Clustering Techniques and Algorithms",
          "Different Clustering Techniques and Algorithms",
          "Different Clustering Techniques and Algorithms",
          "Different Clustering Techniques and Algorithms",
          "Different Clustering Techniques and Algorithms",
          "Different Clustering Techniques and Algorithms",
          "Different Clustering Techniques and Algorithms",
          "Different Clustering Techniques and Algorithms",
          "Different Clustering Techniques and Algorithms",
          "Different Clustering Techniques and Algorithms",
          "Different Clustering Techniques and Algorithms",
          "Different Clustering Techniques and Algorithms",
          "Different Clustering Techniques and Algorithms",
          "Different Clustering Techniques and Algorithms",
          "Different Clustering Techniques and Algorithms",
          "Different Clustering Techniques and Algorithms"
         ],
         "legendgroup": "GOLD",
         "line": {
          "color": "gold",
          "dash": "solid"
         },
         "marker": {
          "symbol": "circle"
         },
         "mode": "lines",
         "name": "GOLD",
         "orientation": "v",
         "showlegend": false,
         "type": "scatter",
         "x": [
          "2022-07-01",
          "2022-07-02",
          "2022-07-03",
          "2022-07-04",
          "2022-07-05",
          "2022-07-06",
          "2022-07-07",
          "2022-07-11",
          "2022-07-12",
          "2022-07-14",
          "2022-07-15",
          "2022-07-17",
          "2022-07-18",
          "2022-07-21",
          "2022-07-22",
          "2022-07-23",
          "2022-07-24",
          "2022-07-25",
          "2022-07-26",
          "2022-07-29",
          "2022-07-30",
          "2022-07-31",
          "2022-08-01",
          "2022-08-03",
          "2022-08-05",
          "2022-08-06",
          "2022-08-08",
          "2022-08-10",
          "2022-08-12",
          "2022-08-14",
          "2022-08-16",
          "2022-08-17",
          "2022-08-18",
          "2022-08-19",
          "2022-08-20",
          "2022-08-21",
          "2022-08-22",
          "2022-08-23",
          "2022-08-24",
          "2022-08-25",
          "2022-08-26",
          "2022-08-27",
          "2022-08-28",
          "2022-08-29",
          "2022-08-30",
          "2022-08-31",
          "2022-09-03",
          "2022-09-04",
          "2022-09-05",
          "2022-09-06",
          "2022-09-07"
         ],
         "xaxis": "x",
         "y": [
          40,
          414,
          521,
          585,
          677,
          757,
          778,
          1022,
          1074,
          1193,
          1244,
          1380,
          1409,
          1661,
          1691,
          1802,
          1863,
          1947,
          1998,
          2153,
          2203,
          2259,
          2291,
          2321,
          2367,
          2386,
          2405,
          2467,
          2508,
          2558,
          2604,
          2616,
          2644,
          2654,
          2676,
          2694,
          2712,
          2736,
          2736,
          2781,
          2790,
          2819,
          2840,
          2853,
          2869,
          2880,
          2945,
          2964,
          2990,
          3018,
          3034
         ],
         "yaxis": "y"
        },
        {
         "hovertemplate": "<b>%{hovertext}</b><br><br>medal=GOLD<br>title=Classification ➡️ Comparing Different Algorithms<br>date=%{x}<br>view_count=%{y}<extra></extra>",
         "hovertext": [
          "Classification ➡️ Comparing Different Algorithms",
          "Classification ➡️ Comparing Different Algorithms",
          "Classification ➡️ Comparing Different Algorithms",
          "Classification ➡️ Comparing Different Algorithms",
          "Classification ➡️ Comparing Different Algorithms",
          "Classification ➡️ Comparing Different Algorithms",
          "Classification ➡️ Comparing Different Algorithms",
          "Classification ➡️ Comparing Different Algorithms",
          "Classification ➡️ Comparing Different Algorithms",
          "Classification ➡️ Comparing Different Algorithms",
          "Classification ➡️ Comparing Different Algorithms",
          "Classification ➡️ Comparing Different Algorithms",
          "Classification ➡️ Comparing Different Algorithms",
          "Classification ➡️ Comparing Different Algorithms",
          "Classification ➡️ Comparing Different Algorithms",
          "Classification ➡️ Comparing Different Algorithms",
          "Classification ➡️ Comparing Different Algorithms",
          "Classification ➡️ Comparing Different Algorithms",
          "Classification ➡️ Comparing Different Algorithms",
          "Classification ➡️ Comparing Different Algorithms",
          "Classification ➡️ Comparing Different Algorithms",
          "Classification ➡️ Comparing Different Algorithms",
          "Classification ➡️ Comparing Different Algorithms",
          "Classification ➡️ Comparing Different Algorithms",
          "Classification ➡️ Comparing Different Algorithms",
          "Classification ➡️ Comparing Different Algorithms",
          "Classification ➡️ Comparing Different Algorithms",
          "Classification ➡️ Comparing Different Algorithms",
          "Classification ➡️ Comparing Different Algorithms"
         ],
         "legendgroup": "GOLD",
         "line": {
          "color": "gold",
          "dash": "solid"
         },
         "marker": {
          "symbol": "circle"
         },
         "mode": "lines",
         "name": "GOLD",
         "orientation": "v",
         "showlegend": false,
         "type": "scatter",
         "x": [
          "2022-08-01",
          "2022-08-03",
          "2022-08-05",
          "2022-08-06",
          "2022-08-08",
          "2022-08-10",
          "2022-08-12",
          "2022-08-14",
          "2022-08-16",
          "2022-08-17",
          "2022-08-18",
          "2022-08-19",
          "2022-08-20",
          "2022-08-21",
          "2022-08-22",
          "2022-08-23",
          "2022-08-24",
          "2022-08-25",
          "2022-08-26",
          "2022-08-27",
          "2022-08-28",
          "2022-08-29",
          "2022-08-30",
          "2022-08-31",
          "2022-09-03",
          "2022-09-04",
          "2022-09-05",
          "2022-09-06",
          "2022-09-07"
         ],
         "xaxis": "x",
         "y": [
          79,
          168,
          331,
          462,
          479,
          743,
          992,
          1278,
          1416,
          1452,
          1532,
          1544,
          1562,
          1590,
          1609,
          1638,
          1638,
          1689,
          1701,
          1737,
          1770,
          1789,
          1838,
          1860,
          1944,
          1955,
          1973,
          2006,
          2022
         ],
         "yaxis": "y"
        },
        {
         "hovertemplate": "<b>%{hovertext}</b><br><br>medal=GOLD<br>title=XGBoost | Wrangling with Hyperparameters | Guide<br>date=%{x}<br>view_count=%{y}<extra></extra>",
         "hovertext": [
          "XGBoost | Wrangling with Hyperparameters | Guide",
          "XGBoost | Wrangling with Hyperparameters | Guide",
          "XGBoost | Wrangling with Hyperparameters | Guide",
          "XGBoost | Wrangling with Hyperparameters | Guide",
          "XGBoost | Wrangling with Hyperparameters | Guide",
          "XGBoost | Wrangling with Hyperparameters | Guide",
          "XGBoost | Wrangling with Hyperparameters | Guide",
          "XGBoost | Wrangling with Hyperparameters | Guide",
          "XGBoost | Wrangling with Hyperparameters | Guide",
          "XGBoost | Wrangling with Hyperparameters | Guide",
          "XGBoost | Wrangling with Hyperparameters | Guide",
          "XGBoost | Wrangling with Hyperparameters | Guide",
          "XGBoost | Wrangling with Hyperparameters | Guide",
          "XGBoost | Wrangling with Hyperparameters | Guide",
          "XGBoost | Wrangling with Hyperparameters | Guide",
          "XGBoost | Wrangling with Hyperparameters | Guide",
          "XGBoost | Wrangling with Hyperparameters | Guide",
          "XGBoost | Wrangling with Hyperparameters | Guide",
          "XGBoost | Wrangling with Hyperparameters | Guide",
          "XGBoost | Wrangling with Hyperparameters | Guide"
         ],
         "legendgroup": "GOLD",
         "line": {
          "color": "gold",
          "dash": "solid"
         },
         "marker": {
          "symbol": "circle"
         },
         "mode": "lines",
         "name": "GOLD",
         "orientation": "v",
         "showlegend": false,
         "type": "scatter",
         "x": [
          "2022-08-17",
          "2022-08-18",
          "2022-08-19",
          "2022-08-20",
          "2022-08-21",
          "2022-08-22",
          "2022-08-23",
          "2022-08-24",
          "2022-08-25",
          "2022-08-26",
          "2022-08-27",
          "2022-08-28",
          "2022-08-29",
          "2022-08-30",
          "2022-08-31",
          "2022-09-03",
          "2022-09-04",
          "2022-09-05",
          "2022-09-06",
          "2022-09-07"
         ],
         "xaxis": "x",
         "y": [
          10,
          231,
          1189,
          2471,
          2706,
          2853,
          3382,
          3382,
          3649,
          3706,
          3873,
          3955,
          4040,
          4186,
          4306,
          4596,
          4641,
          4721,
          4794,
          4854
         ],
         "yaxis": "y"
        },
        {
         "hovertemplate": "<b>%{hovertext}</b><br><br>medal=GOLD<br>title=🗓 Intro to Time Series Analysis 🔺  Forecasting🔻<br>date=%{x}<br>view_count=%{y}<extra></extra>",
         "hovertext": [
          "🗓 Intro to Time Series Analysis 🔺  Forecasting🔻",
          "🗓 Intro to Time Series Analysis 🔺  Forecasting🔻",
          "🗓 Intro to Time Series Analysis 🔺  Forecasting🔻",
          "🗓 Intro to Time Series Analysis 🔺  Forecasting🔻",
          "🗓 Intro to Time Series Analysis 🔺  Forecasting🔻"
         ],
         "legendgroup": "GOLD",
         "line": {
          "color": "gold",
          "dash": "solid"
         },
         "marker": {
          "symbol": "circle"
         },
         "mode": "lines",
         "name": "GOLD",
         "orientation": "v",
         "showlegend": false,
         "type": "scatter",
         "x": [
          "2022-09-03",
          "2022-09-04",
          "2022-09-05",
          "2022-09-06",
          "2022-09-07"
         ],
         "xaxis": "x",
         "y": [
          6,
          186,
          648,
          1023,
          1472
         ],
         "yaxis": "y"
        },
        {
         "hovertemplate": "<b>%{hovertext}</b><br><br>medal=SILVER<br>title=📚 Coursera 📉 EDA, Sentiment Analysis 🔴🟢🔵<br>date=%{x}<br>view_count=%{y}<extra></extra>",
         "hovertext": [
          "📚 Coursera 📉 EDA, Sentiment Analysis 🔴🟢🔵",
          "📚 Coursera 📉 EDA, Sentiment Analysis 🔴🟢🔵",
          "📚 Coursera 📉 EDA, Sentiment Analysis 🔴🟢🔵",
          "📚 Coursera 📉 EDA, Sentiment Analysis 🔴🟢🔵",
          "📚 Coursera 📉 EDA, Sentiment Analysis 🔴🟢🔵",
          "📚 Coursera 📉 EDA, Sentiment Analysis 🔴🟢🔵",
          "📚 Coursera 📉 EDA, Sentiment Analysis 🔴🟢🔵",
          "📚 Coursera 📉 EDA, Sentiment Analysis 🔴🟢🔵",
          "📚 Coursera 📉 EDA, Sentiment Analysis 🔴🟢🔵",
          "📚 Coursera 📉 EDA, Sentiment Analysis 🔴🟢🔵",
          "📚 Coursera 📉 EDA, Sentiment Analysis 🔴🟢🔵",
          "📚 Coursera 📉 EDA, Sentiment Analysis 🔴🟢🔵",
          "📚 Coursera 📉 EDA, Sentiment Analysis 🔴🟢🔵",
          "📚 Coursera 📉 EDA, Sentiment Analysis 🔴🟢🔵",
          "📚 Coursera 📉 EDA, Sentiment Analysis 🔴🟢🔵",
          "📚 Coursera 📉 EDA, Sentiment Analysis 🔴🟢🔵",
          "📚 Coursera 📉 EDA, Sentiment Analysis 🔴🟢🔵",
          "📚 Coursera 📉 EDA, Sentiment Analysis 🔴🟢🔵",
          "📚 Coursera 📉 EDA, Sentiment Analysis 🔴🟢🔵",
          "📚 Coursera 📉 EDA, Sentiment Analysis 🔴🟢🔵",
          "📚 Coursera 📉 EDA, Sentiment Analysis 🔴🟢🔵",
          "📚 Coursera 📉 EDA, Sentiment Analysis 🔴🟢🔵",
          "📚 Coursera 📉 EDA, Sentiment Analysis 🔴🟢🔵",
          "📚 Coursera 📉 EDA, Sentiment Analysis 🔴🟢🔵",
          "📚 Coursera 📉 EDA, Sentiment Analysis 🔴🟢🔵",
          "📚 Coursera 📉 EDA, Sentiment Analysis 🔴🟢🔵",
          "📚 Coursera 📉 EDA, Sentiment Analysis 🔴🟢🔵",
          "📚 Coursera 📉 EDA, Sentiment Analysis 🔴🟢🔵",
          "📚 Coursera 📉 EDA, Sentiment Analysis 🔴🟢🔵",
          "📚 Coursera 📉 EDA, Sentiment Analysis 🔴🟢🔵",
          "📚 Coursera 📉 EDA, Sentiment Analysis 🔴🟢🔵",
          "📚 Coursera 📉 EDA, Sentiment Analysis 🔴🟢🔵",
          "📚 Coursera 📉 EDA, Sentiment Analysis 🔴🟢🔵",
          "📚 Coursera 📉 EDA, Sentiment Analysis 🔴🟢🔵",
          "📚 Coursera 📉 EDA, Sentiment Analysis 🔴🟢🔵",
          "📚 Coursera 📉 EDA, Sentiment Analysis 🔴🟢🔵",
          "📚 Coursera 📉 EDA, Sentiment Analysis 🔴🟢🔵",
          "📚 Coursera 📉 EDA, Sentiment Analysis 🔴🟢🔵",
          "📚 Coursera 📉 EDA, Sentiment Analysis 🔴🟢🔵",
          "📚 Coursera 📉 EDA, Sentiment Analysis 🔴🟢🔵",
          "📚 Coursera 📉 EDA, Sentiment Analysis 🔴🟢🔵",
          "📚 Coursera 📉 EDA, Sentiment Analysis 🔴🟢🔵",
          "📚 Coursera 📉 EDA, Sentiment Analysis 🔴🟢🔵",
          "📚 Coursera 📉 EDA, Sentiment Analysis 🔴🟢🔵",
          "📚 Coursera 📉 EDA, Sentiment Analysis 🔴🟢🔵",
          "📚 Coursera 📉 EDA, Sentiment Analysis 🔴🟢🔵",
          "📚 Coursera 📉 EDA, Sentiment Analysis 🔴🟢🔵",
          "📚 Coursera 📉 EDA, Sentiment Analysis 🔴🟢🔵",
          "📚 Coursera 📉 EDA, Sentiment Analysis 🔴🟢🔵",
          "📚 Coursera 📉 EDA, Sentiment Analysis 🔴🟢🔵",
          "📚 Coursera 📉 EDA, Sentiment Analysis 🔴🟢🔵",
          "📚 Coursera 📉 EDA, Sentiment Analysis 🔴🟢🔵",
          "📚 Coursera 📉 EDA, Sentiment Analysis 🔴🟢🔵",
          "📚 Coursera 📉 EDA, Sentiment Analysis 🔴🟢🔵",
          "📚 Coursera 📉 EDA, Sentiment Analysis 🔴🟢🔵",
          "📚 Coursera 📉 EDA, Sentiment Analysis 🔴🟢🔵",
          "📚 Coursera 📉 EDA, Sentiment Analysis 🔴🟢🔵",
          "📚 Coursera 📉 EDA, Sentiment Analysis 🔴🟢🔵",
          "📚 Coursera 📉 EDA, Sentiment Analysis 🔴🟢🔵",
          "📚 Coursera 📉 EDA, Sentiment Analysis 🔴🟢🔵",
          "📚 Coursera 📉 EDA, Sentiment Analysis 🔴🟢🔵",
          "📚 Coursera 📉 EDA, Sentiment Analysis 🔴🟢🔵",
          "📚 Coursera 📉 EDA, Sentiment Analysis 🔴🟢🔵",
          "📚 Coursera 📉 EDA, Sentiment Analysis 🔴🟢🔵",
          "📚 Coursera 📉 EDA, Sentiment Analysis 🔴🟢🔵",
          "📚 Coursera 📉 EDA, Sentiment Analysis 🔴🟢🔵"
         ],
         "legendgroup": "SILVER",
         "line": {
          "color": "silver",
          "dash": "solid"
         },
         "marker": {
          "symbol": "circle"
         },
         "mode": "lines",
         "name": "SILVER",
         "orientation": "v",
         "showlegend": true,
         "type": "scatter",
         "x": [
          "2022-06-12",
          "2022-06-13",
          "2022-06-14",
          "2022-06-15",
          "2022-06-16",
          "2022-06-17",
          "2022-06-18",
          "2022-06-19",
          "2022-06-20",
          "2022-06-21",
          "2022-06-22",
          "2022-06-25",
          "2022-06-26",
          "2022-06-28",
          "2022-06-29",
          "2022-07-01",
          "2022-07-02",
          "2022-07-03",
          "2022-07-04",
          "2022-07-05",
          "2022-07-06",
          "2022-07-07",
          "2022-07-11",
          "2022-07-12",
          "2022-07-14",
          "2022-07-15",
          "2022-07-17",
          "2022-07-18",
          "2022-07-21",
          "2022-07-22",
          "2022-07-23",
          "2022-07-24",
          "2022-07-25",
          "2022-07-26",
          "2022-07-29",
          "2022-07-30",
          "2022-07-31",
          "2022-08-01",
          "2022-08-03",
          "2022-08-05",
          "2022-08-06",
          "2022-08-08",
          "2022-08-10",
          "2022-08-12",
          "2022-08-14",
          "2022-08-16",
          "2022-08-17",
          "2022-08-18",
          "2022-08-19",
          "2022-08-20",
          "2022-08-21",
          "2022-08-22",
          "2022-08-23",
          "2022-08-24",
          "2022-08-25",
          "2022-08-26",
          "2022-08-27",
          "2022-08-28",
          "2022-08-29",
          "2022-08-30",
          "2022-08-31",
          "2022-09-03",
          "2022-09-04",
          "2022-09-05",
          "2022-09-06",
          "2022-09-07"
         ],
         "xaxis": "x",
         "y": [
          424,
          428,
          438,
          444,
          454,
          458,
          461,
          461,
          466,
          471,
          482,
          500,
          509,
          514,
          524,
          534,
          535,
          535,
          540,
          544,
          544,
          544,
          552,
          554,
          559,
          566,
          567,
          568,
          580,
          581,
          586,
          592,
          597,
          602,
          619,
          627,
          639,
          651,
          663,
          667,
          672,
          683,
          704,
          724,
          747,
          766,
          783,
          800,
          811,
          819,
          828,
          832,
          845,
          845,
          889,
          900,
          936,
          942,
          968,
          996,
          1003,
          1065,
          1072,
          1097,
          1114,
          1124
         ],
         "yaxis": "y"
        },
        {
         "hovertemplate": "<b>%{hovertext}</b><br><br>medal=SILVER<br>title=📆 Daily AQI 🗺️ Scheduled + Dataset 🌪️<br>date=%{x}<br>view_count=%{y}<extra></extra>",
         "hovertext": [
          "📆 Daily AQI 🗺️ Scheduled + Dataset 🌪️",
          "📆 Daily AQI 🗺️ Scheduled + Dataset 🌪️",
          "📆 Daily AQI 🗺️ Scheduled + Dataset 🌪️",
          "📆 Daily AQI 🗺️ Scheduled + Dataset 🌪️",
          "📆 Daily AQI 🗺️ Scheduled + Dataset 🌪️",
          "📆 Daily AQI 🗺️ Scheduled + Dataset 🌪️",
          "📆 Daily AQI 🗺️ Scheduled + Dataset 🌪️",
          "📆 Daily AQI 🗺️ Scheduled + Dataset 🌪️",
          "📆 Daily AQI 🗺️ Scheduled + Dataset 🌪️",
          "📆 Daily AQI 🗺️ Scheduled + Dataset 🌪️",
          "📆 Daily AQI 🗺️ Scheduled + Dataset 🌪️",
          "📆 Daily AQI 🗺️ Scheduled + Dataset 🌪️",
          "📆 Daily AQI 🗺️ Scheduled + Dataset 🌪️",
          "📆 Daily AQI 🗺️ Scheduled + Dataset 🌪️",
          "📆 Daily AQI 🗺️ Scheduled + Dataset 🌪️",
          "📆 Daily AQI 🗺️ Scheduled + Dataset 🌪️",
          "📆 Daily AQI 🗺️ Scheduled + Dataset 🌪️",
          "📆 Daily AQI 🗺️ Scheduled + Dataset 🌪️",
          "📆 Daily AQI 🗺️ Scheduled + Dataset 🌪️",
          "📆 Daily AQI 🗺️ Scheduled + Dataset 🌪️",
          "📆 Daily AQI 🗺️ Scheduled + Dataset 🌪️",
          "📆 Daily AQI 🗺️ Scheduled + Dataset 🌪️",
          "📆 Daily AQI 🗺️ Scheduled + Dataset 🌪️",
          "📆 Daily AQI 🗺️ Scheduled + Dataset 🌪️",
          "📆 Daily AQI 🗺️ Scheduled + Dataset 🌪️",
          "📆 Daily AQI 🗺️ Scheduled + Dataset 🌪️",
          "📆 Daily AQI 🗺️ Scheduled + Dataset 🌪️",
          "📆 Daily AQI 🗺️ Scheduled + Dataset 🌪️",
          "📆 Daily AQI 🗺️ Scheduled + Dataset 🌪️",
          "📆 Daily AQI 🗺️ Scheduled + Dataset 🌪️",
          "📆 Daily AQI 🗺️ Scheduled + Dataset 🌪️",
          "📆 Daily AQI 🗺️ Scheduled + Dataset 🌪️",
          "📆 Daily AQI 🗺️ Scheduled + Dataset 🌪️",
          "📆 Daily AQI 🗺️ Scheduled + Dataset 🌪️",
          "📆 Daily AQI 🗺️ Scheduled + Dataset 🌪️",
          "📆 Daily AQI 🗺️ Scheduled + Dataset 🌪️",
          "📆 Daily AQI 🗺️ Scheduled + Dataset 🌪️",
          "📆 Daily AQI 🗺️ Scheduled + Dataset 🌪️"
         ],
         "legendgroup": "SILVER",
         "line": {
          "color": "silver",
          "dash": "solid"
         },
         "marker": {
          "symbol": "circle"
         },
         "mode": "lines",
         "name": "SILVER",
         "orientation": "v",
         "showlegend": false,
         "type": "scatter",
         "x": [
          "2022-07-21",
          "2022-07-22",
          "2022-07-23",
          "2022-07-24",
          "2022-07-25",
          "2022-07-26",
          "2022-07-29",
          "2022-07-30",
          "2022-07-31",
          "2022-08-01",
          "2022-08-03",
          "2022-08-05",
          "2022-08-06",
          "2022-08-08",
          "2022-08-10",
          "2022-08-12",
          "2022-08-14",
          "2022-08-16",
          "2022-08-17",
          "2022-08-18",
          "2022-08-19",
          "2022-08-20",
          "2022-08-21",
          "2022-08-22",
          "2022-08-23",
          "2022-08-24",
          "2022-08-25",
          "2022-08-26",
          "2022-08-27",
          "2022-08-28",
          "2022-08-29",
          "2022-08-30",
          "2022-08-31",
          "2022-09-03",
          "2022-09-04",
          "2022-09-05",
          "2022-09-06",
          "2022-09-07"
         ],
         "xaxis": "x",
         "y": [
          43,
          111,
          175,
          193,
          217,
          235,
          309,
          324,
          361,
          423,
          460,
          539,
          554,
          574,
          608,
          646,
          698,
          725,
          742,
          757,
          767,
          780,
          792,
          800,
          831,
          831,
          869,
          876,
          902,
          908,
          919,
          937,
          945,
          992,
          1000,
          1014,
          1032,
          1044
         ],
         "yaxis": "y"
        },
        {
         "hovertemplate": "<b>%{hovertext}</b><br><br>medal=SILVER<br>title=House Price Prediction with Stacking & Ensembling<br>date=%{x}<br>view_count=%{y}<extra></extra>",
         "hovertext": [
          "House Price Prediction with Stacking & Ensembling",
          "House Price Prediction with Stacking & Ensembling",
          "House Price Prediction with Stacking & Ensembling",
          "House Price Prediction with Stacking & Ensembling",
          "House Price Prediction with Stacking & Ensembling",
          "House Price Prediction with Stacking & Ensembling",
          "House Price Prediction with Stacking & Ensembling",
          "House Price Prediction with Stacking & Ensembling",
          "House Price Prediction with Stacking & Ensembling",
          "House Price Prediction with Stacking & Ensembling",
          "House Price Prediction with Stacking & Ensembling",
          "House Price Prediction with Stacking & Ensembling",
          "House Price Prediction with Stacking & Ensembling",
          "House Price Prediction with Stacking & Ensembling",
          "House Price Prediction with Stacking & Ensembling",
          "House Price Prediction with Stacking & Ensembling",
          "House Price Prediction with Stacking & Ensembling",
          "House Price Prediction with Stacking & Ensembling",
          "House Price Prediction with Stacking & Ensembling",
          "House Price Prediction with Stacking & Ensembling"
         ],
         "legendgroup": "SILVER",
         "line": {
          "color": "silver",
          "dash": "solid"
         },
         "marker": {
          "symbol": "circle"
         },
         "mode": "lines",
         "name": "SILVER",
         "orientation": "v",
         "showlegend": false,
         "type": "scatter",
         "x": [
          "2022-08-17",
          "2022-08-18",
          "2022-08-19",
          "2022-08-20",
          "2022-08-21",
          "2022-08-22",
          "2022-08-23",
          "2022-08-24",
          "2022-08-25",
          "2022-08-26",
          "2022-08-27",
          "2022-08-28",
          "2022-08-29",
          "2022-08-30",
          "2022-08-31",
          "2022-09-03",
          "2022-09-04",
          "2022-09-05",
          "2022-09-06",
          "2022-09-07"
         ],
         "xaxis": "x",
         "y": [
          55,
          124,
          170,
          187,
          197,
          232,
          309,
          309,
          485,
          542,
          687,
          749,
          802,
          908,
          967,
          1139,
          1160,
          1207,
          1248,
          1278
         ],
         "yaxis": "y"
        },
        {
         "hovertemplate": "<b>%{hovertext}</b><br><br>medal=BRONZE<br>title=🔮 LSTM 🗓️ Time Series Forecasting 📆<br>date=%{x}<br>view_count=%{y}<extra></extra>",
         "hovertext": [
          "🔮 LSTM 🗓️ Time Series Forecasting 📆",
          "🔮 LSTM 🗓️ Time Series Forecasting 📆",
          "🔮 LSTM 🗓️ Time Series Forecasting 📆",
          "🔮 LSTM 🗓️ Time Series Forecasting 📆",
          "🔮 LSTM 🗓️ Time Series Forecasting 📆"
         ],
         "legendgroup": "BRONZE",
         "line": {
          "color": "chocolate",
          "dash": "solid"
         },
         "marker": {
          "symbol": "circle"
         },
         "mode": "lines",
         "name": "BRONZE",
         "orientation": "v",
         "showlegend": true,
         "type": "scatter",
         "x": [
          "2022-09-03",
          "2022-09-04",
          "2022-09-05",
          "2022-09-06",
          "2022-09-07"
         ],
         "xaxis": "x",
         "y": [
          1,
          79,
          132,
          144,
          150
         ],
         "yaxis": "y"
        },
        {
         "marker": {
          "color": "gold",
          "size": 5
         },
         "mode": "markers+text",
         "text": "[2456]UCL ⚽ EDA & Viz ⭐ 2021-22 ⭐ Players & Teams",
         "textposition": "middle right",
         "type": "scatter",
         "x": [
          "2022-09-07"
         ],
         "y": [
          2456
         ]
        },
        {
         "marker": {
          "color": "gold",
          "size": 5
         },
         "mode": "markers+text",
         "text": "[1923]Divorce Prediction & Reasons : XGB,SHAP,RFE,TSNE",
         "textposition": "middle right",
         "type": "scatter",
         "x": [
          "2022-09-07"
         ],
         "y": [
          1923
         ]
        },
        {
         "marker": {
          "color": "gold",
          "size": 5
         },
         "mode": "markers+text",
         "text": "[3355]Advanced Feature Engineering for Classification",
         "textposition": "middle right",
         "type": "scatter",
         "x": [
          "2022-09-07"
         ],
         "y": [
          3355
         ]
        },
        {
         "marker": {
          "color": "gold",
          "size": 5
         },
         "mode": "markers+text",
         "text": "[6892]All Imputation Techniques with Pros and Cons",
         "textposition": "middle right",
         "type": "scatter",
         "x": [
          "2022-09-07"
         ],
         "y": [
          6892
         ]
        },
        {
         "marker": {
          "color": "gold",
          "size": 5
         },
         "mode": "markers+text",
         "text": "[4907]Mastering Bias-Variance Tradeoff ",
         "textposition": "middle right",
         "type": "scatter",
         "x": [
          "2022-09-07"
         ],
         "y": [
          4907
         ]
        },
        {
         "marker": {
          "color": "gold",
          "size": 5
         },
         "mode": "markers+text",
         "text": "[2855]▶️ Lionel Messi 📊 Extended EDA ⚽ Goals ",
         "textposition": "middle right",
         "type": "scatter",
         "x": [
          "2022-09-07"
         ],
         "y": [
          2855
         ]
        },
        {
         "marker": {
          "color": "gold",
          "size": 5
         },
         "mode": "markers+text",
         "text": "[2998]▶️ Cristiano Ronaldo ⚽ Goals  📊 EDA, Analysis",
         "textposition": "middle right",
         "type": "scatter",
         "x": [
          "2022-09-07"
         ],
         "y": [
          2998
         ]
        },
        {
         "marker": {
          "color": "gold",
          "size": 5
         },
         "mode": "markers+text",
         "text": "[975]Investment and Financial Analysis  🏭 EPZ",
         "textposition": "middle right",
         "type": "scatter",
         "x": [
          "2022-09-07"
         ],
         "y": [
          975
         ]
        },
        {
         "marker": {
          "color": "gold",
          "size": 5
         },
         "mode": "markers+text",
         "text": "[2140]ML Foundation ➡️ Cross Validation ✅ All Methods",
         "textposition": "middle right",
         "type": "scatter",
         "x": [
          "2022-09-07"
         ],
         "y": [
          2140
         ]
        },
        {
         "marker": {
          "color": "gold",
          "size": 5
         },
         "mode": "markers+text",
         "text": "[3034]Different Clustering Techniques and Algorithms",
         "textposition": "middle right",
         "type": "scatter",
         "x": [
          "2022-09-07"
         ],
         "y": [
          3034
         ]
        },
        {
         "marker": {
          "color": "gold",
          "size": 5
         },
         "mode": "markers+text",
         "text": "[2022]Classification ➡️ Comparing Different Algorithms",
         "textposition": "middle right",
         "type": "scatter",
         "x": [
          "2022-09-07"
         ],
         "y": [
          2022
         ]
        },
        {
         "marker": {
          "color": "gold",
          "size": 5
         },
         "mode": "markers+text",
         "text": "[4854]XGBoost | Wrangling with Hyperparameters | Guide",
         "textposition": "middle right",
         "type": "scatter",
         "x": [
          "2022-09-07"
         ],
         "y": [
          4854
         ]
        },
        {
         "marker": {
          "color": "gold",
          "size": 5
         },
         "mode": "markers+text",
         "text": "[1472]🗓 Intro to Time Series Analysis 🔺  Forecasting🔻",
         "textposition": "middle right",
         "type": "scatter",
         "x": [
          "2022-09-07"
         ],
         "y": [
          1472
         ]
        },
        {
         "marker": {
          "color": "silver",
          "size": 5
         },
         "mode": "markers+text",
         "text": "[1124]📚 Coursera 📉 EDA, Sentiment Analysis 🔴🟢🔵",
         "textposition": "middle right",
         "type": "scatter",
         "x": [
          "2022-09-07"
         ],
         "y": [
          1124
         ]
        },
        {
         "marker": {
          "color": "silver",
          "size": 5
         },
         "mode": "markers+text",
         "text": "[1044]📆 Daily AQI 🗺️ Scheduled + Dataset 🌪️",
         "textposition": "middle right",
         "type": "scatter",
         "x": [
          "2022-09-07"
         ],
         "y": [
          1044
         ]
        },
        {
         "marker": {
          "color": "silver",
          "size": 5
         },
         "mode": "markers+text",
         "text": "[1278]House Price Prediction with Stacking & Ensembling",
         "textposition": "middle right",
         "type": "scatter",
         "x": [
          "2022-09-07"
         ],
         "y": [
          1278
         ]
        },
        {
         "marker": {
          "color": "chocolate",
          "size": 5
         },
         "mode": "markers+text",
         "text": "[150]🔮 LSTM 🗓️ Time Series Forecasting 📆",
         "textposition": "middle right",
         "type": "scatter",
         "x": [
          "2022-09-07"
         ],
         "y": [
          150
         ]
        }
       ],
       "layout": {
        "height": 800,
        "legend": {
         "title": {
          "text": "medal"
         },
         "tracegroupgap": 0
        },
        "showlegend": false,
        "template": {
         "data": {
          "bar": [
           {
            "error_x": {
             "color": "#f2f5fa"
            },
            "error_y": {
             "color": "#f2f5fa"
            },
            "marker": {
             "line": {
              "color": "rgb(17,17,17)",
              "width": 0.5
             },
             "pattern": {
              "fillmode": "overlay",
              "size": 10,
              "solidity": 0.2
             }
            },
            "type": "bar"
           }
          ],
          "barpolar": [
           {
            "marker": {
             "line": {
              "color": "rgb(17,17,17)",
              "width": 0.5
             },
             "pattern": {
              "fillmode": "overlay",
              "size": 10,
              "solidity": 0.2
             }
            },
            "type": "barpolar"
           }
          ],
          "carpet": [
           {
            "aaxis": {
             "endlinecolor": "#A2B1C6",
             "gridcolor": "#506784",
             "linecolor": "#506784",
             "minorgridcolor": "#506784",
             "startlinecolor": "#A2B1C6"
            },
            "baxis": {
             "endlinecolor": "#A2B1C6",
             "gridcolor": "#506784",
             "linecolor": "#506784",
             "minorgridcolor": "#506784",
             "startlinecolor": "#A2B1C6"
            },
            "type": "carpet"
           }
          ],
          "choropleth": [
           {
            "colorbar": {
             "outlinewidth": 0,
             "ticks": ""
            },
            "type": "choropleth"
           }
          ],
          "contour": [
           {
            "colorbar": {
             "outlinewidth": 0,
             "ticks": ""
            },
            "colorscale": [
             [
              0,
              "#0d0887"
             ],
             [
              0.1111111111111111,
              "#46039f"
             ],
             [
              0.2222222222222222,
              "#7201a8"
             ],
             [
              0.3333333333333333,
              "#9c179e"
             ],
             [
              0.4444444444444444,
              "#bd3786"
             ],
             [
              0.5555555555555556,
              "#d8576b"
             ],
             [
              0.6666666666666666,
              "#ed7953"
             ],
             [
              0.7777777777777778,
              "#fb9f3a"
             ],
             [
              0.8888888888888888,
              "#fdca26"
             ],
             [
              1,
              "#f0f921"
             ]
            ],
            "type": "contour"
           }
          ],
          "contourcarpet": [
           {
            "colorbar": {
             "outlinewidth": 0,
             "ticks": ""
            },
            "type": "contourcarpet"
           }
          ],
          "heatmap": [
           {
            "colorbar": {
             "outlinewidth": 0,
             "ticks": ""
            },
            "colorscale": [
             [
              0,
              "#0d0887"
             ],
             [
              0.1111111111111111,
              "#46039f"
             ],
             [
              0.2222222222222222,
              "#7201a8"
             ],
             [
              0.3333333333333333,
              "#9c179e"
             ],
             [
              0.4444444444444444,
              "#bd3786"
             ],
             [
              0.5555555555555556,
              "#d8576b"
             ],
             [
              0.6666666666666666,
              "#ed7953"
             ],
             [
              0.7777777777777778,
              "#fb9f3a"
             ],
             [
              0.8888888888888888,
              "#fdca26"
             ],
             [
              1,
              "#f0f921"
             ]
            ],
            "type": "heatmap"
           }
          ],
          "heatmapgl": [
           {
            "colorbar": {
             "outlinewidth": 0,
             "ticks": ""
            },
            "colorscale": [
             [
              0,
              "#0d0887"
             ],
             [
              0.1111111111111111,
              "#46039f"
             ],
             [
              0.2222222222222222,
              "#7201a8"
             ],
             [
              0.3333333333333333,
              "#9c179e"
             ],
             [
              0.4444444444444444,
              "#bd3786"
             ],
             [
              0.5555555555555556,
              "#d8576b"
             ],
             [
              0.6666666666666666,
              "#ed7953"
             ],
             [
              0.7777777777777778,
              "#fb9f3a"
             ],
             [
              0.8888888888888888,
              "#fdca26"
             ],
             [
              1,
              "#f0f921"
             ]
            ],
            "type": "heatmapgl"
           }
          ],
          "histogram": [
           {
            "marker": {
             "pattern": {
              "fillmode": "overlay",
              "size": 10,
              "solidity": 0.2
             }
            },
            "type": "histogram"
           }
          ],
          "histogram2d": [
           {
            "colorbar": {
             "outlinewidth": 0,
             "ticks": ""
            },
            "colorscale": [
             [
              0,
              "#0d0887"
             ],
             [
              0.1111111111111111,
              "#46039f"
             ],
             [
              0.2222222222222222,
              "#7201a8"
             ],
             [
              0.3333333333333333,
              "#9c179e"
             ],
             [
              0.4444444444444444,
              "#bd3786"
             ],
             [
              0.5555555555555556,
              "#d8576b"
             ],
             [
              0.6666666666666666,
              "#ed7953"
             ],
             [
              0.7777777777777778,
              "#fb9f3a"
             ],
             [
              0.8888888888888888,
              "#fdca26"
             ],
             [
              1,
              "#f0f921"
             ]
            ],
            "type": "histogram2d"
           }
          ],
          "histogram2dcontour": [
           {
            "colorbar": {
             "outlinewidth": 0,
             "ticks": ""
            },
            "colorscale": [
             [
              0,
              "#0d0887"
             ],
             [
              0.1111111111111111,
              "#46039f"
             ],
             [
              0.2222222222222222,
              "#7201a8"
             ],
             [
              0.3333333333333333,
              "#9c179e"
             ],
             [
              0.4444444444444444,
              "#bd3786"
             ],
             [
              0.5555555555555556,
              "#d8576b"
             ],
             [
              0.6666666666666666,
              "#ed7953"
             ],
             [
              0.7777777777777778,
              "#fb9f3a"
             ],
             [
              0.8888888888888888,
              "#fdca26"
             ],
             [
              1,
              "#f0f921"
             ]
            ],
            "type": "histogram2dcontour"
           }
          ],
          "mesh3d": [
           {
            "colorbar": {
             "outlinewidth": 0,
             "ticks": ""
            },
            "type": "mesh3d"
           }
          ],
          "parcoords": [
           {
            "line": {
             "colorbar": {
              "outlinewidth": 0,
              "ticks": ""
             }
            },
            "type": "parcoords"
           }
          ],
          "pie": [
           {
            "automargin": true,
            "type": "pie"
           }
          ],
          "scatter": [
           {
            "marker": {
             "line": {
              "color": "#283442"
             }
            },
            "type": "scatter"
           }
          ],
          "scatter3d": [
           {
            "line": {
             "colorbar": {
              "outlinewidth": 0,
              "ticks": ""
             }
            },
            "marker": {
             "colorbar": {
              "outlinewidth": 0,
              "ticks": ""
             }
            },
            "type": "scatter3d"
           }
          ],
          "scattercarpet": [
           {
            "marker": {
             "colorbar": {
              "outlinewidth": 0,
              "ticks": ""
             }
            },
            "type": "scattercarpet"
           }
          ],
          "scattergeo": [
           {
            "marker": {
             "colorbar": {
              "outlinewidth": 0,
              "ticks": ""
             }
            },
            "type": "scattergeo"
           }
          ],
          "scattergl": [
           {
            "marker": {
             "line": {
              "color": "#283442"
             }
            },
            "type": "scattergl"
           }
          ],
          "scattermapbox": [
           {
            "marker": {
             "colorbar": {
              "outlinewidth": 0,
              "ticks": ""
             }
            },
            "type": "scattermapbox"
           }
          ],
          "scatterpolar": [
           {
            "marker": {
             "colorbar": {
              "outlinewidth": 0,
              "ticks": ""
             }
            },
            "type": "scatterpolar"
           }
          ],
          "scatterpolargl": [
           {
            "marker": {
             "colorbar": {
              "outlinewidth": 0,
              "ticks": ""
             }
            },
            "type": "scatterpolargl"
           }
          ],
          "scatterternary": [
           {
            "marker": {
             "colorbar": {
              "outlinewidth": 0,
              "ticks": ""
             }
            },
            "type": "scatterternary"
           }
          ],
          "surface": [
           {
            "colorbar": {
             "outlinewidth": 0,
             "ticks": ""
            },
            "colorscale": [
             [
              0,
              "#0d0887"
             ],
             [
              0.1111111111111111,
              "#46039f"
             ],
             [
              0.2222222222222222,
              "#7201a8"
             ],
             [
              0.3333333333333333,
              "#9c179e"
             ],
             [
              0.4444444444444444,
              "#bd3786"
             ],
             [
              0.5555555555555556,
              "#d8576b"
             ],
             [
              0.6666666666666666,
              "#ed7953"
             ],
             [
              0.7777777777777778,
              "#fb9f3a"
             ],
             [
              0.8888888888888888,
              "#fdca26"
             ],
             [
              1,
              "#f0f921"
             ]
            ],
            "type": "surface"
           }
          ],
          "table": [
           {
            "cells": {
             "fill": {
              "color": "#506784"
             },
             "line": {
              "color": "rgb(17,17,17)"
             }
            },
            "header": {
             "fill": {
              "color": "#2a3f5f"
             },
             "line": {
              "color": "rgb(17,17,17)"
             }
            },
            "type": "table"
           }
          ]
         },
         "layout": {
          "annotationdefaults": {
           "arrowcolor": "#f2f5fa",
           "arrowhead": 0,
           "arrowwidth": 1
          },
          "autotypenumbers": "strict",
          "coloraxis": {
           "colorbar": {
            "outlinewidth": 0,
            "ticks": ""
           }
          },
          "colorscale": {
           "diverging": [
            [
             0,
             "#8e0152"
            ],
            [
             0.1,
             "#c51b7d"
            ],
            [
             0.2,
             "#de77ae"
            ],
            [
             0.3,
             "#f1b6da"
            ],
            [
             0.4,
             "#fde0ef"
            ],
            [
             0.5,
             "#f7f7f7"
            ],
            [
             0.6,
             "#e6f5d0"
            ],
            [
             0.7,
             "#b8e186"
            ],
            [
             0.8,
             "#7fbc41"
            ],
            [
             0.9,
             "#4d9221"
            ],
            [
             1,
             "#276419"
            ]
           ],
           "sequential": [
            [
             0,
             "#0d0887"
            ],
            [
             0.1111111111111111,
             "#46039f"
            ],
            [
             0.2222222222222222,
             "#7201a8"
            ],
            [
             0.3333333333333333,
             "#9c179e"
            ],
            [
             0.4444444444444444,
             "#bd3786"
            ],
            [
             0.5555555555555556,
             "#d8576b"
            ],
            [
             0.6666666666666666,
             "#ed7953"
            ],
            [
             0.7777777777777778,
             "#fb9f3a"
            ],
            [
             0.8888888888888888,
             "#fdca26"
            ],
            [
             1,
             "#f0f921"
            ]
           ],
           "sequentialminus": [
            [
             0,
             "#0d0887"
            ],
            [
             0.1111111111111111,
             "#46039f"
            ],
            [
             0.2222222222222222,
             "#7201a8"
            ],
            [
             0.3333333333333333,
             "#9c179e"
            ],
            [
             0.4444444444444444,
             "#bd3786"
            ],
            [
             0.5555555555555556,
             "#d8576b"
            ],
            [
             0.6666666666666666,
             "#ed7953"
            ],
            [
             0.7777777777777778,
             "#fb9f3a"
            ],
            [
             0.8888888888888888,
             "#fdca26"
            ],
            [
             1,
             "#f0f921"
            ]
           ]
          },
          "colorway": [
           "#636efa",
           "#EF553B",
           "#00cc96",
           "#ab63fa",
           "#FFA15A",
           "#19d3f3",
           "#FF6692",
           "#B6E880",
           "#FF97FF",
           "#FECB52"
          ],
          "font": {
           "color": "#f2f5fa"
          },
          "geo": {
           "bgcolor": "rgb(17,17,17)",
           "lakecolor": "rgb(17,17,17)",
           "landcolor": "rgb(17,17,17)",
           "showlakes": true,
           "showland": true,
           "subunitcolor": "#506784"
          },
          "hoverlabel": {
           "align": "left"
          },
          "hovermode": "closest",
          "mapbox": {
           "style": "dark"
          },
          "paper_bgcolor": "rgb(17,17,17)",
          "plot_bgcolor": "rgb(17,17,17)",
          "polar": {
           "angularaxis": {
            "gridcolor": "#506784",
            "linecolor": "#506784",
            "ticks": ""
           },
           "bgcolor": "rgb(17,17,17)",
           "radialaxis": {
            "gridcolor": "#506784",
            "linecolor": "#506784",
            "ticks": ""
           }
          },
          "scene": {
           "xaxis": {
            "backgroundcolor": "rgb(17,17,17)",
            "gridcolor": "#506784",
            "gridwidth": 2,
            "linecolor": "#506784",
            "showbackground": true,
            "ticks": "",
            "zerolinecolor": "#C8D4E3"
           },
           "yaxis": {
            "backgroundcolor": "rgb(17,17,17)",
            "gridcolor": "#506784",
            "gridwidth": 2,
            "linecolor": "#506784",
            "showbackground": true,
            "ticks": "",
            "zerolinecolor": "#C8D4E3"
           },
           "zaxis": {
            "backgroundcolor": "rgb(17,17,17)",
            "gridcolor": "#506784",
            "gridwidth": 2,
            "linecolor": "#506784",
            "showbackground": true,
            "ticks": "",
            "zerolinecolor": "#C8D4E3"
           }
          },
          "shapedefaults": {
           "line": {
            "color": "#f2f5fa"
           }
          },
          "sliderdefaults": {
           "bgcolor": "#C8D4E3",
           "bordercolor": "rgb(17,17,17)",
           "borderwidth": 1,
           "tickwidth": 0
          },
          "ternary": {
           "aaxis": {
            "gridcolor": "#506784",
            "linecolor": "#506784",
            "ticks": ""
           },
           "baxis": {
            "gridcolor": "#506784",
            "linecolor": "#506784",
            "ticks": ""
           },
           "bgcolor": "rgb(17,17,17)",
           "caxis": {
            "gridcolor": "#506784",
            "linecolor": "#506784",
            "ticks": ""
           }
          },
          "title": {
           "x": 0.05
          },
          "updatemenudefaults": {
           "bgcolor": "#506784",
           "borderwidth": 0
          },
          "xaxis": {
           "automargin": true,
           "gridcolor": "#283442",
           "linecolor": "#506784",
           "ticks": "",
           "title": {
            "standoff": 15
           },
           "zerolinecolor": "#283442",
           "zerolinewidth": 2
          },
          "yaxis": {
           "automargin": true,
           "gridcolor": "#283442",
           "linecolor": "#506784",
           "ticks": "",
           "title": {
            "standoff": 15
           },
           "zerolinecolor": "#283442",
           "zerolinewidth": 2
          }
         }
        },
        "title": {
         "text": "Notebooks by Azmine Wasi - View Count 2022-09-06"
        },
        "xaxis": {
         "anchor": "y",
         "domain": [
          0,
          1
         ],
         "title": {
          "text": "date"
         }
        },
        "yaxis": {
         "anchor": "x",
         "domain": [
          0,
          1
         ],
         "title": {
          "text": "view_count"
         }
        }
       }
      }
     },
     "metadata": {},
     "output_type": "display_data"
    }
   ],
   "source": [
    "fig=px.line(\n",
    "    df_d,\n",
    "    x='date',\n",
    "    y='view_count',\n",
    "    title=f'Notebooks by {df.author_displayName.get(0)} - View Count '+str(links[-2][25:35]),\n",
    "    log_x=False,\n",
    "    log_y=False,\n",
    "    line_group='title',\n",
    "    #line_shape='spline',\n",
    "    markers=False,\n",
    "    #width=400, \n",
    "    height=800,\n",
    "    color='medal',\n",
    "    template='plotly_dark',\n",
    "    color_discrete_map=color_map,\n",
    "    hover_name='title')\n",
    "\n",
    "# add traces for annotations and text for end of lines\n",
    "for i in range (len(fig.data)):\n",
    "    fig.add_scatter(x = [fig.data[i].x[-1]], y = [fig.data[i].y[-1]],\n",
    "                     marker = {'color':color_map[fig.data[i].name], 'size':5},\n",
    "                     text = str([fig.data[i].y[-1]])+ str(fig.data[i].hovertext[0]),\n",
    "                     mode = 'markers + text',\n",
    "                     textposition='middle right')\n",
    "fig.update_layout(showlegend=False)\n",
    "fig.show()"
   ]
  },
  {
   "cell_type": "code",
   "execution_count": 31,
   "id": "eda6560d",
   "metadata": {},
   "outputs": [
    {
     "data": {
      "application/vnd.plotly.v1+json": {
       "config": {
        "plotlyServerURL": "https://plot.ly"
       },
       "data": [
        {
         "hovertemplate": "<b>%{hovertext}</b><br><br>title=UCL ⚽ EDA & Viz ⭐ 2021-22 ⭐ Players & Teams<br>date=%{x}<br>Views per upvote=%{y}<extra></extra>",
         "hovertext": [
          "UCL ⚽ EDA & Viz ⭐ 2021-22 ⭐ Players & Teams",
          "UCL ⚽ EDA & Viz ⭐ 2021-22 ⭐ Players & Teams",
          "UCL ⚽ EDA & Viz ⭐ 2021-22 ⭐ Players & Teams",
          "UCL ⚽ EDA & Viz ⭐ 2021-22 ⭐ Players & Teams",
          "UCL ⚽ EDA & Viz ⭐ 2021-22 ⭐ Players & Teams",
          "UCL ⚽ EDA & Viz ⭐ 2021-22 ⭐ Players & Teams",
          "UCL ⚽ EDA & Viz ⭐ 2021-22 ⭐ Players & Teams",
          "UCL ⚽ EDA & Viz ⭐ 2021-22 ⭐ Players & Teams",
          "UCL ⚽ EDA & Viz ⭐ 2021-22 ⭐ Players & Teams",
          "UCL ⚽ EDA & Viz ⭐ 2021-22 ⭐ Players & Teams",
          "UCL ⚽ EDA & Viz ⭐ 2021-22 ⭐ Players & Teams",
          "UCL ⚽ EDA & Viz ⭐ 2021-22 ⭐ Players & Teams",
          "UCL ⚽ EDA & Viz ⭐ 2021-22 ⭐ Players & Teams",
          "UCL ⚽ EDA & Viz ⭐ 2021-22 ⭐ Players & Teams",
          "UCL ⚽ EDA & Viz ⭐ 2021-22 ⭐ Players & Teams",
          "UCL ⚽ EDA & Viz ⭐ 2021-22 ⭐ Players & Teams",
          "UCL ⚽ EDA & Viz ⭐ 2021-22 ⭐ Players & Teams",
          "UCL ⚽ EDA & Viz ⭐ 2021-22 ⭐ Players & Teams",
          "UCL ⚽ EDA & Viz ⭐ 2021-22 ⭐ Players & Teams",
          "UCL ⚽ EDA & Viz ⭐ 2021-22 ⭐ Players & Teams",
          "UCL ⚽ EDA & Viz ⭐ 2021-22 ⭐ Players & Teams",
          "UCL ⚽ EDA & Viz ⭐ 2021-22 ⭐ Players & Teams",
          "UCL ⚽ EDA & Viz ⭐ 2021-22 ⭐ Players & Teams",
          "UCL ⚽ EDA & Viz ⭐ 2021-22 ⭐ Players & Teams",
          "UCL ⚽ EDA & Viz ⭐ 2021-22 ⭐ Players & Teams",
          "UCL ⚽ EDA & Viz ⭐ 2021-22 ⭐ Players & Teams",
          "UCL ⚽ EDA & Viz ⭐ 2021-22 ⭐ Players & Teams",
          "UCL ⚽ EDA & Viz ⭐ 2021-22 ⭐ Players & Teams",
          "UCL ⚽ EDA & Viz ⭐ 2021-22 ⭐ Players & Teams",
          "UCL ⚽ EDA & Viz ⭐ 2021-22 ⭐ Players & Teams",
          "UCL ⚽ EDA & Viz ⭐ 2021-22 ⭐ Players & Teams",
          "UCL ⚽ EDA & Viz ⭐ 2021-22 ⭐ Players & Teams",
          "UCL ⚽ EDA & Viz ⭐ 2021-22 ⭐ Players & Teams",
          "UCL ⚽ EDA & Viz ⭐ 2021-22 ⭐ Players & Teams",
          "UCL ⚽ EDA & Viz ⭐ 2021-22 ⭐ Players & Teams",
          "UCL ⚽ EDA & Viz ⭐ 2021-22 ⭐ Players & Teams",
          "UCL ⚽ EDA & Viz ⭐ 2021-22 ⭐ Players & Teams",
          "UCL ⚽ EDA & Viz ⭐ 2021-22 ⭐ Players & Teams",
          "UCL ⚽ EDA & Viz ⭐ 2021-22 ⭐ Players & Teams",
          "UCL ⚽ EDA & Viz ⭐ 2021-22 ⭐ Players & Teams",
          "UCL ⚽ EDA & Viz ⭐ 2021-22 ⭐ Players & Teams",
          "UCL ⚽ EDA & Viz ⭐ 2021-22 ⭐ Players & Teams",
          "UCL ⚽ EDA & Viz ⭐ 2021-22 ⭐ Players & Teams",
          "UCL ⚽ EDA & Viz ⭐ 2021-22 ⭐ Players & Teams",
          "UCL ⚽ EDA & Viz ⭐ 2021-22 ⭐ Players & Teams",
          "UCL ⚽ EDA & Viz ⭐ 2021-22 ⭐ Players & Teams",
          "UCL ⚽ EDA & Viz ⭐ 2021-22 ⭐ Players & Teams",
          "UCL ⚽ EDA & Viz ⭐ 2021-22 ⭐ Players & Teams",
          "UCL ⚽ EDA & Viz ⭐ 2021-22 ⭐ Players & Teams",
          "UCL ⚽ EDA & Viz ⭐ 2021-22 ⭐ Players & Teams",
          "UCL ⚽ EDA & Viz ⭐ 2021-22 ⭐ Players & Teams",
          "UCL ⚽ EDA & Viz ⭐ 2021-22 ⭐ Players & Teams",
          "UCL ⚽ EDA & Viz ⭐ 2021-22 ⭐ Players & Teams",
          "UCL ⚽ EDA & Viz ⭐ 2021-22 ⭐ Players & Teams",
          "UCL ⚽ EDA & Viz ⭐ 2021-22 ⭐ Players & Teams",
          "UCL ⚽ EDA & Viz ⭐ 2021-22 ⭐ Players & Teams",
          "UCL ⚽ EDA & Viz ⭐ 2021-22 ⭐ Players & Teams",
          "UCL ⚽ EDA & Viz ⭐ 2021-22 ⭐ Players & Teams",
          "UCL ⚽ EDA & Viz ⭐ 2021-22 ⭐ Players & Teams",
          "UCL ⚽ EDA & Viz ⭐ 2021-22 ⭐ Players & Teams",
          "UCL ⚽ EDA & Viz ⭐ 2021-22 ⭐ Players & Teams",
          "UCL ⚽ EDA & Viz ⭐ 2021-22 ⭐ Players & Teams",
          "UCL ⚽ EDA & Viz ⭐ 2021-22 ⭐ Players & Teams",
          "UCL ⚽ EDA & Viz ⭐ 2021-22 ⭐ Players & Teams",
          "UCL ⚽ EDA & Viz ⭐ 2021-22 ⭐ Players & Teams",
          "UCL ⚽ EDA & Viz ⭐ 2021-22 ⭐ Players & Teams"
         ],
         "legendgroup": "UCL ⚽ EDA & Viz ⭐ 2021-22 ⭐ Players & Teams",
         "line": {
          "color": "#636efa",
          "dash": "solid"
         },
         "marker": {
          "symbol": "circle"
         },
         "mode": "lines",
         "name": "UCL ⚽ EDA & Viz ⭐ 2021-22 ⭐ Players & Teams",
         "orientation": "v",
         "showlegend": true,
         "type": "scatter",
         "x": [
          "2022-06-12",
          "2022-06-13",
          "2022-06-14",
          "2022-06-15",
          "2022-06-16",
          "2022-06-17",
          "2022-06-18",
          "2022-06-19",
          "2022-06-20",
          "2022-06-21",
          "2022-06-22",
          "2022-06-25",
          "2022-06-26",
          "2022-06-28",
          "2022-06-29",
          "2022-07-01",
          "2022-07-02",
          "2022-07-03",
          "2022-07-04",
          "2022-07-05",
          "2022-07-06",
          "2022-07-07",
          "2022-07-11",
          "2022-07-12",
          "2022-07-14",
          "2022-07-15",
          "2022-07-17",
          "2022-07-18",
          "2022-07-21",
          "2022-07-22",
          "2022-07-23",
          "2022-07-24",
          "2022-07-25",
          "2022-07-26",
          "2022-07-29",
          "2022-07-30",
          "2022-07-31",
          "2022-08-01",
          "2022-08-03",
          "2022-08-05",
          "2022-08-06",
          "2022-08-08",
          "2022-08-10",
          "2022-08-12",
          "2022-08-14",
          "2022-08-16",
          "2022-08-17",
          "2022-08-18",
          "2022-08-19",
          "2022-08-20",
          "2022-08-21",
          "2022-08-22",
          "2022-08-23",
          "2022-08-24",
          "2022-08-25",
          "2022-08-26",
          "2022-08-27",
          "2022-08-28",
          "2022-08-29",
          "2022-08-30",
          "2022-08-31",
          "2022-09-03",
          "2022-09-04",
          "2022-09-05",
          "2022-09-06",
          "2022-09-07"
         ],
         "xaxis": "x",
         "y": [
          28.857142857142858,
          26.764705882352942,
          29.529411764705884,
          28.4,
          30.52173913043478,
          29.46153846153846,
          27.766666666666666,
          28.833333333333332,
          27.235294117647058,
          28.65714285714286,
          29.857142857142858,
          32.114285714285714,
          32.19444444444444,
          32.729729729729726,
          33.729729729729726,
          34.12820512820513,
          34.743589743589745,
          35.07692307692308,
          35.333333333333336,
          35.925,
          35.707317073170735,
          35.97560975609756,
          33.04255319148936,
          32.625,
          31.745098039215687,
          31.423076923076923,
          31.48148148148148,
          30.589285714285715,
          30.06779661016949,
          30.203389830508474,
          30.2,
          29.70967741935484,
          30.06451612903226,
          30.532258064516128,
          31.20967741935484,
          30,
          30.29230769230769,
          29.73134328358209,
          30.16417910447761,
          30.323529411764707,
          30.057971014492754,
          30.159420289855074,
          30.214285714285715,
          30.154929577464788,
          30.577464788732396,
          30.027397260273972,
          29.72972972972973,
          29.945945945945947,
          30.135135135135137,
          30.243243243243242,
          30.324324324324323,
          30.39189189189189,
          30.24,
          30.24,
          30.8,
          30.906666666666666,
          31.186666666666667,
          31.36,
          31.026315789473685,
          31.17105263157895,
          31.289473684210527,
          32.22666666666667,
          32.346666666666664,
          32.05263157894737,
          31.83116883116883,
          31.896103896103895
         ],
         "yaxis": "y"
        },
        {
         "hovertemplate": "<b>%{hovertext}</b><br><br>title=Divorce Prediction & Reasons : XGB,SHAP,RFE,TSNE<br>date=%{x}<br>Views per upvote=%{y}<extra></extra>",
         "hovertext": [
          "Divorce Prediction & Reasons : XGB,SHAP,RFE,TSNE",
          "Divorce Prediction & Reasons : XGB,SHAP,RFE,TSNE",
          "Divorce Prediction & Reasons : XGB,SHAP,RFE,TSNE",
          "Divorce Prediction & Reasons : XGB,SHAP,RFE,TSNE",
          "Divorce Prediction & Reasons : XGB,SHAP,RFE,TSNE",
          "Divorce Prediction & Reasons : XGB,SHAP,RFE,TSNE",
          "Divorce Prediction & Reasons : XGB,SHAP,RFE,TSNE",
          "Divorce Prediction & Reasons : XGB,SHAP,RFE,TSNE",
          "Divorce Prediction & Reasons : XGB,SHAP,RFE,TSNE",
          "Divorce Prediction & Reasons : XGB,SHAP,RFE,TSNE",
          "Divorce Prediction & Reasons : XGB,SHAP,RFE,TSNE",
          "Divorce Prediction & Reasons : XGB,SHAP,RFE,TSNE",
          "Divorce Prediction & Reasons : XGB,SHAP,RFE,TSNE",
          "Divorce Prediction & Reasons : XGB,SHAP,RFE,TSNE",
          "Divorce Prediction & Reasons : XGB,SHAP,RFE,TSNE",
          "Divorce Prediction & Reasons : XGB,SHAP,RFE,TSNE",
          "Divorce Prediction & Reasons : XGB,SHAP,RFE,TSNE",
          "Divorce Prediction & Reasons : XGB,SHAP,RFE,TSNE",
          "Divorce Prediction & Reasons : XGB,SHAP,RFE,TSNE",
          "Divorce Prediction & Reasons : XGB,SHAP,RFE,TSNE",
          "Divorce Prediction & Reasons : XGB,SHAP,RFE,TSNE",
          "Divorce Prediction & Reasons : XGB,SHAP,RFE,TSNE",
          "Divorce Prediction & Reasons : XGB,SHAP,RFE,TSNE",
          "Divorce Prediction & Reasons : XGB,SHAP,RFE,TSNE",
          "Divorce Prediction & Reasons : XGB,SHAP,RFE,TSNE",
          "Divorce Prediction & Reasons : XGB,SHAP,RFE,TSNE",
          "Divorce Prediction & Reasons : XGB,SHAP,RFE,TSNE",
          "Divorce Prediction & Reasons : XGB,SHAP,RFE,TSNE",
          "Divorce Prediction & Reasons : XGB,SHAP,RFE,TSNE",
          "Divorce Prediction & Reasons : XGB,SHAP,RFE,TSNE",
          "Divorce Prediction & Reasons : XGB,SHAP,RFE,TSNE",
          "Divorce Prediction & Reasons : XGB,SHAP,RFE,TSNE",
          "Divorce Prediction & Reasons : XGB,SHAP,RFE,TSNE",
          "Divorce Prediction & Reasons : XGB,SHAP,RFE,TSNE",
          "Divorce Prediction & Reasons : XGB,SHAP,RFE,TSNE",
          "Divorce Prediction & Reasons : XGB,SHAP,RFE,TSNE",
          "Divorce Prediction & Reasons : XGB,SHAP,RFE,TSNE",
          "Divorce Prediction & Reasons : XGB,SHAP,RFE,TSNE",
          "Divorce Prediction & Reasons : XGB,SHAP,RFE,TSNE",
          "Divorce Prediction & Reasons : XGB,SHAP,RFE,TSNE",
          "Divorce Prediction & Reasons : XGB,SHAP,RFE,TSNE",
          "Divorce Prediction & Reasons : XGB,SHAP,RFE,TSNE",
          "Divorce Prediction & Reasons : XGB,SHAP,RFE,TSNE",
          "Divorce Prediction & Reasons : XGB,SHAP,RFE,TSNE",
          "Divorce Prediction & Reasons : XGB,SHAP,RFE,TSNE",
          "Divorce Prediction & Reasons : XGB,SHAP,RFE,TSNE",
          "Divorce Prediction & Reasons : XGB,SHAP,RFE,TSNE",
          "Divorce Prediction & Reasons : XGB,SHAP,RFE,TSNE",
          "Divorce Prediction & Reasons : XGB,SHAP,RFE,TSNE",
          "Divorce Prediction & Reasons : XGB,SHAP,RFE,TSNE",
          "Divorce Prediction & Reasons : XGB,SHAP,RFE,TSNE",
          "Divorce Prediction & Reasons : XGB,SHAP,RFE,TSNE",
          "Divorce Prediction & Reasons : XGB,SHAP,RFE,TSNE",
          "Divorce Prediction & Reasons : XGB,SHAP,RFE,TSNE",
          "Divorce Prediction & Reasons : XGB,SHAP,RFE,TSNE",
          "Divorce Prediction & Reasons : XGB,SHAP,RFE,TSNE",
          "Divorce Prediction & Reasons : XGB,SHAP,RFE,TSNE",
          "Divorce Prediction & Reasons : XGB,SHAP,RFE,TSNE",
          "Divorce Prediction & Reasons : XGB,SHAP,RFE,TSNE",
          "Divorce Prediction & Reasons : XGB,SHAP,RFE,TSNE",
          "Divorce Prediction & Reasons : XGB,SHAP,RFE,TSNE",
          "Divorce Prediction & Reasons : XGB,SHAP,RFE,TSNE",
          "Divorce Prediction & Reasons : XGB,SHAP,RFE,TSNE",
          "Divorce Prediction & Reasons : XGB,SHAP,RFE,TSNE",
          "Divorce Prediction & Reasons : XGB,SHAP,RFE,TSNE",
          "Divorce Prediction & Reasons : XGB,SHAP,RFE,TSNE"
         ],
         "legendgroup": "Divorce Prediction & Reasons : XGB,SHAP,RFE,TSNE",
         "line": {
          "color": "#EF553B",
          "dash": "solid"
         },
         "marker": {
          "symbol": "circle"
         },
         "mode": "lines",
         "name": "Divorce Prediction & Reasons : XGB,SHAP,RFE,TSNE",
         "orientation": "v",
         "showlegend": true,
         "type": "scatter",
         "x": [
          "2022-06-12",
          "2022-06-13",
          "2022-06-14",
          "2022-06-15",
          "2022-06-16",
          "2022-06-17",
          "2022-06-18",
          "2022-06-19",
          "2022-06-20",
          "2022-06-21",
          "2022-06-22",
          "2022-06-25",
          "2022-06-26",
          "2022-06-28",
          "2022-06-29",
          "2022-07-01",
          "2022-07-02",
          "2022-07-03",
          "2022-07-04",
          "2022-07-05",
          "2022-07-06",
          "2022-07-07",
          "2022-07-11",
          "2022-07-12",
          "2022-07-14",
          "2022-07-15",
          "2022-07-17",
          "2022-07-18",
          "2022-07-21",
          "2022-07-22",
          "2022-07-23",
          "2022-07-24",
          "2022-07-25",
          "2022-07-26",
          "2022-07-29",
          "2022-07-30",
          "2022-07-31",
          "2022-08-01",
          "2022-08-03",
          "2022-08-05",
          "2022-08-06",
          "2022-08-08",
          "2022-08-10",
          "2022-08-12",
          "2022-08-14",
          "2022-08-16",
          "2022-08-17",
          "2022-08-18",
          "2022-08-19",
          "2022-08-20",
          "2022-08-21",
          "2022-08-22",
          "2022-08-23",
          "2022-08-24",
          "2022-08-25",
          "2022-08-26",
          "2022-08-27",
          "2022-08-28",
          "2022-08-29",
          "2022-08-30",
          "2022-08-31",
          "2022-09-03",
          "2022-09-04",
          "2022-09-05",
          "2022-09-06",
          "2022-09-07"
         ],
         "xaxis": "x",
         "y": [
          16.73076923076923,
          15.161290322580646,
          15.806451612903226,
          16.580645161290324,
          16.875,
          17.21212121212121,
          17.575757575757574,
          17.90909090909091,
          18.060606060606062,
          18.393939393939394,
          18.96969696969697,
          20.575757575757574,
          21.393939393939394,
          22.21212121212121,
          22.939393939393938,
          23.058823529411764,
          23.41176470588235,
          23.58823529411765,
          23.91176470588235,
          22.864864864864863,
          21.8,
          21.925,
          22.976190476190474,
          20.97872340425532,
          20.7,
          20.784313725490197,
          20.962264150943398,
          20.363636363636363,
          21.78181818181818,
          21.553571428571427,
          21.732142857142858,
          21.29310344827586,
          21.5,
          22.140350877192983,
          22.596491228070175,
          22.70175438596491,
          22.94736842105263,
          23.12280701754386,
          23.649122807017545,
          24.140350877192983,
          24.017241379310345,
          24.137931034482758,
          24.491525423728813,
          24.4,
          25.066666666666666,
          24.983870967741936,
          25.258064516129032,
          25.967741935483872,
          26.096774193548388,
          26.274193548387096,
          26.370967741935484,
          26.5,
          26.58730158730159,
          26.58730158730159,
          27.126984126984127,
          27.3015873015873,
          27.555555555555557,
          27.793650793650794,
          27.65625,
          27.921875,
          28.15625,
          29.555555555555557,
          29.77777777777778,
          29.5,
          29.71875,
          30.046875
         ],
         "yaxis": "y"
        },
        {
         "hovertemplate": "<b>%{hovertext}</b><br><br>title=Advanced Feature Engineering for Classification<br>date=%{x}<br>Views per upvote=%{y}<extra></extra>",
         "hovertext": [
          "Advanced Feature Engineering for Classification",
          "Advanced Feature Engineering for Classification",
          "Advanced Feature Engineering for Classification",
          "Advanced Feature Engineering for Classification",
          "Advanced Feature Engineering for Classification",
          "Advanced Feature Engineering for Classification",
          "Advanced Feature Engineering for Classification",
          "Advanced Feature Engineering for Classification",
          "Advanced Feature Engineering for Classification",
          "Advanced Feature Engineering for Classification",
          "Advanced Feature Engineering for Classification",
          "Advanced Feature Engineering for Classification",
          "Advanced Feature Engineering for Classification",
          "Advanced Feature Engineering for Classification",
          "Advanced Feature Engineering for Classification",
          "Advanced Feature Engineering for Classification",
          "Advanced Feature Engineering for Classification",
          "Advanced Feature Engineering for Classification",
          "Advanced Feature Engineering for Classification",
          "Advanced Feature Engineering for Classification",
          "Advanced Feature Engineering for Classification",
          "Advanced Feature Engineering for Classification",
          "Advanced Feature Engineering for Classification",
          "Advanced Feature Engineering for Classification",
          "Advanced Feature Engineering for Classification",
          "Advanced Feature Engineering for Classification",
          "Advanced Feature Engineering for Classification",
          "Advanced Feature Engineering for Classification",
          "Advanced Feature Engineering for Classification",
          "Advanced Feature Engineering for Classification",
          "Advanced Feature Engineering for Classification",
          "Advanced Feature Engineering for Classification",
          "Advanced Feature Engineering for Classification",
          "Advanced Feature Engineering for Classification",
          "Advanced Feature Engineering for Classification",
          "Advanced Feature Engineering for Classification",
          "Advanced Feature Engineering for Classification",
          "Advanced Feature Engineering for Classification",
          "Advanced Feature Engineering for Classification",
          "Advanced Feature Engineering for Classification",
          "Advanced Feature Engineering for Classification",
          "Advanced Feature Engineering for Classification",
          "Advanced Feature Engineering for Classification",
          "Advanced Feature Engineering for Classification",
          "Advanced Feature Engineering for Classification",
          "Advanced Feature Engineering for Classification",
          "Advanced Feature Engineering for Classification",
          "Advanced Feature Engineering for Classification",
          "Advanced Feature Engineering for Classification",
          "Advanced Feature Engineering for Classification",
          "Advanced Feature Engineering for Classification",
          "Advanced Feature Engineering for Classification",
          "Advanced Feature Engineering for Classification",
          "Advanced Feature Engineering for Classification",
          "Advanced Feature Engineering for Classification",
          "Advanced Feature Engineering for Classification",
          "Advanced Feature Engineering for Classification",
          "Advanced Feature Engineering for Classification",
          "Advanced Feature Engineering for Classification",
          "Advanced Feature Engineering for Classification",
          "Advanced Feature Engineering for Classification",
          "Advanced Feature Engineering for Classification",
          "Advanced Feature Engineering for Classification",
          "Advanced Feature Engineering for Classification",
          "Advanced Feature Engineering for Classification",
          "Advanced Feature Engineering for Classification"
         ],
         "legendgroup": "Advanced Feature Engineering for Classification",
         "line": {
          "color": "#00cc96",
          "dash": "solid"
         },
         "marker": {
          "symbol": "circle"
         },
         "mode": "lines",
         "name": "Advanced Feature Engineering for Classification",
         "orientation": "v",
         "showlegend": true,
         "type": "scatter",
         "x": [
          "2022-06-12",
          "2022-06-13",
          "2022-06-14",
          "2022-06-15",
          "2022-06-16",
          "2022-06-17",
          "2022-06-18",
          "2022-06-19",
          "2022-06-20",
          "2022-06-21",
          "2022-06-22",
          "2022-06-25",
          "2022-06-26",
          "2022-06-28",
          "2022-06-29",
          "2022-07-01",
          "2022-07-02",
          "2022-07-03",
          "2022-07-04",
          "2022-07-05",
          "2022-07-06",
          "2022-07-07",
          "2022-07-11",
          "2022-07-12",
          "2022-07-14",
          "2022-07-15",
          "2022-07-17",
          "2022-07-18",
          "2022-07-21",
          "2022-07-22",
          "2022-07-23",
          "2022-07-24",
          "2022-07-25",
          "2022-07-26",
          "2022-07-29",
          "2022-07-30",
          "2022-07-31",
          "2022-08-01",
          "2022-08-03",
          "2022-08-05",
          "2022-08-06",
          "2022-08-08",
          "2022-08-10",
          "2022-08-12",
          "2022-08-14",
          "2022-08-16",
          "2022-08-17",
          "2022-08-18",
          "2022-08-19",
          "2022-08-20",
          "2022-08-21",
          "2022-08-22",
          "2022-08-23",
          "2022-08-24",
          "2022-08-25",
          "2022-08-26",
          "2022-08-27",
          "2022-08-28",
          "2022-08-29",
          "2022-08-30",
          "2022-08-31",
          "2022-09-03",
          "2022-09-04",
          "2022-09-05",
          "2022-09-06",
          "2022-09-07"
         ],
         "xaxis": "x",
         "y": [
          17.27777777777778,
          17.666666666666668,
          18.305555555555557,
          18.666666666666668,
          18.88888888888889,
          19.11111111111111,
          19.27777777777778,
          19.36111111111111,
          19.416666666666668,
          19.666666666666668,
          19.86111111111111,
          19.83783783783784,
          19.945945945945947,
          20.135135135135137,
          20.783783783783782,
          20.710526315789473,
          20.94736842105263,
          21.026315789473685,
          21.13157894736842,
          21.153846153846153,
          21.1,
          21.2,
          22.365853658536587,
          22.951219512195124,
          24.414634146341463,
          24.285714285714285,
          25,
          24.704545454545453,
          25.29787234042553,
          25.95744680851064,
          27.02127659574468,
          26.571428571428573,
          27.26530612244898,
          28.06122448979592,
          30.06122448979592,
          30.693877551020407,
          31.653061224489797,
          31.019607843137255,
          31.692307692307693,
          30.64406779661017,
          31.19672131147541,
          30.578125,
          31.208955223880597,
          31.391304347826086,
          33.25714285714286,
          33.861111111111114,
          34.40277777777778,
          35.625,
          36.083333333333336,
          36.55555555555556,
          37.09722222222222,
          37.72222222222222,
          38.43055555555556,
          38.43055555555556,
          38.89041095890411,
          39.35616438356164,
          40.32876712328767,
          40.726027397260275,
          40.62162162162162,
          41.391891891891895,
          41.67567567567568,
          42.46052631578947,
          42.64473684210526,
          42.675324675324674,
          43.18181818181818,
          43.57142857142857
         ],
         "yaxis": "y"
        },
        {
         "hovertemplate": "<b>%{hovertext}</b><br><br>title=All Imputation Techniques with Pros and Cons<br>date=%{x}<br>Views per upvote=%{y}<extra></extra>",
         "hovertext": [
          "All Imputation Techniques with Pros and Cons",
          "All Imputation Techniques with Pros and Cons",
          "All Imputation Techniques with Pros and Cons",
          "All Imputation Techniques with Pros and Cons",
          "All Imputation Techniques with Pros and Cons",
          "All Imputation Techniques with Pros and Cons",
          "All Imputation Techniques with Pros and Cons",
          "All Imputation Techniques with Pros and Cons",
          "All Imputation Techniques with Pros and Cons",
          "All Imputation Techniques with Pros and Cons",
          "All Imputation Techniques with Pros and Cons",
          "All Imputation Techniques with Pros and Cons",
          "All Imputation Techniques with Pros and Cons",
          "All Imputation Techniques with Pros and Cons",
          "All Imputation Techniques with Pros and Cons",
          "All Imputation Techniques with Pros and Cons",
          "All Imputation Techniques with Pros and Cons",
          "All Imputation Techniques with Pros and Cons",
          "All Imputation Techniques with Pros and Cons",
          "All Imputation Techniques with Pros and Cons",
          "All Imputation Techniques with Pros and Cons",
          "All Imputation Techniques with Pros and Cons",
          "All Imputation Techniques with Pros and Cons",
          "All Imputation Techniques with Pros and Cons",
          "All Imputation Techniques with Pros and Cons",
          "All Imputation Techniques with Pros and Cons",
          "All Imputation Techniques with Pros and Cons",
          "All Imputation Techniques with Pros and Cons",
          "All Imputation Techniques with Pros and Cons",
          "All Imputation Techniques with Pros and Cons",
          "All Imputation Techniques with Pros and Cons",
          "All Imputation Techniques with Pros and Cons",
          "All Imputation Techniques with Pros and Cons",
          "All Imputation Techniques with Pros and Cons",
          "All Imputation Techniques with Pros and Cons",
          "All Imputation Techniques with Pros and Cons",
          "All Imputation Techniques with Pros and Cons",
          "All Imputation Techniques with Pros and Cons",
          "All Imputation Techniques with Pros and Cons",
          "All Imputation Techniques with Pros and Cons",
          "All Imputation Techniques with Pros and Cons",
          "All Imputation Techniques with Pros and Cons",
          "All Imputation Techniques with Pros and Cons",
          "All Imputation Techniques with Pros and Cons",
          "All Imputation Techniques with Pros and Cons",
          "All Imputation Techniques with Pros and Cons",
          "All Imputation Techniques with Pros and Cons",
          "All Imputation Techniques with Pros and Cons",
          "All Imputation Techniques with Pros and Cons",
          "All Imputation Techniques with Pros and Cons",
          "All Imputation Techniques with Pros and Cons",
          "All Imputation Techniques with Pros and Cons",
          "All Imputation Techniques with Pros and Cons",
          "All Imputation Techniques with Pros and Cons",
          "All Imputation Techniques with Pros and Cons",
          "All Imputation Techniques with Pros and Cons",
          "All Imputation Techniques with Pros and Cons",
          "All Imputation Techniques with Pros and Cons",
          "All Imputation Techniques with Pros and Cons",
          "All Imputation Techniques with Pros and Cons",
          "All Imputation Techniques with Pros and Cons",
          "All Imputation Techniques with Pros and Cons",
          "All Imputation Techniques with Pros and Cons",
          "All Imputation Techniques with Pros and Cons",
          "All Imputation Techniques with Pros and Cons",
          "All Imputation Techniques with Pros and Cons"
         ],
         "legendgroup": "All Imputation Techniques with Pros and Cons",
         "line": {
          "color": "#ab63fa",
          "dash": "solid"
         },
         "marker": {
          "symbol": "circle"
         },
         "mode": "lines",
         "name": "All Imputation Techniques with Pros and Cons",
         "orientation": "v",
         "showlegend": true,
         "type": "scatter",
         "x": [
          "2022-06-12",
          "2022-06-13",
          "2022-06-14",
          "2022-06-15",
          "2022-06-16",
          "2022-06-17",
          "2022-06-18",
          "2022-06-19",
          "2022-06-20",
          "2022-06-21",
          "2022-06-22",
          "2022-06-25",
          "2022-06-26",
          "2022-06-28",
          "2022-06-29",
          "2022-07-01",
          "2022-07-02",
          "2022-07-03",
          "2022-07-04",
          "2022-07-05",
          "2022-07-06",
          "2022-07-07",
          "2022-07-11",
          "2022-07-12",
          "2022-07-14",
          "2022-07-15",
          "2022-07-17",
          "2022-07-18",
          "2022-07-21",
          "2022-07-22",
          "2022-07-23",
          "2022-07-24",
          "2022-07-25",
          "2022-07-26",
          "2022-07-29",
          "2022-07-30",
          "2022-07-31",
          "2022-08-01",
          "2022-08-03",
          "2022-08-05",
          "2022-08-06",
          "2022-08-08",
          "2022-08-10",
          "2022-08-12",
          "2022-08-14",
          "2022-08-16",
          "2022-08-17",
          "2022-08-18",
          "2022-08-19",
          "2022-08-20",
          "2022-08-21",
          "2022-08-22",
          "2022-08-23",
          "2022-08-24",
          "2022-08-25",
          "2022-08-26",
          "2022-08-27",
          "2022-08-28",
          "2022-08-29",
          "2022-08-30",
          "2022-08-31",
          "2022-09-03",
          "2022-09-04",
          "2022-09-05",
          "2022-09-06",
          "2022-09-07"
         ],
         "xaxis": "x",
         "y": [
          16.41304347826087,
          16.75,
          20.4,
          23.80722891566265,
          24.227272727272727,
          24.06451612903226,
          24.051546391752577,
          23.85148514851485,
          24.45631067961165,
          24.8411214953271,
          24.455357142857142,
          25.324786324786324,
          25.132231404958677,
          25.6984126984127,
          25.416666666666668,
          26.333333333333332,
          26.725925925925925,
          26.88235294117647,
          27.301470588235293,
          27.532374100719423,
          27.928571428571427,
          28.1,
          29.368055555555557,
          29.618055555555557,
          30.444444444444443,
          30.78472222222222,
          30.85810810810811,
          30.606666666666666,
          31.361842105263158,
          31.444444444444443,
          31.46451612903226,
          31.369426751592357,
          31.364779874213838,
          31.385093167701864,
          32.0679012345679,
          32.351851851851855,
          32.47560975609756,
          32.6,
          32.96969696969697,
          33.383233532934135,
          33.50595238095238,
          33.59763313609467,
          33.74566473988439,
          33.83428571428571,
          33.853932584269664,
          33.565934065934066,
          33.40217391304348,
          33.149732620320854,
          33.283422459893046,
          33.4331550802139,
          33.61497326203209,
          33.86631016042781,
          33.88297872340426,
          33.88297872340426,
          34.08994708994709,
          34.01052631578948,
          34.43386243386244,
          34.64021164021164,
          34.63157894736842,
          34.72774869109948,
          34.92670157068063,
          35.09844559585492,
          35.18652849740933,
          35.02564102564103,
          35.22051282051282,
          35.343589743589746
         ],
         "yaxis": "y"
        },
        {
         "hovertemplate": "<b>%{hovertext}</b><br><br>title=Mastering Bias-Variance Tradeoff <br>date=%{x}<br>Views per upvote=%{y}<extra></extra>",
         "hovertext": [
          "Mastering Bias-Variance Tradeoff ",
          "Mastering Bias-Variance Tradeoff ",
          "Mastering Bias-Variance Tradeoff ",
          "Mastering Bias-Variance Tradeoff ",
          "Mastering Bias-Variance Tradeoff ",
          "Mastering Bias-Variance Tradeoff ",
          "Mastering Bias-Variance Tradeoff ",
          "Mastering Bias-Variance Tradeoff ",
          "Mastering Bias-Variance Tradeoff ",
          "Mastering Bias-Variance Tradeoff ",
          "Mastering Bias-Variance Tradeoff ",
          "Mastering Bias-Variance Tradeoff ",
          "Mastering Bias-Variance Tradeoff ",
          "Mastering Bias-Variance Tradeoff ",
          "Mastering Bias-Variance Tradeoff ",
          "Mastering Bias-Variance Tradeoff ",
          "Mastering Bias-Variance Tradeoff ",
          "Mastering Bias-Variance Tradeoff ",
          "Mastering Bias-Variance Tradeoff ",
          "Mastering Bias-Variance Tradeoff ",
          "Mastering Bias-Variance Tradeoff ",
          "Mastering Bias-Variance Tradeoff ",
          "Mastering Bias-Variance Tradeoff ",
          "Mastering Bias-Variance Tradeoff ",
          "Mastering Bias-Variance Tradeoff ",
          "Mastering Bias-Variance Tradeoff ",
          "Mastering Bias-Variance Tradeoff ",
          "Mastering Bias-Variance Tradeoff ",
          "Mastering Bias-Variance Tradeoff ",
          "Mastering Bias-Variance Tradeoff ",
          "Mastering Bias-Variance Tradeoff ",
          "Mastering Bias-Variance Tradeoff ",
          "Mastering Bias-Variance Tradeoff ",
          "Mastering Bias-Variance Tradeoff ",
          "Mastering Bias-Variance Tradeoff ",
          "Mastering Bias-Variance Tradeoff ",
          "Mastering Bias-Variance Tradeoff ",
          "Mastering Bias-Variance Tradeoff ",
          "Mastering Bias-Variance Tradeoff ",
          "Mastering Bias-Variance Tradeoff ",
          "Mastering Bias-Variance Tradeoff ",
          "Mastering Bias-Variance Tradeoff ",
          "Mastering Bias-Variance Tradeoff ",
          "Mastering Bias-Variance Tradeoff ",
          "Mastering Bias-Variance Tradeoff ",
          "Mastering Bias-Variance Tradeoff ",
          "Mastering Bias-Variance Tradeoff ",
          "Mastering Bias-Variance Tradeoff ",
          "Mastering Bias-Variance Tradeoff ",
          "Mastering Bias-Variance Tradeoff ",
          "Mastering Bias-Variance Tradeoff ",
          "Mastering Bias-Variance Tradeoff ",
          "Mastering Bias-Variance Tradeoff ",
          "Mastering Bias-Variance Tradeoff ",
          "Mastering Bias-Variance Tradeoff ",
          "Mastering Bias-Variance Tradeoff ",
          "Mastering Bias-Variance Tradeoff ",
          "Mastering Bias-Variance Tradeoff ",
          "Mastering Bias-Variance Tradeoff ",
          "Mastering Bias-Variance Tradeoff ",
          "Mastering Bias-Variance Tradeoff ",
          "Mastering Bias-Variance Tradeoff ",
          "Mastering Bias-Variance Tradeoff ",
          "Mastering Bias-Variance Tradeoff ",
          "Mastering Bias-Variance Tradeoff ",
          "Mastering Bias-Variance Tradeoff "
         ],
         "legendgroup": "Mastering Bias-Variance Tradeoff ",
         "line": {
          "color": "#FFA15A",
          "dash": "solid"
         },
         "marker": {
          "symbol": "circle"
         },
         "mode": "lines",
         "name": "Mastering Bias-Variance Tradeoff ",
         "orientation": "v",
         "showlegend": true,
         "type": "scatter",
         "x": [
          "2022-06-12",
          "2022-06-13",
          "2022-06-14",
          "2022-06-15",
          "2022-06-16",
          "2022-06-17",
          "2022-06-18",
          "2022-06-19",
          "2022-06-20",
          "2022-06-21",
          "2022-06-22",
          "2022-06-25",
          "2022-06-26",
          "2022-06-28",
          "2022-06-29",
          "2022-07-01",
          "2022-07-02",
          "2022-07-03",
          "2022-07-04",
          "2022-07-05",
          "2022-07-06",
          "2022-07-07",
          "2022-07-11",
          "2022-07-12",
          "2022-07-14",
          "2022-07-15",
          "2022-07-17",
          "2022-07-18",
          "2022-07-21",
          "2022-07-22",
          "2022-07-23",
          "2022-07-24",
          "2022-07-25",
          "2022-07-26",
          "2022-07-29",
          "2022-07-30",
          "2022-07-31",
          "2022-08-01",
          "2022-08-03",
          "2022-08-05",
          "2022-08-06",
          "2022-08-08",
          "2022-08-10",
          "2022-08-12",
          "2022-08-14",
          "2022-08-16",
          "2022-08-17",
          "2022-08-18",
          "2022-08-19",
          "2022-08-20",
          "2022-08-21",
          "2022-08-22",
          "2022-08-23",
          "2022-08-24",
          "2022-08-25",
          "2022-08-26",
          "2022-08-27",
          "2022-08-28",
          "2022-08-29",
          "2022-08-30",
          "2022-08-31",
          "2022-09-03",
          "2022-09-04",
          "2022-09-05",
          "2022-09-06",
          "2022-09-07"
         ],
         "xaxis": "x",
         "y": [
          17.77777777777778,
          18.14814814814815,
          18.444444444444443,
          18.25,
          18.428571428571427,
          18.785714285714285,
          18.821428571428573,
          19.214285714285715,
          19.464285714285715,
          19.535714285714285,
          19.785714285714285,
          19.379310344827587,
          19.448275862068964,
          19.75862068965517,
          19.862068965517242,
          19.333333333333332,
          19.466666666666665,
          19.5,
          19.566666666666666,
          20.5,
          23.0625,
          21.8,
          24.974358974358974,
          26.615384615384617,
          29.023255813953487,
          29.555555555555557,
          29.58823529411765,
          29.18867924528302,
          30.129032258064516,
          30.234375,
          31.875,
          30.536231884057973,
          31.140845070422536,
          32.436619718309856,
          31.873417721518987,
          32.75,
          33.670731707317074,
          34.3855421686747,
          35.11904761904762,
          36.27906976744186,
          36.36363636363637,
          37.19318181818182,
          38.032967032967036,
          38.666666666666664,
          39.22105263157895,
          38.525252525252526,
          38.76,
          38.56310679611651,
          39.13592233009709,
          38.82857142857143,
          39.24761904761905,
          39.10280373831776,
          40,
          40,
          40.22018348623853,
          40.522935779816514,
          40.67272727272727,
          40.945454545454545,
          41,
          41.4954954954955,
          41.77477477477478,
          43.31818181818182,
          43.445454545454545,
          42.663716814159294,
          42.76315789473684,
          43.04385964912281
         ],
         "yaxis": "y"
        },
        {
         "hovertemplate": "<b>%{hovertext}</b><br><br>title=▶️ Lionel Messi 📊 Extended EDA ⚽ Goals <br>date=%{x}<br>Views per upvote=%{y}<extra></extra>",
         "hovertext": [
          "▶️ Lionel Messi 📊 Extended EDA ⚽ Goals ",
          "▶️ Lionel Messi 📊 Extended EDA ⚽ Goals ",
          "▶️ Lionel Messi 📊 Extended EDA ⚽ Goals ",
          "▶️ Lionel Messi 📊 Extended EDA ⚽ Goals ",
          "▶️ Lionel Messi 📊 Extended EDA ⚽ Goals ",
          "▶️ Lionel Messi 📊 Extended EDA ⚽ Goals ",
          "▶️ Lionel Messi 📊 Extended EDA ⚽ Goals ",
          "▶️ Lionel Messi 📊 Extended EDA ⚽ Goals ",
          "▶️ Lionel Messi 📊 Extended EDA ⚽ Goals ",
          "▶️ Lionel Messi 📊 Extended EDA ⚽ Goals ",
          "▶️ Lionel Messi 📊 Extended EDA ⚽ Goals ",
          "▶️ Lionel Messi 📊 Extended EDA ⚽ Goals ",
          "▶️ Lionel Messi 📊 Extended EDA ⚽ Goals ",
          "▶️ Lionel Messi 📊 Extended EDA ⚽ Goals ",
          "▶️ Lionel Messi 📊 Extended EDA ⚽ Goals ",
          "▶️ Lionel Messi 📊 Extended EDA ⚽ Goals ",
          "▶️ Lionel Messi 📊 Extended EDA ⚽ Goals ",
          "▶️ Lionel Messi 📊 Extended EDA ⚽ Goals ",
          "▶️ Lionel Messi 📊 Extended EDA ⚽ Goals ",
          "▶️ Lionel Messi 📊 Extended EDA ⚽ Goals ",
          "▶️ Lionel Messi 📊 Extended EDA ⚽ Goals ",
          "▶️ Lionel Messi 📊 Extended EDA ⚽ Goals ",
          "▶️ Lionel Messi 📊 Extended EDA ⚽ Goals ",
          "▶️ Lionel Messi 📊 Extended EDA ⚽ Goals ",
          "▶️ Lionel Messi 📊 Extended EDA ⚽ Goals ",
          "▶️ Lionel Messi 📊 Extended EDA ⚽ Goals ",
          "▶️ Lionel Messi 📊 Extended EDA ⚽ Goals ",
          "▶️ Lionel Messi 📊 Extended EDA ⚽ Goals ",
          "▶️ Lionel Messi 📊 Extended EDA ⚽ Goals ",
          "▶️ Lionel Messi 📊 Extended EDA ⚽ Goals ",
          "▶️ Lionel Messi 📊 Extended EDA ⚽ Goals ",
          "▶️ Lionel Messi 📊 Extended EDA ⚽ Goals ",
          "▶️ Lionel Messi 📊 Extended EDA ⚽ Goals ",
          "▶️ Lionel Messi 📊 Extended EDA ⚽ Goals ",
          "▶️ Lionel Messi 📊 Extended EDA ⚽ Goals ",
          "▶️ Lionel Messi 📊 Extended EDA ⚽ Goals ",
          "▶️ Lionel Messi 📊 Extended EDA ⚽ Goals ",
          "▶️ Lionel Messi 📊 Extended EDA ⚽ Goals ",
          "▶️ Lionel Messi 📊 Extended EDA ⚽ Goals ",
          "▶️ Lionel Messi 📊 Extended EDA ⚽ Goals ",
          "▶️ Lionel Messi 📊 Extended EDA ⚽ Goals ",
          "▶️ Lionel Messi 📊 Extended EDA ⚽ Goals ",
          "▶️ Lionel Messi 📊 Extended EDA ⚽ Goals ",
          "▶️ Lionel Messi 📊 Extended EDA ⚽ Goals ",
          "▶️ Lionel Messi 📊 Extended EDA ⚽ Goals ",
          "▶️ Lionel Messi 📊 Extended EDA ⚽ Goals ",
          "▶️ Lionel Messi 📊 Extended EDA ⚽ Goals ",
          "▶️ Lionel Messi 📊 Extended EDA ⚽ Goals ",
          "▶️ Lionel Messi 📊 Extended EDA ⚽ Goals ",
          "▶️ Lionel Messi 📊 Extended EDA ⚽ Goals ",
          "▶️ Lionel Messi 📊 Extended EDA ⚽ Goals ",
          "▶️ Lionel Messi 📊 Extended EDA ⚽ Goals ",
          "▶️ Lionel Messi 📊 Extended EDA ⚽ Goals ",
          "▶️ Lionel Messi 📊 Extended EDA ⚽ Goals ",
          "▶️ Lionel Messi 📊 Extended EDA ⚽ Goals ",
          "▶️ Lionel Messi 📊 Extended EDA ⚽ Goals ",
          "▶️ Lionel Messi 📊 Extended EDA ⚽ Goals ",
          "▶️ Lionel Messi 📊 Extended EDA ⚽ Goals ",
          "▶️ Lionel Messi 📊 Extended EDA ⚽ Goals ",
          "▶️ Lionel Messi 📊 Extended EDA ⚽ Goals ",
          "▶️ Lionel Messi 📊 Extended EDA ⚽ Goals ",
          "▶️ Lionel Messi 📊 Extended EDA ⚽ Goals ",
          "▶️ Lionel Messi 📊 Extended EDA ⚽ Goals ",
          "▶️ Lionel Messi 📊 Extended EDA ⚽ Goals ",
          "▶️ Lionel Messi 📊 Extended EDA ⚽ Goals ",
          "▶️ Lionel Messi 📊 Extended EDA ⚽ Goals "
         ],
         "legendgroup": "▶️ Lionel Messi 📊 Extended EDA ⚽ Goals ",
         "line": {
          "color": "#19d3f3",
          "dash": "solid"
         },
         "marker": {
          "symbol": "circle"
         },
         "mode": "lines",
         "name": "▶️ Lionel Messi 📊 Extended EDA ⚽ Goals ",
         "orientation": "v",
         "showlegend": true,
         "type": "scatter",
         "x": [
          "2022-06-12",
          "2022-06-13",
          "2022-06-14",
          "2022-06-15",
          "2022-06-16",
          "2022-06-17",
          "2022-06-18",
          "2022-06-19",
          "2022-06-20",
          "2022-06-21",
          "2022-06-22",
          "2022-06-25",
          "2022-06-26",
          "2022-06-28",
          "2022-06-29",
          "2022-07-01",
          "2022-07-02",
          "2022-07-03",
          "2022-07-04",
          "2022-07-05",
          "2022-07-06",
          "2022-07-07",
          "2022-07-11",
          "2022-07-12",
          "2022-07-14",
          "2022-07-15",
          "2022-07-17",
          "2022-07-18",
          "2022-07-21",
          "2022-07-22",
          "2022-07-23",
          "2022-07-24",
          "2022-07-25",
          "2022-07-26",
          "2022-07-29",
          "2022-07-30",
          "2022-07-31",
          "2022-08-01",
          "2022-08-03",
          "2022-08-05",
          "2022-08-06",
          "2022-08-08",
          "2022-08-10",
          "2022-08-12",
          "2022-08-14",
          "2022-08-16",
          "2022-08-17",
          "2022-08-18",
          "2022-08-19",
          "2022-08-20",
          "2022-08-21",
          "2022-08-22",
          "2022-08-23",
          "2022-08-24",
          "2022-08-25",
          "2022-08-26",
          "2022-08-27",
          "2022-08-28",
          "2022-08-29",
          "2022-08-30",
          "2022-08-31",
          "2022-09-03",
          "2022-09-04",
          "2022-09-05",
          "2022-09-06",
          "2022-09-07"
         ],
         "xaxis": "x",
         "y": [
          23.568181818181817,
          24.068181818181817,
          24.59090909090909,
          25.022727272727273,
          26.045454545454547,
          26.84090909090909,
          27.363636363636363,
          27.59090909090909,
          27.4,
          27.52173913043478,
          28.217391304347824,
          29.29787234042553,
          30.04255319148936,
          30.25,
          30.854166666666668,
          31.551020408163264,
          30.764705882352942,
          31,
          31.215686274509803,
          30.40740740740741,
          29.785714285714285,
          29.75438596491228,
          28.571428571428573,
          27.818181818181817,
          27.3768115942029,
          27.71014492753623,
          28.347826086956523,
          28.420289855072465,
          28.366197183098592,
          28.450704225352112,
          28.816901408450704,
          28.28767123287671,
          28.424657534246574,
          28.602739726027398,
          29.123287671232877,
          28.586666666666666,
          28.85333333333333,
          29.253333333333334,
          29.666666666666668,
          30.19736842105263,
          30.07792207792208,
          30.142857142857142,
          30.153846153846153,
          30.17721518987342,
          30.4,
          30.036585365853657,
          30.23170731707317,
          30.228915662650603,
          30.047619047619047,
          30.357142857142858,
          30.44047619047619,
          30.341176470588234,
          30.55294117647059,
          30.55294117647059,
          30.63953488372093,
          30.790697674418606,
          30.906976744186046,
          31.011627906976745,
          30.735632183908045,
          31.310344827586206,
          31.39080459770115,
          32.0919540229885,
          32.229885057471265,
          32.11363636363637,
          32.22727272727273,
          32.44318181818182
         ],
         "yaxis": "y"
        },
        {
         "hovertemplate": "<b>%{hovertext}</b><br><br>title=▶️ Cristiano Ronaldo ⚽ Goals  📊 EDA, Analysis<br>date=%{x}<br>Views per upvote=%{y}<extra></extra>",
         "hovertext": [
          "▶️ Cristiano Ronaldo ⚽ Goals  📊 EDA, Analysis",
          "▶️ Cristiano Ronaldo ⚽ Goals  📊 EDA, Analysis",
          "▶️ Cristiano Ronaldo ⚽ Goals  📊 EDA, Analysis",
          "▶️ Cristiano Ronaldo ⚽ Goals  📊 EDA, Analysis",
          "▶️ Cristiano Ronaldo ⚽ Goals  📊 EDA, Analysis",
          "▶️ Cristiano Ronaldo ⚽ Goals  📊 EDA, Analysis",
          "▶️ Cristiano Ronaldo ⚽ Goals  📊 EDA, Analysis",
          "▶️ Cristiano Ronaldo ⚽ Goals  📊 EDA, Analysis",
          "▶️ Cristiano Ronaldo ⚽ Goals  📊 EDA, Analysis",
          "▶️ Cristiano Ronaldo ⚽ Goals  📊 EDA, Analysis",
          "▶️ Cristiano Ronaldo ⚽ Goals  📊 EDA, Analysis",
          "▶️ Cristiano Ronaldo ⚽ Goals  📊 EDA, Analysis",
          "▶️ Cristiano Ronaldo ⚽ Goals  📊 EDA, Analysis",
          "▶️ Cristiano Ronaldo ⚽ Goals  📊 EDA, Analysis",
          "▶️ Cristiano Ronaldo ⚽ Goals  📊 EDA, Analysis",
          "▶️ Cristiano Ronaldo ⚽ Goals  📊 EDA, Analysis",
          "▶️ Cristiano Ronaldo ⚽ Goals  📊 EDA, Analysis",
          "▶️ Cristiano Ronaldo ⚽ Goals  📊 EDA, Analysis",
          "▶️ Cristiano Ronaldo ⚽ Goals  📊 EDA, Analysis",
          "▶️ Cristiano Ronaldo ⚽ Goals  📊 EDA, Analysis",
          "▶️ Cristiano Ronaldo ⚽ Goals  📊 EDA, Analysis",
          "▶️ Cristiano Ronaldo ⚽ Goals  📊 EDA, Analysis",
          "▶️ Cristiano Ronaldo ⚽ Goals  📊 EDA, Analysis",
          "▶️ Cristiano Ronaldo ⚽ Goals  📊 EDA, Analysis",
          "▶️ Cristiano Ronaldo ⚽ Goals  📊 EDA, Analysis",
          "▶️ Cristiano Ronaldo ⚽ Goals  📊 EDA, Analysis",
          "▶️ Cristiano Ronaldo ⚽ Goals  📊 EDA, Analysis",
          "▶️ Cristiano Ronaldo ⚽ Goals  📊 EDA, Analysis",
          "▶️ Cristiano Ronaldo ⚽ Goals  📊 EDA, Analysis",
          "▶️ Cristiano Ronaldo ⚽ Goals  📊 EDA, Analysis",
          "▶️ Cristiano Ronaldo ⚽ Goals  📊 EDA, Analysis",
          "▶️ Cristiano Ronaldo ⚽ Goals  📊 EDA, Analysis",
          "▶️ Cristiano Ronaldo ⚽ Goals  📊 EDA, Analysis",
          "▶️ Cristiano Ronaldo ⚽ Goals  📊 EDA, Analysis",
          "▶️ Cristiano Ronaldo ⚽ Goals  📊 EDA, Analysis",
          "▶️ Cristiano Ronaldo ⚽ Goals  📊 EDA, Analysis",
          "▶️ Cristiano Ronaldo ⚽ Goals  📊 EDA, Analysis",
          "▶️ Cristiano Ronaldo ⚽ Goals  📊 EDA, Analysis",
          "▶️ Cristiano Ronaldo ⚽ Goals  📊 EDA, Analysis",
          "▶️ Cristiano Ronaldo ⚽ Goals  📊 EDA, Analysis",
          "▶️ Cristiano Ronaldo ⚽ Goals  📊 EDA, Analysis",
          "▶️ Cristiano Ronaldo ⚽ Goals  📊 EDA, Analysis",
          "▶️ Cristiano Ronaldo ⚽ Goals  📊 EDA, Analysis",
          "▶️ Cristiano Ronaldo ⚽ Goals  📊 EDA, Analysis",
          "▶️ Cristiano Ronaldo ⚽ Goals  📊 EDA, Analysis",
          "▶️ Cristiano Ronaldo ⚽ Goals  📊 EDA, Analysis",
          "▶️ Cristiano Ronaldo ⚽ Goals  📊 EDA, Analysis",
          "▶️ Cristiano Ronaldo ⚽ Goals  📊 EDA, Analysis",
          "▶️ Cristiano Ronaldo ⚽ Goals  📊 EDA, Analysis",
          "▶️ Cristiano Ronaldo ⚽ Goals  📊 EDA, Analysis",
          "▶️ Cristiano Ronaldo ⚽ Goals  📊 EDA, Analysis",
          "▶️ Cristiano Ronaldo ⚽ Goals  📊 EDA, Analysis",
          "▶️ Cristiano Ronaldo ⚽ Goals  📊 EDA, Analysis",
          "▶️ Cristiano Ronaldo ⚽ Goals  📊 EDA, Analysis",
          "▶️ Cristiano Ronaldo ⚽ Goals  📊 EDA, Analysis",
          "▶️ Cristiano Ronaldo ⚽ Goals  📊 EDA, Analysis",
          "▶️ Cristiano Ronaldo ⚽ Goals  📊 EDA, Analysis",
          "▶️ Cristiano Ronaldo ⚽ Goals  📊 EDA, Analysis",
          "▶️ Cristiano Ronaldo ⚽ Goals  📊 EDA, Analysis",
          "▶️ Cristiano Ronaldo ⚽ Goals  📊 EDA, Analysis",
          "▶️ Cristiano Ronaldo ⚽ Goals  📊 EDA, Analysis",
          "▶️ Cristiano Ronaldo ⚽ Goals  📊 EDA, Analysis",
          "▶️ Cristiano Ronaldo ⚽ Goals  📊 EDA, Analysis",
          "▶️ Cristiano Ronaldo ⚽ Goals  📊 EDA, Analysis",
          "▶️ Cristiano Ronaldo ⚽ Goals  📊 EDA, Analysis",
          "▶️ Cristiano Ronaldo ⚽ Goals  📊 EDA, Analysis"
         ],
         "legendgroup": "▶️ Cristiano Ronaldo ⚽ Goals  📊 EDA, Analysis",
         "line": {
          "color": "#FF6692",
          "dash": "solid"
         },
         "marker": {
          "symbol": "circle"
         },
         "mode": "lines",
         "name": "▶️ Cristiano Ronaldo ⚽ Goals  📊 EDA, Analysis",
         "orientation": "v",
         "showlegend": true,
         "type": "scatter",
         "x": [
          "2022-06-12",
          "2022-06-13",
          "2022-06-14",
          "2022-06-15",
          "2022-06-16",
          "2022-06-17",
          "2022-06-18",
          "2022-06-19",
          "2022-06-20",
          "2022-06-21",
          "2022-06-22",
          "2022-06-25",
          "2022-06-26",
          "2022-06-28",
          "2022-06-29",
          "2022-07-01",
          "2022-07-02",
          "2022-07-03",
          "2022-07-04",
          "2022-07-05",
          "2022-07-06",
          "2022-07-07",
          "2022-07-11",
          "2022-07-12",
          "2022-07-14",
          "2022-07-15",
          "2022-07-17",
          "2022-07-18",
          "2022-07-21",
          "2022-07-22",
          "2022-07-23",
          "2022-07-24",
          "2022-07-25",
          "2022-07-26",
          "2022-07-29",
          "2022-07-30",
          "2022-07-31",
          "2022-08-01",
          "2022-08-03",
          "2022-08-05",
          "2022-08-06",
          "2022-08-08",
          "2022-08-10",
          "2022-08-12",
          "2022-08-14",
          "2022-08-16",
          "2022-08-17",
          "2022-08-18",
          "2022-08-19",
          "2022-08-20",
          "2022-08-21",
          "2022-08-22",
          "2022-08-23",
          "2022-08-24",
          "2022-08-25",
          "2022-08-26",
          "2022-08-27",
          "2022-08-28",
          "2022-08-29",
          "2022-08-30",
          "2022-08-31",
          "2022-09-03",
          "2022-09-04",
          "2022-09-05",
          "2022-09-06",
          "2022-09-07"
         ],
         "xaxis": "x",
         "y": [
          38.92307692307692,
          39.76923076923077,
          40.205128205128204,
          40.84615384615385,
          41.282051282051285,
          41.53846153846154,
          41.76923076923077,
          41.87179487179487,
          42.12820512820513,
          41.45,
          41.875,
          42.8,
          43.2,
          43.6,
          44,
          43.48780487804878,
          43.53658536585366,
          43.609756097560975,
          43.707317073170735,
          42.857142857142854,
          43.095238095238095,
          43.166666666666664,
          40.34782608695652,
          39.723404255319146,
          38.53061224489796,
          38.59183673469388,
          38.95918367346939,
          39.10204081632653,
          37.37735849056604,
          37.41509433962264,
          37.716981132075475,
          36.6,
          36.25,
          36.29824561403509,
          36.87719298245614,
          36.60344827586207,
          36.94827586206897,
          36.38333333333333,
          36.833333333333336,
          36.596774193548384,
          36.95161290322581,
          36.63492063492063,
          34.88235294117647,
          34.385714285714286,
          34.375,
          32.18987341772152,
          31.679012345679013,
          31.597560975609756,
          31.73170731707317,
          31.457831325301203,
          31.626506024096386,
          31.903614457831324,
          32.16867469879518,
          32.16867469879518,
          32.795180722891565,
          32.963855421686745,
          32.6,
          32.48837209302326,
          32.28735632183908,
          32.51724137931034,
          32.71264367816092,
          33.55172413793103,
          33.64367816091954,
          33.64772727272727,
          33.84090909090909,
          34.06818181818182
         ],
         "yaxis": "y"
        },
        {
         "hovertemplate": "<b>%{hovertext}</b><br><br>title=📚 Coursera 📉 EDA, Sentiment Analysis 🔴🟢🔵<br>date=%{x}<br>Views per upvote=%{y}<extra></extra>",
         "hovertext": [
          "📚 Coursera 📉 EDA, Sentiment Analysis 🔴🟢🔵",
          "📚 Coursera 📉 EDA, Sentiment Analysis 🔴🟢🔵",
          "📚 Coursera 📉 EDA, Sentiment Analysis 🔴🟢🔵",
          "📚 Coursera 📉 EDA, Sentiment Analysis 🔴🟢🔵",
          "📚 Coursera 📉 EDA, Sentiment Analysis 🔴🟢🔵",
          "📚 Coursera 📉 EDA, Sentiment Analysis 🔴🟢🔵",
          "📚 Coursera 📉 EDA, Sentiment Analysis 🔴🟢🔵",
          "📚 Coursera 📉 EDA, Sentiment Analysis 🔴🟢🔵",
          "📚 Coursera 📉 EDA, Sentiment Analysis 🔴🟢🔵",
          "📚 Coursera 📉 EDA, Sentiment Analysis 🔴🟢🔵",
          "📚 Coursera 📉 EDA, Sentiment Analysis 🔴🟢🔵",
          "📚 Coursera 📉 EDA, Sentiment Analysis 🔴🟢🔵",
          "📚 Coursera 📉 EDA, Sentiment Analysis 🔴🟢🔵",
          "📚 Coursera 📉 EDA, Sentiment Analysis 🔴🟢🔵",
          "📚 Coursera 📉 EDA, Sentiment Analysis 🔴🟢🔵",
          "📚 Coursera 📉 EDA, Sentiment Analysis 🔴🟢🔵",
          "📚 Coursera 📉 EDA, Sentiment Analysis 🔴🟢🔵",
          "📚 Coursera 📉 EDA, Sentiment Analysis 🔴🟢🔵",
          "📚 Coursera 📉 EDA, Sentiment Analysis 🔴🟢🔵",
          "📚 Coursera 📉 EDA, Sentiment Analysis 🔴🟢🔵",
          "📚 Coursera 📉 EDA, Sentiment Analysis 🔴🟢🔵",
          "📚 Coursera 📉 EDA, Sentiment Analysis 🔴🟢🔵",
          "📚 Coursera 📉 EDA, Sentiment Analysis 🔴🟢🔵",
          "📚 Coursera 📉 EDA, Sentiment Analysis 🔴🟢🔵",
          "📚 Coursera 📉 EDA, Sentiment Analysis 🔴🟢🔵",
          "📚 Coursera 📉 EDA, Sentiment Analysis 🔴🟢🔵",
          "📚 Coursera 📉 EDA, Sentiment Analysis 🔴🟢🔵",
          "📚 Coursera 📉 EDA, Sentiment Analysis 🔴🟢🔵",
          "📚 Coursera 📉 EDA, Sentiment Analysis 🔴🟢🔵",
          "📚 Coursera 📉 EDA, Sentiment Analysis 🔴🟢🔵",
          "📚 Coursera 📉 EDA, Sentiment Analysis 🔴🟢🔵",
          "📚 Coursera 📉 EDA, Sentiment Analysis 🔴🟢🔵",
          "📚 Coursera 📉 EDA, Sentiment Analysis 🔴🟢🔵",
          "📚 Coursera 📉 EDA, Sentiment Analysis 🔴🟢🔵",
          "📚 Coursera 📉 EDA, Sentiment Analysis 🔴🟢🔵",
          "📚 Coursera 📉 EDA, Sentiment Analysis 🔴🟢🔵",
          "📚 Coursera 📉 EDA, Sentiment Analysis 🔴🟢🔵",
          "📚 Coursera 📉 EDA, Sentiment Analysis 🔴🟢🔵",
          "📚 Coursera 📉 EDA, Sentiment Analysis 🔴🟢🔵",
          "📚 Coursera 📉 EDA, Sentiment Analysis 🔴🟢🔵",
          "📚 Coursera 📉 EDA, Sentiment Analysis 🔴🟢🔵",
          "📚 Coursera 📉 EDA, Sentiment Analysis 🔴🟢🔵",
          "📚 Coursera 📉 EDA, Sentiment Analysis 🔴🟢🔵",
          "📚 Coursera 📉 EDA, Sentiment Analysis 🔴🟢🔵",
          "📚 Coursera 📉 EDA, Sentiment Analysis 🔴🟢🔵",
          "📚 Coursera 📉 EDA, Sentiment Analysis 🔴🟢🔵",
          "📚 Coursera 📉 EDA, Sentiment Analysis 🔴🟢🔵",
          "📚 Coursera 📉 EDA, Sentiment Analysis 🔴🟢🔵",
          "📚 Coursera 📉 EDA, Sentiment Analysis 🔴🟢🔵",
          "📚 Coursera 📉 EDA, Sentiment Analysis 🔴🟢🔵",
          "📚 Coursera 📉 EDA, Sentiment Analysis 🔴🟢🔵",
          "📚 Coursera 📉 EDA, Sentiment Analysis 🔴🟢🔵",
          "📚 Coursera 📉 EDA, Sentiment Analysis 🔴🟢🔵",
          "📚 Coursera 📉 EDA, Sentiment Analysis 🔴🟢🔵",
          "📚 Coursera 📉 EDA, Sentiment Analysis 🔴🟢🔵",
          "📚 Coursera 📉 EDA, Sentiment Analysis 🔴🟢🔵",
          "📚 Coursera 📉 EDA, Sentiment Analysis 🔴🟢🔵",
          "📚 Coursera 📉 EDA, Sentiment Analysis 🔴🟢🔵",
          "📚 Coursera 📉 EDA, Sentiment Analysis 🔴🟢🔵",
          "📚 Coursera 📉 EDA, Sentiment Analysis 🔴🟢🔵",
          "📚 Coursera 📉 EDA, Sentiment Analysis 🔴🟢🔵",
          "📚 Coursera 📉 EDA, Sentiment Analysis 🔴🟢🔵",
          "📚 Coursera 📉 EDA, Sentiment Analysis 🔴🟢🔵",
          "📚 Coursera 📉 EDA, Sentiment Analysis 🔴🟢🔵",
          "📚 Coursera 📉 EDA, Sentiment Analysis 🔴🟢🔵",
          "📚 Coursera 📉 EDA, Sentiment Analysis 🔴🟢🔵"
         ],
         "legendgroup": "📚 Coursera 📉 EDA, Sentiment Analysis 🔴🟢🔵",
         "line": {
          "color": "#B6E880",
          "dash": "solid"
         },
         "marker": {
          "symbol": "circle"
         },
         "mode": "lines",
         "name": "📚 Coursera 📉 EDA, Sentiment Analysis 🔴🟢🔵",
         "orientation": "v",
         "showlegend": true,
         "type": "scatter",
         "x": [
          "2022-06-12",
          "2022-06-13",
          "2022-06-14",
          "2022-06-15",
          "2022-06-16",
          "2022-06-17",
          "2022-06-18",
          "2022-06-19",
          "2022-06-20",
          "2022-06-21",
          "2022-06-22",
          "2022-06-25",
          "2022-06-26",
          "2022-06-28",
          "2022-06-29",
          "2022-07-01",
          "2022-07-02",
          "2022-07-03",
          "2022-07-04",
          "2022-07-05",
          "2022-07-06",
          "2022-07-07",
          "2022-07-11",
          "2022-07-12",
          "2022-07-14",
          "2022-07-15",
          "2022-07-17",
          "2022-07-18",
          "2022-07-21",
          "2022-07-22",
          "2022-07-23",
          "2022-07-24",
          "2022-07-25",
          "2022-07-26",
          "2022-07-29",
          "2022-07-30",
          "2022-07-31",
          "2022-08-01",
          "2022-08-03",
          "2022-08-05",
          "2022-08-06",
          "2022-08-08",
          "2022-08-10",
          "2022-08-12",
          "2022-08-14",
          "2022-08-16",
          "2022-08-17",
          "2022-08-18",
          "2022-08-19",
          "2022-08-20",
          "2022-08-21",
          "2022-08-22",
          "2022-08-23",
          "2022-08-24",
          "2022-08-25",
          "2022-08-26",
          "2022-08-27",
          "2022-08-28",
          "2022-08-29",
          "2022-08-30",
          "2022-08-31",
          "2022-09-03",
          "2022-09-04",
          "2022-09-05",
          "2022-09-06",
          "2022-09-07"
         ],
         "xaxis": "x",
         "y": [
          16.307692307692307,
          16.46153846153846,
          16.846153846153847,
          17.076923076923077,
          16.814814814814813,
          16.962962962962962,
          17.074074074074073,
          17.074074074074073,
          17.25925925925926,
          17.444444444444443,
          17.85185185185185,
          18.51851851851852,
          18.85185185185185,
          19.037037037037038,
          19.40740740740741,
          19.77777777777778,
          19.814814814814813,
          19.814814814814813,
          20,
          19.428571428571427,
          19.428571428571427,
          19.428571428571427,
          19.714285714285715,
          19.785714285714285,
          19.964285714285715,
          20.214285714285715,
          19.551724137931036,
          19.586206896551722,
          20,
          20.03448275862069,
          20.20689655172414,
          20.413793103448278,
          19.9,
          20.066666666666666,
          19.967741935483872,
          19.59375,
          19.363636363636363,
          18.083333333333332,
          17.91891891891892,
          18.027027027027028,
          18.16216216216216,
          17.973684210526315,
          17.170731707317074,
          16.837209302325583,
          16.977272727272727,
          15.958333333333334,
          15.979591836734693,
          16,
          15.901960784313726,
          16.058823529411764,
          16.235294117647058,
          16.313725490196077,
          16.568627450980394,
          16.568627450980394,
          17.096153846153847,
          17.307692307692307,
          17.660377358490567,
          17.77358490566038,
          17.6,
          18.10909090909091,
          18.236363636363638,
          19.72222222222222,
          19.490909090909092,
          19.24561403508772,
          19.20689655172414,
          19.379310344827587
         ],
         "yaxis": "y"
        },
        {
         "hovertemplate": "<b>%{hovertext}</b><br><br>title=Investment and Financial Analysis  🏭 EPZ<br>date=%{x}<br>Views per upvote=%{y}<extra></extra>",
         "hovertext": [
          "Investment and Financial Analysis  🏭 EPZ",
          "Investment and Financial Analysis  🏭 EPZ",
          "Investment and Financial Analysis  🏭 EPZ",
          "Investment and Financial Analysis  🏭 EPZ",
          "Investment and Financial Analysis  🏭 EPZ",
          "Investment and Financial Analysis  🏭 EPZ",
          "Investment and Financial Analysis  🏭 EPZ",
          "Investment and Financial Analysis  🏭 EPZ",
          "Investment and Financial Analysis  🏭 EPZ",
          "Investment and Financial Analysis  🏭 EPZ",
          "Investment and Financial Analysis  🏭 EPZ",
          "Investment and Financial Analysis  🏭 EPZ",
          "Investment and Financial Analysis  🏭 EPZ",
          "Investment and Financial Analysis  🏭 EPZ",
          "Investment and Financial Analysis  🏭 EPZ",
          "Investment and Financial Analysis  🏭 EPZ",
          "Investment and Financial Analysis  🏭 EPZ",
          "Investment and Financial Analysis  🏭 EPZ",
          "Investment and Financial Analysis  🏭 EPZ",
          "Investment and Financial Analysis  🏭 EPZ",
          "Investment and Financial Analysis  🏭 EPZ",
          "Investment and Financial Analysis  🏭 EPZ",
          "Investment and Financial Analysis  🏭 EPZ",
          "Investment and Financial Analysis  🏭 EPZ",
          "Investment and Financial Analysis  🏭 EPZ",
          "Investment and Financial Analysis  🏭 EPZ",
          "Investment and Financial Analysis  🏭 EPZ",
          "Investment and Financial Analysis  🏭 EPZ",
          "Investment and Financial Analysis  🏭 EPZ",
          "Investment and Financial Analysis  🏭 EPZ",
          "Investment and Financial Analysis  🏭 EPZ",
          "Investment and Financial Analysis  🏭 EPZ",
          "Investment and Financial Analysis  🏭 EPZ",
          "Investment and Financial Analysis  🏭 EPZ",
          "Investment and Financial Analysis  🏭 EPZ",
          "Investment and Financial Analysis  🏭 EPZ",
          "Investment and Financial Analysis  🏭 EPZ",
          "Investment and Financial Analysis  🏭 EPZ",
          "Investment and Financial Analysis  🏭 EPZ",
          "Investment and Financial Analysis  🏭 EPZ",
          "Investment and Financial Analysis  🏭 EPZ",
          "Investment and Financial Analysis  🏭 EPZ",
          "Investment and Financial Analysis  🏭 EPZ",
          "Investment and Financial Analysis  🏭 EPZ",
          "Investment and Financial Analysis  🏭 EPZ",
          "Investment and Financial Analysis  🏭 EPZ",
          "Investment and Financial Analysis  🏭 EPZ",
          "Investment and Financial Analysis  🏭 EPZ",
          "Investment and Financial Analysis  🏭 EPZ",
          "Investment and Financial Analysis  🏭 EPZ",
          "Investment and Financial Analysis  🏭 EPZ",
          "Investment and Financial Analysis  🏭 EPZ",
          "Investment and Financial Analysis  🏭 EPZ",
          "Investment and Financial Analysis  🏭 EPZ",
          "Investment and Financial Analysis  🏭 EPZ",
          "Investment and Financial Analysis  🏭 EPZ",
          "Investment and Financial Analysis  🏭 EPZ",
          "Investment and Financial Analysis  🏭 EPZ",
          "Investment and Financial Analysis  🏭 EPZ",
          "Investment and Financial Analysis  🏭 EPZ",
          "Investment and Financial Analysis  🏭 EPZ",
          "Investment and Financial Analysis  🏭 EPZ",
          "Investment and Financial Analysis  🏭 EPZ",
          "Investment and Financial Analysis  🏭 EPZ",
          "Investment and Financial Analysis  🏭 EPZ",
          "Investment and Financial Analysis  🏭 EPZ"
         ],
         "legendgroup": "Investment and Financial Analysis  🏭 EPZ",
         "line": {
          "color": "#FF97FF",
          "dash": "solid"
         },
         "marker": {
          "symbol": "circle"
         },
         "mode": "lines",
         "name": "Investment and Financial Analysis  🏭 EPZ",
         "orientation": "v",
         "showlegend": true,
         "type": "scatter",
         "x": [
          "2022-06-12",
          "2022-06-13",
          "2022-06-14",
          "2022-06-15",
          "2022-06-16",
          "2022-06-17",
          "2022-06-18",
          "2022-06-19",
          "2022-06-20",
          "2022-06-21",
          "2022-06-22",
          "2022-06-25",
          "2022-06-26",
          "2022-06-28",
          "2022-06-29",
          "2022-07-01",
          "2022-07-02",
          "2022-07-03",
          "2022-07-04",
          "2022-07-05",
          "2022-07-06",
          "2022-07-07",
          "2022-07-11",
          "2022-07-12",
          "2022-07-14",
          "2022-07-15",
          "2022-07-17",
          "2022-07-18",
          "2022-07-21",
          "2022-07-22",
          "2022-07-23",
          "2022-07-24",
          "2022-07-25",
          "2022-07-26",
          "2022-07-29",
          "2022-07-30",
          "2022-07-31",
          "2022-08-01",
          "2022-08-03",
          "2022-08-05",
          "2022-08-06",
          "2022-08-08",
          "2022-08-10",
          "2022-08-12",
          "2022-08-14",
          "2022-08-16",
          "2022-08-17",
          "2022-08-18",
          "2022-08-19",
          "2022-08-20",
          "2022-08-21",
          "2022-08-22",
          "2022-08-23",
          "2022-08-24",
          "2022-08-25",
          "2022-08-26",
          "2022-08-27",
          "2022-08-28",
          "2022-08-29",
          "2022-08-30",
          "2022-08-31",
          "2022-09-03",
          "2022-09-04",
          "2022-09-05",
          "2022-09-06",
          "2022-09-07"
         ],
         "xaxis": "x",
         "y": [
          20.82758620689655,
          21.103448275862068,
          21.379310344827587,
          21.482758620689655,
          21.133333333333333,
          21.3,
          21.3,
          21.366666666666667,
          21.466666666666665,
          21.566666666666666,
          21.7,
          21.833333333333332,
          21.833333333333332,
          22.133333333333333,
          22.2,
          21.774193548387096,
          21.93548387096774,
          21.93548387096774,
          22,
          21.46875,
          21.5625,
          21.5625,
          21.78125,
          21.8125,
          21.96875,
          22.03125,
          22.25,
          21.11764705882353,
          20.771428571428572,
          20.8,
          20.97142857142857,
          20,
          19.605263157894736,
          19.657894736842106,
          19.789473684210527,
          19.789473684210527,
          19.81578947368421,
          19.41025641025641,
          18.585365853658537,
          18.853658536585368,
          18.975609756097562,
          18.13953488372093,
          17.065217391304348,
          16.78723404255319,
          16.625,
          15.807692307692308,
          14.62295081967213,
          14.672131147540984,
          14.754098360655737,
          14.819672131147541,
          14.836065573770492,
          14.852459016393443,
          14.901639344262295,
          14.901639344262295,
          15.065573770491802,
          15.081967213114755,
          15.180327868852459,
          15.21311475409836,
          15,
          15.064516129032258,
          15.080645161290322,
          15.639344262295081,
          15.770491803278688,
          15.564516129032258,
          15.661290322580646,
          15.725806451612904
         ],
         "yaxis": "y"
        },
        {
         "hovertemplate": "<b>%{hovertext}</b><br><br>title=ML Foundation ➡️ Cross Validation ✅ All Methods<br>date=%{x}<br>Views per upvote=%{y}<extra></extra>",
         "hovertext": [
          "ML Foundation ➡️ Cross Validation ✅ All Methods",
          "ML Foundation ➡️ Cross Validation ✅ All Methods",
          "ML Foundation ➡️ Cross Validation ✅ All Methods",
          "ML Foundation ➡️ Cross Validation ✅ All Methods",
          "ML Foundation ➡️ Cross Validation ✅ All Methods",
          "ML Foundation ➡️ Cross Validation ✅ All Methods",
          "ML Foundation ➡️ Cross Validation ✅ All Methods",
          "ML Foundation ➡️ Cross Validation ✅ All Methods",
          "ML Foundation ➡️ Cross Validation ✅ All Methods",
          "ML Foundation ➡️ Cross Validation ✅ All Methods",
          "ML Foundation ➡️ Cross Validation ✅ All Methods",
          "ML Foundation ➡️ Cross Validation ✅ All Methods",
          "ML Foundation ➡️ Cross Validation ✅ All Methods",
          "ML Foundation ➡️ Cross Validation ✅ All Methods",
          "ML Foundation ➡️ Cross Validation ✅ All Methods",
          "ML Foundation ➡️ Cross Validation ✅ All Methods",
          "ML Foundation ➡️ Cross Validation ✅ All Methods",
          "ML Foundation ➡️ Cross Validation ✅ All Methods",
          "ML Foundation ➡️ Cross Validation ✅ All Methods",
          "ML Foundation ➡️ Cross Validation ✅ All Methods",
          "ML Foundation ➡️ Cross Validation ✅ All Methods",
          "ML Foundation ➡️ Cross Validation ✅ All Methods",
          "ML Foundation ➡️ Cross Validation ✅ All Methods",
          "ML Foundation ➡️ Cross Validation ✅ All Methods",
          "ML Foundation ➡️ Cross Validation ✅ All Methods",
          "ML Foundation ➡️ Cross Validation ✅ All Methods",
          "ML Foundation ➡️ Cross Validation ✅ All Methods",
          "ML Foundation ➡️ Cross Validation ✅ All Methods",
          "ML Foundation ➡️ Cross Validation ✅ All Methods",
          "ML Foundation ➡️ Cross Validation ✅ All Methods",
          "ML Foundation ➡️ Cross Validation ✅ All Methods",
          "ML Foundation ➡️ Cross Validation ✅ All Methods",
          "ML Foundation ➡️ Cross Validation ✅ All Methods",
          "ML Foundation ➡️ Cross Validation ✅ All Methods",
          "ML Foundation ➡️ Cross Validation ✅ All Methods",
          "ML Foundation ➡️ Cross Validation ✅ All Methods",
          "ML Foundation ➡️ Cross Validation ✅ All Methods",
          "ML Foundation ➡️ Cross Validation ✅ All Methods",
          "ML Foundation ➡️ Cross Validation ✅ All Methods",
          "ML Foundation ➡️ Cross Validation ✅ All Methods",
          "ML Foundation ➡️ Cross Validation ✅ All Methods",
          "ML Foundation ➡️ Cross Validation ✅ All Methods",
          "ML Foundation ➡️ Cross Validation ✅ All Methods",
          "ML Foundation ➡️ Cross Validation ✅ All Methods",
          "ML Foundation ➡️ Cross Validation ✅ All Methods",
          "ML Foundation ➡️ Cross Validation ✅ All Methods",
          "ML Foundation ➡️ Cross Validation ✅ All Methods",
          "ML Foundation ➡️ Cross Validation ✅ All Methods",
          "ML Foundation ➡️ Cross Validation ✅ All Methods",
          "ML Foundation ➡️ Cross Validation ✅ All Methods",
          "ML Foundation ➡️ Cross Validation ✅ All Methods",
          "ML Foundation ➡️ Cross Validation ✅ All Methods",
          "ML Foundation ➡️ Cross Validation ✅ All Methods",
          "ML Foundation ➡️ Cross Validation ✅ All Methods",
          "ML Foundation ➡️ Cross Validation ✅ All Methods",
          "ML Foundation ➡️ Cross Validation ✅ All Methods",
          "ML Foundation ➡️ Cross Validation ✅ All Methods",
          "ML Foundation ➡️ Cross Validation ✅ All Methods",
          "ML Foundation ➡️ Cross Validation ✅ All Methods",
          "ML Foundation ➡️ Cross Validation ✅ All Methods",
          "ML Foundation ➡️ Cross Validation ✅ All Methods",
          "ML Foundation ➡️ Cross Validation ✅ All Methods",
          "ML Foundation ➡️ Cross Validation ✅ All Methods",
          "ML Foundation ➡️ Cross Validation ✅ All Methods",
          "ML Foundation ➡️ Cross Validation ✅ All Methods",
          "ML Foundation ➡️ Cross Validation ✅ All Methods"
         ],
         "legendgroup": "ML Foundation ➡️ Cross Validation ✅ All Methods",
         "line": {
          "color": "#FECB52",
          "dash": "solid"
         },
         "marker": {
          "symbol": "circle"
         },
         "mode": "lines",
         "name": "ML Foundation ➡️ Cross Validation ✅ All Methods",
         "orientation": "v",
         "showlegend": true,
         "type": "scatter",
         "x": [
          "2022-06-12",
          "2022-06-13",
          "2022-06-14",
          "2022-06-15",
          "2022-06-16",
          "2022-06-17",
          "2022-06-18",
          "2022-06-19",
          "2022-06-20",
          "2022-06-21",
          "2022-06-22",
          "2022-06-25",
          "2022-06-26",
          "2022-06-28",
          "2022-06-29",
          "2022-07-01",
          "2022-07-02",
          "2022-07-03",
          "2022-07-04",
          "2022-07-05",
          "2022-07-06",
          "2022-07-07",
          "2022-07-11",
          "2022-07-12",
          "2022-07-14",
          "2022-07-15",
          "2022-07-17",
          "2022-07-18",
          "2022-07-21",
          "2022-07-22",
          "2022-07-23",
          "2022-07-24",
          "2022-07-25",
          "2022-07-26",
          "2022-07-29",
          "2022-07-30",
          "2022-07-31",
          "2022-08-01",
          "2022-08-03",
          "2022-08-05",
          "2022-08-06",
          "2022-08-08",
          "2022-08-10",
          "2022-08-12",
          "2022-08-14",
          "2022-08-16",
          "2022-08-17",
          "2022-08-18",
          "2022-08-19",
          "2022-08-20",
          "2022-08-21",
          "2022-08-22",
          "2022-08-23",
          "2022-08-24",
          "2022-08-25",
          "2022-08-26",
          "2022-08-27",
          "2022-08-28",
          "2022-08-29",
          "2022-08-30",
          "2022-08-31",
          "2022-09-03",
          "2022-09-04",
          "2022-09-05",
          "2022-09-06",
          "2022-09-07"
         ],
         "xaxis": "x",
         "y": [
          17.02857142857143,
          17.285714285714285,
          17.52777777777778,
          18.135135135135137,
          18.36842105263158,
          18.358974358974358,
          18.897435897435898,
          19.435897435897434,
          20.375,
          21.24390243902439,
          21.142857142857142,
          22.19047619047619,
          22.476190476190474,
          23.333333333333332,
          24.333333333333332,
          24.15909090909091,
          24.681818181818183,
          24.26086956521739,
          24.574468085106382,
          23.764705882352942,
          22.836363636363636,
          23.036363636363635,
          22.491803278688526,
          22.43548387096774,
          22.359375,
          22.23076923076923,
          22.08955223880597,
          22.19402985074627,
          22.91044776119403,
          23.01492537313433,
          23.37313432835821,
          23.13235294117647,
          23.397058823529413,
          23.27536231884058,
          23.385714285714286,
          23.614285714285714,
          23.25,
          23.430555555555557,
          23.36986301369863,
          23.554054054054053,
          23.466666666666665,
          23.573333333333334,
          23.526315789473685,
          23.493506493506494,
          23.756410256410255,
          23.525,
          23.6375,
          23.8125,
          23.9375,
          24.0125,
          24.1,
          24.225,
          24.3375,
          24.3375,
          24.6,
          24.7375,
          25.05,
          25.275,
          25.049382716049383,
          24.98780487804878,
          25.097560975609756,
          25.82716049382716,
          25.864197530864196,
          25.74390243902439,
          25.9390243902439,
          26.097560975609756
         ],
         "yaxis": "y"
        },
        {
         "hovertemplate": "<b>%{hovertext}</b><br><br>title=Different Clustering Techniques and Algorithms<br>date=%{x}<br>Views per upvote=%{y}<extra></extra>",
         "hovertext": [
          "Different Clustering Techniques and Algorithms",
          "Different Clustering Techniques and Algorithms",
          "Different Clustering Techniques and Algorithms",
          "Different Clustering Techniques and Algorithms",
          "Different Clustering Techniques and Algorithms",
          "Different Clustering Techniques and Algorithms",
          "Different Clustering Techniques and Algorithms",
          "Different Clustering Techniques and Algorithms",
          "Different Clustering Techniques and Algorithms",
          "Different Clustering Techniques and Algorithms",
          "Different Clustering Techniques and Algorithms",
          "Different Clustering Techniques and Algorithms",
          "Different Clustering Techniques and Algorithms",
          "Different Clustering Techniques and Algorithms",
          "Different Clustering Techniques and Algorithms",
          "Different Clustering Techniques and Algorithms",
          "Different Clustering Techniques and Algorithms",
          "Different Clustering Techniques and Algorithms",
          "Different Clustering Techniques and Algorithms",
          "Different Clustering Techniques and Algorithms",
          "Different Clustering Techniques and Algorithms",
          "Different Clustering Techniques and Algorithms",
          "Different Clustering Techniques and Algorithms",
          "Different Clustering Techniques and Algorithms",
          "Different Clustering Techniques and Algorithms",
          "Different Clustering Techniques and Algorithms",
          "Different Clustering Techniques and Algorithms",
          "Different Clustering Techniques and Algorithms",
          "Different Clustering Techniques and Algorithms",
          "Different Clustering Techniques and Algorithms",
          "Different Clustering Techniques and Algorithms",
          "Different Clustering Techniques and Algorithms",
          "Different Clustering Techniques and Algorithms",
          "Different Clustering Techniques and Algorithms",
          "Different Clustering Techniques and Algorithms",
          "Different Clustering Techniques and Algorithms",
          "Different Clustering Techniques and Algorithms",
          "Different Clustering Techniques and Algorithms",
          "Different Clustering Techniques and Algorithms",
          "Different Clustering Techniques and Algorithms",
          "Different Clustering Techniques and Algorithms",
          "Different Clustering Techniques and Algorithms",
          "Different Clustering Techniques and Algorithms",
          "Different Clustering Techniques and Algorithms",
          "Different Clustering Techniques and Algorithms",
          "Different Clustering Techniques and Algorithms",
          "Different Clustering Techniques and Algorithms",
          "Different Clustering Techniques and Algorithms",
          "Different Clustering Techniques and Algorithms",
          "Different Clustering Techniques and Algorithms",
          "Different Clustering Techniques and Algorithms"
         ],
         "legendgroup": "Different Clustering Techniques and Algorithms",
         "line": {
          "color": "#636efa",
          "dash": "solid"
         },
         "marker": {
          "symbol": "circle"
         },
         "mode": "lines",
         "name": "Different Clustering Techniques and Algorithms",
         "orientation": "v",
         "showlegend": true,
         "type": "scatter",
         "x": [
          "2022-07-01",
          "2022-07-02",
          "2022-07-03",
          "2022-07-04",
          "2022-07-05",
          "2022-07-06",
          "2022-07-07",
          "2022-07-11",
          "2022-07-12",
          "2022-07-14",
          "2022-07-15",
          "2022-07-17",
          "2022-07-18",
          "2022-07-21",
          "2022-07-22",
          "2022-07-23",
          "2022-07-24",
          "2022-07-25",
          "2022-07-26",
          "2022-07-29",
          "2022-07-30",
          "2022-07-31",
          "2022-08-01",
          "2022-08-03",
          "2022-08-05",
          "2022-08-06",
          "2022-08-08",
          "2022-08-10",
          "2022-08-12",
          "2022-08-14",
          "2022-08-16",
          "2022-08-17",
          "2022-08-18",
          "2022-08-19",
          "2022-08-20",
          "2022-08-21",
          "2022-08-22",
          "2022-08-23",
          "2022-08-24",
          "2022-08-25",
          "2022-08-26",
          "2022-08-27",
          "2022-08-28",
          "2022-08-29",
          "2022-08-30",
          "2022-08-31",
          "2022-09-03",
          "2022-09-04",
          "2022-09-05",
          "2022-09-06",
          "2022-09-07"
         ],
         "xaxis": "x",
         "y": [
          5,
          8.448979591836734,
          9.140350877192983,
          9.285714285714286,
          9.535211267605634,
          10.36986301369863,
          10.373333333333333,
          11.613636363636363,
          12.204545454545455,
          12.29896907216495,
          12.44,
          12.777777777777779,
          12.926605504587156,
          14.318965517241379,
          14.330508474576272,
          14.770491803278688,
          15.024193548387096,
          14.976923076923077,
          15.251908396946565,
          16.18796992481203,
          16.31851851851852,
          16.25179856115108,
          16.48201438848921,
          16.697841726618705,
          16.552447552447553,
          16.455172413793104,
          16.472602739726028,
          16.446666666666665,
          16.5,
          16.82894736842105,
          16.90909090909091,
          16.87741935483871,
          17.058064516129033,
          17.12258064516129,
          17.26451612903226,
          17.38064516129032,
          17.384615384615383,
          17.53846153846154,
          17.53846153846154,
          17.713375796178344,
          17.770700636942674,
          17.955414012738853,
          18.089171974522294,
          18.056962025316455,
          18.158227848101266,
          18.227848101265824,
          18.639240506329113,
          18.759493670886076,
          18.6875,
          18.62962962962963,
          18.728395061728396
         ],
         "yaxis": "y"
        },
        {
         "hovertemplate": "<b>%{hovertext}</b><br><br>title=📆 Daily AQI 🗺️ Scheduled + Dataset 🌪️<br>date=%{x}<br>Views per upvote=%{y}<extra></extra>",
         "hovertext": [
          "📆 Daily AQI 🗺️ Scheduled + Dataset 🌪️",
          "📆 Daily AQI 🗺️ Scheduled + Dataset 🌪️",
          "📆 Daily AQI 🗺️ Scheduled + Dataset 🌪️",
          "📆 Daily AQI 🗺️ Scheduled + Dataset 🌪️",
          "📆 Daily AQI 🗺️ Scheduled + Dataset 🌪️",
          "📆 Daily AQI 🗺️ Scheduled + Dataset 🌪️",
          "📆 Daily AQI 🗺️ Scheduled + Dataset 🌪️",
          "📆 Daily AQI 🗺️ Scheduled + Dataset 🌪️",
          "📆 Daily AQI 🗺️ Scheduled + Dataset 🌪️",
          "📆 Daily AQI 🗺️ Scheduled + Dataset 🌪️",
          "📆 Daily AQI 🗺️ Scheduled + Dataset 🌪️",
          "📆 Daily AQI 🗺️ Scheduled + Dataset 🌪️",
          "📆 Daily AQI 🗺️ Scheduled + Dataset 🌪️",
          "📆 Daily AQI 🗺️ Scheduled + Dataset 🌪️",
          "📆 Daily AQI 🗺️ Scheduled + Dataset 🌪️",
          "📆 Daily AQI 🗺️ Scheduled + Dataset 🌪️",
          "📆 Daily AQI 🗺️ Scheduled + Dataset 🌪️",
          "📆 Daily AQI 🗺️ Scheduled + Dataset 🌪️",
          "📆 Daily AQI 🗺️ Scheduled + Dataset 🌪️",
          "📆 Daily AQI 🗺️ Scheduled + Dataset 🌪️",
          "📆 Daily AQI 🗺️ Scheduled + Dataset 🌪️",
          "📆 Daily AQI 🗺️ Scheduled + Dataset 🌪️",
          "📆 Daily AQI 🗺️ Scheduled + Dataset 🌪️",
          "📆 Daily AQI 🗺️ Scheduled + Dataset 🌪️",
          "📆 Daily AQI 🗺️ Scheduled + Dataset 🌪️",
          "📆 Daily AQI 🗺️ Scheduled + Dataset 🌪️",
          "📆 Daily AQI 🗺️ Scheduled + Dataset 🌪️",
          "📆 Daily AQI 🗺️ Scheduled + Dataset 🌪️",
          "📆 Daily AQI 🗺️ Scheduled + Dataset 🌪️",
          "📆 Daily AQI 🗺️ Scheduled + Dataset 🌪️",
          "📆 Daily AQI 🗺️ Scheduled + Dataset 🌪️",
          "📆 Daily AQI 🗺️ Scheduled + Dataset 🌪️",
          "📆 Daily AQI 🗺️ Scheduled + Dataset 🌪️",
          "📆 Daily AQI 🗺️ Scheduled + Dataset 🌪️",
          "📆 Daily AQI 🗺️ Scheduled + Dataset 🌪️",
          "📆 Daily AQI 🗺️ Scheduled + Dataset 🌪️",
          "📆 Daily AQI 🗺️ Scheduled + Dataset 🌪️",
          "📆 Daily AQI 🗺️ Scheduled + Dataset 🌪️"
         ],
         "legendgroup": "📆 Daily AQI 🗺️ Scheduled + Dataset 🌪️",
         "line": {
          "color": "#EF553B",
          "dash": "solid"
         },
         "marker": {
          "symbol": "circle"
         },
         "mode": "lines",
         "name": "📆 Daily AQI 🗺️ Scheduled + Dataset 🌪️",
         "orientation": "v",
         "showlegend": true,
         "type": "scatter",
         "x": [
          "2022-07-21",
          "2022-07-22",
          "2022-07-23",
          "2022-07-24",
          "2022-07-25",
          "2022-07-26",
          "2022-07-29",
          "2022-07-30",
          "2022-07-31",
          "2022-08-01",
          "2022-08-03",
          "2022-08-05",
          "2022-08-06",
          "2022-08-08",
          "2022-08-10",
          "2022-08-12",
          "2022-08-14",
          "2022-08-16",
          "2022-08-17",
          "2022-08-18",
          "2022-08-19",
          "2022-08-20",
          "2022-08-21",
          "2022-08-22",
          "2022-08-23",
          "2022-08-24",
          "2022-08-25",
          "2022-08-26",
          "2022-08-27",
          "2022-08-28",
          "2022-08-29",
          "2022-08-30",
          "2022-08-31",
          "2022-09-03",
          "2022-09-04",
          "2022-09-05",
          "2022-09-06",
          "2022-09-07"
         ],
         "xaxis": "x",
         "y": [
          14.333333333333334,
          10.090909090909092,
          14.583333333333334,
          13.785714285714286,
          14.466666666666667,
          14.6875,
          17.166666666666668,
          18,
          19,
          19.227272727272727,
          20,
          21.56,
          21.307692307692307,
          20.5,
          19,
          18.457142857142856,
          17.897435897435898,
          17.261904761904763,
          16.488888888888887,
          16.822222222222223,
          15.979166666666666,
          16.25,
          16.163265306122447,
          16,
          16.294117647058822,
          16.294117647058822,
          16.71153846153846,
          16.846153846153847,
          17.0188679245283,
          17.132075471698112,
          16.410714285714285,
          16.43859649122807,
          16.57894736842105,
          17.714285714285715,
          17.54385964912281,
          17.1864406779661,
          17.491525423728813,
          17.4
         ],
         "yaxis": "y"
        },
        {
         "hovertemplate": "<b>%{hovertext}</b><br><br>title=Classification ➡️ Comparing Different Algorithms<br>date=%{x}<br>Views per upvote=%{y}<extra></extra>",
         "hovertext": [
          "Classification ➡️ Comparing Different Algorithms",
          "Classification ➡️ Comparing Different Algorithms",
          "Classification ➡️ Comparing Different Algorithms",
          "Classification ➡️ Comparing Different Algorithms",
          "Classification ➡️ Comparing Different Algorithms",
          "Classification ➡️ Comparing Different Algorithms",
          "Classification ➡️ Comparing Different Algorithms",
          "Classification ➡️ Comparing Different Algorithms",
          "Classification ➡️ Comparing Different Algorithms",
          "Classification ➡️ Comparing Different Algorithms",
          "Classification ➡️ Comparing Different Algorithms",
          "Classification ➡️ Comparing Different Algorithms",
          "Classification ➡️ Comparing Different Algorithms",
          "Classification ➡️ Comparing Different Algorithms",
          "Classification ➡️ Comparing Different Algorithms",
          "Classification ➡️ Comparing Different Algorithms",
          "Classification ➡️ Comparing Different Algorithms",
          "Classification ➡️ Comparing Different Algorithms",
          "Classification ➡️ Comparing Different Algorithms",
          "Classification ➡️ Comparing Different Algorithms",
          "Classification ➡️ Comparing Different Algorithms",
          "Classification ➡️ Comparing Different Algorithms",
          "Classification ➡️ Comparing Different Algorithms",
          "Classification ➡️ Comparing Different Algorithms",
          "Classification ➡️ Comparing Different Algorithms",
          "Classification ➡️ Comparing Different Algorithms",
          "Classification ➡️ Comparing Different Algorithms",
          "Classification ➡️ Comparing Different Algorithms",
          "Classification ➡️ Comparing Different Algorithms"
         ],
         "legendgroup": "Classification ➡️ Comparing Different Algorithms",
         "line": {
          "color": "#00cc96",
          "dash": "solid"
         },
         "marker": {
          "symbol": "circle"
         },
         "mode": "lines",
         "name": "Classification ➡️ Comparing Different Algorithms",
         "orientation": "v",
         "showlegend": true,
         "type": "scatter",
         "x": [
          "2022-08-01",
          "2022-08-03",
          "2022-08-05",
          "2022-08-06",
          "2022-08-08",
          "2022-08-10",
          "2022-08-12",
          "2022-08-14",
          "2022-08-16",
          "2022-08-17",
          "2022-08-18",
          "2022-08-19",
          "2022-08-20",
          "2022-08-21",
          "2022-08-22",
          "2022-08-23",
          "2022-08-24",
          "2022-08-25",
          "2022-08-26",
          "2022-08-27",
          "2022-08-28",
          "2022-08-29",
          "2022-08-30",
          "2022-08-31",
          "2022-09-03",
          "2022-09-04",
          "2022-09-05",
          "2022-09-06",
          "2022-09-07"
         ],
         "xaxis": "x",
         "y": [
          13.166666666666666,
          9.882352941176471,
          13.24,
          14.4375,
          14.088235294117647,
          17.69047619047619,
          22.044444444444444,
          21.661016949152543,
          22.476190476190474,
          23.047619047619047,
          22.865671641791046,
          23.044776119402986,
          22.63768115942029,
          23.043478260869566,
          22.985714285714284,
          23.070422535211268,
          23.070422535211268,
          23.136986301369863,
          23.301369863013697,
          23.794520547945204,
          24.246575342465754,
          24.175675675675677,
          24.506666666666668,
          24.473684210526315,
          25.92,
          26.066666666666666,
          25.960526315789473,
          25.39240506329114,
          25.59493670886076
         ],
         "yaxis": "y"
        },
        {
         "hovertemplate": "<b>%{hovertext}</b><br><br>title=House Price Prediction with Stacking & Ensembling<br>date=%{x}<br>Views per upvote=%{y}<extra></extra>",
         "hovertext": [
          "House Price Prediction with Stacking & Ensembling",
          "House Price Prediction with Stacking & Ensembling",
          "House Price Prediction with Stacking & Ensembling",
          "House Price Prediction with Stacking & Ensembling",
          "House Price Prediction with Stacking & Ensembling",
          "House Price Prediction with Stacking & Ensembling",
          "House Price Prediction with Stacking & Ensembling",
          "House Price Prediction with Stacking & Ensembling",
          "House Price Prediction with Stacking & Ensembling",
          "House Price Prediction with Stacking & Ensembling",
          "House Price Prediction with Stacking & Ensembling",
          "House Price Prediction with Stacking & Ensembling",
          "House Price Prediction with Stacking & Ensembling",
          "House Price Prediction with Stacking & Ensembling",
          "House Price Prediction with Stacking & Ensembling",
          "House Price Prediction with Stacking & Ensembling",
          "House Price Prediction with Stacking & Ensembling",
          "House Price Prediction with Stacking & Ensembling",
          "House Price Prediction with Stacking & Ensembling",
          "House Price Prediction with Stacking & Ensembling"
         ],
         "legendgroup": "House Price Prediction with Stacking & Ensembling",
         "line": {
          "color": "#ab63fa",
          "dash": "solid"
         },
         "marker": {
          "symbol": "circle"
         },
         "mode": "lines",
         "name": "House Price Prediction with Stacking & Ensembling",
         "orientation": "v",
         "showlegend": true,
         "type": "scatter",
         "x": [
          "2022-08-17",
          "2022-08-18",
          "2022-08-19",
          "2022-08-20",
          "2022-08-21",
          "2022-08-22",
          "2022-08-23",
          "2022-08-24",
          "2022-08-25",
          "2022-08-26",
          "2022-08-27",
          "2022-08-28",
          "2022-08-29",
          "2022-08-30",
          "2022-08-31",
          "2022-09-03",
          "2022-09-04",
          "2022-09-05",
          "2022-09-06",
          "2022-09-07"
         ],
         "xaxis": "x",
         "y": [
          7.857142857142857,
          12.4,
          11.333333333333334,
          12.466666666666667,
          11.588235294117647,
          12.210526315789474,
          15.45,
          15.45,
          20.208333333333332,
          20.846153846153847,
          25.444444444444443,
          25.82758620689655,
          25.870967741935484,
          28.375,
          30.21875,
          31.63888888888889,
          31.35135135135135,
          30.175,
          30.4390243902439,
          29.72093023255814
         ],
         "yaxis": "y"
        },
        {
         "hovertemplate": "<b>%{hovertext}</b><br><br>title=XGBoost | Wrangling with Hyperparameters | Guide<br>date=%{x}<br>Views per upvote=%{y}<extra></extra>",
         "hovertext": [
          "XGBoost | Wrangling with Hyperparameters | Guide",
          "XGBoost | Wrangling with Hyperparameters | Guide",
          "XGBoost | Wrangling with Hyperparameters | Guide",
          "XGBoost | Wrangling with Hyperparameters | Guide",
          "XGBoost | Wrangling with Hyperparameters | Guide",
          "XGBoost | Wrangling with Hyperparameters | Guide",
          "XGBoost | Wrangling with Hyperparameters | Guide",
          "XGBoost | Wrangling with Hyperparameters | Guide",
          "XGBoost | Wrangling with Hyperparameters | Guide",
          "XGBoost | Wrangling with Hyperparameters | Guide",
          "XGBoost | Wrangling with Hyperparameters | Guide",
          "XGBoost | Wrangling with Hyperparameters | Guide",
          "XGBoost | Wrangling with Hyperparameters | Guide",
          "XGBoost | Wrangling with Hyperparameters | Guide",
          "XGBoost | Wrangling with Hyperparameters | Guide",
          "XGBoost | Wrangling with Hyperparameters | Guide",
          "XGBoost | Wrangling with Hyperparameters | Guide",
          "XGBoost | Wrangling with Hyperparameters | Guide",
          "XGBoost | Wrangling with Hyperparameters | Guide",
          "XGBoost | Wrangling with Hyperparameters | Guide"
         ],
         "legendgroup": "XGBoost | Wrangling with Hyperparameters | Guide",
         "line": {
          "color": "#FFA15A",
          "dash": "solid"
         },
         "marker": {
          "symbol": "circle"
         },
         "mode": "lines",
         "name": "XGBoost | Wrangling with Hyperparameters | Guide",
         "orientation": "v",
         "showlegend": true,
         "type": "scatter",
         "x": [
          "2022-08-17",
          "2022-08-18",
          "2022-08-19",
          "2022-08-20",
          "2022-08-21",
          "2022-08-22",
          "2022-08-23",
          "2022-08-24",
          "2022-08-25",
          "2022-08-26",
          "2022-08-27",
          "2022-08-28",
          "2022-08-29",
          "2022-08-30",
          "2022-08-31",
          "2022-09-03",
          "2022-09-04",
          "2022-09-05",
          "2022-09-06",
          "2022-09-07"
         ],
         "xaxis": "x",
         "y": [
          10,
          28.875,
          34.970588235294116,
          38.01538461538462,
          39.21739130434783,
          40.183098591549296,
          40.26190476190476,
          40.26190476190476,
          41.94252873563219,
          42.59770114942529,
          43.03333333333333,
          42.526881720430104,
          42.083333333333336,
          41.445544554455445,
          41.40384615384615,
          42.55555555555556,
          42.97222222222222,
          43.31192660550459,
          42.80357142857143,
          42.95575221238938
         ],
         "yaxis": "y"
        },
        {
         "hovertemplate": "<b>%{hovertext}</b><br><br>title=🗓 Intro to Time Series Analysis 🔺  Forecasting🔻<br>date=%{x}<br>Views per upvote=%{y}<extra></extra>",
         "hovertext": [
          "🗓 Intro to Time Series Analysis 🔺  Forecasting🔻",
          "🗓 Intro to Time Series Analysis 🔺  Forecasting🔻",
          "🗓 Intro to Time Series Analysis 🔺  Forecasting🔻",
          "🗓 Intro to Time Series Analysis 🔺  Forecasting🔻",
          "🗓 Intro to Time Series Analysis 🔺  Forecasting🔻"
         ],
         "legendgroup": "🗓 Intro to Time Series Analysis 🔺  Forecasting🔻",
         "line": {
          "color": "#19d3f3",
          "dash": "solid"
         },
         "marker": {
          "symbol": "circle"
         },
         "mode": "lines",
         "name": "🗓 Intro to Time Series Analysis 🔺  Forecasting🔻",
         "orientation": "v",
         "showlegend": true,
         "type": "scatter",
         "x": [
          "2022-09-03",
          "2022-09-04",
          "2022-09-05",
          "2022-09-06",
          "2022-09-07"
         ],
         "xaxis": "x",
         "y": [
          3,
          16.90909090909091,
          18,
          20.058823529411764,
          22.646153846153847
         ],
         "yaxis": "y"
        },
        {
         "hovertemplate": "<b>%{hovertext}</b><br><br>title=🔮 LSTM 🗓️ Time Series Forecasting 📆<br>date=%{x}<br>Views per upvote=%{y}<extra></extra>",
         "hovertext": [
          "🔮 LSTM 🗓️ Time Series Forecasting 📆",
          "🔮 LSTM 🗓️ Time Series Forecasting 📆",
          "🔮 LSTM 🗓️ Time Series Forecasting 📆",
          "🔮 LSTM 🗓️ Time Series Forecasting 📆",
          "🔮 LSTM 🗓️ Time Series Forecasting 📆"
         ],
         "legendgroup": "🔮 LSTM 🗓️ Time Series Forecasting 📆",
         "line": {
          "color": "#FF6692",
          "dash": "solid"
         },
         "marker": {
          "symbol": "circle"
         },
         "mode": "lines",
         "name": "🔮 LSTM 🗓️ Time Series Forecasting 📆",
         "orientation": "v",
         "showlegend": true,
         "type": "scatter",
         "x": [
          "2022-09-03",
          "2022-09-04",
          "2022-09-05",
          "2022-09-06",
          "2022-09-07"
         ],
         "xaxis": "x",
         "y": [
          1,
          7.181818181818182,
          6,
          6.545454545454546,
          6.818181818181818
         ],
         "yaxis": "y"
        }
       ],
       "layout": {
        "height": 800,
        "legend": {
         "title": {
          "text": "title"
         },
         "tracegroupgap": 0
        },
        "template": {
         "data": {
          "bar": [
           {
            "error_x": {
             "color": "#f2f5fa"
            },
            "error_y": {
             "color": "#f2f5fa"
            },
            "marker": {
             "line": {
              "color": "rgb(17,17,17)",
              "width": 0.5
             },
             "pattern": {
              "fillmode": "overlay",
              "size": 10,
              "solidity": 0.2
             }
            },
            "type": "bar"
           }
          ],
          "barpolar": [
           {
            "marker": {
             "line": {
              "color": "rgb(17,17,17)",
              "width": 0.5
             },
             "pattern": {
              "fillmode": "overlay",
              "size": 10,
              "solidity": 0.2
             }
            },
            "type": "barpolar"
           }
          ],
          "carpet": [
           {
            "aaxis": {
             "endlinecolor": "#A2B1C6",
             "gridcolor": "#506784",
             "linecolor": "#506784",
             "minorgridcolor": "#506784",
             "startlinecolor": "#A2B1C6"
            },
            "baxis": {
             "endlinecolor": "#A2B1C6",
             "gridcolor": "#506784",
             "linecolor": "#506784",
             "minorgridcolor": "#506784",
             "startlinecolor": "#A2B1C6"
            },
            "type": "carpet"
           }
          ],
          "choropleth": [
           {
            "colorbar": {
             "outlinewidth": 0,
             "ticks": ""
            },
            "type": "choropleth"
           }
          ],
          "contour": [
           {
            "colorbar": {
             "outlinewidth": 0,
             "ticks": ""
            },
            "colorscale": [
             [
              0,
              "#0d0887"
             ],
             [
              0.1111111111111111,
              "#46039f"
             ],
             [
              0.2222222222222222,
              "#7201a8"
             ],
             [
              0.3333333333333333,
              "#9c179e"
             ],
             [
              0.4444444444444444,
              "#bd3786"
             ],
             [
              0.5555555555555556,
              "#d8576b"
             ],
             [
              0.6666666666666666,
              "#ed7953"
             ],
             [
              0.7777777777777778,
              "#fb9f3a"
             ],
             [
              0.8888888888888888,
              "#fdca26"
             ],
             [
              1,
              "#f0f921"
             ]
            ],
            "type": "contour"
           }
          ],
          "contourcarpet": [
           {
            "colorbar": {
             "outlinewidth": 0,
             "ticks": ""
            },
            "type": "contourcarpet"
           }
          ],
          "heatmap": [
           {
            "colorbar": {
             "outlinewidth": 0,
             "ticks": ""
            },
            "colorscale": [
             [
              0,
              "#0d0887"
             ],
             [
              0.1111111111111111,
              "#46039f"
             ],
             [
              0.2222222222222222,
              "#7201a8"
             ],
             [
              0.3333333333333333,
              "#9c179e"
             ],
             [
              0.4444444444444444,
              "#bd3786"
             ],
             [
              0.5555555555555556,
              "#d8576b"
             ],
             [
              0.6666666666666666,
              "#ed7953"
             ],
             [
              0.7777777777777778,
              "#fb9f3a"
             ],
             [
              0.8888888888888888,
              "#fdca26"
             ],
             [
              1,
              "#f0f921"
             ]
            ],
            "type": "heatmap"
           }
          ],
          "heatmapgl": [
           {
            "colorbar": {
             "outlinewidth": 0,
             "ticks": ""
            },
            "colorscale": [
             [
              0,
              "#0d0887"
             ],
             [
              0.1111111111111111,
              "#46039f"
             ],
             [
              0.2222222222222222,
              "#7201a8"
             ],
             [
              0.3333333333333333,
              "#9c179e"
             ],
             [
              0.4444444444444444,
              "#bd3786"
             ],
             [
              0.5555555555555556,
              "#d8576b"
             ],
             [
              0.6666666666666666,
              "#ed7953"
             ],
             [
              0.7777777777777778,
              "#fb9f3a"
             ],
             [
              0.8888888888888888,
              "#fdca26"
             ],
             [
              1,
              "#f0f921"
             ]
            ],
            "type": "heatmapgl"
           }
          ],
          "histogram": [
           {
            "marker": {
             "pattern": {
              "fillmode": "overlay",
              "size": 10,
              "solidity": 0.2
             }
            },
            "type": "histogram"
           }
          ],
          "histogram2d": [
           {
            "colorbar": {
             "outlinewidth": 0,
             "ticks": ""
            },
            "colorscale": [
             [
              0,
              "#0d0887"
             ],
             [
              0.1111111111111111,
              "#46039f"
             ],
             [
              0.2222222222222222,
              "#7201a8"
             ],
             [
              0.3333333333333333,
              "#9c179e"
             ],
             [
              0.4444444444444444,
              "#bd3786"
             ],
             [
              0.5555555555555556,
              "#d8576b"
             ],
             [
              0.6666666666666666,
              "#ed7953"
             ],
             [
              0.7777777777777778,
              "#fb9f3a"
             ],
             [
              0.8888888888888888,
              "#fdca26"
             ],
             [
              1,
              "#f0f921"
             ]
            ],
            "type": "histogram2d"
           }
          ],
          "histogram2dcontour": [
           {
            "colorbar": {
             "outlinewidth": 0,
             "ticks": ""
            },
            "colorscale": [
             [
              0,
              "#0d0887"
             ],
             [
              0.1111111111111111,
              "#46039f"
             ],
             [
              0.2222222222222222,
              "#7201a8"
             ],
             [
              0.3333333333333333,
              "#9c179e"
             ],
             [
              0.4444444444444444,
              "#bd3786"
             ],
             [
              0.5555555555555556,
              "#d8576b"
             ],
             [
              0.6666666666666666,
              "#ed7953"
             ],
             [
              0.7777777777777778,
              "#fb9f3a"
             ],
             [
              0.8888888888888888,
              "#fdca26"
             ],
             [
              1,
              "#f0f921"
             ]
            ],
            "type": "histogram2dcontour"
           }
          ],
          "mesh3d": [
           {
            "colorbar": {
             "outlinewidth": 0,
             "ticks": ""
            },
            "type": "mesh3d"
           }
          ],
          "parcoords": [
           {
            "line": {
             "colorbar": {
              "outlinewidth": 0,
              "ticks": ""
             }
            },
            "type": "parcoords"
           }
          ],
          "pie": [
           {
            "automargin": true,
            "type": "pie"
           }
          ],
          "scatter": [
           {
            "marker": {
             "line": {
              "color": "#283442"
             }
            },
            "type": "scatter"
           }
          ],
          "scatter3d": [
           {
            "line": {
             "colorbar": {
              "outlinewidth": 0,
              "ticks": ""
             }
            },
            "marker": {
             "colorbar": {
              "outlinewidth": 0,
              "ticks": ""
             }
            },
            "type": "scatter3d"
           }
          ],
          "scattercarpet": [
           {
            "marker": {
             "colorbar": {
              "outlinewidth": 0,
              "ticks": ""
             }
            },
            "type": "scattercarpet"
           }
          ],
          "scattergeo": [
           {
            "marker": {
             "colorbar": {
              "outlinewidth": 0,
              "ticks": ""
             }
            },
            "type": "scattergeo"
           }
          ],
          "scattergl": [
           {
            "marker": {
             "line": {
              "color": "#283442"
             }
            },
            "type": "scattergl"
           }
          ],
          "scattermapbox": [
           {
            "marker": {
             "colorbar": {
              "outlinewidth": 0,
              "ticks": ""
             }
            },
            "type": "scattermapbox"
           }
          ],
          "scatterpolar": [
           {
            "marker": {
             "colorbar": {
              "outlinewidth": 0,
              "ticks": ""
             }
            },
            "type": "scatterpolar"
           }
          ],
          "scatterpolargl": [
           {
            "marker": {
             "colorbar": {
              "outlinewidth": 0,
              "ticks": ""
             }
            },
            "type": "scatterpolargl"
           }
          ],
          "scatterternary": [
           {
            "marker": {
             "colorbar": {
              "outlinewidth": 0,
              "ticks": ""
             }
            },
            "type": "scatterternary"
           }
          ],
          "surface": [
           {
            "colorbar": {
             "outlinewidth": 0,
             "ticks": ""
            },
            "colorscale": [
             [
              0,
              "#0d0887"
             ],
             [
              0.1111111111111111,
              "#46039f"
             ],
             [
              0.2222222222222222,
              "#7201a8"
             ],
             [
              0.3333333333333333,
              "#9c179e"
             ],
             [
              0.4444444444444444,
              "#bd3786"
             ],
             [
              0.5555555555555556,
              "#d8576b"
             ],
             [
              0.6666666666666666,
              "#ed7953"
             ],
             [
              0.7777777777777778,
              "#fb9f3a"
             ],
             [
              0.8888888888888888,
              "#fdca26"
             ],
             [
              1,
              "#f0f921"
             ]
            ],
            "type": "surface"
           }
          ],
          "table": [
           {
            "cells": {
             "fill": {
              "color": "#506784"
             },
             "line": {
              "color": "rgb(17,17,17)"
             }
            },
            "header": {
             "fill": {
              "color": "#2a3f5f"
             },
             "line": {
              "color": "rgb(17,17,17)"
             }
            },
            "type": "table"
           }
          ]
         },
         "layout": {
          "annotationdefaults": {
           "arrowcolor": "#f2f5fa",
           "arrowhead": 0,
           "arrowwidth": 1
          },
          "autotypenumbers": "strict",
          "coloraxis": {
           "colorbar": {
            "outlinewidth": 0,
            "ticks": ""
           }
          },
          "colorscale": {
           "diverging": [
            [
             0,
             "#8e0152"
            ],
            [
             0.1,
             "#c51b7d"
            ],
            [
             0.2,
             "#de77ae"
            ],
            [
             0.3,
             "#f1b6da"
            ],
            [
             0.4,
             "#fde0ef"
            ],
            [
             0.5,
             "#f7f7f7"
            ],
            [
             0.6,
             "#e6f5d0"
            ],
            [
             0.7,
             "#b8e186"
            ],
            [
             0.8,
             "#7fbc41"
            ],
            [
             0.9,
             "#4d9221"
            ],
            [
             1,
             "#276419"
            ]
           ],
           "sequential": [
            [
             0,
             "#0d0887"
            ],
            [
             0.1111111111111111,
             "#46039f"
            ],
            [
             0.2222222222222222,
             "#7201a8"
            ],
            [
             0.3333333333333333,
             "#9c179e"
            ],
            [
             0.4444444444444444,
             "#bd3786"
            ],
            [
             0.5555555555555556,
             "#d8576b"
            ],
            [
             0.6666666666666666,
             "#ed7953"
            ],
            [
             0.7777777777777778,
             "#fb9f3a"
            ],
            [
             0.8888888888888888,
             "#fdca26"
            ],
            [
             1,
             "#f0f921"
            ]
           ],
           "sequentialminus": [
            [
             0,
             "#0d0887"
            ],
            [
             0.1111111111111111,
             "#46039f"
            ],
            [
             0.2222222222222222,
             "#7201a8"
            ],
            [
             0.3333333333333333,
             "#9c179e"
            ],
            [
             0.4444444444444444,
             "#bd3786"
            ],
            [
             0.5555555555555556,
             "#d8576b"
            ],
            [
             0.6666666666666666,
             "#ed7953"
            ],
            [
             0.7777777777777778,
             "#fb9f3a"
            ],
            [
             0.8888888888888888,
             "#fdca26"
            ],
            [
             1,
             "#f0f921"
            ]
           ]
          },
          "colorway": [
           "#636efa",
           "#EF553B",
           "#00cc96",
           "#ab63fa",
           "#FFA15A",
           "#19d3f3",
           "#FF6692",
           "#B6E880",
           "#FF97FF",
           "#FECB52"
          ],
          "font": {
           "color": "#f2f5fa"
          },
          "geo": {
           "bgcolor": "rgb(17,17,17)",
           "lakecolor": "rgb(17,17,17)",
           "landcolor": "rgb(17,17,17)",
           "showlakes": true,
           "showland": true,
           "subunitcolor": "#506784"
          },
          "hoverlabel": {
           "align": "left"
          },
          "hovermode": "closest",
          "mapbox": {
           "style": "dark"
          },
          "paper_bgcolor": "rgb(17,17,17)",
          "plot_bgcolor": "rgb(17,17,17)",
          "polar": {
           "angularaxis": {
            "gridcolor": "#506784",
            "linecolor": "#506784",
            "ticks": ""
           },
           "bgcolor": "rgb(17,17,17)",
           "radialaxis": {
            "gridcolor": "#506784",
            "linecolor": "#506784",
            "ticks": ""
           }
          },
          "scene": {
           "xaxis": {
            "backgroundcolor": "rgb(17,17,17)",
            "gridcolor": "#506784",
            "gridwidth": 2,
            "linecolor": "#506784",
            "showbackground": true,
            "ticks": "",
            "zerolinecolor": "#C8D4E3"
           },
           "yaxis": {
            "backgroundcolor": "rgb(17,17,17)",
            "gridcolor": "#506784",
            "gridwidth": 2,
            "linecolor": "#506784",
            "showbackground": true,
            "ticks": "",
            "zerolinecolor": "#C8D4E3"
           },
           "zaxis": {
            "backgroundcolor": "rgb(17,17,17)",
            "gridcolor": "#506784",
            "gridwidth": 2,
            "linecolor": "#506784",
            "showbackground": true,
            "ticks": "",
            "zerolinecolor": "#C8D4E3"
           }
          },
          "shapedefaults": {
           "line": {
            "color": "#f2f5fa"
           }
          },
          "sliderdefaults": {
           "bgcolor": "#C8D4E3",
           "bordercolor": "rgb(17,17,17)",
           "borderwidth": 1,
           "tickwidth": 0
          },
          "ternary": {
           "aaxis": {
            "gridcolor": "#506784",
            "linecolor": "#506784",
            "ticks": ""
           },
           "baxis": {
            "gridcolor": "#506784",
            "linecolor": "#506784",
            "ticks": ""
           },
           "bgcolor": "rgb(17,17,17)",
           "caxis": {
            "gridcolor": "#506784",
            "linecolor": "#506784",
            "ticks": ""
           }
          },
          "title": {
           "x": 0.05
          },
          "updatemenudefaults": {
           "bgcolor": "#506784",
           "borderwidth": 0
          },
          "xaxis": {
           "automargin": true,
           "gridcolor": "#283442",
           "linecolor": "#506784",
           "ticks": "",
           "title": {
            "standoff": 15
           },
           "zerolinecolor": "#283442",
           "zerolinewidth": 2
          },
          "yaxis": {
           "automargin": true,
           "gridcolor": "#283442",
           "linecolor": "#506784",
           "ticks": "",
           "title": {
            "standoff": 15
           },
           "zerolinecolor": "#283442",
           "zerolinewidth": 2
          }
         }
        },
        "title": {
         "text": "Notebooks by Azmine Wasi - Views per Upvote2022-09-06"
        },
        "xaxis": {
         "anchor": "y",
         "domain": [
          0,
          1
         ],
         "title": {
          "text": "date"
         }
        },
        "yaxis": {
         "anchor": "x",
         "domain": [
          0,
          1
         ],
         "title": {
          "text": "Views per upvote"
         }
        }
       }
      }
     },
     "metadata": {},
     "output_type": "display_data"
    }
   ],
   "source": [
    "df_d['Views per upvote']=df_d['view_count']/df_d['count']\n",
    "fig=px.line(\n",
    "    df_d,\n",
    "    x='date',\n",
    "    y='Views per upvote',\n",
    "    title=f'Notebooks by {df.author_displayName.get(0)} - Views per Upvote'+str(links[-2][25:35]),\n",
    "    log_x=False,\n",
    "    #log_y=True,\n",
    "    line_group='title',\n",
    "    #line_shape='spline',\n",
    "    markers=False,\n",
    "    #width=400, \n",
    "    height=800,\n",
    "    color='title',\n",
    "    template='plotly_dark',\n",
    "    hover_name='title')\n",
    "fig.show()"
   ]
  },
  {
   "cell_type": "code",
   "execution_count": 32,
   "id": "d1d55f26",
   "metadata": {},
   "outputs": [
    {
     "data": {
      "application/vnd.plotly.v1+json": {
       "config": {
        "plotlyServerURL": "https://plot.ly"
       },
       "data": [
        {
         "type": "scatter",
         "x": [
          "2022-06-12",
          "2022-06-13",
          "2022-06-14",
          "2022-06-15",
          "2022-06-16",
          "2022-06-17",
          "2022-06-18",
          "2022-06-19",
          "2022-06-20",
          "2022-06-21",
          "2022-06-22",
          "2022-06-25",
          "2022-06-26",
          "2022-06-28",
          "2022-06-29",
          "2022-07-01",
          "2022-07-02",
          "2022-07-03",
          "2022-07-04",
          "2022-07-05",
          "2022-07-06",
          "2022-07-07",
          "2022-07-11",
          "2022-07-12",
          "2022-07-14",
          "2022-07-15",
          "2022-07-17",
          "2022-07-18",
          "2022-07-21",
          "2022-07-22",
          "2022-07-23",
          "2022-07-24",
          "2022-07-25",
          "2022-07-26",
          "2022-07-29",
          "2022-07-30",
          "2022-07-31",
          "2022-08-01",
          "2022-08-03",
          "2022-08-05",
          "2022-08-06",
          "2022-08-08",
          "2022-08-10",
          "2022-08-12",
          "2022-08-14",
          "2022-08-16",
          "2022-08-17",
          "2022-08-18",
          "2022-08-19",
          "2022-08-20",
          "2022-08-21",
          "2022-08-22",
          "2022-08-23",
          "2022-08-24",
          "2022-08-25",
          "2022-08-26",
          "2022-08-27",
          "2022-08-28",
          "2022-08-29",
          "2022-08-30",
          "2022-08-31",
          "2022-09-03",
          "2022-09-04",
          "2022-09-05",
          "2022-09-06",
          "2022-09-07"
         ],
         "xaxis": "x",
         "y": [
          6875,
          7110,
          7916,
          8673,
          9112,
          9400,
          9637,
          9807,
          10086,
          10436,
          10673,
          11238,
          11456,
          11854,
          12158,
          12678,
          13208,
          13431,
          13640,
          14153,
          14553,
          14685,
          15937,
          16216,
          16950,
          17240,
          17966,
          18117,
          19337,
          19611,
          20124,
          20450,
          20847,
          21231,
          22107,
          22435,
          22908,
          23390,
          23922,
          24925,
          25418,
          25707,
          26769,
          27547,
          28594,
          29323,
          29751,
          30550,
          31777,
          33309,
          33779,
          34234,
          35224,
          35224,
          36291,
          36588,
          37314,
          37702,
          38078,
          38728,
          39103,
          40490,
          40958,
          41906,
          42712,
          43479
         ],
         "yaxis": "y"
        },
        {
         "type": "scatter",
         "x": [
          "2022-06-12",
          "2022-06-13",
          "2022-06-14",
          "2022-06-15",
          "2022-06-16",
          "2022-06-17",
          "2022-06-18",
          "2022-06-19",
          "2022-06-20",
          "2022-06-21",
          "2022-06-22",
          "2022-06-25",
          "2022-06-26",
          "2022-06-28",
          "2022-06-29",
          "2022-07-01",
          "2022-07-02",
          "2022-07-03",
          "2022-07-04",
          "2022-07-05",
          "2022-07-06",
          "2022-07-07",
          "2022-07-11",
          "2022-07-12",
          "2022-07-14",
          "2022-07-15",
          "2022-07-17",
          "2022-07-18",
          "2022-07-21",
          "2022-07-22",
          "2022-07-23",
          "2022-07-24",
          "2022-07-25",
          "2022-07-26",
          "2022-07-29",
          "2022-07-30",
          "2022-07-31",
          "2022-08-01",
          "2022-08-03",
          "2022-08-05",
          "2022-08-06",
          "2022-08-08",
          "2022-08-10",
          "2022-08-12",
          "2022-08-14",
          "2022-08-16",
          "2022-08-17",
          "2022-08-18",
          "2022-08-19",
          "2022-08-20",
          "2022-08-21",
          "2022-08-22",
          "2022-08-23",
          "2022-08-24",
          "2022-08-25",
          "2022-08-26",
          "2022-08-27",
          "2022-08-28",
          "2022-08-29",
          "2022-08-30",
          "2022-08-31",
          "2022-09-03",
          "2022-09-04",
          "2022-09-05",
          "2022-09-06",
          "2022-09-07"
         ],
         "xaxis": "x2",
         "y": [
          322,
          332,
          355,
          373,
          385,
          395,
          403,
          407,
          415,
          423,
          429,
          437,
          442,
          449,
          455,
          476,
          519,
          530,
          537,
          565,
          579,
          585,
          631,
          642,
          668,
          677,
          703,
          715,
          749,
          763,
          771,
          795,
          809,
          814,
          829,
          839,
          851,
          872,
          890,
          920,
          939,
          952,
          993,
          1016,
          1046,
          1088,
          1116,
          1139,
          1175,
          1211,
          1218,
          1228,
          1247,
          1247,
          1264,
          1267,
          1275,
          1281,
          1302,
          1312,
          1316,
          1323,
          1345,
          1404,
          1431,
          1449
         ],
         "yaxis": "y2"
        },
        {
         "type": "scatter",
         "x": [
          "2022-06-12",
          "2022-06-13",
          "2022-06-14",
          "2022-06-15",
          "2022-06-16",
          "2022-06-17",
          "2022-06-18",
          "2022-06-19",
          "2022-06-20",
          "2022-06-21",
          "2022-06-22",
          "2022-06-25",
          "2022-06-26",
          "2022-06-28",
          "2022-06-29",
          "2022-07-01",
          "2022-07-02",
          "2022-07-03",
          "2022-07-04",
          "2022-07-05",
          "2022-07-06",
          "2022-07-07",
          "2022-07-11",
          "2022-07-12",
          "2022-07-14",
          "2022-07-15",
          "2022-07-17",
          "2022-07-18",
          "2022-07-21",
          "2022-07-22",
          "2022-07-23",
          "2022-07-24",
          "2022-07-25",
          "2022-07-26",
          "2022-07-29",
          "2022-07-30",
          "2022-07-31",
          "2022-08-01",
          "2022-08-03",
          "2022-08-05",
          "2022-08-06",
          "2022-08-08",
          "2022-08-10",
          "2022-08-12",
          "2022-08-14",
          "2022-08-16",
          "2022-08-17",
          "2022-08-18",
          "2022-08-19",
          "2022-08-20",
          "2022-08-21",
          "2022-08-22",
          "2022-08-23",
          "2022-08-24",
          "2022-08-25",
          "2022-08-26",
          "2022-08-27",
          "2022-08-28",
          "2022-08-29",
          "2022-08-30",
          "2022-08-31",
          "2022-09-03",
          "2022-09-04",
          "2022-09-05",
          "2022-09-06",
          "2022-09-07"
         ],
         "xaxis": "x3",
         "y": [
          145,
          152,
          155,
          159,
          163,
          165,
          169,
          170,
          175,
          176,
          178,
          180,
          180,
          182,
          183,
          186,
          192,
          194,
          194,
          199,
          203,
          207,
          224,
          228,
          233,
          233,
          239,
          242,
          246,
          251,
          252,
          258,
          258,
          259,
          259,
          261,
          262,
          264,
          269,
          273,
          276,
          276,
          281,
          283,
          293,
          300,
          306,
          310,
          318,
          322,
          322,
          326,
          338,
          338,
          338,
          338,
          341,
          341,
          342,
          343,
          344,
          348,
          350,
          362,
          369,
          372
         ],
         "yaxis": "y3"
        }
       ],
       "layout": {
        "annotations": [
         {
          "font": {
           "size": 16
          },
          "showarrow": false,
          "text": "Views\n",
          "x": 0.14444444444444446,
          "xanchor": "center",
          "xref": "paper",
          "y": 1,
          "yanchor": "bottom",
          "yref": "paper"
         },
         {
          "font": {
           "size": 16
          },
          "showarrow": false,
          "text": "Upvotes\n",
          "x": 0.5,
          "xanchor": "center",
          "xref": "paper",
          "y": 1,
          "yanchor": "bottom",
          "yref": "paper"
         },
         {
          "font": {
           "size": 16
          },
          "showarrow": false,
          "text": "Comments\n",
          "x": 0.8555555555555556,
          "xanchor": "center",
          "xref": "paper",
          "y": 1,
          "yanchor": "bottom",
          "yref": "paper"
         }
        ],
        "showlegend": false,
        "template": {
         "data": {
          "bar": [
           {
            "error_x": {
             "color": "#2a3f5f"
            },
            "error_y": {
             "color": "#2a3f5f"
            },
            "marker": {
             "line": {
              "color": "#E5ECF6",
              "width": 0.5
             },
             "pattern": {
              "fillmode": "overlay",
              "size": 10,
              "solidity": 0.2
             }
            },
            "type": "bar"
           }
          ],
          "barpolar": [
           {
            "marker": {
             "line": {
              "color": "#E5ECF6",
              "width": 0.5
             },
             "pattern": {
              "fillmode": "overlay",
              "size": 10,
              "solidity": 0.2
             }
            },
            "type": "barpolar"
           }
          ],
          "carpet": [
           {
            "aaxis": {
             "endlinecolor": "#2a3f5f",
             "gridcolor": "white",
             "linecolor": "white",
             "minorgridcolor": "white",
             "startlinecolor": "#2a3f5f"
            },
            "baxis": {
             "endlinecolor": "#2a3f5f",
             "gridcolor": "white",
             "linecolor": "white",
             "minorgridcolor": "white",
             "startlinecolor": "#2a3f5f"
            },
            "type": "carpet"
           }
          ],
          "choropleth": [
           {
            "colorbar": {
             "outlinewidth": 0,
             "ticks": ""
            },
            "type": "choropleth"
           }
          ],
          "contour": [
           {
            "colorbar": {
             "outlinewidth": 0,
             "ticks": ""
            },
            "colorscale": [
             [
              0,
              "#0d0887"
             ],
             [
              0.1111111111111111,
              "#46039f"
             ],
             [
              0.2222222222222222,
              "#7201a8"
             ],
             [
              0.3333333333333333,
              "#9c179e"
             ],
             [
              0.4444444444444444,
              "#bd3786"
             ],
             [
              0.5555555555555556,
              "#d8576b"
             ],
             [
              0.6666666666666666,
              "#ed7953"
             ],
             [
              0.7777777777777778,
              "#fb9f3a"
             ],
             [
              0.8888888888888888,
              "#fdca26"
             ],
             [
              1,
              "#f0f921"
             ]
            ],
            "type": "contour"
           }
          ],
          "contourcarpet": [
           {
            "colorbar": {
             "outlinewidth": 0,
             "ticks": ""
            },
            "type": "contourcarpet"
           }
          ],
          "heatmap": [
           {
            "colorbar": {
             "outlinewidth": 0,
             "ticks": ""
            },
            "colorscale": [
             [
              0,
              "#0d0887"
             ],
             [
              0.1111111111111111,
              "#46039f"
             ],
             [
              0.2222222222222222,
              "#7201a8"
             ],
             [
              0.3333333333333333,
              "#9c179e"
             ],
             [
              0.4444444444444444,
              "#bd3786"
             ],
             [
              0.5555555555555556,
              "#d8576b"
             ],
             [
              0.6666666666666666,
              "#ed7953"
             ],
             [
              0.7777777777777778,
              "#fb9f3a"
             ],
             [
              0.8888888888888888,
              "#fdca26"
             ],
             [
              1,
              "#f0f921"
             ]
            ],
            "type": "heatmap"
           }
          ],
          "heatmapgl": [
           {
            "colorbar": {
             "outlinewidth": 0,
             "ticks": ""
            },
            "colorscale": [
             [
              0,
              "#0d0887"
             ],
             [
              0.1111111111111111,
              "#46039f"
             ],
             [
              0.2222222222222222,
              "#7201a8"
             ],
             [
              0.3333333333333333,
              "#9c179e"
             ],
             [
              0.4444444444444444,
              "#bd3786"
             ],
             [
              0.5555555555555556,
              "#d8576b"
             ],
             [
              0.6666666666666666,
              "#ed7953"
             ],
             [
              0.7777777777777778,
              "#fb9f3a"
             ],
             [
              0.8888888888888888,
              "#fdca26"
             ],
             [
              1,
              "#f0f921"
             ]
            ],
            "type": "heatmapgl"
           }
          ],
          "histogram": [
           {
            "marker": {
             "pattern": {
              "fillmode": "overlay",
              "size": 10,
              "solidity": 0.2
             }
            },
            "type": "histogram"
           }
          ],
          "histogram2d": [
           {
            "colorbar": {
             "outlinewidth": 0,
             "ticks": ""
            },
            "colorscale": [
             [
              0,
              "#0d0887"
             ],
             [
              0.1111111111111111,
              "#46039f"
             ],
             [
              0.2222222222222222,
              "#7201a8"
             ],
             [
              0.3333333333333333,
              "#9c179e"
             ],
             [
              0.4444444444444444,
              "#bd3786"
             ],
             [
              0.5555555555555556,
              "#d8576b"
             ],
             [
              0.6666666666666666,
              "#ed7953"
             ],
             [
              0.7777777777777778,
              "#fb9f3a"
             ],
             [
              0.8888888888888888,
              "#fdca26"
             ],
             [
              1,
              "#f0f921"
             ]
            ],
            "type": "histogram2d"
           }
          ],
          "histogram2dcontour": [
           {
            "colorbar": {
             "outlinewidth": 0,
             "ticks": ""
            },
            "colorscale": [
             [
              0,
              "#0d0887"
             ],
             [
              0.1111111111111111,
              "#46039f"
             ],
             [
              0.2222222222222222,
              "#7201a8"
             ],
             [
              0.3333333333333333,
              "#9c179e"
             ],
             [
              0.4444444444444444,
              "#bd3786"
             ],
             [
              0.5555555555555556,
              "#d8576b"
             ],
             [
              0.6666666666666666,
              "#ed7953"
             ],
             [
              0.7777777777777778,
              "#fb9f3a"
             ],
             [
              0.8888888888888888,
              "#fdca26"
             ],
             [
              1,
              "#f0f921"
             ]
            ],
            "type": "histogram2dcontour"
           }
          ],
          "mesh3d": [
           {
            "colorbar": {
             "outlinewidth": 0,
             "ticks": ""
            },
            "type": "mesh3d"
           }
          ],
          "parcoords": [
           {
            "line": {
             "colorbar": {
              "outlinewidth": 0,
              "ticks": ""
             }
            },
            "type": "parcoords"
           }
          ],
          "pie": [
           {
            "automargin": true,
            "type": "pie"
           }
          ],
          "scatter": [
           {
            "fillpattern": {
             "fillmode": "overlay",
             "size": 10,
             "solidity": 0.2
            },
            "type": "scatter"
           }
          ],
          "scatter3d": [
           {
            "line": {
             "colorbar": {
              "outlinewidth": 0,
              "ticks": ""
             }
            },
            "marker": {
             "colorbar": {
              "outlinewidth": 0,
              "ticks": ""
             }
            },
            "type": "scatter3d"
           }
          ],
          "scattercarpet": [
           {
            "marker": {
             "colorbar": {
              "outlinewidth": 0,
              "ticks": ""
             }
            },
            "type": "scattercarpet"
           }
          ],
          "scattergeo": [
           {
            "marker": {
             "colorbar": {
              "outlinewidth": 0,
              "ticks": ""
             }
            },
            "type": "scattergeo"
           }
          ],
          "scattergl": [
           {
            "marker": {
             "colorbar": {
              "outlinewidth": 0,
              "ticks": ""
             }
            },
            "type": "scattergl"
           }
          ],
          "scattermapbox": [
           {
            "marker": {
             "colorbar": {
              "outlinewidth": 0,
              "ticks": ""
             }
            },
            "type": "scattermapbox"
           }
          ],
          "scatterpolar": [
           {
            "marker": {
             "colorbar": {
              "outlinewidth": 0,
              "ticks": ""
             }
            },
            "type": "scatterpolar"
           }
          ],
          "scatterpolargl": [
           {
            "marker": {
             "colorbar": {
              "outlinewidth": 0,
              "ticks": ""
             }
            },
            "type": "scatterpolargl"
           }
          ],
          "scatterternary": [
           {
            "marker": {
             "colorbar": {
              "outlinewidth": 0,
              "ticks": ""
             }
            },
            "type": "scatterternary"
           }
          ],
          "surface": [
           {
            "colorbar": {
             "outlinewidth": 0,
             "ticks": ""
            },
            "colorscale": [
             [
              0,
              "#0d0887"
             ],
             [
              0.1111111111111111,
              "#46039f"
             ],
             [
              0.2222222222222222,
              "#7201a8"
             ],
             [
              0.3333333333333333,
              "#9c179e"
             ],
             [
              0.4444444444444444,
              "#bd3786"
             ],
             [
              0.5555555555555556,
              "#d8576b"
             ],
             [
              0.6666666666666666,
              "#ed7953"
             ],
             [
              0.7777777777777778,
              "#fb9f3a"
             ],
             [
              0.8888888888888888,
              "#fdca26"
             ],
             [
              1,
              "#f0f921"
             ]
            ],
            "type": "surface"
           }
          ],
          "table": [
           {
            "cells": {
             "fill": {
              "color": "#EBF0F8"
             },
             "line": {
              "color": "white"
             }
            },
            "header": {
             "fill": {
              "color": "#C8D4E3"
             },
             "line": {
              "color": "white"
             }
            },
            "type": "table"
           }
          ]
         },
         "layout": {
          "annotationdefaults": {
           "arrowcolor": "#2a3f5f",
           "arrowhead": 0,
           "arrowwidth": 1
          },
          "autotypenumbers": "strict",
          "coloraxis": {
           "colorbar": {
            "outlinewidth": 0,
            "ticks": ""
           }
          },
          "colorscale": {
           "diverging": [
            [
             0,
             "#8e0152"
            ],
            [
             0.1,
             "#c51b7d"
            ],
            [
             0.2,
             "#de77ae"
            ],
            [
             0.3,
             "#f1b6da"
            ],
            [
             0.4,
             "#fde0ef"
            ],
            [
             0.5,
             "#f7f7f7"
            ],
            [
             0.6,
             "#e6f5d0"
            ],
            [
             0.7,
             "#b8e186"
            ],
            [
             0.8,
             "#7fbc41"
            ],
            [
             0.9,
             "#4d9221"
            ],
            [
             1,
             "#276419"
            ]
           ],
           "sequential": [
            [
             0,
             "#0d0887"
            ],
            [
             0.1111111111111111,
             "#46039f"
            ],
            [
             0.2222222222222222,
             "#7201a8"
            ],
            [
             0.3333333333333333,
             "#9c179e"
            ],
            [
             0.4444444444444444,
             "#bd3786"
            ],
            [
             0.5555555555555556,
             "#d8576b"
            ],
            [
             0.6666666666666666,
             "#ed7953"
            ],
            [
             0.7777777777777778,
             "#fb9f3a"
            ],
            [
             0.8888888888888888,
             "#fdca26"
            ],
            [
             1,
             "#f0f921"
            ]
           ],
           "sequentialminus": [
            [
             0,
             "#0d0887"
            ],
            [
             0.1111111111111111,
             "#46039f"
            ],
            [
             0.2222222222222222,
             "#7201a8"
            ],
            [
             0.3333333333333333,
             "#9c179e"
            ],
            [
             0.4444444444444444,
             "#bd3786"
            ],
            [
             0.5555555555555556,
             "#d8576b"
            ],
            [
             0.6666666666666666,
             "#ed7953"
            ],
            [
             0.7777777777777778,
             "#fb9f3a"
            ],
            [
             0.8888888888888888,
             "#fdca26"
            ],
            [
             1,
             "#f0f921"
            ]
           ]
          },
          "colorway": [
           "#636efa",
           "#EF553B",
           "#00cc96",
           "#ab63fa",
           "#FFA15A",
           "#19d3f3",
           "#FF6692",
           "#B6E880",
           "#FF97FF",
           "#FECB52"
          ],
          "font": {
           "color": "#2a3f5f"
          },
          "geo": {
           "bgcolor": "white",
           "lakecolor": "white",
           "landcolor": "#E5ECF6",
           "showlakes": true,
           "showland": true,
           "subunitcolor": "white"
          },
          "hoverlabel": {
           "align": "left"
          },
          "hovermode": "closest",
          "mapbox": {
           "style": "light"
          },
          "paper_bgcolor": "white",
          "plot_bgcolor": "#E5ECF6",
          "polar": {
           "angularaxis": {
            "gridcolor": "white",
            "linecolor": "white",
            "ticks": ""
           },
           "bgcolor": "#E5ECF6",
           "radialaxis": {
            "gridcolor": "white",
            "linecolor": "white",
            "ticks": ""
           }
          },
          "scene": {
           "xaxis": {
            "backgroundcolor": "#E5ECF6",
            "gridcolor": "white",
            "gridwidth": 2,
            "linecolor": "white",
            "showbackground": true,
            "ticks": "",
            "zerolinecolor": "white"
           },
           "yaxis": {
            "backgroundcolor": "#E5ECF6",
            "gridcolor": "white",
            "gridwidth": 2,
            "linecolor": "white",
            "showbackground": true,
            "ticks": "",
            "zerolinecolor": "white"
           },
           "zaxis": {
            "backgroundcolor": "#E5ECF6",
            "gridcolor": "white",
            "gridwidth": 2,
            "linecolor": "white",
            "showbackground": true,
            "ticks": "",
            "zerolinecolor": "white"
           }
          },
          "shapedefaults": {
           "line": {
            "color": "#2a3f5f"
           }
          },
          "ternary": {
           "aaxis": {
            "gridcolor": "white",
            "linecolor": "white",
            "ticks": ""
           },
           "baxis": {
            "gridcolor": "white",
            "linecolor": "white",
            "ticks": ""
           },
           "bgcolor": "#E5ECF6",
           "caxis": {
            "gridcolor": "white",
            "linecolor": "white",
            "ticks": ""
           }
          },
          "title": {
           "x": 0.05
          },
          "xaxis": {
           "automargin": true,
           "gridcolor": "white",
           "linecolor": "white",
           "ticks": "",
           "title": {
            "standoff": 15
           },
           "zerolinecolor": "white",
           "zerolinewidth": 2
          },
          "yaxis": {
           "automargin": true,
           "gridcolor": "white",
           "linecolor": "white",
           "ticks": "",
           "title": {
            "standoff": 15
           },
           "zerolinecolor": "white",
           "zerolinewidth": 2
          }
         }
        },
        "xaxis": {
         "anchor": "y",
         "domain": [
          0,
          0.2888888888888889
         ]
        },
        "xaxis2": {
         "anchor": "y2",
         "domain": [
          0.35555555555555557,
          0.6444444444444445
         ]
        },
        "xaxis3": {
         "anchor": "y3",
         "domain": [
          0.7111111111111111,
          1
         ]
        },
        "yaxis": {
         "anchor": "x",
         "domain": [
          0,
          1
         ]
        },
        "yaxis2": {
         "anchor": "x2",
         "domain": [
          0,
          1
         ]
        },
        "yaxis3": {
         "anchor": "x3",
         "domain": [
          0,
          1
         ]
        }
       }
      }
     },
     "metadata": {},
     "output_type": "display_data"
    }
   ],
   "source": [
    "totals={'date':date_list,\"Upvotes\":gTotalUpvotes,\"Views\":gTotalViews,\"Comments\":gTotalComments}\n",
    "totals=pd.DataFrame(totals)\n",
    "\n",
    "from plotly.subplots import make_subplots\n",
    "import plotly.graph_objects as go\n",
    "\n",
    "fig = make_subplots(rows=1, cols=3, subplot_titles=(\"Views\\n\",\"Upvotes\\n\", \"Comments\\n\"))\n",
    "\n",
    "sns.set(rc={'figure.figsize':(28,6)})\n",
    "\n",
    "\n",
    "fig.add_trace(\n",
    "    go.Scatter(\n",
    "    x=totals['date'],\n",
    "    y=totals['Views']),\n",
    "    row=1, col=1\n",
    ")\n",
    "\n",
    "fig.add_trace(\n",
    "    go.Scatter(\n",
    "    x=totals['date'],\n",
    "    y=totals['Upvotes']),\n",
    "    row=1, col=2\n",
    ")\n",
    "\n",
    "fig.add_trace(\n",
    "    go.Scatter(\n",
    "    x=totals['date'],\n",
    "    y=totals['Comments']),\n",
    "    row=1, col=3\n",
    ")\n",
    "\n",
    "fig.update_layout(showlegend=False)\n",
    "fig.show()"
   ]
  },
  {
   "cell_type": "code",
   "execution_count": 33,
   "id": "93fcffd4",
   "metadata": {},
   "outputs": [
    {
     "data": {
      "text/plain": [
       "array(['UCL ⚽ EDA & Viz ⭐ 2021-22 ⭐ Players & Teams',\n",
       "       'Divorce Prediction & Reasons : XGB,SHAP,RFE,TSNE',\n",
       "       'Advanced Feature Engineering for Classification',\n",
       "       'All Imputation Techniques with Pros and Cons',\n",
       "       'Mastering Bias-Variance Tradeoff ',\n",
       "       '▶️ Lionel Messi 📊 Extended EDA ⚽ Goals ',\n",
       "       '▶️ Cristiano Ronaldo ⚽ Goals  📊 EDA, Analysis',\n",
       "       '📚 Coursera 📉 EDA, Sentiment Analysis 🔴🟢🔵',\n",
       "       'Investment and Financial Analysis  🏭 EPZ',\n",
       "       'ML Foundation ➡️ Cross Validation ✅ All Methods',\n",
       "       'Different Clustering Techniques and Algorithms',\n",
       "       '📆 Daily AQI 🗺️ Scheduled + Dataset 🌪️',\n",
       "       'Classification ➡️ Comparing Different Algorithms',\n",
       "       'House Price Prediction with Stacking & Ensembling',\n",
       "       'XGBoost | Wrangling with Hyperparameters | Guide',\n",
       "       '🗓 Intro to Time Series Analysis 🔺  Forecasting🔻',\n",
       "       '🔮 LSTM 🗓️ Time Series Forecasting 📆'], dtype=object)"
      ]
     },
     "execution_count": 33,
     "metadata": {},
     "output_type": "execute_result"
    }
   ],
   "source": [
    "df_d.title.unique()"
   ]
  },
  {
   "cell_type": "code",
   "execution_count": 34,
   "id": "bb318d7e",
   "metadata": {},
   "outputs": [
    {
     "data": {
      "text/plain": [
       "17"
      ]
     },
     "execution_count": 34,
     "metadata": {},
     "output_type": "execute_result"
    }
   ],
   "source": [
    "len(df_d.title.unique())"
   ]
  }
 ],
 "metadata": {
  "kernelspec": {
   "display_name": "Python 3.9.7 ('base')",
   "language": "python",
   "name": "python3"
  },
  "language_info": {
   "codemirror_mode": {
    "name": "ipython",
    "version": 3
   },
   "file_extension": ".py",
   "mimetype": "text/x-python",
   "name": "python",
   "nbconvert_exporter": "python",
   "pygments_lexer": "ipython3",
   "version": "3.9.7"
  },
  "papermill": {
   "default_parameters": {},
   "duration": 18.651991,
   "end_time": "2022-06-12T00:06:09.640337",
   "environment_variables": {},
   "exception": null,
   "input_path": "__notebook__.ipynb",
   "output_path": "__notebook__.ipynb",
   "parameters": {},
   "start_time": "2022-06-12T00:05:50.988346",
   "version": "2.3.4"
  },
  "vscode": {
   "interpreter": {
    "hash": "5cbe5c8d5a4e4df19ab08f1ca157b6ac51cd16c886bf4a2651a40d0f01930f45"
   }
  }
 },
 "nbformat": 4,
 "nbformat_minor": 5
}
