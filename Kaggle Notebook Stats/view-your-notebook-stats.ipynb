{
 "cells": [
  {
   "cell_type": "markdown",
   "id": "befdf55b",
   "metadata": {
    "papermill": {
     "duration": 0.004574,
     "end_time": "2022-06-12T00:06:01.263406",
     "exception": false,
     "start_time": "2022-06-12T00:06:01.258832",
     "status": "completed"
    },
    "tags": []
   },
   "source": [
    "Similarly, if you want to see view counts on your Kaggle notebooks - you have to increase the view count by one... *until now!* We can spy on the latest view counts (and other stats) by requesting a listing from the Kaggle API...\n",
    "\n",
    "To use this notebook:\n",
    "\n",
    " 1.   Fork this notebook by clicking on Copy and Edit.\n",
    " 2.   Set the username variable to your own username."
   ]
  },
  {
   "cell_type": "code",
   "execution_count": 1,
   "id": "62e7d37a",
   "metadata": {
    "execution": {
     "iopub.execute_input": "2022-06-12T00:06:01.272800Z",
     "iopub.status.busy": "2022-06-12T00:06:01.271910Z",
     "iopub.status.idle": "2022-06-12T00:06:01.284991Z",
     "shell.execute_reply": "2022-06-12T00:06:01.284120Z"
    },
    "papermill": {
     "duration": 0.020102,
     "end_time": "2022-06-12T00:06:01.287120",
     "exception": false,
     "start_time": "2022-06-12T00:06:01.267018",
     "status": "completed"
    },
    "tags": []
   },
   "outputs": [],
   "source": [
    "username = 'azminetoushikwasi'"
   ]
  },
  {
   "cell_type": "code",
   "execution_count": 2,
   "id": "636a7a76",
   "metadata": {
    "_kg_hide-input": true,
    "execution": {
     "iopub.execute_input": "2022-06-12T00:06:01.295765Z",
     "iopub.status.busy": "2022-06-12T00:06:01.295366Z",
     "iopub.status.idle": "2022-06-12T00:06:01.446307Z",
     "shell.execute_reply": "2022-06-12T00:06:01.445254Z"
    },
    "papermill": {
     "duration": 0.158209,
     "end_time": "2022-06-12T00:06:01.448853",
     "exception": false,
     "start_time": "2022-06-12T00:06:01.290644",
     "status": "completed"
    },
    "tags": []
   },
   "outputs": [],
   "source": [
    "from IPython.display import Markdown, display\n",
    "import datetime, requests, json, os, re, sys, time\n",
    "import pandas as pd\n",
    "import numpy as np\n",
    "import math\n",
    "import seaborn as sns\n",
    "import matplotlib.pyplot as plt\n",
    "import warnings\n",
    "warnings.filterwarnings('ignore')\n",
    "\n",
    "pd.set_option('display.max_rows', 500)\n",
    "\n",
    "session = requests.session()\n",
    "profile = session.get('https://www.kaggle.com/' + username)\n",
    "session.headers['x-xsrf-token'] = session.cookies['XSRF-TOKEN']\n",
    "\n",
    "uid = int(re.findall('Kaggle\\.State\\.push\\({.*?\"userId\":(\\d+),', profile.text)[0])\n",
    "count = int(re.findall('\"scriptsSummary\":{.*?\"totalResults\":(\\d+),', profile.text)[0])\n",
    "pages = int(np.ceil(count / 20))"
   ]
  },
  {
   "cell_type": "code",
   "execution_count": 3,
   "id": "0b676f37",
   "metadata": {
    "_kg_hide-input": true,
    "execution": {
     "iopub.execute_input": "2022-06-12T00:06:01.458529Z",
     "iopub.status.busy": "2022-06-12T00:06:01.457924Z",
     "iopub.status.idle": "2022-06-12T00:06:01.465424Z",
     "shell.execute_reply": "2022-06-12T00:06:01.464165Z"
    },
    "papermill": {
     "duration": 0.014946,
     "end_time": "2022-06-12T00:06:01.467432",
     "exception": false,
     "start_time": "2022-06-12T00:06:01.452486",
     "status": "completed"
    },
    "tags": []
   },
   "outputs": [],
   "source": [
    "url = 'https://www.kaggle.com/api/i/kernels.KernelsService/ListKernels'\n",
    "request = {\n",
    "    'kernelFilterCriteria': {\n",
    "        'search': '',\n",
    "        'listRequest': {\n",
    "            'userId': 0,\n",
    "            'sortBy': 'DATE_RUN',\n",
    "            'pageSize': 20,\n",
    "            'group': 'PROFILE',\n",
    "            'page': 1,\n",
    "            'tagIds': '',\n",
    "            'excludeResultsFilesOutputs': False,\n",
    "            'wantOutputFiles': False\n",
    "        }\n",
    "    },\n",
    "    'detailFilterCriteria': {\n",
    "        'deletedAccessBehavior': 'RETURN_NOTHING',\n",
    "        'unauthorizedAccessBehavior': 'RETURN_NOTHING',\n",
    "        'excludeResultsFilesOutputs': False,\n",
    "        'wantOutputFiles': False,\n",
    "        'kernelIds': [],\n",
    "        'outputFileTypes': []\n",
    "    }\n",
    "}"
   ]
  },
  {
   "cell_type": "code",
   "execution_count": 4,
   "id": "6150d2d1",
   "metadata": {
    "_kg_hide-input": true,
    "execution": {
     "iopub.execute_input": "2022-06-12T00:06:01.478891Z",
     "iopub.status.busy": "2022-06-12T00:06:01.478475Z",
     "iopub.status.idle": "2022-06-12T00:06:03.889142Z",
     "shell.execute_reply": "2022-06-12T00:06:03.888184Z"
    },
    "papermill": {
     "duration": 2.421448,
     "end_time": "2022-06-12T00:06:03.892456",
     "exception": false,
     "start_time": "2022-06-12T00:06:01.471008",
     "status": "completed"
    },
    "tags": []
   },
   "outputs": [
    {
     "data": {
      "text/markdown": [
       "\n",
       " - Notebook count: 10\n",
       " - Total views: 9,112\n",
       " - Total comments: 163\n",
       " - Total medals: 10\n",
       " - Total votes: 385\n",
       " - Mean views per vote: 24\n"
      ],
      "text/plain": [
       "<IPython.core.display.Markdown object>"
      ]
     },
     "metadata": {},
     "output_type": "display_data"
    }
   ],
   "source": [
    "request['kernelFilterCriteria']['listRequest']['userId'] = uid\n",
    "\n",
    "dfs = []\n",
    "for page in range(1, pages + 1):\n",
    "    request['kernelFilterCriteria']['listRequest']['page'] = page\n",
    "    data = json.dumps(request, separators=(',', ':'))\n",
    "    res = session.post(url, data=data)\n",
    "    #print(page, res.status_code, len(res.text))\n",
    "    if res.status_code != 200:\n",
    "        break\n",
    "    df = pd.DataFrame(json.loads(res.text)['kernels'])\n",
    "    dfs.append(df)\n",
    "\n",
    "def split_columns(df, col):\n",
    "    values = df.pop(col)\n",
    "    return df.join(values.apply(pd.Series).add_prefix(col + \"_\"))\n",
    "\n",
    "df = pd.concat(dfs, ignore_index=True)\n",
    "df = split_columns(df, 'author')\n",
    "df = split_columns(df, 'dataSources')\n",
    "df = split_columns(df, 'categories')\n",
    "\n",
    "filename = f'{username}-{datetime.datetime.now().strftime(\"%Y-%m-%d\")}.csv'\n",
    "df.to_csv(\"./data/\"+filename, index=False)\n",
    "\n",
    "display(Markdown(f\"\"\"\n",
    " - Notebook count: {df.shape[0]:,.0f}\n",
    " - Total views: {df.totalViews.sum():,.0f}\n",
    " - Total comments: {df.totalComments.sum():,.0f}\n",
    " - Total medals: {df.medal.count():,.0f}\n",
    " - Total votes: {df.totalVotes.sum():,.0f}\n",
    " - Mean views per vote: {df.totalViews.sum() / df.totalVotes.sum():,.0f}\n",
    "\"\"\"))"
   ]
  },
  {
   "cell_type": "code",
   "execution_count": 5,
   "id": "2a8bdd38",
   "metadata": {
    "_kg_hide-input": true,
    "execution": {
     "iopub.execute_input": "2022-06-12T00:06:03.902067Z",
     "iopub.status.busy": "2022-06-12T00:06:03.901217Z",
     "iopub.status.idle": "2022-06-12T00:06:04.049288Z",
     "shell.execute_reply": "2022-06-12T00:06:04.048375Z"
    },
    "papermill": {
     "duration": 0.154913,
     "end_time": "2022-06-12T00:06:04.051346",
     "exception": false,
     "start_time": "2022-06-12T00:06:03.896433",
     "status": "completed"
    },
    "tags": []
   },
   "outputs": [
    {
     "data": {
      "text/markdown": [
       "# Notebooks by Azmine Toushik Wasi"
      ],
      "text/plain": [
       "<IPython.core.display.Markdown object>"
      ]
     },
     "metadata": {},
     "output_type": "display_data"
    },
    {
     "data": {
      "text/html": [
       "<style type=\"text/css\">\n",
       "#T_0811d_row0_col1 {\n",
       "  width: 10em;\n",
       "  height: 80%;\n",
       "  background: linear-gradient(90deg,#4cf 20.6%, transparent 20.6%);\n",
       "}\n",
       "#T_0811d_row0_col2 {\n",
       "  width: 10em;\n",
       "  height: 80%;\n",
       "  background: linear-gradient(90deg,#4cf 16.2%, transparent 16.2%);\n",
       "}\n",
       "#T_0811d_row0_col3, #T_0811d_row1_col2, #T_0811d_row3_col4, #T_0811d_row8_col1 {\n",
       "  width: 10em;\n",
       "  height: 80%;\n",
       "}\n",
       "#T_0811d_row0_col4 {\n",
       "  width: 10em;\n",
       "  height: 80%;\n",
       "  background: linear-gradient(90deg,#4cf 27.3%, transparent 27.3%);\n",
       "}\n",
       "#T_0811d_row1_col1 {\n",
       "  width: 10em;\n",
       "  height: 80%;\n",
       "  background: linear-gradient(90deg,#4cf 7.4%, transparent 7.4%);\n",
       "}\n",
       "#T_0811d_row1_col3 {\n",
       "  width: 10em;\n",
       "  height: 80%;\n",
       "  background: linear-gradient(90deg,#4cf 41.0%, transparent 41.0%);\n",
       "}\n",
       "#T_0811d_row1_col4 {\n",
       "  width: 10em;\n",
       "  height: 80%;\n",
       "  background: linear-gradient(90deg,#4cf 4.5%, transparent 4.5%);\n",
       "}\n",
       "#T_0811d_row2_col1, #T_0811d_row2_col2, #T_0811d_row6_col3, #T_0811d_row7_col4 {\n",
       "  width: 10em;\n",
       "  height: 80%;\n",
       "  background: linear-gradient(90deg,#4cf 50.0%, transparent 50.0%);\n",
       "}\n",
       "#T_0811d_row2_col3 {\n",
       "  width: 10em;\n",
       "  height: 80%;\n",
       "  background: linear-gradient(90deg,#4cf 14.2%, transparent 14.2%);\n",
       "}\n",
       "#T_0811d_row2_col4 {\n",
       "  width: 10em;\n",
       "  height: 80%;\n",
       "  background: linear-gradient(90deg,#4cf 20.5%, transparent 20.5%);\n",
       "}\n",
       "#T_0811d_row3_col1 {\n",
       "  width: 10em;\n",
       "  height: 80%;\n",
       "  background: linear-gradient(90deg,#4cf 7.3%, transparent 7.3%);\n",
       "}\n",
       "#T_0811d_row3_col2 {\n",
       "  width: 10em;\n",
       "  height: 80%;\n",
       "  background: linear-gradient(90deg,#4cf 11.5%, transparent 11.5%);\n",
       "}\n",
       "#T_0811d_row3_col3, #T_0811d_row7_col2 {\n",
       "  width: 10em;\n",
       "  height: 80%;\n",
       "  background: linear-gradient(90deg,#4cf 12.3%, transparent 12.3%);\n",
       "}\n",
       "#T_0811d_row4_col1 {\n",
       "  width: 10em;\n",
       "  height: 80%;\n",
       "  background: linear-gradient(90deg,#4cf 2.6%, transparent 2.6%);\n",
       "}\n",
       "#T_0811d_row4_col2 {\n",
       "  width: 10em;\n",
       "  height: 80%;\n",
       "  background: linear-gradient(90deg,#4cf 6.9%, transparent 6.9%);\n",
       "}\n",
       "#T_0811d_row4_col3 {\n",
       "  width: 10em;\n",
       "  height: 80%;\n",
       "  background: linear-gradient(90deg,#4cf 33.8%, transparent 33.8%);\n",
       "}\n",
       "#T_0811d_row4_col4 {\n",
       "  width: 10em;\n",
       "  height: 80%;\n",
       "  background: linear-gradient(90deg,#4cf 11.4%, transparent 11.4%);\n",
       "}\n",
       "#T_0811d_row5_col1 {\n",
       "  width: 10em;\n",
       "  height: 80%;\n",
       "  background: linear-gradient(90deg,#4cf 6.7%, transparent 6.7%);\n",
       "}\n",
       "#T_0811d_row5_col2 {\n",
       "  width: 10em;\n",
       "  height: 80%;\n",
       "  background: linear-gradient(90deg,#4cf 10.0%, transparent 10.0%);\n",
       "}\n",
       "#T_0811d_row5_col3 {\n",
       "  width: 10em;\n",
       "  height: 80%;\n",
       "  background: linear-gradient(90deg,#4cf 13.8%, transparent 13.8%);\n",
       "}\n",
       "#T_0811d_row5_col4, #T_0811d_row8_col4 {\n",
       "  width: 10em;\n",
       "  height: 80%;\n",
       "  background: linear-gradient(90deg,#4cf 18.2%, transparent 18.2%);\n",
       "}\n",
       "#T_0811d_row6_col1 {\n",
       "  width: 10em;\n",
       "  height: 80%;\n",
       "  background: linear-gradient(90deg,#4cf 1.8%, transparent 1.8%);\n",
       "}\n",
       "#T_0811d_row6_col2 {\n",
       "  width: 10em;\n",
       "  height: 80%;\n",
       "  background: linear-gradient(90deg,#4cf 3.8%, transparent 3.8%);\n",
       "}\n",
       "#T_0811d_row6_col4 {\n",
       "  width: 10em;\n",
       "  height: 80%;\n",
       "  background: linear-gradient(90deg,#4cf 22.7%, transparent 22.7%);\n",
       "}\n",
       "#T_0811d_row7_col1 {\n",
       "  width: 10em;\n",
       "  height: 80%;\n",
       "  background: linear-gradient(90deg,#4cf 34.4%, transparent 34.4%);\n",
       "}\n",
       "#T_0811d_row7_col3 {\n",
       "  width: 10em;\n",
       "  height: 80%;\n",
       "  background: linear-gradient(90deg,#4cf 1.6%, transparent 1.6%);\n",
       "}\n",
       "#T_0811d_row8_col2 {\n",
       "  width: 10em;\n",
       "  height: 80%;\n",
       "  background: linear-gradient(90deg,#4cf 3.1%, transparent 3.1%);\n",
       "}\n",
       "#T_0811d_row8_col3 {\n",
       "  width: 10em;\n",
       "  height: 80%;\n",
       "  background: linear-gradient(90deg,#4cf 2.5%, transparent 2.5%);\n",
       "}\n",
       "#T_0811d_row9_col1, #T_0811d_row9_col2 {\n",
       "  width: 10em;\n",
       "  height: 80%;\n",
       "  background: linear-gradient(90deg,#4cf 5.4%, transparent 5.4%);\n",
       "}\n",
       "#T_0811d_row9_col3 {\n",
       "  width: 10em;\n",
       "  height: 80%;\n",
       "  background: linear-gradient(90deg,#4cf 29.8%, transparent 29.8%);\n",
       "}\n",
       "#T_0811d_row9_col4 {\n",
       "  width: 10em;\n",
       "  height: 80%;\n",
       "  background: linear-gradient(90deg,#4cf 15.9%, transparent 15.9%);\n",
       "}\n",
       "</style>\n",
       "<table id=\"T_0811d_\">\n",
       "  <thead>\n",
       "    <tr>\n",
       "      <th class=\"col_heading level0 col0\" >title</th>\n",
       "      <th class=\"col_heading level0 col1\" >totalViews</th>\n",
       "      <th class=\"col_heading level0 col2\" >totalVotes</th>\n",
       "      <th class=\"col_heading level0 col3\" >totalLines</th>\n",
       "      <th class=\"col_heading level0 col4\" >totalComments</th>\n",
       "    </tr>\n",
       "  </thead>\n",
       "  <tbody>\n",
       "    <tr>\n",
       "      <td id=\"T_0811d_row0_col0\" class=\"data row0 col0\" ><a href=\"https://www.kaggle.com/code/azminetoushikwasi/lionel-messi-extended-eda-goals\"  title=\"Language: Python\n",
       "Medal: SILVER\n",
       "Last run: Thu Jun 16 09:27:26 2022\n",
       "Runtime: 41s\n",
       "Views per vote: 25\">▶️ Lionel Messi 📊 Extended EDA ⚽ Goals </a></td>\n",
       "      <td id=\"T_0811d_row0_col1\" class=\"data row0 col1\" >1,146</td>\n",
       "      <td id=\"T_0811d_row0_col2\" class=\"data row0 col2\" >44</td>\n",
       "      <td id=\"T_0811d_row0_col3\" class=\"data row0 col3\" >262</td>\n",
       "      <td id=\"T_0811d_row0_col4\" class=\"data row0 col4\" >20</td>\n",
       "    </tr>\n",
       "    <tr>\n",
       "      <td id=\"T_0811d_row1_col0\" class=\"data row1 col0\" ><a href=\"https://www.kaggle.com/code/azminetoushikwasi/ucl-eda-viz-2021-22-players-teams\"  title=\"Language: Python\n",
       "Medal: SILVER\n",
       "Last run: Wed Jun 15 04:45:57 2022\n",
       "Runtime: 52s\n",
       "Views per vote: 29\">UCL ⚽ EDA & Viz ⭐ 2021-22 ⭐ Players & Teams</a></td>\n",
       "      <td id=\"T_0811d_row1_col1\" class=\"data row1 col1\" >702</td>\n",
       "      <td id=\"T_0811d_row1_col2\" class=\"data row1 col2\" >23</td>\n",
       "      <td id=\"T_0811d_row1_col3\" class=\"data row1 col3\" >536</td>\n",
       "      <td id=\"T_0811d_row1_col4\" class=\"data row1 col4\" >10</td>\n",
       "    </tr>\n",
       "    <tr>\n",
       "      <td id=\"T_0811d_row2_col0\" class=\"data row2 col0\" ><a href=\"https://www.kaggle.com/code/azminetoushikwasi/intro-to-imputation-different-techniques\"  title=\"Language: Python\n",
       "Medal: GOLD\n",
       "Last run: Tue Jun 14 09:44:41 2022\n",
       "Runtime: 88s\n",
       "Views per vote: 24\">➡️ Intro to Imputation 🔍 Different Techniques</a></td>\n",
       "      <td id=\"T_0811d_row2_col1\" class=\"data row2 col1\" >2,132</td>\n",
       "      <td id=\"T_0811d_row2_col2\" class=\"data row2 col2\" >88</td>\n",
       "      <td id=\"T_0811d_row2_col3\" class=\"data row2 col3\" >357</td>\n",
       "      <td id=\"T_0811d_row2_col4\" class=\"data row2 col4\" >17</td>\n",
       "    </tr>\n",
       "    <tr>\n",
       "      <td id=\"T_0811d_row3_col0\" class=\"data row3 col0\" ><a href=\"https://www.kaggle.com/code/azminetoushikwasi/07-cross-validation-methods-tutorial\"  title=\"Language: Python\n",
       "Medal: SILVER\n",
       "Last run: Tue Jun 14 09:41:59 2022\n",
       "Runtime: 68s\n",
       "Views per vote: 18\">✅ 07 Cross Validation Methods ➡️ Tutorial 📊</a></td>\n",
       "      <td id=\"T_0811d_row3_col1\" class=\"data row3 col1\" >698</td>\n",
       "      <td id=\"T_0811d_row3_col2\" class=\"data row3 col2\" >38</td>\n",
       "      <td id=\"T_0811d_row3_col3\" class=\"data row3 col3\" >344</td>\n",
       "      <td id=\"T_0811d_row3_col4\" class=\"data row3 col4\" >8</td>\n",
       "    </tr>\n",
       "    <tr>\n",
       "      <td id=\"T_0811d_row4_col0\" class=\"data row4 col0\" ><a href=\"https://www.kaggle.com/code/azminetoushikwasi/divorce-xgboost-pca-analysis-with-shap-tsne\"  title=\"Language: Python\n",
       "Medal: SILVER\n",
       "Last run: Wed Jun  8 10:16:51 2022\n",
       "Runtime: 110s\n",
       "Views per vote: 16\">Divorce 💥 XGBoost 📊 PCA Analysis with SHAP,TSNE</a></td>\n",
       "      <td id=\"T_0811d_row4_col1\" class=\"data row4 col1\" >540</td>\n",
       "      <td id=\"T_0811d_row4_col2\" class=\"data row4 col2\" >32</td>\n",
       "      <td id=\"T_0811d_row4_col3\" class=\"data row4 col3\" >488</td>\n",
       "      <td id=\"T_0811d_row4_col4\" class=\"data row4 col4\" >13</td>\n",
       "    </tr>\n",
       "    <tr>\n",
       "      <td id=\"T_0811d_row5_col0\" class=\"data row5 col0\" ><a href=\"https://www.kaggle.com/code/azminetoushikwasi/feature-engineering-tutorial-housing-data\"  title=\"Language: Python\n",
       "Medal: SILVER\n",
       "Last run: Mon Jun  6 09:14:09 2022\n",
       "Runtime: 97s\n",
       "Views per vote: 18\">🛠 Feature Engineering ➡️ Tutorial  ⚙ Housing Data</a></td>\n",
       "      <td id=\"T_0811d_row5_col1\" class=\"data row5 col1\" >680</td>\n",
       "      <td id=\"T_0811d_row5_col2\" class=\"data row5 col2\" >36</td>\n",
       "      <td id=\"T_0811d_row5_col3\" class=\"data row5 col3\" >354</td>\n",
       "      <td id=\"T_0811d_row5_col4\" class=\"data row5 col4\" >16</td>\n",
       "    </tr>\n",
       "    <tr>\n",
       "      <td id=\"T_0811d_row6_col0\" class=\"data row6 col0\" ><a href=\"https://www.kaggle.com/code/azminetoushikwasi/bias-variance-tradeoff-with-numpy-seaborn\"  title=\"Language: Python\n",
       "Medal: SILVER\n",
       "Last run: Wed Jun  1 19:00:46 2022\n",
       "Runtime: 47s\n",
       "Views per vote: 18\">📋 Bias-Variance Tradeoff ➡️ with NumPy & Seaborn</a></td>\n",
       "      <td id=\"T_0811d_row6_col1\" class=\"data row6 col1\" >516</td>\n",
       "      <td id=\"T_0811d_row6_col2\" class=\"data row6 col2\" >28</td>\n",
       "      <td id=\"T_0811d_row6_col3\" class=\"data row6 col3\" >596</td>\n",
       "      <td id=\"T_0811d_row6_col4\" class=\"data row6 col4\" >18</td>\n",
       "    </tr>\n",
       "    <tr>\n",
       "      <td id=\"T_0811d_row7_col0\" class=\"data row7 col0\" ><a href=\"https://www.kaggle.com/code/azminetoushikwasi/cristiano-ronaldo-extended-eda-goals\"  title=\"Language: Python\n",
       "Medal: SILVER\n",
       "Last run: Tue May 31 07:51:02 2022\n",
       "Runtime: 74s\n",
       "Views per vote: 40\">▶️ Cristiano Ronaldo 📊 Extended EDA ⚽ Goals </a></td>\n",
       "      <td id=\"T_0811d_row7_col1\" class=\"data row7 col1\" >1,610</td>\n",
       "      <td id=\"T_0811d_row7_col2\" class=\"data row7 col2\" >39</td>\n",
       "      <td id=\"T_0811d_row7_col3\" class=\"data row7 col3\" >273</td>\n",
       "      <td id=\"T_0811d_row7_col4\" class=\"data row7 col4\" >30</td>\n",
       "    </tr>\n",
       "    <tr>\n",
       "      <td id=\"T_0811d_row8_col0\" class=\"data row8 col0\" ><a href=\"https://www.kaggle.com/code/azminetoushikwasi/coursera-eda-fe-analysis-insights\"  title=\"Language: Python\n",
       "Medal: SILVER\n",
       "Last run: Sun May 29 07:50:50 2022\n",
       "Runtime: 40s\n",
       "Views per vote: 16\"> 📘 Coursera 📉 EDA, FE 📈 Analysis + Insights 📊</a></td>\n",
       "      <td id=\"T_0811d_row8_col1\" class=\"data row8 col1\" >454</td>\n",
       "      <td id=\"T_0811d_row8_col2\" class=\"data row8 col2\" >27</td>\n",
       "      <td id=\"T_0811d_row8_col3\" class=\"data row8 col3\" >279</td>\n",
       "      <td id=\"T_0811d_row8_col4\" class=\"data row8 col4\" >16</td>\n",
       "    </tr>\n",
       "    <tr>\n",
       "      <td id=\"T_0811d_row9_col0\" class=\"data row9 col0\" ><a href=\"https://www.kaggle.com/code/azminetoushikwasi/export-processing-zones-eda-statistical-analysis\"  title=\"Language: Python\n",
       "Medal: SILVER\n",
       "Last run: Fri May 27 02:34:12 2022\n",
       "Runtime: 79s\n",
       "Views per vote: 20\">Export Processing Zones - EDA+Statistical Analysis</a></td>\n",
       "      <td id=\"T_0811d_row9_col1\" class=\"data row9 col1\" >634</td>\n",
       "      <td id=\"T_0811d_row9_col2\" class=\"data row9 col2\" >30</td>\n",
       "      <td id=\"T_0811d_row9_col3\" class=\"data row9 col3\" >461</td>\n",
       "      <td id=\"T_0811d_row9_col4\" class=\"data row9 col4\" >15</td>\n",
       "    </tr>\n",
       "  </tbody>\n",
       "</table>\n"
      ],
      "text/plain": [
       "<pandas.io.formats.style.Styler at 0x25ebf33ad60>"
      ]
     },
     "execution_count": 5,
     "metadata": {},
     "output_type": "execute_result"
    }
   ],
   "source": [
    "display(Markdown(f'# Notebooks by {df.author_displayName.get(0)}'))\n",
    "df['viewsPerVote'] = df.eval('(totalViews+1)/(totalVotes+1)')\n",
    "df['lastRun'] = pd.to_datetime(df.lastRunTime).dt.strftime('%c')\n",
    "stats = ['totalViews', 'totalVotes', 'totalLines', 'totalComments']\n",
    "links = ('<a href=\"https://www.kaggle.com' + df.scriptUrl + '\" '\n",
    "         + ' title=\"'\n",
    "         + 'Language: ' + df.languageName.fillna('N/A') + '\\n'\n",
    "         + 'Medal: ' + df.medal.fillna('N/A') + '\\n'\n",
    "         + 'Last run: ' + df.lastRun + '\\n'\n",
    "         + 'Runtime: ' + df.lastRunExecutionTimeSeconds.map(str) + 's' + '\\n'\n",
    "         + 'Views per vote: ' + df.eval('(totalViews+1)/(totalVotes+1)').apply(lambda x: f'{x:,.0f}')\n",
    "         + '\">' # end title=\"...\"\n",
    "         + df.title\n",
    "         + '</a>')\n",
    "show = df[['title'] + stats].copy()\n",
    "show['title'] = links\n",
    "show.style.format({k:'{:,.0f}' for k in stats}, na_rep=\"\").hide_index().bar(width=50, color='#4cf')"
   ]
  },
  {
   "cell_type": "markdown",
   "id": "ad6989db",
   "metadata": {
    "papermill": {
     "duration": 0.006343,
     "end_time": "2022-06-12T00:06:04.064594",
     "exception": false,
     "start_time": "2022-06-12T00:06:04.058251",
     "status": "completed"
    },
    "tags": []
   },
   "source": [
    "# Plotly Scatter Plot\n",
    "\n",
    "You may want to tweak these settings depending on how many notebooks you have...\n"
   ]
  },
  {
   "cell_type": "code",
   "execution_count": 6,
   "id": "b5af83c5",
   "metadata": {
    "_kg_hide-input": true,
    "execution": {
     "iopub.execute_input": "2022-06-12T00:06:04.079824Z",
     "iopub.status.busy": "2022-06-12T00:06:04.079134Z",
     "iopub.status.idle": "2022-06-12T00:06:08.110631Z",
     "shell.execute_reply": "2022-06-12T00:06:08.109685Z"
    },
    "papermill": {
     "duration": 4.041848,
     "end_time": "2022-06-12T00:06:08.112985",
     "exception": false,
     "start_time": "2022-06-12T00:06:04.071137",
     "status": "completed"
    },
    "tags": []
   },
   "outputs": [
    {
     "data": {
      "application/vnd.plotly.v1+json": {
       "config": {
        "plotlyServerURL": "https://plot.ly"
       },
       "data": [
        {
         "customdata": [
          [
           20,
           262,
           20,
           25.488888888888887,
           "Python",
           8,
           "Thu Jun 16 09:27:26 2022",
           41,
           "SILVER"
          ],
          [
           10,
           536,
           10,
           29.291666666666668,
           "Python",
           11,
           "Wed Jun 15 04:45:57 2022",
           52,
           "SILVER"
          ],
          [
           8,
           344,
           8,
           17.923076923076923,
           "Python",
           7,
           "Tue Jun 14 09:41:59 2022",
           68,
           "SILVER"
          ],
          [
           13,
           488,
           13,
           16.393939393939394,
           "Python",
           13,
           "Wed Jun  8 10:16:51 2022",
           110,
           "SILVER"
          ],
          [
           16,
           354,
           16,
           18.405405405405407,
           "Python",
           6,
           "Mon Jun  6 09:14:09 2022",
           97,
           "SILVER"
          ],
          [
           18,
           596,
           18,
           17.82758620689655,
           "Python",
           9,
           "Wed Jun  1 19:00:46 2022",
           47,
           "SILVER"
          ],
          [
           30,
           273,
           30,
           40.275,
           "Python",
           9,
           "Tue May 31 07:51:02 2022",
           74,
           "SILVER"
          ],
          [
           16,
           279,
           16,
           16.25,
           "Python",
           16,
           "Sun May 29 07:50:50 2022",
           40,
           "SILVER"
          ],
          [
           15,
           461,
           15,
           20.483870967741936,
           "Python",
           14,
           "Fri May 27 02:34:12 2022",
           79,
           "SILVER"
          ]
         ],
         "hovertemplate": "<b>%{hovertext}</b><br><br>medal=%{customdata[8]}<br>totalViews=%{x:,.0f}<br>totalVotes=%{y:,.0f}<br>totalLines=%{customdata[1]:,.0f}<br>totalComments=%{customdata[2]:,.0f}<br>viewsPerVote=%{customdata[3]:,.0f}<br>languageName=%{customdata[4]}<br>versionNumber=%{customdata[5]}<br>lastRun=%{customdata[6]}<br>lastRunExecutionTimeSeconds=%{customdata[7]:,.0f}<extra></extra>",
         "hovertext": [
          "▶️ Lionel Messi 📊 Extended EDA ⚽ Goals ",
          "UCL ⚽ EDA & Viz ⭐ 2021-22 ⭐ Players & Teams",
          "✅ 07 Cross Validation Methods ➡️ Tutorial 📊",
          "Divorce 💥 XGBoost 📊 PCA Analysis with SHAP,TSNE",
          "🛠 Feature Engineering ➡️ Tutorial  ⚙ Housing Data",
          "📋 Bias-Variance Tradeoff ➡️ with NumPy & Seaborn",
          "▶️ Cristiano Ronaldo 📊 Extended EDA ⚽ Goals ",
          " 📘 Coursera 📉 EDA, FE 📈 Analysis + Insights 📊",
          "Export Processing Zones - EDA+Statistical Analysis"
         ],
         "legendgroup": "SILVER",
         "marker": {
          "color": "silver",
          "size": [
           20,
           10,
           8,
           13,
           16,
           18,
           30,
           16,
           15
          ],
          "sizemode": "area",
          "sizeref": 0.075,
          "symbol": "circle"
         },
         "mode": "markers",
         "name": "SILVER",
         "orientation": "v",
         "showlegend": true,
         "type": "scatter",
         "x": [
          1146,
          702,
          698,
          540,
          680,
          516,
          1610,
          454,
          634
         ],
         "xaxis": "x",
         "y": [
          44,
          23,
          38,
          32,
          36,
          28,
          39,
          27,
          30
         ],
         "yaxis": "y"
        },
        {
         "hovertemplate": "<b>OLS trendline</b><br>log10(totalVotes) = 0.528427 * log10(totalViews)<br>R<sup>2</sup>=0.997772<br><br>medal=SILVER<br>totalViews=%{x:,.0f}<br>totalVotes=%{y:,.0f} <b>(trend)</b><extra></extra>",
         "legendgroup": "SILVER",
         "marker": {
          "color": "silver",
          "symbol": "circle"
         },
         "mode": "lines",
         "name": "SILVER",
         "showlegend": false,
         "type": "scatter",
         "x": [
          454,
          516,
          540,
          634,
          680,
          698,
          702,
          1146,
          1610
         ],
         "xaxis": "x",
         "y": [
          25.35473139235727,
          27.12915600635045,
          27.78878564132439,
          30.248129549436257,
          31.388681944411825,
          31.8250340655807,
          31.9212778183953,
          41.357526197088426,
          49.496230218725245
         ],
         "yaxis": "y"
        },
        {
         "customdata": [
          [
           17,
           357,
           17,
           23.96629213483146,
           "Python",
           6,
           "Tue Jun 14 09:44:41 2022",
           88,
           "GOLD"
          ]
         ],
         "hovertemplate": "<b>%{hovertext}</b><br><br>medal=%{customdata[8]}<br>totalViews=%{x:,.0f}<br>totalVotes=%{y:,.0f}<br>totalLines=%{customdata[1]:,.0f}<br>totalComments=%{customdata[2]:,.0f}<br>viewsPerVote=%{customdata[3]:,.0f}<br>languageName=%{customdata[4]}<br>versionNumber=%{customdata[5]}<br>lastRun=%{customdata[6]}<br>lastRunExecutionTimeSeconds=%{customdata[7]:,.0f}<extra></extra>",
         "hovertext": [
          "➡️ Intro to Imputation 🔍 Different Techniques"
         ],
         "legendgroup": "GOLD",
         "marker": {
          "color": "gold",
          "size": [
           17
          ],
          "sizemode": "area",
          "sizeref": 0.075,
          "symbol": "circle"
         },
         "mode": "markers",
         "name": "GOLD",
         "orientation": "v",
         "showlegend": true,
         "type": "scatter",
         "x": [
          2132
         ],
         "xaxis": "x",
         "y": [
          88
         ],
         "yaxis": "y"
        },
        {
         "hovertemplate": "medal=GOLD<extra></extra>",
         "legendgroup": "GOLD",
         "marker": {
          "color": "gold",
          "symbol": "circle"
         },
         "mode": "lines",
         "name": "GOLD",
         "showlegend": false,
         "type": "scatter",
         "xaxis": "x",
         "yaxis": "y"
        }
       ],
       "layout": {
        "legend": {
         "itemsizing": "constant",
         "title": {
          "text": "medal"
         },
         "tracegroupgap": 0
        },
        "template": {
         "data": {
          "bar": [
           {
            "error_x": {
             "color": "#2a3f5f"
            },
            "error_y": {
             "color": "#2a3f5f"
            },
            "marker": {
             "line": {
              "color": "#E5ECF6",
              "width": 0.5
             },
             "pattern": {
              "fillmode": "overlay",
              "size": 10,
              "solidity": 0.2
             }
            },
            "type": "bar"
           }
          ],
          "barpolar": [
           {
            "marker": {
             "line": {
              "color": "#E5ECF6",
              "width": 0.5
             },
             "pattern": {
              "fillmode": "overlay",
              "size": 10,
              "solidity": 0.2
             }
            },
            "type": "barpolar"
           }
          ],
          "carpet": [
           {
            "aaxis": {
             "endlinecolor": "#2a3f5f",
             "gridcolor": "white",
             "linecolor": "white",
             "minorgridcolor": "white",
             "startlinecolor": "#2a3f5f"
            },
            "baxis": {
             "endlinecolor": "#2a3f5f",
             "gridcolor": "white",
             "linecolor": "white",
             "minorgridcolor": "white",
             "startlinecolor": "#2a3f5f"
            },
            "type": "carpet"
           }
          ],
          "choropleth": [
           {
            "colorbar": {
             "outlinewidth": 0,
             "ticks": ""
            },
            "type": "choropleth"
           }
          ],
          "contour": [
           {
            "colorbar": {
             "outlinewidth": 0,
             "ticks": ""
            },
            "colorscale": [
             [
              0,
              "#0d0887"
             ],
             [
              0.1111111111111111,
              "#46039f"
             ],
             [
              0.2222222222222222,
              "#7201a8"
             ],
             [
              0.3333333333333333,
              "#9c179e"
             ],
             [
              0.4444444444444444,
              "#bd3786"
             ],
             [
              0.5555555555555556,
              "#d8576b"
             ],
             [
              0.6666666666666666,
              "#ed7953"
             ],
             [
              0.7777777777777778,
              "#fb9f3a"
             ],
             [
              0.8888888888888888,
              "#fdca26"
             ],
             [
              1,
              "#f0f921"
             ]
            ],
            "type": "contour"
           }
          ],
          "contourcarpet": [
           {
            "colorbar": {
             "outlinewidth": 0,
             "ticks": ""
            },
            "type": "contourcarpet"
           }
          ],
          "heatmap": [
           {
            "colorbar": {
             "outlinewidth": 0,
             "ticks": ""
            },
            "colorscale": [
             [
              0,
              "#0d0887"
             ],
             [
              0.1111111111111111,
              "#46039f"
             ],
             [
              0.2222222222222222,
              "#7201a8"
             ],
             [
              0.3333333333333333,
              "#9c179e"
             ],
             [
              0.4444444444444444,
              "#bd3786"
             ],
             [
              0.5555555555555556,
              "#d8576b"
             ],
             [
              0.6666666666666666,
              "#ed7953"
             ],
             [
              0.7777777777777778,
              "#fb9f3a"
             ],
             [
              0.8888888888888888,
              "#fdca26"
             ],
             [
              1,
              "#f0f921"
             ]
            ],
            "type": "heatmap"
           }
          ],
          "heatmapgl": [
           {
            "colorbar": {
             "outlinewidth": 0,
             "ticks": ""
            },
            "colorscale": [
             [
              0,
              "#0d0887"
             ],
             [
              0.1111111111111111,
              "#46039f"
             ],
             [
              0.2222222222222222,
              "#7201a8"
             ],
             [
              0.3333333333333333,
              "#9c179e"
             ],
             [
              0.4444444444444444,
              "#bd3786"
             ],
             [
              0.5555555555555556,
              "#d8576b"
             ],
             [
              0.6666666666666666,
              "#ed7953"
             ],
             [
              0.7777777777777778,
              "#fb9f3a"
             ],
             [
              0.8888888888888888,
              "#fdca26"
             ],
             [
              1,
              "#f0f921"
             ]
            ],
            "type": "heatmapgl"
           }
          ],
          "histogram": [
           {
            "marker": {
             "pattern": {
              "fillmode": "overlay",
              "size": 10,
              "solidity": 0.2
             }
            },
            "type": "histogram"
           }
          ],
          "histogram2d": [
           {
            "colorbar": {
             "outlinewidth": 0,
             "ticks": ""
            },
            "colorscale": [
             [
              0,
              "#0d0887"
             ],
             [
              0.1111111111111111,
              "#46039f"
             ],
             [
              0.2222222222222222,
              "#7201a8"
             ],
             [
              0.3333333333333333,
              "#9c179e"
             ],
             [
              0.4444444444444444,
              "#bd3786"
             ],
             [
              0.5555555555555556,
              "#d8576b"
             ],
             [
              0.6666666666666666,
              "#ed7953"
             ],
             [
              0.7777777777777778,
              "#fb9f3a"
             ],
             [
              0.8888888888888888,
              "#fdca26"
             ],
             [
              1,
              "#f0f921"
             ]
            ],
            "type": "histogram2d"
           }
          ],
          "histogram2dcontour": [
           {
            "colorbar": {
             "outlinewidth": 0,
             "ticks": ""
            },
            "colorscale": [
             [
              0,
              "#0d0887"
             ],
             [
              0.1111111111111111,
              "#46039f"
             ],
             [
              0.2222222222222222,
              "#7201a8"
             ],
             [
              0.3333333333333333,
              "#9c179e"
             ],
             [
              0.4444444444444444,
              "#bd3786"
             ],
             [
              0.5555555555555556,
              "#d8576b"
             ],
             [
              0.6666666666666666,
              "#ed7953"
             ],
             [
              0.7777777777777778,
              "#fb9f3a"
             ],
             [
              0.8888888888888888,
              "#fdca26"
             ],
             [
              1,
              "#f0f921"
             ]
            ],
            "type": "histogram2dcontour"
           }
          ],
          "mesh3d": [
           {
            "colorbar": {
             "outlinewidth": 0,
             "ticks": ""
            },
            "type": "mesh3d"
           }
          ],
          "parcoords": [
           {
            "line": {
             "colorbar": {
              "outlinewidth": 0,
              "ticks": ""
             }
            },
            "type": "parcoords"
           }
          ],
          "pie": [
           {
            "automargin": true,
            "type": "pie"
           }
          ],
          "scatter": [
           {
            "fillpattern": {
             "fillmode": "overlay",
             "size": 10,
             "solidity": 0.2
            },
            "type": "scatter"
           }
          ],
          "scatter3d": [
           {
            "line": {
             "colorbar": {
              "outlinewidth": 0,
              "ticks": ""
             }
            },
            "marker": {
             "colorbar": {
              "outlinewidth": 0,
              "ticks": ""
             }
            },
            "type": "scatter3d"
           }
          ],
          "scattercarpet": [
           {
            "marker": {
             "colorbar": {
              "outlinewidth": 0,
              "ticks": ""
             }
            },
            "type": "scattercarpet"
           }
          ],
          "scattergeo": [
           {
            "marker": {
             "colorbar": {
              "outlinewidth": 0,
              "ticks": ""
             }
            },
            "type": "scattergeo"
           }
          ],
          "scattergl": [
           {
            "marker": {
             "colorbar": {
              "outlinewidth": 0,
              "ticks": ""
             }
            },
            "type": "scattergl"
           }
          ],
          "scattermapbox": [
           {
            "marker": {
             "colorbar": {
              "outlinewidth": 0,
              "ticks": ""
             }
            },
            "type": "scattermapbox"
           }
          ],
          "scatterpolar": [
           {
            "marker": {
             "colorbar": {
              "outlinewidth": 0,
              "ticks": ""
             }
            },
            "type": "scatterpolar"
           }
          ],
          "scatterpolargl": [
           {
            "marker": {
             "colorbar": {
              "outlinewidth": 0,
              "ticks": ""
             }
            },
            "type": "scatterpolargl"
           }
          ],
          "scatterternary": [
           {
            "marker": {
             "colorbar": {
              "outlinewidth": 0,
              "ticks": ""
             }
            },
            "type": "scatterternary"
           }
          ],
          "surface": [
           {
            "colorbar": {
             "outlinewidth": 0,
             "ticks": ""
            },
            "colorscale": [
             [
              0,
              "#0d0887"
             ],
             [
              0.1111111111111111,
              "#46039f"
             ],
             [
              0.2222222222222222,
              "#7201a8"
             ],
             [
              0.3333333333333333,
              "#9c179e"
             ],
             [
              0.4444444444444444,
              "#bd3786"
             ],
             [
              0.5555555555555556,
              "#d8576b"
             ],
             [
              0.6666666666666666,
              "#ed7953"
             ],
             [
              0.7777777777777778,
              "#fb9f3a"
             ],
             [
              0.8888888888888888,
              "#fdca26"
             ],
             [
              1,
              "#f0f921"
             ]
            ],
            "type": "surface"
           }
          ],
          "table": [
           {
            "cells": {
             "fill": {
              "color": "#EBF0F8"
             },
             "line": {
              "color": "white"
             }
            },
            "header": {
             "fill": {
              "color": "#C8D4E3"
             },
             "line": {
              "color": "white"
             }
            },
            "type": "table"
           }
          ]
         },
         "layout": {
          "annotationdefaults": {
           "arrowcolor": "#2a3f5f",
           "arrowhead": 0,
           "arrowwidth": 1
          },
          "autotypenumbers": "strict",
          "coloraxis": {
           "colorbar": {
            "outlinewidth": 0,
            "ticks": ""
           }
          },
          "colorscale": {
           "diverging": [
            [
             0,
             "#8e0152"
            ],
            [
             0.1,
             "#c51b7d"
            ],
            [
             0.2,
             "#de77ae"
            ],
            [
             0.3,
             "#f1b6da"
            ],
            [
             0.4,
             "#fde0ef"
            ],
            [
             0.5,
             "#f7f7f7"
            ],
            [
             0.6,
             "#e6f5d0"
            ],
            [
             0.7,
             "#b8e186"
            ],
            [
             0.8,
             "#7fbc41"
            ],
            [
             0.9,
             "#4d9221"
            ],
            [
             1,
             "#276419"
            ]
           ],
           "sequential": [
            [
             0,
             "#0d0887"
            ],
            [
             0.1111111111111111,
             "#46039f"
            ],
            [
             0.2222222222222222,
             "#7201a8"
            ],
            [
             0.3333333333333333,
             "#9c179e"
            ],
            [
             0.4444444444444444,
             "#bd3786"
            ],
            [
             0.5555555555555556,
             "#d8576b"
            ],
            [
             0.6666666666666666,
             "#ed7953"
            ],
            [
             0.7777777777777778,
             "#fb9f3a"
            ],
            [
             0.8888888888888888,
             "#fdca26"
            ],
            [
             1,
             "#f0f921"
            ]
           ],
           "sequentialminus": [
            [
             0,
             "#0d0887"
            ],
            [
             0.1111111111111111,
             "#46039f"
            ],
            [
             0.2222222222222222,
             "#7201a8"
            ],
            [
             0.3333333333333333,
             "#9c179e"
            ],
            [
             0.4444444444444444,
             "#bd3786"
            ],
            [
             0.5555555555555556,
             "#d8576b"
            ],
            [
             0.6666666666666666,
             "#ed7953"
            ],
            [
             0.7777777777777778,
             "#fb9f3a"
            ],
            [
             0.8888888888888888,
             "#fdca26"
            ],
            [
             1,
             "#f0f921"
            ]
           ]
          },
          "colorway": [
           "#636efa",
           "#EF553B",
           "#00cc96",
           "#ab63fa",
           "#FFA15A",
           "#19d3f3",
           "#FF6692",
           "#B6E880",
           "#FF97FF",
           "#FECB52"
          ],
          "font": {
           "color": "#2a3f5f"
          },
          "geo": {
           "bgcolor": "white",
           "lakecolor": "white",
           "landcolor": "#E5ECF6",
           "showlakes": true,
           "showland": true,
           "subunitcolor": "white"
          },
          "hoverlabel": {
           "align": "left"
          },
          "hovermode": "closest",
          "mapbox": {
           "style": "light"
          },
          "paper_bgcolor": "white",
          "plot_bgcolor": "#E5ECF6",
          "polar": {
           "angularaxis": {
            "gridcolor": "white",
            "linecolor": "white",
            "ticks": ""
           },
           "bgcolor": "#E5ECF6",
           "radialaxis": {
            "gridcolor": "white",
            "linecolor": "white",
            "ticks": ""
           }
          },
          "scene": {
           "xaxis": {
            "backgroundcolor": "#E5ECF6",
            "gridcolor": "white",
            "gridwidth": 2,
            "linecolor": "white",
            "showbackground": true,
            "ticks": "",
            "zerolinecolor": "white"
           },
           "yaxis": {
            "backgroundcolor": "#E5ECF6",
            "gridcolor": "white",
            "gridwidth": 2,
            "linecolor": "white",
            "showbackground": true,
            "ticks": "",
            "zerolinecolor": "white"
           },
           "zaxis": {
            "backgroundcolor": "#E5ECF6",
            "gridcolor": "white",
            "gridwidth": 2,
            "linecolor": "white",
            "showbackground": true,
            "ticks": "",
            "zerolinecolor": "white"
           }
          },
          "shapedefaults": {
           "line": {
            "color": "#2a3f5f"
           }
          },
          "ternary": {
           "aaxis": {
            "gridcolor": "white",
            "linecolor": "white",
            "ticks": ""
           },
           "baxis": {
            "gridcolor": "white",
            "linecolor": "white",
            "ticks": ""
           },
           "bgcolor": "#E5ECF6",
           "caxis": {
            "gridcolor": "white",
            "linecolor": "white",
            "ticks": ""
           }
          },
          "title": {
           "x": 0.05
          },
          "xaxis": {
           "automargin": true,
           "gridcolor": "white",
           "linecolor": "white",
           "ticks": "",
           "title": {
            "standoff": 15
           },
           "zerolinecolor": "white",
           "zerolinewidth": 2
          },
          "yaxis": {
           "automargin": true,
           "gridcolor": "white",
           "linecolor": "white",
           "ticks": "",
           "title": {
            "standoff": 15
           },
           "zerolinecolor": "white",
           "zerolinewidth": 2
          }
         }
        },
        "title": {
         "text": "Notebooks by Azmine Toushik Wasi"
        },
        "xaxis": {
         "anchor": "y",
         "domain": [
          0,
          1
         ],
         "title": {
          "text": "totalViews"
         }
        },
        "yaxis": {
         "anchor": "x",
         "domain": [
          0,
          1
         ],
         "title": {
          "text": "totalVotes"
         }
        }
       }
      }
     },
     "metadata": {},
     "output_type": "display_data"
    }
   ],
   "source": [
    "import plotly.express as px\n",
    "\n",
    "df['totalComments'].fillna(0, inplace=True)\n",
    "df['medal'].fillna('N/A', inplace=True)\n",
    "df['size'] = df['totalComments'].clip(lower=1)\n",
    "color_map = {\n",
    "    'GOLD': 'gold',\n",
    "    'SILVER': 'silver',\n",
    "    'BRONZE': 'chocolate',\n",
    "    'N/A': '#333'\n",
    "}\n",
    "px.scatter(\n",
    "    df,\n",
    "    'totalViews',\n",
    "    'totalVotes',\n",
    "    title=f'Notebooks by {df.author_displayName.get(0)}',\n",
    "    log_x=False,\n",
    "    log_y=False,\n",
    "    color='medal',\n",
    "    color_discrete_map=color_map,\n",
    "    size='size',\n",
    "    trendline='ols',\n",
    "    trendline_options=dict(log_x=True, log_y=True, add_constant=False),\n",
    "    #trendline='lowess', # Use for Locally Weighted Scatterplot Smoothing line\n",
    "    #trendline_scope='overall', # Use this for one trendline\n",
    "    hover_name='title',\n",
    "    hover_data={\n",
    "        'size': False,\n",
    "        'totalViews': ':,.0f',\n",
    "        'totalVotes': ':,.0f',\n",
    "        'totalLines': ':,.0f',\n",
    "        'totalComments': ':,.0f',\n",
    "        'viewsPerVote': ':,.0f',\n",
    "        'languageName': True,\n",
    "        'versionNumber': True,\n",
    "        'lastRun': True,\n",
    "        'lastRunExecutionTimeSeconds': ':,.0f',\n",
    "        'medal': True,\n",
    "    })"
   ]
  },
  {
   "cell_type": "markdown",
   "id": "eb634aaa",
   "metadata": {
    "papermill": {
     "duration": 0.006682,
     "end_time": "2022-06-12T00:06:08.127181",
     "exception": false,
     "start_time": "2022-06-12T00:06:08.120499",
     "status": "completed"
    },
    "tags": []
   },
   "source": [
    "# Analysis"
   ]
  },
  {
   "cell_type": "code",
   "execution_count": 7,
   "id": "cf9c834b",
   "metadata": {},
   "outputs": [],
   "source": [
    "links=[]\n",
    "for dirname, _, filenames in os.walk('./data/'):\n",
    "    for filename in filenames:\n",
    "        link=os.path.join(dirname, filename)\n",
    "        links.append(link)"
   ]
  },
  {
   "cell_type": "code",
   "execution_count": 8,
   "id": "f9f5c79b",
   "metadata": {},
   "outputs": [],
   "source": [
    "dfx=pd.DataFrame()\n",
    "date_list=[]\n",
    "titles_dft=[]\n",
    "date_dft=[]\n",
    "count_dft=[]\n",
    "view_dft=[]\n",
    "\n",
    "gTotalUpvotes=[]\n",
    "gTotalViews=[]\n",
    "gTotalComments=[]\n",
    "\n",
    "\n",
    "for link in links:\n",
    "    date=link[25:35]\n",
    "    date_list.append(date)\n",
    "    temp_df=pd.read_csv(link)\n",
    "    \n",
    "    gTotalUpvotes.append(temp_df.totalVotes.sum())\n",
    "    gTotalViews.append(temp_df.totalViews.sum())\n",
    "    gTotalComments.append(temp_df.totalComments.sum())\n",
    "    \n",
    "    temp_titles=list(temp_df.title)\n",
    "    temp_totalVotes=list(temp_df.totalVotes)\n",
    "    temp_totalViews=list(temp_df.totalViews)\n",
    "    \n",
    "    for name in temp_titles:\n",
    "        titles_dft.append(name)\n",
    "        date_dft.append(date)\n",
    "        count_dft.append(temp_totalVotes[temp_titles.index(name)])\n",
    "        view_dft.append(temp_totalViews[temp_titles.index(name)])\n",
    "\n",
    "\n",
    "df_d={\"title\":titles_dft, \"date\":date_dft, \"count\":count_dft,\"view_count\":view_dft}\n",
    "df_d=pd.DataFrame(df_d)\n"
   ]
  },
  {
   "cell_type": "code",
   "execution_count": 9,
   "id": "f1c1556c",
   "metadata": {},
   "outputs": [
    {
     "data": {
      "image/png": "[encoded data removed]",
      "text/plain": [
       "<Figure size 1800x864 with 10 Axes>"
      ]
     },
     "metadata": {},
     "output_type": "display_data"
    }
   ],
   "source": [
    "w=5\n",
    "h=math.ceil(len(list(df_d.title.unique()))/w)\n",
    "\n",
    "sns.set(rc={'figure.figsize':(25,h*6)})\n",
    "for i, column in enumerate(list(df_d.title.unique()), 1):\n",
    "\n",
    "    plt.subplot(h,w,i)\n",
    "    plt.subplots_adjust(left=0.2,\n",
    "                    bottom=0.4, \n",
    "                    right=0.9, \n",
    "                    top=0.9, \n",
    "                    wspace=0.6, \n",
    "                    hspace=0.6)\n",
    "    tdx=df_d[df_d['title']==column]\n",
    "    tdx['date']=tdx['date'].str[5:]\n",
    "    p=sns.barplot(x='date',data=tdx,y='count',palette='Wistia')\n",
    "    plt.xticks(fontsize=10,rotation='vertical')\n",
    "    p.axes.set_title(\"\\n\"+str(column)+\"\\n\",fontsize=10);\n",
    "    for container in p.containers:\n",
    "        p.bar_label(container,label_type='edge',padding=-20)\n",
    "    p=sns.lineplot(x='date',data=tdx,y='count',color='red')"
   ]
  },
  {
   "cell_type": "code",
   "execution_count": 10,
   "id": "9abc5ec8",
   "metadata": {},
   "outputs": [
    {
     "data": {
      "image/png": "[encoded data removed]",
      "text/plain": [
       "<Figure size 1800x864 with 10 Axes>"
      ]
     },
     "metadata": {},
     "output_type": "display_data"
    }
   ],
   "source": [
    "w=5\n",
    "h=math.ceil(len(list(df_d.title.unique()))/w)\n",
    "\n",
    "sns.set(rc={'figure.figsize':(25,h*6)})\n",
    "for i, column in enumerate(list(df_d.title.unique()), 1):\n",
    "\n",
    "    plt.subplot(h,w,i)\n",
    "    plt.subplots_adjust(left=0.2,\n",
    "                    bottom=0.4, \n",
    "                    right=0.9, \n",
    "                    top=0.9, \n",
    "                    wspace=0.6, \n",
    "                    hspace=0.6)\n",
    "    tdx=df_d[df_d['title']==column]\n",
    "    tdx['date']=tdx['date'].str[5:]\n",
    "    p=sns.barplot(x='date',data=tdx,y='view_count',palette='summer')\n",
    "    plt.xticks(fontsize=8,rotation='vertical')\n",
    "    p.axes.set_title(\"\\n\"+str(column)+\"\\n\",fontsize=10);\n",
    "    for container in p.containers:\n",
    "        p.bar_label(container,label_type='edge',padding=-20)\n",
    "    p=sns.lineplot(x='date',data=tdx,y='view_count',color='blue')\n"
   ]
  },
  {
   "cell_type": "code",
   "execution_count": 11,
   "id": "dd1583ca",
   "metadata": {},
   "outputs": [
    {
     "data": {
      "image/png": "[encoded data removed]",
      "text/plain": [
       "<Figure size 2016x288 with 3 Axes>"
      ]
     },
     "metadata": {},
     "output_type": "display_data"
    }
   ],
   "source": [
    "totals={'date':date_list,\"Upvotes\":gTotalUpvotes,\"Views\":gTotalViews,\"Comments\":gTotalComments}\n",
    "totals=pd.DataFrame(totals)\n",
    "totals['date']=totals['date'].str[5:]\n",
    "\n",
    "\n",
    "sns.set(rc={'figure.figsize':(28,4)})\n",
    "\n",
    "plt.subplot(1,3,1)\n",
    "p=sns.barplot(x='date',data=totals,y='Views',palette='winter')\n",
    "for container in p.containers:\n",
    "    p.bar_label(container,label_type='edge',padding=-20)\n",
    "sns.lineplot(x='date',data=totals,y=\"Views\",color='blue')\n",
    "plt.xticks(fontsize=12,rotation='vertical')\n",
    "\n",
    "plt.subplot(1,3,2)\n",
    "p=sns.barplot(x='date',data=totals,y='Upvotes',palette='winter')\n",
    "for container in p.containers:\n",
    "    p.bar_label(container,label_type='edge',padding=-20)\n",
    "sns.lineplot(x='date',data=totals,y=\"Upvotes\",color='green')\n",
    "plt.xticks(fontsize=12,rotation='vertical')\n",
    "\n",
    "plt.subplot(1,3,3)\n",
    "p=sns.barplot(x='date',data=totals,y='Comments',palette='winter')\n",
    "for container in p.containers:\n",
    "    p.bar_label(container,label_type='edge',padding=-20)\n",
    "sns.lineplot(x='date',data=totals,y=\"Comments\",color='red')\n",
    "plt.xticks(fontsize=12,rotation='vertical');"
   ]
  }
 ],
 "metadata": {
  "kernelspec": {
   "display_name": "Python 3.9.7 ('base')",
   "language": "python",
   "name": "python3"
  },
  "language_info": {
   "codemirror_mode": {
    "name": "ipython",
    "version": 3
   },
   "file_extension": ".py",
   "mimetype": "text/x-python",
   "name": "python",
   "nbconvert_exporter": "python",
   "pygments_lexer": "ipython3",
   "version": "3.9.7"
  },
  "papermill": {
   "default_parameters": {},
   "duration": 18.651991,
   "end_time": "2022-06-12T00:06:09.640337",
   "environment_variables": {},
   "exception": null,
   "input_path": "__notebook__.ipynb",
   "output_path": "__notebook__.ipynb",
   "parameters": {},
   "start_time": "2022-06-12T00:05:50.988346",
   "version": "2.3.4"
  },
  "vscode": {
   "interpreter": {
    "hash": "5cbe5c8d5a4e4df19ab08f1ca157b6ac51cd16c886bf4a2651a40d0f01930f45"
   }
  }
 },
 "nbformat": 4,
 "nbformat_minor": 5
}
