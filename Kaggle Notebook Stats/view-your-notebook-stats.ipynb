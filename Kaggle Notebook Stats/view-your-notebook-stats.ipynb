{
 "cells": [
  {
   "cell_type": "markdown",
   "id": "befdf55b",
   "metadata": {
    "papermill": {
     "duration": 0.004574,
     "end_time": "2022-06-12T00:06:01.263406",
     "exception": false,
     "start_time": "2022-06-12T00:06:01.258832",
     "status": "completed"
    },
    "tags": []
   },
   "source": [
    "Similarly, if you want to see view counts on your Kaggle notebooks - you have to increase the view count by one... *until now!* We can spy on the latest view counts (and other stats) by requesting a listing from the Kaggle API...\n",
    "\n",
    "To use this notebook:\n",
    "\n",
    " 1.   Fork this notebook by clicking on Copy and Edit.\n",
    " 2.   Set the username variable to your own username."
   ]
  },
  {
   "cell_type": "code",
   "execution_count": 1,
   "id": "62e7d37a",
   "metadata": {
    "execution": {
     "iopub.execute_input": "2022-06-12T00:06:01.272800Z",
     "iopub.status.busy": "2022-06-12T00:06:01.271910Z",
     "iopub.status.idle": "2022-06-12T00:06:01.284991Z",
     "shell.execute_reply": "2022-06-12T00:06:01.284120Z"
    },
    "papermill": {
     "duration": 0.020102,
     "end_time": "2022-06-12T00:06:01.287120",
     "exception": false,
     "start_time": "2022-06-12T00:06:01.267018",
     "status": "completed"
    },
    "tags": []
   },
   "outputs": [],
   "source": [
    "username = 'azminetoushikwasi'"
   ]
  },
  {
   "cell_type": "code",
   "execution_count": 2,
   "id": "636a7a76",
   "metadata": {
    "_kg_hide-input": true,
    "execution": {
     "iopub.execute_input": "2022-06-12T00:06:01.295765Z",
     "iopub.status.busy": "2022-06-12T00:06:01.295366Z",
     "iopub.status.idle": "2022-06-12T00:06:01.446307Z",
     "shell.execute_reply": "2022-06-12T00:06:01.445254Z"
    },
    "papermill": {
     "duration": 0.158209,
     "end_time": "2022-06-12T00:06:01.448853",
     "exception": false,
     "start_time": "2022-06-12T00:06:01.290644",
     "status": "completed"
    },
    "tags": []
   },
   "outputs": [],
   "source": [
    "from IPython.display import Markdown, display\n",
    "import datetime, requests, json, os, re, sys, time\n",
    "from matplotlib.ticker import FixedLocator, MaxNLocator\n",
    "import pandas as pd\n",
    "import numpy as np\n",
    "import math\n",
    "import seaborn as sns\n",
    "import matplotlib.pyplot as plt\n",
    "import warnings\n",
    "warnings.filterwarnings('ignore')\n",
    "from plotly.subplots import make_subplots"
   ]
  },
  {
   "cell_type": "code",
   "execution_count": 3,
   "id": "9550f4dd",
   "metadata": {},
   "outputs": [],
   "source": [
    "pd.set_option('display.max_rows', 500)\n",
    "\n",
    "session = requests.session()\n",
    "profile = session.get('https://www.kaggle.com/' + username)\n",
    "session.headers['x-xsrf-token'] = session.cookies['XSRF-TOKEN']\n",
    "\n",
    "uid = int(re.findall('Kaggle\\.State\\.push\\({.*?\"userId\":(\\d+),', profile.text)[0])\n",
    "count = int(re.findall('\"scriptsSummary\":{.*?\"totalResults\":(\\d+),', profile.text)[0])\n",
    "pages = int(np.ceil(count / 20))"
   ]
  },
  {
   "cell_type": "code",
   "execution_count": 4,
   "id": "0b676f37",
   "metadata": {
    "_kg_hide-input": true,
    "execution": {
     "iopub.execute_input": "2022-06-12T00:06:01.458529Z",
     "iopub.status.busy": "2022-06-12T00:06:01.457924Z",
     "iopub.status.idle": "2022-06-12T00:06:01.465424Z",
     "shell.execute_reply": "2022-06-12T00:06:01.464165Z"
    },
    "papermill": {
     "duration": 0.014946,
     "end_time": "2022-06-12T00:06:01.467432",
     "exception": false,
     "start_time": "2022-06-12T00:06:01.452486",
     "status": "completed"
    },
    "tags": []
   },
   "outputs": [],
   "source": [
    "url = 'https://www.kaggle.com/api/i/kernels.KernelsService/ListKernels'\n",
    "request = {\n",
    "    'kernelFilterCriteria': {\n",
    "        'search': '',\n",
    "        'listRequest': {\n",
    "            'userId': 0,\n",
    "            'sortBy': 'DATE_RUN',\n",
    "            'pageSize': 20,\n",
    "            'group': 'PROFILE',\n",
    "            'page': 1,\n",
    "            'tagIds': '',\n",
    "            'excludeResultsFilesOutputs': False,\n",
    "            'wantOutputFiles': False\n",
    "        }\n",
    "    },\n",
    "    'detailFilterCriteria': {\n",
    "        'deletedAccessBehavior': 'RETURN_NOTHING',\n",
    "        'unauthorizedAccessBehavior': 'RETURN_NOTHING',\n",
    "        'excludeResultsFilesOutputs': False,\n",
    "        'wantOutputFiles': False,\n",
    "        'kernelIds': [],\n",
    "        'outputFileTypes': []\n",
    "    }\n",
    "}"
   ]
  },
  {
   "cell_type": "code",
   "execution_count": 5,
   "id": "6150d2d1",
   "metadata": {
    "_kg_hide-input": true,
    "execution": {
     "iopub.execute_input": "2022-06-12T00:06:01.478891Z",
     "iopub.status.busy": "2022-06-12T00:06:01.478475Z",
     "iopub.status.idle": "2022-06-12T00:06:03.889142Z",
     "shell.execute_reply": "2022-06-12T00:06:03.888184Z"
    },
    "papermill": {
     "duration": 2.421448,
     "end_time": "2022-06-12T00:06:03.892456",
     "exception": false,
     "start_time": "2022-06-12T00:06:01.471008",
     "status": "completed"
    },
    "tags": []
   },
   "outputs": [
    {
     "data": {
      "text/markdown": [
       "\n",
       " - Notebook count: 15\n",
       " - Total views: 36,588\n",
       " - Total comments: 338\n",
       " - Total medals: 15\n",
       " - Total votes: 1,267\n",
       " - Mean views per vote: 29\n"
      ],
      "text/plain": [
       "<IPython.core.display.Markdown object>"
      ]
     },
     "metadata": {},
     "output_type": "display_data"
    }
   ],
   "source": [
    "request['kernelFilterCriteria']['listRequest']['userId'] = uid\n",
    "\n",
    "dfs = []\n",
    "for page in range(1, pages + 1):\n",
    "    request['kernelFilterCriteria']['listRequest']['page'] = page\n",
    "    data = json.dumps(request, separators=(',', ':'))\n",
    "    res = session.post(url, data=data)\n",
    "    #print(page, res.status_code, len(res.text))\n",
    "    if res.status_code != 200:\n",
    "        break\n",
    "    df = pd.DataFrame(json.loads(res.text)['kernels'])\n",
    "    dfs.append(df)\n",
    "\n",
    "def split_columns(df, col):\n",
    "    values = df.pop(col)\n",
    "    return df.join(values.apply(pd.Series).add_prefix(col + \"_\"))\n",
    "\n",
    "df = pd.concat(dfs, ignore_index=True)\n",
    "df = split_columns(df, 'author')\n",
    "df = split_columns(df, 'dataSources')\n",
    "df = split_columns(df, 'categories')\n",
    "\n",
    "filename = f'{username}-{datetime.datetime.now().strftime(\"%Y-%m-%d\")}.csv'\n",
    "df.to_csv(\"./data/\"+filename, index=False)\n",
    "\n",
    "display(Markdown(f\"\"\"\n",
    " - Notebook count: {df.shape[0]:,.0f}\n",
    " - Total views: {df.totalViews.sum():,.0f}\n",
    " - Total comments: {df.totalComments.sum():,.0f}\n",
    " - Total medals: {df.medal.count():,.0f}\n",
    " - Total votes: {df.totalVotes.sum():,.0f}\n",
    " - Mean views per vote: {df.totalViews.sum() / df.totalVotes.sum():,.0f}\n",
    "\"\"\"))"
   ]
  },
  {
   "cell_type": "code",
   "execution_count": 6,
   "id": "2a8bdd38",
   "metadata": {
    "_kg_hide-input": true,
    "execution": {
     "iopub.execute_input": "2022-06-12T00:06:03.902067Z",
     "iopub.status.busy": "2022-06-12T00:06:03.901217Z",
     "iopub.status.idle": "2022-06-12T00:06:04.049288Z",
     "shell.execute_reply": "2022-06-12T00:06:04.048375Z"
    },
    "papermill": {
     "duration": 0.154913,
     "end_time": "2022-06-12T00:06:04.051346",
     "exception": false,
     "start_time": "2022-06-12T00:06:03.896433",
     "status": "completed"
    },
    "tags": []
   },
   "outputs": [
    {
     "data": {
      "text/markdown": [
       "# Notebooks by Thomas Shelby"
      ],
      "text/plain": [
       "<IPython.core.display.Markdown object>"
      ]
     },
     "metadata": {},
     "output_type": "display_data"
    },
    {
     "data": {
      "text/html": [
       "<style type=\"text/css\">\n",
       "#T_9b6cb_row0_col1 {\n",
       "  width: 10em;\n",
       "  height: 80%;\n",
       "  background: linear-gradient(90deg,#4cf 2.8%, transparent 2.8%);\n",
       "}\n",
       "#T_9b6cb_row0_col2, #T_9b6cb_row2_col2 {\n",
       "  width: 10em;\n",
       "  height: 80%;\n",
       "  background: linear-gradient(90deg,#4cf 7.9%, transparent 7.9%);\n",
       "}\n",
       "#T_9b6cb_row0_col3 {\n",
       "  width: 10em;\n",
       "  height: 80%;\n",
       "  background: linear-gradient(90deg,#4cf 1.8%, transparent 1.8%);\n",
       "}\n",
       "#T_9b6cb_row0_col4, #T_9b6cb_row2_col4 {\n",
       "  width: 10em;\n",
       "  height: 80%;\n",
       "  background: linear-gradient(90deg,#4cf 27.1%, transparent 27.1%);\n",
       "}\n",
       "#T_9b6cb_row1_col1, #T_9b6cb_row1_col2, #T_9b6cb_row1_col4, #T_9b6cb_row12_col3 {\n",
       "  width: 10em;\n",
       "  height: 80%;\n",
       "}\n",
       "#T_9b6cb_row1_col3, #T_9b6cb_row5_col4, #T_9b6cb_row14_col1, #T_9b6cb_row14_col2 {\n",
       "  width: 10em;\n",
       "  height: 80%;\n",
       "  background: linear-gradient(90deg,#4cf 50.0%, transparent 50.0%);\n",
       "}\n",
       "#T_9b6cb_row2_col1 {\n",
       "  width: 10em;\n",
       "  height: 80%;\n",
       "  background: linear-gradient(90deg,#4cf 3.0%, transparent 3.0%);\n",
       "}\n",
       "#T_9b6cb_row2_col3 {\n",
       "  width: 10em;\n",
       "  height: 80%;\n",
       "  background: linear-gradient(90deg,#4cf 1.5%, transparent 1.5%);\n",
       "}\n",
       "#T_9b6cb_row3_col1 {\n",
       "  width: 10em;\n",
       "  height: 80%;\n",
       "  background: linear-gradient(90deg,#4cf 26.7%, transparent 26.7%);\n",
       "}\n",
       "#T_9b6cb_row3_col2, #T_9b6cb_row3_col4 {\n",
       "  width: 10em;\n",
       "  height: 80%;\n",
       "  background: linear-gradient(90deg,#4cf 18.6%, transparent 18.6%);\n",
       "}\n",
       "#T_9b6cb_row3_col3 {\n",
       "  width: 10em;\n",
       "  height: 80%;\n",
       "  background: linear-gradient(90deg,#4cf 4.8%, transparent 4.8%);\n",
       "}\n",
       "#T_9b6cb_row4_col1 {\n",
       "  width: 10em;\n",
       "  height: 80%;\n",
       "  background: linear-gradient(90deg,#4cf 3.2%, transparent 3.2%);\n",
       "}\n",
       "#T_9b6cb_row4_col2 {\n",
       "  width: 10em;\n",
       "  height: 80%;\n",
       "  background: linear-gradient(90deg,#4cf 10.7%, transparent 10.7%);\n",
       "}\n",
       "#T_9b6cb_row4_col3 {\n",
       "  width: 10em;\n",
       "  height: 80%;\n",
       "  background: linear-gradient(90deg,#4cf 2.4%, transparent 2.4%);\n",
       "}\n",
       "#T_9b6cb_row4_col4 {\n",
       "  width: 10em;\n",
       "  height: 80%;\n",
       "  background: linear-gradient(90deg,#4cf 28.6%, transparent 28.6%);\n",
       "}\n",
       "#T_9b6cb_row5_col1 {\n",
       "  width: 10em;\n",
       "  height: 80%;\n",
       "  background: linear-gradient(90deg,#4cf 18.5%, transparent 18.5%);\n",
       "}\n",
       "#T_9b6cb_row5_col2 {\n",
       "  width: 10em;\n",
       "  height: 80%;\n",
       "  background: linear-gradient(90deg,#4cf 17.4%, transparent 17.4%);\n",
       "}\n",
       "#T_9b6cb_row5_col3, #T_9b6cb_row14_col3 {\n",
       "  width: 10em;\n",
       "  height: 80%;\n",
       "  background: linear-gradient(90deg,#4cf 0.3%, transparent 0.3%);\n",
       "}\n",
       "#T_9b6cb_row6_col1 {\n",
       "  width: 10em;\n",
       "  height: 80%;\n",
       "  background: linear-gradient(90deg,#4cf 9.8%, transparent 9.8%);\n",
       "}\n",
       "#T_9b6cb_row6_col2, #T_9b6cb_row7_col2 {\n",
       "  width: 10em;\n",
       "  height: 80%;\n",
       "  background: linear-gradient(90deg,#4cf 14.3%, transparent 14.3%);\n",
       "}\n",
       "#T_9b6cb_row6_col3 {\n",
       "  width: 10em;\n",
       "  height: 80%;\n",
       "  background: linear-gradient(90deg,#4cf 1.3%, transparent 1.3%);\n",
       "}\n",
       "#T_9b6cb_row6_col4 {\n",
       "  width: 10em;\n",
       "  height: 80%;\n",
       "  background: linear-gradient(90deg,#4cf 11.4%, transparent 11.4%);\n",
       "}\n",
       "#T_9b6cb_row7_col1 {\n",
       "  width: 10em;\n",
       "  height: 80%;\n",
       "  background: linear-gradient(90deg,#4cf 19.7%, transparent 19.7%);\n",
       "}\n",
       "#T_9b6cb_row7_col3 {\n",
       "  width: 10em;\n",
       "  height: 80%;\n",
       "  background: linear-gradient(90deg,#4cf 0.8%, transparent 0.8%);\n",
       "}\n",
       "#T_9b6cb_row7_col4, #T_9b6cb_row10_col4 {\n",
       "  width: 10em;\n",
       "  height: 80%;\n",
       "  background: linear-gradient(90deg,#4cf 24.3%, transparent 24.3%);\n",
       "}\n",
       "#T_9b6cb_row8_col1 {\n",
       "  width: 10em;\n",
       "  height: 80%;\n",
       "  background: linear-gradient(90deg,#4cf 15.0%, transparent 15.0%);\n",
       "}\n",
       "#T_9b6cb_row8_col2 {\n",
       "  width: 10em;\n",
       "  height: 80%;\n",
       "  background: linear-gradient(90deg,#4cf 14.9%, transparent 14.9%);\n",
       "}\n",
       "#T_9b6cb_row8_col3 {\n",
       "  width: 10em;\n",
       "  height: 80%;\n",
       "  background: linear-gradient(90deg,#4cf 3.8%, transparent 3.8%);\n",
       "}\n",
       "#T_9b6cb_row8_col4 {\n",
       "  width: 10em;\n",
       "  height: 80%;\n",
       "  background: linear-gradient(90deg,#4cf 34.3%, transparent 34.3%);\n",
       "}\n",
       "#T_9b6cb_row9_col1 {\n",
       "  width: 10em;\n",
       "  height: 80%;\n",
       "  background: linear-gradient(90deg,#4cf 32.7%, transparent 32.7%);\n",
       "}\n",
       "#T_9b6cb_row9_col2 {\n",
       "  width: 10em;\n",
       "  height: 80%;\n",
       "  background: linear-gradient(90deg,#4cf 25.3%, transparent 25.3%);\n",
       "}\n",
       "#T_9b6cb_row9_col3 {\n",
       "  width: 10em;\n",
       "  height: 80%;\n",
       "  background: linear-gradient(90deg,#4cf 4.9%, transparent 4.9%);\n",
       "}\n",
       "#T_9b6cb_row9_col4 {\n",
       "  width: 10em;\n",
       "  height: 80%;\n",
       "  background: linear-gradient(90deg,#4cf 42.9%, transparent 42.9%);\n",
       "}\n",
       "#T_9b6cb_row10_col1 {\n",
       "  width: 10em;\n",
       "  height: 80%;\n",
       "  background: linear-gradient(90deg,#4cf 9.9%, transparent 9.9%);\n",
       "}\n",
       "#T_9b6cb_row10_col2 {\n",
       "  width: 10em;\n",
       "  height: 80%;\n",
       "  background: linear-gradient(90deg,#4cf 11.3%, transparent 11.3%);\n",
       "}\n",
       "#T_9b6cb_row10_col3 {\n",
       "  width: 10em;\n",
       "  height: 80%;\n",
       "  background: linear-gradient(90deg,#4cf 5.2%, transparent 5.2%);\n",
       "}\n",
       "#T_9b6cb_row11_col1 {\n",
       "  width: 10em;\n",
       "  height: 80%;\n",
       "  background: linear-gradient(90deg,#4cf 17.8%, transparent 17.8%);\n",
       "}\n",
       "#T_9b6cb_row11_col2 {\n",
       "  width: 10em;\n",
       "  height: 80%;\n",
       "  background: linear-gradient(90deg,#4cf 18.3%, transparent 18.3%);\n",
       "}\n",
       "#T_9b6cb_row11_col3 {\n",
       "  width: 10em;\n",
       "  height: 80%;\n",
       "  background: linear-gradient(90deg,#4cf 0.7%, transparent 0.7%);\n",
       "}\n",
       "#T_9b6cb_row11_col4 {\n",
       "  width: 10em;\n",
       "  height: 80%;\n",
       "  background: linear-gradient(90deg,#4cf 40.0%, transparent 40.0%);\n",
       "}\n",
       "#T_9b6cb_row12_col1 {\n",
       "  width: 10em;\n",
       "  height: 80%;\n",
       "  background: linear-gradient(90deg,#4cf 12.1%, transparent 12.1%);\n",
       "}\n",
       "#T_9b6cb_row12_col2 {\n",
       "  width: 10em;\n",
       "  height: 80%;\n",
       "  background: linear-gradient(90deg,#4cf 16.5%, transparent 16.5%);\n",
       "}\n",
       "#T_9b6cb_row12_col4 {\n",
       "  width: 10em;\n",
       "  height: 80%;\n",
       "  background: linear-gradient(90deg,#4cf 20.0%, transparent 20.0%);\n",
       "}\n",
       "#T_9b6cb_row13_col1 {\n",
       "  width: 10em;\n",
       "  height: 80%;\n",
       "  background: linear-gradient(90deg,#4cf 19.0%, transparent 19.0%);\n",
       "}\n",
       "#T_9b6cb_row13_col2 {\n",
       "  width: 10em;\n",
       "  height: 80%;\n",
       "  background: linear-gradient(90deg,#4cf 39.9%, transparent 39.9%);\n",
       "}\n",
       "#T_9b6cb_row13_col3 {\n",
       "  width: 10em;\n",
       "  height: 80%;\n",
       "  background: linear-gradient(90deg,#4cf 6.0%, transparent 6.0%);\n",
       "}\n",
       "#T_9b6cb_row13_col4 {\n",
       "  width: 10em;\n",
       "  height: 80%;\n",
       "  background: linear-gradient(90deg,#4cf 21.4%, transparent 21.4%);\n",
       "}\n",
       "#T_9b6cb_row14_col4 {\n",
       "  width: 10em;\n",
       "  height: 80%;\n",
       "  background: linear-gradient(90deg,#4cf 48.6%, transparent 48.6%);\n",
       "}\n",
       "</style>\n",
       "<table id=\"T_9b6cb_\">\n",
       "  <thead>\n",
       "    <tr>\n",
       "      <th class=\"col_heading level0 col0\" >title</th>\n",
       "      <th class=\"col_heading level0 col1\" >totalViews</th>\n",
       "      <th class=\"col_heading level0 col2\" >totalVotes</th>\n",
       "      <th class=\"col_heading level0 col3\" >totalLines</th>\n",
       "      <th class=\"col_heading level0 col4\" >totalComments</th>\n",
       "    </tr>\n",
       "  </thead>\n",
       "  <tbody>\n",
       "    <tr>\n",
       "      <td id=\"T_9b6cb_row0_col0\" class=\"data row0 col0\" ><a href=\"https://www.kaggle.com/code/azminetoushikwasi/daily-aqi-air-quality-index-scheduled\"  title=\"Language: Python\n",
       "Medal: SILVER\n",
       "Last run: Thu Aug 25 18:05:03 2022\n",
       "Runtime: 307s\n",
       "Views per vote: 17\">Daily AQI - Air Quality Index [Scheduled]</a></td>\n",
       "      <td id=\"T_9b6cb_row0_col1\" class=\"data row0 col1\" >876</td>\n",
       "      <td id=\"T_9b6cb_row0_col2\" class=\"data row0 col2\" >52</td>\n",
       "      <td id=\"T_9b6cb_row0_col3\" class=\"data row0 col3\" >435</td>\n",
       "      <td id=\"T_9b6cb_row0_col4\" class=\"data row0 col4\" >22</td>\n",
       "    </tr>\n",
       "    <tr>\n",
       "      <td id=\"T_9b6cb_row1_col0\" class=\"data row1 col0\" ><a href=\"https://www.kaggle.com/code/azminetoushikwasi/house-price-prediction-with-stacking-ensembling\"  title=\"Language: Python\n",
       "Medal: SILVER\n",
       "Last run: Tue Aug 23 09:28:55 2022\n",
       "Runtime: 4s\n",
       "Views per vote: 20\">House Price Prediction with Stacking & Ensembling</a></td>\n",
       "      <td id=\"T_9b6cb_row1_col1\" class=\"data row1 col1\" >542</td>\n",
       "      <td id=\"T_9b6cb_row1_col2\" class=\"data row1 col2\" >26</td>\n",
       "      <td id=\"T_9b6cb_row1_col3\" class=\"data row1 col3\" >2,878</td>\n",
       "      <td id=\"T_9b6cb_row1_col4\" class=\"data row1 col4\" >3</td>\n",
       "    </tr>\n",
       "    <tr>\n",
       "      <td id=\"T_9b6cb_row2_col0\" class=\"data row2 col0\" ><a href=\"https://www.kaggle.com/code/azminetoushikwasi/coursera-eda-reviews-sentiment-analysis\"  title=\"Language: Python\n",
       "Medal: SILVER\n",
       "Last run: Tue Aug 23 08:59:33 2022\n",
       "Runtime: 458s\n",
       "Views per vote: 17\">Coursera 📉 EDA, Reviews Sentiment Analysis</a></td>\n",
       "      <td id=\"T_9b6cb_row2_col1\" class=\"data row2 col1\" >900</td>\n",
       "      <td id=\"T_9b6cb_row2_col2\" class=\"data row2 col2\" >52</td>\n",
       "      <td id=\"T_9b6cb_row2_col3\" class=\"data row2 col3\" >416</td>\n",
       "      <td id=\"T_9b6cb_row2_col4\" class=\"data row2 col4\" >22</td>\n",
       "    </tr>\n",
       "    <tr>\n",
       "      <td id=\"T_9b6cb_row3_col0\" class=\"data row3 col0\" ><a href=\"https://www.kaggle.com/code/azminetoushikwasi/xgboost-wrangling-with-hyperparameters-guide\"  title=\"Language: Python\n",
       "Medal: GOLD\n",
       "Last run: Mon Aug 22 17:28:35 2022\n",
       "Runtime: 50s\n",
       "Views per vote: 42\">XGBoost | Wrangling with Hyperparameters | Guide</a></td>\n",
       "      <td id=\"T_9b6cb_row3_col1\" class=\"data row3 col1\" >3,706</td>\n",
       "      <td id=\"T_9b6cb_row3_col2\" class=\"data row3 col2\" >87</td>\n",
       "      <td id=\"T_9b6cb_row3_col3\" class=\"data row3 col3\" >586</td>\n",
       "      <td id=\"T_9b6cb_row3_col4\" class=\"data row3 col4\" >16</td>\n",
       "    </tr>\n",
       "    <tr>\n",
       "      <td id=\"T_9b6cb_row4_col0\" class=\"data row4 col0\" ><a href=\"https://www.kaggle.com/code/azminetoushikwasi/investment-and-financial-analysis-epz\"  title=\"Language: Python\n",
       "Medal: GOLD\n",
       "Last run: Tue Aug 16 16:57:07 2022\n",
       "Runtime: 51s\n",
       "Views per vote: 15\">Investment and Financial Analysis  🏭 EPZ</a></td>\n",
       "      <td id=\"T_9b6cb_row4_col1\" class=\"data row4 col1\" >920</td>\n",
       "      <td id=\"T_9b6cb_row4_col2\" class=\"data row4 col2\" >61</td>\n",
       "      <td id=\"T_9b6cb_row4_col3\" class=\"data row4 col3\" >463</td>\n",
       "      <td id=\"T_9b6cb_row4_col4\" class=\"data row4 col4\" >23</td>\n",
       "    </tr>\n",
       "    <tr>\n",
       "      <td id=\"T_9b6cb_row5_col0\" class=\"data row5 col0\" ><a href=\"https://www.kaggle.com/code/azminetoushikwasi/cristiano-ronaldo-goals-eda-analysis\"  title=\"Language: Python\n",
       "Medal: GOLD\n",
       "Last run: Tue Aug 16 08:15:56 2022\n",
       "Runtime: 51s\n",
       "Views per vote: 33\">▶️ Cristiano Ronaldo ⚽ Goals  📊 EDA, Analysis</a></td>\n",
       "      <td id=\"T_9b6cb_row5_col1\" class=\"data row5 col1\" >2,736</td>\n",
       "      <td id=\"T_9b6cb_row5_col2\" class=\"data row5 col2\" >83</td>\n",
       "      <td id=\"T_9b6cb_row5_col3\" class=\"data row5 col3\" >357</td>\n",
       "      <td id=\"T_9b6cb_row5_col4\" class=\"data row5 col4\" >38</td>\n",
       "    </tr>\n",
       "    <tr>\n",
       "      <td id=\"T_9b6cb_row6_col0\" class=\"data row6 col0\" ><a href=\"https://www.kaggle.com/code/azminetoushikwasi/classification-comparing-different-algorithms\"  title=\"Language: Python\n",
       "Medal: GOLD\n",
       "Last run: Sun Aug  7 20:11:54 2022\n",
       "Runtime: 49s\n",
       "Views per vote: 23\">Classification ➡️ Comparing Different Algorithms</a></td>\n",
       "      <td id=\"T_9b6cb_row6_col1\" class=\"data row6 col1\" >1,701</td>\n",
       "      <td id=\"T_9b6cb_row6_col2\" class=\"data row6 col2\" >73</td>\n",
       "      <td id=\"T_9b6cb_row6_col3\" class=\"data row6 col3\" >407</td>\n",
       "      <td id=\"T_9b6cb_row6_col4\" class=\"data row6 col4\" >11</td>\n",
       "    </tr>\n",
       "    <tr>\n",
       "      <td id=\"T_9b6cb_row7_col0\" class=\"data row7 col0\" ><a href=\"https://www.kaggle.com/code/azminetoushikwasi/advanced-feature-engineering-for-classification\"  title=\"Language: Python\n",
       "Medal: GOLD\n",
       "Last run: Wed Aug  3 08:23:12 2022\n",
       "Runtime: 68s\n",
       "Views per vote: 39\">Advanced Feature Engineering for Classification</a></td>\n",
       "      <td id=\"T_9b6cb_row7_col1\" class=\"data row7 col1\" >2,873</td>\n",
       "      <td id=\"T_9b6cb_row7_col2\" class=\"data row7 col2\" >73</td>\n",
       "      <td id=\"T_9b6cb_row7_col3\" class=\"data row7 col3\" >382</td>\n",
       "      <td id=\"T_9b6cb_row7_col4\" class=\"data row7 col4\" >20</td>\n",
       "    </tr>\n",
       "    <tr>\n",
       "      <td id=\"T_9b6cb_row8_col0\" class=\"data row8 col0\" ><a href=\"https://www.kaggle.com/code/azminetoushikwasi/ucl-eda-viz-2021-22-players-teams\"  title=\"Language: Python\n",
       "Medal: GOLD\n",
       "Last run: Wed Jul 27 09:00:24 2022\n",
       "Runtime: 60s\n",
       "Views per vote: 31\">UCL ⚽ EDA & Viz ⭐ 2021-22 ⭐ Players & Teams</a></td>\n",
       "      <td id=\"T_9b6cb_row8_col1\" class=\"data row8 col1\" >2,318</td>\n",
       "      <td id=\"T_9b6cb_row8_col2\" class=\"data row8 col2\" >75</td>\n",
       "      <td id=\"T_9b6cb_row8_col3\" class=\"data row8 col3\" >536</td>\n",
       "      <td id=\"T_9b6cb_row8_col4\" class=\"data row8 col4\" >27</td>\n",
       "    </tr>\n",
       "    <tr>\n",
       "      <td id=\"T_9b6cb_row9_col0\" class=\"data row9 col0\" ><a href=\"https://www.kaggle.com/code/azminetoushikwasi/mastering-bias-variance-tradeoff\"  title=\"Language: Python\n",
       "Medal: GOLD\n",
       "Last run: Tue Jul 19 01:47:02 2022\n",
       "Runtime: 50s\n",
       "Views per vote: 40\">Mastering Bias-Variance Tradeoff </a></td>\n",
       "      <td id=\"T_9b6cb_row9_col1\" class=\"data row9 col1\" >4,417</td>\n",
       "      <td id=\"T_9b6cb_row9_col2\" class=\"data row9 col2\" >109</td>\n",
       "      <td id=\"T_9b6cb_row9_col3\" class=\"data row9 col3\" >592</td>\n",
       "      <td id=\"T_9b6cb_row9_col4\" class=\"data row9 col4\" >33</td>\n",
       "    </tr>\n",
       "    <tr>\n",
       "      <td id=\"T_9b6cb_row10_col0\" class=\"data row10 col0\" ><a href=\"https://www.kaggle.com/code/azminetoushikwasi/divorce-prediction-reasons-xgb-shap-rfe-tsne\"  title=\"Language: Python\n",
       "Medal: GOLD\n",
       "Last run: Sun Jul 17 06:36:10 2022\n",
       "Runtime: 102s\n",
       "Views per vote: 27\">Divorce Prediction & Reasons : XGB,SHAP,RFE,TSNE</a></td>\n",
       "      <td id=\"T_9b6cb_row10_col1\" class=\"data row10 col1\" >1,720</td>\n",
       "      <td id=\"T_9b6cb_row10_col2\" class=\"data row10 col2\" >63</td>\n",
       "      <td id=\"T_9b6cb_row10_col3\" class=\"data row10 col3\" >608</td>\n",
       "      <td id=\"T_9b6cb_row10_col4\" class=\"data row10 col4\" >20</td>\n",
       "    </tr>\n",
       "    <tr>\n",
       "      <td id=\"T_9b6cb_row11_col0\" class=\"data row11 col0\" ><a href=\"https://www.kaggle.com/code/azminetoushikwasi/lionel-messi-extended-eda-goals\"  title=\"Language: Python\n",
       "Medal: GOLD\n",
       "Last run: Sat Jul  9 12:08:22 2022\n",
       "Runtime: 56s\n",
       "Views per vote: 30\">▶️ Lionel Messi 📊 Extended EDA ⚽ Goals </a></td>\n",
       "      <td id=\"T_9b6cb_row11_col1\" class=\"data row11 col1\" >2,648</td>\n",
       "      <td id=\"T_9b6cb_row11_col2\" class=\"data row11 col2\" >86</td>\n",
       "      <td id=\"T_9b6cb_row11_col3\" class=\"data row11 col3\" >380</td>\n",
       "      <td id=\"T_9b6cb_row11_col4\" class=\"data row11 col4\" >31</td>\n",
       "    </tr>\n",
       "    <tr>\n",
       "      <td id=\"T_9b6cb_row12_col0\" class=\"data row12 col0\" ><a href=\"https://www.kaggle.com/code/azminetoushikwasi/ml-foundation-cross-validation-all-methods\"  title=\"Language: Python\n",
       "Medal: GOLD\n",
       "Last run: Tue Jul  5 04:38:45 2022\n",
       "Runtime: 70s\n",
       "Views per vote: 24\">ML Foundation ➡️ Cross Validation ✅ All Methods</a></td>\n",
       "      <td id=\"T_9b6cb_row12_col1\" class=\"data row12 col1\" >1,979</td>\n",
       "      <td id=\"T_9b6cb_row12_col2\" class=\"data row12 col2\" >80</td>\n",
       "      <td id=\"T_9b6cb_row12_col3\" class=\"data row12 col3\" >342</td>\n",
       "      <td id=\"T_9b6cb_row12_col4\" class=\"data row12 col4\" >17</td>\n",
       "    </tr>\n",
       "    <tr>\n",
       "      <td id=\"T_9b6cb_row13_col0\" class=\"data row13 col0\" ><a href=\"https://www.kaggle.com/code/azminetoushikwasi/different-clustering-techniques-and-algorithms\"  title=\"Language: Python\n",
       "Medal: GOLD\n",
       "Last run: Fri Jul  1 18:28:34 2022\n",
       "Runtime: 6s\n",
       "Views per vote: 18\">Different Clustering Techniques and Algorithms</a></td>\n",
       "      <td id=\"T_9b6cb_row13_col1\" class=\"data row13 col1\" >2,790</td>\n",
       "      <td id=\"T_9b6cb_row13_col2\" class=\"data row13 col2\" >157</td>\n",
       "      <td id=\"T_9b6cb_row13_col3\" class=\"data row13 col3\" >645</td>\n",
       "      <td id=\"T_9b6cb_row13_col4\" class=\"data row13 col4\" >18</td>\n",
       "    </tr>\n",
       "    <tr>\n",
       "      <td id=\"T_9b6cb_row14_col0\" class=\"data row14 col0\" ><a href=\"https://www.kaggle.com/code/azminetoushikwasi/all-imputation-techniques-with-pros-and-cons\"  title=\"Language: Python\n",
       "Medal: GOLD\n",
       "Last run: Fri Jul  1 08:32:21 2022\n",
       "Runtime: 85s\n",
       "Views per vote: 34\">All Imputation Techniques with Pros and Cons</a></td>\n",
       "      <td id=\"T_9b6cb_row14_col1\" class=\"data row14 col1\" >6,462</td>\n",
       "      <td id=\"T_9b6cb_row14_col2\" class=\"data row14 col2\" >190</td>\n",
       "      <td id=\"T_9b6cb_row14_col3\" class=\"data row14 col3\" >357</td>\n",
       "      <td id=\"T_9b6cb_row14_col4\" class=\"data row14 col4\" >37</td>\n",
       "    </tr>\n",
       "  </tbody>\n",
       "</table>\n"
      ],
      "text/plain": [
       "<pandas.io.formats.style.Styler at 0x1c9db519eb0>"
      ]
     },
     "execution_count": 6,
     "metadata": {},
     "output_type": "execute_result"
    }
   ],
   "source": [
    "display(Markdown(f'# Notebooks by {df.author_displayName.get(0)}'))\n",
    "df['viewsPerVote'] = df.eval('(totalViews+1)/(totalVotes+1)')\n",
    "df['lastRun'] = pd.to_datetime(df.lastRunTime).dt.strftime('%c')\n",
    "stats = ['totalViews', 'totalVotes', 'totalLines', 'totalComments']\n",
    "links = ('<a href=\"https://www.kaggle.com' + df.scriptUrl + '\" '\n",
    "         + ' title=\"'\n",
    "         + 'Language: ' + df.languageName.fillna('N/A') + '\\n'\n",
    "         + 'Medal: ' + df.medal.fillna('N/A') + '\\n'\n",
    "         + 'Last run: ' + df.lastRun + '\\n'\n",
    "         + 'Runtime: ' + df.lastRunExecutionTimeSeconds.map(str) + 's' + '\\n'\n",
    "         + 'Views per vote: ' + df.eval('(totalViews+1)/(totalVotes+1)').apply(lambda x: f'{x:,.0f}')\n",
    "         + '\">' # end title=\"...\"\n",
    "         + df.title\n",
    "         + '</a>')\n",
    "show = df[['title'] + stats].copy()\n",
    "show['title'] = links\n",
    "show.style.format({k:'{:,.0f}' for k in stats}, na_rep=\"\").hide_index().bar(width=50, color='#4cf')"
   ]
  },
  {
   "cell_type": "code",
   "execution_count": 7,
   "id": "112b6326",
   "metadata": {},
   "outputs": [],
   "source": [
    "df['medal'].fillna('N/A', inplace=True)\n",
    "medal_data=df[['medal','title']].set_index('title')\n",
    "medal_data=medal_data.to_dict(orient='index')"
   ]
  },
  {
   "cell_type": "markdown",
   "id": "ad6989db",
   "metadata": {
    "papermill": {
     "duration": 0.006343,
     "end_time": "2022-06-12T00:06:04.064594",
     "exception": false,
     "start_time": "2022-06-12T00:06:04.058251",
     "status": "completed"
    },
    "tags": []
   },
   "source": [
    "# Plotly Scatter Plot\n",
    "\n",
    "You may want to tweak these settings depending on how many notebooks you have...\n"
   ]
  },
  {
   "cell_type": "code",
   "execution_count": 8,
   "id": "b5af83c5",
   "metadata": {
    "_kg_hide-input": true,
    "execution": {
     "iopub.execute_input": "2022-06-12T00:06:04.079824Z",
     "iopub.status.busy": "2022-06-12T00:06:04.079134Z",
     "iopub.status.idle": "2022-06-12T00:06:08.110631Z",
     "shell.execute_reply": "2022-06-12T00:06:08.109685Z"
    },
    "papermill": {
     "duration": 4.041848,
     "end_time": "2022-06-12T00:06:08.112985",
     "exception": false,
     "start_time": "2022-06-12T00:06:04.071137",
     "status": "completed"
    },
    "tags": []
   },
   "outputs": [
    {
     "data": {
      "application/vnd.plotly.v1+json": {
       "config": {
        "plotlyServerURL": "https://plot.ly"
       },
       "data": [
        {
         "customdata": [
          [
           5.93607305936073,
           435,
           22,
           16.547169811320753,
           "Python",
           44,
           "Thu Aug 25 18:05:03 2022",
           307,
           "SILVER"
          ],
          [
           4.797047970479705,
           2878,
           3,
           20.11111111111111,
           "Python",
           3,
           "Tue Aug 23 09:28:55 2022",
           4,
           "SILVER"
          ],
          [
           5.777777777777778,
           416,
           22,
           17,
           "Python",
           23,
           "Tue Aug 23 08:59:33 2022",
           458,
           "SILVER"
          ]
         ],
         "hovertemplate": "<b>%{hovertext}</b><br><br>medal=%{customdata[8]}<br>totalViews=%{x:,.0f}<br>totalVotes=%{y:,.0f}<br>totalLines=%{customdata[1]:,.0f}<br>totalComments=%{customdata[2]:,.0f}<br>viewsPerVote=%{customdata[3]:,.0f}<br>languageName=%{customdata[4]}<br>versionNumber=%{customdata[5]}<br>lastRun=%{customdata[6]}<br>lastRunExecutionTimeSeconds=%{customdata[7]:,.0f}<extra></extra>",
         "hovertext": [
          "Daily AQI - Air Quality Index [Scheduled]",
          "House Price Prediction with Stacking & Ensembling",
          "Coursera 📉 EDA, Reviews Sentiment Analysis"
         ],
         "legendgroup": "SILVER",
         "marker": {
          "color": "silver",
          "size": [
           5.93607305936073,
           4.797047970479705,
           5.777777777777778
          ],
          "sizemode": "area",
          "sizeref": 0.01657608695652174,
          "symbol": "circle"
         },
         "mode": "markers",
         "name": "SILVER",
         "orientation": "v",
         "showlegend": true,
         "type": "scatter",
         "x": [
          876,
          542,
          900
         ],
         "xaxis": "x",
         "y": [
          52,
          26,
          52
         ],
         "yaxis": "y"
        },
        {
         "hovertemplate": "<b>OLS trendline</b><br>totalVotes = 0.0748743 * totalViews + -14.5196<br>R<sup>2</sup>=0.996404<br><br>medal=SILVER<br>totalViews=%{x:,.0f}<br>totalVotes=%{y:,.0f} <b>(trend)</b><extra></extra>",
         "legendgroup": "SILVER",
         "marker": {
          "color": "silver",
          "symbol": "circle"
         },
         "mode": "lines",
         "name": "SILVER",
         "showlegend": false,
         "type": "scatter",
         "x": [
          542,
          876,
          900
         ],
         "xaxis": "x",
         "y": [
          26.062323134800415,
          51.07034657256051,
          52.86733029263908
         ],
         "yaxis": "y"
        },
        {
         "customdata": [
          [
           2.3475445223961144,
           586,
           16,
           42.125,
           "Python",
           5,
           "Mon Aug 22 17:28:35 2022",
           50,
           "GOLD"
          ],
          [
           6.630434782608696,
           463,
           23,
           14.85483870967742,
           "Python",
           20,
           "Tue Aug 16 16:57:07 2022",
           51,
           "GOLD"
          ],
          [
           3.0336257309941517,
           357,
           38,
           32.583333333333336,
           "Python",
           17,
           "Tue Aug 16 08:15:56 2022",
           51,
           "GOLD"
          ],
          [
           4.291593180482069,
           407,
           11,
           23,
           "Python",
           6,
           "Sun Aug  7 20:11:54 2022",
           49,
           "GOLD"
          ],
          [
           2.540898016011138,
           382,
           20,
           38.83783783783784,
           "Python",
           13,
           "Wed Aug  3 08:23:12 2022",
           68,
           "GOLD"
          ],
          [
           3.235547886108715,
           536,
           27,
           30.513157894736842,
           "Python",
           16,
           "Wed Jul 27 09:00:24 2022",
           60,
           "GOLD"
          ],
          [
           2.4677382839031017,
           592,
           33,
           40.163636363636364,
           "Python",
           14,
           "Tue Jul 19 01:47:02 2022",
           50,
           "GOLD"
          ],
          [
           3.662790697674419,
           608,
           20,
           26.890625,
           "Python",
           19,
           "Sun Jul 17 06:36:10 2022",
           102,
           "GOLD"
          ],
          [
           3.2477341389728096,
           380,
           31,
           30.448275862068964,
           "Python",
           13,
           "Sat Jul  9 12:08:22 2022",
           56,
           "GOLD"
          ],
          [
           4.04244567963618,
           342,
           17,
           24.444444444444443,
           "Python",
           14,
           "Tue Jul  5 04:38:45 2022",
           70,
           "GOLD"
          ],
          [
           5.627240143369176,
           645,
           18,
           17.664556962025316,
           "Python",
           1,
           "Fri Jul  1 18:28:34 2022",
           6,
           "GOLD"
          ],
          [
           2.9402661714639433,
           357,
           37,
           33.83769633507853,
           "Python",
           7,
           "Fri Jul  1 08:32:21 2022",
           85,
           "GOLD"
          ]
         ],
         "hovertemplate": "<b>%{hovertext}</b><br><br>medal=%{customdata[8]}<br>totalViews=%{x:,.0f}<br>totalVotes=%{y:,.0f}<br>totalLines=%{customdata[1]:,.0f}<br>totalComments=%{customdata[2]:,.0f}<br>viewsPerVote=%{customdata[3]:,.0f}<br>languageName=%{customdata[4]}<br>versionNumber=%{customdata[5]}<br>lastRun=%{customdata[6]}<br>lastRunExecutionTimeSeconds=%{customdata[7]:,.0f}<extra></extra>",
         "hovertext": [
          "XGBoost | Wrangling with Hyperparameters | Guide",
          "Investment and Financial Analysis  🏭 EPZ",
          "▶️ Cristiano Ronaldo ⚽ Goals  📊 EDA, Analysis",
          "Classification ➡️ Comparing Different Algorithms",
          "Advanced Feature Engineering for Classification",
          "UCL ⚽ EDA & Viz ⭐ 2021-22 ⭐ Players & Teams",
          "Mastering Bias-Variance Tradeoff ",
          "Divorce Prediction & Reasons : XGB,SHAP,RFE,TSNE",
          "▶️ Lionel Messi 📊 Extended EDA ⚽ Goals ",
          "ML Foundation ➡️ Cross Validation ✅ All Methods",
          "Different Clustering Techniques and Algorithms",
          "All Imputation Techniques with Pros and Cons"
         ],
         "legendgroup": "GOLD",
         "marker": {
          "color": "gold",
          "size": [
           2.3475445223961144,
           6.630434782608696,
           3.0336257309941517,
           4.291593180482069,
           2.540898016011138,
           3.235547886108715,
           2.4677382839031017,
           3.662790697674419,
           3.2477341389728096,
           4.04244567963618,
           5.627240143369176,
           2.9402661714639433
          ],
          "sizemode": "area",
          "sizeref": 0.01657608695652174,
          "symbol": "circle"
         },
         "mode": "markers",
         "name": "GOLD",
         "orientation": "v",
         "showlegend": true,
         "type": "scatter",
         "x": [
          3706,
          920,
          2736,
          1701,
          2873,
          2318,
          4417,
          1720,
          2648,
          1979,
          2790,
          6462
         ],
         "xaxis": "x",
         "y": [
          87,
          61,
          83,
          73,
          73,
          75,
          109,
          63,
          86,
          80,
          157,
          190
         ],
         "yaxis": "y"
        },
        {
         "hovertemplate": "<b>OLS trendline</b><br>totalVotes = 0.0214733 * totalViews + 33.4259<br>R<sup>2</sup>=0.636904<br><br>medal=GOLD<br>totalViews=%{x:,.0f}<br>totalVotes=%{y:,.0f} <b>(trend)</b><extra></extra>",
         "legendgroup": "GOLD",
         "marker": {
          "color": "gold",
          "symbol": "circle"
         },
         "mode": "lines",
         "name": "GOLD",
         "showlegend": false,
         "type": "scatter",
         "x": [
          920,
          1701,
          1720,
          1979,
          2318,
          2648,
          2736,
          2790,
          2873,
          3706,
          4417,
          6462
         ],
         "xaxis": "x",
         "y": [
          53.1813464183727,
          69.95196292147261,
          70.35995487225225,
          75.92152935919576,
          83.20096469152722,
          90.28714067875254,
          92.17678760867929,
          93.33634367931616,
          95.11862430640616,
          113.00585035900825,
          128.2733386223937,
          172.18615648262335
         ],
         "yaxis": "y"
        }
       ],
       "layout": {
        "height": 800,
        "legend": {
         "itemsizing": "constant",
         "title": {
          "text": "medal"
         },
         "tracegroupgap": 0
        },
        "template": {
         "data": {
          "bar": [
           {
            "error_x": {
             "color": "#f2f5fa"
            },
            "error_y": {
             "color": "#f2f5fa"
            },
            "marker": {
             "line": {
              "color": "rgb(17,17,17)",
              "width": 0.5
             },
             "pattern": {
              "fillmode": "overlay",
              "size": 10,
              "solidity": 0.2
             }
            },
            "type": "bar"
           }
          ],
          "barpolar": [
           {
            "marker": {
             "line": {
              "color": "rgb(17,17,17)",
              "width": 0.5
             },
             "pattern": {
              "fillmode": "overlay",
              "size": 10,
              "solidity": 0.2
             }
            },
            "type": "barpolar"
           }
          ],
          "carpet": [
           {
            "aaxis": {
             "endlinecolor": "#A2B1C6",
             "gridcolor": "#506784",
             "linecolor": "#506784",
             "minorgridcolor": "#506784",
             "startlinecolor": "#A2B1C6"
            },
            "baxis": {
             "endlinecolor": "#A2B1C6",
             "gridcolor": "#506784",
             "linecolor": "#506784",
             "minorgridcolor": "#506784",
             "startlinecolor": "#A2B1C6"
            },
            "type": "carpet"
           }
          ],
          "choropleth": [
           {
            "colorbar": {
             "outlinewidth": 0,
             "ticks": ""
            },
            "type": "choropleth"
           }
          ],
          "contour": [
           {
            "colorbar": {
             "outlinewidth": 0,
             "ticks": ""
            },
            "colorscale": [
             [
              0,
              "#0d0887"
             ],
             [
              0.1111111111111111,
              "#46039f"
             ],
             [
              0.2222222222222222,
              "#7201a8"
             ],
             [
              0.3333333333333333,
              "#9c179e"
             ],
             [
              0.4444444444444444,
              "#bd3786"
             ],
             [
              0.5555555555555556,
              "#d8576b"
             ],
             [
              0.6666666666666666,
              "#ed7953"
             ],
             [
              0.7777777777777778,
              "#fb9f3a"
             ],
             [
              0.8888888888888888,
              "#fdca26"
             ],
             [
              1,
              "#f0f921"
             ]
            ],
            "type": "contour"
           }
          ],
          "contourcarpet": [
           {
            "colorbar": {
             "outlinewidth": 0,
             "ticks": ""
            },
            "type": "contourcarpet"
           }
          ],
          "heatmap": [
           {
            "colorbar": {
             "outlinewidth": 0,
             "ticks": ""
            },
            "colorscale": [
             [
              0,
              "#0d0887"
             ],
             [
              0.1111111111111111,
              "#46039f"
             ],
             [
              0.2222222222222222,
              "#7201a8"
             ],
             [
              0.3333333333333333,
              "#9c179e"
             ],
             [
              0.4444444444444444,
              "#bd3786"
             ],
             [
              0.5555555555555556,
              "#d8576b"
             ],
             [
              0.6666666666666666,
              "#ed7953"
             ],
             [
              0.7777777777777778,
              "#fb9f3a"
             ],
             [
              0.8888888888888888,
              "#fdca26"
             ],
             [
              1,
              "#f0f921"
             ]
            ],
            "type": "heatmap"
           }
          ],
          "heatmapgl": [
           {
            "colorbar": {
             "outlinewidth": 0,
             "ticks": ""
            },
            "colorscale": [
             [
              0,
              "#0d0887"
             ],
             [
              0.1111111111111111,
              "#46039f"
             ],
             [
              0.2222222222222222,
              "#7201a8"
             ],
             [
              0.3333333333333333,
              "#9c179e"
             ],
             [
              0.4444444444444444,
              "#bd3786"
             ],
             [
              0.5555555555555556,
              "#d8576b"
             ],
             [
              0.6666666666666666,
              "#ed7953"
             ],
             [
              0.7777777777777778,
              "#fb9f3a"
             ],
             [
              0.8888888888888888,
              "#fdca26"
             ],
             [
              1,
              "#f0f921"
             ]
            ],
            "type": "heatmapgl"
           }
          ],
          "histogram": [
           {
            "marker": {
             "pattern": {
              "fillmode": "overlay",
              "size": 10,
              "solidity": 0.2
             }
            },
            "type": "histogram"
           }
          ],
          "histogram2d": [
           {
            "colorbar": {
             "outlinewidth": 0,
             "ticks": ""
            },
            "colorscale": [
             [
              0,
              "#0d0887"
             ],
             [
              0.1111111111111111,
              "#46039f"
             ],
             [
              0.2222222222222222,
              "#7201a8"
             ],
             [
              0.3333333333333333,
              "#9c179e"
             ],
             [
              0.4444444444444444,
              "#bd3786"
             ],
             [
              0.5555555555555556,
              "#d8576b"
             ],
             [
              0.6666666666666666,
              "#ed7953"
             ],
             [
              0.7777777777777778,
              "#fb9f3a"
             ],
             [
              0.8888888888888888,
              "#fdca26"
             ],
             [
              1,
              "#f0f921"
             ]
            ],
            "type": "histogram2d"
           }
          ],
          "histogram2dcontour": [
           {
            "colorbar": {
             "outlinewidth": 0,
             "ticks": ""
            },
            "colorscale": [
             [
              0,
              "#0d0887"
             ],
             [
              0.1111111111111111,
              "#46039f"
             ],
             [
              0.2222222222222222,
              "#7201a8"
             ],
             [
              0.3333333333333333,
              "#9c179e"
             ],
             [
              0.4444444444444444,
              "#bd3786"
             ],
             [
              0.5555555555555556,
              "#d8576b"
             ],
             [
              0.6666666666666666,
              "#ed7953"
             ],
             [
              0.7777777777777778,
              "#fb9f3a"
             ],
             [
              0.8888888888888888,
              "#fdca26"
             ],
             [
              1,
              "#f0f921"
             ]
            ],
            "type": "histogram2dcontour"
           }
          ],
          "mesh3d": [
           {
            "colorbar": {
             "outlinewidth": 0,
             "ticks": ""
            },
            "type": "mesh3d"
           }
          ],
          "parcoords": [
           {
            "line": {
             "colorbar": {
              "outlinewidth": 0,
              "ticks": ""
             }
            },
            "type": "parcoords"
           }
          ],
          "pie": [
           {
            "automargin": true,
            "type": "pie"
           }
          ],
          "scatter": [
           {
            "marker": {
             "line": {
              "color": "#283442"
             }
            },
            "type": "scatter"
           }
          ],
          "scatter3d": [
           {
            "line": {
             "colorbar": {
              "outlinewidth": 0,
              "ticks": ""
             }
            },
            "marker": {
             "colorbar": {
              "outlinewidth": 0,
              "ticks": ""
             }
            },
            "type": "scatter3d"
           }
          ],
          "scattercarpet": [
           {
            "marker": {
             "colorbar": {
              "outlinewidth": 0,
              "ticks": ""
             }
            },
            "type": "scattercarpet"
           }
          ],
          "scattergeo": [
           {
            "marker": {
             "colorbar": {
              "outlinewidth": 0,
              "ticks": ""
             }
            },
            "type": "scattergeo"
           }
          ],
          "scattergl": [
           {
            "marker": {
             "line": {
              "color": "#283442"
             }
            },
            "type": "scattergl"
           }
          ],
          "scattermapbox": [
           {
            "marker": {
             "colorbar": {
              "outlinewidth": 0,
              "ticks": ""
             }
            },
            "type": "scattermapbox"
           }
          ],
          "scatterpolar": [
           {
            "marker": {
             "colorbar": {
              "outlinewidth": 0,
              "ticks": ""
             }
            },
            "type": "scatterpolar"
           }
          ],
          "scatterpolargl": [
           {
            "marker": {
             "colorbar": {
              "outlinewidth": 0,
              "ticks": ""
             }
            },
            "type": "scatterpolargl"
           }
          ],
          "scatterternary": [
           {
            "marker": {
             "colorbar": {
              "outlinewidth": 0,
              "ticks": ""
             }
            },
            "type": "scatterternary"
           }
          ],
          "surface": [
           {
            "colorbar": {
             "outlinewidth": 0,
             "ticks": ""
            },
            "colorscale": [
             [
              0,
              "#0d0887"
             ],
             [
              0.1111111111111111,
              "#46039f"
             ],
             [
              0.2222222222222222,
              "#7201a8"
             ],
             [
              0.3333333333333333,
              "#9c179e"
             ],
             [
              0.4444444444444444,
              "#bd3786"
             ],
             [
              0.5555555555555556,
              "#d8576b"
             ],
             [
              0.6666666666666666,
              "#ed7953"
             ],
             [
              0.7777777777777778,
              "#fb9f3a"
             ],
             [
              0.8888888888888888,
              "#fdca26"
             ],
             [
              1,
              "#f0f921"
             ]
            ],
            "type": "surface"
           }
          ],
          "table": [
           {
            "cells": {
             "fill": {
              "color": "#506784"
             },
             "line": {
              "color": "rgb(17,17,17)"
             }
            },
            "header": {
             "fill": {
              "color": "#2a3f5f"
             },
             "line": {
              "color": "rgb(17,17,17)"
             }
            },
            "type": "table"
           }
          ]
         },
         "layout": {
          "annotationdefaults": {
           "arrowcolor": "#f2f5fa",
           "arrowhead": 0,
           "arrowwidth": 1
          },
          "autotypenumbers": "strict",
          "coloraxis": {
           "colorbar": {
            "outlinewidth": 0,
            "ticks": ""
           }
          },
          "colorscale": {
           "diverging": [
            [
             0,
             "#8e0152"
            ],
            [
             0.1,
             "#c51b7d"
            ],
            [
             0.2,
             "#de77ae"
            ],
            [
             0.3,
             "#f1b6da"
            ],
            [
             0.4,
             "#fde0ef"
            ],
            [
             0.5,
             "#f7f7f7"
            ],
            [
             0.6,
             "#e6f5d0"
            ],
            [
             0.7,
             "#b8e186"
            ],
            [
             0.8,
             "#7fbc41"
            ],
            [
             0.9,
             "#4d9221"
            ],
            [
             1,
             "#276419"
            ]
           ],
           "sequential": [
            [
             0,
             "#0d0887"
            ],
            [
             0.1111111111111111,
             "#46039f"
            ],
            [
             0.2222222222222222,
             "#7201a8"
            ],
            [
             0.3333333333333333,
             "#9c179e"
            ],
            [
             0.4444444444444444,
             "#bd3786"
            ],
            [
             0.5555555555555556,
             "#d8576b"
            ],
            [
             0.6666666666666666,
             "#ed7953"
            ],
            [
             0.7777777777777778,
             "#fb9f3a"
            ],
            [
             0.8888888888888888,
             "#fdca26"
            ],
            [
             1,
             "#f0f921"
            ]
           ],
           "sequentialminus": [
            [
             0,
             "#0d0887"
            ],
            [
             0.1111111111111111,
             "#46039f"
            ],
            [
             0.2222222222222222,
             "#7201a8"
            ],
            [
             0.3333333333333333,
             "#9c179e"
            ],
            [
             0.4444444444444444,
             "#bd3786"
            ],
            [
             0.5555555555555556,
             "#d8576b"
            ],
            [
             0.6666666666666666,
             "#ed7953"
            ],
            [
             0.7777777777777778,
             "#fb9f3a"
            ],
            [
             0.8888888888888888,
             "#fdca26"
            ],
            [
             1,
             "#f0f921"
            ]
           ]
          },
          "colorway": [
           "#636efa",
           "#EF553B",
           "#00cc96",
           "#ab63fa",
           "#FFA15A",
           "#19d3f3",
           "#FF6692",
           "#B6E880",
           "#FF97FF",
           "#FECB52"
          ],
          "font": {
           "color": "#f2f5fa"
          },
          "geo": {
           "bgcolor": "rgb(17,17,17)",
           "lakecolor": "rgb(17,17,17)",
           "landcolor": "rgb(17,17,17)",
           "showlakes": true,
           "showland": true,
           "subunitcolor": "#506784"
          },
          "hoverlabel": {
           "align": "left"
          },
          "hovermode": "closest",
          "mapbox": {
           "style": "dark"
          },
          "paper_bgcolor": "rgb(17,17,17)",
          "plot_bgcolor": "rgb(17,17,17)",
          "polar": {
           "angularaxis": {
            "gridcolor": "#506784",
            "linecolor": "#506784",
            "ticks": ""
           },
           "bgcolor": "rgb(17,17,17)",
           "radialaxis": {
            "gridcolor": "#506784",
            "linecolor": "#506784",
            "ticks": ""
           }
          },
          "scene": {
           "xaxis": {
            "backgroundcolor": "rgb(17,17,17)",
            "gridcolor": "#506784",
            "gridwidth": 2,
            "linecolor": "#506784",
            "showbackground": true,
            "ticks": "",
            "zerolinecolor": "#C8D4E3"
           },
           "yaxis": {
            "backgroundcolor": "rgb(17,17,17)",
            "gridcolor": "#506784",
            "gridwidth": 2,
            "linecolor": "#506784",
            "showbackground": true,
            "ticks": "",
            "zerolinecolor": "#C8D4E3"
           },
           "zaxis": {
            "backgroundcolor": "rgb(17,17,17)",
            "gridcolor": "#506784",
            "gridwidth": 2,
            "linecolor": "#506784",
            "showbackground": true,
            "ticks": "",
            "zerolinecolor": "#C8D4E3"
           }
          },
          "shapedefaults": {
           "line": {
            "color": "#f2f5fa"
           }
          },
          "sliderdefaults": {
           "bgcolor": "#C8D4E3",
           "bordercolor": "rgb(17,17,17)",
           "borderwidth": 1,
           "tickwidth": 0
          },
          "ternary": {
           "aaxis": {
            "gridcolor": "#506784",
            "linecolor": "#506784",
            "ticks": ""
           },
           "baxis": {
            "gridcolor": "#506784",
            "linecolor": "#506784",
            "ticks": ""
           },
           "bgcolor": "rgb(17,17,17)",
           "caxis": {
            "gridcolor": "#506784",
            "linecolor": "#506784",
            "ticks": ""
           }
          },
          "title": {
           "x": 0.05
          },
          "updatemenudefaults": {
           "bgcolor": "#506784",
           "borderwidth": 0
          },
          "xaxis": {
           "automargin": true,
           "gridcolor": "#283442",
           "linecolor": "#506784",
           "ticks": "",
           "title": {
            "standoff": 15
           },
           "zerolinecolor": "#283442",
           "zerolinewidth": 2
          },
          "yaxis": {
           "automargin": true,
           "gridcolor": "#283442",
           "linecolor": "#506784",
           "ticks": "",
           "title": {
            "standoff": 15
           },
           "zerolinecolor": "#283442",
           "zerolinewidth": 2
          }
         }
        },
        "title": {
         "text": "Notebooks by Thomas Shelby Today 2022-08-26"
        },
        "xaxis": {
         "anchor": "y",
         "domain": [
          0,
          1
         ],
         "title": {
          "text": "totalViews"
         }
        },
        "yaxis": {
         "anchor": "x",
         "domain": [
          0,
          1
         ],
         "title": {
          "text": "totalVotes"
         }
        }
       }
      }
     },
     "metadata": {},
     "output_type": "display_data"
    }
   ],
   "source": [
    "import plotly.express as px\n",
    "from datetime import datetime\n",
    "\n",
    "\n",
    "df['totalComments'].fillna(0, inplace=True)\n",
    "df['medal'].fillna('N/A', inplace=True)\n",
    "#df['size'] = df['totalComments'].clip(lower=1) \n",
    "df['size'] = df['totalVotes']/df['totalViews']*100\n",
    "color_map = {\n",
    "    'GOLD': 'gold',\n",
    "    'SILVER': 'silver',\n",
    "    'BRONZE': 'chocolate',\n",
    "    'N/A': '#333'\n",
    "}\n",
    "fig=px.scatter(\n",
    "    df,\n",
    "    'totalViews',\n",
    "    'totalVotes',\n",
    "    title=f'Notebooks by {df.author_displayName.get(0)} Today '+str(datetime.today().strftime('%Y-%m-%d')),\n",
    "    log_x=False,\n",
    "    log_y=False,\n",
    "    #width=800, \n",
    "    height=800,\n",
    "    color='medal',\n",
    "    color_discrete_map=color_map,\n",
    "    size='size',\n",
    "    trendline='ols',\n",
    "    #symbol='title',\n",
    "    trendline_options=dict(log_x=False, log_y=False, add_constant=True),\n",
    "    #trendline='lowess', # Use for Locally Weighted Scatterplot Smoothing line\n",
    "    #trendline_scope='overall', # Use this for one trendline\n",
    "    template='plotly_dark',\n",
    "    hover_name='title',\n",
    "    hover_data={\n",
    "        'size': False,\n",
    "        'totalViews': ':,.0f',\n",
    "        'totalVotes': ':,.0f',\n",
    "        'totalLines': ':,.0f',\n",
    "        'totalComments': ':,.0f',\n",
    "        'viewsPerVote': ':,.0f',\n",
    "        'languageName': True,\n",
    "        'versionNumber': True,\n",
    "        'lastRun': True,\n",
    "        'lastRunExecutionTimeSeconds': ':,.0f',\n",
    "        'medal': True,\n",
    "    })\n",
    "fig.update_layout(legend= {'itemsizing': 'constant'})\n",
    "fig.show()"
   ]
  },
  {
   "cell_type": "code",
   "execution_count": 9,
   "id": "aab79752",
   "metadata": {},
   "outputs": [],
   "source": [
    "links=[]\n",
    "for dirname, _, filenames in os.walk('./data/'):\n",
    "    for filename in filenames:\n",
    "        link=os.path.join(dirname, filename)\n",
    "        if filename.endswith(\".csv\"):\n",
    "            links.append(link)"
   ]
  },
  {
   "cell_type": "markdown",
   "id": "eb634aaa",
   "metadata": {
    "papermill": {
     "duration": 0.006682,
     "end_time": "2022-06-12T00:06:08.127181",
     "exception": false,
     "start_time": "2022-06-12T00:06:08.120499",
     "status": "completed"
    },
    "tags": []
   },
   "source": [
    "# Analysis"
   ]
  },
  {
   "cell_type": "code",
   "execution_count": 10,
   "id": "f9f5c79b",
   "metadata": {},
   "outputs": [],
   "source": [
    "dfx=pd.DataFrame()\n",
    "date_list=[]\n",
    "titles_dft=[]\n",
    "date_dft=[]\n",
    "count_dft=[]\n",
    "view_dft=[]\n",
    "\n",
    "gTotalUpvotes=[]\n",
    "gTotalViews=[]\n",
    "gTotalComments=[]\n",
    "\n",
    "\n",
    "for link in links:\n",
    "    date=link[25:35]\n",
    "    date_list.append(date)\n",
    "    temp_df=pd.read_csv(link)\n",
    "    \n",
    "    gTotalUpvotes.append(temp_df.totalVotes.sum())\n",
    "    gTotalViews.append(temp_df.totalViews.sum())\n",
    "    gTotalComments.append(temp_df.totalComments.sum())\n",
    "    \n",
    "    temp_titles=list(temp_df.title)\n",
    "    temp_totalVotes=list(temp_df.totalVotes)\n",
    "    temp_totalViews=list(temp_df.totalViews)\n",
    "    \n",
    "    for name in temp_titles:\n",
    "        titles_dft.append(name)\n",
    "        date_dft.append(date)\n",
    "        count_dft.append(temp_totalVotes[temp_titles.index(name)])\n",
    "        view_dft.append(temp_totalViews[temp_titles.index(name)])\n",
    "\n",
    "\n",
    "df_d={\"title\":titles_dft, \"date\":date_dft, \"count\":count_dft,\"view_count\":view_dft}\n",
    "df_d=pd.DataFrame(df_d)\n"
   ]
  },
  {
   "cell_type": "code",
   "execution_count": 11,
   "id": "ecb759a0",
   "metadata": {},
   "outputs": [],
   "source": [
    "medal=[]\n",
    "for i in range(len(df_d)):\n",
    "    try:\n",
    "        medal.append(medal_data[df_d['title'][i]]['medal'])\n",
    "    except:\n",
    "        medal.append(\"Not Found\")\n",
    "df_d['medal']=medal"
   ]
  },
  {
   "cell_type": "code",
   "execution_count": 12,
   "id": "ba6112e9",
   "metadata": {},
   "outputs": [
    {
     "data": {
      "application/vnd.plotly.v1+json": {
       "config": {
        "plotlyServerURL": "https://plot.ly"
       },
       "data": [
        {
         "hovertemplate": "<b>%{hovertext}</b><br><br>medal=GOLD<br>title=UCL ⚽ EDA & Viz ⭐ 2021-22 ⭐ Players & Teams<br>date=%{x}<br>count=%{y}<extra></extra>",
         "hovertext": [
          "UCL ⚽ EDA & Viz ⭐ 2021-22 ⭐ Players & Teams",
          "UCL ⚽ EDA & Viz ⭐ 2021-22 ⭐ Players & Teams",
          "UCL ⚽ EDA & Viz ⭐ 2021-22 ⭐ Players & Teams",
          "UCL ⚽ EDA & Viz ⭐ 2021-22 ⭐ Players & Teams",
          "UCL ⚽ EDA & Viz ⭐ 2021-22 ⭐ Players & Teams",
          "UCL ⚽ EDA & Viz ⭐ 2021-22 ⭐ Players & Teams",
          "UCL ⚽ EDA & Viz ⭐ 2021-22 ⭐ Players & Teams",
          "UCL ⚽ EDA & Viz ⭐ 2021-22 ⭐ Players & Teams",
          "UCL ⚽ EDA & Viz ⭐ 2021-22 ⭐ Players & Teams",
          "UCL ⚽ EDA & Viz ⭐ 2021-22 ⭐ Players & Teams",
          "UCL ⚽ EDA & Viz ⭐ 2021-22 ⭐ Players & Teams",
          "UCL ⚽ EDA & Viz ⭐ 2021-22 ⭐ Players & Teams",
          "UCL ⚽ EDA & Viz ⭐ 2021-22 ⭐ Players & Teams",
          "UCL ⚽ EDA & Viz ⭐ 2021-22 ⭐ Players & Teams",
          "UCL ⚽ EDA & Viz ⭐ 2021-22 ⭐ Players & Teams",
          "UCL ⚽ EDA & Viz ⭐ 2021-22 ⭐ Players & Teams",
          "UCL ⚽ EDA & Viz ⭐ 2021-22 ⭐ Players & Teams",
          "UCL ⚽ EDA & Viz ⭐ 2021-22 ⭐ Players & Teams",
          "UCL ⚽ EDA & Viz ⭐ 2021-22 ⭐ Players & Teams",
          "UCL ⚽ EDA & Viz ⭐ 2021-22 ⭐ Players & Teams",
          "UCL ⚽ EDA & Viz ⭐ 2021-22 ⭐ Players & Teams",
          "UCL ⚽ EDA & Viz ⭐ 2021-22 ⭐ Players & Teams",
          "UCL ⚽ EDA & Viz ⭐ 2021-22 ⭐ Players & Teams",
          "UCL ⚽ EDA & Viz ⭐ 2021-22 ⭐ Players & Teams",
          "UCL ⚽ EDA & Viz ⭐ 2021-22 ⭐ Players & Teams",
          "UCL ⚽ EDA & Viz ⭐ 2021-22 ⭐ Players & Teams",
          "UCL ⚽ EDA & Viz ⭐ 2021-22 ⭐ Players & Teams",
          "UCL ⚽ EDA & Viz ⭐ 2021-22 ⭐ Players & Teams",
          "UCL ⚽ EDA & Viz ⭐ 2021-22 ⭐ Players & Teams",
          "UCL ⚽ EDA & Viz ⭐ 2021-22 ⭐ Players & Teams",
          "UCL ⚽ EDA & Viz ⭐ 2021-22 ⭐ Players & Teams",
          "UCL ⚽ EDA & Viz ⭐ 2021-22 ⭐ Players & Teams",
          "UCL ⚽ EDA & Viz ⭐ 2021-22 ⭐ Players & Teams",
          "UCL ⚽ EDA & Viz ⭐ 2021-22 ⭐ Players & Teams",
          "UCL ⚽ EDA & Viz ⭐ 2021-22 ⭐ Players & Teams",
          "UCL ⚽ EDA & Viz ⭐ 2021-22 ⭐ Players & Teams",
          "UCL ⚽ EDA & Viz ⭐ 2021-22 ⭐ Players & Teams",
          "UCL ⚽ EDA & Viz ⭐ 2021-22 ⭐ Players & Teams",
          "UCL ⚽ EDA & Viz ⭐ 2021-22 ⭐ Players & Teams",
          "UCL ⚽ EDA & Viz ⭐ 2021-22 ⭐ Players & Teams",
          "UCL ⚽ EDA & Viz ⭐ 2021-22 ⭐ Players & Teams",
          "UCL ⚽ EDA & Viz ⭐ 2021-22 ⭐ Players & Teams",
          "UCL ⚽ EDA & Viz ⭐ 2021-22 ⭐ Players & Teams",
          "UCL ⚽ EDA & Viz ⭐ 2021-22 ⭐ Players & Teams",
          "UCL ⚽ EDA & Viz ⭐ 2021-22 ⭐ Players & Teams",
          "UCL ⚽ EDA & Viz ⭐ 2021-22 ⭐ Players & Teams",
          "UCL ⚽ EDA & Viz ⭐ 2021-22 ⭐ Players & Teams",
          "UCL ⚽ EDA & Viz ⭐ 2021-22 ⭐ Players & Teams",
          "UCL ⚽ EDA & Viz ⭐ 2021-22 ⭐ Players & Teams",
          "UCL ⚽ EDA & Viz ⭐ 2021-22 ⭐ Players & Teams",
          "UCL ⚽ EDA & Viz ⭐ 2021-22 ⭐ Players & Teams",
          "UCL ⚽ EDA & Viz ⭐ 2021-22 ⭐ Players & Teams",
          "UCL ⚽ EDA & Viz ⭐ 2021-22 ⭐ Players & Teams",
          "UCL ⚽ EDA & Viz ⭐ 2021-22 ⭐ Players & Teams",
          "UCL ⚽ EDA & Viz ⭐ 2021-22 ⭐ Players & Teams",
          "UCL ⚽ EDA & Viz ⭐ 2021-22 ⭐ Players & Teams"
         ],
         "legendgroup": "GOLD",
         "line": {
          "color": "gold",
          "dash": "solid",
          "shape": "spline"
         },
         "marker": {
          "symbol": "circle"
         },
         "mode": "lines",
         "name": "GOLD",
         "orientation": "v",
         "showlegend": true,
         "type": "scatter",
         "x": [
          "2022-06-12",
          "2022-06-13",
          "2022-06-14",
          "2022-06-15",
          "2022-06-16",
          "2022-06-17",
          "2022-06-18",
          "2022-06-19",
          "2022-06-20",
          "2022-06-21",
          "2022-06-22",
          "2022-06-25",
          "2022-06-26",
          "2022-06-28",
          "2022-06-29",
          "2022-07-01",
          "2022-07-02",
          "2022-07-03",
          "2022-07-04",
          "2022-07-05",
          "2022-07-06",
          "2022-07-07",
          "2022-07-11",
          "2022-07-12",
          "2022-07-14",
          "2022-07-15",
          "2022-07-17",
          "2022-07-18",
          "2022-07-21",
          "2022-07-22",
          "2022-07-23",
          "2022-07-24",
          "2022-07-25",
          "2022-07-26",
          "2022-07-29",
          "2022-07-30",
          "2022-07-31",
          "2022-08-01",
          "2022-08-03",
          "2022-08-05",
          "2022-08-06",
          "2022-08-08",
          "2022-08-10",
          "2022-08-12",
          "2022-08-14",
          "2022-08-16",
          "2022-08-17",
          "2022-08-18",
          "2022-08-19",
          "2022-08-20",
          "2022-08-21",
          "2022-08-22",
          "2022-08-23",
          "2022-08-24",
          "2022-08-25",
          "2022-08-26"
         ],
         "xaxis": "x",
         "y": [
          14,
          17,
          17,
          20,
          23,
          26,
          30,
          30,
          34,
          35,
          35,
          35,
          36,
          37,
          37,
          39,
          39,
          39,
          39,
          40,
          41,
          41,
          47,
          48,
          51,
          52,
          54,
          56,
          59,
          59,
          60,
          62,
          62,
          62,
          62,
          65,
          65,
          67,
          67,
          68,
          69,
          69,
          70,
          71,
          71,
          73,
          74,
          74,
          74,
          74,
          74,
          74,
          75,
          75,
          75,
          75
         ],
         "yaxis": "y"
        },
        {
         "hovertemplate": "<b>%{hovertext}</b><br><br>medal=GOLD<br>title=Divorce Prediction & Reasons : XGB,SHAP,RFE,TSNE<br>date=%{x}<br>count=%{y}<extra></extra>",
         "hovertext": [
          "Divorce Prediction & Reasons : XGB,SHAP,RFE,TSNE",
          "Divorce Prediction & Reasons : XGB,SHAP,RFE,TSNE",
          "Divorce Prediction & Reasons : XGB,SHAP,RFE,TSNE",
          "Divorce Prediction & Reasons : XGB,SHAP,RFE,TSNE",
          "Divorce Prediction & Reasons : XGB,SHAP,RFE,TSNE",
          "Divorce Prediction & Reasons : XGB,SHAP,RFE,TSNE",
          "Divorce Prediction & Reasons : XGB,SHAP,RFE,TSNE",
          "Divorce Prediction & Reasons : XGB,SHAP,RFE,TSNE",
          "Divorce Prediction & Reasons : XGB,SHAP,RFE,TSNE",
          "Divorce Prediction & Reasons : XGB,SHAP,RFE,TSNE",
          "Divorce Prediction & Reasons : XGB,SHAP,RFE,TSNE",
          "Divorce Prediction & Reasons : XGB,SHAP,RFE,TSNE",
          "Divorce Prediction & Reasons : XGB,SHAP,RFE,TSNE",
          "Divorce Prediction & Reasons : XGB,SHAP,RFE,TSNE",
          "Divorce Prediction & Reasons : XGB,SHAP,RFE,TSNE",
          "Divorce Prediction & Reasons : XGB,SHAP,RFE,TSNE",
          "Divorce Prediction & Reasons : XGB,SHAP,RFE,TSNE",
          "Divorce Prediction & Reasons : XGB,SHAP,RFE,TSNE",
          "Divorce Prediction & Reasons : XGB,SHAP,RFE,TSNE",
          "Divorce Prediction & Reasons : XGB,SHAP,RFE,TSNE",
          "Divorce Prediction & Reasons : XGB,SHAP,RFE,TSNE",
          "Divorce Prediction & Reasons : XGB,SHAP,RFE,TSNE",
          "Divorce Prediction & Reasons : XGB,SHAP,RFE,TSNE",
          "Divorce Prediction & Reasons : XGB,SHAP,RFE,TSNE",
          "Divorce Prediction & Reasons : XGB,SHAP,RFE,TSNE",
          "Divorce Prediction & Reasons : XGB,SHAP,RFE,TSNE",
          "Divorce Prediction & Reasons : XGB,SHAP,RFE,TSNE",
          "Divorce Prediction & Reasons : XGB,SHAP,RFE,TSNE",
          "Divorce Prediction & Reasons : XGB,SHAP,RFE,TSNE",
          "Divorce Prediction & Reasons : XGB,SHAP,RFE,TSNE",
          "Divorce Prediction & Reasons : XGB,SHAP,RFE,TSNE",
          "Divorce Prediction & Reasons : XGB,SHAP,RFE,TSNE",
          "Divorce Prediction & Reasons : XGB,SHAP,RFE,TSNE",
          "Divorce Prediction & Reasons : XGB,SHAP,RFE,TSNE",
          "Divorce Prediction & Reasons : XGB,SHAP,RFE,TSNE",
          "Divorce Prediction & Reasons : XGB,SHAP,RFE,TSNE",
          "Divorce Prediction & Reasons : XGB,SHAP,RFE,TSNE",
          "Divorce Prediction & Reasons : XGB,SHAP,RFE,TSNE",
          "Divorce Prediction & Reasons : XGB,SHAP,RFE,TSNE",
          "Divorce Prediction & Reasons : XGB,SHAP,RFE,TSNE",
          "Divorce Prediction & Reasons : XGB,SHAP,RFE,TSNE",
          "Divorce Prediction & Reasons : XGB,SHAP,RFE,TSNE",
          "Divorce Prediction & Reasons : XGB,SHAP,RFE,TSNE",
          "Divorce Prediction & Reasons : XGB,SHAP,RFE,TSNE",
          "Divorce Prediction & Reasons : XGB,SHAP,RFE,TSNE",
          "Divorce Prediction & Reasons : XGB,SHAP,RFE,TSNE",
          "Divorce Prediction & Reasons : XGB,SHAP,RFE,TSNE",
          "Divorce Prediction & Reasons : XGB,SHAP,RFE,TSNE",
          "Divorce Prediction & Reasons : XGB,SHAP,RFE,TSNE",
          "Divorce Prediction & Reasons : XGB,SHAP,RFE,TSNE",
          "Divorce Prediction & Reasons : XGB,SHAP,RFE,TSNE",
          "Divorce Prediction & Reasons : XGB,SHAP,RFE,TSNE",
          "Divorce Prediction & Reasons : XGB,SHAP,RFE,TSNE",
          "Divorce Prediction & Reasons : XGB,SHAP,RFE,TSNE",
          "Divorce Prediction & Reasons : XGB,SHAP,RFE,TSNE",
          "Divorce Prediction & Reasons : XGB,SHAP,RFE,TSNE"
         ],
         "legendgroup": "GOLD",
         "line": {
          "color": "gold",
          "dash": "solid",
          "shape": "spline"
         },
         "marker": {
          "symbol": "circle"
         },
         "mode": "lines",
         "name": "GOLD",
         "orientation": "v",
         "showlegend": false,
         "type": "scatter",
         "x": [
          "2022-06-12",
          "2022-06-13",
          "2022-06-14",
          "2022-06-15",
          "2022-06-16",
          "2022-06-17",
          "2022-06-18",
          "2022-06-19",
          "2022-06-20",
          "2022-06-21",
          "2022-06-22",
          "2022-06-25",
          "2022-06-26",
          "2022-06-28",
          "2022-06-29",
          "2022-07-01",
          "2022-07-02",
          "2022-07-03",
          "2022-07-04",
          "2022-07-05",
          "2022-07-06",
          "2022-07-07",
          "2022-07-11",
          "2022-07-12",
          "2022-07-14",
          "2022-07-15",
          "2022-07-17",
          "2022-07-18",
          "2022-07-21",
          "2022-07-22",
          "2022-07-23",
          "2022-07-24",
          "2022-07-25",
          "2022-07-26",
          "2022-07-29",
          "2022-07-30",
          "2022-07-31",
          "2022-08-01",
          "2022-08-03",
          "2022-08-05",
          "2022-08-06",
          "2022-08-08",
          "2022-08-10",
          "2022-08-12",
          "2022-08-14",
          "2022-08-16",
          "2022-08-17",
          "2022-08-18",
          "2022-08-19",
          "2022-08-20",
          "2022-08-21",
          "2022-08-22",
          "2022-08-23",
          "2022-08-24",
          "2022-08-25",
          "2022-08-26"
         ],
         "xaxis": "x",
         "y": [
          26,
          31,
          31,
          31,
          32,
          33,
          33,
          33,
          33,
          33,
          33,
          33,
          33,
          33,
          33,
          34,
          34,
          34,
          34,
          37,
          40,
          40,
          42,
          47,
          50,
          51,
          53,
          55,
          55,
          56,
          56,
          58,
          58,
          57,
          57,
          57,
          57,
          57,
          57,
          57,
          58,
          58,
          59,
          60,
          60,
          62,
          62,
          62,
          62,
          62,
          62,
          62,
          63,
          63,
          63,
          63
         ],
         "yaxis": "y"
        },
        {
         "hovertemplate": "<b>%{hovertext}</b><br><br>medal=GOLD<br>title=Advanced Feature Engineering for Classification<br>date=%{x}<br>count=%{y}<extra></extra>",
         "hovertext": [
          "Advanced Feature Engineering for Classification",
          "Advanced Feature Engineering for Classification",
          "Advanced Feature Engineering for Classification",
          "Advanced Feature Engineering for Classification",
          "Advanced Feature Engineering for Classification",
          "Advanced Feature Engineering for Classification",
          "Advanced Feature Engineering for Classification",
          "Advanced Feature Engineering for Classification",
          "Advanced Feature Engineering for Classification",
          "Advanced Feature Engineering for Classification",
          "Advanced Feature Engineering for Classification",
          "Advanced Feature Engineering for Classification",
          "Advanced Feature Engineering for Classification",
          "Advanced Feature Engineering for Classification",
          "Advanced Feature Engineering for Classification",
          "Advanced Feature Engineering for Classification",
          "Advanced Feature Engineering for Classification",
          "Advanced Feature Engineering for Classification",
          "Advanced Feature Engineering for Classification",
          "Advanced Feature Engineering for Classification",
          "Advanced Feature Engineering for Classification",
          "Advanced Feature Engineering for Classification",
          "Advanced Feature Engineering for Classification",
          "Advanced Feature Engineering for Classification",
          "Advanced Feature Engineering for Classification",
          "Advanced Feature Engineering for Classification",
          "Advanced Feature Engineering for Classification",
          "Advanced Feature Engineering for Classification",
          "Advanced Feature Engineering for Classification",
          "Advanced Feature Engineering for Classification",
          "Advanced Feature Engineering for Classification",
          "Advanced Feature Engineering for Classification",
          "Advanced Feature Engineering for Classification",
          "Advanced Feature Engineering for Classification",
          "Advanced Feature Engineering for Classification",
          "Advanced Feature Engineering for Classification",
          "Advanced Feature Engineering for Classification",
          "Advanced Feature Engineering for Classification",
          "Advanced Feature Engineering for Classification",
          "Advanced Feature Engineering for Classification",
          "Advanced Feature Engineering for Classification",
          "Advanced Feature Engineering for Classification",
          "Advanced Feature Engineering for Classification",
          "Advanced Feature Engineering for Classification",
          "Advanced Feature Engineering for Classification",
          "Advanced Feature Engineering for Classification",
          "Advanced Feature Engineering for Classification",
          "Advanced Feature Engineering for Classification",
          "Advanced Feature Engineering for Classification",
          "Advanced Feature Engineering for Classification",
          "Advanced Feature Engineering for Classification",
          "Advanced Feature Engineering for Classification",
          "Advanced Feature Engineering for Classification",
          "Advanced Feature Engineering for Classification",
          "Advanced Feature Engineering for Classification",
          "Advanced Feature Engineering for Classification"
         ],
         "legendgroup": "GOLD",
         "line": {
          "color": "gold",
          "dash": "solid",
          "shape": "spline"
         },
         "marker": {
          "symbol": "circle"
         },
         "mode": "lines",
         "name": "GOLD",
         "orientation": "v",
         "showlegend": false,
         "type": "scatter",
         "x": [
          "2022-06-12",
          "2022-06-13",
          "2022-06-14",
          "2022-06-15",
          "2022-06-16",
          "2022-06-17",
          "2022-06-18",
          "2022-06-19",
          "2022-06-20",
          "2022-06-21",
          "2022-06-22",
          "2022-06-25",
          "2022-06-26",
          "2022-06-28",
          "2022-06-29",
          "2022-07-01",
          "2022-07-02",
          "2022-07-03",
          "2022-07-04",
          "2022-07-05",
          "2022-07-06",
          "2022-07-07",
          "2022-07-11",
          "2022-07-12",
          "2022-07-14",
          "2022-07-15",
          "2022-07-17",
          "2022-07-18",
          "2022-07-21",
          "2022-07-22",
          "2022-07-23",
          "2022-07-24",
          "2022-07-25",
          "2022-07-26",
          "2022-07-29",
          "2022-07-30",
          "2022-07-31",
          "2022-08-01",
          "2022-08-03",
          "2022-08-05",
          "2022-08-06",
          "2022-08-08",
          "2022-08-10",
          "2022-08-12",
          "2022-08-14",
          "2022-08-16",
          "2022-08-17",
          "2022-08-18",
          "2022-08-19",
          "2022-08-20",
          "2022-08-21",
          "2022-08-22",
          "2022-08-23",
          "2022-08-24",
          "2022-08-25",
          "2022-08-26"
         ],
         "xaxis": "x",
         "y": [
          36,
          36,
          36,
          36,
          36,
          36,
          36,
          36,
          36,
          36,
          36,
          37,
          37,
          37,
          37,
          38,
          38,
          38,
          38,
          39,
          40,
          40,
          41,
          41,
          41,
          42,
          43,
          44,
          47,
          47,
          47,
          49,
          49,
          49,
          49,
          49,
          49,
          51,
          52,
          59,
          61,
          64,
          67,
          69,
          70,
          72,
          72,
          72,
          72,
          72,
          72,
          72,
          72,
          72,
          73,
          73
         ],
         "yaxis": "y"
        },
        {
         "hovertemplate": "<b>%{hovertext}</b><br><br>medal=GOLD<br>title=All Imputation Techniques with Pros and Cons<br>date=%{x}<br>count=%{y}<extra></extra>",
         "hovertext": [
          "All Imputation Techniques with Pros and Cons",
          "All Imputation Techniques with Pros and Cons",
          "All Imputation Techniques with Pros and Cons",
          "All Imputation Techniques with Pros and Cons",
          "All Imputation Techniques with Pros and Cons",
          "All Imputation Techniques with Pros and Cons",
          "All Imputation Techniques with Pros and Cons",
          "All Imputation Techniques with Pros and Cons",
          "All Imputation Techniques with Pros and Cons",
          "All Imputation Techniques with Pros and Cons",
          "All Imputation Techniques with Pros and Cons",
          "All Imputation Techniques with Pros and Cons",
          "All Imputation Techniques with Pros and Cons",
          "All Imputation Techniques with Pros and Cons",
          "All Imputation Techniques with Pros and Cons",
          "All Imputation Techniques with Pros and Cons",
          "All Imputation Techniques with Pros and Cons",
          "All Imputation Techniques with Pros and Cons",
          "All Imputation Techniques with Pros and Cons",
          "All Imputation Techniques with Pros and Cons",
          "All Imputation Techniques with Pros and Cons",
          "All Imputation Techniques with Pros and Cons",
          "All Imputation Techniques with Pros and Cons",
          "All Imputation Techniques with Pros and Cons",
          "All Imputation Techniques with Pros and Cons",
          "All Imputation Techniques with Pros and Cons",
          "All Imputation Techniques with Pros and Cons",
          "All Imputation Techniques with Pros and Cons",
          "All Imputation Techniques with Pros and Cons",
          "All Imputation Techniques with Pros and Cons",
          "All Imputation Techniques with Pros and Cons",
          "All Imputation Techniques with Pros and Cons",
          "All Imputation Techniques with Pros and Cons",
          "All Imputation Techniques with Pros and Cons",
          "All Imputation Techniques with Pros and Cons",
          "All Imputation Techniques with Pros and Cons",
          "All Imputation Techniques with Pros and Cons",
          "All Imputation Techniques with Pros and Cons",
          "All Imputation Techniques with Pros and Cons",
          "All Imputation Techniques with Pros and Cons",
          "All Imputation Techniques with Pros and Cons",
          "All Imputation Techniques with Pros and Cons",
          "All Imputation Techniques with Pros and Cons",
          "All Imputation Techniques with Pros and Cons",
          "All Imputation Techniques with Pros and Cons",
          "All Imputation Techniques with Pros and Cons",
          "All Imputation Techniques with Pros and Cons",
          "All Imputation Techniques with Pros and Cons",
          "All Imputation Techniques with Pros and Cons",
          "All Imputation Techniques with Pros and Cons",
          "All Imputation Techniques with Pros and Cons",
          "All Imputation Techniques with Pros and Cons",
          "All Imputation Techniques with Pros and Cons",
          "All Imputation Techniques with Pros and Cons",
          "All Imputation Techniques with Pros and Cons",
          "All Imputation Techniques with Pros and Cons"
         ],
         "legendgroup": "GOLD",
         "line": {
          "color": "gold",
          "dash": "solid",
          "shape": "spline"
         },
         "marker": {
          "symbol": "circle"
         },
         "mode": "lines",
         "name": "GOLD",
         "orientation": "v",
         "showlegend": false,
         "type": "scatter",
         "x": [
          "2022-06-12",
          "2022-06-13",
          "2022-06-14",
          "2022-06-15",
          "2022-06-16",
          "2022-06-17",
          "2022-06-18",
          "2022-06-19",
          "2022-06-20",
          "2022-06-21",
          "2022-06-22",
          "2022-06-25",
          "2022-06-26",
          "2022-06-28",
          "2022-06-29",
          "2022-07-01",
          "2022-07-02",
          "2022-07-03",
          "2022-07-04",
          "2022-07-05",
          "2022-07-06",
          "2022-07-07",
          "2022-07-11",
          "2022-07-12",
          "2022-07-14",
          "2022-07-15",
          "2022-07-17",
          "2022-07-18",
          "2022-07-21",
          "2022-07-22",
          "2022-07-23",
          "2022-07-24",
          "2022-07-25",
          "2022-07-26",
          "2022-07-29",
          "2022-07-30",
          "2022-07-31",
          "2022-08-01",
          "2022-08-03",
          "2022-08-05",
          "2022-08-06",
          "2022-08-08",
          "2022-08-10",
          "2022-08-12",
          "2022-08-14",
          "2022-08-16",
          "2022-08-17",
          "2022-08-18",
          "2022-08-19",
          "2022-08-20",
          "2022-08-21",
          "2022-08-22",
          "2022-08-23",
          "2022-08-24",
          "2022-08-25",
          "2022-08-26"
         ],
         "xaxis": "x",
         "y": [
          46,
          48,
          70,
          83,
          88,
          93,
          97,
          101,
          103,
          107,
          112,
          117,
          121,
          126,
          132,
          135,
          135,
          136,
          136,
          139,
          140,
          140,
          144,
          144,
          144,
          144,
          148,
          150,
          152,
          153,
          155,
          157,
          159,
          161,
          162,
          162,
          164,
          165,
          165,
          167,
          168,
          169,
          173,
          175,
          178,
          182,
          184,
          187,
          187,
          187,
          187,
          187,
          188,
          188,
          189,
          190
         ],
         "yaxis": "y"
        },
        {
         "hovertemplate": "<b>%{hovertext}</b><br><br>medal=GOLD<br>title=Mastering Bias-Variance Tradeoff <br>date=%{x}<br>count=%{y}<extra></extra>",
         "hovertext": [
          "Mastering Bias-Variance Tradeoff ",
          "Mastering Bias-Variance Tradeoff ",
          "Mastering Bias-Variance Tradeoff ",
          "Mastering Bias-Variance Tradeoff ",
          "Mastering Bias-Variance Tradeoff ",
          "Mastering Bias-Variance Tradeoff ",
          "Mastering Bias-Variance Tradeoff ",
          "Mastering Bias-Variance Tradeoff ",
          "Mastering Bias-Variance Tradeoff ",
          "Mastering Bias-Variance Tradeoff ",
          "Mastering Bias-Variance Tradeoff ",
          "Mastering Bias-Variance Tradeoff ",
          "Mastering Bias-Variance Tradeoff ",
          "Mastering Bias-Variance Tradeoff ",
          "Mastering Bias-Variance Tradeoff ",
          "Mastering Bias-Variance Tradeoff ",
          "Mastering Bias-Variance Tradeoff ",
          "Mastering Bias-Variance Tradeoff ",
          "Mastering Bias-Variance Tradeoff ",
          "Mastering Bias-Variance Tradeoff ",
          "Mastering Bias-Variance Tradeoff ",
          "Mastering Bias-Variance Tradeoff ",
          "Mastering Bias-Variance Tradeoff ",
          "Mastering Bias-Variance Tradeoff ",
          "Mastering Bias-Variance Tradeoff ",
          "Mastering Bias-Variance Tradeoff ",
          "Mastering Bias-Variance Tradeoff ",
          "Mastering Bias-Variance Tradeoff ",
          "Mastering Bias-Variance Tradeoff ",
          "Mastering Bias-Variance Tradeoff ",
          "Mastering Bias-Variance Tradeoff ",
          "Mastering Bias-Variance Tradeoff ",
          "Mastering Bias-Variance Tradeoff ",
          "Mastering Bias-Variance Tradeoff ",
          "Mastering Bias-Variance Tradeoff ",
          "Mastering Bias-Variance Tradeoff ",
          "Mastering Bias-Variance Tradeoff ",
          "Mastering Bias-Variance Tradeoff ",
          "Mastering Bias-Variance Tradeoff ",
          "Mastering Bias-Variance Tradeoff ",
          "Mastering Bias-Variance Tradeoff ",
          "Mastering Bias-Variance Tradeoff ",
          "Mastering Bias-Variance Tradeoff ",
          "Mastering Bias-Variance Tradeoff ",
          "Mastering Bias-Variance Tradeoff ",
          "Mastering Bias-Variance Tradeoff ",
          "Mastering Bias-Variance Tradeoff ",
          "Mastering Bias-Variance Tradeoff ",
          "Mastering Bias-Variance Tradeoff ",
          "Mastering Bias-Variance Tradeoff ",
          "Mastering Bias-Variance Tradeoff ",
          "Mastering Bias-Variance Tradeoff ",
          "Mastering Bias-Variance Tradeoff ",
          "Mastering Bias-Variance Tradeoff ",
          "Mastering Bias-Variance Tradeoff ",
          "Mastering Bias-Variance Tradeoff "
         ],
         "legendgroup": "GOLD",
         "line": {
          "color": "gold",
          "dash": "solid",
          "shape": "spline"
         },
         "marker": {
          "symbol": "circle"
         },
         "mode": "lines",
         "name": "GOLD",
         "orientation": "v",
         "showlegend": false,
         "type": "scatter",
         "x": [
          "2022-06-12",
          "2022-06-13",
          "2022-06-14",
          "2022-06-15",
          "2022-06-16",
          "2022-06-17",
          "2022-06-18",
          "2022-06-19",
          "2022-06-20",
          "2022-06-21",
          "2022-06-22",
          "2022-06-25",
          "2022-06-26",
          "2022-06-28",
          "2022-06-29",
          "2022-07-01",
          "2022-07-02",
          "2022-07-03",
          "2022-07-04",
          "2022-07-05",
          "2022-07-06",
          "2022-07-07",
          "2022-07-11",
          "2022-07-12",
          "2022-07-14",
          "2022-07-15",
          "2022-07-17",
          "2022-07-18",
          "2022-07-21",
          "2022-07-22",
          "2022-07-23",
          "2022-07-24",
          "2022-07-25",
          "2022-07-26",
          "2022-07-29",
          "2022-07-30",
          "2022-07-31",
          "2022-08-01",
          "2022-08-03",
          "2022-08-05",
          "2022-08-06",
          "2022-08-08",
          "2022-08-10",
          "2022-08-12",
          "2022-08-14",
          "2022-08-16",
          "2022-08-17",
          "2022-08-18",
          "2022-08-19",
          "2022-08-20",
          "2022-08-21",
          "2022-08-22",
          "2022-08-23",
          "2022-08-24",
          "2022-08-25",
          "2022-08-26"
         ],
         "xaxis": "x",
         "y": [
          27,
          27,
          27,
          28,
          28,
          28,
          28,
          28,
          28,
          28,
          28,
          29,
          29,
          29,
          29,
          30,
          30,
          30,
          30,
          32,
          32,
          35,
          39,
          39,
          43,
          45,
          51,
          53,
          62,
          64,
          64,
          69,
          71,
          71,
          79,
          80,
          82,
          83,
          84,
          86,
          88,
          88,
          91,
          93,
          95,
          99,
          100,
          103,
          103,
          105,
          105,
          107,
          107,
          107,
          109,
          109
         ],
         "yaxis": "y"
        },
        {
         "hovertemplate": "<b>%{hovertext}</b><br><br>medal=GOLD<br>title=▶️ Lionel Messi 📊 Extended EDA ⚽ Goals <br>date=%{x}<br>count=%{y}<extra></extra>",
         "hovertext": [
          "▶️ Lionel Messi 📊 Extended EDA ⚽ Goals ",
          "▶️ Lionel Messi 📊 Extended EDA ⚽ Goals ",
          "▶️ Lionel Messi 📊 Extended EDA ⚽ Goals ",
          "▶️ Lionel Messi 📊 Extended EDA ⚽ Goals ",
          "▶️ Lionel Messi 📊 Extended EDA ⚽ Goals ",
          "▶️ Lionel Messi 📊 Extended EDA ⚽ Goals ",
          "▶️ Lionel Messi 📊 Extended EDA ⚽ Goals ",
          "▶️ Lionel Messi 📊 Extended EDA ⚽ Goals ",
          "▶️ Lionel Messi 📊 Extended EDA ⚽ Goals ",
          "▶️ Lionel Messi 📊 Extended EDA ⚽ Goals ",
          "▶️ Lionel Messi 📊 Extended EDA ⚽ Goals ",
          "▶️ Lionel Messi 📊 Extended EDA ⚽ Goals ",
          "▶️ Lionel Messi 📊 Extended EDA ⚽ Goals ",
          "▶️ Lionel Messi 📊 Extended EDA ⚽ Goals ",
          "▶️ Lionel Messi 📊 Extended EDA ⚽ Goals ",
          "▶️ Lionel Messi 📊 Extended EDA ⚽ Goals ",
          "▶️ Lionel Messi 📊 Extended EDA ⚽ Goals ",
          "▶️ Lionel Messi 📊 Extended EDA ⚽ Goals ",
          "▶️ Lionel Messi 📊 Extended EDA ⚽ Goals ",
          "▶️ Lionel Messi 📊 Extended EDA ⚽ Goals ",
          "▶️ Lionel Messi 📊 Extended EDA ⚽ Goals ",
          "▶️ Lionel Messi 📊 Extended EDA ⚽ Goals ",
          "▶️ Lionel Messi 📊 Extended EDA ⚽ Goals ",
          "▶️ Lionel Messi 📊 Extended EDA ⚽ Goals ",
          "▶️ Lionel Messi 📊 Extended EDA ⚽ Goals ",
          "▶️ Lionel Messi 📊 Extended EDA ⚽ Goals ",
          "▶️ Lionel Messi 📊 Extended EDA ⚽ Goals ",
          "▶️ Lionel Messi 📊 Extended EDA ⚽ Goals ",
          "▶️ Lionel Messi 📊 Extended EDA ⚽ Goals ",
          "▶️ Lionel Messi 📊 Extended EDA ⚽ Goals ",
          "▶️ Lionel Messi 📊 Extended EDA ⚽ Goals ",
          "▶️ Lionel Messi 📊 Extended EDA ⚽ Goals ",
          "▶️ Lionel Messi 📊 Extended EDA ⚽ Goals ",
          "▶️ Lionel Messi 📊 Extended EDA ⚽ Goals ",
          "▶️ Lionel Messi 📊 Extended EDA ⚽ Goals ",
          "▶️ Lionel Messi 📊 Extended EDA ⚽ Goals ",
          "▶️ Lionel Messi 📊 Extended EDA ⚽ Goals ",
          "▶️ Lionel Messi 📊 Extended EDA ⚽ Goals ",
          "▶️ Lionel Messi 📊 Extended EDA ⚽ Goals ",
          "▶️ Lionel Messi 📊 Extended EDA ⚽ Goals ",
          "▶️ Lionel Messi 📊 Extended EDA ⚽ Goals ",
          "▶️ Lionel Messi 📊 Extended EDA ⚽ Goals ",
          "▶️ Lionel Messi 📊 Extended EDA ⚽ Goals ",
          "▶️ Lionel Messi 📊 Extended EDA ⚽ Goals ",
          "▶️ Lionel Messi 📊 Extended EDA ⚽ Goals ",
          "▶️ Lionel Messi 📊 Extended EDA ⚽ Goals ",
          "▶️ Lionel Messi 📊 Extended EDA ⚽ Goals ",
          "▶️ Lionel Messi 📊 Extended EDA ⚽ Goals ",
          "▶️ Lionel Messi 📊 Extended EDA ⚽ Goals ",
          "▶️ Lionel Messi 📊 Extended EDA ⚽ Goals ",
          "▶️ Lionel Messi 📊 Extended EDA ⚽ Goals ",
          "▶️ Lionel Messi 📊 Extended EDA ⚽ Goals ",
          "▶️ Lionel Messi 📊 Extended EDA ⚽ Goals ",
          "▶️ Lionel Messi 📊 Extended EDA ⚽ Goals ",
          "▶️ Lionel Messi 📊 Extended EDA ⚽ Goals ",
          "▶️ Lionel Messi 📊 Extended EDA ⚽ Goals "
         ],
         "legendgroup": "GOLD",
         "line": {
          "color": "gold",
          "dash": "solid",
          "shape": "spline"
         },
         "marker": {
          "symbol": "circle"
         },
         "mode": "lines",
         "name": "GOLD",
         "orientation": "v",
         "showlegend": false,
         "type": "scatter",
         "x": [
          "2022-06-12",
          "2022-06-13",
          "2022-06-14",
          "2022-06-15",
          "2022-06-16",
          "2022-06-17",
          "2022-06-18",
          "2022-06-19",
          "2022-06-20",
          "2022-06-21",
          "2022-06-22",
          "2022-06-25",
          "2022-06-26",
          "2022-06-28",
          "2022-06-29",
          "2022-07-01",
          "2022-07-02",
          "2022-07-03",
          "2022-07-04",
          "2022-07-05",
          "2022-07-06",
          "2022-07-07",
          "2022-07-11",
          "2022-07-12",
          "2022-07-14",
          "2022-07-15",
          "2022-07-17",
          "2022-07-18",
          "2022-07-21",
          "2022-07-22",
          "2022-07-23",
          "2022-07-24",
          "2022-07-25",
          "2022-07-26",
          "2022-07-29",
          "2022-07-30",
          "2022-07-31",
          "2022-08-01",
          "2022-08-03",
          "2022-08-05",
          "2022-08-06",
          "2022-08-08",
          "2022-08-10",
          "2022-08-12",
          "2022-08-14",
          "2022-08-16",
          "2022-08-17",
          "2022-08-18",
          "2022-08-19",
          "2022-08-20",
          "2022-08-21",
          "2022-08-22",
          "2022-08-23",
          "2022-08-24",
          "2022-08-25",
          "2022-08-26"
         ],
         "xaxis": "x",
         "y": [
          44,
          44,
          44,
          44,
          44,
          44,
          44,
          44,
          45,
          46,
          46,
          47,
          47,
          48,
          48,
          49,
          51,
          51,
          51,
          54,
          56,
          57,
          63,
          66,
          69,
          69,
          69,
          69,
          71,
          71,
          71,
          73,
          73,
          73,
          73,
          75,
          75,
          75,
          75,
          76,
          77,
          77,
          78,
          79,
          80,
          82,
          82,
          83,
          84,
          84,
          84,
          85,
          85,
          85,
          86,
          86
         ],
         "yaxis": "y"
        },
        {
         "hovertemplate": "<b>%{hovertext}</b><br><br>medal=GOLD<br>title=▶️ Cristiano Ronaldo ⚽ Goals  📊 EDA, Analysis<br>date=%{x}<br>count=%{y}<extra></extra>",
         "hovertext": [
          "▶️ Cristiano Ronaldo ⚽ Goals  📊 EDA, Analysis",
          "▶️ Cristiano Ronaldo ⚽ Goals  📊 EDA, Analysis",
          "▶️ Cristiano Ronaldo ⚽ Goals  📊 EDA, Analysis",
          "▶️ Cristiano Ronaldo ⚽ Goals  📊 EDA, Analysis",
          "▶️ Cristiano Ronaldo ⚽ Goals  📊 EDA, Analysis",
          "▶️ Cristiano Ronaldo ⚽ Goals  📊 EDA, Analysis",
          "▶️ Cristiano Ronaldo ⚽ Goals  📊 EDA, Analysis",
          "▶️ Cristiano Ronaldo ⚽ Goals  📊 EDA, Analysis",
          "▶️ Cristiano Ronaldo ⚽ Goals  📊 EDA, Analysis",
          "▶️ Cristiano Ronaldo ⚽ Goals  📊 EDA, Analysis",
          "▶️ Cristiano Ronaldo ⚽ Goals  📊 EDA, Analysis",
          "▶️ Cristiano Ronaldo ⚽ Goals  📊 EDA, Analysis",
          "▶️ Cristiano Ronaldo ⚽ Goals  📊 EDA, Analysis",
          "▶️ Cristiano Ronaldo ⚽ Goals  📊 EDA, Analysis",
          "▶️ Cristiano Ronaldo ⚽ Goals  📊 EDA, Analysis",
          "▶️ Cristiano Ronaldo ⚽ Goals  📊 EDA, Analysis",
          "▶️ Cristiano Ronaldo ⚽ Goals  📊 EDA, Analysis",
          "▶️ Cristiano Ronaldo ⚽ Goals  📊 EDA, Analysis",
          "▶️ Cristiano Ronaldo ⚽ Goals  📊 EDA, Analysis",
          "▶️ Cristiano Ronaldo ⚽ Goals  📊 EDA, Analysis",
          "▶️ Cristiano Ronaldo ⚽ Goals  📊 EDA, Analysis",
          "▶️ Cristiano Ronaldo ⚽ Goals  📊 EDA, Analysis",
          "▶️ Cristiano Ronaldo ⚽ Goals  📊 EDA, Analysis",
          "▶️ Cristiano Ronaldo ⚽ Goals  📊 EDA, Analysis",
          "▶️ Cristiano Ronaldo ⚽ Goals  📊 EDA, Analysis",
          "▶️ Cristiano Ronaldo ⚽ Goals  📊 EDA, Analysis",
          "▶️ Cristiano Ronaldo ⚽ Goals  📊 EDA, Analysis",
          "▶️ Cristiano Ronaldo ⚽ Goals  📊 EDA, Analysis",
          "▶️ Cristiano Ronaldo ⚽ Goals  📊 EDA, Analysis",
          "▶️ Cristiano Ronaldo ⚽ Goals  📊 EDA, Analysis",
          "▶️ Cristiano Ronaldo ⚽ Goals  📊 EDA, Analysis",
          "▶️ Cristiano Ronaldo ⚽ Goals  📊 EDA, Analysis",
          "▶️ Cristiano Ronaldo ⚽ Goals  📊 EDA, Analysis",
          "▶️ Cristiano Ronaldo ⚽ Goals  📊 EDA, Analysis",
          "▶️ Cristiano Ronaldo ⚽ Goals  📊 EDA, Analysis",
          "▶️ Cristiano Ronaldo ⚽ Goals  📊 EDA, Analysis",
          "▶️ Cristiano Ronaldo ⚽ Goals  📊 EDA, Analysis",
          "▶️ Cristiano Ronaldo ⚽ Goals  📊 EDA, Analysis",
          "▶️ Cristiano Ronaldo ⚽ Goals  📊 EDA, Analysis",
          "▶️ Cristiano Ronaldo ⚽ Goals  📊 EDA, Analysis",
          "▶️ Cristiano Ronaldo ⚽ Goals  📊 EDA, Analysis",
          "▶️ Cristiano Ronaldo ⚽ Goals  📊 EDA, Analysis",
          "▶️ Cristiano Ronaldo ⚽ Goals  📊 EDA, Analysis",
          "▶️ Cristiano Ronaldo ⚽ Goals  📊 EDA, Analysis",
          "▶️ Cristiano Ronaldo ⚽ Goals  📊 EDA, Analysis",
          "▶️ Cristiano Ronaldo ⚽ Goals  📊 EDA, Analysis",
          "▶️ Cristiano Ronaldo ⚽ Goals  📊 EDA, Analysis",
          "▶️ Cristiano Ronaldo ⚽ Goals  📊 EDA, Analysis",
          "▶️ Cristiano Ronaldo ⚽ Goals  📊 EDA, Analysis",
          "▶️ Cristiano Ronaldo ⚽ Goals  📊 EDA, Analysis",
          "▶️ Cristiano Ronaldo ⚽ Goals  📊 EDA, Analysis",
          "▶️ Cristiano Ronaldo ⚽ Goals  📊 EDA, Analysis",
          "▶️ Cristiano Ronaldo ⚽ Goals  📊 EDA, Analysis",
          "▶️ Cristiano Ronaldo ⚽ Goals  📊 EDA, Analysis",
          "▶️ Cristiano Ronaldo ⚽ Goals  📊 EDA, Analysis",
          "▶️ Cristiano Ronaldo ⚽ Goals  📊 EDA, Analysis"
         ],
         "legendgroup": "GOLD",
         "line": {
          "color": "gold",
          "dash": "solid",
          "shape": "spline"
         },
         "marker": {
          "symbol": "circle"
         },
         "mode": "lines",
         "name": "GOLD",
         "orientation": "v",
         "showlegend": false,
         "type": "scatter",
         "x": [
          "2022-06-12",
          "2022-06-13",
          "2022-06-14",
          "2022-06-15",
          "2022-06-16",
          "2022-06-17",
          "2022-06-18",
          "2022-06-19",
          "2022-06-20",
          "2022-06-21",
          "2022-06-22",
          "2022-06-25",
          "2022-06-26",
          "2022-06-28",
          "2022-06-29",
          "2022-07-01",
          "2022-07-02",
          "2022-07-03",
          "2022-07-04",
          "2022-07-05",
          "2022-07-06",
          "2022-07-07",
          "2022-07-11",
          "2022-07-12",
          "2022-07-14",
          "2022-07-15",
          "2022-07-17",
          "2022-07-18",
          "2022-07-21",
          "2022-07-22",
          "2022-07-23",
          "2022-07-24",
          "2022-07-25",
          "2022-07-26",
          "2022-07-29",
          "2022-07-30",
          "2022-07-31",
          "2022-08-01",
          "2022-08-03",
          "2022-08-05",
          "2022-08-06",
          "2022-08-08",
          "2022-08-10",
          "2022-08-12",
          "2022-08-14",
          "2022-08-16",
          "2022-08-17",
          "2022-08-18",
          "2022-08-19",
          "2022-08-20",
          "2022-08-21",
          "2022-08-22",
          "2022-08-23",
          "2022-08-24",
          "2022-08-25",
          "2022-08-26"
         ],
         "xaxis": "x",
         "y": [
          39,
          39,
          39,
          39,
          39,
          39,
          39,
          39,
          39,
          40,
          40,
          40,
          40,
          40,
          40,
          41,
          41,
          41,
          41,
          42,
          42,
          42,
          46,
          47,
          49,
          49,
          49,
          49,
          53,
          53,
          53,
          55,
          56,
          57,
          57,
          58,
          58,
          60,
          60,
          62,
          62,
          63,
          68,
          70,
          72,
          79,
          81,
          82,
          82,
          83,
          83,
          83,
          83,
          83,
          83,
          83
         ],
         "yaxis": "y"
        },
        {
         "hovertemplate": "<b>%{hovertext}</b><br><br>medal=GOLD<br>title=Investment and Financial Analysis  🏭 EPZ<br>date=%{x}<br>count=%{y}<extra></extra>",
         "hovertext": [
          "Investment and Financial Analysis  🏭 EPZ",
          "Investment and Financial Analysis  🏭 EPZ",
          "Investment and Financial Analysis  🏭 EPZ",
          "Investment and Financial Analysis  🏭 EPZ",
          "Investment and Financial Analysis  🏭 EPZ",
          "Investment and Financial Analysis  🏭 EPZ",
          "Investment and Financial Analysis  🏭 EPZ",
          "Investment and Financial Analysis  🏭 EPZ",
          "Investment and Financial Analysis  🏭 EPZ",
          "Investment and Financial Analysis  🏭 EPZ",
          "Investment and Financial Analysis  🏭 EPZ",
          "Investment and Financial Analysis  🏭 EPZ",
          "Investment and Financial Analysis  🏭 EPZ",
          "Investment and Financial Analysis  🏭 EPZ",
          "Investment and Financial Analysis  🏭 EPZ",
          "Investment and Financial Analysis  🏭 EPZ",
          "Investment and Financial Analysis  🏭 EPZ",
          "Investment and Financial Analysis  🏭 EPZ",
          "Investment and Financial Analysis  🏭 EPZ",
          "Investment and Financial Analysis  🏭 EPZ",
          "Investment and Financial Analysis  🏭 EPZ",
          "Investment and Financial Analysis  🏭 EPZ",
          "Investment and Financial Analysis  🏭 EPZ",
          "Investment and Financial Analysis  🏭 EPZ",
          "Investment and Financial Analysis  🏭 EPZ",
          "Investment and Financial Analysis  🏭 EPZ",
          "Investment and Financial Analysis  🏭 EPZ",
          "Investment and Financial Analysis  🏭 EPZ",
          "Investment and Financial Analysis  🏭 EPZ",
          "Investment and Financial Analysis  🏭 EPZ",
          "Investment and Financial Analysis  🏭 EPZ",
          "Investment and Financial Analysis  🏭 EPZ",
          "Investment and Financial Analysis  🏭 EPZ",
          "Investment and Financial Analysis  🏭 EPZ",
          "Investment and Financial Analysis  🏭 EPZ",
          "Investment and Financial Analysis  🏭 EPZ",
          "Investment and Financial Analysis  🏭 EPZ",
          "Investment and Financial Analysis  🏭 EPZ",
          "Investment and Financial Analysis  🏭 EPZ",
          "Investment and Financial Analysis  🏭 EPZ",
          "Investment and Financial Analysis  🏭 EPZ",
          "Investment and Financial Analysis  🏭 EPZ",
          "Investment and Financial Analysis  🏭 EPZ",
          "Investment and Financial Analysis  🏭 EPZ",
          "Investment and Financial Analysis  🏭 EPZ",
          "Investment and Financial Analysis  🏭 EPZ",
          "Investment and Financial Analysis  🏭 EPZ",
          "Investment and Financial Analysis  🏭 EPZ",
          "Investment and Financial Analysis  🏭 EPZ",
          "Investment and Financial Analysis  🏭 EPZ",
          "Investment and Financial Analysis  🏭 EPZ",
          "Investment and Financial Analysis  🏭 EPZ",
          "Investment and Financial Analysis  🏭 EPZ",
          "Investment and Financial Analysis  🏭 EPZ",
          "Investment and Financial Analysis  🏭 EPZ",
          "Investment and Financial Analysis  🏭 EPZ"
         ],
         "legendgroup": "GOLD",
         "line": {
          "color": "gold",
          "dash": "solid",
          "shape": "spline"
         },
         "marker": {
          "symbol": "circle"
         },
         "mode": "lines",
         "name": "GOLD",
         "orientation": "v",
         "showlegend": false,
         "type": "scatter",
         "x": [
          "2022-06-12",
          "2022-06-13",
          "2022-06-14",
          "2022-06-15",
          "2022-06-16",
          "2022-06-17",
          "2022-06-18",
          "2022-06-19",
          "2022-06-20",
          "2022-06-21",
          "2022-06-22",
          "2022-06-25",
          "2022-06-26",
          "2022-06-28",
          "2022-06-29",
          "2022-07-01",
          "2022-07-02",
          "2022-07-03",
          "2022-07-04",
          "2022-07-05",
          "2022-07-06",
          "2022-07-07",
          "2022-07-11",
          "2022-07-12",
          "2022-07-14",
          "2022-07-15",
          "2022-07-17",
          "2022-07-18",
          "2022-07-21",
          "2022-07-22",
          "2022-07-23",
          "2022-07-24",
          "2022-07-25",
          "2022-07-26",
          "2022-07-29",
          "2022-07-30",
          "2022-07-31",
          "2022-08-01",
          "2022-08-03",
          "2022-08-05",
          "2022-08-06",
          "2022-08-08",
          "2022-08-10",
          "2022-08-12",
          "2022-08-14",
          "2022-08-16",
          "2022-08-17",
          "2022-08-18",
          "2022-08-19",
          "2022-08-20",
          "2022-08-21",
          "2022-08-22",
          "2022-08-23",
          "2022-08-24",
          "2022-08-25",
          "2022-08-26"
         ],
         "xaxis": "x",
         "y": [
          29,
          29,
          29,
          29,
          30,
          30,
          30,
          30,
          30,
          30,
          30,
          30,
          30,
          30,
          30,
          31,
          31,
          31,
          31,
          32,
          32,
          32,
          32,
          32,
          32,
          32,
          32,
          34,
          35,
          35,
          35,
          37,
          38,
          38,
          38,
          38,
          38,
          39,
          41,
          41,
          41,
          43,
          46,
          47,
          48,
          52,
          61,
          61,
          61,
          61,
          61,
          61,
          61,
          61,
          61,
          61
         ],
         "yaxis": "y"
        },
        {
         "hovertemplate": "<b>%{hovertext}</b><br><br>medal=GOLD<br>title=ML Foundation ➡️ Cross Validation ✅ All Methods<br>date=%{x}<br>count=%{y}<extra></extra>",
         "hovertext": [
          "ML Foundation ➡️ Cross Validation ✅ All Methods",
          "ML Foundation ➡️ Cross Validation ✅ All Methods",
          "ML Foundation ➡️ Cross Validation ✅ All Methods",
          "ML Foundation ➡️ Cross Validation ✅ All Methods",
          "ML Foundation ➡️ Cross Validation ✅ All Methods",
          "ML Foundation ➡️ Cross Validation ✅ All Methods",
          "ML Foundation ➡️ Cross Validation ✅ All Methods",
          "ML Foundation ➡️ Cross Validation ✅ All Methods",
          "ML Foundation ➡️ Cross Validation ✅ All Methods",
          "ML Foundation ➡️ Cross Validation ✅ All Methods",
          "ML Foundation ➡️ Cross Validation ✅ All Methods",
          "ML Foundation ➡️ Cross Validation ✅ All Methods",
          "ML Foundation ➡️ Cross Validation ✅ All Methods",
          "ML Foundation ➡️ Cross Validation ✅ All Methods",
          "ML Foundation ➡️ Cross Validation ✅ All Methods",
          "ML Foundation ➡️ Cross Validation ✅ All Methods",
          "ML Foundation ➡️ Cross Validation ✅ All Methods",
          "ML Foundation ➡️ Cross Validation ✅ All Methods",
          "ML Foundation ➡️ Cross Validation ✅ All Methods",
          "ML Foundation ➡️ Cross Validation ✅ All Methods",
          "ML Foundation ➡️ Cross Validation ✅ All Methods",
          "ML Foundation ➡️ Cross Validation ✅ All Methods",
          "ML Foundation ➡️ Cross Validation ✅ All Methods",
          "ML Foundation ➡️ Cross Validation ✅ All Methods",
          "ML Foundation ➡️ Cross Validation ✅ All Methods",
          "ML Foundation ➡️ Cross Validation ✅ All Methods",
          "ML Foundation ➡️ Cross Validation ✅ All Methods",
          "ML Foundation ➡️ Cross Validation ✅ All Methods",
          "ML Foundation ➡️ Cross Validation ✅ All Methods",
          "ML Foundation ➡️ Cross Validation ✅ All Methods",
          "ML Foundation ➡️ Cross Validation ✅ All Methods",
          "ML Foundation ➡️ Cross Validation ✅ All Methods",
          "ML Foundation ➡️ Cross Validation ✅ All Methods",
          "ML Foundation ➡️ Cross Validation ✅ All Methods",
          "ML Foundation ➡️ Cross Validation ✅ All Methods",
          "ML Foundation ➡️ Cross Validation ✅ All Methods",
          "ML Foundation ➡️ Cross Validation ✅ All Methods",
          "ML Foundation ➡️ Cross Validation ✅ All Methods",
          "ML Foundation ➡️ Cross Validation ✅ All Methods",
          "ML Foundation ➡️ Cross Validation ✅ All Methods",
          "ML Foundation ➡️ Cross Validation ✅ All Methods",
          "ML Foundation ➡️ Cross Validation ✅ All Methods",
          "ML Foundation ➡️ Cross Validation ✅ All Methods",
          "ML Foundation ➡️ Cross Validation ✅ All Methods",
          "ML Foundation ➡️ Cross Validation ✅ All Methods",
          "ML Foundation ➡️ Cross Validation ✅ All Methods",
          "ML Foundation ➡️ Cross Validation ✅ All Methods",
          "ML Foundation ➡️ Cross Validation ✅ All Methods",
          "ML Foundation ➡️ Cross Validation ✅ All Methods",
          "ML Foundation ➡️ Cross Validation ✅ All Methods",
          "ML Foundation ➡️ Cross Validation ✅ All Methods",
          "ML Foundation ➡️ Cross Validation ✅ All Methods",
          "ML Foundation ➡️ Cross Validation ✅ All Methods",
          "ML Foundation ➡️ Cross Validation ✅ All Methods",
          "ML Foundation ➡️ Cross Validation ✅ All Methods",
          "ML Foundation ➡️ Cross Validation ✅ All Methods"
         ],
         "legendgroup": "GOLD",
         "line": {
          "color": "gold",
          "dash": "solid",
          "shape": "spline"
         },
         "marker": {
          "symbol": "circle"
         },
         "mode": "lines",
         "name": "GOLD",
         "orientation": "v",
         "showlegend": false,
         "type": "scatter",
         "x": [
          "2022-06-12",
          "2022-06-13",
          "2022-06-14",
          "2022-06-15",
          "2022-06-16",
          "2022-06-17",
          "2022-06-18",
          "2022-06-19",
          "2022-06-20",
          "2022-06-21",
          "2022-06-22",
          "2022-06-25",
          "2022-06-26",
          "2022-06-28",
          "2022-06-29",
          "2022-07-01",
          "2022-07-02",
          "2022-07-03",
          "2022-07-04",
          "2022-07-05",
          "2022-07-06",
          "2022-07-07",
          "2022-07-11",
          "2022-07-12",
          "2022-07-14",
          "2022-07-15",
          "2022-07-17",
          "2022-07-18",
          "2022-07-21",
          "2022-07-22",
          "2022-07-23",
          "2022-07-24",
          "2022-07-25",
          "2022-07-26",
          "2022-07-29",
          "2022-07-30",
          "2022-07-31",
          "2022-08-01",
          "2022-08-03",
          "2022-08-05",
          "2022-08-06",
          "2022-08-08",
          "2022-08-10",
          "2022-08-12",
          "2022-08-14",
          "2022-08-16",
          "2022-08-17",
          "2022-08-18",
          "2022-08-19",
          "2022-08-20",
          "2022-08-21",
          "2022-08-22",
          "2022-08-23",
          "2022-08-24",
          "2022-08-25",
          "2022-08-26"
         ],
         "xaxis": "x",
         "y": [
          35,
          35,
          36,
          37,
          38,
          39,
          39,
          39,
          40,
          41,
          42,
          42,
          42,
          42,
          42,
          44,
          44,
          46,
          47,
          51,
          55,
          55,
          61,
          62,
          64,
          65,
          67,
          67,
          67,
          67,
          67,
          68,
          68,
          69,
          70,
          70,
          72,
          72,
          73,
          74,
          75,
          75,
          76,
          77,
          78,
          80,
          80,
          80,
          80,
          80,
          80,
          80,
          80,
          80,
          80,
          80
         ],
         "yaxis": "y"
        },
        {
         "hovertemplate": "<b>%{hovertext}</b><br><br>medal=GOLD<br>title=Different Clustering Techniques and Algorithms<br>date=%{x}<br>count=%{y}<extra></extra>",
         "hovertext": [
          "Different Clustering Techniques and Algorithms",
          "Different Clustering Techniques and Algorithms",
          "Different Clustering Techniques and Algorithms",
          "Different Clustering Techniques and Algorithms",
          "Different Clustering Techniques and Algorithms",
          "Different Clustering Techniques and Algorithms",
          "Different Clustering Techniques and Algorithms",
          "Different Clustering Techniques and Algorithms",
          "Different Clustering Techniques and Algorithms",
          "Different Clustering Techniques and Algorithms",
          "Different Clustering Techniques and Algorithms",
          "Different Clustering Techniques and Algorithms",
          "Different Clustering Techniques and Algorithms",
          "Different Clustering Techniques and Algorithms",
          "Different Clustering Techniques and Algorithms",
          "Different Clustering Techniques and Algorithms",
          "Different Clustering Techniques and Algorithms",
          "Different Clustering Techniques and Algorithms",
          "Different Clustering Techniques and Algorithms",
          "Different Clustering Techniques and Algorithms",
          "Different Clustering Techniques and Algorithms",
          "Different Clustering Techniques and Algorithms",
          "Different Clustering Techniques and Algorithms",
          "Different Clustering Techniques and Algorithms",
          "Different Clustering Techniques and Algorithms",
          "Different Clustering Techniques and Algorithms",
          "Different Clustering Techniques and Algorithms",
          "Different Clustering Techniques and Algorithms",
          "Different Clustering Techniques and Algorithms",
          "Different Clustering Techniques and Algorithms",
          "Different Clustering Techniques and Algorithms",
          "Different Clustering Techniques and Algorithms",
          "Different Clustering Techniques and Algorithms",
          "Different Clustering Techniques and Algorithms",
          "Different Clustering Techniques and Algorithms",
          "Different Clustering Techniques and Algorithms",
          "Different Clustering Techniques and Algorithms",
          "Different Clustering Techniques and Algorithms",
          "Different Clustering Techniques and Algorithms",
          "Different Clustering Techniques and Algorithms",
          "Different Clustering Techniques and Algorithms"
         ],
         "legendgroup": "GOLD",
         "line": {
          "color": "gold",
          "dash": "solid",
          "shape": "spline"
         },
         "marker": {
          "symbol": "circle"
         },
         "mode": "lines",
         "name": "GOLD",
         "orientation": "v",
         "showlegend": false,
         "type": "scatter",
         "x": [
          "2022-07-01",
          "2022-07-02",
          "2022-07-03",
          "2022-07-04",
          "2022-07-05",
          "2022-07-06",
          "2022-07-07",
          "2022-07-11",
          "2022-07-12",
          "2022-07-14",
          "2022-07-15",
          "2022-07-17",
          "2022-07-18",
          "2022-07-21",
          "2022-07-22",
          "2022-07-23",
          "2022-07-24",
          "2022-07-25",
          "2022-07-26",
          "2022-07-29",
          "2022-07-30",
          "2022-07-31",
          "2022-08-01",
          "2022-08-03",
          "2022-08-05",
          "2022-08-06",
          "2022-08-08",
          "2022-08-10",
          "2022-08-12",
          "2022-08-14",
          "2022-08-16",
          "2022-08-17",
          "2022-08-18",
          "2022-08-19",
          "2022-08-20",
          "2022-08-21",
          "2022-08-22",
          "2022-08-23",
          "2022-08-24",
          "2022-08-25",
          "2022-08-26"
         ],
         "xaxis": "x",
         "y": [
          8,
          49,
          57,
          63,
          71,
          73,
          75,
          88,
          88,
          97,
          100,
          108,
          109,
          116,
          118,
          122,
          124,
          130,
          131,
          133,
          135,
          139,
          139,
          139,
          143,
          145,
          146,
          150,
          152,
          152,
          154,
          155,
          155,
          155,
          155,
          155,
          156,
          156,
          156,
          157,
          157
         ],
         "yaxis": "y"
        },
        {
         "hovertemplate": "<b>%{hovertext}</b><br><br>medal=GOLD<br>title=Classification ➡️ Comparing Different Algorithms<br>date=%{x}<br>count=%{y}<extra></extra>",
         "hovertext": [
          "Classification ➡️ Comparing Different Algorithms",
          "Classification ➡️ Comparing Different Algorithms",
          "Classification ➡️ Comparing Different Algorithms",
          "Classification ➡️ Comparing Different Algorithms",
          "Classification ➡️ Comparing Different Algorithms",
          "Classification ➡️ Comparing Different Algorithms",
          "Classification ➡️ Comparing Different Algorithms",
          "Classification ➡️ Comparing Different Algorithms",
          "Classification ➡️ Comparing Different Algorithms",
          "Classification ➡️ Comparing Different Algorithms",
          "Classification ➡️ Comparing Different Algorithms",
          "Classification ➡️ Comparing Different Algorithms",
          "Classification ➡️ Comparing Different Algorithms",
          "Classification ➡️ Comparing Different Algorithms",
          "Classification ➡️ Comparing Different Algorithms",
          "Classification ➡️ Comparing Different Algorithms",
          "Classification ➡️ Comparing Different Algorithms",
          "Classification ➡️ Comparing Different Algorithms",
          "Classification ➡️ Comparing Different Algorithms"
         ],
         "legendgroup": "GOLD",
         "line": {
          "color": "gold",
          "dash": "solid",
          "shape": "spline"
         },
         "marker": {
          "symbol": "circle"
         },
         "mode": "lines",
         "name": "GOLD",
         "orientation": "v",
         "showlegend": false,
         "type": "scatter",
         "x": [
          "2022-08-01",
          "2022-08-03",
          "2022-08-05",
          "2022-08-06",
          "2022-08-08",
          "2022-08-10",
          "2022-08-12",
          "2022-08-14",
          "2022-08-16",
          "2022-08-17",
          "2022-08-18",
          "2022-08-19",
          "2022-08-20",
          "2022-08-21",
          "2022-08-22",
          "2022-08-23",
          "2022-08-24",
          "2022-08-25",
          "2022-08-26"
         ],
         "xaxis": "x",
         "y": [
          6,
          17,
          25,
          32,
          34,
          42,
          45,
          59,
          63,
          63,
          67,
          67,
          69,
          69,
          70,
          71,
          71,
          73,
          73
         ],
         "yaxis": "y"
        },
        {
         "hovertemplate": "<b>%{hovertext}</b><br><br>medal=GOLD<br>title=XGBoost | Wrangling with Hyperparameters | Guide<br>date=%{x}<br>count=%{y}<extra></extra>",
         "hovertext": [
          "XGBoost | Wrangling with Hyperparameters | Guide",
          "XGBoost | Wrangling with Hyperparameters | Guide",
          "XGBoost | Wrangling with Hyperparameters | Guide",
          "XGBoost | Wrangling with Hyperparameters | Guide",
          "XGBoost | Wrangling with Hyperparameters | Guide",
          "XGBoost | Wrangling with Hyperparameters | Guide",
          "XGBoost | Wrangling with Hyperparameters | Guide",
          "XGBoost | Wrangling with Hyperparameters | Guide",
          "XGBoost | Wrangling with Hyperparameters | Guide",
          "XGBoost | Wrangling with Hyperparameters | Guide"
         ],
         "legendgroup": "GOLD",
         "line": {
          "color": "gold",
          "dash": "solid",
          "shape": "spline"
         },
         "marker": {
          "symbol": "circle"
         },
         "mode": "lines",
         "name": "GOLD",
         "orientation": "v",
         "showlegend": false,
         "type": "scatter",
         "x": [
          "2022-08-17",
          "2022-08-18",
          "2022-08-19",
          "2022-08-20",
          "2022-08-21",
          "2022-08-22",
          "2022-08-23",
          "2022-08-24",
          "2022-08-25",
          "2022-08-26"
         ],
         "xaxis": "x",
         "y": [
          1,
          8,
          34,
          65,
          69,
          71,
          84,
          84,
          87,
          87
         ],
         "yaxis": "y"
        },
        {
         "hovertemplate": "<b>%{hovertext}</b><br><br>medal=SILVER<br>title=Coursera 📉 EDA, Reviews Sentiment Analysis<br>date=%{x}<br>count=%{y}<extra></extra>",
         "hovertext": [
          "Coursera 📉 EDA, Reviews Sentiment Analysis",
          "Coursera 📉 EDA, Reviews Sentiment Analysis",
          "Coursera 📉 EDA, Reviews Sentiment Analysis",
          "Coursera 📉 EDA, Reviews Sentiment Analysis",
          "Coursera 📉 EDA, Reviews Sentiment Analysis",
          "Coursera 📉 EDA, Reviews Sentiment Analysis",
          "Coursera 📉 EDA, Reviews Sentiment Analysis",
          "Coursera 📉 EDA, Reviews Sentiment Analysis",
          "Coursera 📉 EDA, Reviews Sentiment Analysis",
          "Coursera 📉 EDA, Reviews Sentiment Analysis",
          "Coursera 📉 EDA, Reviews Sentiment Analysis",
          "Coursera 📉 EDA, Reviews Sentiment Analysis",
          "Coursera 📉 EDA, Reviews Sentiment Analysis",
          "Coursera 📉 EDA, Reviews Sentiment Analysis",
          "Coursera 📉 EDA, Reviews Sentiment Analysis",
          "Coursera 📉 EDA, Reviews Sentiment Analysis",
          "Coursera 📉 EDA, Reviews Sentiment Analysis",
          "Coursera 📉 EDA, Reviews Sentiment Analysis",
          "Coursera 📉 EDA, Reviews Sentiment Analysis",
          "Coursera 📉 EDA, Reviews Sentiment Analysis",
          "Coursera 📉 EDA, Reviews Sentiment Analysis",
          "Coursera 📉 EDA, Reviews Sentiment Analysis",
          "Coursera 📉 EDA, Reviews Sentiment Analysis",
          "Coursera 📉 EDA, Reviews Sentiment Analysis",
          "Coursera 📉 EDA, Reviews Sentiment Analysis",
          "Coursera 📉 EDA, Reviews Sentiment Analysis",
          "Coursera 📉 EDA, Reviews Sentiment Analysis",
          "Coursera 📉 EDA, Reviews Sentiment Analysis",
          "Coursera 📉 EDA, Reviews Sentiment Analysis",
          "Coursera 📉 EDA, Reviews Sentiment Analysis",
          "Coursera 📉 EDA, Reviews Sentiment Analysis",
          "Coursera 📉 EDA, Reviews Sentiment Analysis",
          "Coursera 📉 EDA, Reviews Sentiment Analysis",
          "Coursera 📉 EDA, Reviews Sentiment Analysis",
          "Coursera 📉 EDA, Reviews Sentiment Analysis",
          "Coursera 📉 EDA, Reviews Sentiment Analysis",
          "Coursera 📉 EDA, Reviews Sentiment Analysis",
          "Coursera 📉 EDA, Reviews Sentiment Analysis",
          "Coursera 📉 EDA, Reviews Sentiment Analysis",
          "Coursera 📉 EDA, Reviews Sentiment Analysis",
          "Coursera 📉 EDA, Reviews Sentiment Analysis",
          "Coursera 📉 EDA, Reviews Sentiment Analysis",
          "Coursera 📉 EDA, Reviews Sentiment Analysis",
          "Coursera 📉 EDA, Reviews Sentiment Analysis",
          "Coursera 📉 EDA, Reviews Sentiment Analysis",
          "Coursera 📉 EDA, Reviews Sentiment Analysis",
          "Coursera 📉 EDA, Reviews Sentiment Analysis",
          "Coursera 📉 EDA, Reviews Sentiment Analysis",
          "Coursera 📉 EDA, Reviews Sentiment Analysis",
          "Coursera 📉 EDA, Reviews Sentiment Analysis",
          "Coursera 📉 EDA, Reviews Sentiment Analysis",
          "Coursera 📉 EDA, Reviews Sentiment Analysis",
          "Coursera 📉 EDA, Reviews Sentiment Analysis",
          "Coursera 📉 EDA, Reviews Sentiment Analysis",
          "Coursera 📉 EDA, Reviews Sentiment Analysis",
          "Coursera 📉 EDA, Reviews Sentiment Analysis"
         ],
         "legendgroup": "SILVER",
         "line": {
          "color": "silver",
          "dash": "solid",
          "shape": "spline"
         },
         "marker": {
          "symbol": "circle"
         },
         "mode": "lines",
         "name": "SILVER",
         "orientation": "v",
         "showlegend": true,
         "type": "scatter",
         "x": [
          "2022-06-12",
          "2022-06-13",
          "2022-06-14",
          "2022-06-15",
          "2022-06-16",
          "2022-06-17",
          "2022-06-18",
          "2022-06-19",
          "2022-06-20",
          "2022-06-21",
          "2022-06-22",
          "2022-06-25",
          "2022-06-26",
          "2022-06-28",
          "2022-06-29",
          "2022-07-01",
          "2022-07-02",
          "2022-07-03",
          "2022-07-04",
          "2022-07-05",
          "2022-07-06",
          "2022-07-07",
          "2022-07-11",
          "2022-07-12",
          "2022-07-14",
          "2022-07-15",
          "2022-07-17",
          "2022-07-18",
          "2022-07-21",
          "2022-07-22",
          "2022-07-23",
          "2022-07-24",
          "2022-07-25",
          "2022-07-26",
          "2022-07-29",
          "2022-07-30",
          "2022-07-31",
          "2022-08-01",
          "2022-08-03",
          "2022-08-05",
          "2022-08-06",
          "2022-08-08",
          "2022-08-10",
          "2022-08-12",
          "2022-08-14",
          "2022-08-16",
          "2022-08-17",
          "2022-08-18",
          "2022-08-19",
          "2022-08-20",
          "2022-08-21",
          "2022-08-22",
          "2022-08-23",
          "2022-08-24",
          "2022-08-25",
          "2022-08-26"
         ],
         "xaxis": "x",
         "y": [
          26,
          26,
          26,
          26,
          27,
          27,
          27,
          27,
          27,
          27,
          27,
          27,
          27,
          27,
          27,
          27,
          27,
          27,
          27,
          28,
          28,
          28,
          28,
          28,
          28,
          28,
          29,
          29,
          29,
          29,
          29,
          29,
          30,
          30,
          31,
          32,
          33,
          36,
          37,
          37,
          37,
          38,
          41,
          43,
          44,
          48,
          49,
          50,
          51,
          51,
          51,
          51,
          51,
          51,
          52,
          52
         ],
         "yaxis": "y"
        },
        {
         "hovertemplate": "<b>%{hovertext}</b><br><br>medal=SILVER<br>title=Daily AQI - Air Quality Index [Scheduled]<br>date=%{x}<br>count=%{y}<extra></extra>",
         "hovertext": [
          "Daily AQI - Air Quality Index [Scheduled]",
          "Daily AQI - Air Quality Index [Scheduled]",
          "Daily AQI - Air Quality Index [Scheduled]",
          "Daily AQI - Air Quality Index [Scheduled]",
          "Daily AQI - Air Quality Index [Scheduled]",
          "Daily AQI - Air Quality Index [Scheduled]",
          "Daily AQI - Air Quality Index [Scheduled]",
          "Daily AQI - Air Quality Index [Scheduled]",
          "Daily AQI - Air Quality Index [Scheduled]",
          "Daily AQI - Air Quality Index [Scheduled]",
          "Daily AQI - Air Quality Index [Scheduled]",
          "Daily AQI - Air Quality Index [Scheduled]",
          "Daily AQI - Air Quality Index [Scheduled]",
          "Daily AQI - Air Quality Index [Scheduled]",
          "Daily AQI - Air Quality Index [Scheduled]",
          "Daily AQI - Air Quality Index [Scheduled]",
          "Daily AQI - Air Quality Index [Scheduled]",
          "Daily AQI - Air Quality Index [Scheduled]",
          "Daily AQI - Air Quality Index [Scheduled]",
          "Daily AQI - Air Quality Index [Scheduled]",
          "Daily AQI - Air Quality Index [Scheduled]",
          "Daily AQI - Air Quality Index [Scheduled]",
          "Daily AQI - Air Quality Index [Scheduled]",
          "Daily AQI - Air Quality Index [Scheduled]",
          "Daily AQI - Air Quality Index [Scheduled]",
          "Daily AQI - Air Quality Index [Scheduled]",
          "Daily AQI - Air Quality Index [Scheduled]",
          "Daily AQI - Air Quality Index [Scheduled]"
         ],
         "legendgroup": "SILVER",
         "line": {
          "color": "silver",
          "dash": "solid",
          "shape": "spline"
         },
         "marker": {
          "symbol": "circle"
         },
         "mode": "lines",
         "name": "SILVER",
         "orientation": "v",
         "showlegend": false,
         "type": "scatter",
         "x": [
          "2022-07-21",
          "2022-07-22",
          "2022-07-23",
          "2022-07-24",
          "2022-07-25",
          "2022-07-26",
          "2022-07-29",
          "2022-07-30",
          "2022-07-31",
          "2022-08-01",
          "2022-08-03",
          "2022-08-05",
          "2022-08-06",
          "2022-08-08",
          "2022-08-10",
          "2022-08-12",
          "2022-08-14",
          "2022-08-16",
          "2022-08-17",
          "2022-08-18",
          "2022-08-19",
          "2022-08-20",
          "2022-08-21",
          "2022-08-22",
          "2022-08-23",
          "2022-08-24",
          "2022-08-25",
          "2022-08-26"
         ],
         "xaxis": "x",
         "y": [
          3,
          11,
          12,
          14,
          15,
          16,
          18,
          18,
          19,
          22,
          23,
          25,
          26,
          28,
          32,
          35,
          39,
          42,
          45,
          45,
          48,
          48,
          49,
          50,
          51,
          51,
          52,
          52
         ],
         "yaxis": "y"
        },
        {
         "hovertemplate": "<b>%{hovertext}</b><br><br>medal=SILVER<br>title=House Price Prediction with Stacking & Ensembling<br>date=%{x}<br>count=%{y}<extra></extra>",
         "hovertext": [
          "House Price Prediction with Stacking & Ensembling",
          "House Price Prediction with Stacking & Ensembling",
          "House Price Prediction with Stacking & Ensembling",
          "House Price Prediction with Stacking & Ensembling",
          "House Price Prediction with Stacking & Ensembling",
          "House Price Prediction with Stacking & Ensembling",
          "House Price Prediction with Stacking & Ensembling",
          "House Price Prediction with Stacking & Ensembling",
          "House Price Prediction with Stacking & Ensembling",
          "House Price Prediction with Stacking & Ensembling"
         ],
         "legendgroup": "SILVER",
         "line": {
          "color": "silver",
          "dash": "solid",
          "shape": "spline"
         },
         "marker": {
          "symbol": "circle"
         },
         "mode": "lines",
         "name": "SILVER",
         "orientation": "v",
         "showlegend": false,
         "type": "scatter",
         "x": [
          "2022-08-17",
          "2022-08-18",
          "2022-08-19",
          "2022-08-20",
          "2022-08-21",
          "2022-08-22",
          "2022-08-23",
          "2022-08-24",
          "2022-08-25",
          "2022-08-26"
         ],
         "xaxis": "x",
         "y": [
          7,
          10,
          15,
          15,
          17,
          19,
          20,
          20,
          24,
          26
         ],
         "yaxis": "y"
        }
       ],
       "layout": {
        "height": 800,
        "legend": {
         "title": {
          "text": "medal"
         },
         "tracegroupgap": 0
        },
        "template": {
         "data": {
          "bar": [
           {
            "error_x": {
             "color": "#f2f5fa"
            },
            "error_y": {
             "color": "#f2f5fa"
            },
            "marker": {
             "line": {
              "color": "rgb(17,17,17)",
              "width": 0.5
             },
             "pattern": {
              "fillmode": "overlay",
              "size": 10,
              "solidity": 0.2
             }
            },
            "type": "bar"
           }
          ],
          "barpolar": [
           {
            "marker": {
             "line": {
              "color": "rgb(17,17,17)",
              "width": 0.5
             },
             "pattern": {
              "fillmode": "overlay",
              "size": 10,
              "solidity": 0.2
             }
            },
            "type": "barpolar"
           }
          ],
          "carpet": [
           {
            "aaxis": {
             "endlinecolor": "#A2B1C6",
             "gridcolor": "#506784",
             "linecolor": "#506784",
             "minorgridcolor": "#506784",
             "startlinecolor": "#A2B1C6"
            },
            "baxis": {
             "endlinecolor": "#A2B1C6",
             "gridcolor": "#506784",
             "linecolor": "#506784",
             "minorgridcolor": "#506784",
             "startlinecolor": "#A2B1C6"
            },
            "type": "carpet"
           }
          ],
          "choropleth": [
           {
            "colorbar": {
             "outlinewidth": 0,
             "ticks": ""
            },
            "type": "choropleth"
           }
          ],
          "contour": [
           {
            "colorbar": {
             "outlinewidth": 0,
             "ticks": ""
            },
            "colorscale": [
             [
              0,
              "#0d0887"
             ],
             [
              0.1111111111111111,
              "#46039f"
             ],
             [
              0.2222222222222222,
              "#7201a8"
             ],
             [
              0.3333333333333333,
              "#9c179e"
             ],
             [
              0.4444444444444444,
              "#bd3786"
             ],
             [
              0.5555555555555556,
              "#d8576b"
             ],
             [
              0.6666666666666666,
              "#ed7953"
             ],
             [
              0.7777777777777778,
              "#fb9f3a"
             ],
             [
              0.8888888888888888,
              "#fdca26"
             ],
             [
              1,
              "#f0f921"
             ]
            ],
            "type": "contour"
           }
          ],
          "contourcarpet": [
           {
            "colorbar": {
             "outlinewidth": 0,
             "ticks": ""
            },
            "type": "contourcarpet"
           }
          ],
          "heatmap": [
           {
            "colorbar": {
             "outlinewidth": 0,
             "ticks": ""
            },
            "colorscale": [
             [
              0,
              "#0d0887"
             ],
             [
              0.1111111111111111,
              "#46039f"
             ],
             [
              0.2222222222222222,
              "#7201a8"
             ],
             [
              0.3333333333333333,
              "#9c179e"
             ],
             [
              0.4444444444444444,
              "#bd3786"
             ],
             [
              0.5555555555555556,
              "#d8576b"
             ],
             [
              0.6666666666666666,
              "#ed7953"
             ],
             [
              0.7777777777777778,
              "#fb9f3a"
             ],
             [
              0.8888888888888888,
              "#fdca26"
             ],
             [
              1,
              "#f0f921"
             ]
            ],
            "type": "heatmap"
           }
          ],
          "heatmapgl": [
           {
            "colorbar": {
             "outlinewidth": 0,
             "ticks": ""
            },
            "colorscale": [
             [
              0,
              "#0d0887"
             ],
             [
              0.1111111111111111,
              "#46039f"
             ],
             [
              0.2222222222222222,
              "#7201a8"
             ],
             [
              0.3333333333333333,
              "#9c179e"
             ],
             [
              0.4444444444444444,
              "#bd3786"
             ],
             [
              0.5555555555555556,
              "#d8576b"
             ],
             [
              0.6666666666666666,
              "#ed7953"
             ],
             [
              0.7777777777777778,
              "#fb9f3a"
             ],
             [
              0.8888888888888888,
              "#fdca26"
             ],
             [
              1,
              "#f0f921"
             ]
            ],
            "type": "heatmapgl"
           }
          ],
          "histogram": [
           {
            "marker": {
             "pattern": {
              "fillmode": "overlay",
              "size": 10,
              "solidity": 0.2
             }
            },
            "type": "histogram"
           }
          ],
          "histogram2d": [
           {
            "colorbar": {
             "outlinewidth": 0,
             "ticks": ""
            },
            "colorscale": [
             [
              0,
              "#0d0887"
             ],
             [
              0.1111111111111111,
              "#46039f"
             ],
             [
              0.2222222222222222,
              "#7201a8"
             ],
             [
              0.3333333333333333,
              "#9c179e"
             ],
             [
              0.4444444444444444,
              "#bd3786"
             ],
             [
              0.5555555555555556,
              "#d8576b"
             ],
             [
              0.6666666666666666,
              "#ed7953"
             ],
             [
              0.7777777777777778,
              "#fb9f3a"
             ],
             [
              0.8888888888888888,
              "#fdca26"
             ],
             [
              1,
              "#f0f921"
             ]
            ],
            "type": "histogram2d"
           }
          ],
          "histogram2dcontour": [
           {
            "colorbar": {
             "outlinewidth": 0,
             "ticks": ""
            },
            "colorscale": [
             [
              0,
              "#0d0887"
             ],
             [
              0.1111111111111111,
              "#46039f"
             ],
             [
              0.2222222222222222,
              "#7201a8"
             ],
             [
              0.3333333333333333,
              "#9c179e"
             ],
             [
              0.4444444444444444,
              "#bd3786"
             ],
             [
              0.5555555555555556,
              "#d8576b"
             ],
             [
              0.6666666666666666,
              "#ed7953"
             ],
             [
              0.7777777777777778,
              "#fb9f3a"
             ],
             [
              0.8888888888888888,
              "#fdca26"
             ],
             [
              1,
              "#f0f921"
             ]
            ],
            "type": "histogram2dcontour"
           }
          ],
          "mesh3d": [
           {
            "colorbar": {
             "outlinewidth": 0,
             "ticks": ""
            },
            "type": "mesh3d"
           }
          ],
          "parcoords": [
           {
            "line": {
             "colorbar": {
              "outlinewidth": 0,
              "ticks": ""
             }
            },
            "type": "parcoords"
           }
          ],
          "pie": [
           {
            "automargin": true,
            "type": "pie"
           }
          ],
          "scatter": [
           {
            "marker": {
             "line": {
              "color": "#283442"
             }
            },
            "type": "scatter"
           }
          ],
          "scatter3d": [
           {
            "line": {
             "colorbar": {
              "outlinewidth": 0,
              "ticks": ""
             }
            },
            "marker": {
             "colorbar": {
              "outlinewidth": 0,
              "ticks": ""
             }
            },
            "type": "scatter3d"
           }
          ],
          "scattercarpet": [
           {
            "marker": {
             "colorbar": {
              "outlinewidth": 0,
              "ticks": ""
             }
            },
            "type": "scattercarpet"
           }
          ],
          "scattergeo": [
           {
            "marker": {
             "colorbar": {
              "outlinewidth": 0,
              "ticks": ""
             }
            },
            "type": "scattergeo"
           }
          ],
          "scattergl": [
           {
            "marker": {
             "line": {
              "color": "#283442"
             }
            },
            "type": "scattergl"
           }
          ],
          "scattermapbox": [
           {
            "marker": {
             "colorbar": {
              "outlinewidth": 0,
              "ticks": ""
             }
            },
            "type": "scattermapbox"
           }
          ],
          "scatterpolar": [
           {
            "marker": {
             "colorbar": {
              "outlinewidth": 0,
              "ticks": ""
             }
            },
            "type": "scatterpolar"
           }
          ],
          "scatterpolargl": [
           {
            "marker": {
             "colorbar": {
              "outlinewidth": 0,
              "ticks": ""
             }
            },
            "type": "scatterpolargl"
           }
          ],
          "scatterternary": [
           {
            "marker": {
             "colorbar": {
              "outlinewidth": 0,
              "ticks": ""
             }
            },
            "type": "scatterternary"
           }
          ],
          "surface": [
           {
            "colorbar": {
             "outlinewidth": 0,
             "ticks": ""
            },
            "colorscale": [
             [
              0,
              "#0d0887"
             ],
             [
              0.1111111111111111,
              "#46039f"
             ],
             [
              0.2222222222222222,
              "#7201a8"
             ],
             [
              0.3333333333333333,
              "#9c179e"
             ],
             [
              0.4444444444444444,
              "#bd3786"
             ],
             [
              0.5555555555555556,
              "#d8576b"
             ],
             [
              0.6666666666666666,
              "#ed7953"
             ],
             [
              0.7777777777777778,
              "#fb9f3a"
             ],
             [
              0.8888888888888888,
              "#fdca26"
             ],
             [
              1,
              "#f0f921"
             ]
            ],
            "type": "surface"
           }
          ],
          "table": [
           {
            "cells": {
             "fill": {
              "color": "#506784"
             },
             "line": {
              "color": "rgb(17,17,17)"
             }
            },
            "header": {
             "fill": {
              "color": "#2a3f5f"
             },
             "line": {
              "color": "rgb(17,17,17)"
             }
            },
            "type": "table"
           }
          ]
         },
         "layout": {
          "annotationdefaults": {
           "arrowcolor": "#f2f5fa",
           "arrowhead": 0,
           "arrowwidth": 1
          },
          "autotypenumbers": "strict",
          "coloraxis": {
           "colorbar": {
            "outlinewidth": 0,
            "ticks": ""
           }
          },
          "colorscale": {
           "diverging": [
            [
             0,
             "#8e0152"
            ],
            [
             0.1,
             "#c51b7d"
            ],
            [
             0.2,
             "#de77ae"
            ],
            [
             0.3,
             "#f1b6da"
            ],
            [
             0.4,
             "#fde0ef"
            ],
            [
             0.5,
             "#f7f7f7"
            ],
            [
             0.6,
             "#e6f5d0"
            ],
            [
             0.7,
             "#b8e186"
            ],
            [
             0.8,
             "#7fbc41"
            ],
            [
             0.9,
             "#4d9221"
            ],
            [
             1,
             "#276419"
            ]
           ],
           "sequential": [
            [
             0,
             "#0d0887"
            ],
            [
             0.1111111111111111,
             "#46039f"
            ],
            [
             0.2222222222222222,
             "#7201a8"
            ],
            [
             0.3333333333333333,
             "#9c179e"
            ],
            [
             0.4444444444444444,
             "#bd3786"
            ],
            [
             0.5555555555555556,
             "#d8576b"
            ],
            [
             0.6666666666666666,
             "#ed7953"
            ],
            [
             0.7777777777777778,
             "#fb9f3a"
            ],
            [
             0.8888888888888888,
             "#fdca26"
            ],
            [
             1,
             "#f0f921"
            ]
           ],
           "sequentialminus": [
            [
             0,
             "#0d0887"
            ],
            [
             0.1111111111111111,
             "#46039f"
            ],
            [
             0.2222222222222222,
             "#7201a8"
            ],
            [
             0.3333333333333333,
             "#9c179e"
            ],
            [
             0.4444444444444444,
             "#bd3786"
            ],
            [
             0.5555555555555556,
             "#d8576b"
            ],
            [
             0.6666666666666666,
             "#ed7953"
            ],
            [
             0.7777777777777778,
             "#fb9f3a"
            ],
            [
             0.8888888888888888,
             "#fdca26"
            ],
            [
             1,
             "#f0f921"
            ]
           ]
          },
          "colorway": [
           "#636efa",
           "#EF553B",
           "#00cc96",
           "#ab63fa",
           "#FFA15A",
           "#19d3f3",
           "#FF6692",
           "#B6E880",
           "#FF97FF",
           "#FECB52"
          ],
          "font": {
           "color": "#f2f5fa"
          },
          "geo": {
           "bgcolor": "rgb(17,17,17)",
           "lakecolor": "rgb(17,17,17)",
           "landcolor": "rgb(17,17,17)",
           "showlakes": true,
           "showland": true,
           "subunitcolor": "#506784"
          },
          "hoverlabel": {
           "align": "left"
          },
          "hovermode": "closest",
          "mapbox": {
           "style": "dark"
          },
          "paper_bgcolor": "rgb(17,17,17)",
          "plot_bgcolor": "rgb(17,17,17)",
          "polar": {
           "angularaxis": {
            "gridcolor": "#506784",
            "linecolor": "#506784",
            "ticks": ""
           },
           "bgcolor": "rgb(17,17,17)",
           "radialaxis": {
            "gridcolor": "#506784",
            "linecolor": "#506784",
            "ticks": ""
           }
          },
          "scene": {
           "xaxis": {
            "backgroundcolor": "rgb(17,17,17)",
            "gridcolor": "#506784",
            "gridwidth": 2,
            "linecolor": "#506784",
            "showbackground": true,
            "ticks": "",
            "zerolinecolor": "#C8D4E3"
           },
           "yaxis": {
            "backgroundcolor": "rgb(17,17,17)",
            "gridcolor": "#506784",
            "gridwidth": 2,
            "linecolor": "#506784",
            "showbackground": true,
            "ticks": "",
            "zerolinecolor": "#C8D4E3"
           },
           "zaxis": {
            "backgroundcolor": "rgb(17,17,17)",
            "gridcolor": "#506784",
            "gridwidth": 2,
            "linecolor": "#506784",
            "showbackground": true,
            "ticks": "",
            "zerolinecolor": "#C8D4E3"
           }
          },
          "shapedefaults": {
           "line": {
            "color": "#f2f5fa"
           }
          },
          "sliderdefaults": {
           "bgcolor": "#C8D4E3",
           "bordercolor": "rgb(17,17,17)",
           "borderwidth": 1,
           "tickwidth": 0
          },
          "ternary": {
           "aaxis": {
            "gridcolor": "#506784",
            "linecolor": "#506784",
            "ticks": ""
           },
           "baxis": {
            "gridcolor": "#506784",
            "linecolor": "#506784",
            "ticks": ""
           },
           "bgcolor": "rgb(17,17,17)",
           "caxis": {
            "gridcolor": "#506784",
            "linecolor": "#506784",
            "ticks": ""
           }
          },
          "title": {
           "x": 0.05
          },
          "updatemenudefaults": {
           "bgcolor": "#506784",
           "borderwidth": 0
          },
          "xaxis": {
           "automargin": true,
           "gridcolor": "#283442",
           "linecolor": "#506784",
           "ticks": "",
           "title": {
            "standoff": 15
           },
           "zerolinecolor": "#283442",
           "zerolinewidth": 2
          },
          "yaxis": {
           "automargin": true,
           "gridcolor": "#283442",
           "linecolor": "#506784",
           "ticks": "",
           "title": {
            "standoff": 15
           },
           "zerolinecolor": "#283442",
           "zerolinewidth": 2
          }
         }
        },
        "title": {
         "text": "Notebooks by Thomas Shelby 2022-08-25"
        },
        "xaxis": {
         "anchor": "y",
         "domain": [
          0,
          1
         ],
         "title": {
          "text": "date"
         }
        },
        "yaxis": {
         "anchor": "x",
         "domain": [
          0,
          1
         ],
         "title": {
          "text": "count"
         }
        }
       }
      }
     },
     "metadata": {},
     "output_type": "display_data"
    }
   ],
   "source": [
    "color_map = {\n",
    "    'GOLD': 'gold',\n",
    "    'SILVER': 'silver',\n",
    "    'BRONZE': 'chocolate',\n",
    "    'N/A': '#333',\n",
    "    'Not Found' : 'lime'\n",
    "}\n",
    "fig=px.line(\n",
    "    df_d,\n",
    "    x='date',\n",
    "    y='count',\n",
    "    title=f'Notebooks by {df.author_displayName.get(0)} '+str(links[-2][25:35]),\n",
    "    log_x=False,\n",
    "    log_y=False,\n",
    "    line_group='title',\n",
    "    #symbol='title',\n",
    "    markers=False,\n",
    "    #width=800, \n",
    "    height=800,\n",
    "    line_shape='spline',\n",
    "    color='medal',\n",
    "    color_discrete_map=color_map,\n",
    "    template='plotly_dark',\n",
    "    hover_name='title')\n",
    "fig.show()"
   ]
  },
  {
   "cell_type": "code",
   "execution_count": 13,
   "id": "ef90ca2e",
   "metadata": {},
   "outputs": [
    {
     "data": {
      "application/vnd.plotly.v1+json": {
       "config": {
        "plotlyServerURL": "https://plot.ly"
       },
       "data": [
        {
         "hovertemplate": "<b>%{hovertext}</b><br><br>medal=GOLD<br>title=UCL ⚽ EDA & Viz ⭐ 2021-22 ⭐ Players & Teams<br>date=%{x}<br>view_count=%{y}<extra></extra>",
         "hovertext": [
          "UCL ⚽ EDA & Viz ⭐ 2021-22 ⭐ Players & Teams",
          "UCL ⚽ EDA & Viz ⭐ 2021-22 ⭐ Players & Teams",
          "UCL ⚽ EDA & Viz ⭐ 2021-22 ⭐ Players & Teams",
          "UCL ⚽ EDA & Viz ⭐ 2021-22 ⭐ Players & Teams",
          "UCL ⚽ EDA & Viz ⭐ 2021-22 ⭐ Players & Teams",
          "UCL ⚽ EDA & Viz ⭐ 2021-22 ⭐ Players & Teams",
          "UCL ⚽ EDA & Viz ⭐ 2021-22 ⭐ Players & Teams",
          "UCL ⚽ EDA & Viz ⭐ 2021-22 ⭐ Players & Teams",
          "UCL ⚽ EDA & Viz ⭐ 2021-22 ⭐ Players & Teams",
          "UCL ⚽ EDA & Viz ⭐ 2021-22 ⭐ Players & Teams",
          "UCL ⚽ EDA & Viz ⭐ 2021-22 ⭐ Players & Teams",
          "UCL ⚽ EDA & Viz ⭐ 2021-22 ⭐ Players & Teams",
          "UCL ⚽ EDA & Viz ⭐ 2021-22 ⭐ Players & Teams",
          "UCL ⚽ EDA & Viz ⭐ 2021-22 ⭐ Players & Teams",
          "UCL ⚽ EDA & Viz ⭐ 2021-22 ⭐ Players & Teams",
          "UCL ⚽ EDA & Viz ⭐ 2021-22 ⭐ Players & Teams",
          "UCL ⚽ EDA & Viz ⭐ 2021-22 ⭐ Players & Teams",
          "UCL ⚽ EDA & Viz ⭐ 2021-22 ⭐ Players & Teams",
          "UCL ⚽ EDA & Viz ⭐ 2021-22 ⭐ Players & Teams",
          "UCL ⚽ EDA & Viz ⭐ 2021-22 ⭐ Players & Teams",
          "UCL ⚽ EDA & Viz ⭐ 2021-22 ⭐ Players & Teams",
          "UCL ⚽ EDA & Viz ⭐ 2021-22 ⭐ Players & Teams",
          "UCL ⚽ EDA & Viz ⭐ 2021-22 ⭐ Players & Teams",
          "UCL ⚽ EDA & Viz ⭐ 2021-22 ⭐ Players & Teams",
          "UCL ⚽ EDA & Viz ⭐ 2021-22 ⭐ Players & Teams",
          "UCL ⚽ EDA & Viz ⭐ 2021-22 ⭐ Players & Teams",
          "UCL ⚽ EDA & Viz ⭐ 2021-22 ⭐ Players & Teams",
          "UCL ⚽ EDA & Viz ⭐ 2021-22 ⭐ Players & Teams",
          "UCL ⚽ EDA & Viz ⭐ 2021-22 ⭐ Players & Teams",
          "UCL ⚽ EDA & Viz ⭐ 2021-22 ⭐ Players & Teams",
          "UCL ⚽ EDA & Viz ⭐ 2021-22 ⭐ Players & Teams",
          "UCL ⚽ EDA & Viz ⭐ 2021-22 ⭐ Players & Teams",
          "UCL ⚽ EDA & Viz ⭐ 2021-22 ⭐ Players & Teams",
          "UCL ⚽ EDA & Viz ⭐ 2021-22 ⭐ Players & Teams",
          "UCL ⚽ EDA & Viz ⭐ 2021-22 ⭐ Players & Teams",
          "UCL ⚽ EDA & Viz ⭐ 2021-22 ⭐ Players & Teams",
          "UCL ⚽ EDA & Viz ⭐ 2021-22 ⭐ Players & Teams",
          "UCL ⚽ EDA & Viz ⭐ 2021-22 ⭐ Players & Teams",
          "UCL ⚽ EDA & Viz ⭐ 2021-22 ⭐ Players & Teams",
          "UCL ⚽ EDA & Viz ⭐ 2021-22 ⭐ Players & Teams",
          "UCL ⚽ EDA & Viz ⭐ 2021-22 ⭐ Players & Teams",
          "UCL ⚽ EDA & Viz ⭐ 2021-22 ⭐ Players & Teams",
          "UCL ⚽ EDA & Viz ⭐ 2021-22 ⭐ Players & Teams",
          "UCL ⚽ EDA & Viz ⭐ 2021-22 ⭐ Players & Teams",
          "UCL ⚽ EDA & Viz ⭐ 2021-22 ⭐ Players & Teams",
          "UCL ⚽ EDA & Viz ⭐ 2021-22 ⭐ Players & Teams",
          "UCL ⚽ EDA & Viz ⭐ 2021-22 ⭐ Players & Teams",
          "UCL ⚽ EDA & Viz ⭐ 2021-22 ⭐ Players & Teams",
          "UCL ⚽ EDA & Viz ⭐ 2021-22 ⭐ Players & Teams",
          "UCL ⚽ EDA & Viz ⭐ 2021-22 ⭐ Players & Teams",
          "UCL ⚽ EDA & Viz ⭐ 2021-22 ⭐ Players & Teams",
          "UCL ⚽ EDA & Viz ⭐ 2021-22 ⭐ Players & Teams",
          "UCL ⚽ EDA & Viz ⭐ 2021-22 ⭐ Players & Teams",
          "UCL ⚽ EDA & Viz ⭐ 2021-22 ⭐ Players & Teams",
          "UCL ⚽ EDA & Viz ⭐ 2021-22 ⭐ Players & Teams",
          "UCL ⚽ EDA & Viz ⭐ 2021-22 ⭐ Players & Teams"
         ],
         "legendgroup": "GOLD",
         "line": {
          "color": "gold",
          "dash": "solid",
          "shape": "spline"
         },
         "marker": {
          "symbol": "circle"
         },
         "mode": "lines",
         "name": "GOLD",
         "orientation": "v",
         "showlegend": true,
         "type": "scatter",
         "x": [
          "2022-06-12",
          "2022-06-13",
          "2022-06-14",
          "2022-06-15",
          "2022-06-16",
          "2022-06-17",
          "2022-06-18",
          "2022-06-19",
          "2022-06-20",
          "2022-06-21",
          "2022-06-22",
          "2022-06-25",
          "2022-06-26",
          "2022-06-28",
          "2022-06-29",
          "2022-07-01",
          "2022-07-02",
          "2022-07-03",
          "2022-07-04",
          "2022-07-05",
          "2022-07-06",
          "2022-07-07",
          "2022-07-11",
          "2022-07-12",
          "2022-07-14",
          "2022-07-15",
          "2022-07-17",
          "2022-07-18",
          "2022-07-21",
          "2022-07-22",
          "2022-07-23",
          "2022-07-24",
          "2022-07-25",
          "2022-07-26",
          "2022-07-29",
          "2022-07-30",
          "2022-07-31",
          "2022-08-01",
          "2022-08-03",
          "2022-08-05",
          "2022-08-06",
          "2022-08-08",
          "2022-08-10",
          "2022-08-12",
          "2022-08-14",
          "2022-08-16",
          "2022-08-17",
          "2022-08-18",
          "2022-08-19",
          "2022-08-20",
          "2022-08-21",
          "2022-08-22",
          "2022-08-23",
          "2022-08-24",
          "2022-08-25",
          "2022-08-26"
         ],
         "xaxis": "x",
         "y": [
          404,
          455,
          502,
          568,
          702,
          766,
          833,
          865,
          926,
          1003,
          1045,
          1124,
          1159,
          1211,
          1248,
          1331,
          1355,
          1368,
          1378,
          1437,
          1464,
          1475,
          1553,
          1566,
          1619,
          1634,
          1700,
          1713,
          1774,
          1782,
          1812,
          1842,
          1864,
          1893,
          1935,
          1950,
          1969,
          1992,
          2021,
          2062,
          2074,
          2081,
          2115,
          2141,
          2171,
          2192,
          2200,
          2216,
          2230,
          2238,
          2244,
          2249,
          2268,
          2268,
          2310,
          2318
         ],
         "yaxis": "y"
        },
        {
         "hovertemplate": "<b>%{hovertext}</b><br><br>medal=GOLD<br>title=Divorce Prediction & Reasons : XGB,SHAP,RFE,TSNE<br>date=%{x}<br>view_count=%{y}<extra></extra>",
         "hovertext": [
          "Divorce Prediction & Reasons : XGB,SHAP,RFE,TSNE",
          "Divorce Prediction & Reasons : XGB,SHAP,RFE,TSNE",
          "Divorce Prediction & Reasons : XGB,SHAP,RFE,TSNE",
          "Divorce Prediction & Reasons : XGB,SHAP,RFE,TSNE",
          "Divorce Prediction & Reasons : XGB,SHAP,RFE,TSNE",
          "Divorce Prediction & Reasons : XGB,SHAP,RFE,TSNE",
          "Divorce Prediction & Reasons : XGB,SHAP,RFE,TSNE",
          "Divorce Prediction & Reasons : XGB,SHAP,RFE,TSNE",
          "Divorce Prediction & Reasons : XGB,SHAP,RFE,TSNE",
          "Divorce Prediction & Reasons : XGB,SHAP,RFE,TSNE",
          "Divorce Prediction & Reasons : XGB,SHAP,RFE,TSNE",
          "Divorce Prediction & Reasons : XGB,SHAP,RFE,TSNE",
          "Divorce Prediction & Reasons : XGB,SHAP,RFE,TSNE",
          "Divorce Prediction & Reasons : XGB,SHAP,RFE,TSNE",
          "Divorce Prediction & Reasons : XGB,SHAP,RFE,TSNE",
          "Divorce Prediction & Reasons : XGB,SHAP,RFE,TSNE",
          "Divorce Prediction & Reasons : XGB,SHAP,RFE,TSNE",
          "Divorce Prediction & Reasons : XGB,SHAP,RFE,TSNE",
          "Divorce Prediction & Reasons : XGB,SHAP,RFE,TSNE",
          "Divorce Prediction & Reasons : XGB,SHAP,RFE,TSNE",
          "Divorce Prediction & Reasons : XGB,SHAP,RFE,TSNE",
          "Divorce Prediction & Reasons : XGB,SHAP,RFE,TSNE",
          "Divorce Prediction & Reasons : XGB,SHAP,RFE,TSNE",
          "Divorce Prediction & Reasons : XGB,SHAP,RFE,TSNE",
          "Divorce Prediction & Reasons : XGB,SHAP,RFE,TSNE",
          "Divorce Prediction & Reasons : XGB,SHAP,RFE,TSNE",
          "Divorce Prediction & Reasons : XGB,SHAP,RFE,TSNE",
          "Divorce Prediction & Reasons : XGB,SHAP,RFE,TSNE",
          "Divorce Prediction & Reasons : XGB,SHAP,RFE,TSNE",
          "Divorce Prediction & Reasons : XGB,SHAP,RFE,TSNE",
          "Divorce Prediction & Reasons : XGB,SHAP,RFE,TSNE",
          "Divorce Prediction & Reasons : XGB,SHAP,RFE,TSNE",
          "Divorce Prediction & Reasons : XGB,SHAP,RFE,TSNE",
          "Divorce Prediction & Reasons : XGB,SHAP,RFE,TSNE",
          "Divorce Prediction & Reasons : XGB,SHAP,RFE,TSNE",
          "Divorce Prediction & Reasons : XGB,SHAP,RFE,TSNE",
          "Divorce Prediction & Reasons : XGB,SHAP,RFE,TSNE",
          "Divorce Prediction & Reasons : XGB,SHAP,RFE,TSNE",
          "Divorce Prediction & Reasons : XGB,SHAP,RFE,TSNE",
          "Divorce Prediction & Reasons : XGB,SHAP,RFE,TSNE",
          "Divorce Prediction & Reasons : XGB,SHAP,RFE,TSNE",
          "Divorce Prediction & Reasons : XGB,SHAP,RFE,TSNE",
          "Divorce Prediction & Reasons : XGB,SHAP,RFE,TSNE",
          "Divorce Prediction & Reasons : XGB,SHAP,RFE,TSNE",
          "Divorce Prediction & Reasons : XGB,SHAP,RFE,TSNE",
          "Divorce Prediction & Reasons : XGB,SHAP,RFE,TSNE",
          "Divorce Prediction & Reasons : XGB,SHAP,RFE,TSNE",
          "Divorce Prediction & Reasons : XGB,SHAP,RFE,TSNE",
          "Divorce Prediction & Reasons : XGB,SHAP,RFE,TSNE",
          "Divorce Prediction & Reasons : XGB,SHAP,RFE,TSNE",
          "Divorce Prediction & Reasons : XGB,SHAP,RFE,TSNE",
          "Divorce Prediction & Reasons : XGB,SHAP,RFE,TSNE",
          "Divorce Prediction & Reasons : XGB,SHAP,RFE,TSNE",
          "Divorce Prediction & Reasons : XGB,SHAP,RFE,TSNE",
          "Divorce Prediction & Reasons : XGB,SHAP,RFE,TSNE",
          "Divorce Prediction & Reasons : XGB,SHAP,RFE,TSNE"
         ],
         "legendgroup": "GOLD",
         "line": {
          "color": "gold",
          "dash": "solid",
          "shape": "spline"
         },
         "marker": {
          "symbol": "circle"
         },
         "mode": "lines",
         "name": "GOLD",
         "orientation": "v",
         "showlegend": false,
         "type": "scatter",
         "x": [
          "2022-06-12",
          "2022-06-13",
          "2022-06-14",
          "2022-06-15",
          "2022-06-16",
          "2022-06-17",
          "2022-06-18",
          "2022-06-19",
          "2022-06-20",
          "2022-06-21",
          "2022-06-22",
          "2022-06-25",
          "2022-06-26",
          "2022-06-28",
          "2022-06-29",
          "2022-07-01",
          "2022-07-02",
          "2022-07-03",
          "2022-07-04",
          "2022-07-05",
          "2022-07-06",
          "2022-07-07",
          "2022-07-11",
          "2022-07-12",
          "2022-07-14",
          "2022-07-15",
          "2022-07-17",
          "2022-07-18",
          "2022-07-21",
          "2022-07-22",
          "2022-07-23",
          "2022-07-24",
          "2022-07-25",
          "2022-07-26",
          "2022-07-29",
          "2022-07-30",
          "2022-07-31",
          "2022-08-01",
          "2022-08-03",
          "2022-08-05",
          "2022-08-06",
          "2022-08-08",
          "2022-08-10",
          "2022-08-12",
          "2022-08-14",
          "2022-08-16",
          "2022-08-17",
          "2022-08-18",
          "2022-08-19",
          "2022-08-20",
          "2022-08-21",
          "2022-08-22",
          "2022-08-23",
          "2022-08-24",
          "2022-08-25",
          "2022-08-26"
         ],
         "xaxis": "x",
         "y": [
          435,
          470,
          490,
          514,
          540,
          568,
          580,
          591,
          596,
          607,
          626,
          679,
          706,
          733,
          757,
          784,
          796,
          802,
          813,
          846,
          872,
          877,
          965,
          986,
          1035,
          1060,
          1111,
          1120,
          1198,
          1207,
          1217,
          1235,
          1247,
          1262,
          1288,
          1294,
          1308,
          1318,
          1348,
          1376,
          1393,
          1400,
          1445,
          1464,
          1504,
          1549,
          1566,
          1610,
          1618,
          1629,
          1635,
          1643,
          1675,
          1675,
          1709,
          1720
         ],
         "yaxis": "y"
        },
        {
         "hovertemplate": "<b>%{hovertext}</b><br><br>medal=GOLD<br>title=Advanced Feature Engineering for Classification<br>date=%{x}<br>view_count=%{y}<extra></extra>",
         "hovertext": [
          "Advanced Feature Engineering for Classification",
          "Advanced Feature Engineering for Classification",
          "Advanced Feature Engineering for Classification",
          "Advanced Feature Engineering for Classification",
          "Advanced Feature Engineering for Classification",
          "Advanced Feature Engineering for Classification",
          "Advanced Feature Engineering for Classification",
          "Advanced Feature Engineering for Classification",
          "Advanced Feature Engineering for Classification",
          "Advanced Feature Engineering for Classification",
          "Advanced Feature Engineering for Classification",
          "Advanced Feature Engineering for Classification",
          "Advanced Feature Engineering for Classification",
          "Advanced Feature Engineering for Classification",
          "Advanced Feature Engineering for Classification",
          "Advanced Feature Engineering for Classification",
          "Advanced Feature Engineering for Classification",
          "Advanced Feature Engineering for Classification",
          "Advanced Feature Engineering for Classification",
          "Advanced Feature Engineering for Classification",
          "Advanced Feature Engineering for Classification",
          "Advanced Feature Engineering for Classification",
          "Advanced Feature Engineering for Classification",
          "Advanced Feature Engineering for Classification",
          "Advanced Feature Engineering for Classification",
          "Advanced Feature Engineering for Classification",
          "Advanced Feature Engineering for Classification",
          "Advanced Feature Engineering for Classification",
          "Advanced Feature Engineering for Classification",
          "Advanced Feature Engineering for Classification",
          "Advanced Feature Engineering for Classification",
          "Advanced Feature Engineering for Classification",
          "Advanced Feature Engineering for Classification",
          "Advanced Feature Engineering for Classification",
          "Advanced Feature Engineering for Classification",
          "Advanced Feature Engineering for Classification",
          "Advanced Feature Engineering for Classification",
          "Advanced Feature Engineering for Classification",
          "Advanced Feature Engineering for Classification",
          "Advanced Feature Engineering for Classification",
          "Advanced Feature Engineering for Classification",
          "Advanced Feature Engineering for Classification",
          "Advanced Feature Engineering for Classification",
          "Advanced Feature Engineering for Classification",
          "Advanced Feature Engineering for Classification",
          "Advanced Feature Engineering for Classification",
          "Advanced Feature Engineering for Classification",
          "Advanced Feature Engineering for Classification",
          "Advanced Feature Engineering for Classification",
          "Advanced Feature Engineering for Classification",
          "Advanced Feature Engineering for Classification",
          "Advanced Feature Engineering for Classification",
          "Advanced Feature Engineering for Classification",
          "Advanced Feature Engineering for Classification",
          "Advanced Feature Engineering for Classification",
          "Advanced Feature Engineering for Classification"
         ],
         "legendgroup": "GOLD",
         "line": {
          "color": "gold",
          "dash": "solid",
          "shape": "spline"
         },
         "marker": {
          "symbol": "circle"
         },
         "mode": "lines",
         "name": "GOLD",
         "orientation": "v",
         "showlegend": false,
         "type": "scatter",
         "x": [
          "2022-06-12",
          "2022-06-13",
          "2022-06-14",
          "2022-06-15",
          "2022-06-16",
          "2022-06-17",
          "2022-06-18",
          "2022-06-19",
          "2022-06-20",
          "2022-06-21",
          "2022-06-22",
          "2022-06-25",
          "2022-06-26",
          "2022-06-28",
          "2022-06-29",
          "2022-07-01",
          "2022-07-02",
          "2022-07-03",
          "2022-07-04",
          "2022-07-05",
          "2022-07-06",
          "2022-07-07",
          "2022-07-11",
          "2022-07-12",
          "2022-07-14",
          "2022-07-15",
          "2022-07-17",
          "2022-07-18",
          "2022-07-21",
          "2022-07-22",
          "2022-07-23",
          "2022-07-24",
          "2022-07-25",
          "2022-07-26",
          "2022-07-29",
          "2022-07-30",
          "2022-07-31",
          "2022-08-01",
          "2022-08-03",
          "2022-08-05",
          "2022-08-06",
          "2022-08-08",
          "2022-08-10",
          "2022-08-12",
          "2022-08-14",
          "2022-08-16",
          "2022-08-17",
          "2022-08-18",
          "2022-08-19",
          "2022-08-20",
          "2022-08-21",
          "2022-08-22",
          "2022-08-23",
          "2022-08-24",
          "2022-08-25",
          "2022-08-26"
         ],
         "xaxis": "x",
         "y": [
          622,
          636,
          659,
          672,
          680,
          688,
          694,
          697,
          699,
          708,
          715,
          734,
          738,
          745,
          769,
          787,
          796,
          799,
          803,
          825,
          844,
          848,
          917,
          941,
          1001,
          1020,
          1075,
          1087,
          1189,
          1220,
          1270,
          1302,
          1336,
          1375,
          1473,
          1504,
          1551,
          1582,
          1648,
          1808,
          1903,
          1957,
          2091,
          2166,
          2328,
          2438,
          2477,
          2565,
          2598,
          2632,
          2671,
          2716,
          2767,
          2767,
          2839,
          2873
         ],
         "yaxis": "y"
        },
        {
         "hovertemplate": "<b>%{hovertext}</b><br><br>medal=GOLD<br>title=All Imputation Techniques with Pros and Cons<br>date=%{x}<br>view_count=%{y}<extra></extra>",
         "hovertext": [
          "All Imputation Techniques with Pros and Cons",
          "All Imputation Techniques with Pros and Cons",
          "All Imputation Techniques with Pros and Cons",
          "All Imputation Techniques with Pros and Cons",
          "All Imputation Techniques with Pros and Cons",
          "All Imputation Techniques with Pros and Cons",
          "All Imputation Techniques with Pros and Cons",
          "All Imputation Techniques with Pros and Cons",
          "All Imputation Techniques with Pros and Cons",
          "All Imputation Techniques with Pros and Cons",
          "All Imputation Techniques with Pros and Cons",
          "All Imputation Techniques with Pros and Cons",
          "All Imputation Techniques with Pros and Cons",
          "All Imputation Techniques with Pros and Cons",
          "All Imputation Techniques with Pros and Cons",
          "All Imputation Techniques with Pros and Cons",
          "All Imputation Techniques with Pros and Cons",
          "All Imputation Techniques with Pros and Cons",
          "All Imputation Techniques with Pros and Cons",
          "All Imputation Techniques with Pros and Cons",
          "All Imputation Techniques with Pros and Cons",
          "All Imputation Techniques with Pros and Cons",
          "All Imputation Techniques with Pros and Cons",
          "All Imputation Techniques with Pros and Cons",
          "All Imputation Techniques with Pros and Cons",
          "All Imputation Techniques with Pros and Cons",
          "All Imputation Techniques with Pros and Cons",
          "All Imputation Techniques with Pros and Cons",
          "All Imputation Techniques with Pros and Cons",
          "All Imputation Techniques with Pros and Cons",
          "All Imputation Techniques with Pros and Cons",
          "All Imputation Techniques with Pros and Cons",
          "All Imputation Techniques with Pros and Cons",
          "All Imputation Techniques with Pros and Cons",
          "All Imputation Techniques with Pros and Cons",
          "All Imputation Techniques with Pros and Cons",
          "All Imputation Techniques with Pros and Cons",
          "All Imputation Techniques with Pros and Cons",
          "All Imputation Techniques with Pros and Cons",
          "All Imputation Techniques with Pros and Cons",
          "All Imputation Techniques with Pros and Cons",
          "All Imputation Techniques with Pros and Cons",
          "All Imputation Techniques with Pros and Cons",
          "All Imputation Techniques with Pros and Cons",
          "All Imputation Techniques with Pros and Cons",
          "All Imputation Techniques with Pros and Cons",
          "All Imputation Techniques with Pros and Cons",
          "All Imputation Techniques with Pros and Cons",
          "All Imputation Techniques with Pros and Cons",
          "All Imputation Techniques with Pros and Cons",
          "All Imputation Techniques with Pros and Cons",
          "All Imputation Techniques with Pros and Cons",
          "All Imputation Techniques with Pros and Cons",
          "All Imputation Techniques with Pros and Cons",
          "All Imputation Techniques with Pros and Cons",
          "All Imputation Techniques with Pros and Cons"
         ],
         "legendgroup": "GOLD",
         "line": {
          "color": "gold",
          "dash": "solid",
          "shape": "spline"
         },
         "marker": {
          "symbol": "circle"
         },
         "mode": "lines",
         "name": "GOLD",
         "orientation": "v",
         "showlegend": false,
         "type": "scatter",
         "x": [
          "2022-06-12",
          "2022-06-13",
          "2022-06-14",
          "2022-06-15",
          "2022-06-16",
          "2022-06-17",
          "2022-06-18",
          "2022-06-19",
          "2022-06-20",
          "2022-06-21",
          "2022-06-22",
          "2022-06-25",
          "2022-06-26",
          "2022-06-28",
          "2022-06-29",
          "2022-07-01",
          "2022-07-02",
          "2022-07-03",
          "2022-07-04",
          "2022-07-05",
          "2022-07-06",
          "2022-07-07",
          "2022-07-11",
          "2022-07-12",
          "2022-07-14",
          "2022-07-15",
          "2022-07-17",
          "2022-07-18",
          "2022-07-21",
          "2022-07-22",
          "2022-07-23",
          "2022-07-24",
          "2022-07-25",
          "2022-07-26",
          "2022-07-29",
          "2022-07-30",
          "2022-07-31",
          "2022-08-01",
          "2022-08-03",
          "2022-08-05",
          "2022-08-06",
          "2022-08-08",
          "2022-08-10",
          "2022-08-12",
          "2022-08-14",
          "2022-08-16",
          "2022-08-17",
          "2022-08-18",
          "2022-08-19",
          "2022-08-20",
          "2022-08-21",
          "2022-08-22",
          "2022-08-23",
          "2022-08-24",
          "2022-08-25",
          "2022-08-26"
         ],
         "xaxis": "x",
         "y": [
          755,
          804,
          1428,
          1976,
          2132,
          2238,
          2333,
          2409,
          2519,
          2658,
          2739,
          2963,
          3041,
          3238,
          3355,
          3555,
          3608,
          3656,
          3713,
          3827,
          3910,
          3934,
          4229,
          4265,
          4384,
          4433,
          4567,
          4591,
          4767,
          4811,
          4877,
          4925,
          4987,
          5053,
          5195,
          5241,
          5326,
          5379,
          5440,
          5575,
          5629,
          5678,
          5838,
          5921,
          6026,
          6109,
          6146,
          6199,
          6224,
          6252,
          6286,
          6333,
          6370,
          6370,
          6443,
          6462
         ],
         "yaxis": "y"
        },
        {
         "hovertemplate": "<b>%{hovertext}</b><br><br>medal=GOLD<br>title=Mastering Bias-Variance Tradeoff <br>date=%{x}<br>view_count=%{y}<extra></extra>",
         "hovertext": [
          "Mastering Bias-Variance Tradeoff ",
          "Mastering Bias-Variance Tradeoff ",
          "Mastering Bias-Variance Tradeoff ",
          "Mastering Bias-Variance Tradeoff ",
          "Mastering Bias-Variance Tradeoff ",
          "Mastering Bias-Variance Tradeoff ",
          "Mastering Bias-Variance Tradeoff ",
          "Mastering Bias-Variance Tradeoff ",
          "Mastering Bias-Variance Tradeoff ",
          "Mastering Bias-Variance Tradeoff ",
          "Mastering Bias-Variance Tradeoff ",
          "Mastering Bias-Variance Tradeoff ",
          "Mastering Bias-Variance Tradeoff ",
          "Mastering Bias-Variance Tradeoff ",
          "Mastering Bias-Variance Tradeoff ",
          "Mastering Bias-Variance Tradeoff ",
          "Mastering Bias-Variance Tradeoff ",
          "Mastering Bias-Variance Tradeoff ",
          "Mastering Bias-Variance Tradeoff ",
          "Mastering Bias-Variance Tradeoff ",
          "Mastering Bias-Variance Tradeoff ",
          "Mastering Bias-Variance Tradeoff ",
          "Mastering Bias-Variance Tradeoff ",
          "Mastering Bias-Variance Tradeoff ",
          "Mastering Bias-Variance Tradeoff ",
          "Mastering Bias-Variance Tradeoff ",
          "Mastering Bias-Variance Tradeoff ",
          "Mastering Bias-Variance Tradeoff ",
          "Mastering Bias-Variance Tradeoff ",
          "Mastering Bias-Variance Tradeoff ",
          "Mastering Bias-Variance Tradeoff ",
          "Mastering Bias-Variance Tradeoff ",
          "Mastering Bias-Variance Tradeoff ",
          "Mastering Bias-Variance Tradeoff ",
          "Mastering Bias-Variance Tradeoff ",
          "Mastering Bias-Variance Tradeoff ",
          "Mastering Bias-Variance Tradeoff ",
          "Mastering Bias-Variance Tradeoff ",
          "Mastering Bias-Variance Tradeoff ",
          "Mastering Bias-Variance Tradeoff ",
          "Mastering Bias-Variance Tradeoff ",
          "Mastering Bias-Variance Tradeoff ",
          "Mastering Bias-Variance Tradeoff ",
          "Mastering Bias-Variance Tradeoff ",
          "Mastering Bias-Variance Tradeoff ",
          "Mastering Bias-Variance Tradeoff ",
          "Mastering Bias-Variance Tradeoff ",
          "Mastering Bias-Variance Tradeoff ",
          "Mastering Bias-Variance Tradeoff ",
          "Mastering Bias-Variance Tradeoff ",
          "Mastering Bias-Variance Tradeoff ",
          "Mastering Bias-Variance Tradeoff ",
          "Mastering Bias-Variance Tradeoff ",
          "Mastering Bias-Variance Tradeoff ",
          "Mastering Bias-Variance Tradeoff ",
          "Mastering Bias-Variance Tradeoff "
         ],
         "legendgroup": "GOLD",
         "line": {
          "color": "gold",
          "dash": "solid",
          "shape": "spline"
         },
         "marker": {
          "symbol": "circle"
         },
         "mode": "lines",
         "name": "GOLD",
         "orientation": "v",
         "showlegend": false,
         "type": "scatter",
         "x": [
          "2022-06-12",
          "2022-06-13",
          "2022-06-14",
          "2022-06-15",
          "2022-06-16",
          "2022-06-17",
          "2022-06-18",
          "2022-06-19",
          "2022-06-20",
          "2022-06-21",
          "2022-06-22",
          "2022-06-25",
          "2022-06-26",
          "2022-06-28",
          "2022-06-29",
          "2022-07-01",
          "2022-07-02",
          "2022-07-03",
          "2022-07-04",
          "2022-07-05",
          "2022-07-06",
          "2022-07-07",
          "2022-07-11",
          "2022-07-12",
          "2022-07-14",
          "2022-07-15",
          "2022-07-17",
          "2022-07-18",
          "2022-07-21",
          "2022-07-22",
          "2022-07-23",
          "2022-07-24",
          "2022-07-25",
          "2022-07-26",
          "2022-07-29",
          "2022-07-30",
          "2022-07-31",
          "2022-08-01",
          "2022-08-03",
          "2022-08-05",
          "2022-08-06",
          "2022-08-08",
          "2022-08-10",
          "2022-08-12",
          "2022-08-14",
          "2022-08-16",
          "2022-08-17",
          "2022-08-18",
          "2022-08-19",
          "2022-08-20",
          "2022-08-21",
          "2022-08-22",
          "2022-08-23",
          "2022-08-24",
          "2022-08-25",
          "2022-08-26"
         ],
         "xaxis": "x",
         "y": [
          480,
          490,
          498,
          511,
          516,
          526,
          527,
          538,
          545,
          547,
          554,
          562,
          564,
          573,
          576,
          580,
          584,
          585,
          587,
          656,
          738,
          763,
          974,
          1038,
          1248,
          1330,
          1509,
          1547,
          1868,
          1935,
          2040,
          2107,
          2211,
          2303,
          2518,
          2620,
          2761,
          2854,
          2950,
          3120,
          3200,
          3273,
          3461,
          3596,
          3726,
          3814,
          3876,
          3972,
          4031,
          4077,
          4121,
          4184,
          4280,
          4280,
          4384,
          4417
         ],
         "yaxis": "y"
        },
        {
         "hovertemplate": "<b>%{hovertext}</b><br><br>medal=GOLD<br>title=▶️ Lionel Messi 📊 Extended EDA ⚽ Goals <br>date=%{x}<br>view_count=%{y}<extra></extra>",
         "hovertext": [
          "▶️ Lionel Messi 📊 Extended EDA ⚽ Goals ",
          "▶️ Lionel Messi 📊 Extended EDA ⚽ Goals ",
          "▶️ Lionel Messi 📊 Extended EDA ⚽ Goals ",
          "▶️ Lionel Messi 📊 Extended EDA ⚽ Goals ",
          "▶️ Lionel Messi 📊 Extended EDA ⚽ Goals ",
          "▶️ Lionel Messi 📊 Extended EDA ⚽ Goals ",
          "▶️ Lionel Messi 📊 Extended EDA ⚽ Goals ",
          "▶️ Lionel Messi 📊 Extended EDA ⚽ Goals ",
          "▶️ Lionel Messi 📊 Extended EDA ⚽ Goals ",
          "▶️ Lionel Messi 📊 Extended EDA ⚽ Goals ",
          "▶️ Lionel Messi 📊 Extended EDA ⚽ Goals ",
          "▶️ Lionel Messi 📊 Extended EDA ⚽ Goals ",
          "▶️ Lionel Messi 📊 Extended EDA ⚽ Goals ",
          "▶️ Lionel Messi 📊 Extended EDA ⚽ Goals ",
          "▶️ Lionel Messi 📊 Extended EDA ⚽ Goals ",
          "▶️ Lionel Messi 📊 Extended EDA ⚽ Goals ",
          "▶️ Lionel Messi 📊 Extended EDA ⚽ Goals ",
          "▶️ Lionel Messi 📊 Extended EDA ⚽ Goals ",
          "▶️ Lionel Messi 📊 Extended EDA ⚽ Goals ",
          "▶️ Lionel Messi 📊 Extended EDA ⚽ Goals ",
          "▶️ Lionel Messi 📊 Extended EDA ⚽ Goals ",
          "▶️ Lionel Messi 📊 Extended EDA ⚽ Goals ",
          "▶️ Lionel Messi 📊 Extended EDA ⚽ Goals ",
          "▶️ Lionel Messi 📊 Extended EDA ⚽ Goals ",
          "▶️ Lionel Messi 📊 Extended EDA ⚽ Goals ",
          "▶️ Lionel Messi 📊 Extended EDA ⚽ Goals ",
          "▶️ Lionel Messi 📊 Extended EDA ⚽ Goals ",
          "▶️ Lionel Messi 📊 Extended EDA ⚽ Goals ",
          "▶️ Lionel Messi 📊 Extended EDA ⚽ Goals ",
          "▶️ Lionel Messi 📊 Extended EDA ⚽ Goals ",
          "▶️ Lionel Messi 📊 Extended EDA ⚽ Goals ",
          "▶️ Lionel Messi 📊 Extended EDA ⚽ Goals ",
          "▶️ Lionel Messi 📊 Extended EDA ⚽ Goals ",
          "▶️ Lionel Messi 📊 Extended EDA ⚽ Goals ",
          "▶️ Lionel Messi 📊 Extended EDA ⚽ Goals ",
          "▶️ Lionel Messi 📊 Extended EDA ⚽ Goals ",
          "▶️ Lionel Messi 📊 Extended EDA ⚽ Goals ",
          "▶️ Lionel Messi 📊 Extended EDA ⚽ Goals ",
          "▶️ Lionel Messi 📊 Extended EDA ⚽ Goals ",
          "▶️ Lionel Messi 📊 Extended EDA ⚽ Goals ",
          "▶️ Lionel Messi 📊 Extended EDA ⚽ Goals ",
          "▶️ Lionel Messi 📊 Extended EDA ⚽ Goals ",
          "▶️ Lionel Messi 📊 Extended EDA ⚽ Goals ",
          "▶️ Lionel Messi 📊 Extended EDA ⚽ Goals ",
          "▶️ Lionel Messi 📊 Extended EDA ⚽ Goals ",
          "▶️ Lionel Messi 📊 Extended EDA ⚽ Goals ",
          "▶️ Lionel Messi 📊 Extended EDA ⚽ Goals ",
          "▶️ Lionel Messi 📊 Extended EDA ⚽ Goals ",
          "▶️ Lionel Messi 📊 Extended EDA ⚽ Goals ",
          "▶️ Lionel Messi 📊 Extended EDA ⚽ Goals ",
          "▶️ Lionel Messi 📊 Extended EDA ⚽ Goals ",
          "▶️ Lionel Messi 📊 Extended EDA ⚽ Goals ",
          "▶️ Lionel Messi 📊 Extended EDA ⚽ Goals ",
          "▶️ Lionel Messi 📊 Extended EDA ⚽ Goals ",
          "▶️ Lionel Messi 📊 Extended EDA ⚽ Goals ",
          "▶️ Lionel Messi 📊 Extended EDA ⚽ Goals "
         ],
         "legendgroup": "GOLD",
         "line": {
          "color": "gold",
          "dash": "solid",
          "shape": "spline"
         },
         "marker": {
          "symbol": "circle"
         },
         "mode": "lines",
         "name": "GOLD",
         "orientation": "v",
         "showlegend": false,
         "type": "scatter",
         "x": [
          "2022-06-12",
          "2022-06-13",
          "2022-06-14",
          "2022-06-15",
          "2022-06-16",
          "2022-06-17",
          "2022-06-18",
          "2022-06-19",
          "2022-06-20",
          "2022-06-21",
          "2022-06-22",
          "2022-06-25",
          "2022-06-26",
          "2022-06-28",
          "2022-06-29",
          "2022-07-01",
          "2022-07-02",
          "2022-07-03",
          "2022-07-04",
          "2022-07-05",
          "2022-07-06",
          "2022-07-07",
          "2022-07-11",
          "2022-07-12",
          "2022-07-14",
          "2022-07-15",
          "2022-07-17",
          "2022-07-18",
          "2022-07-21",
          "2022-07-22",
          "2022-07-23",
          "2022-07-24",
          "2022-07-25",
          "2022-07-26",
          "2022-07-29",
          "2022-07-30",
          "2022-07-31",
          "2022-08-01",
          "2022-08-03",
          "2022-08-05",
          "2022-08-06",
          "2022-08-08",
          "2022-08-10",
          "2022-08-12",
          "2022-08-14",
          "2022-08-16",
          "2022-08-17",
          "2022-08-18",
          "2022-08-19",
          "2022-08-20",
          "2022-08-21",
          "2022-08-22",
          "2022-08-23",
          "2022-08-24",
          "2022-08-25",
          "2022-08-26"
         ],
         "xaxis": "x",
         "y": [
          1037,
          1059,
          1082,
          1101,
          1146,
          1181,
          1204,
          1214,
          1233,
          1266,
          1298,
          1377,
          1412,
          1452,
          1481,
          1546,
          1569,
          1581,
          1592,
          1642,
          1668,
          1696,
          1800,
          1836,
          1889,
          1912,
          1956,
          1961,
          2014,
          2020,
          2046,
          2065,
          2075,
          2088,
          2126,
          2144,
          2164,
          2194,
          2225,
          2295,
          2316,
          2321,
          2352,
          2384,
          2432,
          2463,
          2479,
          2509,
          2524,
          2550,
          2557,
          2579,
          2597,
          2597,
          2635,
          2648
         ],
         "yaxis": "y"
        },
        {
         "hovertemplate": "<b>%{hovertext}</b><br><br>medal=GOLD<br>title=▶️ Cristiano Ronaldo ⚽ Goals  📊 EDA, Analysis<br>date=%{x}<br>view_count=%{y}<extra></extra>",
         "hovertext": [
          "▶️ Cristiano Ronaldo ⚽ Goals  📊 EDA, Analysis",
          "▶️ Cristiano Ronaldo ⚽ Goals  📊 EDA, Analysis",
          "▶️ Cristiano Ronaldo ⚽ Goals  📊 EDA, Analysis",
          "▶️ Cristiano Ronaldo ⚽ Goals  📊 EDA, Analysis",
          "▶️ Cristiano Ronaldo ⚽ Goals  📊 EDA, Analysis",
          "▶️ Cristiano Ronaldo ⚽ Goals  📊 EDA, Analysis",
          "▶️ Cristiano Ronaldo ⚽ Goals  📊 EDA, Analysis",
          "▶️ Cristiano Ronaldo ⚽ Goals  📊 EDA, Analysis",
          "▶️ Cristiano Ronaldo ⚽ Goals  📊 EDA, Analysis",
          "▶️ Cristiano Ronaldo ⚽ Goals  📊 EDA, Analysis",
          "▶️ Cristiano Ronaldo ⚽ Goals  📊 EDA, Analysis",
          "▶️ Cristiano Ronaldo ⚽ Goals  📊 EDA, Analysis",
          "▶️ Cristiano Ronaldo ⚽ Goals  📊 EDA, Analysis",
          "▶️ Cristiano Ronaldo ⚽ Goals  📊 EDA, Analysis",
          "▶️ Cristiano Ronaldo ⚽ Goals  📊 EDA, Analysis",
          "▶️ Cristiano Ronaldo ⚽ Goals  📊 EDA, Analysis",
          "▶️ Cristiano Ronaldo ⚽ Goals  📊 EDA, Analysis",
          "▶️ Cristiano Ronaldo ⚽ Goals  📊 EDA, Analysis",
          "▶️ Cristiano Ronaldo ⚽ Goals  📊 EDA, Analysis",
          "▶️ Cristiano Ronaldo ⚽ Goals  📊 EDA, Analysis",
          "▶️ Cristiano Ronaldo ⚽ Goals  📊 EDA, Analysis",
          "▶️ Cristiano Ronaldo ⚽ Goals  📊 EDA, Analysis",
          "▶️ Cristiano Ronaldo ⚽ Goals  📊 EDA, Analysis",
          "▶️ Cristiano Ronaldo ⚽ Goals  📊 EDA, Analysis",
          "▶️ Cristiano Ronaldo ⚽ Goals  📊 EDA, Analysis",
          "▶️ Cristiano Ronaldo ⚽ Goals  📊 EDA, Analysis",
          "▶️ Cristiano Ronaldo ⚽ Goals  📊 EDA, Analysis",
          "▶️ Cristiano Ronaldo ⚽ Goals  📊 EDA, Analysis",
          "▶️ Cristiano Ronaldo ⚽ Goals  📊 EDA, Analysis",
          "▶️ Cristiano Ronaldo ⚽ Goals  📊 EDA, Analysis",
          "▶️ Cristiano Ronaldo ⚽ Goals  📊 EDA, Analysis",
          "▶️ Cristiano Ronaldo ⚽ Goals  📊 EDA, Analysis",
          "▶️ Cristiano Ronaldo ⚽ Goals  📊 EDA, Analysis",
          "▶️ Cristiano Ronaldo ⚽ Goals  📊 EDA, Analysis",
          "▶️ Cristiano Ronaldo ⚽ Goals  📊 EDA, Analysis",
          "▶️ Cristiano Ronaldo ⚽ Goals  📊 EDA, Analysis",
          "▶️ Cristiano Ronaldo ⚽ Goals  📊 EDA, Analysis",
          "▶️ Cristiano Ronaldo ⚽ Goals  📊 EDA, Analysis",
          "▶️ Cristiano Ronaldo ⚽ Goals  📊 EDA, Analysis",
          "▶️ Cristiano Ronaldo ⚽ Goals  📊 EDA, Analysis",
          "▶️ Cristiano Ronaldo ⚽ Goals  📊 EDA, Analysis",
          "▶️ Cristiano Ronaldo ⚽ Goals  📊 EDA, Analysis",
          "▶️ Cristiano Ronaldo ⚽ Goals  📊 EDA, Analysis",
          "▶️ Cristiano Ronaldo ⚽ Goals  📊 EDA, Analysis",
          "▶️ Cristiano Ronaldo ⚽ Goals  📊 EDA, Analysis",
          "▶️ Cristiano Ronaldo ⚽ Goals  📊 EDA, Analysis",
          "▶️ Cristiano Ronaldo ⚽ Goals  📊 EDA, Analysis",
          "▶️ Cristiano Ronaldo ⚽ Goals  📊 EDA, Analysis",
          "▶️ Cristiano Ronaldo ⚽ Goals  📊 EDA, Analysis",
          "▶️ Cristiano Ronaldo ⚽ Goals  📊 EDA, Analysis",
          "▶️ Cristiano Ronaldo ⚽ Goals  📊 EDA, Analysis",
          "▶️ Cristiano Ronaldo ⚽ Goals  📊 EDA, Analysis",
          "▶️ Cristiano Ronaldo ⚽ Goals  📊 EDA, Analysis",
          "▶️ Cristiano Ronaldo ⚽ Goals  📊 EDA, Analysis",
          "▶️ Cristiano Ronaldo ⚽ Goals  📊 EDA, Analysis",
          "▶️ Cristiano Ronaldo ⚽ Goals  📊 EDA, Analysis"
         ],
         "legendgroup": "GOLD",
         "line": {
          "color": "gold",
          "dash": "solid",
          "shape": "spline"
         },
         "marker": {
          "symbol": "circle"
         },
         "mode": "lines",
         "name": "GOLD",
         "orientation": "v",
         "showlegend": false,
         "type": "scatter",
         "x": [
          "2022-06-12",
          "2022-06-13",
          "2022-06-14",
          "2022-06-15",
          "2022-06-16",
          "2022-06-17",
          "2022-06-18",
          "2022-06-19",
          "2022-06-20",
          "2022-06-21",
          "2022-06-22",
          "2022-06-25",
          "2022-06-26",
          "2022-06-28",
          "2022-06-29",
          "2022-07-01",
          "2022-07-02",
          "2022-07-03",
          "2022-07-04",
          "2022-07-05",
          "2022-07-06",
          "2022-07-07",
          "2022-07-11",
          "2022-07-12",
          "2022-07-14",
          "2022-07-15",
          "2022-07-17",
          "2022-07-18",
          "2022-07-21",
          "2022-07-22",
          "2022-07-23",
          "2022-07-24",
          "2022-07-25",
          "2022-07-26",
          "2022-07-29",
          "2022-07-30",
          "2022-07-31",
          "2022-08-01",
          "2022-08-03",
          "2022-08-05",
          "2022-08-06",
          "2022-08-08",
          "2022-08-10",
          "2022-08-12",
          "2022-08-14",
          "2022-08-16",
          "2022-08-17",
          "2022-08-18",
          "2022-08-19",
          "2022-08-20",
          "2022-08-21",
          "2022-08-22",
          "2022-08-23",
          "2022-08-24",
          "2022-08-25",
          "2022-08-26"
         ],
         "xaxis": "x",
         "y": [
          1518,
          1551,
          1568,
          1593,
          1610,
          1620,
          1629,
          1633,
          1643,
          1658,
          1675,
          1712,
          1728,
          1744,
          1760,
          1783,
          1785,
          1788,
          1792,
          1800,
          1810,
          1813,
          1856,
          1867,
          1888,
          1891,
          1909,
          1916,
          1981,
          1983,
          1999,
          2013,
          2030,
          2069,
          2102,
          2123,
          2143,
          2183,
          2210,
          2269,
          2291,
          2308,
          2372,
          2407,
          2475,
          2543,
          2566,
          2591,
          2602,
          2611,
          2625,
          2648,
          2670,
          2670,
          2722,
          2736
         ],
         "yaxis": "y"
        },
        {
         "hovertemplate": "<b>%{hovertext}</b><br><br>medal=GOLD<br>title=Investment and Financial Analysis  🏭 EPZ<br>date=%{x}<br>view_count=%{y}<extra></extra>",
         "hovertext": [
          "Investment and Financial Analysis  🏭 EPZ",
          "Investment and Financial Analysis  🏭 EPZ",
          "Investment and Financial Analysis  🏭 EPZ",
          "Investment and Financial Analysis  🏭 EPZ",
          "Investment and Financial Analysis  🏭 EPZ",
          "Investment and Financial Analysis  🏭 EPZ",
          "Investment and Financial Analysis  🏭 EPZ",
          "Investment and Financial Analysis  🏭 EPZ",
          "Investment and Financial Analysis  🏭 EPZ",
          "Investment and Financial Analysis  🏭 EPZ",
          "Investment and Financial Analysis  🏭 EPZ",
          "Investment and Financial Analysis  🏭 EPZ",
          "Investment and Financial Analysis  🏭 EPZ",
          "Investment and Financial Analysis  🏭 EPZ",
          "Investment and Financial Analysis  🏭 EPZ",
          "Investment and Financial Analysis  🏭 EPZ",
          "Investment and Financial Analysis  🏭 EPZ",
          "Investment and Financial Analysis  🏭 EPZ",
          "Investment and Financial Analysis  🏭 EPZ",
          "Investment and Financial Analysis  🏭 EPZ",
          "Investment and Financial Analysis  🏭 EPZ",
          "Investment and Financial Analysis  🏭 EPZ",
          "Investment and Financial Analysis  🏭 EPZ",
          "Investment and Financial Analysis  🏭 EPZ",
          "Investment and Financial Analysis  🏭 EPZ",
          "Investment and Financial Analysis  🏭 EPZ",
          "Investment and Financial Analysis  🏭 EPZ",
          "Investment and Financial Analysis  🏭 EPZ",
          "Investment and Financial Analysis  🏭 EPZ",
          "Investment and Financial Analysis  🏭 EPZ",
          "Investment and Financial Analysis  🏭 EPZ",
          "Investment and Financial Analysis  🏭 EPZ",
          "Investment and Financial Analysis  🏭 EPZ",
          "Investment and Financial Analysis  🏭 EPZ",
          "Investment and Financial Analysis  🏭 EPZ",
          "Investment and Financial Analysis  🏭 EPZ",
          "Investment and Financial Analysis  🏭 EPZ",
          "Investment and Financial Analysis  🏭 EPZ",
          "Investment and Financial Analysis  🏭 EPZ",
          "Investment and Financial Analysis  🏭 EPZ",
          "Investment and Financial Analysis  🏭 EPZ",
          "Investment and Financial Analysis  🏭 EPZ",
          "Investment and Financial Analysis  🏭 EPZ",
          "Investment and Financial Analysis  🏭 EPZ",
          "Investment and Financial Analysis  🏭 EPZ",
          "Investment and Financial Analysis  🏭 EPZ",
          "Investment and Financial Analysis  🏭 EPZ",
          "Investment and Financial Analysis  🏭 EPZ",
          "Investment and Financial Analysis  🏭 EPZ",
          "Investment and Financial Analysis  🏭 EPZ",
          "Investment and Financial Analysis  🏭 EPZ",
          "Investment and Financial Analysis  🏭 EPZ",
          "Investment and Financial Analysis  🏭 EPZ",
          "Investment and Financial Analysis  🏭 EPZ",
          "Investment and Financial Analysis  🏭 EPZ",
          "Investment and Financial Analysis  🏭 EPZ"
         ],
         "legendgroup": "GOLD",
         "line": {
          "color": "gold",
          "dash": "solid",
          "shape": "spline"
         },
         "marker": {
          "symbol": "circle"
         },
         "mode": "lines",
         "name": "GOLD",
         "orientation": "v",
         "showlegend": false,
         "type": "scatter",
         "x": [
          "2022-06-12",
          "2022-06-13",
          "2022-06-14",
          "2022-06-15",
          "2022-06-16",
          "2022-06-17",
          "2022-06-18",
          "2022-06-19",
          "2022-06-20",
          "2022-06-21",
          "2022-06-22",
          "2022-06-25",
          "2022-06-26",
          "2022-06-28",
          "2022-06-29",
          "2022-07-01",
          "2022-07-02",
          "2022-07-03",
          "2022-07-04",
          "2022-07-05",
          "2022-07-06",
          "2022-07-07",
          "2022-07-11",
          "2022-07-12",
          "2022-07-14",
          "2022-07-15",
          "2022-07-17",
          "2022-07-18",
          "2022-07-21",
          "2022-07-22",
          "2022-07-23",
          "2022-07-24",
          "2022-07-25",
          "2022-07-26",
          "2022-07-29",
          "2022-07-30",
          "2022-07-31",
          "2022-08-01",
          "2022-08-03",
          "2022-08-05",
          "2022-08-06",
          "2022-08-08",
          "2022-08-10",
          "2022-08-12",
          "2022-08-14",
          "2022-08-16",
          "2022-08-17",
          "2022-08-18",
          "2022-08-19",
          "2022-08-20",
          "2022-08-21",
          "2022-08-22",
          "2022-08-23",
          "2022-08-24",
          "2022-08-25",
          "2022-08-26"
         ],
         "xaxis": "x",
         "y": [
          604,
          612,
          620,
          623,
          634,
          639,
          639,
          641,
          644,
          647,
          651,
          655,
          655,
          664,
          666,
          675,
          680,
          680,
          682,
          687,
          690,
          690,
          697,
          698,
          703,
          705,
          712,
          718,
          727,
          728,
          734,
          740,
          745,
          747,
          752,
          752,
          753,
          757,
          762,
          773,
          778,
          780,
          785,
          789,
          798,
          822,
          892,
          895,
          900,
          904,
          905,
          906,
          909,
          909,
          919,
          920
         ],
         "yaxis": "y"
        },
        {
         "hovertemplate": "<b>%{hovertext}</b><br><br>medal=GOLD<br>title=ML Foundation ➡️ Cross Validation ✅ All Methods<br>date=%{x}<br>view_count=%{y}<extra></extra>",
         "hovertext": [
          "ML Foundation ➡️ Cross Validation ✅ All Methods",
          "ML Foundation ➡️ Cross Validation ✅ All Methods",
          "ML Foundation ➡️ Cross Validation ✅ All Methods",
          "ML Foundation ➡️ Cross Validation ✅ All Methods",
          "ML Foundation ➡️ Cross Validation ✅ All Methods",
          "ML Foundation ➡️ Cross Validation ✅ All Methods",
          "ML Foundation ➡️ Cross Validation ✅ All Methods",
          "ML Foundation ➡️ Cross Validation ✅ All Methods",
          "ML Foundation ➡️ Cross Validation ✅ All Methods",
          "ML Foundation ➡️ Cross Validation ✅ All Methods",
          "ML Foundation ➡️ Cross Validation ✅ All Methods",
          "ML Foundation ➡️ Cross Validation ✅ All Methods",
          "ML Foundation ➡️ Cross Validation ✅ All Methods",
          "ML Foundation ➡️ Cross Validation ✅ All Methods",
          "ML Foundation ➡️ Cross Validation ✅ All Methods",
          "ML Foundation ➡️ Cross Validation ✅ All Methods",
          "ML Foundation ➡️ Cross Validation ✅ All Methods",
          "ML Foundation ➡️ Cross Validation ✅ All Methods",
          "ML Foundation ➡️ Cross Validation ✅ All Methods",
          "ML Foundation ➡️ Cross Validation ✅ All Methods",
          "ML Foundation ➡️ Cross Validation ✅ All Methods",
          "ML Foundation ➡️ Cross Validation ✅ All Methods",
          "ML Foundation ➡️ Cross Validation ✅ All Methods",
          "ML Foundation ➡️ Cross Validation ✅ All Methods",
          "ML Foundation ➡️ Cross Validation ✅ All Methods",
          "ML Foundation ➡️ Cross Validation ✅ All Methods",
          "ML Foundation ➡️ Cross Validation ✅ All Methods",
          "ML Foundation ➡️ Cross Validation ✅ All Methods",
          "ML Foundation ➡️ Cross Validation ✅ All Methods",
          "ML Foundation ➡️ Cross Validation ✅ All Methods",
          "ML Foundation ➡️ Cross Validation ✅ All Methods",
          "ML Foundation ➡️ Cross Validation ✅ All Methods",
          "ML Foundation ➡️ Cross Validation ✅ All Methods",
          "ML Foundation ➡️ Cross Validation ✅ All Methods",
          "ML Foundation ➡️ Cross Validation ✅ All Methods",
          "ML Foundation ➡️ Cross Validation ✅ All Methods",
          "ML Foundation ➡️ Cross Validation ✅ All Methods",
          "ML Foundation ➡️ Cross Validation ✅ All Methods",
          "ML Foundation ➡️ Cross Validation ✅ All Methods",
          "ML Foundation ➡️ Cross Validation ✅ All Methods",
          "ML Foundation ➡️ Cross Validation ✅ All Methods",
          "ML Foundation ➡️ Cross Validation ✅ All Methods",
          "ML Foundation ➡️ Cross Validation ✅ All Methods",
          "ML Foundation ➡️ Cross Validation ✅ All Methods",
          "ML Foundation ➡️ Cross Validation ✅ All Methods",
          "ML Foundation ➡️ Cross Validation ✅ All Methods",
          "ML Foundation ➡️ Cross Validation ✅ All Methods",
          "ML Foundation ➡️ Cross Validation ✅ All Methods",
          "ML Foundation ➡️ Cross Validation ✅ All Methods",
          "ML Foundation ➡️ Cross Validation ✅ All Methods",
          "ML Foundation ➡️ Cross Validation ✅ All Methods",
          "ML Foundation ➡️ Cross Validation ✅ All Methods",
          "ML Foundation ➡️ Cross Validation ✅ All Methods",
          "ML Foundation ➡️ Cross Validation ✅ All Methods",
          "ML Foundation ➡️ Cross Validation ✅ All Methods",
          "ML Foundation ➡️ Cross Validation ✅ All Methods"
         ],
         "legendgroup": "GOLD",
         "line": {
          "color": "gold",
          "dash": "solid",
          "shape": "spline"
         },
         "marker": {
          "symbol": "circle"
         },
         "mode": "lines",
         "name": "GOLD",
         "orientation": "v",
         "showlegend": false,
         "type": "scatter",
         "x": [
          "2022-06-12",
          "2022-06-13",
          "2022-06-14",
          "2022-06-15",
          "2022-06-16",
          "2022-06-17",
          "2022-06-18",
          "2022-06-19",
          "2022-06-20",
          "2022-06-21",
          "2022-06-22",
          "2022-06-25",
          "2022-06-26",
          "2022-06-28",
          "2022-06-29",
          "2022-07-01",
          "2022-07-02",
          "2022-07-03",
          "2022-07-04",
          "2022-07-05",
          "2022-07-06",
          "2022-07-07",
          "2022-07-11",
          "2022-07-12",
          "2022-07-14",
          "2022-07-15",
          "2022-07-17",
          "2022-07-18",
          "2022-07-21",
          "2022-07-22",
          "2022-07-23",
          "2022-07-24",
          "2022-07-25",
          "2022-07-26",
          "2022-07-29",
          "2022-07-30",
          "2022-07-31",
          "2022-08-01",
          "2022-08-03",
          "2022-08-05",
          "2022-08-06",
          "2022-08-08",
          "2022-08-10",
          "2022-08-12",
          "2022-08-14",
          "2022-08-16",
          "2022-08-17",
          "2022-08-18",
          "2022-08-19",
          "2022-08-20",
          "2022-08-21",
          "2022-08-22",
          "2022-08-23",
          "2022-08-24",
          "2022-08-25",
          "2022-08-26"
         ],
         "xaxis": "x",
         "y": [
          596,
          605,
          631,
          671,
          698,
          716,
          737,
          758,
          815,
          871,
          888,
          932,
          944,
          980,
          1022,
          1063,
          1086,
          1116,
          1155,
          1212,
          1256,
          1267,
          1372,
          1391,
          1431,
          1445,
          1480,
          1487,
          1535,
          1542,
          1566,
          1573,
          1591,
          1606,
          1637,
          1653,
          1674,
          1687,
          1706,
          1743,
          1760,
          1768,
          1788,
          1809,
          1853,
          1882,
          1891,
          1905,
          1915,
          1921,
          1928,
          1938,
          1947,
          1947,
          1968,
          1979
         ],
         "yaxis": "y"
        },
        {
         "hovertemplate": "<b>%{hovertext}</b><br><br>medal=GOLD<br>title=Different Clustering Techniques and Algorithms<br>date=%{x}<br>view_count=%{y}<extra></extra>",
         "hovertext": [
          "Different Clustering Techniques and Algorithms",
          "Different Clustering Techniques and Algorithms",
          "Different Clustering Techniques and Algorithms",
          "Different Clustering Techniques and Algorithms",
          "Different Clustering Techniques and Algorithms",
          "Different Clustering Techniques and Algorithms",
          "Different Clustering Techniques and Algorithms",
          "Different Clustering Techniques and Algorithms",
          "Different Clustering Techniques and Algorithms",
          "Different Clustering Techniques and Algorithms",
          "Different Clustering Techniques and Algorithms",
          "Different Clustering Techniques and Algorithms",
          "Different Clustering Techniques and Algorithms",
          "Different Clustering Techniques and Algorithms",
          "Different Clustering Techniques and Algorithms",
          "Different Clustering Techniques and Algorithms",
          "Different Clustering Techniques and Algorithms",
          "Different Clustering Techniques and Algorithms",
          "Different Clustering Techniques and Algorithms",
          "Different Clustering Techniques and Algorithms",
          "Different Clustering Techniques and Algorithms",
          "Different Clustering Techniques and Algorithms",
          "Different Clustering Techniques and Algorithms",
          "Different Clustering Techniques and Algorithms",
          "Different Clustering Techniques and Algorithms",
          "Different Clustering Techniques and Algorithms",
          "Different Clustering Techniques and Algorithms",
          "Different Clustering Techniques and Algorithms",
          "Different Clustering Techniques and Algorithms",
          "Different Clustering Techniques and Algorithms",
          "Different Clustering Techniques and Algorithms",
          "Different Clustering Techniques and Algorithms",
          "Different Clustering Techniques and Algorithms",
          "Different Clustering Techniques and Algorithms",
          "Different Clustering Techniques and Algorithms",
          "Different Clustering Techniques and Algorithms",
          "Different Clustering Techniques and Algorithms",
          "Different Clustering Techniques and Algorithms",
          "Different Clustering Techniques and Algorithms",
          "Different Clustering Techniques and Algorithms",
          "Different Clustering Techniques and Algorithms"
         ],
         "legendgroup": "GOLD",
         "line": {
          "color": "gold",
          "dash": "solid",
          "shape": "spline"
         },
         "marker": {
          "symbol": "circle"
         },
         "mode": "lines",
         "name": "GOLD",
         "orientation": "v",
         "showlegend": false,
         "type": "scatter",
         "x": [
          "2022-07-01",
          "2022-07-02",
          "2022-07-03",
          "2022-07-04",
          "2022-07-05",
          "2022-07-06",
          "2022-07-07",
          "2022-07-11",
          "2022-07-12",
          "2022-07-14",
          "2022-07-15",
          "2022-07-17",
          "2022-07-18",
          "2022-07-21",
          "2022-07-22",
          "2022-07-23",
          "2022-07-24",
          "2022-07-25",
          "2022-07-26",
          "2022-07-29",
          "2022-07-30",
          "2022-07-31",
          "2022-08-01",
          "2022-08-03",
          "2022-08-05",
          "2022-08-06",
          "2022-08-08",
          "2022-08-10",
          "2022-08-12",
          "2022-08-14",
          "2022-08-16",
          "2022-08-17",
          "2022-08-18",
          "2022-08-19",
          "2022-08-20",
          "2022-08-21",
          "2022-08-22",
          "2022-08-23",
          "2022-08-24",
          "2022-08-25",
          "2022-08-26"
         ],
         "xaxis": "x",
         "y": [
          40,
          414,
          521,
          585,
          677,
          757,
          778,
          1022,
          1074,
          1193,
          1244,
          1380,
          1409,
          1661,
          1691,
          1802,
          1863,
          1947,
          1998,
          2153,
          2203,
          2259,
          2291,
          2321,
          2367,
          2386,
          2405,
          2467,
          2508,
          2558,
          2604,
          2616,
          2644,
          2654,
          2676,
          2694,
          2712,
          2736,
          2736,
          2781,
          2790
         ],
         "yaxis": "y"
        },
        {
         "hovertemplate": "<b>%{hovertext}</b><br><br>medal=GOLD<br>title=Classification ➡️ Comparing Different Algorithms<br>date=%{x}<br>view_count=%{y}<extra></extra>",
         "hovertext": [
          "Classification ➡️ Comparing Different Algorithms",
          "Classification ➡️ Comparing Different Algorithms",
          "Classification ➡️ Comparing Different Algorithms",
          "Classification ➡️ Comparing Different Algorithms",
          "Classification ➡️ Comparing Different Algorithms",
          "Classification ➡️ Comparing Different Algorithms",
          "Classification ➡️ Comparing Different Algorithms",
          "Classification ➡️ Comparing Different Algorithms",
          "Classification ➡️ Comparing Different Algorithms",
          "Classification ➡️ Comparing Different Algorithms",
          "Classification ➡️ Comparing Different Algorithms",
          "Classification ➡️ Comparing Different Algorithms",
          "Classification ➡️ Comparing Different Algorithms",
          "Classification ➡️ Comparing Different Algorithms",
          "Classification ➡️ Comparing Different Algorithms",
          "Classification ➡️ Comparing Different Algorithms",
          "Classification ➡️ Comparing Different Algorithms",
          "Classification ➡️ Comparing Different Algorithms",
          "Classification ➡️ Comparing Different Algorithms"
         ],
         "legendgroup": "GOLD",
         "line": {
          "color": "gold",
          "dash": "solid",
          "shape": "spline"
         },
         "marker": {
          "symbol": "circle"
         },
         "mode": "lines",
         "name": "GOLD",
         "orientation": "v",
         "showlegend": false,
         "type": "scatter",
         "x": [
          "2022-08-01",
          "2022-08-03",
          "2022-08-05",
          "2022-08-06",
          "2022-08-08",
          "2022-08-10",
          "2022-08-12",
          "2022-08-14",
          "2022-08-16",
          "2022-08-17",
          "2022-08-18",
          "2022-08-19",
          "2022-08-20",
          "2022-08-21",
          "2022-08-22",
          "2022-08-23",
          "2022-08-24",
          "2022-08-25",
          "2022-08-26"
         ],
         "xaxis": "x",
         "y": [
          79,
          168,
          331,
          462,
          479,
          743,
          992,
          1278,
          1416,
          1452,
          1532,
          1544,
          1562,
          1590,
          1609,
          1638,
          1638,
          1689,
          1701
         ],
         "yaxis": "y"
        },
        {
         "hovertemplate": "<b>%{hovertext}</b><br><br>medal=GOLD<br>title=XGBoost | Wrangling with Hyperparameters | Guide<br>date=%{x}<br>view_count=%{y}<extra></extra>",
         "hovertext": [
          "XGBoost | Wrangling with Hyperparameters | Guide",
          "XGBoost | Wrangling with Hyperparameters | Guide",
          "XGBoost | Wrangling with Hyperparameters | Guide",
          "XGBoost | Wrangling with Hyperparameters | Guide",
          "XGBoost | Wrangling with Hyperparameters | Guide",
          "XGBoost | Wrangling with Hyperparameters | Guide",
          "XGBoost | Wrangling with Hyperparameters | Guide",
          "XGBoost | Wrangling with Hyperparameters | Guide",
          "XGBoost | Wrangling with Hyperparameters | Guide",
          "XGBoost | Wrangling with Hyperparameters | Guide"
         ],
         "legendgroup": "GOLD",
         "line": {
          "color": "gold",
          "dash": "solid",
          "shape": "spline"
         },
         "marker": {
          "symbol": "circle"
         },
         "mode": "lines",
         "name": "GOLD",
         "orientation": "v",
         "showlegend": false,
         "type": "scatter",
         "x": [
          "2022-08-17",
          "2022-08-18",
          "2022-08-19",
          "2022-08-20",
          "2022-08-21",
          "2022-08-22",
          "2022-08-23",
          "2022-08-24",
          "2022-08-25",
          "2022-08-26"
         ],
         "xaxis": "x",
         "y": [
          10,
          231,
          1189,
          2471,
          2706,
          2853,
          3382,
          3382,
          3649,
          3706
         ],
         "yaxis": "y"
        },
        {
         "hovertemplate": "<b>%{hovertext}</b><br><br>medal=SILVER<br>title=Coursera 📉 EDA, Reviews Sentiment Analysis<br>date=%{x}<br>view_count=%{y}<extra></extra>",
         "hovertext": [
          "Coursera 📉 EDA, Reviews Sentiment Analysis",
          "Coursera 📉 EDA, Reviews Sentiment Analysis",
          "Coursera 📉 EDA, Reviews Sentiment Analysis",
          "Coursera 📉 EDA, Reviews Sentiment Analysis",
          "Coursera 📉 EDA, Reviews Sentiment Analysis",
          "Coursera 📉 EDA, Reviews Sentiment Analysis",
          "Coursera 📉 EDA, Reviews Sentiment Analysis",
          "Coursera 📉 EDA, Reviews Sentiment Analysis",
          "Coursera 📉 EDA, Reviews Sentiment Analysis",
          "Coursera 📉 EDA, Reviews Sentiment Analysis",
          "Coursera 📉 EDA, Reviews Sentiment Analysis",
          "Coursera 📉 EDA, Reviews Sentiment Analysis",
          "Coursera 📉 EDA, Reviews Sentiment Analysis",
          "Coursera 📉 EDA, Reviews Sentiment Analysis",
          "Coursera 📉 EDA, Reviews Sentiment Analysis",
          "Coursera 📉 EDA, Reviews Sentiment Analysis",
          "Coursera 📉 EDA, Reviews Sentiment Analysis",
          "Coursera 📉 EDA, Reviews Sentiment Analysis",
          "Coursera 📉 EDA, Reviews Sentiment Analysis",
          "Coursera 📉 EDA, Reviews Sentiment Analysis",
          "Coursera 📉 EDA, Reviews Sentiment Analysis",
          "Coursera 📉 EDA, Reviews Sentiment Analysis",
          "Coursera 📉 EDA, Reviews Sentiment Analysis",
          "Coursera 📉 EDA, Reviews Sentiment Analysis",
          "Coursera 📉 EDA, Reviews Sentiment Analysis",
          "Coursera 📉 EDA, Reviews Sentiment Analysis",
          "Coursera 📉 EDA, Reviews Sentiment Analysis",
          "Coursera 📉 EDA, Reviews Sentiment Analysis",
          "Coursera 📉 EDA, Reviews Sentiment Analysis",
          "Coursera 📉 EDA, Reviews Sentiment Analysis",
          "Coursera 📉 EDA, Reviews Sentiment Analysis",
          "Coursera 📉 EDA, Reviews Sentiment Analysis",
          "Coursera 📉 EDA, Reviews Sentiment Analysis",
          "Coursera 📉 EDA, Reviews Sentiment Analysis",
          "Coursera 📉 EDA, Reviews Sentiment Analysis",
          "Coursera 📉 EDA, Reviews Sentiment Analysis",
          "Coursera 📉 EDA, Reviews Sentiment Analysis",
          "Coursera 📉 EDA, Reviews Sentiment Analysis",
          "Coursera 📉 EDA, Reviews Sentiment Analysis",
          "Coursera 📉 EDA, Reviews Sentiment Analysis",
          "Coursera 📉 EDA, Reviews Sentiment Analysis",
          "Coursera 📉 EDA, Reviews Sentiment Analysis",
          "Coursera 📉 EDA, Reviews Sentiment Analysis",
          "Coursera 📉 EDA, Reviews Sentiment Analysis",
          "Coursera 📉 EDA, Reviews Sentiment Analysis",
          "Coursera 📉 EDA, Reviews Sentiment Analysis",
          "Coursera 📉 EDA, Reviews Sentiment Analysis",
          "Coursera 📉 EDA, Reviews Sentiment Analysis",
          "Coursera 📉 EDA, Reviews Sentiment Analysis",
          "Coursera 📉 EDA, Reviews Sentiment Analysis",
          "Coursera 📉 EDA, Reviews Sentiment Analysis",
          "Coursera 📉 EDA, Reviews Sentiment Analysis",
          "Coursera 📉 EDA, Reviews Sentiment Analysis",
          "Coursera 📉 EDA, Reviews Sentiment Analysis",
          "Coursera 📉 EDA, Reviews Sentiment Analysis",
          "Coursera 📉 EDA, Reviews Sentiment Analysis"
         ],
         "legendgroup": "SILVER",
         "line": {
          "color": "silver",
          "dash": "solid",
          "shape": "spline"
         },
         "marker": {
          "symbol": "circle"
         },
         "mode": "lines",
         "name": "SILVER",
         "orientation": "v",
         "showlegend": true,
         "type": "scatter",
         "x": [
          "2022-06-12",
          "2022-06-13",
          "2022-06-14",
          "2022-06-15",
          "2022-06-16",
          "2022-06-17",
          "2022-06-18",
          "2022-06-19",
          "2022-06-20",
          "2022-06-21",
          "2022-06-22",
          "2022-06-25",
          "2022-06-26",
          "2022-06-28",
          "2022-06-29",
          "2022-07-01",
          "2022-07-02",
          "2022-07-03",
          "2022-07-04",
          "2022-07-05",
          "2022-07-06",
          "2022-07-07",
          "2022-07-11",
          "2022-07-12",
          "2022-07-14",
          "2022-07-15",
          "2022-07-17",
          "2022-07-18",
          "2022-07-21",
          "2022-07-22",
          "2022-07-23",
          "2022-07-24",
          "2022-07-25",
          "2022-07-26",
          "2022-07-29",
          "2022-07-30",
          "2022-07-31",
          "2022-08-01",
          "2022-08-03",
          "2022-08-05",
          "2022-08-06",
          "2022-08-08",
          "2022-08-10",
          "2022-08-12",
          "2022-08-14",
          "2022-08-16",
          "2022-08-17",
          "2022-08-18",
          "2022-08-19",
          "2022-08-20",
          "2022-08-21",
          "2022-08-22",
          "2022-08-23",
          "2022-08-24",
          "2022-08-25",
          "2022-08-26"
         ],
         "xaxis": "x",
         "y": [
          424,
          428,
          438,
          444,
          454,
          458,
          461,
          461,
          466,
          471,
          482,
          500,
          509,
          514,
          524,
          534,
          535,
          535,
          540,
          544,
          544,
          544,
          552,
          554,
          559,
          566,
          567,
          568,
          580,
          581,
          586,
          592,
          597,
          602,
          619,
          627,
          639,
          651,
          663,
          667,
          672,
          683,
          704,
          724,
          747,
          766,
          783,
          800,
          811,
          819,
          828,
          832,
          845,
          845,
          889,
          900
         ],
         "yaxis": "y"
        },
        {
         "hovertemplate": "<b>%{hovertext}</b><br><br>medal=SILVER<br>title=Daily AQI - Air Quality Index [Scheduled]<br>date=%{x}<br>view_count=%{y}<extra></extra>",
         "hovertext": [
          "Daily AQI - Air Quality Index [Scheduled]",
          "Daily AQI - Air Quality Index [Scheduled]",
          "Daily AQI - Air Quality Index [Scheduled]",
          "Daily AQI - Air Quality Index [Scheduled]",
          "Daily AQI - Air Quality Index [Scheduled]",
          "Daily AQI - Air Quality Index [Scheduled]",
          "Daily AQI - Air Quality Index [Scheduled]",
          "Daily AQI - Air Quality Index [Scheduled]",
          "Daily AQI - Air Quality Index [Scheduled]",
          "Daily AQI - Air Quality Index [Scheduled]",
          "Daily AQI - Air Quality Index [Scheduled]",
          "Daily AQI - Air Quality Index [Scheduled]",
          "Daily AQI - Air Quality Index [Scheduled]",
          "Daily AQI - Air Quality Index [Scheduled]",
          "Daily AQI - Air Quality Index [Scheduled]",
          "Daily AQI - Air Quality Index [Scheduled]",
          "Daily AQI - Air Quality Index [Scheduled]",
          "Daily AQI - Air Quality Index [Scheduled]",
          "Daily AQI - Air Quality Index [Scheduled]",
          "Daily AQI - Air Quality Index [Scheduled]",
          "Daily AQI - Air Quality Index [Scheduled]",
          "Daily AQI - Air Quality Index [Scheduled]",
          "Daily AQI - Air Quality Index [Scheduled]",
          "Daily AQI - Air Quality Index [Scheduled]",
          "Daily AQI - Air Quality Index [Scheduled]",
          "Daily AQI - Air Quality Index [Scheduled]",
          "Daily AQI - Air Quality Index [Scheduled]",
          "Daily AQI - Air Quality Index [Scheduled]"
         ],
         "legendgroup": "SILVER",
         "line": {
          "color": "silver",
          "dash": "solid",
          "shape": "spline"
         },
         "marker": {
          "symbol": "circle"
         },
         "mode": "lines",
         "name": "SILVER",
         "orientation": "v",
         "showlegend": false,
         "type": "scatter",
         "x": [
          "2022-07-21",
          "2022-07-22",
          "2022-07-23",
          "2022-07-24",
          "2022-07-25",
          "2022-07-26",
          "2022-07-29",
          "2022-07-30",
          "2022-07-31",
          "2022-08-01",
          "2022-08-03",
          "2022-08-05",
          "2022-08-06",
          "2022-08-08",
          "2022-08-10",
          "2022-08-12",
          "2022-08-14",
          "2022-08-16",
          "2022-08-17",
          "2022-08-18",
          "2022-08-19",
          "2022-08-20",
          "2022-08-21",
          "2022-08-22",
          "2022-08-23",
          "2022-08-24",
          "2022-08-25",
          "2022-08-26"
         ],
         "xaxis": "x",
         "y": [
          43,
          111,
          175,
          193,
          217,
          235,
          309,
          324,
          361,
          423,
          460,
          539,
          554,
          574,
          608,
          646,
          698,
          725,
          742,
          757,
          767,
          780,
          792,
          800,
          831,
          831,
          869,
          876
         ],
         "yaxis": "y"
        },
        {
         "hovertemplate": "<b>%{hovertext}</b><br><br>medal=SILVER<br>title=House Price Prediction with Stacking & Ensembling<br>date=%{x}<br>view_count=%{y}<extra></extra>",
         "hovertext": [
          "House Price Prediction with Stacking & Ensembling",
          "House Price Prediction with Stacking & Ensembling",
          "House Price Prediction with Stacking & Ensembling",
          "House Price Prediction with Stacking & Ensembling",
          "House Price Prediction with Stacking & Ensembling",
          "House Price Prediction with Stacking & Ensembling",
          "House Price Prediction with Stacking & Ensembling",
          "House Price Prediction with Stacking & Ensembling",
          "House Price Prediction with Stacking & Ensembling",
          "House Price Prediction with Stacking & Ensembling"
         ],
         "legendgroup": "SILVER",
         "line": {
          "color": "silver",
          "dash": "solid",
          "shape": "spline"
         },
         "marker": {
          "symbol": "circle"
         },
         "mode": "lines",
         "name": "SILVER",
         "orientation": "v",
         "showlegend": false,
         "type": "scatter",
         "x": [
          "2022-08-17",
          "2022-08-18",
          "2022-08-19",
          "2022-08-20",
          "2022-08-21",
          "2022-08-22",
          "2022-08-23",
          "2022-08-24",
          "2022-08-25",
          "2022-08-26"
         ],
         "xaxis": "x",
         "y": [
          55,
          124,
          170,
          187,
          197,
          232,
          309,
          309,
          485,
          542
         ],
         "yaxis": "y"
        },
        {
         "marker": {
          "color": "gold",
          "size": 5
         },
         "mode": "markers+text",
         "text": "[2318]",
         "textposition": "middle right",
         "type": "scatter",
         "x": [
          "2022-08-26"
         ],
         "y": [
          2318
         ]
        },
        {
         "marker": {
          "color": "gold",
          "size": 5
         },
         "mode": "markers+text",
         "text": "[1720]",
         "textposition": "middle right",
         "type": "scatter",
         "x": [
          "2022-08-26"
         ],
         "y": [
          1720
         ]
        },
        {
         "marker": {
          "color": "gold",
          "size": 5
         },
         "mode": "markers+text",
         "text": "[2873]",
         "textposition": "middle right",
         "type": "scatter",
         "x": [
          "2022-08-26"
         ],
         "y": [
          2873
         ]
        },
        {
         "marker": {
          "color": "gold",
          "size": 5
         },
         "mode": "markers+text",
         "text": "[6462]",
         "textposition": "middle right",
         "type": "scatter",
         "x": [
          "2022-08-26"
         ],
         "y": [
          6462
         ]
        },
        {
         "marker": {
          "color": "gold",
          "size": 5
         },
         "mode": "markers+text",
         "text": "[4417]",
         "textposition": "middle right",
         "type": "scatter",
         "x": [
          "2022-08-26"
         ],
         "y": [
          4417
         ]
        },
        {
         "marker": {
          "color": "gold",
          "size": 5
         },
         "mode": "markers+text",
         "text": "[2648]",
         "textposition": "middle right",
         "type": "scatter",
         "x": [
          "2022-08-26"
         ],
         "y": [
          2648
         ]
        },
        {
         "marker": {
          "color": "gold",
          "size": 5
         },
         "mode": "markers+text",
         "text": "[2736]",
         "textposition": "middle right",
         "type": "scatter",
         "x": [
          "2022-08-26"
         ],
         "y": [
          2736
         ]
        },
        {
         "marker": {
          "color": "gold",
          "size": 5
         },
         "mode": "markers+text",
         "text": "[920]",
         "textposition": "middle right",
         "type": "scatter",
         "x": [
          "2022-08-26"
         ],
         "y": [
          920
         ]
        },
        {
         "marker": {
          "color": "gold",
          "size": 5
         },
         "mode": "markers+text",
         "text": "[1979]",
         "textposition": "middle right",
         "type": "scatter",
         "x": [
          "2022-08-26"
         ],
         "y": [
          1979
         ]
        },
        {
         "marker": {
          "color": "gold",
          "size": 5
         },
         "mode": "markers+text",
         "text": "[2790]",
         "textposition": "middle right",
         "type": "scatter",
         "x": [
          "2022-08-26"
         ],
         "y": [
          2790
         ]
        },
        {
         "marker": {
          "color": "gold",
          "size": 5
         },
         "mode": "markers+text",
         "text": "[1701]",
         "textposition": "middle right",
         "type": "scatter",
         "x": [
          "2022-08-26"
         ],
         "y": [
          1701
         ]
        },
        {
         "marker": {
          "color": "gold",
          "size": 5
         },
         "mode": "markers+text",
         "text": "[3706]",
         "textposition": "middle right",
         "type": "scatter",
         "x": [
          "2022-08-26"
         ],
         "y": [
          3706
         ]
        },
        {
         "marker": {
          "color": "silver",
          "size": 5
         },
         "mode": "markers+text",
         "text": "[900]",
         "textposition": "middle right",
         "type": "scatter",
         "x": [
          "2022-08-26"
         ],
         "y": [
          900
         ]
        },
        {
         "marker": {
          "color": "silver",
          "size": 5
         },
         "mode": "markers+text",
         "text": "[876]",
         "textposition": "middle right",
         "type": "scatter",
         "x": [
          "2022-08-26"
         ],
         "y": [
          876
         ]
        },
        {
         "marker": {
          "color": "silver",
          "size": 5
         },
         "mode": "markers+text",
         "text": "[542]",
         "textposition": "middle right",
         "type": "scatter",
         "x": [
          "2022-08-26"
         ],
         "y": [
          542
         ]
        }
       ],
       "layout": {
        "height": 800,
        "legend": {
         "title": {
          "text": "medal"
         },
         "tracegroupgap": 0
        },
        "showlegend": false,
        "template": {
         "data": {
          "bar": [
           {
            "error_x": {
             "color": "#f2f5fa"
            },
            "error_y": {
             "color": "#f2f5fa"
            },
            "marker": {
             "line": {
              "color": "rgb(17,17,17)",
              "width": 0.5
             },
             "pattern": {
              "fillmode": "overlay",
              "size": 10,
              "solidity": 0.2
             }
            },
            "type": "bar"
           }
          ],
          "barpolar": [
           {
            "marker": {
             "line": {
              "color": "rgb(17,17,17)",
              "width": 0.5
             },
             "pattern": {
              "fillmode": "overlay",
              "size": 10,
              "solidity": 0.2
             }
            },
            "type": "barpolar"
           }
          ],
          "carpet": [
           {
            "aaxis": {
             "endlinecolor": "#A2B1C6",
             "gridcolor": "#506784",
             "linecolor": "#506784",
             "minorgridcolor": "#506784",
             "startlinecolor": "#A2B1C6"
            },
            "baxis": {
             "endlinecolor": "#A2B1C6",
             "gridcolor": "#506784",
             "linecolor": "#506784",
             "minorgridcolor": "#506784",
             "startlinecolor": "#A2B1C6"
            },
            "type": "carpet"
           }
          ],
          "choropleth": [
           {
            "colorbar": {
             "outlinewidth": 0,
             "ticks": ""
            },
            "type": "choropleth"
           }
          ],
          "contour": [
           {
            "colorbar": {
             "outlinewidth": 0,
             "ticks": ""
            },
            "colorscale": [
             [
              0,
              "#0d0887"
             ],
             [
              0.1111111111111111,
              "#46039f"
             ],
             [
              0.2222222222222222,
              "#7201a8"
             ],
             [
              0.3333333333333333,
              "#9c179e"
             ],
             [
              0.4444444444444444,
              "#bd3786"
             ],
             [
              0.5555555555555556,
              "#d8576b"
             ],
             [
              0.6666666666666666,
              "#ed7953"
             ],
             [
              0.7777777777777778,
              "#fb9f3a"
             ],
             [
              0.8888888888888888,
              "#fdca26"
             ],
             [
              1,
              "#f0f921"
             ]
            ],
            "type": "contour"
           }
          ],
          "contourcarpet": [
           {
            "colorbar": {
             "outlinewidth": 0,
             "ticks": ""
            },
            "type": "contourcarpet"
           }
          ],
          "heatmap": [
           {
            "colorbar": {
             "outlinewidth": 0,
             "ticks": ""
            },
            "colorscale": [
             [
              0,
              "#0d0887"
             ],
             [
              0.1111111111111111,
              "#46039f"
             ],
             [
              0.2222222222222222,
              "#7201a8"
             ],
             [
              0.3333333333333333,
              "#9c179e"
             ],
             [
              0.4444444444444444,
              "#bd3786"
             ],
             [
              0.5555555555555556,
              "#d8576b"
             ],
             [
              0.6666666666666666,
              "#ed7953"
             ],
             [
              0.7777777777777778,
              "#fb9f3a"
             ],
             [
              0.8888888888888888,
              "#fdca26"
             ],
             [
              1,
              "#f0f921"
             ]
            ],
            "type": "heatmap"
           }
          ],
          "heatmapgl": [
           {
            "colorbar": {
             "outlinewidth": 0,
             "ticks": ""
            },
            "colorscale": [
             [
              0,
              "#0d0887"
             ],
             [
              0.1111111111111111,
              "#46039f"
             ],
             [
              0.2222222222222222,
              "#7201a8"
             ],
             [
              0.3333333333333333,
              "#9c179e"
             ],
             [
              0.4444444444444444,
              "#bd3786"
             ],
             [
              0.5555555555555556,
              "#d8576b"
             ],
             [
              0.6666666666666666,
              "#ed7953"
             ],
             [
              0.7777777777777778,
              "#fb9f3a"
             ],
             [
              0.8888888888888888,
              "#fdca26"
             ],
             [
              1,
              "#f0f921"
             ]
            ],
            "type": "heatmapgl"
           }
          ],
          "histogram": [
           {
            "marker": {
             "pattern": {
              "fillmode": "overlay",
              "size": 10,
              "solidity": 0.2
             }
            },
            "type": "histogram"
           }
          ],
          "histogram2d": [
           {
            "colorbar": {
             "outlinewidth": 0,
             "ticks": ""
            },
            "colorscale": [
             [
              0,
              "#0d0887"
             ],
             [
              0.1111111111111111,
              "#46039f"
             ],
             [
              0.2222222222222222,
              "#7201a8"
             ],
             [
              0.3333333333333333,
              "#9c179e"
             ],
             [
              0.4444444444444444,
              "#bd3786"
             ],
             [
              0.5555555555555556,
              "#d8576b"
             ],
             [
              0.6666666666666666,
              "#ed7953"
             ],
             [
              0.7777777777777778,
              "#fb9f3a"
             ],
             [
              0.8888888888888888,
              "#fdca26"
             ],
             [
              1,
              "#f0f921"
             ]
            ],
            "type": "histogram2d"
           }
          ],
          "histogram2dcontour": [
           {
            "colorbar": {
             "outlinewidth": 0,
             "ticks": ""
            },
            "colorscale": [
             [
              0,
              "#0d0887"
             ],
             [
              0.1111111111111111,
              "#46039f"
             ],
             [
              0.2222222222222222,
              "#7201a8"
             ],
             [
              0.3333333333333333,
              "#9c179e"
             ],
             [
              0.4444444444444444,
              "#bd3786"
             ],
             [
              0.5555555555555556,
              "#d8576b"
             ],
             [
              0.6666666666666666,
              "#ed7953"
             ],
             [
              0.7777777777777778,
              "#fb9f3a"
             ],
             [
              0.8888888888888888,
              "#fdca26"
             ],
             [
              1,
              "#f0f921"
             ]
            ],
            "type": "histogram2dcontour"
           }
          ],
          "mesh3d": [
           {
            "colorbar": {
             "outlinewidth": 0,
             "ticks": ""
            },
            "type": "mesh3d"
           }
          ],
          "parcoords": [
           {
            "line": {
             "colorbar": {
              "outlinewidth": 0,
              "ticks": ""
             }
            },
            "type": "parcoords"
           }
          ],
          "pie": [
           {
            "automargin": true,
            "type": "pie"
           }
          ],
          "scatter": [
           {
            "marker": {
             "line": {
              "color": "#283442"
             }
            },
            "type": "scatter"
           }
          ],
          "scatter3d": [
           {
            "line": {
             "colorbar": {
              "outlinewidth": 0,
              "ticks": ""
             }
            },
            "marker": {
             "colorbar": {
              "outlinewidth": 0,
              "ticks": ""
             }
            },
            "type": "scatter3d"
           }
          ],
          "scattercarpet": [
           {
            "marker": {
             "colorbar": {
              "outlinewidth": 0,
              "ticks": ""
             }
            },
            "type": "scattercarpet"
           }
          ],
          "scattergeo": [
           {
            "marker": {
             "colorbar": {
              "outlinewidth": 0,
              "ticks": ""
             }
            },
            "type": "scattergeo"
           }
          ],
          "scattergl": [
           {
            "marker": {
             "line": {
              "color": "#283442"
             }
            },
            "type": "scattergl"
           }
          ],
          "scattermapbox": [
           {
            "marker": {
             "colorbar": {
              "outlinewidth": 0,
              "ticks": ""
             }
            },
            "type": "scattermapbox"
           }
          ],
          "scatterpolar": [
           {
            "marker": {
             "colorbar": {
              "outlinewidth": 0,
              "ticks": ""
             }
            },
            "type": "scatterpolar"
           }
          ],
          "scatterpolargl": [
           {
            "marker": {
             "colorbar": {
              "outlinewidth": 0,
              "ticks": ""
             }
            },
            "type": "scatterpolargl"
           }
          ],
          "scatterternary": [
           {
            "marker": {
             "colorbar": {
              "outlinewidth": 0,
              "ticks": ""
             }
            },
            "type": "scatterternary"
           }
          ],
          "surface": [
           {
            "colorbar": {
             "outlinewidth": 0,
             "ticks": ""
            },
            "colorscale": [
             [
              0,
              "#0d0887"
             ],
             [
              0.1111111111111111,
              "#46039f"
             ],
             [
              0.2222222222222222,
              "#7201a8"
             ],
             [
              0.3333333333333333,
              "#9c179e"
             ],
             [
              0.4444444444444444,
              "#bd3786"
             ],
             [
              0.5555555555555556,
              "#d8576b"
             ],
             [
              0.6666666666666666,
              "#ed7953"
             ],
             [
              0.7777777777777778,
              "#fb9f3a"
             ],
             [
              0.8888888888888888,
              "#fdca26"
             ],
             [
              1,
              "#f0f921"
             ]
            ],
            "type": "surface"
           }
          ],
          "table": [
           {
            "cells": {
             "fill": {
              "color": "#506784"
             },
             "line": {
              "color": "rgb(17,17,17)"
             }
            },
            "header": {
             "fill": {
              "color": "#2a3f5f"
             },
             "line": {
              "color": "rgb(17,17,17)"
             }
            },
            "type": "table"
           }
          ]
         },
         "layout": {
          "annotationdefaults": {
           "arrowcolor": "#f2f5fa",
           "arrowhead": 0,
           "arrowwidth": 1
          },
          "autotypenumbers": "strict",
          "coloraxis": {
           "colorbar": {
            "outlinewidth": 0,
            "ticks": ""
           }
          },
          "colorscale": {
           "diverging": [
            [
             0,
             "#8e0152"
            ],
            [
             0.1,
             "#c51b7d"
            ],
            [
             0.2,
             "#de77ae"
            ],
            [
             0.3,
             "#f1b6da"
            ],
            [
             0.4,
             "#fde0ef"
            ],
            [
             0.5,
             "#f7f7f7"
            ],
            [
             0.6,
             "#e6f5d0"
            ],
            [
             0.7,
             "#b8e186"
            ],
            [
             0.8,
             "#7fbc41"
            ],
            [
             0.9,
             "#4d9221"
            ],
            [
             1,
             "#276419"
            ]
           ],
           "sequential": [
            [
             0,
             "#0d0887"
            ],
            [
             0.1111111111111111,
             "#46039f"
            ],
            [
             0.2222222222222222,
             "#7201a8"
            ],
            [
             0.3333333333333333,
             "#9c179e"
            ],
            [
             0.4444444444444444,
             "#bd3786"
            ],
            [
             0.5555555555555556,
             "#d8576b"
            ],
            [
             0.6666666666666666,
             "#ed7953"
            ],
            [
             0.7777777777777778,
             "#fb9f3a"
            ],
            [
             0.8888888888888888,
             "#fdca26"
            ],
            [
             1,
             "#f0f921"
            ]
           ],
           "sequentialminus": [
            [
             0,
             "#0d0887"
            ],
            [
             0.1111111111111111,
             "#46039f"
            ],
            [
             0.2222222222222222,
             "#7201a8"
            ],
            [
             0.3333333333333333,
             "#9c179e"
            ],
            [
             0.4444444444444444,
             "#bd3786"
            ],
            [
             0.5555555555555556,
             "#d8576b"
            ],
            [
             0.6666666666666666,
             "#ed7953"
            ],
            [
             0.7777777777777778,
             "#fb9f3a"
            ],
            [
             0.8888888888888888,
             "#fdca26"
            ],
            [
             1,
             "#f0f921"
            ]
           ]
          },
          "colorway": [
           "#636efa",
           "#EF553B",
           "#00cc96",
           "#ab63fa",
           "#FFA15A",
           "#19d3f3",
           "#FF6692",
           "#B6E880",
           "#FF97FF",
           "#FECB52"
          ],
          "font": {
           "color": "#f2f5fa"
          },
          "geo": {
           "bgcolor": "rgb(17,17,17)",
           "lakecolor": "rgb(17,17,17)",
           "landcolor": "rgb(17,17,17)",
           "showlakes": true,
           "showland": true,
           "subunitcolor": "#506784"
          },
          "hoverlabel": {
           "align": "left"
          },
          "hovermode": "closest",
          "mapbox": {
           "style": "dark"
          },
          "paper_bgcolor": "rgb(17,17,17)",
          "plot_bgcolor": "rgb(17,17,17)",
          "polar": {
           "angularaxis": {
            "gridcolor": "#506784",
            "linecolor": "#506784",
            "ticks": ""
           },
           "bgcolor": "rgb(17,17,17)",
           "radialaxis": {
            "gridcolor": "#506784",
            "linecolor": "#506784",
            "ticks": ""
           }
          },
          "scene": {
           "xaxis": {
            "backgroundcolor": "rgb(17,17,17)",
            "gridcolor": "#506784",
            "gridwidth": 2,
            "linecolor": "#506784",
            "showbackground": true,
            "ticks": "",
            "zerolinecolor": "#C8D4E3"
           },
           "yaxis": {
            "backgroundcolor": "rgb(17,17,17)",
            "gridcolor": "#506784",
            "gridwidth": 2,
            "linecolor": "#506784",
            "showbackground": true,
            "ticks": "",
            "zerolinecolor": "#C8D4E3"
           },
           "zaxis": {
            "backgroundcolor": "rgb(17,17,17)",
            "gridcolor": "#506784",
            "gridwidth": 2,
            "linecolor": "#506784",
            "showbackground": true,
            "ticks": "",
            "zerolinecolor": "#C8D4E3"
           }
          },
          "shapedefaults": {
           "line": {
            "color": "#f2f5fa"
           }
          },
          "sliderdefaults": {
           "bgcolor": "#C8D4E3",
           "bordercolor": "rgb(17,17,17)",
           "borderwidth": 1,
           "tickwidth": 0
          },
          "ternary": {
           "aaxis": {
            "gridcolor": "#506784",
            "linecolor": "#506784",
            "ticks": ""
           },
           "baxis": {
            "gridcolor": "#506784",
            "linecolor": "#506784",
            "ticks": ""
           },
           "bgcolor": "rgb(17,17,17)",
           "caxis": {
            "gridcolor": "#506784",
            "linecolor": "#506784",
            "ticks": ""
           }
          },
          "title": {
           "x": 0.05
          },
          "updatemenudefaults": {
           "bgcolor": "#506784",
           "borderwidth": 0
          },
          "xaxis": {
           "automargin": true,
           "gridcolor": "#283442",
           "linecolor": "#506784",
           "ticks": "",
           "title": {
            "standoff": 15
           },
           "zerolinecolor": "#283442",
           "zerolinewidth": 2
          },
          "yaxis": {
           "automargin": true,
           "gridcolor": "#283442",
           "linecolor": "#506784",
           "ticks": "",
           "title": {
            "standoff": 15
           },
           "zerolinecolor": "#283442",
           "zerolinewidth": 2
          }
         }
        },
        "title": {
         "text": "Notebooks by Thomas Shelby 2022-08-25"
        },
        "xaxis": {
         "anchor": "y",
         "domain": [
          0,
          1
         ],
         "title": {
          "text": "date"
         }
        },
        "yaxis": {
         "anchor": "x",
         "domain": [
          0,
          1
         ],
         "title": {
          "text": "view_count"
         }
        }
       }
      }
     },
     "metadata": {},
     "output_type": "display_data"
    }
   ],
   "source": [
    "color_map = {\n",
    "    'GOLD': 'gold',\n",
    "    'SILVER': 'silver',\n",
    "    'BRONZE': 'chocolate',\n",
    "    'N/A': '#333',\n",
    "    'Not Found' : 'lime'\n",
    "}\n",
    "fig=px.line(\n",
    "    df_d,\n",
    "    x='date',\n",
    "    y='view_count',\n",
    "    title=f'Notebooks by {df.author_displayName.get(0)} '+str(links[-2][25:35]),\n",
    "    log_x=False,\n",
    "    log_y=False,\n",
    "    line_group='title',\n",
    "    line_shape='spline',\n",
    "    markers=False,\n",
    "    #width=400, \n",
    "    height=800,\n",
    "    color='medal',\n",
    "    template='plotly_dark',\n",
    "    color_discrete_map=color_map,\n",
    "    hover_name='title')\n",
    "\n",
    "# add traces for annotations and text for end of lines\n",
    "for i in range (len(fig.data)):\n",
    "    fig.add_scatter(x = [fig.data[i].x[-1]], y = [fig.data[i].y[-1]],\n",
    "                     marker = {'color':color_map[fig.data[i].name], 'size':5},\n",
    "                     text = str([fig.data[i].y[-1]]),# + str(fig.data[i].hovertext[0]),\n",
    "                     mode = 'markers + text',\n",
    "                     textposition='middle right')\n",
    "fig.update_layout(showlegend=False)\n",
    "fig.show()"
   ]
  },
  {
   "cell_type": "code",
   "execution_count": 14,
   "id": "3d537877",
   "metadata": {},
   "outputs": [
    {
     "data": {
      "text/plain": [
       "'UCL ⚽ EDA & Viz ⭐ 2021-22 ⭐ Players & Teams'"
      ]
     },
     "execution_count": 14,
     "metadata": {},
     "output_type": "execute_result"
    }
   ],
   "source": [
    "fig.data[0].hovertext[0]"
   ]
  },
  {
   "cell_type": "code",
   "execution_count": 15,
   "id": "d1d55f26",
   "metadata": {},
   "outputs": [
    {
     "data": {
      "application/vnd.plotly.v1+json": {
       "config": {
        "plotlyServerURL": "https://plot.ly"
       },
       "data": [
        {
         "type": "scatter",
         "x": [
          "2022-06-12",
          "2022-06-13",
          "2022-06-14",
          "2022-06-15",
          "2022-06-16",
          "2022-06-17",
          "2022-06-18",
          "2022-06-19",
          "2022-06-20",
          "2022-06-21",
          "2022-06-22",
          "2022-06-25",
          "2022-06-26",
          "2022-06-28",
          "2022-06-29",
          "2022-07-01",
          "2022-07-02",
          "2022-07-03",
          "2022-07-04",
          "2022-07-05",
          "2022-07-06",
          "2022-07-07",
          "2022-07-11",
          "2022-07-12",
          "2022-07-14",
          "2022-07-15",
          "2022-07-17",
          "2022-07-18",
          "2022-07-21",
          "2022-07-22",
          "2022-07-23",
          "2022-07-24",
          "2022-07-25",
          "2022-07-26",
          "2022-07-29",
          "2022-07-30",
          "2022-07-31",
          "2022-08-01",
          "2022-08-03",
          "2022-08-05",
          "2022-08-06",
          "2022-08-08",
          "2022-08-10",
          "2022-08-12",
          "2022-08-14",
          "2022-08-16",
          "2022-08-17",
          "2022-08-18",
          "2022-08-19",
          "2022-08-20",
          "2022-08-21",
          "2022-08-22",
          "2022-08-23",
          "2022-08-24",
          "2022-08-25",
          "2022-08-26"
         ],
         "xaxis": "x",
         "y": [
          6875,
          7110,
          7916,
          8673,
          9112,
          9400,
          9637,
          9807,
          10086,
          10436,
          10673,
          11238,
          11456,
          11854,
          12158,
          12678,
          13208,
          13431,
          13640,
          14153,
          14553,
          14685,
          15937,
          16216,
          16950,
          17240,
          17966,
          18117,
          19337,
          19611,
          20124,
          20450,
          20847,
          21231,
          22107,
          22435,
          22908,
          23390,
          23922,
          24925,
          25418,
          25707,
          26769,
          27547,
          28594,
          29323,
          29751,
          30550,
          31777,
          33309,
          33779,
          34234,
          35224,
          35224,
          36291,
          36588
         ],
         "yaxis": "y"
        },
        {
         "type": "scatter",
         "x": [
          "2022-06-12",
          "2022-06-13",
          "2022-06-14",
          "2022-06-15",
          "2022-06-16",
          "2022-06-17",
          "2022-06-18",
          "2022-06-19",
          "2022-06-20",
          "2022-06-21",
          "2022-06-22",
          "2022-06-25",
          "2022-06-26",
          "2022-06-28",
          "2022-06-29",
          "2022-07-01",
          "2022-07-02",
          "2022-07-03",
          "2022-07-04",
          "2022-07-05",
          "2022-07-06",
          "2022-07-07",
          "2022-07-11",
          "2022-07-12",
          "2022-07-14",
          "2022-07-15",
          "2022-07-17",
          "2022-07-18",
          "2022-07-21",
          "2022-07-22",
          "2022-07-23",
          "2022-07-24",
          "2022-07-25",
          "2022-07-26",
          "2022-07-29",
          "2022-07-30",
          "2022-07-31",
          "2022-08-01",
          "2022-08-03",
          "2022-08-05",
          "2022-08-06",
          "2022-08-08",
          "2022-08-10",
          "2022-08-12",
          "2022-08-14",
          "2022-08-16",
          "2022-08-17",
          "2022-08-18",
          "2022-08-19",
          "2022-08-20",
          "2022-08-21",
          "2022-08-22",
          "2022-08-23",
          "2022-08-24",
          "2022-08-25",
          "2022-08-26"
         ],
         "xaxis": "x2",
         "y": [
          322,
          332,
          355,
          373,
          385,
          395,
          403,
          407,
          415,
          423,
          429,
          437,
          442,
          449,
          455,
          476,
          519,
          530,
          537,
          565,
          579,
          585,
          631,
          642,
          668,
          677,
          703,
          715,
          749,
          763,
          771,
          795,
          809,
          814,
          829,
          839,
          851,
          872,
          890,
          920,
          939,
          952,
          993,
          1016,
          1046,
          1088,
          1116,
          1139,
          1175,
          1211,
          1218,
          1228,
          1247,
          1247,
          1264,
          1267
         ],
         "yaxis": "y2"
        },
        {
         "type": "scatter",
         "x": [
          "2022-06-12",
          "2022-06-13",
          "2022-06-14",
          "2022-06-15",
          "2022-06-16",
          "2022-06-17",
          "2022-06-18",
          "2022-06-19",
          "2022-06-20",
          "2022-06-21",
          "2022-06-22",
          "2022-06-25",
          "2022-06-26",
          "2022-06-28",
          "2022-06-29",
          "2022-07-01",
          "2022-07-02",
          "2022-07-03",
          "2022-07-04",
          "2022-07-05",
          "2022-07-06",
          "2022-07-07",
          "2022-07-11",
          "2022-07-12",
          "2022-07-14",
          "2022-07-15",
          "2022-07-17",
          "2022-07-18",
          "2022-07-21",
          "2022-07-22",
          "2022-07-23",
          "2022-07-24",
          "2022-07-25",
          "2022-07-26",
          "2022-07-29",
          "2022-07-30",
          "2022-07-31",
          "2022-08-01",
          "2022-08-03",
          "2022-08-05",
          "2022-08-06",
          "2022-08-08",
          "2022-08-10",
          "2022-08-12",
          "2022-08-14",
          "2022-08-16",
          "2022-08-17",
          "2022-08-18",
          "2022-08-19",
          "2022-08-20",
          "2022-08-21",
          "2022-08-22",
          "2022-08-23",
          "2022-08-24",
          "2022-08-25",
          "2022-08-26"
         ],
         "xaxis": "x3",
         "y": [
          145,
          152,
          155,
          159,
          163,
          165,
          169,
          170,
          175,
          176,
          178,
          180,
          180,
          182,
          183,
          186,
          192,
          194,
          194,
          199,
          203,
          207,
          224,
          228,
          233,
          233,
          239,
          242,
          246,
          251,
          252,
          258,
          258,
          259,
          259,
          261,
          262,
          264,
          269,
          273,
          276,
          276,
          281,
          283,
          293,
          300,
          306,
          310,
          318,
          322,
          322,
          326,
          338,
          338,
          338,
          338
         ],
         "yaxis": "y3"
        }
       ],
       "layout": {
        "annotations": [
         {
          "font": {
           "size": 16
          },
          "showarrow": false,
          "text": "Views\n",
          "x": 0.14444444444444446,
          "xanchor": "center",
          "xref": "paper",
          "y": 1,
          "yanchor": "bottom",
          "yref": "paper"
         },
         {
          "font": {
           "size": 16
          },
          "showarrow": false,
          "text": "Upvotes\n",
          "x": 0.5,
          "xanchor": "center",
          "xref": "paper",
          "y": 1,
          "yanchor": "bottom",
          "yref": "paper"
         },
         {
          "font": {
           "size": 16
          },
          "showarrow": false,
          "text": "Comments\n",
          "x": 0.8555555555555556,
          "xanchor": "center",
          "xref": "paper",
          "y": 1,
          "yanchor": "bottom",
          "yref": "paper"
         }
        ],
        "template": {
         "data": {
          "bar": [
           {
            "error_x": {
             "color": "#2a3f5f"
            },
            "error_y": {
             "color": "#2a3f5f"
            },
            "marker": {
             "line": {
              "color": "#E5ECF6",
              "width": 0.5
             },
             "pattern": {
              "fillmode": "overlay",
              "size": 10,
              "solidity": 0.2
             }
            },
            "type": "bar"
           }
          ],
          "barpolar": [
           {
            "marker": {
             "line": {
              "color": "#E5ECF6",
              "width": 0.5
             },
             "pattern": {
              "fillmode": "overlay",
              "size": 10,
              "solidity": 0.2
             }
            },
            "type": "barpolar"
           }
          ],
          "carpet": [
           {
            "aaxis": {
             "endlinecolor": "#2a3f5f",
             "gridcolor": "white",
             "linecolor": "white",
             "minorgridcolor": "white",
             "startlinecolor": "#2a3f5f"
            },
            "baxis": {
             "endlinecolor": "#2a3f5f",
             "gridcolor": "white",
             "linecolor": "white",
             "minorgridcolor": "white",
             "startlinecolor": "#2a3f5f"
            },
            "type": "carpet"
           }
          ],
          "choropleth": [
           {
            "colorbar": {
             "outlinewidth": 0,
             "ticks": ""
            },
            "type": "choropleth"
           }
          ],
          "contour": [
           {
            "colorbar": {
             "outlinewidth": 0,
             "ticks": ""
            },
            "colorscale": [
             [
              0,
              "#0d0887"
             ],
             [
              0.1111111111111111,
              "#46039f"
             ],
             [
              0.2222222222222222,
              "#7201a8"
             ],
             [
              0.3333333333333333,
              "#9c179e"
             ],
             [
              0.4444444444444444,
              "#bd3786"
             ],
             [
              0.5555555555555556,
              "#d8576b"
             ],
             [
              0.6666666666666666,
              "#ed7953"
             ],
             [
              0.7777777777777778,
              "#fb9f3a"
             ],
             [
              0.8888888888888888,
              "#fdca26"
             ],
             [
              1,
              "#f0f921"
             ]
            ],
            "type": "contour"
           }
          ],
          "contourcarpet": [
           {
            "colorbar": {
             "outlinewidth": 0,
             "ticks": ""
            },
            "type": "contourcarpet"
           }
          ],
          "heatmap": [
           {
            "colorbar": {
             "outlinewidth": 0,
             "ticks": ""
            },
            "colorscale": [
             [
              0,
              "#0d0887"
             ],
             [
              0.1111111111111111,
              "#46039f"
             ],
             [
              0.2222222222222222,
              "#7201a8"
             ],
             [
              0.3333333333333333,
              "#9c179e"
             ],
             [
              0.4444444444444444,
              "#bd3786"
             ],
             [
              0.5555555555555556,
              "#d8576b"
             ],
             [
              0.6666666666666666,
              "#ed7953"
             ],
             [
              0.7777777777777778,
              "#fb9f3a"
             ],
             [
              0.8888888888888888,
              "#fdca26"
             ],
             [
              1,
              "#f0f921"
             ]
            ],
            "type": "heatmap"
           }
          ],
          "heatmapgl": [
           {
            "colorbar": {
             "outlinewidth": 0,
             "ticks": ""
            },
            "colorscale": [
             [
              0,
              "#0d0887"
             ],
             [
              0.1111111111111111,
              "#46039f"
             ],
             [
              0.2222222222222222,
              "#7201a8"
             ],
             [
              0.3333333333333333,
              "#9c179e"
             ],
             [
              0.4444444444444444,
              "#bd3786"
             ],
             [
              0.5555555555555556,
              "#d8576b"
             ],
             [
              0.6666666666666666,
              "#ed7953"
             ],
             [
              0.7777777777777778,
              "#fb9f3a"
             ],
             [
              0.8888888888888888,
              "#fdca26"
             ],
             [
              1,
              "#f0f921"
             ]
            ],
            "type": "heatmapgl"
           }
          ],
          "histogram": [
           {
            "marker": {
             "pattern": {
              "fillmode": "overlay",
              "size": 10,
              "solidity": 0.2
             }
            },
            "type": "histogram"
           }
          ],
          "histogram2d": [
           {
            "colorbar": {
             "outlinewidth": 0,
             "ticks": ""
            },
            "colorscale": [
             [
              0,
              "#0d0887"
             ],
             [
              0.1111111111111111,
              "#46039f"
             ],
             [
              0.2222222222222222,
              "#7201a8"
             ],
             [
              0.3333333333333333,
              "#9c179e"
             ],
             [
              0.4444444444444444,
              "#bd3786"
             ],
             [
              0.5555555555555556,
              "#d8576b"
             ],
             [
              0.6666666666666666,
              "#ed7953"
             ],
             [
              0.7777777777777778,
              "#fb9f3a"
             ],
             [
              0.8888888888888888,
              "#fdca26"
             ],
             [
              1,
              "#f0f921"
             ]
            ],
            "type": "histogram2d"
           }
          ],
          "histogram2dcontour": [
           {
            "colorbar": {
             "outlinewidth": 0,
             "ticks": ""
            },
            "colorscale": [
             [
              0,
              "#0d0887"
             ],
             [
              0.1111111111111111,
              "#46039f"
             ],
             [
              0.2222222222222222,
              "#7201a8"
             ],
             [
              0.3333333333333333,
              "#9c179e"
             ],
             [
              0.4444444444444444,
              "#bd3786"
             ],
             [
              0.5555555555555556,
              "#d8576b"
             ],
             [
              0.6666666666666666,
              "#ed7953"
             ],
             [
              0.7777777777777778,
              "#fb9f3a"
             ],
             [
              0.8888888888888888,
              "#fdca26"
             ],
             [
              1,
              "#f0f921"
             ]
            ],
            "type": "histogram2dcontour"
           }
          ],
          "mesh3d": [
           {
            "colorbar": {
             "outlinewidth": 0,
             "ticks": ""
            },
            "type": "mesh3d"
           }
          ],
          "parcoords": [
           {
            "line": {
             "colorbar": {
              "outlinewidth": 0,
              "ticks": ""
             }
            },
            "type": "parcoords"
           }
          ],
          "pie": [
           {
            "automargin": true,
            "type": "pie"
           }
          ],
          "scatter": [
           {
            "fillpattern": {
             "fillmode": "overlay",
             "size": 10,
             "solidity": 0.2
            },
            "type": "scatter"
           }
          ],
          "scatter3d": [
           {
            "line": {
             "colorbar": {
              "outlinewidth": 0,
              "ticks": ""
             }
            },
            "marker": {
             "colorbar": {
              "outlinewidth": 0,
              "ticks": ""
             }
            },
            "type": "scatter3d"
           }
          ],
          "scattercarpet": [
           {
            "marker": {
             "colorbar": {
              "outlinewidth": 0,
              "ticks": ""
             }
            },
            "type": "scattercarpet"
           }
          ],
          "scattergeo": [
           {
            "marker": {
             "colorbar": {
              "outlinewidth": 0,
              "ticks": ""
             }
            },
            "type": "scattergeo"
           }
          ],
          "scattergl": [
           {
            "marker": {
             "colorbar": {
              "outlinewidth": 0,
              "ticks": ""
             }
            },
            "type": "scattergl"
           }
          ],
          "scattermapbox": [
           {
            "marker": {
             "colorbar": {
              "outlinewidth": 0,
              "ticks": ""
             }
            },
            "type": "scattermapbox"
           }
          ],
          "scatterpolar": [
           {
            "marker": {
             "colorbar": {
              "outlinewidth": 0,
              "ticks": ""
             }
            },
            "type": "scatterpolar"
           }
          ],
          "scatterpolargl": [
           {
            "marker": {
             "colorbar": {
              "outlinewidth": 0,
              "ticks": ""
             }
            },
            "type": "scatterpolargl"
           }
          ],
          "scatterternary": [
           {
            "marker": {
             "colorbar": {
              "outlinewidth": 0,
              "ticks": ""
             }
            },
            "type": "scatterternary"
           }
          ],
          "surface": [
           {
            "colorbar": {
             "outlinewidth": 0,
             "ticks": ""
            },
            "colorscale": [
             [
              0,
              "#0d0887"
             ],
             [
              0.1111111111111111,
              "#46039f"
             ],
             [
              0.2222222222222222,
              "#7201a8"
             ],
             [
              0.3333333333333333,
              "#9c179e"
             ],
             [
              0.4444444444444444,
              "#bd3786"
             ],
             [
              0.5555555555555556,
              "#d8576b"
             ],
             [
              0.6666666666666666,
              "#ed7953"
             ],
             [
              0.7777777777777778,
              "#fb9f3a"
             ],
             [
              0.8888888888888888,
              "#fdca26"
             ],
             [
              1,
              "#f0f921"
             ]
            ],
            "type": "surface"
           }
          ],
          "table": [
           {
            "cells": {
             "fill": {
              "color": "#EBF0F8"
             },
             "line": {
              "color": "white"
             }
            },
            "header": {
             "fill": {
              "color": "#C8D4E3"
             },
             "line": {
              "color": "white"
             }
            },
            "type": "table"
           }
          ]
         },
         "layout": {
          "annotationdefaults": {
           "arrowcolor": "#2a3f5f",
           "arrowhead": 0,
           "arrowwidth": 1
          },
          "autotypenumbers": "strict",
          "coloraxis": {
           "colorbar": {
            "outlinewidth": 0,
            "ticks": ""
           }
          },
          "colorscale": {
           "diverging": [
            [
             0,
             "#8e0152"
            ],
            [
             0.1,
             "#c51b7d"
            ],
            [
             0.2,
             "#de77ae"
            ],
            [
             0.3,
             "#f1b6da"
            ],
            [
             0.4,
             "#fde0ef"
            ],
            [
             0.5,
             "#f7f7f7"
            ],
            [
             0.6,
             "#e6f5d0"
            ],
            [
             0.7,
             "#b8e186"
            ],
            [
             0.8,
             "#7fbc41"
            ],
            [
             0.9,
             "#4d9221"
            ],
            [
             1,
             "#276419"
            ]
           ],
           "sequential": [
            [
             0,
             "#0d0887"
            ],
            [
             0.1111111111111111,
             "#46039f"
            ],
            [
             0.2222222222222222,
             "#7201a8"
            ],
            [
             0.3333333333333333,
             "#9c179e"
            ],
            [
             0.4444444444444444,
             "#bd3786"
            ],
            [
             0.5555555555555556,
             "#d8576b"
            ],
            [
             0.6666666666666666,
             "#ed7953"
            ],
            [
             0.7777777777777778,
             "#fb9f3a"
            ],
            [
             0.8888888888888888,
             "#fdca26"
            ],
            [
             1,
             "#f0f921"
            ]
           ],
           "sequentialminus": [
            [
             0,
             "#0d0887"
            ],
            [
             0.1111111111111111,
             "#46039f"
            ],
            [
             0.2222222222222222,
             "#7201a8"
            ],
            [
             0.3333333333333333,
             "#9c179e"
            ],
            [
             0.4444444444444444,
             "#bd3786"
            ],
            [
             0.5555555555555556,
             "#d8576b"
            ],
            [
             0.6666666666666666,
             "#ed7953"
            ],
            [
             0.7777777777777778,
             "#fb9f3a"
            ],
            [
             0.8888888888888888,
             "#fdca26"
            ],
            [
             1,
             "#f0f921"
            ]
           ]
          },
          "colorway": [
           "#636efa",
           "#EF553B",
           "#00cc96",
           "#ab63fa",
           "#FFA15A",
           "#19d3f3",
           "#FF6692",
           "#B6E880",
           "#FF97FF",
           "#FECB52"
          ],
          "font": {
           "color": "#2a3f5f"
          },
          "geo": {
           "bgcolor": "white",
           "lakecolor": "white",
           "landcolor": "#E5ECF6",
           "showlakes": true,
           "showland": true,
           "subunitcolor": "white"
          },
          "hoverlabel": {
           "align": "left"
          },
          "hovermode": "closest",
          "mapbox": {
           "style": "light"
          },
          "paper_bgcolor": "white",
          "plot_bgcolor": "#E5ECF6",
          "polar": {
           "angularaxis": {
            "gridcolor": "white",
            "linecolor": "white",
            "ticks": ""
           },
           "bgcolor": "#E5ECF6",
           "radialaxis": {
            "gridcolor": "white",
            "linecolor": "white",
            "ticks": ""
           }
          },
          "scene": {
           "xaxis": {
            "backgroundcolor": "#E5ECF6",
            "gridcolor": "white",
            "gridwidth": 2,
            "linecolor": "white",
            "showbackground": true,
            "ticks": "",
            "zerolinecolor": "white"
           },
           "yaxis": {
            "backgroundcolor": "#E5ECF6",
            "gridcolor": "white",
            "gridwidth": 2,
            "linecolor": "white",
            "showbackground": true,
            "ticks": "",
            "zerolinecolor": "white"
           },
           "zaxis": {
            "backgroundcolor": "#E5ECF6",
            "gridcolor": "white",
            "gridwidth": 2,
            "linecolor": "white",
            "showbackground": true,
            "ticks": "",
            "zerolinecolor": "white"
           }
          },
          "shapedefaults": {
           "line": {
            "color": "#2a3f5f"
           }
          },
          "ternary": {
           "aaxis": {
            "gridcolor": "white",
            "linecolor": "white",
            "ticks": ""
           },
           "baxis": {
            "gridcolor": "white",
            "linecolor": "white",
            "ticks": ""
           },
           "bgcolor": "#E5ECF6",
           "caxis": {
            "gridcolor": "white",
            "linecolor": "white",
            "ticks": ""
           }
          },
          "title": {
           "x": 0.05
          },
          "xaxis": {
           "automargin": true,
           "gridcolor": "white",
           "linecolor": "white",
           "ticks": "",
           "title": {
            "standoff": 15
           },
           "zerolinecolor": "white",
           "zerolinewidth": 2
          },
          "yaxis": {
           "automargin": true,
           "gridcolor": "white",
           "linecolor": "white",
           "ticks": "",
           "title": {
            "standoff": 15
           },
           "zerolinecolor": "white",
           "zerolinewidth": 2
          }
         }
        },
        "xaxis": {
         "anchor": "y",
         "domain": [
          0,
          0.2888888888888889
         ]
        },
        "xaxis2": {
         "anchor": "y2",
         "domain": [
          0.35555555555555557,
          0.6444444444444445
         ]
        },
        "xaxis3": {
         "anchor": "y3",
         "domain": [
          0.7111111111111111,
          1
         ]
        },
        "yaxis": {
         "anchor": "x",
         "domain": [
          0,
          1
         ]
        },
        "yaxis2": {
         "anchor": "x2",
         "domain": [
          0,
          1
         ]
        },
        "yaxis3": {
         "anchor": "x3",
         "domain": [
          0,
          1
         ]
        }
       }
      }
     },
     "metadata": {},
     "output_type": "display_data"
    }
   ],
   "source": [
    "totals={'date':date_list,\"Upvotes\":gTotalUpvotes,\"Views\":gTotalViews,\"Comments\":gTotalComments}\n",
    "totals=pd.DataFrame(totals)\n",
    "\n",
    "from plotly.subplots import make_subplots\n",
    "import plotly.graph_objects as go\n",
    "\n",
    "fig = make_subplots(rows=1, cols=3, subplot_titles=(\"Views\\n\",\"Upvotes\\n\", \"Comments\\n\"))\n",
    "\n",
    "sns.set(rc={'figure.figsize':(28,6)})\n",
    "\n",
    "\n",
    "fig.add_trace(\n",
    "    go.Scatter(\n",
    "    x=totals['date'],\n",
    "    y=totals['Views']),\n",
    "    row=1, col=1\n",
    ")\n",
    "\n",
    "fig.add_trace(\n",
    "    go.Scatter(\n",
    "    x=totals['date'],\n",
    "    y=totals['Upvotes']),\n",
    "    row=1, col=2\n",
    ")\n",
    "\n",
    "fig.add_trace(\n",
    "    go.Scatter(\n",
    "    x=totals['date'],\n",
    "    y=totals['Comments']),\n",
    "    row=1, col=3\n",
    ")\n"
   ]
  },
  {
   "cell_type": "code",
   "execution_count": 16,
   "id": "93fcffd4",
   "metadata": {},
   "outputs": [
    {
     "data": {
      "text/plain": [
       "array(['UCL ⚽ EDA & Viz ⭐ 2021-22 ⭐ Players & Teams',\n",
       "       'Divorce Prediction & Reasons : XGB,SHAP,RFE,TSNE',\n",
       "       'Advanced Feature Engineering for Classification',\n",
       "       'All Imputation Techniques with Pros and Cons',\n",
       "       'Mastering Bias-Variance Tradeoff ',\n",
       "       '▶️ Lionel Messi 📊 Extended EDA ⚽ Goals ',\n",
       "       '▶️ Cristiano Ronaldo ⚽ Goals  📊 EDA, Analysis',\n",
       "       'Coursera 📉 EDA, Reviews Sentiment Analysis',\n",
       "       'Investment and Financial Analysis  🏭 EPZ',\n",
       "       'ML Foundation ➡️ Cross Validation ✅ All Methods',\n",
       "       'Different Clustering Techniques and Algorithms',\n",
       "       'Daily AQI - Air Quality Index [Scheduled]',\n",
       "       'Classification ➡️ Comparing Different Algorithms',\n",
       "       'House Price Prediction with Stacking & Ensembling',\n",
       "       'XGBoost | Wrangling with Hyperparameters | Guide'], dtype=object)"
      ]
     },
     "execution_count": 16,
     "metadata": {},
     "output_type": "execute_result"
    }
   ],
   "source": [
    "df_d.title.unique()"
   ]
  }
 ],
 "metadata": {
  "kernelspec": {
   "display_name": "Python 3.9.7 ('base')",
   "language": "python",
   "name": "python3"
  },
  "language_info": {
   "codemirror_mode": {
    "name": "ipython",
    "version": 3
   },
   "file_extension": ".py",
   "mimetype": "text/x-python",
   "name": "python",
   "nbconvert_exporter": "python",
   "pygments_lexer": "ipython3",
   "version": "3.9.7"
  },
  "papermill": {
   "default_parameters": {},
   "duration": 18.651991,
   "end_time": "2022-06-12T00:06:09.640337",
   "environment_variables": {},
   "exception": null,
   "input_path": "__notebook__.ipynb",
   "output_path": "__notebook__.ipynb",
   "parameters": {},
   "start_time": "2022-06-12T00:05:50.988346",
   "version": "2.3.4"
  },
  "vscode": {
   "interpreter": {
    "hash": "5cbe5c8d5a4e4df19ab08f1ca157b6ac51cd16c886bf4a2651a40d0f01930f45"
   }
  }
 },
 "nbformat": 4,
 "nbformat_minor": 5
}
