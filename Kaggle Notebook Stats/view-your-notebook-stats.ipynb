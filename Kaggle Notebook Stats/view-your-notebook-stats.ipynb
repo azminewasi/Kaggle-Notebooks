{
 "cells": [
  {
   "cell_type": "markdown",
   "id": "befdf55b",
   "metadata": {
    "papermill": {
     "duration": 0.004574,
     "end_time": "2022-06-12T00:06:01.263406",
     "exception": false,
     "start_time": "2022-06-12T00:06:01.258832",
     "status": "completed"
    },
    "tags": []
   },
   "source": [
    "Similarly, if you want to see view counts on your Kaggle notebooks - you have to increase the view count by one... *until now!* We can spy on the latest view counts (and other stats) by requesting a listing from the Kaggle API...\n",
    "\n",
    "To use this notebook:\n",
    "\n",
    " 1.   Fork this notebook by clicking on Copy and Edit.\n",
    " 2.   Set the username variable to your own username."
   ]
  },
  {
   "cell_type": "code",
   "execution_count": 1,
   "id": "62e7d37a",
   "metadata": {
    "execution": {
     "iopub.execute_input": "2022-06-12T00:06:01.272800Z",
     "iopub.status.busy": "2022-06-12T00:06:01.271910Z",
     "iopub.status.idle": "2022-06-12T00:06:01.284991Z",
     "shell.execute_reply": "2022-06-12T00:06:01.284120Z"
    },
    "papermill": {
     "duration": 0.020102,
     "end_time": "2022-06-12T00:06:01.287120",
     "exception": false,
     "start_time": "2022-06-12T00:06:01.267018",
     "status": "completed"
    },
    "tags": []
   },
   "outputs": [],
   "source": [
    "username = 'azminetoushikwasi'"
   ]
  },
  {
   "cell_type": "code",
   "execution_count": 2,
   "id": "636a7a76",
   "metadata": {
    "_kg_hide-input": true,
    "execution": {
     "iopub.execute_input": "2022-06-12T00:06:01.295765Z",
     "iopub.status.busy": "2022-06-12T00:06:01.295366Z",
     "iopub.status.idle": "2022-06-12T00:06:01.446307Z",
     "shell.execute_reply": "2022-06-12T00:06:01.445254Z"
    },
    "papermill": {
     "duration": 0.158209,
     "end_time": "2022-06-12T00:06:01.448853",
     "exception": false,
     "start_time": "2022-06-12T00:06:01.290644",
     "status": "completed"
    },
    "tags": []
   },
   "outputs": [],
   "source": [
    "from IPython.display import Markdown, display\n",
    "import datetime, requests, json, os, re, sys, time\n",
    "from matplotlib.ticker import FixedLocator, MaxNLocator\n",
    "import pandas as pd\n",
    "import numpy as np\n",
    "import math\n",
    "import seaborn as sns\n",
    "import matplotlib.pyplot as plt\n",
    "import warnings\n",
    "warnings.filterwarnings('ignore')"
   ]
  },
  {
   "cell_type": "code",
   "execution_count": 3,
   "id": "9550f4dd",
   "metadata": {},
   "outputs": [],
   "source": [
    "pd.set_option('display.max_rows', 500)\n",
    "\n",
    "session = requests.session()\n",
    "profile = session.get('https://www.kaggle.com/' + username)\n",
    "session.headers['x-xsrf-token'] = session.cookies['XSRF-TOKEN']\n",
    "\n",
    "uid = int(re.findall('Kaggle\\.State\\.push\\({.*?\"userId\":(\\d+),', profile.text)[0])\n",
    "count = int(re.findall('\"scriptsSummary\":{.*?\"totalResults\":(\\d+),', profile.text)[0])\n",
    "pages = int(np.ceil(count / 20))"
   ]
  },
  {
   "cell_type": "code",
   "execution_count": 4,
   "id": "0b676f37",
   "metadata": {
    "_kg_hide-input": true,
    "execution": {
     "iopub.execute_input": "2022-06-12T00:06:01.458529Z",
     "iopub.status.busy": "2022-06-12T00:06:01.457924Z",
     "iopub.status.idle": "2022-06-12T00:06:01.465424Z",
     "shell.execute_reply": "2022-06-12T00:06:01.464165Z"
    },
    "papermill": {
     "duration": 0.014946,
     "end_time": "2022-06-12T00:06:01.467432",
     "exception": false,
     "start_time": "2022-06-12T00:06:01.452486",
     "status": "completed"
    },
    "tags": []
   },
   "outputs": [],
   "source": [
    "url = 'https://www.kaggle.com/api/i/kernels.KernelsService/ListKernels'\n",
    "request = {\n",
    "    'kernelFilterCriteria': {\n",
    "        'search': '',\n",
    "        'listRequest': {\n",
    "            'userId': 0,\n",
    "            'sortBy': 'DATE_RUN',\n",
    "            'pageSize': 20,\n",
    "            'group': 'PROFILE',\n",
    "            'page': 1,\n",
    "            'tagIds': '',\n",
    "            'excludeResultsFilesOutputs': False,\n",
    "            'wantOutputFiles': False\n",
    "        }\n",
    "    },\n",
    "    'detailFilterCriteria': {\n",
    "        'deletedAccessBehavior': 'RETURN_NOTHING',\n",
    "        'unauthorizedAccessBehavior': 'RETURN_NOTHING',\n",
    "        'excludeResultsFilesOutputs': False,\n",
    "        'wantOutputFiles': False,\n",
    "        'kernelIds': [],\n",
    "        'outputFileTypes': []\n",
    "    }\n",
    "}"
   ]
  },
  {
   "cell_type": "code",
   "execution_count": 5,
   "id": "6150d2d1",
   "metadata": {
    "_kg_hide-input": true,
    "execution": {
     "iopub.execute_input": "2022-06-12T00:06:01.478891Z",
     "iopub.status.busy": "2022-06-12T00:06:01.478475Z",
     "iopub.status.idle": "2022-06-12T00:06:03.889142Z",
     "shell.execute_reply": "2022-06-12T00:06:03.888184Z"
    },
    "papermill": {
     "duration": 2.421448,
     "end_time": "2022-06-12T00:06:03.892456",
     "exception": false,
     "start_time": "2022-06-12T00:06:01.471008",
     "status": "completed"
    },
    "tags": []
   },
   "outputs": [
    {
     "data": {
      "text/markdown": [
       "\n",
       " - Notebook count: 13\n",
       " - Total views: 23,922\n",
       " - Total comments: 269\n",
       " - Total medals: 13\n",
       " - Total votes: 890\n",
       " - Mean views per vote: 27\n"
      ],
      "text/plain": [
       "<IPython.core.display.Markdown object>"
      ]
     },
     "metadata": {},
     "output_type": "display_data"
    }
   ],
   "source": [
    "request['kernelFilterCriteria']['listRequest']['userId'] = uid\n",
    "\n",
    "dfs = []\n",
    "for page in range(1, pages + 1):\n",
    "    request['kernelFilterCriteria']['listRequest']['page'] = page\n",
    "    data = json.dumps(request, separators=(',', ':'))\n",
    "    res = session.post(url, data=data)\n",
    "    #print(page, res.status_code, len(res.text))\n",
    "    if res.status_code != 200:\n",
    "        break\n",
    "    df = pd.DataFrame(json.loads(res.text)['kernels'])\n",
    "    dfs.append(df)\n",
    "\n",
    "def split_columns(df, col):\n",
    "    values = df.pop(col)\n",
    "    return df.join(values.apply(pd.Series).add_prefix(col + \"_\"))\n",
    "\n",
    "df = pd.concat(dfs, ignore_index=True)\n",
    "df = split_columns(df, 'author')\n",
    "df = split_columns(df, 'dataSources')\n",
    "df = split_columns(df, 'categories')\n",
    "\n",
    "filename = f'{username}-{datetime.datetime.now().strftime(\"%Y-%m-%d\")}.csv'\n",
    "df.to_csv(\"./data/\"+filename, index=False)\n",
    "\n",
    "display(Markdown(f\"\"\"\n",
    " - Notebook count: {df.shape[0]:,.0f}\n",
    " - Total views: {df.totalViews.sum():,.0f}\n",
    " - Total comments: {df.totalComments.sum():,.0f}\n",
    " - Total medals: {df.medal.count():,.0f}\n",
    " - Total votes: {df.totalVotes.sum():,.0f}\n",
    " - Mean views per vote: {df.totalViews.sum() / df.totalVotes.sum():,.0f}\n",
    "\"\"\"))"
   ]
  },
  {
   "cell_type": "code",
   "execution_count": 6,
   "id": "2a8bdd38",
   "metadata": {
    "_kg_hide-input": true,
    "execution": {
     "iopub.execute_input": "2022-06-12T00:06:03.902067Z",
     "iopub.status.busy": "2022-06-12T00:06:03.901217Z",
     "iopub.status.idle": "2022-06-12T00:06:04.049288Z",
     "shell.execute_reply": "2022-06-12T00:06:04.048375Z"
    },
    "papermill": {
     "duration": 0.154913,
     "end_time": "2022-06-12T00:06:04.051346",
     "exception": false,
     "start_time": "2022-06-12T00:06:03.896433",
     "status": "completed"
    },
    "tags": []
   },
   "outputs": [
    {
     "data": {
      "text/markdown": [
       "# Notebooks by Azmine Toushik Wasi"
      ],
      "text/plain": [
       "<IPython.core.display.Markdown object>"
      ]
     },
     "metadata": {},
     "output_type": "display_data"
    },
    {
     "data": {
      "text/html": [
       "<style type=\"text/css\">\n",
       "#T_f1b06_row0_col1 {\n",
       "  width: 10em;\n",
       "  height: 80%;\n",
       "  background: linear-gradient(90deg,#4cf 2.8%, transparent 2.8%);\n",
       "}\n",
       "#T_f1b06_row0_col2 {\n",
       "  width: 10em;\n",
       "  height: 80%;\n",
       "  background: linear-gradient(90deg,#4cf 2.0%, transparent 2.0%);\n",
       "}\n",
       "#T_f1b06_row0_col3 {\n",
       "  width: 10em;\n",
       "  height: 80%;\n",
       "  background: linear-gradient(90deg,#4cf 19.0%, transparent 19.0%);\n",
       "}\n",
       "#T_f1b06_row0_col4 {\n",
       "  width: 10em;\n",
       "  height: 80%;\n",
       "  background: linear-gradient(90deg,#4cf 9.1%, transparent 9.1%);\n",
       "}\n",
       "#T_f1b06_row1_col1, #T_f1b06_row1_col2, #T_f1b06_row1_col4, #T_f1b06_row2_col3 {\n",
       "  width: 10em;\n",
       "  height: 80%;\n",
       "}\n",
       "#T_f1b06_row1_col3 {\n",
       "  width: 10em;\n",
       "  height: 80%;\n",
       "  background: linear-gradient(90deg,#4cf 2.7%, transparent 2.7%);\n",
       "}\n",
       "#T_f1b06_row2_col1 {\n",
       "  width: 10em;\n",
       "  height: 80%;\n",
       "  background: linear-gradient(90deg,#4cf 19.4%, transparent 19.4%);\n",
       "}\n",
       "#T_f1b06_row2_col2 {\n",
       "  width: 10em;\n",
       "  height: 80%;\n",
       "  background: linear-gradient(90deg,#4cf 14.5%, transparent 14.5%);\n",
       "}\n",
       "#T_f1b06_row2_col4 {\n",
       "  width: 10em;\n",
       "  height: 80%;\n",
       "  background: linear-gradient(90deg,#4cf 48.5%, transparent 48.5%);\n",
       "}\n",
       "#T_f1b06_row3_col1 {\n",
       "  width: 10em;\n",
       "  height: 80%;\n",
       "  background: linear-gradient(90deg,#4cf 4.7%, transparent 4.7%);\n",
       "}\n",
       "#T_f1b06_row3_col2 {\n",
       "  width: 10em;\n",
       "  height: 80%;\n",
       "  background: linear-gradient(90deg,#4cf 6.8%, transparent 6.8%);\n",
       "}\n",
       "#T_f1b06_row3_col3 {\n",
       "  width: 10em;\n",
       "  height: 80%;\n",
       "  background: linear-gradient(90deg,#4cf 15.9%, transparent 15.9%);\n",
       "}\n",
       "#T_f1b06_row3_col4, #T_f1b06_row4_col4, #T_f1b06_row11_col4 {\n",
       "  width: 10em;\n",
       "  height: 80%;\n",
       "  background: linear-gradient(90deg,#4cf 25.8%, transparent 25.8%);\n",
       "}\n",
       "#T_f1b06_row4_col1 {\n",
       "  width: 10em;\n",
       "  height: 80%;\n",
       "  background: linear-gradient(90deg,#4cf 14.0%, transparent 14.0%);\n",
       "}\n",
       "#T_f1b06_row4_col2 {\n",
       "  width: 10em;\n",
       "  height: 80%;\n",
       "  background: linear-gradient(90deg,#4cf 11.8%, transparent 11.8%);\n",
       "}\n",
       "#T_f1b06_row4_col3, #T_f1b06_row8_col1 {\n",
       "  width: 10em;\n",
       "  height: 80%;\n",
       "  background: linear-gradient(90deg,#4cf 11.2%, transparent 11.2%);\n",
       "}\n",
       "#T_f1b06_row5_col1 {\n",
       "  width: 10em;\n",
       "  height: 80%;\n",
       "  background: linear-gradient(90deg,#4cf 5.6%, transparent 5.6%);\n",
       "}\n",
       "#T_f1b06_row5_col2 {\n",
       "  width: 10em;\n",
       "  height: 80%;\n",
       "  background: linear-gradient(90deg,#4cf 8.1%, transparent 8.1%);\n",
       "}\n",
       "#T_f1b06_row5_col3 {\n",
       "  width: 10em;\n",
       "  height: 80%;\n",
       "  background: linear-gradient(90deg,#4cf 22.9%, transparent 22.9%);\n",
       "}\n",
       "#T_f1b06_row5_col4 {\n",
       "  width: 10em;\n",
       "  height: 80%;\n",
       "  background: linear-gradient(90deg,#4cf 22.7%, transparent 22.7%);\n",
       "}\n",
       "#T_f1b06_row6_col1 {\n",
       "  width: 10em;\n",
       "  height: 80%;\n",
       "  background: linear-gradient(90deg,#4cf 17.6%, transparent 17.6%);\n",
       "}\n",
       "#T_f1b06_row6_col2 {\n",
       "  width: 10em;\n",
       "  height: 80%;\n",
       "  background: linear-gradient(90deg,#4cf 16.9%, transparent 16.9%);\n",
       "}\n",
       "#T_f1b06_row6_col3 {\n",
       "  width: 10em;\n",
       "  height: 80%;\n",
       "  background: linear-gradient(90deg,#4cf 33.9%, transparent 33.9%);\n",
       "}\n",
       "#T_f1b06_row6_col4 {\n",
       "  width: 10em;\n",
       "  height: 80%;\n",
       "  background: linear-gradient(90deg,#4cf 37.9%, transparent 37.9%);\n",
       "}\n",
       "#T_f1b06_row7_col1 {\n",
       "  width: 10em;\n",
       "  height: 80%;\n",
       "  background: linear-gradient(90deg,#4cf 26.4%, transparent 26.4%);\n",
       "}\n",
       "#T_f1b06_row7_col2 {\n",
       "  width: 10em;\n",
       "  height: 80%;\n",
       "  background: linear-gradient(90deg,#4cf 22.6%, transparent 22.6%);\n",
       "}\n",
       "#T_f1b06_row7_col3 {\n",
       "  width: 10em;\n",
       "  height: 80%;\n",
       "  background: linear-gradient(90deg,#4cf 42.2%, transparent 42.2%);\n",
       "}\n",
       "#T_f1b06_row7_col4 {\n",
       "  width: 10em;\n",
       "  height: 80%;\n",
       "  background: linear-gradient(90deg,#4cf 43.9%, transparent 43.9%);\n",
       "}\n",
       "#T_f1b06_row8_col2 {\n",
       "  width: 10em;\n",
       "  height: 80%;\n",
       "  background: linear-gradient(90deg,#4cf 13.5%, transparent 13.5%);\n",
       "}\n",
       "#T_f1b06_row8_col3 {\n",
       "  width: 10em;\n",
       "  height: 80%;\n",
       "  background: linear-gradient(90deg,#4cf 44.5%, transparent 44.5%);\n",
       "}\n",
       "#T_f1b06_row8_col4 {\n",
       "  width: 10em;\n",
       "  height: 80%;\n",
       "  background: linear-gradient(90deg,#4cf 28.8%, transparent 28.8%);\n",
       "}\n",
       "#T_f1b06_row9_col1 {\n",
       "  width: 10em;\n",
       "  height: 80%;\n",
       "  background: linear-gradient(90deg,#4cf 19.5%, transparent 19.5%);\n",
       "}\n",
       "#T_f1b06_row9_col2 {\n",
       "  width: 10em;\n",
       "  height: 80%;\n",
       "  background: linear-gradient(90deg,#4cf 19.6%, transparent 19.6%);\n",
       "}\n",
       "#T_f1b06_row9_col3 {\n",
       "  width: 10em;\n",
       "  height: 80%;\n",
       "  background: linear-gradient(90deg,#4cf 10.9%, transparent 10.9%);\n",
       "}\n",
       "#T_f1b06_row9_col4 {\n",
       "  width: 10em;\n",
       "  height: 80%;\n",
       "  background: linear-gradient(90deg,#4cf 45.5%, transparent 45.5%);\n",
       "}\n",
       "#T_f1b06_row10_col1 {\n",
       "  width: 10em;\n",
       "  height: 80%;\n",
       "  background: linear-gradient(90deg,#4cf 14.6%, transparent 14.6%);\n",
       "}\n",
       "#T_f1b06_row10_col2 {\n",
       "  width: 10em;\n",
       "  height: 80%;\n",
       "  background: linear-gradient(90deg,#4cf 18.9%, transparent 18.9%);\n",
       "}\n",
       "#T_f1b06_row10_col3 {\n",
       "  width: 10em;\n",
       "  height: 80%;\n",
       "  background: linear-gradient(90deg,#4cf 5.3%, transparent 5.3%);\n",
       "}\n",
       "#T_f1b06_row10_col4 {\n",
       "  width: 10em;\n",
       "  height: 80%;\n",
       "  background: linear-gradient(90deg,#4cf 24.2%, transparent 24.2%);\n",
       "}\n",
       "#T_f1b06_row11_col1 {\n",
       "  width: 10em;\n",
       "  height: 80%;\n",
       "  background: linear-gradient(90deg,#4cf 20.4%, transparent 20.4%);\n",
       "}\n",
       "#T_f1b06_row11_col2 {\n",
       "  width: 10em;\n",
       "  height: 80%;\n",
       "  background: linear-gradient(90deg,#4cf 41.2%, transparent 41.2%);\n",
       "}\n",
       "#T_f1b06_row11_col3, #T_f1b06_row12_col1, #T_f1b06_row12_col2, #T_f1b06_row12_col4 {\n",
       "  width: 10em;\n",
       "  height: 80%;\n",
       "  background: linear-gradient(90deg,#4cf 50.0%, transparent 50.0%);\n",
       "}\n",
       "#T_f1b06_row12_col3 {\n",
       "  width: 10em;\n",
       "  height: 80%;\n",
       "  background: linear-gradient(90deg,#4cf 7.5%, transparent 7.5%);\n",
       "}\n",
       "</style>\n",
       "<table id=\"T_f1b06_\">\n",
       "  <thead>\n",
       "    <tr>\n",
       "      <th class=\"col_heading level0 col0\" >title</th>\n",
       "      <th class=\"col_heading level0 col1\" >totalViews</th>\n",
       "      <th class=\"col_heading level0 col2\" >totalVotes</th>\n",
       "      <th class=\"col_heading level0 col3\" >totalLines</th>\n",
       "      <th class=\"col_heading level0 col4\" >totalComments</th>\n",
       "    </tr>\n",
       "  </thead>\n",
       "  <tbody>\n",
       "    <tr>\n",
       "      <td id=\"T_f1b06_row0_col0\" class=\"data row0 col0\" ><a href=\"https://www.kaggle.com/code/azminetoushikwasi/daily-aqi-air-quality-index-scheduled\"  title=\"Language: Python\n",
       "Medal: BRONZE\n",
       "Last run: Tue Aug  2 21:04:31 2022\n",
       "Runtime: 266s\n",
       "Views per vote: 19\">Daily AQI - Air Quality Index [Scheduled]</a></td>\n",
       "      <td id=\"T_f1b06_row0_col1\" class=\"data row0 col1\" >460</td>\n",
       "      <td id=\"T_f1b06_row0_col2\" class=\"data row0 col2\" >23</td>\n",
       "      <td id=\"T_f1b06_row0_col3\" class=\"data row0 col3\" >435</td>\n",
       "      <td id=\"T_f1b06_row0_col4\" class=\"data row0 col4\" >7</td>\n",
       "    </tr>\n",
       "    <tr>\n",
       "      <td id=\"T_f1b06_row1_col0\" class=\"data row1 col0\" ><a href=\"https://www.kaggle.com/code/azminetoushikwasi/classification-comparing-different-algorithms\"  title=\"Language: Python\n",
       "Medal: BRONZE\n",
       "Last run: Tue Aug  2 13:28:24 2022\n",
       "Runtime: 39s\n",
       "Views per vote: 9\">Classification ➡️ Comparing Different Algorithms</a></td>\n",
       "      <td id=\"T_f1b06_row1_col1\" class=\"data row1 col1\" >168</td>\n",
       "      <td id=\"T_f1b06_row1_col2\" class=\"data row1 col2\" >17</td>\n",
       "      <td id=\"T_f1b06_row1_col3\" class=\"data row1 col3\" >324</td>\n",
       "      <td id=\"T_f1b06_row1_col4\" class=\"data row1 col4\" >1</td>\n",
       "    </tr>\n",
       "    <tr>\n",
       "      <td id=\"T_f1b06_row2_col0\" class=\"data row2 col0\" ><a href=\"https://www.kaggle.com/code/azminetoushikwasi/cristiano-ronaldo-goals-eda-analysis\"  title=\"Language: Python\n",
       "Medal: SILVER\n",
       "Last run: Tue Aug  2 00:33:04 2022\n",
       "Runtime: 65s\n",
       "Views per vote: 36\">▶️ Cristiano Ronaldo ⚽ Goals  📊 EDA, Analysis</a></td>\n",
       "      <td id=\"T_f1b06_row2_col1\" class=\"data row2 col1\" >2,210</td>\n",
       "      <td id=\"T_f1b06_row2_col2\" class=\"data row2 col2\" >60</td>\n",
       "      <td id=\"T_f1b06_row2_col3\" class=\"data row2 col3\" >306</td>\n",
       "      <td id=\"T_f1b06_row2_col4\" class=\"data row2 col4\" >33</td>\n",
       "    </tr>\n",
       "    <tr>\n",
       "      <td id=\"T_f1b06_row3_col0\" class=\"data row3 col0\" ><a href=\"https://www.kaggle.com/code/azminetoushikwasi/coursera-eda-insights-sentiment-analysis\"  title=\"Language: Python\n",
       "Medal: SILVER\n",
       "Last run: Sun Jul 31 06:19:38 2022\n",
       "Runtime: 440s\n",
       "Views per vote: 17\">Coursera 📉 EDA, Insights, Sentiment Analysis</a></td>\n",
       "      <td id=\"T_f1b06_row3_col1\" class=\"data row3 col1\" >663</td>\n",
       "      <td id=\"T_f1b06_row3_col2\" class=\"data row3 col2\" >37</td>\n",
       "      <td id=\"T_f1b06_row3_col3\" class=\"data row3 col3\" >414</td>\n",
       "      <td id=\"T_f1b06_row3_col4\" class=\"data row3 col4\" >18</td>\n",
       "    </tr>\n",
       "    <tr>\n",
       "      <td id=\"T_f1b06_row4_col0\" class=\"data row4 col0\" ><a href=\"https://www.kaggle.com/code/azminetoushikwasi/ml-foundation-feature-engineering\"  title=\"Language: Python\n",
       "Medal: SILVER\n",
       "Last run: Fri Jul 29 02:54:57 2022\n",
       "Runtime: 75s\n",
       "Views per vote: 31\">ML Foundation ➡️ Feature Engineering</a></td>\n",
       "      <td id=\"T_f1b06_row4_col1\" class=\"data row4 col1\" >1,648</td>\n",
       "      <td id=\"T_f1b06_row4_col2\" class=\"data row4 col2\" >52</td>\n",
       "      <td id=\"T_f1b06_row4_col3\" class=\"data row4 col3\" >382</td>\n",
       "      <td id=\"T_f1b06_row4_col4\" class=\"data row4 col4\" >18</td>\n",
       "    </tr>\n",
       "    <tr>\n",
       "      <td id=\"T_f1b06_row5_col0\" class=\"data row5 col0\" ><a href=\"https://www.kaggle.com/code/azminetoushikwasi/investment-and-financial-analysis-geoexports\"  title=\"Language: Python\n",
       "Medal: SILVER\n",
       "Last run: Thu Jul 28 09:42:24 2022\n",
       "Runtime: 79s\n",
       "Views per vote: 18\">Investment and Financial Analysis  🏭 GeoExports</a></td>\n",
       "      <td id=\"T_f1b06_row5_col1\" class=\"data row5 col1\" >762</td>\n",
       "      <td id=\"T_f1b06_row5_col2\" class=\"data row5 col2\" >41</td>\n",
       "      <td id=\"T_f1b06_row5_col3\" class=\"data row5 col3\" >461</td>\n",
       "      <td id=\"T_f1b06_row5_col4\" class=\"data row5 col4\" >16</td>\n",
       "    </tr>\n",
       "    <tr>\n",
       "      <td id=\"T_f1b06_row6_col0\" class=\"data row6 col0\" ><a href=\"https://www.kaggle.com/code/azminetoushikwasi/ucl-eda-viz-2021-22-players-teams\"  title=\"Language: Python\n",
       "Medal: GOLD\n",
       "Last run: Wed Jul 27 09:00:24 2022\n",
       "Runtime: 60s\n",
       "Views per vote: 30\">UCL ⚽ EDA & Viz ⭐ 2021-22 ⭐ Players & Teams</a></td>\n",
       "      <td id=\"T_f1b06_row6_col1\" class=\"data row6 col1\" >2,021</td>\n",
       "      <td id=\"T_f1b06_row6_col2\" class=\"data row6 col2\" >67</td>\n",
       "      <td id=\"T_f1b06_row6_col3\" class=\"data row6 col3\" >536</td>\n",
       "      <td id=\"T_f1b06_row6_col4\" class=\"data row6 col4\" >26</td>\n",
       "    </tr>\n",
       "    <tr>\n",
       "      <td id=\"T_f1b06_row7_col0\" class=\"data row7 col0\" ><a href=\"https://www.kaggle.com/code/azminetoushikwasi/ml-foundation-bias-variance-tradeoff\"  title=\"Language: Python\n",
       "Medal: GOLD\n",
       "Last run: Tue Jul 19 01:47:02 2022\n",
       "Runtime: 50s\n",
       "Views per vote: 35\">ML Foundation ➡️ Bias-Variance Tradeoff </a></td>\n",
       "      <td id=\"T_f1b06_row7_col1\" class=\"data row7 col1\" >2,950</td>\n",
       "      <td id=\"T_f1b06_row7_col2\" class=\"data row7 col2\" >84</td>\n",
       "      <td id=\"T_f1b06_row7_col3\" class=\"data row7 col3\" >592</td>\n",
       "      <td id=\"T_f1b06_row7_col4\" class=\"data row7 col4\" >30</td>\n",
       "    </tr>\n",
       "    <tr>\n",
       "      <td id=\"T_f1b06_row8_col0\" class=\"data row8 col0\" ><a href=\"https://www.kaggle.com/code/azminetoushikwasi/divorce-prediction-reasons-analysis-with-pca\"  title=\"Language: Python\n",
       "Medal: GOLD\n",
       "Last run: Sun Jul 17 06:36:10 2022\n",
       "Runtime: 102s\n",
       "Views per vote: 23\">Divorce Prediction & Reasons Analysis with PCA</a></td>\n",
       "      <td id=\"T_f1b06_row8_col1\" class=\"data row8 col1\" >1,348</td>\n",
       "      <td id=\"T_f1b06_row8_col2\" class=\"data row8 col2\" >57</td>\n",
       "      <td id=\"T_f1b06_row8_col3\" class=\"data row8 col3\" >608</td>\n",
       "      <td id=\"T_f1b06_row8_col4\" class=\"data row8 col4\" >20</td>\n",
       "    </tr>\n",
       "    <tr>\n",
       "      <td id=\"T_f1b06_row9_col0\" class=\"data row9 col0\" ><a href=\"https://www.kaggle.com/code/azminetoushikwasi/lionel-messi-extended-eda-goals\"  title=\"Language: Python\n",
       "Medal: GOLD\n",
       "Last run: Sat Jul  9 12:08:22 2022\n",
       "Runtime: 56s\n",
       "Views per vote: 29\">▶️ Lionel Messi 📊 Extended EDA ⚽ Goals </a></td>\n",
       "      <td id=\"T_f1b06_row9_col1\" class=\"data row9 col1\" >2,225</td>\n",
       "      <td id=\"T_f1b06_row9_col2\" class=\"data row9 col2\" >75</td>\n",
       "      <td id=\"T_f1b06_row9_col3\" class=\"data row9 col3\" >380</td>\n",
       "      <td id=\"T_f1b06_row9_col4\" class=\"data row9 col4\" >31</td>\n",
       "    </tr>\n",
       "    <tr>\n",
       "      <td id=\"T_f1b06_row10_col0\" class=\"data row10 col0\" ><a href=\"https://www.kaggle.com/code/azminetoushikwasi/ml-foundation-cross-validation-all-methods\"  title=\"Language: Python\n",
       "Medal: GOLD\n",
       "Last run: Tue Jul  5 04:38:45 2022\n",
       "Runtime: 70s\n",
       "Views per vote: 23\">ML Foundation ➡️ Cross Validation ✅ All Methods</a></td>\n",
       "      <td id=\"T_f1b06_row10_col1\" class=\"data row10 col1\" >1,706</td>\n",
       "      <td id=\"T_f1b06_row10_col2\" class=\"data row10 col2\" >73</td>\n",
       "      <td id=\"T_f1b06_row10_col3\" class=\"data row10 col3\" >342</td>\n",
       "      <td id=\"T_f1b06_row10_col4\" class=\"data row10 col4\" >17</td>\n",
       "    </tr>\n",
       "    <tr>\n",
       "      <td id=\"T_f1b06_row11_col0\" class=\"data row11 col0\" ><a href=\"https://www.kaggle.com/code/azminetoushikwasi/ml-foundation-clustering-techniques-algorithms\"  title=\"Language: Python\n",
       "Medal: GOLD\n",
       "Last run: Fri Jul  1 18:28:34 2022\n",
       "Runtime: 6s\n",
       "Views per vote: 17\">ML Foundation ➡️ Clustering Techniques, Algorithms</a></td>\n",
       "      <td id=\"T_f1b06_row11_col1\" class=\"data row11 col1\" >2,321</td>\n",
       "      <td id=\"T_f1b06_row11_col2\" class=\"data row11 col2\" >139</td>\n",
       "      <td id=\"T_f1b06_row11_col3\" class=\"data row11 col3\" >645</td>\n",
       "      <td id=\"T_f1b06_row11_col4\" class=\"data row11 col4\" >18</td>\n",
       "    </tr>\n",
       "    <tr>\n",
       "      <td id=\"T_f1b06_row12_col0\" class=\"data row12 col0\" ><a href=\"https://www.kaggle.com/code/azminetoushikwasi/ml-foundation-imputation-all-techniques\"  title=\"Language: Python\n",
       "Medal: GOLD\n",
       "Last run: Fri Jul  1 08:32:21 2022\n",
       "Runtime: 85s\n",
       "Views per vote: 33\">ML Foundation ➡️ Imputation : All Techniques</a></td>\n",
       "      <td id=\"T_f1b06_row12_col1\" class=\"data row12 col1\" >5,440</td>\n",
       "      <td id=\"T_f1b06_row12_col2\" class=\"data row12 col2\" >165</td>\n",
       "      <td id=\"T_f1b06_row12_col3\" class=\"data row12 col3\" >357</td>\n",
       "      <td id=\"T_f1b06_row12_col4\" class=\"data row12 col4\" >34</td>\n",
       "    </tr>\n",
       "  </tbody>\n",
       "</table>\n"
      ],
      "text/plain": [
       "<pandas.io.formats.style.Styler at 0x25dc52baa60>"
      ]
     },
     "execution_count": 6,
     "metadata": {},
     "output_type": "execute_result"
    }
   ],
   "source": [
    "display(Markdown(f'# Notebooks by {df.author_displayName.get(0)}'))\n",
    "df['viewsPerVote'] = df.eval('(totalViews+1)/(totalVotes+1)')\n",
    "df['lastRun'] = pd.to_datetime(df.lastRunTime).dt.strftime('%c')\n",
    "stats = ['totalViews', 'totalVotes', 'totalLines', 'totalComments']\n",
    "links = ('<a href=\"https://www.kaggle.com' + df.scriptUrl + '\" '\n",
    "         + ' title=\"'\n",
    "         + 'Language: ' + df.languageName.fillna('N/A') + '\\n'\n",
    "         + 'Medal: ' + df.medal.fillna('N/A') + '\\n'\n",
    "         + 'Last run: ' + df.lastRun + '\\n'\n",
    "         + 'Runtime: ' + df.lastRunExecutionTimeSeconds.map(str) + 's' + '\\n'\n",
    "         + 'Views per vote: ' + df.eval('(totalViews+1)/(totalVotes+1)').apply(lambda x: f'{x:,.0f}')\n",
    "         + '\">' # end title=\"...\"\n",
    "         + df.title\n",
    "         + '</a>')\n",
    "show = df[['title'] + stats].copy()\n",
    "show['title'] = links\n",
    "show.style.format({k:'{:,.0f}' for k in stats}, na_rep=\"\").hide_index().bar(width=50, color='#4cf')"
   ]
  },
  {
   "cell_type": "code",
   "execution_count": 7,
   "id": "112b6326",
   "metadata": {},
   "outputs": [],
   "source": [
    "df['medal'].fillna('N/A', inplace=True)\n",
    "medal_data=df[['medal','title']].set_index('title')\n",
    "medal_data=medal_data.to_dict(orient='index')"
   ]
  },
  {
   "cell_type": "markdown",
   "id": "ad6989db",
   "metadata": {
    "papermill": {
     "duration": 0.006343,
     "end_time": "2022-06-12T00:06:04.064594",
     "exception": false,
     "start_time": "2022-06-12T00:06:04.058251",
     "status": "completed"
    },
    "tags": []
   },
   "source": [
    "# Plotly Scatter Plot\n",
    "\n",
    "You may want to tweak these settings depending on how many notebooks you have...\n"
   ]
  },
  {
   "cell_type": "code",
   "execution_count": 8,
   "id": "b5af83c5",
   "metadata": {
    "_kg_hide-input": true,
    "execution": {
     "iopub.execute_input": "2022-06-12T00:06:04.079824Z",
     "iopub.status.busy": "2022-06-12T00:06:04.079134Z",
     "iopub.status.idle": "2022-06-12T00:06:08.110631Z",
     "shell.execute_reply": "2022-06-12T00:06:08.109685Z"
    },
    "papermill": {
     "duration": 4.041848,
     "end_time": "2022-06-12T00:06:08.112985",
     "exception": false,
     "start_time": "2022-06-12T00:06:04.071137",
     "status": "completed"
    },
    "tags": []
   },
   "outputs": [
    {
     "data": {
      "application/vnd.plotly.v1+json": {
       "config": {
        "plotlyServerURL": "https://plot.ly"
       },
       "data": [
        {
         "customdata": [
          [
           7,
           435,
           7,
           19.208333333333332,
           "Python",
           20,
           "Tue Aug  2 21:04:31 2022",
           266,
           "BRONZE"
          ],
          [
           1,
           324,
           1,
           9.38888888888889,
           "Python",
           3,
           "Tue Aug  2 13:28:24 2022",
           39,
           "BRONZE"
          ]
         ],
         "hovertemplate": "<b>%{hovertext}</b><br><br>medal=%{customdata[8]}<br>totalViews=%{x:,.0f}<br>totalVotes=%{y:,.0f}<br>totalLines=%{customdata[1]:,.0f}<br>totalComments=%{customdata[2]:,.0f}<br>viewsPerVote=%{customdata[3]:,.0f}<br>languageName=%{customdata[4]}<br>versionNumber=%{customdata[5]}<br>lastRun=%{customdata[6]}<br>lastRunExecutionTimeSeconds=%{customdata[7]:,.0f}<extra></extra>",
         "hovertext": [
          "Daily AQI - Air Quality Index [Scheduled]",
          "Classification ➡️ Comparing Different Algorithms"
         ],
         "legendgroup": "BRONZE",
         "marker": {
          "color": "chocolate",
          "size": [
           7,
           1
          ],
          "sizemode": "area",
          "sizeref": 0.085,
          "symbol": "circle"
         },
         "mode": "markers",
         "name": "BRONZE",
         "orientation": "v",
         "showlegend": true,
         "type": "scatter",
         "x": [
          460,
          168
         ],
         "xaxis": "x",
         "y": [
          23,
          17
         ],
         "yaxis": "y"
        },
        {
         "hovertemplate": "<b>OLS trendline</b><br>totalVotes = 0.0205479 * totalViews + 13.5479<br>R<sup>2</sup>=1.000000<br><br>medal=BRONZE<br>totalViews=%{x:,.0f}<br>totalVotes=%{y:,.0f} <b>(trend)</b><extra></extra>",
         "legendgroup": "BRONZE",
         "marker": {
          "color": "chocolate",
          "symbol": "circle"
         },
         "mode": "lines",
         "name": "BRONZE",
         "showlegend": false,
         "type": "scatter",
         "x": [
          168,
          460
         ],
         "xaxis": "x",
         "y": [
          16.999999999999993,
          22.999999999999993
         ],
         "yaxis": "y"
        },
        {
         "customdata": [
          [
           33,
           306,
           33,
           36.24590163934426,
           "Python",
           15,
           "Tue Aug  2 00:33:04 2022",
           65,
           "SILVER"
          ],
          [
           18,
           414,
           18,
           17.473684210526315,
           "Python",
           18,
           "Sun Jul 31 06:19:38 2022",
           440,
           "SILVER"
          ],
          [
           18,
           382,
           18,
           31.11320754716981,
           "Python",
           12,
           "Fri Jul 29 02:54:57 2022",
           75,
           "SILVER"
          ],
          [
           16,
           461,
           16,
           18.166666666666668,
           "Python",
           17,
           "Thu Jul 28 09:42:24 2022",
           79,
           "SILVER"
          ]
         ],
         "hovertemplate": "<b>%{hovertext}</b><br><br>medal=%{customdata[8]}<br>totalViews=%{x:,.0f}<br>totalVotes=%{y:,.0f}<br>totalLines=%{customdata[1]:,.0f}<br>totalComments=%{customdata[2]:,.0f}<br>viewsPerVote=%{customdata[3]:,.0f}<br>languageName=%{customdata[4]}<br>versionNumber=%{customdata[5]}<br>lastRun=%{customdata[6]}<br>lastRunExecutionTimeSeconds=%{customdata[7]:,.0f}<extra></extra>",
         "hovertext": [
          "▶️ Cristiano Ronaldo ⚽ Goals  📊 EDA, Analysis",
          "Coursera 📉 EDA, Insights, Sentiment Analysis",
          "ML Foundation ➡️ Feature Engineering",
          "Investment and Financial Analysis  🏭 GeoExports"
         ],
         "legendgroup": "SILVER",
         "marker": {
          "color": "silver",
          "size": [
           33,
           18,
           18,
           16
          ],
          "sizemode": "area",
          "sizeref": 0.085,
          "symbol": "circle"
         },
         "mode": "markers",
         "name": "SILVER",
         "orientation": "v",
         "showlegend": true,
         "type": "scatter",
         "x": [
          2210,
          663,
          1648,
          762
         ],
         "xaxis": "x",
         "y": [
          60,
          37,
          52,
          41
         ],
         "yaxis": "y"
        },
        {
         "hovertemplate": "<b>OLS trendline</b><br>totalVotes = 0.0140784 * totalViews + 28.906<br>R<sup>2</sup>=0.989617<br><br>medal=SILVER<br>totalViews=%{x:,.0f}<br>totalVotes=%{y:,.0f} <b>(trend)</b><extra></extra>",
         "legendgroup": "SILVER",
         "marker": {
          "color": "silver",
          "symbol": "circle"
         },
         "mode": "lines",
         "name": "SILVER",
         "showlegend": false,
         "type": "scatter",
         "x": [
          663,
          762,
          1648,
          2210
         ],
         "xaxis": "x",
         "y": [
          38.23993791299328,
          39.6336986832155,
          52.10715365712346,
          60.01920974666779
         ],
         "yaxis": "y"
        },
        {
         "customdata": [
          [
           26,
           536,
           26,
           29.735294117647058,
           "Python",
           16,
           "Wed Jul 27 09:00:24 2022",
           60,
           "GOLD"
          ],
          [
           30,
           592,
           30,
           34.71764705882353,
           "Python",
           14,
           "Tue Jul 19 01:47:02 2022",
           50,
           "GOLD"
          ],
          [
           20,
           608,
           20,
           23.25862068965517,
           "Python",
           19,
           "Sun Jul 17 06:36:10 2022",
           102,
           "GOLD"
          ],
          [
           31,
           380,
           31,
           29.289473684210527,
           "Python",
           13,
           "Sat Jul  9 12:08:22 2022",
           56,
           "GOLD"
          ],
          [
           17,
           342,
           17,
           23.06756756756757,
           "Python",
           14,
           "Tue Jul  5 04:38:45 2022",
           70,
           "GOLD"
          ],
          [
           18,
           645,
           18,
           16.585714285714285,
           "Python",
           1,
           "Fri Jul  1 18:28:34 2022",
           6,
           "GOLD"
          ],
          [
           34,
           357,
           34,
           32.77710843373494,
           "Python",
           7,
           "Fri Jul  1 08:32:21 2022",
           85,
           "GOLD"
          ]
         ],
         "hovertemplate": "<b>%{hovertext}</b><br><br>medal=%{customdata[8]}<br>totalViews=%{x:,.0f}<br>totalVotes=%{y:,.0f}<br>totalLines=%{customdata[1]:,.0f}<br>totalComments=%{customdata[2]:,.0f}<br>viewsPerVote=%{customdata[3]:,.0f}<br>languageName=%{customdata[4]}<br>versionNumber=%{customdata[5]}<br>lastRun=%{customdata[6]}<br>lastRunExecutionTimeSeconds=%{customdata[7]:,.0f}<extra></extra>",
         "hovertext": [
          "UCL ⚽ EDA & Viz ⭐ 2021-22 ⭐ Players & Teams",
          "ML Foundation ➡️ Bias-Variance Tradeoff ",
          "Divorce Prediction & Reasons Analysis with PCA",
          "▶️ Lionel Messi 📊 Extended EDA ⚽ Goals ",
          "ML Foundation ➡️ Cross Validation ✅ All Methods",
          "ML Foundation ➡️ Clustering Techniques, Algorithms",
          "ML Foundation ➡️ Imputation : All Techniques"
         ],
         "legendgroup": "GOLD",
         "marker": {
          "color": "gold",
          "size": [
           26,
           30,
           20,
           31,
           17,
           18,
           34
          ],
          "sizemode": "area",
          "sizeref": 0.085,
          "symbol": "circle"
         },
         "mode": "markers",
         "name": "GOLD",
         "orientation": "v",
         "showlegend": true,
         "type": "scatter",
         "x": [
          2021,
          2950,
          1348,
          2225,
          1706,
          2321,
          5440
         ],
         "xaxis": "x",
         "y": [
          67,
          84,
          57,
          75,
          73,
          139,
          165
         ],
         "yaxis": "y"
        },
        {
         "hovertemplate": "<b>OLS trendline</b><br>totalVotes = 0.0246315 * totalViews + 30.9087<br>R<sup>2</sup>=0.669281<br><br>medal=GOLD<br>totalViews=%{x:,.0f}<br>totalVotes=%{y:,.0f} <b>(trend)</b><extra></extra>",
         "legendgroup": "GOLD",
         "marker": {
          "color": "gold",
          "symbol": "circle"
         },
         "mode": "lines",
         "name": "GOLD",
         "showlegend": false,
         "type": "scatter",
         "x": [
          1348,
          1706,
          2021,
          2225,
          2321,
          2950,
          5440
         ],
         "xaxis": "x",
         "y": [
          64.11206951387594,
          72.93016325127849,
          80.68910047832264,
          85.71393601583694,
          88.07856450407897,
          103.57180741141474,
          164.90435882519228
         ],
         "yaxis": "y"
        }
       ],
       "layout": {
        "height": 600,
        "legend": {
         "itemsizing": "constant",
         "title": {
          "text": "medal"
         },
         "tracegroupgap": 0
        },
        "template": {
         "data": {
          "bar": [
           {
            "error_x": {
             "color": "#2a3f5f"
            },
            "error_y": {
             "color": "#2a3f5f"
            },
            "marker": {
             "line": {
              "color": "#E5ECF6",
              "width": 0.5
             },
             "pattern": {
              "fillmode": "overlay",
              "size": 10,
              "solidity": 0.2
             }
            },
            "type": "bar"
           }
          ],
          "barpolar": [
           {
            "marker": {
             "line": {
              "color": "#E5ECF6",
              "width": 0.5
             },
             "pattern": {
              "fillmode": "overlay",
              "size": 10,
              "solidity": 0.2
             }
            },
            "type": "barpolar"
           }
          ],
          "carpet": [
           {
            "aaxis": {
             "endlinecolor": "#2a3f5f",
             "gridcolor": "white",
             "linecolor": "white",
             "minorgridcolor": "white",
             "startlinecolor": "#2a3f5f"
            },
            "baxis": {
             "endlinecolor": "#2a3f5f",
             "gridcolor": "white",
             "linecolor": "white",
             "minorgridcolor": "white",
             "startlinecolor": "#2a3f5f"
            },
            "type": "carpet"
           }
          ],
          "choropleth": [
           {
            "colorbar": {
             "outlinewidth": 0,
             "ticks": ""
            },
            "type": "choropleth"
           }
          ],
          "contour": [
           {
            "colorbar": {
             "outlinewidth": 0,
             "ticks": ""
            },
            "colorscale": [
             [
              0,
              "#0d0887"
             ],
             [
              0.1111111111111111,
              "#46039f"
             ],
             [
              0.2222222222222222,
              "#7201a8"
             ],
             [
              0.3333333333333333,
              "#9c179e"
             ],
             [
              0.4444444444444444,
              "#bd3786"
             ],
             [
              0.5555555555555556,
              "#d8576b"
             ],
             [
              0.6666666666666666,
              "#ed7953"
             ],
             [
              0.7777777777777778,
              "#fb9f3a"
             ],
             [
              0.8888888888888888,
              "#fdca26"
             ],
             [
              1,
              "#f0f921"
             ]
            ],
            "type": "contour"
           }
          ],
          "contourcarpet": [
           {
            "colorbar": {
             "outlinewidth": 0,
             "ticks": ""
            },
            "type": "contourcarpet"
           }
          ],
          "heatmap": [
           {
            "colorbar": {
             "outlinewidth": 0,
             "ticks": ""
            },
            "colorscale": [
             [
              0,
              "#0d0887"
             ],
             [
              0.1111111111111111,
              "#46039f"
             ],
             [
              0.2222222222222222,
              "#7201a8"
             ],
             [
              0.3333333333333333,
              "#9c179e"
             ],
             [
              0.4444444444444444,
              "#bd3786"
             ],
             [
              0.5555555555555556,
              "#d8576b"
             ],
             [
              0.6666666666666666,
              "#ed7953"
             ],
             [
              0.7777777777777778,
              "#fb9f3a"
             ],
             [
              0.8888888888888888,
              "#fdca26"
             ],
             [
              1,
              "#f0f921"
             ]
            ],
            "type": "heatmap"
           }
          ],
          "heatmapgl": [
           {
            "colorbar": {
             "outlinewidth": 0,
             "ticks": ""
            },
            "colorscale": [
             [
              0,
              "#0d0887"
             ],
             [
              0.1111111111111111,
              "#46039f"
             ],
             [
              0.2222222222222222,
              "#7201a8"
             ],
             [
              0.3333333333333333,
              "#9c179e"
             ],
             [
              0.4444444444444444,
              "#bd3786"
             ],
             [
              0.5555555555555556,
              "#d8576b"
             ],
             [
              0.6666666666666666,
              "#ed7953"
             ],
             [
              0.7777777777777778,
              "#fb9f3a"
             ],
             [
              0.8888888888888888,
              "#fdca26"
             ],
             [
              1,
              "#f0f921"
             ]
            ],
            "type": "heatmapgl"
           }
          ],
          "histogram": [
           {
            "marker": {
             "pattern": {
              "fillmode": "overlay",
              "size": 10,
              "solidity": 0.2
             }
            },
            "type": "histogram"
           }
          ],
          "histogram2d": [
           {
            "colorbar": {
             "outlinewidth": 0,
             "ticks": ""
            },
            "colorscale": [
             [
              0,
              "#0d0887"
             ],
             [
              0.1111111111111111,
              "#46039f"
             ],
             [
              0.2222222222222222,
              "#7201a8"
             ],
             [
              0.3333333333333333,
              "#9c179e"
             ],
             [
              0.4444444444444444,
              "#bd3786"
             ],
             [
              0.5555555555555556,
              "#d8576b"
             ],
             [
              0.6666666666666666,
              "#ed7953"
             ],
             [
              0.7777777777777778,
              "#fb9f3a"
             ],
             [
              0.8888888888888888,
              "#fdca26"
             ],
             [
              1,
              "#f0f921"
             ]
            ],
            "type": "histogram2d"
           }
          ],
          "histogram2dcontour": [
           {
            "colorbar": {
             "outlinewidth": 0,
             "ticks": ""
            },
            "colorscale": [
             [
              0,
              "#0d0887"
             ],
             [
              0.1111111111111111,
              "#46039f"
             ],
             [
              0.2222222222222222,
              "#7201a8"
             ],
             [
              0.3333333333333333,
              "#9c179e"
             ],
             [
              0.4444444444444444,
              "#bd3786"
             ],
             [
              0.5555555555555556,
              "#d8576b"
             ],
             [
              0.6666666666666666,
              "#ed7953"
             ],
             [
              0.7777777777777778,
              "#fb9f3a"
             ],
             [
              0.8888888888888888,
              "#fdca26"
             ],
             [
              1,
              "#f0f921"
             ]
            ],
            "type": "histogram2dcontour"
           }
          ],
          "mesh3d": [
           {
            "colorbar": {
             "outlinewidth": 0,
             "ticks": ""
            },
            "type": "mesh3d"
           }
          ],
          "parcoords": [
           {
            "line": {
             "colorbar": {
              "outlinewidth": 0,
              "ticks": ""
             }
            },
            "type": "parcoords"
           }
          ],
          "pie": [
           {
            "automargin": true,
            "type": "pie"
           }
          ],
          "scatter": [
           {
            "fillpattern": {
             "fillmode": "overlay",
             "size": 10,
             "solidity": 0.2
            },
            "type": "scatter"
           }
          ],
          "scatter3d": [
           {
            "line": {
             "colorbar": {
              "outlinewidth": 0,
              "ticks": ""
             }
            },
            "marker": {
             "colorbar": {
              "outlinewidth": 0,
              "ticks": ""
             }
            },
            "type": "scatter3d"
           }
          ],
          "scattercarpet": [
           {
            "marker": {
             "colorbar": {
              "outlinewidth": 0,
              "ticks": ""
             }
            },
            "type": "scattercarpet"
           }
          ],
          "scattergeo": [
           {
            "marker": {
             "colorbar": {
              "outlinewidth": 0,
              "ticks": ""
             }
            },
            "type": "scattergeo"
           }
          ],
          "scattergl": [
           {
            "marker": {
             "colorbar": {
              "outlinewidth": 0,
              "ticks": ""
             }
            },
            "type": "scattergl"
           }
          ],
          "scattermapbox": [
           {
            "marker": {
             "colorbar": {
              "outlinewidth": 0,
              "ticks": ""
             }
            },
            "type": "scattermapbox"
           }
          ],
          "scatterpolar": [
           {
            "marker": {
             "colorbar": {
              "outlinewidth": 0,
              "ticks": ""
             }
            },
            "type": "scatterpolar"
           }
          ],
          "scatterpolargl": [
           {
            "marker": {
             "colorbar": {
              "outlinewidth": 0,
              "ticks": ""
             }
            },
            "type": "scatterpolargl"
           }
          ],
          "scatterternary": [
           {
            "marker": {
             "colorbar": {
              "outlinewidth": 0,
              "ticks": ""
             }
            },
            "type": "scatterternary"
           }
          ],
          "surface": [
           {
            "colorbar": {
             "outlinewidth": 0,
             "ticks": ""
            },
            "colorscale": [
             [
              0,
              "#0d0887"
             ],
             [
              0.1111111111111111,
              "#46039f"
             ],
             [
              0.2222222222222222,
              "#7201a8"
             ],
             [
              0.3333333333333333,
              "#9c179e"
             ],
             [
              0.4444444444444444,
              "#bd3786"
             ],
             [
              0.5555555555555556,
              "#d8576b"
             ],
             [
              0.6666666666666666,
              "#ed7953"
             ],
             [
              0.7777777777777778,
              "#fb9f3a"
             ],
             [
              0.8888888888888888,
              "#fdca26"
             ],
             [
              1,
              "#f0f921"
             ]
            ],
            "type": "surface"
           }
          ],
          "table": [
           {
            "cells": {
             "fill": {
              "color": "#EBF0F8"
             },
             "line": {
              "color": "white"
             }
            },
            "header": {
             "fill": {
              "color": "#C8D4E3"
             },
             "line": {
              "color": "white"
             }
            },
            "type": "table"
           }
          ]
         },
         "layout": {
          "annotationdefaults": {
           "arrowcolor": "#2a3f5f",
           "arrowhead": 0,
           "arrowwidth": 1
          },
          "autotypenumbers": "strict",
          "coloraxis": {
           "colorbar": {
            "outlinewidth": 0,
            "ticks": ""
           }
          },
          "colorscale": {
           "diverging": [
            [
             0,
             "#8e0152"
            ],
            [
             0.1,
             "#c51b7d"
            ],
            [
             0.2,
             "#de77ae"
            ],
            [
             0.3,
             "#f1b6da"
            ],
            [
             0.4,
             "#fde0ef"
            ],
            [
             0.5,
             "#f7f7f7"
            ],
            [
             0.6,
             "#e6f5d0"
            ],
            [
             0.7,
             "#b8e186"
            ],
            [
             0.8,
             "#7fbc41"
            ],
            [
             0.9,
             "#4d9221"
            ],
            [
             1,
             "#276419"
            ]
           ],
           "sequential": [
            [
             0,
             "#0d0887"
            ],
            [
             0.1111111111111111,
             "#46039f"
            ],
            [
             0.2222222222222222,
             "#7201a8"
            ],
            [
             0.3333333333333333,
             "#9c179e"
            ],
            [
             0.4444444444444444,
             "#bd3786"
            ],
            [
             0.5555555555555556,
             "#d8576b"
            ],
            [
             0.6666666666666666,
             "#ed7953"
            ],
            [
             0.7777777777777778,
             "#fb9f3a"
            ],
            [
             0.8888888888888888,
             "#fdca26"
            ],
            [
             1,
             "#f0f921"
            ]
           ],
           "sequentialminus": [
            [
             0,
             "#0d0887"
            ],
            [
             0.1111111111111111,
             "#46039f"
            ],
            [
             0.2222222222222222,
             "#7201a8"
            ],
            [
             0.3333333333333333,
             "#9c179e"
            ],
            [
             0.4444444444444444,
             "#bd3786"
            ],
            [
             0.5555555555555556,
             "#d8576b"
            ],
            [
             0.6666666666666666,
             "#ed7953"
            ],
            [
             0.7777777777777778,
             "#fb9f3a"
            ],
            [
             0.8888888888888888,
             "#fdca26"
            ],
            [
             1,
             "#f0f921"
            ]
           ]
          },
          "colorway": [
           "#636efa",
           "#EF553B",
           "#00cc96",
           "#ab63fa",
           "#FFA15A",
           "#19d3f3",
           "#FF6692",
           "#B6E880",
           "#FF97FF",
           "#FECB52"
          ],
          "font": {
           "color": "#2a3f5f"
          },
          "geo": {
           "bgcolor": "white",
           "lakecolor": "white",
           "landcolor": "#E5ECF6",
           "showlakes": true,
           "showland": true,
           "subunitcolor": "white"
          },
          "hoverlabel": {
           "align": "left"
          },
          "hovermode": "closest",
          "mapbox": {
           "style": "light"
          },
          "paper_bgcolor": "white",
          "plot_bgcolor": "#E5ECF6",
          "polar": {
           "angularaxis": {
            "gridcolor": "white",
            "linecolor": "white",
            "ticks": ""
           },
           "bgcolor": "#E5ECF6",
           "radialaxis": {
            "gridcolor": "white",
            "linecolor": "white",
            "ticks": ""
           }
          },
          "scene": {
           "xaxis": {
            "backgroundcolor": "#E5ECF6",
            "gridcolor": "white",
            "gridwidth": 2,
            "linecolor": "white",
            "showbackground": true,
            "ticks": "",
            "zerolinecolor": "white"
           },
           "yaxis": {
            "backgroundcolor": "#E5ECF6",
            "gridcolor": "white",
            "gridwidth": 2,
            "linecolor": "white",
            "showbackground": true,
            "ticks": "",
            "zerolinecolor": "white"
           },
           "zaxis": {
            "backgroundcolor": "#E5ECF6",
            "gridcolor": "white",
            "gridwidth": 2,
            "linecolor": "white",
            "showbackground": true,
            "ticks": "",
            "zerolinecolor": "white"
           }
          },
          "shapedefaults": {
           "line": {
            "color": "#2a3f5f"
           }
          },
          "ternary": {
           "aaxis": {
            "gridcolor": "white",
            "linecolor": "white",
            "ticks": ""
           },
           "baxis": {
            "gridcolor": "white",
            "linecolor": "white",
            "ticks": ""
           },
           "bgcolor": "#E5ECF6",
           "caxis": {
            "gridcolor": "white",
            "linecolor": "white",
            "ticks": ""
           }
          },
          "title": {
           "x": 0.05
          },
          "xaxis": {
           "automargin": true,
           "gridcolor": "white",
           "linecolor": "white",
           "ticks": "",
           "title": {
            "standoff": 15
           },
           "zerolinecolor": "white",
           "zerolinewidth": 2
          },
          "yaxis": {
           "automargin": true,
           "gridcolor": "white",
           "linecolor": "white",
           "ticks": "",
           "title": {
            "standoff": 15
           },
           "zerolinecolor": "white",
           "zerolinewidth": 2
          }
         }
        },
        "title": {
         "text": "Notebooks by Azmine Toushik Wasi Today 2022-08-03"
        },
        "xaxis": {
         "anchor": "y",
         "domain": [
          0,
          1
         ],
         "title": {
          "text": "totalViews"
         }
        },
        "yaxis": {
         "anchor": "x",
         "domain": [
          0,
          1
         ],
         "title": {
          "text": "totalVotes"
         }
        }
       }
      }
     },
     "metadata": {},
     "output_type": "display_data"
    }
   ],
   "source": [
    "import plotly.express as px\n",
    "from datetime import datetime\n",
    "\n",
    "\n",
    "df['totalComments'].fillna(0, inplace=True)\n",
    "df['medal'].fillna('N/A', inplace=True)\n",
    "df['size'] = df['totalComments'].clip(lower=1)\n",
    "color_map = {\n",
    "    'GOLD': 'gold',\n",
    "    'SILVER': 'silver',\n",
    "    'BRONZE': 'chocolate',\n",
    "    'N/A': '#333'\n",
    "}\n",
    "px.scatter(\n",
    "    df,\n",
    "    'totalViews',\n",
    "    'totalVotes',\n",
    "    title=f'Notebooks by {df.author_displayName.get(0)} Today '+str(datetime.today().strftime('%Y-%m-%d')),\n",
    "    log_x=False,\n",
    "    log_y=False,\n",
    "    #width=800, \n",
    "    height=600,\n",
    "    color='medal',\n",
    "    color_discrete_map=color_map,\n",
    "    size='size',\n",
    "    trendline='ols',\n",
    "    trendline_options=dict(log_x=False, log_y=False, add_constant=True),\n",
    "    #trendline='lowess', # Use for Locally Weighted Scatterplot Smoothing line\n",
    "    #trendline_scope='overall', # Use this for one trendline\n",
    "    hover_name='title',\n",
    "    hover_data={\n",
    "        'size': False,\n",
    "        'totalViews': ':,.0f',\n",
    "        'totalVotes': ':,.0f',\n",
    "        'totalLines': ':,.0f',\n",
    "        'totalComments': ':,.0f',\n",
    "        'viewsPerVote': ':,.0f',\n",
    "        'languageName': True,\n",
    "        'versionNumber': True,\n",
    "        'lastRun': True,\n",
    "        'lastRunExecutionTimeSeconds': ':,.0f',\n",
    "        'medal': True,\n",
    "    })"
   ]
  },
  {
   "cell_type": "code",
   "execution_count": 9,
   "id": "aab79752",
   "metadata": {},
   "outputs": [],
   "source": [
    "links=[]\n",
    "for dirname, _, filenames in os.walk('./data/'):\n",
    "    for filename in filenames:\n",
    "        link=os.path.join(dirname, filename)\n",
    "        if filename.endswith(\".csv\"):\n",
    "            links.append(link)"
   ]
  },
  {
   "cell_type": "code",
   "execution_count": 10,
   "id": "b382656d",
   "metadata": {},
   "outputs": [
    {
     "data": {
      "application/vnd.plotly.v1+json": {
       "config": {
        "plotlyServerURL": "https://plot.ly"
       },
       "data": [
        {
         "hovertemplate": "<b>%{hovertext}</b><br><br>medal=SILVER<br>totalViews=%{x}<br>totalVotes=%{y}<br>size=%{marker.size}<extra></extra>",
         "hovertext": [
          "▶️ Cristiano Ronaldo ⚽ Goals  📊 EDA, Analysis",
          "Coursera 📉 EDA, Insights, Sentiment Analysis",
          "ML Foundation ➡️ Feature Engineering",
          "Investment and Financial Analysis  🏭 GeoExports"
         ],
         "legendgroup": "SILVER",
         "marker": {
          "color": "silver",
          "size": [
           33,
           17,
           17,
           15
          ],
          "sizemode": "area",
          "sizeref": 0.085,
          "symbol": "circle"
         },
         "mode": "markers",
         "name": "SILVER",
         "orientation": "v",
         "showlegend": true,
         "type": "scatter",
         "x": [
          2186,
          652,
          1591,
          757
         ],
         "xaxis": "x",
         "y": [
          60,
          36,
          51,
          39
         ],
         "yaxis": "y"
        },
        {
         "hovertemplate": "<b>OLS trendline</b><br>totalVotes = 0.0152407 * totalViews + 26.7405<br>R<sup>2</sup>=0.997333<br><br>medal=SILVER<br>totalViews=%{x}<br>totalVotes=%{y} <b>(trend)</b><extra></extra>",
         "legendgroup": "SILVER",
         "marker": {
          "color": "silver",
          "symbol": "circle"
         },
         "mode": "lines",
         "name": "SILVER",
         "showlegend": false,
         "type": "scatter",
         "x": [
          652,
          757,
          1591,
          2186
         ],
         "xaxis": "x",
         "y": [
          36.67739956487738,
          38.27766806090201,
          50.98837211504049,
          60.05656025918006
         ],
         "yaxis": "y"
        },
        {
         "hovertemplate": "<b>%{hovertext}</b><br><br>medal=BRONZE<br>totalViews=%{x}<br>totalVotes=%{y}<br>size=%{marker.size}<extra></extra>",
         "hovertext": [
          "Daily AQI - Air Quality Index [Scheduled]"
         ],
         "legendgroup": "BRONZE",
         "marker": {
          "color": "chocolate",
          "size": [
           7
          ],
          "sizemode": "area",
          "sizeref": 0.085,
          "symbol": "circle"
         },
         "mode": "markers",
         "name": "BRONZE",
         "orientation": "v",
         "showlegend": true,
         "type": "scatter",
         "x": [
          436
         ],
         "xaxis": "x",
         "y": [
          23
         ],
         "yaxis": "y"
        },
        {
         "hovertemplate": "medal=BRONZE<extra></extra>",
         "legendgroup": "BRONZE",
         "marker": {
          "color": "chocolate",
          "symbol": "circle"
         },
         "mode": "lines",
         "name": "BRONZE",
         "showlegend": false,
         "type": "scatter",
         "xaxis": "x",
         "yaxis": "y"
        },
        {
         "hovertemplate": "<b>%{hovertext}</b><br><br>medal=N/A<br>totalViews=%{x}<br>totalVotes=%{y}<br>size=%{marker.size}<extra></extra>",
         "hovertext": [
          "Classification ➡️ Comparing Different Algorithms"
         ],
         "legendgroup": "N/A",
         "marker": {
          "color": "#333",
          "size": [
           1
          ],
          "sizemode": "area",
          "sizeref": 0.085,
          "symbol": "circle"
         },
         "mode": "markers",
         "name": "N/A",
         "orientation": "v",
         "showlegend": true,
         "type": "scatter",
         "x": [
          85
         ],
         "xaxis": "x",
         "y": [
          7
         ],
         "yaxis": "y"
        },
        {
         "hovertemplate": "medal=N/A<extra></extra>",
         "legendgroup": "N/A",
         "marker": {
          "color": "#333",
          "symbol": "circle"
         },
         "mode": "lines",
         "name": "N/A",
         "showlegend": false,
         "type": "scatter",
         "xaxis": "x",
         "yaxis": "y"
        },
        {
         "hovertemplate": "<b>%{hovertext}</b><br><br>medal=GOLD<br>totalViews=%{x}<br>totalVotes=%{y}<br>size=%{marker.size}<extra></extra>",
         "hovertext": [
          "UCL ⚽ EDA & Viz ⭐ 2021-22 ⭐ Players & Teams",
          "ML Foundation ➡️ Bias-Variance Tradeoff ",
          "Divorce Prediction & Reasons Analysis with PCA",
          "▶️ Lionel Messi 📊 Extended EDA ⚽ Goals ",
          "ML Foundation ➡️ Cross Validation ✅ All Methods",
          "ML Foundation ➡️ Clustering Techniques, Algorithms",
          "ML Foundation ➡️ Imputation : All Techniques"
         ],
         "legendgroup": "GOLD",
         "marker": {
          "color": "gold",
          "size": [
           26,
           30,
           20,
           31,
           17,
           18,
           34
          ],
          "sizemode": "area",
          "sizeref": 0.085,
          "symbol": "circle"
         },
         "mode": "markers",
         "name": "GOLD",
         "orientation": "v",
         "showlegend": true,
         "type": "scatter",
         "x": [
          2007,
          2873,
          1325,
          2200,
          1690,
          2293,
          5393
         ],
         "xaxis": "x",
         "y": [
          67,
          84,
          57,
          75,
          72,
          139,
          165
         ],
         "yaxis": "y"
        },
        {
         "hovertemplate": "<b>OLS trendline</b><br>totalVotes = 0.0249886 * totalViews + 30.6682<br>R<sup>2</sup>=0.673913<br><br>medal=GOLD<br>totalViews=%{x}<br>totalVotes=%{y} <b>(trend)</b><extra></extra>",
         "legendgroup": "GOLD",
         "marker": {
          "color": "gold",
          "symbol": "circle"
         },
         "mode": "lines",
         "name": "GOLD",
         "showlegend": false,
         "type": "scatter",
         "x": [
          1325,
          1690,
          2007,
          2200,
          2293,
          2873,
          5393
         ],
         "xaxis": "x",
         "y": [
          63.778115085449194,
          72.89896107142113,
          80.8203533386899,
          85.64315683264219,
          87.96709841262955,
          102.46049751362605,
          165.43181774554188
         ],
         "yaxis": "y"
        }
       ],
       "layout": {
        "height": 500,
        "legend": {
         "itemsizing": "constant",
         "title": {
          "text": "medal"
         },
         "tracegroupgap": 0
        },
        "template": {
         "data": {
          "bar": [
           {
            "error_x": {
             "color": "#2a3f5f"
            },
            "error_y": {
             "color": "#2a3f5f"
            },
            "marker": {
             "line": {
              "color": "#E5ECF6",
              "width": 0.5
             },
             "pattern": {
              "fillmode": "overlay",
              "size": 10,
              "solidity": 0.2
             }
            },
            "type": "bar"
           }
          ],
          "barpolar": [
           {
            "marker": {
             "line": {
              "color": "#E5ECF6",
              "width": 0.5
             },
             "pattern": {
              "fillmode": "overlay",
              "size": 10,
              "solidity": 0.2
             }
            },
            "type": "barpolar"
           }
          ],
          "carpet": [
           {
            "aaxis": {
             "endlinecolor": "#2a3f5f",
             "gridcolor": "white",
             "linecolor": "white",
             "minorgridcolor": "white",
             "startlinecolor": "#2a3f5f"
            },
            "baxis": {
             "endlinecolor": "#2a3f5f",
             "gridcolor": "white",
             "linecolor": "white",
             "minorgridcolor": "white",
             "startlinecolor": "#2a3f5f"
            },
            "type": "carpet"
           }
          ],
          "choropleth": [
           {
            "colorbar": {
             "outlinewidth": 0,
             "ticks": ""
            },
            "type": "choropleth"
           }
          ],
          "contour": [
           {
            "colorbar": {
             "outlinewidth": 0,
             "ticks": ""
            },
            "colorscale": [
             [
              0,
              "#0d0887"
             ],
             [
              0.1111111111111111,
              "#46039f"
             ],
             [
              0.2222222222222222,
              "#7201a8"
             ],
             [
              0.3333333333333333,
              "#9c179e"
             ],
             [
              0.4444444444444444,
              "#bd3786"
             ],
             [
              0.5555555555555556,
              "#d8576b"
             ],
             [
              0.6666666666666666,
              "#ed7953"
             ],
             [
              0.7777777777777778,
              "#fb9f3a"
             ],
             [
              0.8888888888888888,
              "#fdca26"
             ],
             [
              1,
              "#f0f921"
             ]
            ],
            "type": "contour"
           }
          ],
          "contourcarpet": [
           {
            "colorbar": {
             "outlinewidth": 0,
             "ticks": ""
            },
            "type": "contourcarpet"
           }
          ],
          "heatmap": [
           {
            "colorbar": {
             "outlinewidth": 0,
             "ticks": ""
            },
            "colorscale": [
             [
              0,
              "#0d0887"
             ],
             [
              0.1111111111111111,
              "#46039f"
             ],
             [
              0.2222222222222222,
              "#7201a8"
             ],
             [
              0.3333333333333333,
              "#9c179e"
             ],
             [
              0.4444444444444444,
              "#bd3786"
             ],
             [
              0.5555555555555556,
              "#d8576b"
             ],
             [
              0.6666666666666666,
              "#ed7953"
             ],
             [
              0.7777777777777778,
              "#fb9f3a"
             ],
             [
              0.8888888888888888,
              "#fdca26"
             ],
             [
              1,
              "#f0f921"
             ]
            ],
            "type": "heatmap"
           }
          ],
          "heatmapgl": [
           {
            "colorbar": {
             "outlinewidth": 0,
             "ticks": ""
            },
            "colorscale": [
             [
              0,
              "#0d0887"
             ],
             [
              0.1111111111111111,
              "#46039f"
             ],
             [
              0.2222222222222222,
              "#7201a8"
             ],
             [
              0.3333333333333333,
              "#9c179e"
             ],
             [
              0.4444444444444444,
              "#bd3786"
             ],
             [
              0.5555555555555556,
              "#d8576b"
             ],
             [
              0.6666666666666666,
              "#ed7953"
             ],
             [
              0.7777777777777778,
              "#fb9f3a"
             ],
             [
              0.8888888888888888,
              "#fdca26"
             ],
             [
              1,
              "#f0f921"
             ]
            ],
            "type": "heatmapgl"
           }
          ],
          "histogram": [
           {
            "marker": {
             "pattern": {
              "fillmode": "overlay",
              "size": 10,
              "solidity": 0.2
             }
            },
            "type": "histogram"
           }
          ],
          "histogram2d": [
           {
            "colorbar": {
             "outlinewidth": 0,
             "ticks": ""
            },
            "colorscale": [
             [
              0,
              "#0d0887"
             ],
             [
              0.1111111111111111,
              "#46039f"
             ],
             [
              0.2222222222222222,
              "#7201a8"
             ],
             [
              0.3333333333333333,
              "#9c179e"
             ],
             [
              0.4444444444444444,
              "#bd3786"
             ],
             [
              0.5555555555555556,
              "#d8576b"
             ],
             [
              0.6666666666666666,
              "#ed7953"
             ],
             [
              0.7777777777777778,
              "#fb9f3a"
             ],
             [
              0.8888888888888888,
              "#fdca26"
             ],
             [
              1,
              "#f0f921"
             ]
            ],
            "type": "histogram2d"
           }
          ],
          "histogram2dcontour": [
           {
            "colorbar": {
             "outlinewidth": 0,
             "ticks": ""
            },
            "colorscale": [
             [
              0,
              "#0d0887"
             ],
             [
              0.1111111111111111,
              "#46039f"
             ],
             [
              0.2222222222222222,
              "#7201a8"
             ],
             [
              0.3333333333333333,
              "#9c179e"
             ],
             [
              0.4444444444444444,
              "#bd3786"
             ],
             [
              0.5555555555555556,
              "#d8576b"
             ],
             [
              0.6666666666666666,
              "#ed7953"
             ],
             [
              0.7777777777777778,
              "#fb9f3a"
             ],
             [
              0.8888888888888888,
              "#fdca26"
             ],
             [
              1,
              "#f0f921"
             ]
            ],
            "type": "histogram2dcontour"
           }
          ],
          "mesh3d": [
           {
            "colorbar": {
             "outlinewidth": 0,
             "ticks": ""
            },
            "type": "mesh3d"
           }
          ],
          "parcoords": [
           {
            "line": {
             "colorbar": {
              "outlinewidth": 0,
              "ticks": ""
             }
            },
            "type": "parcoords"
           }
          ],
          "pie": [
           {
            "automargin": true,
            "type": "pie"
           }
          ],
          "scatter": [
           {
            "fillpattern": {
             "fillmode": "overlay",
             "size": 10,
             "solidity": 0.2
            },
            "type": "scatter"
           }
          ],
          "scatter3d": [
           {
            "line": {
             "colorbar": {
              "outlinewidth": 0,
              "ticks": ""
             }
            },
            "marker": {
             "colorbar": {
              "outlinewidth": 0,
              "ticks": ""
             }
            },
            "type": "scatter3d"
           }
          ],
          "scattercarpet": [
           {
            "marker": {
             "colorbar": {
              "outlinewidth": 0,
              "ticks": ""
             }
            },
            "type": "scattercarpet"
           }
          ],
          "scattergeo": [
           {
            "marker": {
             "colorbar": {
              "outlinewidth": 0,
              "ticks": ""
             }
            },
            "type": "scattergeo"
           }
          ],
          "scattergl": [
           {
            "marker": {
             "colorbar": {
              "outlinewidth": 0,
              "ticks": ""
             }
            },
            "type": "scattergl"
           }
          ],
          "scattermapbox": [
           {
            "marker": {
             "colorbar": {
              "outlinewidth": 0,
              "ticks": ""
             }
            },
            "type": "scattermapbox"
           }
          ],
          "scatterpolar": [
           {
            "marker": {
             "colorbar": {
              "outlinewidth": 0,
              "ticks": ""
             }
            },
            "type": "scatterpolar"
           }
          ],
          "scatterpolargl": [
           {
            "marker": {
             "colorbar": {
              "outlinewidth": 0,
              "ticks": ""
             }
            },
            "type": "scatterpolargl"
           }
          ],
          "scatterternary": [
           {
            "marker": {
             "colorbar": {
              "outlinewidth": 0,
              "ticks": ""
             }
            },
            "type": "scatterternary"
           }
          ],
          "surface": [
           {
            "colorbar": {
             "outlinewidth": 0,
             "ticks": ""
            },
            "colorscale": [
             [
              0,
              "#0d0887"
             ],
             [
              0.1111111111111111,
              "#46039f"
             ],
             [
              0.2222222222222222,
              "#7201a8"
             ],
             [
              0.3333333333333333,
              "#9c179e"
             ],
             [
              0.4444444444444444,
              "#bd3786"
             ],
             [
              0.5555555555555556,
              "#d8576b"
             ],
             [
              0.6666666666666666,
              "#ed7953"
             ],
             [
              0.7777777777777778,
              "#fb9f3a"
             ],
             [
              0.8888888888888888,
              "#fdca26"
             ],
             [
              1,
              "#f0f921"
             ]
            ],
            "type": "surface"
           }
          ],
          "table": [
           {
            "cells": {
             "fill": {
              "color": "#EBF0F8"
             },
             "line": {
              "color": "white"
             }
            },
            "header": {
             "fill": {
              "color": "#C8D4E3"
             },
             "line": {
              "color": "white"
             }
            },
            "type": "table"
           }
          ]
         },
         "layout": {
          "annotationdefaults": {
           "arrowcolor": "#2a3f5f",
           "arrowhead": 0,
           "arrowwidth": 1
          },
          "autotypenumbers": "strict",
          "coloraxis": {
           "colorbar": {
            "outlinewidth": 0,
            "ticks": ""
           }
          },
          "colorscale": {
           "diverging": [
            [
             0,
             "#8e0152"
            ],
            [
             0.1,
             "#c51b7d"
            ],
            [
             0.2,
             "#de77ae"
            ],
            [
             0.3,
             "#f1b6da"
            ],
            [
             0.4,
             "#fde0ef"
            ],
            [
             0.5,
             "#f7f7f7"
            ],
            [
             0.6,
             "#e6f5d0"
            ],
            [
             0.7,
             "#b8e186"
            ],
            [
             0.8,
             "#7fbc41"
            ],
            [
             0.9,
             "#4d9221"
            ],
            [
             1,
             "#276419"
            ]
           ],
           "sequential": [
            [
             0,
             "#0d0887"
            ],
            [
             0.1111111111111111,
             "#46039f"
            ],
            [
             0.2222222222222222,
             "#7201a8"
            ],
            [
             0.3333333333333333,
             "#9c179e"
            ],
            [
             0.4444444444444444,
             "#bd3786"
            ],
            [
             0.5555555555555556,
             "#d8576b"
            ],
            [
             0.6666666666666666,
             "#ed7953"
            ],
            [
             0.7777777777777778,
             "#fb9f3a"
            ],
            [
             0.8888888888888888,
             "#fdca26"
            ],
            [
             1,
             "#f0f921"
            ]
           ],
           "sequentialminus": [
            [
             0,
             "#0d0887"
            ],
            [
             0.1111111111111111,
             "#46039f"
            ],
            [
             0.2222222222222222,
             "#7201a8"
            ],
            [
             0.3333333333333333,
             "#9c179e"
            ],
            [
             0.4444444444444444,
             "#bd3786"
            ],
            [
             0.5555555555555556,
             "#d8576b"
            ],
            [
             0.6666666666666666,
             "#ed7953"
            ],
            [
             0.7777777777777778,
             "#fb9f3a"
            ],
            [
             0.8888888888888888,
             "#fdca26"
            ],
            [
             1,
             "#f0f921"
            ]
           ]
          },
          "colorway": [
           "#636efa",
           "#EF553B",
           "#00cc96",
           "#ab63fa",
           "#FFA15A",
           "#19d3f3",
           "#FF6692",
           "#B6E880",
           "#FF97FF",
           "#FECB52"
          ],
          "font": {
           "color": "#2a3f5f"
          },
          "geo": {
           "bgcolor": "white",
           "lakecolor": "white",
           "landcolor": "#E5ECF6",
           "showlakes": true,
           "showland": true,
           "subunitcolor": "white"
          },
          "hoverlabel": {
           "align": "left"
          },
          "hovermode": "closest",
          "mapbox": {
           "style": "light"
          },
          "paper_bgcolor": "white",
          "plot_bgcolor": "#E5ECF6",
          "polar": {
           "angularaxis": {
            "gridcolor": "white",
            "linecolor": "white",
            "ticks": ""
           },
           "bgcolor": "#E5ECF6",
           "radialaxis": {
            "gridcolor": "white",
            "linecolor": "white",
            "ticks": ""
           }
          },
          "scene": {
           "xaxis": {
            "backgroundcolor": "#E5ECF6",
            "gridcolor": "white",
            "gridwidth": 2,
            "linecolor": "white",
            "showbackground": true,
            "ticks": "",
            "zerolinecolor": "white"
           },
           "yaxis": {
            "backgroundcolor": "#E5ECF6",
            "gridcolor": "white",
            "gridwidth": 2,
            "linecolor": "white",
            "showbackground": true,
            "ticks": "",
            "zerolinecolor": "white"
           },
           "zaxis": {
            "backgroundcolor": "#E5ECF6",
            "gridcolor": "white",
            "gridwidth": 2,
            "linecolor": "white",
            "showbackground": true,
            "ticks": "",
            "zerolinecolor": "white"
           }
          },
          "shapedefaults": {
           "line": {
            "color": "#2a3f5f"
           }
          },
          "ternary": {
           "aaxis": {
            "gridcolor": "white",
            "linecolor": "white",
            "ticks": ""
           },
           "baxis": {
            "gridcolor": "white",
            "linecolor": "white",
            "ticks": ""
           },
           "bgcolor": "#E5ECF6",
           "caxis": {
            "gridcolor": "white",
            "linecolor": "white",
            "ticks": ""
           }
          },
          "title": {
           "x": 0.05
          },
          "xaxis": {
           "automargin": true,
           "gridcolor": "white",
           "linecolor": "white",
           "ticks": "",
           "title": {
            "standoff": 15
           },
           "zerolinecolor": "white",
           "zerolinewidth": 2
          },
          "yaxis": {
           "automargin": true,
           "gridcolor": "white",
           "linecolor": "white",
           "ticks": "",
           "title": {
            "standoff": 15
           },
           "zerolinecolor": "white",
           "zerolinewidth": 2
          }
         }
        },
        "title": {
         "text": "Notebooks by Azmine Toushik Wasi 2022-08-02"
        },
        "xaxis": {
         "anchor": "y",
         "domain": [
          0,
          1
         ],
         "title": {
          "text": "totalViews"
         }
        },
        "yaxis": {
         "anchor": "x",
         "domain": [
          0,
          1
         ],
         "title": {
          "text": "totalVotes"
         }
        }
       }
      }
     },
     "metadata": {},
     "output_type": "display_data"
    }
   ],
   "source": [
    "dft=pd.read_csv(links[-2])\n",
    "\n",
    "dft['totalComments'].fillna(0, inplace=True)\n",
    "dft['medal'].fillna('N/A', inplace=True)\n",
    "dft['size'] = dft['totalComments'].clip(lower=1)\n",
    "color_map = {\n",
    "    'GOLD': 'gold',\n",
    "    'SILVER': 'silver',\n",
    "    'BRONZE': 'chocolate',\n",
    "    'N/A': '#333'}\n",
    "px.scatter(\n",
    "    dft,\n",
    "    'totalViews',\n",
    "    'totalVotes',\n",
    "    title=f'Notebooks by {df.author_displayName.get(0)} '+str(links[-2][25:35]),\n",
    "    log_x=False,\n",
    "    log_y=False,\n",
    "    #width=800, \n",
    "    height=500,\n",
    "    color='medal',\n",
    "    color_discrete_map=color_map,\n",
    "    size='size',\n",
    "    trendline='ols',\n",
    "    trendline_options=dict(log_x=False, log_y=False, add_constant=True),\n",
    "    #trendline='lowess', # Use for Locally Weighted Scatterplot Smoothing line\n",
    "    #trendline_scope='overall', # Use this for one trendline\n",
    "    hover_name='title')"
   ]
  },
  {
   "cell_type": "markdown",
   "id": "eb634aaa",
   "metadata": {
    "papermill": {
     "duration": 0.006682,
     "end_time": "2022-06-12T00:06:08.127181",
     "exception": false,
     "start_time": "2022-06-12T00:06:08.120499",
     "status": "completed"
    },
    "tags": []
   },
   "source": [
    "# Analysis"
   ]
  },
  {
   "cell_type": "code",
   "execution_count": 11,
   "id": "f9f5c79b",
   "metadata": {},
   "outputs": [],
   "source": [
    "dfx=pd.DataFrame()\n",
    "date_list=[]\n",
    "titles_dft=[]\n",
    "date_dft=[]\n",
    "count_dft=[]\n",
    "view_dft=[]\n",
    "\n",
    "gTotalUpvotes=[]\n",
    "gTotalViews=[]\n",
    "gTotalComments=[]\n",
    "\n",
    "\n",
    "for link in links:\n",
    "    date=link[25:35]\n",
    "    date_list.append(date)\n",
    "    temp_df=pd.read_csv(link)\n",
    "    \n",
    "    gTotalUpvotes.append(temp_df.totalVotes.sum())\n",
    "    gTotalViews.append(temp_df.totalViews.sum())\n",
    "    gTotalComments.append(temp_df.totalComments.sum())\n",
    "    \n",
    "    temp_titles=list(temp_df.title)\n",
    "    temp_totalVotes=list(temp_df.totalVotes)\n",
    "    temp_totalViews=list(temp_df.totalViews)\n",
    "    \n",
    "    for name in temp_titles:\n",
    "        titles_dft.append(name)\n",
    "        date_dft.append(date)\n",
    "        count_dft.append(temp_totalVotes[temp_titles.index(name)])\n",
    "        view_dft.append(temp_totalViews[temp_titles.index(name)])\n",
    "\n",
    "\n",
    "df_d={\"title\":titles_dft, \"date\":date_dft, \"count\":count_dft,\"view_count\":view_dft}\n",
    "df_d=pd.DataFrame(df_d)\n"
   ]
  },
  {
   "cell_type": "code",
   "execution_count": 12,
   "id": "ecb759a0",
   "metadata": {},
   "outputs": [],
   "source": [
    "medal=[]\n",
    "for i in range(len(df_d)):\n",
    "    medal.append(medal_data[df_d['title'][i]]['medal'])\n",
    "df_d['medal']=medal"
   ]
  },
  {
   "cell_type": "code",
   "execution_count": 13,
   "id": "f1c1556c",
   "metadata": {},
   "outputs": [],
   "source": [
    "\"\"\"sns.set(rc={'figure.figsize':(28,20)})\n",
    "\n",
    "p=sns.lineplot(x='date',data=df_d,y='count',style='title',palette='Dark2',hue=\"medal\",markers=True,markersize=15)\n",
    "plt.xticks(fontsize=10,rotation='vertical')\n",
    "p.axes.axhline(y=7,linewidth =5, color='brown',alpha=0.5)\n",
    "p.axes.axhline(y=25,linewidth =5, color='silver',alpha=0.5)\n",
    "p.axes.axhline(y=60,linewidth =5, color='gold',alpha=0.5)\n",
    "p.axes.set_title(\"\\nUpvotes\\n\",fontsize=20);\n",
    "for l in p.lines:\n",
    "    y = l.get_ydata()\n",
    "    if len(y)>0:\n",
    "        p.annotate(f'{y[-1]:.0f}', xy=(1,y[-1]), xycoords=('axes fraction', 'data'), \n",
    "                     ha='left', va='center', color=l.get_color())\n",
    "plt.legend(fontsize='x-large', title_fontsize='40',markerscale=2)\n",
    "plt.show();\"\"\";"
   ]
  },
  {
   "cell_type": "code",
   "execution_count": 14,
   "id": "ba6112e9",
   "metadata": {},
   "outputs": [
    {
     "data": {
      "application/vnd.plotly.v1+json": {
       "config": {
        "plotlyServerURL": "https://plot.ly"
       },
       "data": [
        {
         "hovertemplate": "<b>%{hovertext}</b><br><br>medal=GOLD<br>title=UCL ⚽ EDA & Viz ⭐ 2021-22 ⭐ Players & Teams<br>date=%{x}<br>count=%{y}<extra></extra>",
         "hovertext": [
          "UCL ⚽ EDA & Viz ⭐ 2021-22 ⭐ Players & Teams",
          "UCL ⚽ EDA & Viz ⭐ 2021-22 ⭐ Players & Teams",
          "UCL ⚽ EDA & Viz ⭐ 2021-22 ⭐ Players & Teams",
          "UCL ⚽ EDA & Viz ⭐ 2021-22 ⭐ Players & Teams",
          "UCL ⚽ EDA & Viz ⭐ 2021-22 ⭐ Players & Teams",
          "UCL ⚽ EDA & Viz ⭐ 2021-22 ⭐ Players & Teams",
          "UCL ⚽ EDA & Viz ⭐ 2021-22 ⭐ Players & Teams",
          "UCL ⚽ EDA & Viz ⭐ 2021-22 ⭐ Players & Teams",
          "UCL ⚽ EDA & Viz ⭐ 2021-22 ⭐ Players & Teams",
          "UCL ⚽ EDA & Viz ⭐ 2021-22 ⭐ Players & Teams",
          "UCL ⚽ EDA & Viz ⭐ 2021-22 ⭐ Players & Teams",
          "UCL ⚽ EDA & Viz ⭐ 2021-22 ⭐ Players & Teams",
          "UCL ⚽ EDA & Viz ⭐ 2021-22 ⭐ Players & Teams",
          "UCL ⚽ EDA & Viz ⭐ 2021-22 ⭐ Players & Teams",
          "UCL ⚽ EDA & Viz ⭐ 2021-22 ⭐ Players & Teams",
          "UCL ⚽ EDA & Viz ⭐ 2021-22 ⭐ Players & Teams",
          "UCL ⚽ EDA & Viz ⭐ 2021-22 ⭐ Players & Teams",
          "UCL ⚽ EDA & Viz ⭐ 2021-22 ⭐ Players & Teams",
          "UCL ⚽ EDA & Viz ⭐ 2021-22 ⭐ Players & Teams",
          "UCL ⚽ EDA & Viz ⭐ 2021-22 ⭐ Players & Teams",
          "UCL ⚽ EDA & Viz ⭐ 2021-22 ⭐ Players & Teams",
          "UCL ⚽ EDA & Viz ⭐ 2021-22 ⭐ Players & Teams",
          "UCL ⚽ EDA & Viz ⭐ 2021-22 ⭐ Players & Teams",
          "UCL ⚽ EDA & Viz ⭐ 2021-22 ⭐ Players & Teams",
          "UCL ⚽ EDA & Viz ⭐ 2021-22 ⭐ Players & Teams",
          "UCL ⚽ EDA & Viz ⭐ 2021-22 ⭐ Players & Teams",
          "UCL ⚽ EDA & Viz ⭐ 2021-22 ⭐ Players & Teams",
          "UCL ⚽ EDA & Viz ⭐ 2021-22 ⭐ Players & Teams",
          "UCL ⚽ EDA & Viz ⭐ 2021-22 ⭐ Players & Teams",
          "UCL ⚽ EDA & Viz ⭐ 2021-22 ⭐ Players & Teams",
          "UCL ⚽ EDA & Viz ⭐ 2021-22 ⭐ Players & Teams",
          "UCL ⚽ EDA & Viz ⭐ 2021-22 ⭐ Players & Teams",
          "UCL ⚽ EDA & Viz ⭐ 2021-22 ⭐ Players & Teams",
          "UCL ⚽ EDA & Viz ⭐ 2021-22 ⭐ Players & Teams",
          "UCL ⚽ EDA & Viz ⭐ 2021-22 ⭐ Players & Teams",
          "UCL ⚽ EDA & Viz ⭐ 2021-22 ⭐ Players & Teams",
          "UCL ⚽ EDA & Viz ⭐ 2021-22 ⭐ Players & Teams",
          "UCL ⚽ EDA & Viz ⭐ 2021-22 ⭐ Players & Teams",
          "UCL ⚽ EDA & Viz ⭐ 2021-22 ⭐ Players & Teams",
          "UCL ⚽ EDA & Viz ⭐ 2021-22 ⭐ Players & Teams",
          "UCL ⚽ EDA & Viz ⭐ 2021-22 ⭐ Players & Teams"
         ],
         "legendgroup": "GOLD, UCL ⚽ EDA & Viz ⭐ 2021-22 ⭐ Players & Teams",
         "line": {
          "color": "#636efa",
          "dash": "solid"
         },
         "marker": {
          "symbol": "circle"
         },
         "mode": "markers+lines",
         "name": "GOLD, UCL ⚽ EDA & Viz ⭐ 2021-22 ⭐ Players & Teams",
         "orientation": "v",
         "showlegend": true,
         "type": "scatter",
         "x": [
          "2022-06-12",
          "2022-06-13",
          "2022-06-14",
          "2022-06-15",
          "2022-06-16",
          "2022-06-17",
          "2022-06-18",
          "2022-06-19",
          "2022-06-20",
          "2022-06-21",
          "2022-06-22",
          "2022-06-25",
          "2022-06-26",
          "2022-06-28",
          "2022-06-29",
          "2022-07-01",
          "2022-07-02",
          "2022-07-03",
          "2022-07-04",
          "2022-07-05",
          "2022-07-06",
          "2022-07-07",
          "2022-07-11",
          "2022-07-12",
          "2022-07-14",
          "2022-07-15",
          "2022-07-17",
          "2022-07-18",
          "2022-07-21",
          "2022-07-22",
          "2022-07-23",
          "2022-07-24",
          "2022-07-25",
          "2022-07-26",
          "2022-07-28",
          "2022-07-29",
          "2022-07-30",
          "2022-07-31",
          "2022-08-01",
          "2022-08-02",
          "2022-08-03"
         ],
         "xaxis": "x",
         "y": [
          14,
          17,
          17,
          20,
          23,
          26,
          30,
          30,
          34,
          35,
          35,
          35,
          36,
          37,
          37,
          39,
          39,
          39,
          39,
          40,
          41,
          41,
          47,
          48,
          51,
          52,
          54,
          56,
          59,
          59,
          60,
          62,
          62,
          62,
          62,
          62,
          65,
          65,
          67,
          67,
          67
         ],
         "yaxis": "y"
        },
        {
         "hovertemplate": "<b>%{hovertext}</b><br><br>medal=GOLD<br>title=Divorce Prediction & Reasons Analysis with PCA<br>date=%{x}<br>count=%{y}<extra></extra>",
         "hovertext": [
          "Divorce Prediction & Reasons Analysis with PCA",
          "Divorce Prediction & Reasons Analysis with PCA",
          "Divorce Prediction & Reasons Analysis with PCA",
          "Divorce Prediction & Reasons Analysis with PCA",
          "Divorce Prediction & Reasons Analysis with PCA",
          "Divorce Prediction & Reasons Analysis with PCA",
          "Divorce Prediction & Reasons Analysis with PCA",
          "Divorce Prediction & Reasons Analysis with PCA",
          "Divorce Prediction & Reasons Analysis with PCA",
          "Divorce Prediction & Reasons Analysis with PCA",
          "Divorce Prediction & Reasons Analysis with PCA",
          "Divorce Prediction & Reasons Analysis with PCA",
          "Divorce Prediction & Reasons Analysis with PCA",
          "Divorce Prediction & Reasons Analysis with PCA",
          "Divorce Prediction & Reasons Analysis with PCA",
          "Divorce Prediction & Reasons Analysis with PCA",
          "Divorce Prediction & Reasons Analysis with PCA",
          "Divorce Prediction & Reasons Analysis with PCA",
          "Divorce Prediction & Reasons Analysis with PCA",
          "Divorce Prediction & Reasons Analysis with PCA",
          "Divorce Prediction & Reasons Analysis with PCA",
          "Divorce Prediction & Reasons Analysis with PCA",
          "Divorce Prediction & Reasons Analysis with PCA",
          "Divorce Prediction & Reasons Analysis with PCA",
          "Divorce Prediction & Reasons Analysis with PCA",
          "Divorce Prediction & Reasons Analysis with PCA",
          "Divorce Prediction & Reasons Analysis with PCA",
          "Divorce Prediction & Reasons Analysis with PCA",
          "Divorce Prediction & Reasons Analysis with PCA",
          "Divorce Prediction & Reasons Analysis with PCA",
          "Divorce Prediction & Reasons Analysis with PCA",
          "Divorce Prediction & Reasons Analysis with PCA",
          "Divorce Prediction & Reasons Analysis with PCA",
          "Divorce Prediction & Reasons Analysis with PCA",
          "Divorce Prediction & Reasons Analysis with PCA",
          "Divorce Prediction & Reasons Analysis with PCA",
          "Divorce Prediction & Reasons Analysis with PCA",
          "Divorce Prediction & Reasons Analysis with PCA",
          "Divorce Prediction & Reasons Analysis with PCA",
          "Divorce Prediction & Reasons Analysis with PCA",
          "Divorce Prediction & Reasons Analysis with PCA"
         ],
         "legendgroup": "GOLD, Divorce Prediction & Reasons Analysis with PCA",
         "line": {
          "color": "#636efa",
          "dash": "solid"
         },
         "marker": {
          "symbol": "diamond"
         },
         "mode": "markers+lines",
         "name": "GOLD, Divorce Prediction & Reasons Analysis with PCA",
         "orientation": "v",
         "showlegend": true,
         "type": "scatter",
         "x": [
          "2022-06-12",
          "2022-06-13",
          "2022-06-14",
          "2022-06-15",
          "2022-06-16",
          "2022-06-17",
          "2022-06-18",
          "2022-06-19",
          "2022-06-20",
          "2022-06-21",
          "2022-06-22",
          "2022-06-25",
          "2022-06-26",
          "2022-06-28",
          "2022-06-29",
          "2022-07-01",
          "2022-07-02",
          "2022-07-03",
          "2022-07-04",
          "2022-07-05",
          "2022-07-06",
          "2022-07-07",
          "2022-07-11",
          "2022-07-12",
          "2022-07-14",
          "2022-07-15",
          "2022-07-17",
          "2022-07-18",
          "2022-07-21",
          "2022-07-22",
          "2022-07-23",
          "2022-07-24",
          "2022-07-25",
          "2022-07-26",
          "2022-07-28",
          "2022-07-29",
          "2022-07-30",
          "2022-07-31",
          "2022-08-01",
          "2022-08-02",
          "2022-08-03"
         ],
         "xaxis": "x",
         "y": [
          26,
          31,
          31,
          31,
          32,
          33,
          33,
          33,
          33,
          33,
          33,
          33,
          33,
          33,
          33,
          34,
          34,
          34,
          34,
          37,
          40,
          40,
          42,
          47,
          50,
          51,
          53,
          55,
          55,
          56,
          56,
          58,
          58,
          57,
          57,
          57,
          57,
          57,
          57,
          57,
          57
         ],
         "yaxis": "y"
        },
        {
         "hovertemplate": "<b>%{hovertext}</b><br><br>medal=GOLD<br>title=ML Foundation ➡️ Imputation : All Techniques<br>date=%{x}<br>count=%{y}<extra></extra>",
         "hovertext": [
          "ML Foundation ➡️ Imputation : All Techniques",
          "ML Foundation ➡️ Imputation : All Techniques",
          "ML Foundation ➡️ Imputation : All Techniques",
          "ML Foundation ➡️ Imputation : All Techniques",
          "ML Foundation ➡️ Imputation : All Techniques",
          "ML Foundation ➡️ Imputation : All Techniques",
          "ML Foundation ➡️ Imputation : All Techniques",
          "ML Foundation ➡️ Imputation : All Techniques",
          "ML Foundation ➡️ Imputation : All Techniques",
          "ML Foundation ➡️ Imputation : All Techniques",
          "ML Foundation ➡️ Imputation : All Techniques",
          "ML Foundation ➡️ Imputation : All Techniques",
          "ML Foundation ➡️ Imputation : All Techniques",
          "ML Foundation ➡️ Imputation : All Techniques",
          "ML Foundation ➡️ Imputation : All Techniques",
          "ML Foundation ➡️ Imputation : All Techniques",
          "ML Foundation ➡️ Imputation : All Techniques",
          "ML Foundation ➡️ Imputation : All Techniques",
          "ML Foundation ➡️ Imputation : All Techniques",
          "ML Foundation ➡️ Imputation : All Techniques",
          "ML Foundation ➡️ Imputation : All Techniques",
          "ML Foundation ➡️ Imputation : All Techniques",
          "ML Foundation ➡️ Imputation : All Techniques",
          "ML Foundation ➡️ Imputation : All Techniques",
          "ML Foundation ➡️ Imputation : All Techniques",
          "ML Foundation ➡️ Imputation : All Techniques",
          "ML Foundation ➡️ Imputation : All Techniques",
          "ML Foundation ➡️ Imputation : All Techniques",
          "ML Foundation ➡️ Imputation : All Techniques",
          "ML Foundation ➡️ Imputation : All Techniques",
          "ML Foundation ➡️ Imputation : All Techniques",
          "ML Foundation ➡️ Imputation : All Techniques",
          "ML Foundation ➡️ Imputation : All Techniques",
          "ML Foundation ➡️ Imputation : All Techniques",
          "ML Foundation ➡️ Imputation : All Techniques",
          "ML Foundation ➡️ Imputation : All Techniques",
          "ML Foundation ➡️ Imputation : All Techniques",
          "ML Foundation ➡️ Imputation : All Techniques",
          "ML Foundation ➡️ Imputation : All Techniques",
          "ML Foundation ➡️ Imputation : All Techniques",
          "ML Foundation ➡️ Imputation : All Techniques"
         ],
         "legendgroup": "GOLD, ML Foundation ➡️ Imputation : All Techniques",
         "line": {
          "color": "#636efa",
          "dash": "solid"
         },
         "marker": {
          "symbol": "x"
         },
         "mode": "markers+lines",
         "name": "GOLD, ML Foundation ➡️ Imputation : All Techniques",
         "orientation": "v",
         "showlegend": true,
         "type": "scatter",
         "x": [
          "2022-06-12",
          "2022-06-13",
          "2022-06-14",
          "2022-06-15",
          "2022-06-16",
          "2022-06-17",
          "2022-06-18",
          "2022-06-19",
          "2022-06-20",
          "2022-06-21",
          "2022-06-22",
          "2022-06-25",
          "2022-06-26",
          "2022-06-28",
          "2022-06-29",
          "2022-07-01",
          "2022-07-02",
          "2022-07-03",
          "2022-07-04",
          "2022-07-05",
          "2022-07-06",
          "2022-07-07",
          "2022-07-11",
          "2022-07-12",
          "2022-07-14",
          "2022-07-15",
          "2022-07-17",
          "2022-07-18",
          "2022-07-21",
          "2022-07-22",
          "2022-07-23",
          "2022-07-24",
          "2022-07-25",
          "2022-07-26",
          "2022-07-28",
          "2022-07-29",
          "2022-07-30",
          "2022-07-31",
          "2022-08-01",
          "2022-08-02",
          "2022-08-03"
         ],
         "xaxis": "x",
         "y": [
          46,
          48,
          70,
          83,
          88,
          93,
          97,
          101,
          103,
          107,
          112,
          117,
          121,
          126,
          132,
          135,
          135,
          136,
          136,
          139,
          140,
          140,
          144,
          144,
          144,
          144,
          148,
          150,
          152,
          153,
          155,
          157,
          159,
          161,
          162,
          162,
          162,
          164,
          165,
          165,
          165
         ],
         "yaxis": "y"
        },
        {
         "hovertemplate": "<b>%{hovertext}</b><br><br>medal=GOLD<br>title=ML Foundation ➡️ Bias-Variance Tradeoff <br>date=%{x}<br>count=%{y}<extra></extra>",
         "hovertext": [
          "ML Foundation ➡️ Bias-Variance Tradeoff ",
          "ML Foundation ➡️ Bias-Variance Tradeoff ",
          "ML Foundation ➡️ Bias-Variance Tradeoff ",
          "ML Foundation ➡️ Bias-Variance Tradeoff ",
          "ML Foundation ➡️ Bias-Variance Tradeoff ",
          "ML Foundation ➡️ Bias-Variance Tradeoff ",
          "ML Foundation ➡️ Bias-Variance Tradeoff ",
          "ML Foundation ➡️ Bias-Variance Tradeoff ",
          "ML Foundation ➡️ Bias-Variance Tradeoff ",
          "ML Foundation ➡️ Bias-Variance Tradeoff ",
          "ML Foundation ➡️ Bias-Variance Tradeoff ",
          "ML Foundation ➡️ Bias-Variance Tradeoff ",
          "ML Foundation ➡️ Bias-Variance Tradeoff ",
          "ML Foundation ➡️ Bias-Variance Tradeoff ",
          "ML Foundation ➡️ Bias-Variance Tradeoff ",
          "ML Foundation ➡️ Bias-Variance Tradeoff ",
          "ML Foundation ➡️ Bias-Variance Tradeoff ",
          "ML Foundation ➡️ Bias-Variance Tradeoff ",
          "ML Foundation ➡️ Bias-Variance Tradeoff ",
          "ML Foundation ➡️ Bias-Variance Tradeoff ",
          "ML Foundation ➡️ Bias-Variance Tradeoff ",
          "ML Foundation ➡️ Bias-Variance Tradeoff ",
          "ML Foundation ➡️ Bias-Variance Tradeoff ",
          "ML Foundation ➡️ Bias-Variance Tradeoff ",
          "ML Foundation ➡️ Bias-Variance Tradeoff ",
          "ML Foundation ➡️ Bias-Variance Tradeoff ",
          "ML Foundation ➡️ Bias-Variance Tradeoff ",
          "ML Foundation ➡️ Bias-Variance Tradeoff ",
          "ML Foundation ➡️ Bias-Variance Tradeoff ",
          "ML Foundation ➡️ Bias-Variance Tradeoff ",
          "ML Foundation ➡️ Bias-Variance Tradeoff ",
          "ML Foundation ➡️ Bias-Variance Tradeoff ",
          "ML Foundation ➡️ Bias-Variance Tradeoff ",
          "ML Foundation ➡️ Bias-Variance Tradeoff ",
          "ML Foundation ➡️ Bias-Variance Tradeoff ",
          "ML Foundation ➡️ Bias-Variance Tradeoff ",
          "ML Foundation ➡️ Bias-Variance Tradeoff ",
          "ML Foundation ➡️ Bias-Variance Tradeoff ",
          "ML Foundation ➡️ Bias-Variance Tradeoff ",
          "ML Foundation ➡️ Bias-Variance Tradeoff ",
          "ML Foundation ➡️ Bias-Variance Tradeoff "
         ],
         "legendgroup": "GOLD, ML Foundation ➡️ Bias-Variance Tradeoff ",
         "line": {
          "color": "#636efa",
          "dash": "solid"
         },
         "marker": {
          "symbol": "cross"
         },
         "mode": "markers+lines",
         "name": "GOLD, ML Foundation ➡️ Bias-Variance Tradeoff ",
         "orientation": "v",
         "showlegend": true,
         "type": "scatter",
         "x": [
          "2022-06-12",
          "2022-06-13",
          "2022-06-14",
          "2022-06-15",
          "2022-06-16",
          "2022-06-17",
          "2022-06-18",
          "2022-06-19",
          "2022-06-20",
          "2022-06-21",
          "2022-06-22",
          "2022-06-25",
          "2022-06-26",
          "2022-06-28",
          "2022-06-29",
          "2022-07-01",
          "2022-07-02",
          "2022-07-03",
          "2022-07-04",
          "2022-07-05",
          "2022-07-06",
          "2022-07-07",
          "2022-07-11",
          "2022-07-12",
          "2022-07-14",
          "2022-07-15",
          "2022-07-17",
          "2022-07-18",
          "2022-07-21",
          "2022-07-22",
          "2022-07-23",
          "2022-07-24",
          "2022-07-25",
          "2022-07-26",
          "2022-07-28",
          "2022-07-29",
          "2022-07-30",
          "2022-07-31",
          "2022-08-01",
          "2022-08-02",
          "2022-08-03"
         ],
         "xaxis": "x",
         "y": [
          27,
          27,
          27,
          28,
          28,
          28,
          28,
          28,
          28,
          28,
          28,
          29,
          29,
          29,
          29,
          30,
          30,
          30,
          30,
          32,
          32,
          35,
          39,
          39,
          43,
          45,
          51,
          53,
          62,
          64,
          64,
          69,
          71,
          71,
          75,
          79,
          80,
          82,
          83,
          84,
          84
         ],
         "yaxis": "y"
        },
        {
         "hovertemplate": "<b>%{hovertext}</b><br><br>medal=GOLD<br>title=▶️ Lionel Messi 📊 Extended EDA ⚽ Goals <br>date=%{x}<br>count=%{y}<extra></extra>",
         "hovertext": [
          "▶️ Lionel Messi 📊 Extended EDA ⚽ Goals ",
          "▶️ Lionel Messi 📊 Extended EDA ⚽ Goals ",
          "▶️ Lionel Messi 📊 Extended EDA ⚽ Goals ",
          "▶️ Lionel Messi 📊 Extended EDA ⚽ Goals ",
          "▶️ Lionel Messi 📊 Extended EDA ⚽ Goals ",
          "▶️ Lionel Messi 📊 Extended EDA ⚽ Goals ",
          "▶️ Lionel Messi 📊 Extended EDA ⚽ Goals ",
          "▶️ Lionel Messi 📊 Extended EDA ⚽ Goals ",
          "▶️ Lionel Messi 📊 Extended EDA ⚽ Goals ",
          "▶️ Lionel Messi 📊 Extended EDA ⚽ Goals ",
          "▶️ Lionel Messi 📊 Extended EDA ⚽ Goals ",
          "▶️ Lionel Messi 📊 Extended EDA ⚽ Goals ",
          "▶️ Lionel Messi 📊 Extended EDA ⚽ Goals ",
          "▶️ Lionel Messi 📊 Extended EDA ⚽ Goals ",
          "▶️ Lionel Messi 📊 Extended EDA ⚽ Goals ",
          "▶️ Lionel Messi 📊 Extended EDA ⚽ Goals ",
          "▶️ Lionel Messi 📊 Extended EDA ⚽ Goals ",
          "▶️ Lionel Messi 📊 Extended EDA ⚽ Goals ",
          "▶️ Lionel Messi 📊 Extended EDA ⚽ Goals ",
          "▶️ Lionel Messi 📊 Extended EDA ⚽ Goals ",
          "▶️ Lionel Messi 📊 Extended EDA ⚽ Goals ",
          "▶️ Lionel Messi 📊 Extended EDA ⚽ Goals ",
          "▶️ Lionel Messi 📊 Extended EDA ⚽ Goals ",
          "▶️ Lionel Messi 📊 Extended EDA ⚽ Goals ",
          "▶️ Lionel Messi 📊 Extended EDA ⚽ Goals ",
          "▶️ Lionel Messi 📊 Extended EDA ⚽ Goals ",
          "▶️ Lionel Messi 📊 Extended EDA ⚽ Goals ",
          "▶️ Lionel Messi 📊 Extended EDA ⚽ Goals ",
          "▶️ Lionel Messi 📊 Extended EDA ⚽ Goals ",
          "▶️ Lionel Messi 📊 Extended EDA ⚽ Goals ",
          "▶️ Lionel Messi 📊 Extended EDA ⚽ Goals ",
          "▶️ Lionel Messi 📊 Extended EDA ⚽ Goals ",
          "▶️ Lionel Messi 📊 Extended EDA ⚽ Goals ",
          "▶️ Lionel Messi 📊 Extended EDA ⚽ Goals ",
          "▶️ Lionel Messi 📊 Extended EDA ⚽ Goals ",
          "▶️ Lionel Messi 📊 Extended EDA ⚽ Goals ",
          "▶️ Lionel Messi 📊 Extended EDA ⚽ Goals ",
          "▶️ Lionel Messi 📊 Extended EDA ⚽ Goals ",
          "▶️ Lionel Messi 📊 Extended EDA ⚽ Goals ",
          "▶️ Lionel Messi 📊 Extended EDA ⚽ Goals ",
          "▶️ Lionel Messi 📊 Extended EDA ⚽ Goals "
         ],
         "legendgroup": "GOLD, ▶️ Lionel Messi 📊 Extended EDA ⚽ Goals ",
         "line": {
          "color": "#636efa",
          "dash": "solid"
         },
         "marker": {
          "symbol": "circle"
         },
         "mode": "markers+lines",
         "name": "GOLD, ▶️ Lionel Messi 📊 Extended EDA ⚽ Goals ",
         "orientation": "v",
         "showlegend": true,
         "type": "scatter",
         "x": [
          "2022-06-12",
          "2022-06-13",
          "2022-06-14",
          "2022-06-15",
          "2022-06-16",
          "2022-06-17",
          "2022-06-18",
          "2022-06-19",
          "2022-06-20",
          "2022-06-21",
          "2022-06-22",
          "2022-06-25",
          "2022-06-26",
          "2022-06-28",
          "2022-06-29",
          "2022-07-01",
          "2022-07-02",
          "2022-07-03",
          "2022-07-04",
          "2022-07-05",
          "2022-07-06",
          "2022-07-07",
          "2022-07-11",
          "2022-07-12",
          "2022-07-14",
          "2022-07-15",
          "2022-07-17",
          "2022-07-18",
          "2022-07-21",
          "2022-07-22",
          "2022-07-23",
          "2022-07-24",
          "2022-07-25",
          "2022-07-26",
          "2022-07-28",
          "2022-07-29",
          "2022-07-30",
          "2022-07-31",
          "2022-08-01",
          "2022-08-02",
          "2022-08-03"
         ],
         "xaxis": "x",
         "y": [
          44,
          44,
          44,
          44,
          44,
          44,
          44,
          44,
          45,
          46,
          46,
          47,
          47,
          48,
          48,
          49,
          51,
          51,
          51,
          54,
          56,
          57,
          63,
          66,
          69,
          69,
          69,
          69,
          71,
          71,
          71,
          73,
          73,
          73,
          73,
          73,
          75,
          75,
          75,
          75,
          75
         ],
         "yaxis": "y"
        },
        {
         "hovertemplate": "<b>%{hovertext}</b><br><br>medal=GOLD<br>title=ML Foundation ➡️ Cross Validation ✅ All Methods<br>date=%{x}<br>count=%{y}<extra></extra>",
         "hovertext": [
          "ML Foundation ➡️ Cross Validation ✅ All Methods",
          "ML Foundation ➡️ Cross Validation ✅ All Methods",
          "ML Foundation ➡️ Cross Validation ✅ All Methods",
          "ML Foundation ➡️ Cross Validation ✅ All Methods",
          "ML Foundation ➡️ Cross Validation ✅ All Methods",
          "ML Foundation ➡️ Cross Validation ✅ All Methods",
          "ML Foundation ➡️ Cross Validation ✅ All Methods",
          "ML Foundation ➡️ Cross Validation ✅ All Methods",
          "ML Foundation ➡️ Cross Validation ✅ All Methods",
          "ML Foundation ➡️ Cross Validation ✅ All Methods",
          "ML Foundation ➡️ Cross Validation ✅ All Methods",
          "ML Foundation ➡️ Cross Validation ✅ All Methods",
          "ML Foundation ➡️ Cross Validation ✅ All Methods",
          "ML Foundation ➡️ Cross Validation ✅ All Methods",
          "ML Foundation ➡️ Cross Validation ✅ All Methods",
          "ML Foundation ➡️ Cross Validation ✅ All Methods",
          "ML Foundation ➡️ Cross Validation ✅ All Methods",
          "ML Foundation ➡️ Cross Validation ✅ All Methods",
          "ML Foundation ➡️ Cross Validation ✅ All Methods",
          "ML Foundation ➡️ Cross Validation ✅ All Methods",
          "ML Foundation ➡️ Cross Validation ✅ All Methods",
          "ML Foundation ➡️ Cross Validation ✅ All Methods",
          "ML Foundation ➡️ Cross Validation ✅ All Methods",
          "ML Foundation ➡️ Cross Validation ✅ All Methods",
          "ML Foundation ➡️ Cross Validation ✅ All Methods",
          "ML Foundation ➡️ Cross Validation ✅ All Methods",
          "ML Foundation ➡️ Cross Validation ✅ All Methods",
          "ML Foundation ➡️ Cross Validation ✅ All Methods",
          "ML Foundation ➡️ Cross Validation ✅ All Methods",
          "ML Foundation ➡️ Cross Validation ✅ All Methods",
          "ML Foundation ➡️ Cross Validation ✅ All Methods",
          "ML Foundation ➡️ Cross Validation ✅ All Methods",
          "ML Foundation ➡️ Cross Validation ✅ All Methods",
          "ML Foundation ➡️ Cross Validation ✅ All Methods",
          "ML Foundation ➡️ Cross Validation ✅ All Methods",
          "ML Foundation ➡️ Cross Validation ✅ All Methods",
          "ML Foundation ➡️ Cross Validation ✅ All Methods",
          "ML Foundation ➡️ Cross Validation ✅ All Methods",
          "ML Foundation ➡️ Cross Validation ✅ All Methods",
          "ML Foundation ➡️ Cross Validation ✅ All Methods",
          "ML Foundation ➡️ Cross Validation ✅ All Methods"
         ],
         "legendgroup": "GOLD, ML Foundation ➡️ Cross Validation ✅ All Methods",
         "line": {
          "color": "#636efa",
          "dash": "solid"
         },
         "marker": {
          "symbol": "cross"
         },
         "mode": "markers+lines",
         "name": "GOLD, ML Foundation ➡️ Cross Validation ✅ All Methods",
         "orientation": "v",
         "showlegend": true,
         "type": "scatter",
         "x": [
          "2022-06-12",
          "2022-06-13",
          "2022-06-14",
          "2022-06-15",
          "2022-06-16",
          "2022-06-17",
          "2022-06-18",
          "2022-06-19",
          "2022-06-20",
          "2022-06-21",
          "2022-06-22",
          "2022-06-25",
          "2022-06-26",
          "2022-06-28",
          "2022-06-29",
          "2022-07-01",
          "2022-07-02",
          "2022-07-03",
          "2022-07-04",
          "2022-07-05",
          "2022-07-06",
          "2022-07-07",
          "2022-07-11",
          "2022-07-12",
          "2022-07-14",
          "2022-07-15",
          "2022-07-17",
          "2022-07-18",
          "2022-07-21",
          "2022-07-22",
          "2022-07-23",
          "2022-07-24",
          "2022-07-25",
          "2022-07-26",
          "2022-07-28",
          "2022-07-29",
          "2022-07-30",
          "2022-07-31",
          "2022-08-01",
          "2022-08-02",
          "2022-08-03"
         ],
         "xaxis": "x",
         "y": [
          35,
          35,
          36,
          37,
          38,
          39,
          39,
          39,
          40,
          41,
          42,
          42,
          42,
          42,
          42,
          44,
          44,
          46,
          47,
          51,
          55,
          55,
          61,
          62,
          64,
          65,
          67,
          67,
          67,
          67,
          67,
          68,
          68,
          69,
          69,
          70,
          70,
          72,
          72,
          72,
          73
         ],
         "yaxis": "y"
        },
        {
         "hovertemplate": "<b>%{hovertext}</b><br><br>medal=GOLD<br>title=ML Foundation ➡️ Clustering Techniques, Algorithms<br>date=%{x}<br>count=%{y}<extra></extra>",
         "hovertext": [
          "ML Foundation ➡️ Clustering Techniques, Algorithms",
          "ML Foundation ➡️ Clustering Techniques, Algorithms",
          "ML Foundation ➡️ Clustering Techniques, Algorithms",
          "ML Foundation ➡️ Clustering Techniques, Algorithms",
          "ML Foundation ➡️ Clustering Techniques, Algorithms",
          "ML Foundation ➡️ Clustering Techniques, Algorithms",
          "ML Foundation ➡️ Clustering Techniques, Algorithms",
          "ML Foundation ➡️ Clustering Techniques, Algorithms",
          "ML Foundation ➡️ Clustering Techniques, Algorithms",
          "ML Foundation ➡️ Clustering Techniques, Algorithms",
          "ML Foundation ➡️ Clustering Techniques, Algorithms",
          "ML Foundation ➡️ Clustering Techniques, Algorithms",
          "ML Foundation ➡️ Clustering Techniques, Algorithms",
          "ML Foundation ➡️ Clustering Techniques, Algorithms",
          "ML Foundation ➡️ Clustering Techniques, Algorithms",
          "ML Foundation ➡️ Clustering Techniques, Algorithms",
          "ML Foundation ➡️ Clustering Techniques, Algorithms",
          "ML Foundation ➡️ Clustering Techniques, Algorithms",
          "ML Foundation ➡️ Clustering Techniques, Algorithms",
          "ML Foundation ➡️ Clustering Techniques, Algorithms",
          "ML Foundation ➡️ Clustering Techniques, Algorithms",
          "ML Foundation ➡️ Clustering Techniques, Algorithms",
          "ML Foundation ➡️ Clustering Techniques, Algorithms",
          "ML Foundation ➡️ Clustering Techniques, Algorithms",
          "ML Foundation ➡️ Clustering Techniques, Algorithms",
          "ML Foundation ➡️ Clustering Techniques, Algorithms"
         ],
         "legendgroup": "GOLD, ML Foundation ➡️ Clustering Techniques, Algorithms",
         "line": {
          "color": "#636efa",
          "dash": "solid"
         },
         "marker": {
          "symbol": "circle"
         },
         "mode": "markers+lines",
         "name": "GOLD, ML Foundation ➡️ Clustering Techniques, Algorithms",
         "orientation": "v",
         "showlegend": true,
         "type": "scatter",
         "x": [
          "2022-07-01",
          "2022-07-02",
          "2022-07-03",
          "2022-07-04",
          "2022-07-05",
          "2022-07-06",
          "2022-07-07",
          "2022-07-11",
          "2022-07-12",
          "2022-07-14",
          "2022-07-15",
          "2022-07-17",
          "2022-07-18",
          "2022-07-21",
          "2022-07-22",
          "2022-07-23",
          "2022-07-24",
          "2022-07-25",
          "2022-07-26",
          "2022-07-28",
          "2022-07-29",
          "2022-07-30",
          "2022-07-31",
          "2022-08-01",
          "2022-08-02",
          "2022-08-03"
         ],
         "xaxis": "x",
         "y": [
          8,
          49,
          57,
          63,
          71,
          73,
          75,
          88,
          88,
          97,
          100,
          108,
          109,
          116,
          118,
          122,
          124,
          130,
          131,
          133,
          133,
          135,
          139,
          139,
          139,
          139
         ],
         "yaxis": "y"
        },
        {
         "hovertemplate": "<b>%{hovertext}</b><br><br>medal=SILVER<br>title=ML Foundation ➡️ Feature Engineering<br>date=%{x}<br>count=%{y}<extra></extra>",
         "hovertext": [
          "ML Foundation ➡️ Feature Engineering",
          "ML Foundation ➡️ Feature Engineering",
          "ML Foundation ➡️ Feature Engineering",
          "ML Foundation ➡️ Feature Engineering",
          "ML Foundation ➡️ Feature Engineering",
          "ML Foundation ➡️ Feature Engineering",
          "ML Foundation ➡️ Feature Engineering",
          "ML Foundation ➡️ Feature Engineering",
          "ML Foundation ➡️ Feature Engineering",
          "ML Foundation ➡️ Feature Engineering",
          "ML Foundation ➡️ Feature Engineering",
          "ML Foundation ➡️ Feature Engineering",
          "ML Foundation ➡️ Feature Engineering",
          "ML Foundation ➡️ Feature Engineering",
          "ML Foundation ➡️ Feature Engineering",
          "ML Foundation ➡️ Feature Engineering",
          "ML Foundation ➡️ Feature Engineering",
          "ML Foundation ➡️ Feature Engineering",
          "ML Foundation ➡️ Feature Engineering",
          "ML Foundation ➡️ Feature Engineering",
          "ML Foundation ➡️ Feature Engineering",
          "ML Foundation ➡️ Feature Engineering",
          "ML Foundation ➡️ Feature Engineering",
          "ML Foundation ➡️ Feature Engineering",
          "ML Foundation ➡️ Feature Engineering",
          "ML Foundation ➡️ Feature Engineering",
          "ML Foundation ➡️ Feature Engineering",
          "ML Foundation ➡️ Feature Engineering",
          "ML Foundation ➡️ Feature Engineering",
          "ML Foundation ➡️ Feature Engineering",
          "ML Foundation ➡️ Feature Engineering",
          "ML Foundation ➡️ Feature Engineering",
          "ML Foundation ➡️ Feature Engineering",
          "ML Foundation ➡️ Feature Engineering",
          "ML Foundation ➡️ Feature Engineering",
          "ML Foundation ➡️ Feature Engineering",
          "ML Foundation ➡️ Feature Engineering",
          "ML Foundation ➡️ Feature Engineering",
          "ML Foundation ➡️ Feature Engineering",
          "ML Foundation ➡️ Feature Engineering",
          "ML Foundation ➡️ Feature Engineering"
         ],
         "legendgroup": "SILVER, ML Foundation ➡️ Feature Engineering",
         "line": {
          "color": "#EF553B",
          "dash": "solid"
         },
         "marker": {
          "symbol": "square"
         },
         "mode": "markers+lines",
         "name": "SILVER, ML Foundation ➡️ Feature Engineering",
         "orientation": "v",
         "showlegend": true,
         "type": "scatter",
         "x": [
          "2022-06-12",
          "2022-06-13",
          "2022-06-14",
          "2022-06-15",
          "2022-06-16",
          "2022-06-17",
          "2022-06-18",
          "2022-06-19",
          "2022-06-20",
          "2022-06-21",
          "2022-06-22",
          "2022-06-25",
          "2022-06-26",
          "2022-06-28",
          "2022-06-29",
          "2022-07-01",
          "2022-07-02",
          "2022-07-03",
          "2022-07-04",
          "2022-07-05",
          "2022-07-06",
          "2022-07-07",
          "2022-07-11",
          "2022-07-12",
          "2022-07-14",
          "2022-07-15",
          "2022-07-17",
          "2022-07-18",
          "2022-07-21",
          "2022-07-22",
          "2022-07-23",
          "2022-07-24",
          "2022-07-25",
          "2022-07-26",
          "2022-07-28",
          "2022-07-29",
          "2022-07-30",
          "2022-07-31",
          "2022-08-01",
          "2022-08-02",
          "2022-08-03"
         ],
         "xaxis": "x",
         "y": [
          36,
          36,
          36,
          36,
          36,
          36,
          36,
          36,
          36,
          36,
          36,
          37,
          37,
          37,
          37,
          38,
          38,
          38,
          38,
          39,
          40,
          40,
          41,
          41,
          41,
          42,
          43,
          44,
          47,
          47,
          47,
          49,
          49,
          49,
          49,
          49,
          49,
          49,
          51,
          51,
          52
         ],
         "yaxis": "y"
        },
        {
         "hovertemplate": "<b>%{hovertext}</b><br><br>medal=SILVER<br>title=▶️ Cristiano Ronaldo ⚽ Goals  📊 EDA, Analysis<br>date=%{x}<br>count=%{y}<extra></extra>",
         "hovertext": [
          "▶️ Cristiano Ronaldo ⚽ Goals  📊 EDA, Analysis",
          "▶️ Cristiano Ronaldo ⚽ Goals  📊 EDA, Analysis",
          "▶️ Cristiano Ronaldo ⚽ Goals  📊 EDA, Analysis",
          "▶️ Cristiano Ronaldo ⚽ Goals  📊 EDA, Analysis",
          "▶️ Cristiano Ronaldo ⚽ Goals  📊 EDA, Analysis",
          "▶️ Cristiano Ronaldo ⚽ Goals  📊 EDA, Analysis",
          "▶️ Cristiano Ronaldo ⚽ Goals  📊 EDA, Analysis",
          "▶️ Cristiano Ronaldo ⚽ Goals  📊 EDA, Analysis",
          "▶️ Cristiano Ronaldo ⚽ Goals  📊 EDA, Analysis",
          "▶️ Cristiano Ronaldo ⚽ Goals  📊 EDA, Analysis",
          "▶️ Cristiano Ronaldo ⚽ Goals  📊 EDA, Analysis",
          "▶️ Cristiano Ronaldo ⚽ Goals  📊 EDA, Analysis",
          "▶️ Cristiano Ronaldo ⚽ Goals  📊 EDA, Analysis",
          "▶️ Cristiano Ronaldo ⚽ Goals  📊 EDA, Analysis",
          "▶️ Cristiano Ronaldo ⚽ Goals  📊 EDA, Analysis",
          "▶️ Cristiano Ronaldo ⚽ Goals  📊 EDA, Analysis",
          "▶️ Cristiano Ronaldo ⚽ Goals  📊 EDA, Analysis",
          "▶️ Cristiano Ronaldo ⚽ Goals  📊 EDA, Analysis",
          "▶️ Cristiano Ronaldo ⚽ Goals  📊 EDA, Analysis",
          "▶️ Cristiano Ronaldo ⚽ Goals  📊 EDA, Analysis",
          "▶️ Cristiano Ronaldo ⚽ Goals  📊 EDA, Analysis",
          "▶️ Cristiano Ronaldo ⚽ Goals  📊 EDA, Analysis",
          "▶️ Cristiano Ronaldo ⚽ Goals  📊 EDA, Analysis",
          "▶️ Cristiano Ronaldo ⚽ Goals  📊 EDA, Analysis",
          "▶️ Cristiano Ronaldo ⚽ Goals  📊 EDA, Analysis",
          "▶️ Cristiano Ronaldo ⚽ Goals  📊 EDA, Analysis",
          "▶️ Cristiano Ronaldo ⚽ Goals  📊 EDA, Analysis",
          "▶️ Cristiano Ronaldo ⚽ Goals  📊 EDA, Analysis",
          "▶️ Cristiano Ronaldo ⚽ Goals  📊 EDA, Analysis",
          "▶️ Cristiano Ronaldo ⚽ Goals  📊 EDA, Analysis",
          "▶️ Cristiano Ronaldo ⚽ Goals  📊 EDA, Analysis",
          "▶️ Cristiano Ronaldo ⚽ Goals  📊 EDA, Analysis",
          "▶️ Cristiano Ronaldo ⚽ Goals  📊 EDA, Analysis",
          "▶️ Cristiano Ronaldo ⚽ Goals  📊 EDA, Analysis",
          "▶️ Cristiano Ronaldo ⚽ Goals  📊 EDA, Analysis",
          "▶️ Cristiano Ronaldo ⚽ Goals  📊 EDA, Analysis",
          "▶️ Cristiano Ronaldo ⚽ Goals  📊 EDA, Analysis",
          "▶️ Cristiano Ronaldo ⚽ Goals  📊 EDA, Analysis",
          "▶️ Cristiano Ronaldo ⚽ Goals  📊 EDA, Analysis",
          "▶️ Cristiano Ronaldo ⚽ Goals  📊 EDA, Analysis",
          "▶️ Cristiano Ronaldo ⚽ Goals  📊 EDA, Analysis"
         ],
         "legendgroup": "SILVER, ▶️ Cristiano Ronaldo ⚽ Goals  📊 EDA, Analysis",
         "line": {
          "color": "#EF553B",
          "dash": "solid"
         },
         "marker": {
          "symbol": "diamond"
         },
         "mode": "markers+lines",
         "name": "SILVER, ▶️ Cristiano Ronaldo ⚽ Goals  📊 EDA, Analysis",
         "orientation": "v",
         "showlegend": true,
         "type": "scatter",
         "x": [
          "2022-06-12",
          "2022-06-13",
          "2022-06-14",
          "2022-06-15",
          "2022-06-16",
          "2022-06-17",
          "2022-06-18",
          "2022-06-19",
          "2022-06-20",
          "2022-06-21",
          "2022-06-22",
          "2022-06-25",
          "2022-06-26",
          "2022-06-28",
          "2022-06-29",
          "2022-07-01",
          "2022-07-02",
          "2022-07-03",
          "2022-07-04",
          "2022-07-05",
          "2022-07-06",
          "2022-07-07",
          "2022-07-11",
          "2022-07-12",
          "2022-07-14",
          "2022-07-15",
          "2022-07-17",
          "2022-07-18",
          "2022-07-21",
          "2022-07-22",
          "2022-07-23",
          "2022-07-24",
          "2022-07-25",
          "2022-07-26",
          "2022-07-28",
          "2022-07-29",
          "2022-07-30",
          "2022-07-31",
          "2022-08-01",
          "2022-08-02",
          "2022-08-03"
         ],
         "xaxis": "x",
         "y": [
          39,
          39,
          39,
          39,
          39,
          39,
          39,
          39,
          39,
          40,
          40,
          40,
          40,
          40,
          40,
          41,
          41,
          41,
          41,
          42,
          42,
          42,
          46,
          47,
          49,
          49,
          49,
          49,
          53,
          53,
          53,
          55,
          56,
          57,
          57,
          57,
          58,
          58,
          60,
          60,
          60
         ],
         "yaxis": "y"
        },
        {
         "hovertemplate": "<b>%{hovertext}</b><br><br>medal=SILVER<br>title=Coursera 📉 EDA, Insights, Sentiment Analysis<br>date=%{x}<br>count=%{y}<extra></extra>",
         "hovertext": [
          "Coursera 📉 EDA, Insights, Sentiment Analysis",
          "Coursera 📉 EDA, Insights, Sentiment Analysis",
          "Coursera 📉 EDA, Insights, Sentiment Analysis",
          "Coursera 📉 EDA, Insights, Sentiment Analysis",
          "Coursera 📉 EDA, Insights, Sentiment Analysis",
          "Coursera 📉 EDA, Insights, Sentiment Analysis",
          "Coursera 📉 EDA, Insights, Sentiment Analysis",
          "Coursera 📉 EDA, Insights, Sentiment Analysis",
          "Coursera 📉 EDA, Insights, Sentiment Analysis",
          "Coursera 📉 EDA, Insights, Sentiment Analysis",
          "Coursera 📉 EDA, Insights, Sentiment Analysis",
          "Coursera 📉 EDA, Insights, Sentiment Analysis",
          "Coursera 📉 EDA, Insights, Sentiment Analysis",
          "Coursera 📉 EDA, Insights, Sentiment Analysis",
          "Coursera 📉 EDA, Insights, Sentiment Analysis",
          "Coursera 📉 EDA, Insights, Sentiment Analysis",
          "Coursera 📉 EDA, Insights, Sentiment Analysis",
          "Coursera 📉 EDA, Insights, Sentiment Analysis",
          "Coursera 📉 EDA, Insights, Sentiment Analysis",
          "Coursera 📉 EDA, Insights, Sentiment Analysis",
          "Coursera 📉 EDA, Insights, Sentiment Analysis",
          "Coursera 📉 EDA, Insights, Sentiment Analysis",
          "Coursera 📉 EDA, Insights, Sentiment Analysis",
          "Coursera 📉 EDA, Insights, Sentiment Analysis",
          "Coursera 📉 EDA, Insights, Sentiment Analysis",
          "Coursera 📉 EDA, Insights, Sentiment Analysis",
          "Coursera 📉 EDA, Insights, Sentiment Analysis",
          "Coursera 📉 EDA, Insights, Sentiment Analysis",
          "Coursera 📉 EDA, Insights, Sentiment Analysis",
          "Coursera 📉 EDA, Insights, Sentiment Analysis",
          "Coursera 📉 EDA, Insights, Sentiment Analysis",
          "Coursera 📉 EDA, Insights, Sentiment Analysis",
          "Coursera 📉 EDA, Insights, Sentiment Analysis",
          "Coursera 📉 EDA, Insights, Sentiment Analysis",
          "Coursera 📉 EDA, Insights, Sentiment Analysis",
          "Coursera 📉 EDA, Insights, Sentiment Analysis",
          "Coursera 📉 EDA, Insights, Sentiment Analysis",
          "Coursera 📉 EDA, Insights, Sentiment Analysis",
          "Coursera 📉 EDA, Insights, Sentiment Analysis",
          "Coursera 📉 EDA, Insights, Sentiment Analysis",
          "Coursera 📉 EDA, Insights, Sentiment Analysis"
         ],
         "legendgroup": "SILVER, Coursera 📉 EDA, Insights, Sentiment Analysis",
         "line": {
          "color": "#EF553B",
          "dash": "solid"
         },
         "marker": {
          "symbol": "square"
         },
         "mode": "markers+lines",
         "name": "SILVER, Coursera 📉 EDA, Insights, Sentiment Analysis",
         "orientation": "v",
         "showlegend": true,
         "type": "scatter",
         "x": [
          "2022-06-12",
          "2022-06-13",
          "2022-06-14",
          "2022-06-15",
          "2022-06-16",
          "2022-06-17",
          "2022-06-18",
          "2022-06-19",
          "2022-06-20",
          "2022-06-21",
          "2022-06-22",
          "2022-06-25",
          "2022-06-26",
          "2022-06-28",
          "2022-06-29",
          "2022-07-01",
          "2022-07-02",
          "2022-07-03",
          "2022-07-04",
          "2022-07-05",
          "2022-07-06",
          "2022-07-07",
          "2022-07-11",
          "2022-07-12",
          "2022-07-14",
          "2022-07-15",
          "2022-07-17",
          "2022-07-18",
          "2022-07-21",
          "2022-07-22",
          "2022-07-23",
          "2022-07-24",
          "2022-07-25",
          "2022-07-26",
          "2022-07-28",
          "2022-07-29",
          "2022-07-30",
          "2022-07-31",
          "2022-08-01",
          "2022-08-02",
          "2022-08-03"
         ],
         "xaxis": "x",
         "y": [
          26,
          26,
          26,
          26,
          27,
          27,
          27,
          27,
          27,
          27,
          27,
          27,
          27,
          27,
          27,
          27,
          27,
          27,
          27,
          28,
          28,
          28,
          28,
          28,
          28,
          28,
          29,
          29,
          29,
          29,
          29,
          29,
          30,
          30,
          30,
          31,
          32,
          33,
          36,
          36,
          37
         ],
         "yaxis": "y"
        },
        {
         "hovertemplate": "<b>%{hovertext}</b><br><br>medal=SILVER<br>title=Investment and Financial Analysis  🏭 GeoExports<br>date=%{x}<br>count=%{y}<extra></extra>",
         "hovertext": [
          "Investment and Financial Analysis  🏭 GeoExports",
          "Investment and Financial Analysis  🏭 GeoExports",
          "Investment and Financial Analysis  🏭 GeoExports",
          "Investment and Financial Analysis  🏭 GeoExports",
          "Investment and Financial Analysis  🏭 GeoExports",
          "Investment and Financial Analysis  🏭 GeoExports",
          "Investment and Financial Analysis  🏭 GeoExports",
          "Investment and Financial Analysis  🏭 GeoExports",
          "Investment and Financial Analysis  🏭 GeoExports",
          "Investment and Financial Analysis  🏭 GeoExports",
          "Investment and Financial Analysis  🏭 GeoExports",
          "Investment and Financial Analysis  🏭 GeoExports",
          "Investment and Financial Analysis  🏭 GeoExports",
          "Investment and Financial Analysis  🏭 GeoExports",
          "Investment and Financial Analysis  🏭 GeoExports",
          "Investment and Financial Analysis  🏭 GeoExports",
          "Investment and Financial Analysis  🏭 GeoExports",
          "Investment and Financial Analysis  🏭 GeoExports",
          "Investment and Financial Analysis  🏭 GeoExports",
          "Investment and Financial Analysis  🏭 GeoExports",
          "Investment and Financial Analysis  🏭 GeoExports",
          "Investment and Financial Analysis  🏭 GeoExports",
          "Investment and Financial Analysis  🏭 GeoExports",
          "Investment and Financial Analysis  🏭 GeoExports",
          "Investment and Financial Analysis  🏭 GeoExports",
          "Investment and Financial Analysis  🏭 GeoExports",
          "Investment and Financial Analysis  🏭 GeoExports",
          "Investment and Financial Analysis  🏭 GeoExports",
          "Investment and Financial Analysis  🏭 GeoExports",
          "Investment and Financial Analysis  🏭 GeoExports",
          "Investment and Financial Analysis  🏭 GeoExports",
          "Investment and Financial Analysis  🏭 GeoExports",
          "Investment and Financial Analysis  🏭 GeoExports",
          "Investment and Financial Analysis  🏭 GeoExports",
          "Investment and Financial Analysis  🏭 GeoExports",
          "Investment and Financial Analysis  🏭 GeoExports",
          "Investment and Financial Analysis  🏭 GeoExports",
          "Investment and Financial Analysis  🏭 GeoExports",
          "Investment and Financial Analysis  🏭 GeoExports",
          "Investment and Financial Analysis  🏭 GeoExports",
          "Investment and Financial Analysis  🏭 GeoExports"
         ],
         "legendgroup": "SILVER, Investment and Financial Analysis  🏭 GeoExports",
         "line": {
          "color": "#EF553B",
          "dash": "solid"
         },
         "marker": {
          "symbol": "x"
         },
         "mode": "markers+lines",
         "name": "SILVER, Investment and Financial Analysis  🏭 GeoExports",
         "orientation": "v",
         "showlegend": true,
         "type": "scatter",
         "x": [
          "2022-06-12",
          "2022-06-13",
          "2022-06-14",
          "2022-06-15",
          "2022-06-16",
          "2022-06-17",
          "2022-06-18",
          "2022-06-19",
          "2022-06-20",
          "2022-06-21",
          "2022-06-22",
          "2022-06-25",
          "2022-06-26",
          "2022-06-28",
          "2022-06-29",
          "2022-07-01",
          "2022-07-02",
          "2022-07-03",
          "2022-07-04",
          "2022-07-05",
          "2022-07-06",
          "2022-07-07",
          "2022-07-11",
          "2022-07-12",
          "2022-07-14",
          "2022-07-15",
          "2022-07-17",
          "2022-07-18",
          "2022-07-21",
          "2022-07-22",
          "2022-07-23",
          "2022-07-24",
          "2022-07-25",
          "2022-07-26",
          "2022-07-28",
          "2022-07-29",
          "2022-07-30",
          "2022-07-31",
          "2022-08-01",
          "2022-08-02",
          "2022-08-03"
         ],
         "xaxis": "x",
         "y": [
          29,
          29,
          29,
          29,
          30,
          30,
          30,
          30,
          30,
          30,
          30,
          30,
          30,
          30,
          30,
          31,
          31,
          31,
          31,
          32,
          32,
          32,
          32,
          32,
          32,
          32,
          32,
          34,
          35,
          35,
          35,
          37,
          38,
          38,
          38,
          38,
          38,
          38,
          39,
          39,
          41
         ],
         "yaxis": "y"
        },
        {
         "hovertemplate": "<b>%{hovertext}</b><br><br>medal=BRONZE<br>title=Daily AQI - Air Quality Index [Scheduled]<br>date=%{x}<br>count=%{y}<extra></extra>",
         "hovertext": [
          "Daily AQI - Air Quality Index [Scheduled]",
          "Daily AQI - Air Quality Index [Scheduled]",
          "Daily AQI - Air Quality Index [Scheduled]",
          "Daily AQI - Air Quality Index [Scheduled]",
          "Daily AQI - Air Quality Index [Scheduled]",
          "Daily AQI - Air Quality Index [Scheduled]",
          "Daily AQI - Air Quality Index [Scheduled]",
          "Daily AQI - Air Quality Index [Scheduled]",
          "Daily AQI - Air Quality Index [Scheduled]",
          "Daily AQI - Air Quality Index [Scheduled]",
          "Daily AQI - Air Quality Index [Scheduled]",
          "Daily AQI - Air Quality Index [Scheduled]"
         ],
         "legendgroup": "BRONZE, Daily AQI - Air Quality Index [Scheduled]",
         "line": {
          "color": "#00cc96",
          "dash": "solid"
         },
         "marker": {
          "symbol": "diamond"
         },
         "mode": "markers+lines",
         "name": "BRONZE, Daily AQI - Air Quality Index [Scheduled]",
         "orientation": "v",
         "showlegend": true,
         "type": "scatter",
         "x": [
          "2022-07-21",
          "2022-07-22",
          "2022-07-23",
          "2022-07-24",
          "2022-07-25",
          "2022-07-26",
          "2022-07-29",
          "2022-07-30",
          "2022-07-31",
          "2022-08-01",
          "2022-08-02",
          "2022-08-03"
         ],
         "xaxis": "x",
         "y": [
          3,
          11,
          12,
          14,
          15,
          16,
          18,
          18,
          19,
          22,
          23,
          23
         ],
         "yaxis": "y"
        },
        {
         "hovertemplate": "<b>%{hovertext}</b><br><br>medal=BRONZE<br>title=Classification ➡️ Comparing Different Algorithms<br>date=%{x}<br>count=%{y}<extra></extra>",
         "hovertext": [
          "Classification ➡️ Comparing Different Algorithms",
          "Classification ➡️ Comparing Different Algorithms",
          "Classification ➡️ Comparing Different Algorithms"
         ],
         "legendgroup": "BRONZE, Classification ➡️ Comparing Different Algorithms",
         "line": {
          "color": "#00cc96",
          "dash": "solid"
         },
         "marker": {
          "symbol": "square"
         },
         "mode": "markers+lines",
         "name": "BRONZE, Classification ➡️ Comparing Different Algorithms",
         "orientation": "v",
         "showlegend": true,
         "type": "scatter",
         "x": [
          "2022-08-01",
          "2022-08-02",
          "2022-08-03"
         ],
         "xaxis": "x",
         "y": [
          6,
          7,
          17
         ],
         "yaxis": "y"
        }
       ],
       "layout": {
        "height": 800,
        "legend": {
         "title": {
          "text": "medal, title"
         },
         "tracegroupgap": 0
        },
        "template": {
         "data": {
          "bar": [
           {
            "error_x": {
             "color": "#2a3f5f"
            },
            "error_y": {
             "color": "#2a3f5f"
            },
            "marker": {
             "line": {
              "color": "#E5ECF6",
              "width": 0.5
             },
             "pattern": {
              "fillmode": "overlay",
              "size": 10,
              "solidity": 0.2
             }
            },
            "type": "bar"
           }
          ],
          "barpolar": [
           {
            "marker": {
             "line": {
              "color": "#E5ECF6",
              "width": 0.5
             },
             "pattern": {
              "fillmode": "overlay",
              "size": 10,
              "solidity": 0.2
             }
            },
            "type": "barpolar"
           }
          ],
          "carpet": [
           {
            "aaxis": {
             "endlinecolor": "#2a3f5f",
             "gridcolor": "white",
             "linecolor": "white",
             "minorgridcolor": "white",
             "startlinecolor": "#2a3f5f"
            },
            "baxis": {
             "endlinecolor": "#2a3f5f",
             "gridcolor": "white",
             "linecolor": "white",
             "minorgridcolor": "white",
             "startlinecolor": "#2a3f5f"
            },
            "type": "carpet"
           }
          ],
          "choropleth": [
           {
            "colorbar": {
             "outlinewidth": 0,
             "ticks": ""
            },
            "type": "choropleth"
           }
          ],
          "contour": [
           {
            "colorbar": {
             "outlinewidth": 0,
             "ticks": ""
            },
            "colorscale": [
             [
              0,
              "#0d0887"
             ],
             [
              0.1111111111111111,
              "#46039f"
             ],
             [
              0.2222222222222222,
              "#7201a8"
             ],
             [
              0.3333333333333333,
              "#9c179e"
             ],
             [
              0.4444444444444444,
              "#bd3786"
             ],
             [
              0.5555555555555556,
              "#d8576b"
             ],
             [
              0.6666666666666666,
              "#ed7953"
             ],
             [
              0.7777777777777778,
              "#fb9f3a"
             ],
             [
              0.8888888888888888,
              "#fdca26"
             ],
             [
              1,
              "#f0f921"
             ]
            ],
            "type": "contour"
           }
          ],
          "contourcarpet": [
           {
            "colorbar": {
             "outlinewidth": 0,
             "ticks": ""
            },
            "type": "contourcarpet"
           }
          ],
          "heatmap": [
           {
            "colorbar": {
             "outlinewidth": 0,
             "ticks": ""
            },
            "colorscale": [
             [
              0,
              "#0d0887"
             ],
             [
              0.1111111111111111,
              "#46039f"
             ],
             [
              0.2222222222222222,
              "#7201a8"
             ],
             [
              0.3333333333333333,
              "#9c179e"
             ],
             [
              0.4444444444444444,
              "#bd3786"
             ],
             [
              0.5555555555555556,
              "#d8576b"
             ],
             [
              0.6666666666666666,
              "#ed7953"
             ],
             [
              0.7777777777777778,
              "#fb9f3a"
             ],
             [
              0.8888888888888888,
              "#fdca26"
             ],
             [
              1,
              "#f0f921"
             ]
            ],
            "type": "heatmap"
           }
          ],
          "heatmapgl": [
           {
            "colorbar": {
             "outlinewidth": 0,
             "ticks": ""
            },
            "colorscale": [
             [
              0,
              "#0d0887"
             ],
             [
              0.1111111111111111,
              "#46039f"
             ],
             [
              0.2222222222222222,
              "#7201a8"
             ],
             [
              0.3333333333333333,
              "#9c179e"
             ],
             [
              0.4444444444444444,
              "#bd3786"
             ],
             [
              0.5555555555555556,
              "#d8576b"
             ],
             [
              0.6666666666666666,
              "#ed7953"
             ],
             [
              0.7777777777777778,
              "#fb9f3a"
             ],
             [
              0.8888888888888888,
              "#fdca26"
             ],
             [
              1,
              "#f0f921"
             ]
            ],
            "type": "heatmapgl"
           }
          ],
          "histogram": [
           {
            "marker": {
             "pattern": {
              "fillmode": "overlay",
              "size": 10,
              "solidity": 0.2
             }
            },
            "type": "histogram"
           }
          ],
          "histogram2d": [
           {
            "colorbar": {
             "outlinewidth": 0,
             "ticks": ""
            },
            "colorscale": [
             [
              0,
              "#0d0887"
             ],
             [
              0.1111111111111111,
              "#46039f"
             ],
             [
              0.2222222222222222,
              "#7201a8"
             ],
             [
              0.3333333333333333,
              "#9c179e"
             ],
             [
              0.4444444444444444,
              "#bd3786"
             ],
             [
              0.5555555555555556,
              "#d8576b"
             ],
             [
              0.6666666666666666,
              "#ed7953"
             ],
             [
              0.7777777777777778,
              "#fb9f3a"
             ],
             [
              0.8888888888888888,
              "#fdca26"
             ],
             [
              1,
              "#f0f921"
             ]
            ],
            "type": "histogram2d"
           }
          ],
          "histogram2dcontour": [
           {
            "colorbar": {
             "outlinewidth": 0,
             "ticks": ""
            },
            "colorscale": [
             [
              0,
              "#0d0887"
             ],
             [
              0.1111111111111111,
              "#46039f"
             ],
             [
              0.2222222222222222,
              "#7201a8"
             ],
             [
              0.3333333333333333,
              "#9c179e"
             ],
             [
              0.4444444444444444,
              "#bd3786"
             ],
             [
              0.5555555555555556,
              "#d8576b"
             ],
             [
              0.6666666666666666,
              "#ed7953"
             ],
             [
              0.7777777777777778,
              "#fb9f3a"
             ],
             [
              0.8888888888888888,
              "#fdca26"
             ],
             [
              1,
              "#f0f921"
             ]
            ],
            "type": "histogram2dcontour"
           }
          ],
          "mesh3d": [
           {
            "colorbar": {
             "outlinewidth": 0,
             "ticks": ""
            },
            "type": "mesh3d"
           }
          ],
          "parcoords": [
           {
            "line": {
             "colorbar": {
              "outlinewidth": 0,
              "ticks": ""
             }
            },
            "type": "parcoords"
           }
          ],
          "pie": [
           {
            "automargin": true,
            "type": "pie"
           }
          ],
          "scatter": [
           {
            "fillpattern": {
             "fillmode": "overlay",
             "size": 10,
             "solidity": 0.2
            },
            "type": "scatter"
           }
          ],
          "scatter3d": [
           {
            "line": {
             "colorbar": {
              "outlinewidth": 0,
              "ticks": ""
             }
            },
            "marker": {
             "colorbar": {
              "outlinewidth": 0,
              "ticks": ""
             }
            },
            "type": "scatter3d"
           }
          ],
          "scattercarpet": [
           {
            "marker": {
             "colorbar": {
              "outlinewidth": 0,
              "ticks": ""
             }
            },
            "type": "scattercarpet"
           }
          ],
          "scattergeo": [
           {
            "marker": {
             "colorbar": {
              "outlinewidth": 0,
              "ticks": ""
             }
            },
            "type": "scattergeo"
           }
          ],
          "scattergl": [
           {
            "marker": {
             "colorbar": {
              "outlinewidth": 0,
              "ticks": ""
             }
            },
            "type": "scattergl"
           }
          ],
          "scattermapbox": [
           {
            "marker": {
             "colorbar": {
              "outlinewidth": 0,
              "ticks": ""
             }
            },
            "type": "scattermapbox"
           }
          ],
          "scatterpolar": [
           {
            "marker": {
             "colorbar": {
              "outlinewidth": 0,
              "ticks": ""
             }
            },
            "type": "scatterpolar"
           }
          ],
          "scatterpolargl": [
           {
            "marker": {
             "colorbar": {
              "outlinewidth": 0,
              "ticks": ""
             }
            },
            "type": "scatterpolargl"
           }
          ],
          "scatterternary": [
           {
            "marker": {
             "colorbar": {
              "outlinewidth": 0,
              "ticks": ""
             }
            },
            "type": "scatterternary"
           }
          ],
          "surface": [
           {
            "colorbar": {
             "outlinewidth": 0,
             "ticks": ""
            },
            "colorscale": [
             [
              0,
              "#0d0887"
             ],
             [
              0.1111111111111111,
              "#46039f"
             ],
             [
              0.2222222222222222,
              "#7201a8"
             ],
             [
              0.3333333333333333,
              "#9c179e"
             ],
             [
              0.4444444444444444,
              "#bd3786"
             ],
             [
              0.5555555555555556,
              "#d8576b"
             ],
             [
              0.6666666666666666,
              "#ed7953"
             ],
             [
              0.7777777777777778,
              "#fb9f3a"
             ],
             [
              0.8888888888888888,
              "#fdca26"
             ],
             [
              1,
              "#f0f921"
             ]
            ],
            "type": "surface"
           }
          ],
          "table": [
           {
            "cells": {
             "fill": {
              "color": "#EBF0F8"
             },
             "line": {
              "color": "white"
             }
            },
            "header": {
             "fill": {
              "color": "#C8D4E3"
             },
             "line": {
              "color": "white"
             }
            },
            "type": "table"
           }
          ]
         },
         "layout": {
          "annotationdefaults": {
           "arrowcolor": "#2a3f5f",
           "arrowhead": 0,
           "arrowwidth": 1
          },
          "autotypenumbers": "strict",
          "coloraxis": {
           "colorbar": {
            "outlinewidth": 0,
            "ticks": ""
           }
          },
          "colorscale": {
           "diverging": [
            [
             0,
             "#8e0152"
            ],
            [
             0.1,
             "#c51b7d"
            ],
            [
             0.2,
             "#de77ae"
            ],
            [
             0.3,
             "#f1b6da"
            ],
            [
             0.4,
             "#fde0ef"
            ],
            [
             0.5,
             "#f7f7f7"
            ],
            [
             0.6,
             "#e6f5d0"
            ],
            [
             0.7,
             "#b8e186"
            ],
            [
             0.8,
             "#7fbc41"
            ],
            [
             0.9,
             "#4d9221"
            ],
            [
             1,
             "#276419"
            ]
           ],
           "sequential": [
            [
             0,
             "#0d0887"
            ],
            [
             0.1111111111111111,
             "#46039f"
            ],
            [
             0.2222222222222222,
             "#7201a8"
            ],
            [
             0.3333333333333333,
             "#9c179e"
            ],
            [
             0.4444444444444444,
             "#bd3786"
            ],
            [
             0.5555555555555556,
             "#d8576b"
            ],
            [
             0.6666666666666666,
             "#ed7953"
            ],
            [
             0.7777777777777778,
             "#fb9f3a"
            ],
            [
             0.8888888888888888,
             "#fdca26"
            ],
            [
             1,
             "#f0f921"
            ]
           ],
           "sequentialminus": [
            [
             0,
             "#0d0887"
            ],
            [
             0.1111111111111111,
             "#46039f"
            ],
            [
             0.2222222222222222,
             "#7201a8"
            ],
            [
             0.3333333333333333,
             "#9c179e"
            ],
            [
             0.4444444444444444,
             "#bd3786"
            ],
            [
             0.5555555555555556,
             "#d8576b"
            ],
            [
             0.6666666666666666,
             "#ed7953"
            ],
            [
             0.7777777777777778,
             "#fb9f3a"
            ],
            [
             0.8888888888888888,
             "#fdca26"
            ],
            [
             1,
             "#f0f921"
            ]
           ]
          },
          "colorway": [
           "#636efa",
           "#EF553B",
           "#00cc96",
           "#ab63fa",
           "#FFA15A",
           "#19d3f3",
           "#FF6692",
           "#B6E880",
           "#FF97FF",
           "#FECB52"
          ],
          "font": {
           "color": "#2a3f5f"
          },
          "geo": {
           "bgcolor": "white",
           "lakecolor": "white",
           "landcolor": "#E5ECF6",
           "showlakes": true,
           "showland": true,
           "subunitcolor": "white"
          },
          "hoverlabel": {
           "align": "left"
          },
          "hovermode": "closest",
          "mapbox": {
           "style": "light"
          },
          "paper_bgcolor": "white",
          "plot_bgcolor": "#E5ECF6",
          "polar": {
           "angularaxis": {
            "gridcolor": "white",
            "linecolor": "white",
            "ticks": ""
           },
           "bgcolor": "#E5ECF6",
           "radialaxis": {
            "gridcolor": "white",
            "linecolor": "white",
            "ticks": ""
           }
          },
          "scene": {
           "xaxis": {
            "backgroundcolor": "#E5ECF6",
            "gridcolor": "white",
            "gridwidth": 2,
            "linecolor": "white",
            "showbackground": true,
            "ticks": "",
            "zerolinecolor": "white"
           },
           "yaxis": {
            "backgroundcolor": "#E5ECF6",
            "gridcolor": "white",
            "gridwidth": 2,
            "linecolor": "white",
            "showbackground": true,
            "ticks": "",
            "zerolinecolor": "white"
           },
           "zaxis": {
            "backgroundcolor": "#E5ECF6",
            "gridcolor": "white",
            "gridwidth": 2,
            "linecolor": "white",
            "showbackground": true,
            "ticks": "",
            "zerolinecolor": "white"
           }
          },
          "shapedefaults": {
           "line": {
            "color": "#2a3f5f"
           }
          },
          "ternary": {
           "aaxis": {
            "gridcolor": "white",
            "linecolor": "white",
            "ticks": ""
           },
           "baxis": {
            "gridcolor": "white",
            "linecolor": "white",
            "ticks": ""
           },
           "bgcolor": "#E5ECF6",
           "caxis": {
            "gridcolor": "white",
            "linecolor": "white",
            "ticks": ""
           }
          },
          "title": {
           "x": 0.05
          },
          "xaxis": {
           "automargin": true,
           "gridcolor": "white",
           "linecolor": "white",
           "ticks": "",
           "title": {
            "standoff": 15
           },
           "zerolinecolor": "white",
           "zerolinewidth": 2
          },
          "yaxis": {
           "automargin": true,
           "gridcolor": "white",
           "linecolor": "white",
           "ticks": "",
           "title": {
            "standoff": 15
           },
           "zerolinecolor": "white",
           "zerolinewidth": 2
          }
         }
        },
        "title": {
         "text": "Notebooks by Azmine Toushik Wasi 2022-08-02"
        },
        "xaxis": {
         "anchor": "y",
         "domain": [
          0,
          1
         ],
         "title": {
          "text": "date"
         }
        },
        "yaxis": {
         "anchor": "x",
         "domain": [
          0,
          1
         ],
         "title": {
          "text": "count"
         }
        }
       }
      }
     },
     "metadata": {},
     "output_type": "display_data"
    }
   ],
   "source": [
    "px.line(\n",
    "    df_d,\n",
    "    x='date',\n",
    "    y='count',\n",
    "    title=f'Notebooks by {df.author_displayName.get(0)} '+str(links[-2][25:35]),\n",
    "    log_x=False,\n",
    "    log_y=False,\n",
    "    symbol='title',\n",
    "    markers=True,\n",
    "    #width=800, \n",
    "    height=800,\n",
    "    color='medal',\n",
    "    hover_name='title')"
   ]
  },
  {
   "cell_type": "code",
   "execution_count": 15,
   "id": "9abc5ec8",
   "metadata": {},
   "outputs": [],
   "source": [
    "\"\"\"sns.set(rc={'figure.figsize':(28,20)})\n",
    "p=sns.lineplot(x='date',data=df_d,y='view_count',style='title',palette='Dark2',hue=\"medal\",markers=True,markersize=15)\n",
    "plt.xticks(fontsize=10,rotation='vertical')\n",
    "p.axes.set_title(\"\\nViews\\n\",fontsize=20)\n",
    "p.axes.axhline(y=2000, linewidth =4, color='brown',alpha=0.3,linestyle='--')\n",
    "p.axes.axhline(y=3000, linewidth =4, color='red',alpha=0.3,linestyle='--')\n",
    "p.axes.axhline(y=4000, linewidth =4, color='red',alpha=0.3,linestyle='--');\n",
    "for l in p.lines:\n",
    "    y = l.get_ydata()\n",
    "    if len(y)>0:\n",
    "        p.annotate(f'{y[-1]:.0f}', xy=(1,y[-1]), xycoords=('axes fraction', 'data'), \n",
    "                     ha='left', va='center', color=l.get_color())\n",
    "plt.legend(fontsize='x-large', title_fontsize='40',markerscale=2)\n",
    "plt.show();\"\"\";"
   ]
  },
  {
   "cell_type": "code",
   "execution_count": 16,
   "id": "ef90ca2e",
   "metadata": {},
   "outputs": [
    {
     "data": {
      "application/vnd.plotly.v1+json": {
       "config": {
        "plotlyServerURL": "https://plot.ly"
       },
       "data": [
        {
         "hovertemplate": "<b>%{hovertext}</b><br><br>medal=GOLD<br>title=UCL ⚽ EDA & Viz ⭐ 2021-22 ⭐ Players & Teams<br>date=%{x}<br>view_count=%{y}<extra></extra>",
         "hovertext": [
          "UCL ⚽ EDA & Viz ⭐ 2021-22 ⭐ Players & Teams",
          "UCL ⚽ EDA & Viz ⭐ 2021-22 ⭐ Players & Teams",
          "UCL ⚽ EDA & Viz ⭐ 2021-22 ⭐ Players & Teams",
          "UCL ⚽ EDA & Viz ⭐ 2021-22 ⭐ Players & Teams",
          "UCL ⚽ EDA & Viz ⭐ 2021-22 ⭐ Players & Teams",
          "UCL ⚽ EDA & Viz ⭐ 2021-22 ⭐ Players & Teams",
          "UCL ⚽ EDA & Viz ⭐ 2021-22 ⭐ Players & Teams",
          "UCL ⚽ EDA & Viz ⭐ 2021-22 ⭐ Players & Teams",
          "UCL ⚽ EDA & Viz ⭐ 2021-22 ⭐ Players & Teams",
          "UCL ⚽ EDA & Viz ⭐ 2021-22 ⭐ Players & Teams",
          "UCL ⚽ EDA & Viz ⭐ 2021-22 ⭐ Players & Teams",
          "UCL ⚽ EDA & Viz ⭐ 2021-22 ⭐ Players & Teams",
          "UCL ⚽ EDA & Viz ⭐ 2021-22 ⭐ Players & Teams",
          "UCL ⚽ EDA & Viz ⭐ 2021-22 ⭐ Players & Teams",
          "UCL ⚽ EDA & Viz ⭐ 2021-22 ⭐ Players & Teams",
          "UCL ⚽ EDA & Viz ⭐ 2021-22 ⭐ Players & Teams",
          "UCL ⚽ EDA & Viz ⭐ 2021-22 ⭐ Players & Teams",
          "UCL ⚽ EDA & Viz ⭐ 2021-22 ⭐ Players & Teams",
          "UCL ⚽ EDA & Viz ⭐ 2021-22 ⭐ Players & Teams",
          "UCL ⚽ EDA & Viz ⭐ 2021-22 ⭐ Players & Teams",
          "UCL ⚽ EDA & Viz ⭐ 2021-22 ⭐ Players & Teams",
          "UCL ⚽ EDA & Viz ⭐ 2021-22 ⭐ Players & Teams",
          "UCL ⚽ EDA & Viz ⭐ 2021-22 ⭐ Players & Teams",
          "UCL ⚽ EDA & Viz ⭐ 2021-22 ⭐ Players & Teams",
          "UCL ⚽ EDA & Viz ⭐ 2021-22 ⭐ Players & Teams",
          "UCL ⚽ EDA & Viz ⭐ 2021-22 ⭐ Players & Teams",
          "UCL ⚽ EDA & Viz ⭐ 2021-22 ⭐ Players & Teams",
          "UCL ⚽ EDA & Viz ⭐ 2021-22 ⭐ Players & Teams",
          "UCL ⚽ EDA & Viz ⭐ 2021-22 ⭐ Players & Teams",
          "UCL ⚽ EDA & Viz ⭐ 2021-22 ⭐ Players & Teams",
          "UCL ⚽ EDA & Viz ⭐ 2021-22 ⭐ Players & Teams",
          "UCL ⚽ EDA & Viz ⭐ 2021-22 ⭐ Players & Teams",
          "UCL ⚽ EDA & Viz ⭐ 2021-22 ⭐ Players & Teams",
          "UCL ⚽ EDA & Viz ⭐ 2021-22 ⭐ Players & Teams",
          "UCL ⚽ EDA & Viz ⭐ 2021-22 ⭐ Players & Teams",
          "UCL ⚽ EDA & Viz ⭐ 2021-22 ⭐ Players & Teams",
          "UCL ⚽ EDA & Viz ⭐ 2021-22 ⭐ Players & Teams",
          "UCL ⚽ EDA & Viz ⭐ 2021-22 ⭐ Players & Teams",
          "UCL ⚽ EDA & Viz ⭐ 2021-22 ⭐ Players & Teams",
          "UCL ⚽ EDA & Viz ⭐ 2021-22 ⭐ Players & Teams",
          "UCL ⚽ EDA & Viz ⭐ 2021-22 ⭐ Players & Teams"
         ],
         "legendgroup": "GOLD, UCL ⚽ EDA & Viz ⭐ 2021-22 ⭐ Players & Teams",
         "line": {
          "color": "#636efa",
          "dash": "solid"
         },
         "marker": {
          "symbol": "circle"
         },
         "mode": "markers+lines",
         "name": "GOLD, UCL ⚽ EDA & Viz ⭐ 2021-22 ⭐ Players & Teams",
         "orientation": "v",
         "showlegend": true,
         "type": "scatter",
         "x": [
          "2022-06-12",
          "2022-06-13",
          "2022-06-14",
          "2022-06-15",
          "2022-06-16",
          "2022-06-17",
          "2022-06-18",
          "2022-06-19",
          "2022-06-20",
          "2022-06-21",
          "2022-06-22",
          "2022-06-25",
          "2022-06-26",
          "2022-06-28",
          "2022-06-29",
          "2022-07-01",
          "2022-07-02",
          "2022-07-03",
          "2022-07-04",
          "2022-07-05",
          "2022-07-06",
          "2022-07-07",
          "2022-07-11",
          "2022-07-12",
          "2022-07-14",
          "2022-07-15",
          "2022-07-17",
          "2022-07-18",
          "2022-07-21",
          "2022-07-22",
          "2022-07-23",
          "2022-07-24",
          "2022-07-25",
          "2022-07-26",
          "2022-07-28",
          "2022-07-29",
          "2022-07-30",
          "2022-07-31",
          "2022-08-01",
          "2022-08-02",
          "2022-08-03"
         ],
         "xaxis": "x",
         "y": [
          404,
          455,
          502,
          568,
          702,
          766,
          833,
          865,
          926,
          1003,
          1045,
          1124,
          1159,
          1211,
          1248,
          1331,
          1355,
          1368,
          1378,
          1437,
          1464,
          1475,
          1553,
          1566,
          1619,
          1634,
          1700,
          1713,
          1774,
          1782,
          1812,
          1842,
          1864,
          1893,
          1913,
          1935,
          1950,
          1969,
          1992,
          2007,
          2021
         ],
         "yaxis": "y"
        },
        {
         "hovertemplate": "<b>%{hovertext}</b><br><br>medal=GOLD<br>title=Divorce Prediction & Reasons Analysis with PCA<br>date=%{x}<br>view_count=%{y}<extra></extra>",
         "hovertext": [
          "Divorce Prediction & Reasons Analysis with PCA",
          "Divorce Prediction & Reasons Analysis with PCA",
          "Divorce Prediction & Reasons Analysis with PCA",
          "Divorce Prediction & Reasons Analysis with PCA",
          "Divorce Prediction & Reasons Analysis with PCA",
          "Divorce Prediction & Reasons Analysis with PCA",
          "Divorce Prediction & Reasons Analysis with PCA",
          "Divorce Prediction & Reasons Analysis with PCA",
          "Divorce Prediction & Reasons Analysis with PCA",
          "Divorce Prediction & Reasons Analysis with PCA",
          "Divorce Prediction & Reasons Analysis with PCA",
          "Divorce Prediction & Reasons Analysis with PCA",
          "Divorce Prediction & Reasons Analysis with PCA",
          "Divorce Prediction & Reasons Analysis with PCA",
          "Divorce Prediction & Reasons Analysis with PCA",
          "Divorce Prediction & Reasons Analysis with PCA",
          "Divorce Prediction & Reasons Analysis with PCA",
          "Divorce Prediction & Reasons Analysis with PCA",
          "Divorce Prediction & Reasons Analysis with PCA",
          "Divorce Prediction & Reasons Analysis with PCA",
          "Divorce Prediction & Reasons Analysis with PCA",
          "Divorce Prediction & Reasons Analysis with PCA",
          "Divorce Prediction & Reasons Analysis with PCA",
          "Divorce Prediction & Reasons Analysis with PCA",
          "Divorce Prediction & Reasons Analysis with PCA",
          "Divorce Prediction & Reasons Analysis with PCA",
          "Divorce Prediction & Reasons Analysis with PCA",
          "Divorce Prediction & Reasons Analysis with PCA",
          "Divorce Prediction & Reasons Analysis with PCA",
          "Divorce Prediction & Reasons Analysis with PCA",
          "Divorce Prediction & Reasons Analysis with PCA",
          "Divorce Prediction & Reasons Analysis with PCA",
          "Divorce Prediction & Reasons Analysis with PCA",
          "Divorce Prediction & Reasons Analysis with PCA",
          "Divorce Prediction & Reasons Analysis with PCA",
          "Divorce Prediction & Reasons Analysis with PCA",
          "Divorce Prediction & Reasons Analysis with PCA",
          "Divorce Prediction & Reasons Analysis with PCA",
          "Divorce Prediction & Reasons Analysis with PCA",
          "Divorce Prediction & Reasons Analysis with PCA",
          "Divorce Prediction & Reasons Analysis with PCA"
         ],
         "legendgroup": "GOLD, Divorce Prediction & Reasons Analysis with PCA",
         "line": {
          "color": "#636efa",
          "dash": "solid"
         },
         "marker": {
          "symbol": "diamond"
         },
         "mode": "markers+lines",
         "name": "GOLD, Divorce Prediction & Reasons Analysis with PCA",
         "orientation": "v",
         "showlegend": true,
         "type": "scatter",
         "x": [
          "2022-06-12",
          "2022-06-13",
          "2022-06-14",
          "2022-06-15",
          "2022-06-16",
          "2022-06-17",
          "2022-06-18",
          "2022-06-19",
          "2022-06-20",
          "2022-06-21",
          "2022-06-22",
          "2022-06-25",
          "2022-06-26",
          "2022-06-28",
          "2022-06-29",
          "2022-07-01",
          "2022-07-02",
          "2022-07-03",
          "2022-07-04",
          "2022-07-05",
          "2022-07-06",
          "2022-07-07",
          "2022-07-11",
          "2022-07-12",
          "2022-07-14",
          "2022-07-15",
          "2022-07-17",
          "2022-07-18",
          "2022-07-21",
          "2022-07-22",
          "2022-07-23",
          "2022-07-24",
          "2022-07-25",
          "2022-07-26",
          "2022-07-28",
          "2022-07-29",
          "2022-07-30",
          "2022-07-31",
          "2022-08-01",
          "2022-08-02",
          "2022-08-03"
         ],
         "xaxis": "x",
         "y": [
          435,
          470,
          490,
          514,
          540,
          568,
          580,
          591,
          596,
          607,
          626,
          679,
          706,
          733,
          757,
          784,
          796,
          802,
          813,
          846,
          872,
          877,
          965,
          986,
          1035,
          1060,
          1111,
          1120,
          1198,
          1207,
          1217,
          1235,
          1247,
          1262,
          1273,
          1288,
          1294,
          1308,
          1318,
          1325,
          1348
         ],
         "yaxis": "y"
        },
        {
         "hovertemplate": "<b>%{hovertext}</b><br><br>medal=GOLD<br>title=ML Foundation ➡️ Imputation : All Techniques<br>date=%{x}<br>view_count=%{y}<extra></extra>",
         "hovertext": [
          "ML Foundation ➡️ Imputation : All Techniques",
          "ML Foundation ➡️ Imputation : All Techniques",
          "ML Foundation ➡️ Imputation : All Techniques",
          "ML Foundation ➡️ Imputation : All Techniques",
          "ML Foundation ➡️ Imputation : All Techniques",
          "ML Foundation ➡️ Imputation : All Techniques",
          "ML Foundation ➡️ Imputation : All Techniques",
          "ML Foundation ➡️ Imputation : All Techniques",
          "ML Foundation ➡️ Imputation : All Techniques",
          "ML Foundation ➡️ Imputation : All Techniques",
          "ML Foundation ➡️ Imputation : All Techniques",
          "ML Foundation ➡️ Imputation : All Techniques",
          "ML Foundation ➡️ Imputation : All Techniques",
          "ML Foundation ➡️ Imputation : All Techniques",
          "ML Foundation ➡️ Imputation : All Techniques",
          "ML Foundation ➡️ Imputation : All Techniques",
          "ML Foundation ➡️ Imputation : All Techniques",
          "ML Foundation ➡️ Imputation : All Techniques",
          "ML Foundation ➡️ Imputation : All Techniques",
          "ML Foundation ➡️ Imputation : All Techniques",
          "ML Foundation ➡️ Imputation : All Techniques",
          "ML Foundation ➡️ Imputation : All Techniques",
          "ML Foundation ➡️ Imputation : All Techniques",
          "ML Foundation ➡️ Imputation : All Techniques",
          "ML Foundation ➡️ Imputation : All Techniques",
          "ML Foundation ➡️ Imputation : All Techniques",
          "ML Foundation ➡️ Imputation : All Techniques",
          "ML Foundation ➡️ Imputation : All Techniques",
          "ML Foundation ➡️ Imputation : All Techniques",
          "ML Foundation ➡️ Imputation : All Techniques",
          "ML Foundation ➡️ Imputation : All Techniques",
          "ML Foundation ➡️ Imputation : All Techniques",
          "ML Foundation ➡️ Imputation : All Techniques",
          "ML Foundation ➡️ Imputation : All Techniques",
          "ML Foundation ➡️ Imputation : All Techniques",
          "ML Foundation ➡️ Imputation : All Techniques",
          "ML Foundation ➡️ Imputation : All Techniques",
          "ML Foundation ➡️ Imputation : All Techniques",
          "ML Foundation ➡️ Imputation : All Techniques",
          "ML Foundation ➡️ Imputation : All Techniques",
          "ML Foundation ➡️ Imputation : All Techniques"
         ],
         "legendgroup": "GOLD, ML Foundation ➡️ Imputation : All Techniques",
         "line": {
          "color": "#636efa",
          "dash": "solid"
         },
         "marker": {
          "symbol": "x"
         },
         "mode": "markers+lines",
         "name": "GOLD, ML Foundation ➡️ Imputation : All Techniques",
         "orientation": "v",
         "showlegend": true,
         "type": "scatter",
         "x": [
          "2022-06-12",
          "2022-06-13",
          "2022-06-14",
          "2022-06-15",
          "2022-06-16",
          "2022-06-17",
          "2022-06-18",
          "2022-06-19",
          "2022-06-20",
          "2022-06-21",
          "2022-06-22",
          "2022-06-25",
          "2022-06-26",
          "2022-06-28",
          "2022-06-29",
          "2022-07-01",
          "2022-07-02",
          "2022-07-03",
          "2022-07-04",
          "2022-07-05",
          "2022-07-06",
          "2022-07-07",
          "2022-07-11",
          "2022-07-12",
          "2022-07-14",
          "2022-07-15",
          "2022-07-17",
          "2022-07-18",
          "2022-07-21",
          "2022-07-22",
          "2022-07-23",
          "2022-07-24",
          "2022-07-25",
          "2022-07-26",
          "2022-07-28",
          "2022-07-29",
          "2022-07-30",
          "2022-07-31",
          "2022-08-01",
          "2022-08-02",
          "2022-08-03"
         ],
         "xaxis": "x",
         "y": [
          755,
          804,
          1428,
          1976,
          2132,
          2238,
          2333,
          2409,
          2519,
          2658,
          2739,
          2963,
          3041,
          3238,
          3355,
          3555,
          3608,
          3656,
          3713,
          3827,
          3910,
          3934,
          4229,
          4265,
          4384,
          4433,
          4567,
          4591,
          4767,
          4811,
          4877,
          4925,
          4987,
          5053,
          5142,
          5195,
          5241,
          5326,
          5379,
          5393,
          5440
         ],
         "yaxis": "y"
        },
        {
         "hovertemplate": "<b>%{hovertext}</b><br><br>medal=GOLD<br>title=ML Foundation ➡️ Bias-Variance Tradeoff <br>date=%{x}<br>view_count=%{y}<extra></extra>",
         "hovertext": [
          "ML Foundation ➡️ Bias-Variance Tradeoff ",
          "ML Foundation ➡️ Bias-Variance Tradeoff ",
          "ML Foundation ➡️ Bias-Variance Tradeoff ",
          "ML Foundation ➡️ Bias-Variance Tradeoff ",
          "ML Foundation ➡️ Bias-Variance Tradeoff ",
          "ML Foundation ➡️ Bias-Variance Tradeoff ",
          "ML Foundation ➡️ Bias-Variance Tradeoff ",
          "ML Foundation ➡️ Bias-Variance Tradeoff ",
          "ML Foundation ➡️ Bias-Variance Tradeoff ",
          "ML Foundation ➡️ Bias-Variance Tradeoff ",
          "ML Foundation ➡️ Bias-Variance Tradeoff ",
          "ML Foundation ➡️ Bias-Variance Tradeoff ",
          "ML Foundation ➡️ Bias-Variance Tradeoff ",
          "ML Foundation ➡️ Bias-Variance Tradeoff ",
          "ML Foundation ➡️ Bias-Variance Tradeoff ",
          "ML Foundation ➡️ Bias-Variance Tradeoff ",
          "ML Foundation ➡️ Bias-Variance Tradeoff ",
          "ML Foundation ➡️ Bias-Variance Tradeoff ",
          "ML Foundation ➡️ Bias-Variance Tradeoff ",
          "ML Foundation ➡️ Bias-Variance Tradeoff ",
          "ML Foundation ➡️ Bias-Variance Tradeoff ",
          "ML Foundation ➡️ Bias-Variance Tradeoff ",
          "ML Foundation ➡️ Bias-Variance Tradeoff ",
          "ML Foundation ➡️ Bias-Variance Tradeoff ",
          "ML Foundation ➡️ Bias-Variance Tradeoff ",
          "ML Foundation ➡️ Bias-Variance Tradeoff ",
          "ML Foundation ➡️ Bias-Variance Tradeoff ",
          "ML Foundation ➡️ Bias-Variance Tradeoff ",
          "ML Foundation ➡️ Bias-Variance Tradeoff ",
          "ML Foundation ➡️ Bias-Variance Tradeoff ",
          "ML Foundation ➡️ Bias-Variance Tradeoff ",
          "ML Foundation ➡️ Bias-Variance Tradeoff ",
          "ML Foundation ➡️ Bias-Variance Tradeoff ",
          "ML Foundation ➡️ Bias-Variance Tradeoff ",
          "ML Foundation ➡️ Bias-Variance Tradeoff ",
          "ML Foundation ➡️ Bias-Variance Tradeoff ",
          "ML Foundation ➡️ Bias-Variance Tradeoff ",
          "ML Foundation ➡️ Bias-Variance Tradeoff ",
          "ML Foundation ➡️ Bias-Variance Tradeoff ",
          "ML Foundation ➡️ Bias-Variance Tradeoff ",
          "ML Foundation ➡️ Bias-Variance Tradeoff "
         ],
         "legendgroup": "GOLD, ML Foundation ➡️ Bias-Variance Tradeoff ",
         "line": {
          "color": "#636efa",
          "dash": "solid"
         },
         "marker": {
          "symbol": "cross"
         },
         "mode": "markers+lines",
         "name": "GOLD, ML Foundation ➡️ Bias-Variance Tradeoff ",
         "orientation": "v",
         "showlegend": true,
         "type": "scatter",
         "x": [
          "2022-06-12",
          "2022-06-13",
          "2022-06-14",
          "2022-06-15",
          "2022-06-16",
          "2022-06-17",
          "2022-06-18",
          "2022-06-19",
          "2022-06-20",
          "2022-06-21",
          "2022-06-22",
          "2022-06-25",
          "2022-06-26",
          "2022-06-28",
          "2022-06-29",
          "2022-07-01",
          "2022-07-02",
          "2022-07-03",
          "2022-07-04",
          "2022-07-05",
          "2022-07-06",
          "2022-07-07",
          "2022-07-11",
          "2022-07-12",
          "2022-07-14",
          "2022-07-15",
          "2022-07-17",
          "2022-07-18",
          "2022-07-21",
          "2022-07-22",
          "2022-07-23",
          "2022-07-24",
          "2022-07-25",
          "2022-07-26",
          "2022-07-28",
          "2022-07-29",
          "2022-07-30",
          "2022-07-31",
          "2022-08-01",
          "2022-08-02",
          "2022-08-03"
         ],
         "xaxis": "x",
         "y": [
          480,
          490,
          498,
          511,
          516,
          526,
          527,
          538,
          545,
          547,
          554,
          562,
          564,
          573,
          576,
          580,
          584,
          585,
          587,
          656,
          738,
          763,
          974,
          1038,
          1248,
          1330,
          1509,
          1547,
          1868,
          1935,
          2040,
          2107,
          2211,
          2303,
          2412,
          2518,
          2620,
          2761,
          2854,
          2873,
          2950
         ],
         "yaxis": "y"
        },
        {
         "hovertemplate": "<b>%{hovertext}</b><br><br>medal=GOLD<br>title=▶️ Lionel Messi 📊 Extended EDA ⚽ Goals <br>date=%{x}<br>view_count=%{y}<extra></extra>",
         "hovertext": [
          "▶️ Lionel Messi 📊 Extended EDA ⚽ Goals ",
          "▶️ Lionel Messi 📊 Extended EDA ⚽ Goals ",
          "▶️ Lionel Messi 📊 Extended EDA ⚽ Goals ",
          "▶️ Lionel Messi 📊 Extended EDA ⚽ Goals ",
          "▶️ Lionel Messi 📊 Extended EDA ⚽ Goals ",
          "▶️ Lionel Messi 📊 Extended EDA ⚽ Goals ",
          "▶️ Lionel Messi 📊 Extended EDA ⚽ Goals ",
          "▶️ Lionel Messi 📊 Extended EDA ⚽ Goals ",
          "▶️ Lionel Messi 📊 Extended EDA ⚽ Goals ",
          "▶️ Lionel Messi 📊 Extended EDA ⚽ Goals ",
          "▶️ Lionel Messi 📊 Extended EDA ⚽ Goals ",
          "▶️ Lionel Messi 📊 Extended EDA ⚽ Goals ",
          "▶️ Lionel Messi 📊 Extended EDA ⚽ Goals ",
          "▶️ Lionel Messi 📊 Extended EDA ⚽ Goals ",
          "▶️ Lionel Messi 📊 Extended EDA ⚽ Goals ",
          "▶️ Lionel Messi 📊 Extended EDA ⚽ Goals ",
          "▶️ Lionel Messi 📊 Extended EDA ⚽ Goals ",
          "▶️ Lionel Messi 📊 Extended EDA ⚽ Goals ",
          "▶️ Lionel Messi 📊 Extended EDA ⚽ Goals ",
          "▶️ Lionel Messi 📊 Extended EDA ⚽ Goals ",
          "▶️ Lionel Messi 📊 Extended EDA ⚽ Goals ",
          "▶️ Lionel Messi 📊 Extended EDA ⚽ Goals ",
          "▶️ Lionel Messi 📊 Extended EDA ⚽ Goals ",
          "▶️ Lionel Messi 📊 Extended EDA ⚽ Goals ",
          "▶️ Lionel Messi 📊 Extended EDA ⚽ Goals ",
          "▶️ Lionel Messi 📊 Extended EDA ⚽ Goals ",
          "▶️ Lionel Messi 📊 Extended EDA ⚽ Goals ",
          "▶️ Lionel Messi 📊 Extended EDA ⚽ Goals ",
          "▶️ Lionel Messi 📊 Extended EDA ⚽ Goals ",
          "▶️ Lionel Messi 📊 Extended EDA ⚽ Goals ",
          "▶️ Lionel Messi 📊 Extended EDA ⚽ Goals ",
          "▶️ Lionel Messi 📊 Extended EDA ⚽ Goals ",
          "▶️ Lionel Messi 📊 Extended EDA ⚽ Goals ",
          "▶️ Lionel Messi 📊 Extended EDA ⚽ Goals ",
          "▶️ Lionel Messi 📊 Extended EDA ⚽ Goals ",
          "▶️ Lionel Messi 📊 Extended EDA ⚽ Goals ",
          "▶️ Lionel Messi 📊 Extended EDA ⚽ Goals ",
          "▶️ Lionel Messi 📊 Extended EDA ⚽ Goals ",
          "▶️ Lionel Messi 📊 Extended EDA ⚽ Goals ",
          "▶️ Lionel Messi 📊 Extended EDA ⚽ Goals ",
          "▶️ Lionel Messi 📊 Extended EDA ⚽ Goals "
         ],
         "legendgroup": "GOLD, ▶️ Lionel Messi 📊 Extended EDA ⚽ Goals ",
         "line": {
          "color": "#636efa",
          "dash": "solid"
         },
         "marker": {
          "symbol": "circle"
         },
         "mode": "markers+lines",
         "name": "GOLD, ▶️ Lionel Messi 📊 Extended EDA ⚽ Goals ",
         "orientation": "v",
         "showlegend": true,
         "type": "scatter",
         "x": [
          "2022-06-12",
          "2022-06-13",
          "2022-06-14",
          "2022-06-15",
          "2022-06-16",
          "2022-06-17",
          "2022-06-18",
          "2022-06-19",
          "2022-06-20",
          "2022-06-21",
          "2022-06-22",
          "2022-06-25",
          "2022-06-26",
          "2022-06-28",
          "2022-06-29",
          "2022-07-01",
          "2022-07-02",
          "2022-07-03",
          "2022-07-04",
          "2022-07-05",
          "2022-07-06",
          "2022-07-07",
          "2022-07-11",
          "2022-07-12",
          "2022-07-14",
          "2022-07-15",
          "2022-07-17",
          "2022-07-18",
          "2022-07-21",
          "2022-07-22",
          "2022-07-23",
          "2022-07-24",
          "2022-07-25",
          "2022-07-26",
          "2022-07-28",
          "2022-07-29",
          "2022-07-30",
          "2022-07-31",
          "2022-08-01",
          "2022-08-02",
          "2022-08-03"
         ],
         "xaxis": "x",
         "y": [
          1037,
          1059,
          1082,
          1101,
          1146,
          1181,
          1204,
          1214,
          1233,
          1266,
          1298,
          1377,
          1412,
          1452,
          1481,
          1546,
          1569,
          1581,
          1592,
          1642,
          1668,
          1696,
          1800,
          1836,
          1889,
          1912,
          1956,
          1961,
          2014,
          2020,
          2046,
          2065,
          2075,
          2088,
          2108,
          2126,
          2144,
          2164,
          2194,
          2200,
          2225
         ],
         "yaxis": "y"
        },
        {
         "hovertemplate": "<b>%{hovertext}</b><br><br>medal=GOLD<br>title=ML Foundation ➡️ Cross Validation ✅ All Methods<br>date=%{x}<br>view_count=%{y}<extra></extra>",
         "hovertext": [
          "ML Foundation ➡️ Cross Validation ✅ All Methods",
          "ML Foundation ➡️ Cross Validation ✅ All Methods",
          "ML Foundation ➡️ Cross Validation ✅ All Methods",
          "ML Foundation ➡️ Cross Validation ✅ All Methods",
          "ML Foundation ➡️ Cross Validation ✅ All Methods",
          "ML Foundation ➡️ Cross Validation ✅ All Methods",
          "ML Foundation ➡️ Cross Validation ✅ All Methods",
          "ML Foundation ➡️ Cross Validation ✅ All Methods",
          "ML Foundation ➡️ Cross Validation ✅ All Methods",
          "ML Foundation ➡️ Cross Validation ✅ All Methods",
          "ML Foundation ➡️ Cross Validation ✅ All Methods",
          "ML Foundation ➡️ Cross Validation ✅ All Methods",
          "ML Foundation ➡️ Cross Validation ✅ All Methods",
          "ML Foundation ➡️ Cross Validation ✅ All Methods",
          "ML Foundation ➡️ Cross Validation ✅ All Methods",
          "ML Foundation ➡️ Cross Validation ✅ All Methods",
          "ML Foundation ➡️ Cross Validation ✅ All Methods",
          "ML Foundation ➡️ Cross Validation ✅ All Methods",
          "ML Foundation ➡️ Cross Validation ✅ All Methods",
          "ML Foundation ➡️ Cross Validation ✅ All Methods",
          "ML Foundation ➡️ Cross Validation ✅ All Methods",
          "ML Foundation ➡️ Cross Validation ✅ All Methods",
          "ML Foundation ➡️ Cross Validation ✅ All Methods",
          "ML Foundation ➡️ Cross Validation ✅ All Methods",
          "ML Foundation ➡️ Cross Validation ✅ All Methods",
          "ML Foundation ➡️ Cross Validation ✅ All Methods",
          "ML Foundation ➡️ Cross Validation ✅ All Methods",
          "ML Foundation ➡️ Cross Validation ✅ All Methods",
          "ML Foundation ➡️ Cross Validation ✅ All Methods",
          "ML Foundation ➡️ Cross Validation ✅ All Methods",
          "ML Foundation ➡️ Cross Validation ✅ All Methods",
          "ML Foundation ➡️ Cross Validation ✅ All Methods",
          "ML Foundation ➡️ Cross Validation ✅ All Methods",
          "ML Foundation ➡️ Cross Validation ✅ All Methods",
          "ML Foundation ➡️ Cross Validation ✅ All Methods",
          "ML Foundation ➡️ Cross Validation ✅ All Methods",
          "ML Foundation ➡️ Cross Validation ✅ All Methods",
          "ML Foundation ➡️ Cross Validation ✅ All Methods",
          "ML Foundation ➡️ Cross Validation ✅ All Methods",
          "ML Foundation ➡️ Cross Validation ✅ All Methods",
          "ML Foundation ➡️ Cross Validation ✅ All Methods"
         ],
         "legendgroup": "GOLD, ML Foundation ➡️ Cross Validation ✅ All Methods",
         "line": {
          "color": "#636efa",
          "dash": "solid"
         },
         "marker": {
          "symbol": "cross"
         },
         "mode": "markers+lines",
         "name": "GOLD, ML Foundation ➡️ Cross Validation ✅ All Methods",
         "orientation": "v",
         "showlegend": true,
         "type": "scatter",
         "x": [
          "2022-06-12",
          "2022-06-13",
          "2022-06-14",
          "2022-06-15",
          "2022-06-16",
          "2022-06-17",
          "2022-06-18",
          "2022-06-19",
          "2022-06-20",
          "2022-06-21",
          "2022-06-22",
          "2022-06-25",
          "2022-06-26",
          "2022-06-28",
          "2022-06-29",
          "2022-07-01",
          "2022-07-02",
          "2022-07-03",
          "2022-07-04",
          "2022-07-05",
          "2022-07-06",
          "2022-07-07",
          "2022-07-11",
          "2022-07-12",
          "2022-07-14",
          "2022-07-15",
          "2022-07-17",
          "2022-07-18",
          "2022-07-21",
          "2022-07-22",
          "2022-07-23",
          "2022-07-24",
          "2022-07-25",
          "2022-07-26",
          "2022-07-28",
          "2022-07-29",
          "2022-07-30",
          "2022-07-31",
          "2022-08-01",
          "2022-08-02",
          "2022-08-03"
         ],
         "xaxis": "x",
         "y": [
          596,
          605,
          631,
          671,
          698,
          716,
          737,
          758,
          815,
          871,
          888,
          932,
          944,
          980,
          1022,
          1063,
          1086,
          1116,
          1155,
          1212,
          1256,
          1267,
          1372,
          1391,
          1431,
          1445,
          1480,
          1487,
          1535,
          1542,
          1566,
          1573,
          1591,
          1606,
          1619,
          1637,
          1653,
          1674,
          1687,
          1690,
          1706
         ],
         "yaxis": "y"
        },
        {
         "hovertemplate": "<b>%{hovertext}</b><br><br>medal=GOLD<br>title=ML Foundation ➡️ Clustering Techniques, Algorithms<br>date=%{x}<br>view_count=%{y}<extra></extra>",
         "hovertext": [
          "ML Foundation ➡️ Clustering Techniques, Algorithms",
          "ML Foundation ➡️ Clustering Techniques, Algorithms",
          "ML Foundation ➡️ Clustering Techniques, Algorithms",
          "ML Foundation ➡️ Clustering Techniques, Algorithms",
          "ML Foundation ➡️ Clustering Techniques, Algorithms",
          "ML Foundation ➡️ Clustering Techniques, Algorithms",
          "ML Foundation ➡️ Clustering Techniques, Algorithms",
          "ML Foundation ➡️ Clustering Techniques, Algorithms",
          "ML Foundation ➡️ Clustering Techniques, Algorithms",
          "ML Foundation ➡️ Clustering Techniques, Algorithms",
          "ML Foundation ➡️ Clustering Techniques, Algorithms",
          "ML Foundation ➡️ Clustering Techniques, Algorithms",
          "ML Foundation ➡️ Clustering Techniques, Algorithms",
          "ML Foundation ➡️ Clustering Techniques, Algorithms",
          "ML Foundation ➡️ Clustering Techniques, Algorithms",
          "ML Foundation ➡️ Clustering Techniques, Algorithms",
          "ML Foundation ➡️ Clustering Techniques, Algorithms",
          "ML Foundation ➡️ Clustering Techniques, Algorithms",
          "ML Foundation ➡️ Clustering Techniques, Algorithms",
          "ML Foundation ➡️ Clustering Techniques, Algorithms",
          "ML Foundation ➡️ Clustering Techniques, Algorithms",
          "ML Foundation ➡️ Clustering Techniques, Algorithms",
          "ML Foundation ➡️ Clustering Techniques, Algorithms",
          "ML Foundation ➡️ Clustering Techniques, Algorithms",
          "ML Foundation ➡️ Clustering Techniques, Algorithms",
          "ML Foundation ➡️ Clustering Techniques, Algorithms"
         ],
         "legendgroup": "GOLD, ML Foundation ➡️ Clustering Techniques, Algorithms",
         "line": {
          "color": "#636efa",
          "dash": "solid"
         },
         "marker": {
          "symbol": "circle"
         },
         "mode": "markers+lines",
         "name": "GOLD, ML Foundation ➡️ Clustering Techniques, Algorithms",
         "orientation": "v",
         "showlegend": true,
         "type": "scatter",
         "x": [
          "2022-07-01",
          "2022-07-02",
          "2022-07-03",
          "2022-07-04",
          "2022-07-05",
          "2022-07-06",
          "2022-07-07",
          "2022-07-11",
          "2022-07-12",
          "2022-07-14",
          "2022-07-15",
          "2022-07-17",
          "2022-07-18",
          "2022-07-21",
          "2022-07-22",
          "2022-07-23",
          "2022-07-24",
          "2022-07-25",
          "2022-07-26",
          "2022-07-28",
          "2022-07-29",
          "2022-07-30",
          "2022-07-31",
          "2022-08-01",
          "2022-08-02",
          "2022-08-03"
         ],
         "xaxis": "x",
         "y": [
          40,
          414,
          521,
          585,
          677,
          757,
          778,
          1022,
          1074,
          1193,
          1244,
          1380,
          1409,
          1661,
          1691,
          1802,
          1863,
          1947,
          1998,
          2095,
          2153,
          2203,
          2259,
          2291,
          2293,
          2321
         ],
         "yaxis": "y"
        },
        {
         "hovertemplate": "<b>%{hovertext}</b><br><br>medal=SILVER<br>title=ML Foundation ➡️ Feature Engineering<br>date=%{x}<br>view_count=%{y}<extra></extra>",
         "hovertext": [
          "ML Foundation ➡️ Feature Engineering",
          "ML Foundation ➡️ Feature Engineering",
          "ML Foundation ➡️ Feature Engineering",
          "ML Foundation ➡️ Feature Engineering",
          "ML Foundation ➡️ Feature Engineering",
          "ML Foundation ➡️ Feature Engineering",
          "ML Foundation ➡️ Feature Engineering",
          "ML Foundation ➡️ Feature Engineering",
          "ML Foundation ➡️ Feature Engineering",
          "ML Foundation ➡️ Feature Engineering",
          "ML Foundation ➡️ Feature Engineering",
          "ML Foundation ➡️ Feature Engineering",
          "ML Foundation ➡️ Feature Engineering",
          "ML Foundation ➡️ Feature Engineering",
          "ML Foundation ➡️ Feature Engineering",
          "ML Foundation ➡️ Feature Engineering",
          "ML Foundation ➡️ Feature Engineering",
          "ML Foundation ➡️ Feature Engineering",
          "ML Foundation ➡️ Feature Engineering",
          "ML Foundation ➡️ Feature Engineering",
          "ML Foundation ➡️ Feature Engineering",
          "ML Foundation ➡️ Feature Engineering",
          "ML Foundation ➡️ Feature Engineering",
          "ML Foundation ➡️ Feature Engineering",
          "ML Foundation ➡️ Feature Engineering",
          "ML Foundation ➡️ Feature Engineering",
          "ML Foundation ➡️ Feature Engineering",
          "ML Foundation ➡️ Feature Engineering",
          "ML Foundation ➡️ Feature Engineering",
          "ML Foundation ➡️ Feature Engineering",
          "ML Foundation ➡️ Feature Engineering",
          "ML Foundation ➡️ Feature Engineering",
          "ML Foundation ➡️ Feature Engineering",
          "ML Foundation ➡️ Feature Engineering",
          "ML Foundation ➡️ Feature Engineering",
          "ML Foundation ➡️ Feature Engineering",
          "ML Foundation ➡️ Feature Engineering",
          "ML Foundation ➡️ Feature Engineering",
          "ML Foundation ➡️ Feature Engineering",
          "ML Foundation ➡️ Feature Engineering",
          "ML Foundation ➡️ Feature Engineering"
         ],
         "legendgroup": "SILVER, ML Foundation ➡️ Feature Engineering",
         "line": {
          "color": "#EF553B",
          "dash": "solid"
         },
         "marker": {
          "symbol": "square"
         },
         "mode": "markers+lines",
         "name": "SILVER, ML Foundation ➡️ Feature Engineering",
         "orientation": "v",
         "showlegend": true,
         "type": "scatter",
         "x": [
          "2022-06-12",
          "2022-06-13",
          "2022-06-14",
          "2022-06-15",
          "2022-06-16",
          "2022-06-17",
          "2022-06-18",
          "2022-06-19",
          "2022-06-20",
          "2022-06-21",
          "2022-06-22",
          "2022-06-25",
          "2022-06-26",
          "2022-06-28",
          "2022-06-29",
          "2022-07-01",
          "2022-07-02",
          "2022-07-03",
          "2022-07-04",
          "2022-07-05",
          "2022-07-06",
          "2022-07-07",
          "2022-07-11",
          "2022-07-12",
          "2022-07-14",
          "2022-07-15",
          "2022-07-17",
          "2022-07-18",
          "2022-07-21",
          "2022-07-22",
          "2022-07-23",
          "2022-07-24",
          "2022-07-25",
          "2022-07-26",
          "2022-07-28",
          "2022-07-29",
          "2022-07-30",
          "2022-07-31",
          "2022-08-01",
          "2022-08-02",
          "2022-08-03"
         ],
         "xaxis": "x",
         "y": [
          622,
          636,
          659,
          672,
          680,
          688,
          694,
          697,
          699,
          708,
          715,
          734,
          738,
          745,
          769,
          787,
          796,
          799,
          803,
          825,
          844,
          848,
          917,
          941,
          1001,
          1020,
          1075,
          1087,
          1189,
          1220,
          1270,
          1302,
          1336,
          1375,
          1418,
          1473,
          1504,
          1551,
          1582,
          1591,
          1648
         ],
         "yaxis": "y"
        },
        {
         "hovertemplate": "<b>%{hovertext}</b><br><br>medal=SILVER<br>title=▶️ Cristiano Ronaldo ⚽ Goals  📊 EDA, Analysis<br>date=%{x}<br>view_count=%{y}<extra></extra>",
         "hovertext": [
          "▶️ Cristiano Ronaldo ⚽ Goals  📊 EDA, Analysis",
          "▶️ Cristiano Ronaldo ⚽ Goals  📊 EDA, Analysis",
          "▶️ Cristiano Ronaldo ⚽ Goals  📊 EDA, Analysis",
          "▶️ Cristiano Ronaldo ⚽ Goals  📊 EDA, Analysis",
          "▶️ Cristiano Ronaldo ⚽ Goals  📊 EDA, Analysis",
          "▶️ Cristiano Ronaldo ⚽ Goals  📊 EDA, Analysis",
          "▶️ Cristiano Ronaldo ⚽ Goals  📊 EDA, Analysis",
          "▶️ Cristiano Ronaldo ⚽ Goals  📊 EDA, Analysis",
          "▶️ Cristiano Ronaldo ⚽ Goals  📊 EDA, Analysis",
          "▶️ Cristiano Ronaldo ⚽ Goals  📊 EDA, Analysis",
          "▶️ Cristiano Ronaldo ⚽ Goals  📊 EDA, Analysis",
          "▶️ Cristiano Ronaldo ⚽ Goals  📊 EDA, Analysis",
          "▶️ Cristiano Ronaldo ⚽ Goals  📊 EDA, Analysis",
          "▶️ Cristiano Ronaldo ⚽ Goals  📊 EDA, Analysis",
          "▶️ Cristiano Ronaldo ⚽ Goals  📊 EDA, Analysis",
          "▶️ Cristiano Ronaldo ⚽ Goals  📊 EDA, Analysis",
          "▶️ Cristiano Ronaldo ⚽ Goals  📊 EDA, Analysis",
          "▶️ Cristiano Ronaldo ⚽ Goals  📊 EDA, Analysis",
          "▶️ Cristiano Ronaldo ⚽ Goals  📊 EDA, Analysis",
          "▶️ Cristiano Ronaldo ⚽ Goals  📊 EDA, Analysis",
          "▶️ Cristiano Ronaldo ⚽ Goals  📊 EDA, Analysis",
          "▶️ Cristiano Ronaldo ⚽ Goals  📊 EDA, Analysis",
          "▶️ Cristiano Ronaldo ⚽ Goals  📊 EDA, Analysis",
          "▶️ Cristiano Ronaldo ⚽ Goals  📊 EDA, Analysis",
          "▶️ Cristiano Ronaldo ⚽ Goals  📊 EDA, Analysis",
          "▶️ Cristiano Ronaldo ⚽ Goals  📊 EDA, Analysis",
          "▶️ Cristiano Ronaldo ⚽ Goals  📊 EDA, Analysis",
          "▶️ Cristiano Ronaldo ⚽ Goals  📊 EDA, Analysis",
          "▶️ Cristiano Ronaldo ⚽ Goals  📊 EDA, Analysis",
          "▶️ Cristiano Ronaldo ⚽ Goals  📊 EDA, Analysis",
          "▶️ Cristiano Ronaldo ⚽ Goals  📊 EDA, Analysis",
          "▶️ Cristiano Ronaldo ⚽ Goals  📊 EDA, Analysis",
          "▶️ Cristiano Ronaldo ⚽ Goals  📊 EDA, Analysis",
          "▶️ Cristiano Ronaldo ⚽ Goals  📊 EDA, Analysis",
          "▶️ Cristiano Ronaldo ⚽ Goals  📊 EDA, Analysis",
          "▶️ Cristiano Ronaldo ⚽ Goals  📊 EDA, Analysis",
          "▶️ Cristiano Ronaldo ⚽ Goals  📊 EDA, Analysis",
          "▶️ Cristiano Ronaldo ⚽ Goals  📊 EDA, Analysis",
          "▶️ Cristiano Ronaldo ⚽ Goals  📊 EDA, Analysis",
          "▶️ Cristiano Ronaldo ⚽ Goals  📊 EDA, Analysis",
          "▶️ Cristiano Ronaldo ⚽ Goals  📊 EDA, Analysis"
         ],
         "legendgroup": "SILVER, ▶️ Cristiano Ronaldo ⚽ Goals  📊 EDA, Analysis",
         "line": {
          "color": "#EF553B",
          "dash": "solid"
         },
         "marker": {
          "symbol": "diamond"
         },
         "mode": "markers+lines",
         "name": "SILVER, ▶️ Cristiano Ronaldo ⚽ Goals  📊 EDA, Analysis",
         "orientation": "v",
         "showlegend": true,
         "type": "scatter",
         "x": [
          "2022-06-12",
          "2022-06-13",
          "2022-06-14",
          "2022-06-15",
          "2022-06-16",
          "2022-06-17",
          "2022-06-18",
          "2022-06-19",
          "2022-06-20",
          "2022-06-21",
          "2022-06-22",
          "2022-06-25",
          "2022-06-26",
          "2022-06-28",
          "2022-06-29",
          "2022-07-01",
          "2022-07-02",
          "2022-07-03",
          "2022-07-04",
          "2022-07-05",
          "2022-07-06",
          "2022-07-07",
          "2022-07-11",
          "2022-07-12",
          "2022-07-14",
          "2022-07-15",
          "2022-07-17",
          "2022-07-18",
          "2022-07-21",
          "2022-07-22",
          "2022-07-23",
          "2022-07-24",
          "2022-07-25",
          "2022-07-26",
          "2022-07-28",
          "2022-07-29",
          "2022-07-30",
          "2022-07-31",
          "2022-08-01",
          "2022-08-02",
          "2022-08-03"
         ],
         "xaxis": "x",
         "y": [
          1518,
          1551,
          1568,
          1593,
          1610,
          1620,
          1629,
          1633,
          1643,
          1658,
          1675,
          1712,
          1728,
          1744,
          1760,
          1783,
          1785,
          1788,
          1792,
          1800,
          1810,
          1813,
          1856,
          1867,
          1888,
          1891,
          1909,
          1916,
          1981,
          1983,
          1999,
          2013,
          2030,
          2069,
          2090,
          2102,
          2123,
          2143,
          2183,
          2186,
          2210
         ],
         "yaxis": "y"
        },
        {
         "hovertemplate": "<b>%{hovertext}</b><br><br>medal=SILVER<br>title=Coursera 📉 EDA, Insights, Sentiment Analysis<br>date=%{x}<br>view_count=%{y}<extra></extra>",
         "hovertext": [
          "Coursera 📉 EDA, Insights, Sentiment Analysis",
          "Coursera 📉 EDA, Insights, Sentiment Analysis",
          "Coursera 📉 EDA, Insights, Sentiment Analysis",
          "Coursera 📉 EDA, Insights, Sentiment Analysis",
          "Coursera 📉 EDA, Insights, Sentiment Analysis",
          "Coursera 📉 EDA, Insights, Sentiment Analysis",
          "Coursera 📉 EDA, Insights, Sentiment Analysis",
          "Coursera 📉 EDA, Insights, Sentiment Analysis",
          "Coursera 📉 EDA, Insights, Sentiment Analysis",
          "Coursera 📉 EDA, Insights, Sentiment Analysis",
          "Coursera 📉 EDA, Insights, Sentiment Analysis",
          "Coursera 📉 EDA, Insights, Sentiment Analysis",
          "Coursera 📉 EDA, Insights, Sentiment Analysis",
          "Coursera 📉 EDA, Insights, Sentiment Analysis",
          "Coursera 📉 EDA, Insights, Sentiment Analysis",
          "Coursera 📉 EDA, Insights, Sentiment Analysis",
          "Coursera 📉 EDA, Insights, Sentiment Analysis",
          "Coursera 📉 EDA, Insights, Sentiment Analysis",
          "Coursera 📉 EDA, Insights, Sentiment Analysis",
          "Coursera 📉 EDA, Insights, Sentiment Analysis",
          "Coursera 📉 EDA, Insights, Sentiment Analysis",
          "Coursera 📉 EDA, Insights, Sentiment Analysis",
          "Coursera 📉 EDA, Insights, Sentiment Analysis",
          "Coursera 📉 EDA, Insights, Sentiment Analysis",
          "Coursera 📉 EDA, Insights, Sentiment Analysis",
          "Coursera 📉 EDA, Insights, Sentiment Analysis",
          "Coursera 📉 EDA, Insights, Sentiment Analysis",
          "Coursera 📉 EDA, Insights, Sentiment Analysis",
          "Coursera 📉 EDA, Insights, Sentiment Analysis",
          "Coursera 📉 EDA, Insights, Sentiment Analysis",
          "Coursera 📉 EDA, Insights, Sentiment Analysis",
          "Coursera 📉 EDA, Insights, Sentiment Analysis",
          "Coursera 📉 EDA, Insights, Sentiment Analysis",
          "Coursera 📉 EDA, Insights, Sentiment Analysis",
          "Coursera 📉 EDA, Insights, Sentiment Analysis",
          "Coursera 📉 EDA, Insights, Sentiment Analysis",
          "Coursera 📉 EDA, Insights, Sentiment Analysis",
          "Coursera 📉 EDA, Insights, Sentiment Analysis",
          "Coursera 📉 EDA, Insights, Sentiment Analysis",
          "Coursera 📉 EDA, Insights, Sentiment Analysis",
          "Coursera 📉 EDA, Insights, Sentiment Analysis"
         ],
         "legendgroup": "SILVER, Coursera 📉 EDA, Insights, Sentiment Analysis",
         "line": {
          "color": "#EF553B",
          "dash": "solid"
         },
         "marker": {
          "symbol": "square"
         },
         "mode": "markers+lines",
         "name": "SILVER, Coursera 📉 EDA, Insights, Sentiment Analysis",
         "orientation": "v",
         "showlegend": true,
         "type": "scatter",
         "x": [
          "2022-06-12",
          "2022-06-13",
          "2022-06-14",
          "2022-06-15",
          "2022-06-16",
          "2022-06-17",
          "2022-06-18",
          "2022-06-19",
          "2022-06-20",
          "2022-06-21",
          "2022-06-22",
          "2022-06-25",
          "2022-06-26",
          "2022-06-28",
          "2022-06-29",
          "2022-07-01",
          "2022-07-02",
          "2022-07-03",
          "2022-07-04",
          "2022-07-05",
          "2022-07-06",
          "2022-07-07",
          "2022-07-11",
          "2022-07-12",
          "2022-07-14",
          "2022-07-15",
          "2022-07-17",
          "2022-07-18",
          "2022-07-21",
          "2022-07-22",
          "2022-07-23",
          "2022-07-24",
          "2022-07-25",
          "2022-07-26",
          "2022-07-28",
          "2022-07-29",
          "2022-07-30",
          "2022-07-31",
          "2022-08-01",
          "2022-08-02",
          "2022-08-03"
         ],
         "xaxis": "x",
         "y": [
          424,
          428,
          438,
          444,
          454,
          458,
          461,
          461,
          466,
          471,
          482,
          500,
          509,
          514,
          524,
          534,
          535,
          535,
          540,
          544,
          544,
          544,
          552,
          554,
          559,
          566,
          567,
          568,
          580,
          581,
          586,
          592,
          597,
          602,
          612,
          619,
          627,
          639,
          651,
          652,
          663
         ],
         "yaxis": "y"
        },
        {
         "hovertemplate": "<b>%{hovertext}</b><br><br>medal=SILVER<br>title=Investment and Financial Analysis  🏭 GeoExports<br>date=%{x}<br>view_count=%{y}<extra></extra>",
         "hovertext": [
          "Investment and Financial Analysis  🏭 GeoExports",
          "Investment and Financial Analysis  🏭 GeoExports",
          "Investment and Financial Analysis  🏭 GeoExports",
          "Investment and Financial Analysis  🏭 GeoExports",
          "Investment and Financial Analysis  🏭 GeoExports",
          "Investment and Financial Analysis  🏭 GeoExports",
          "Investment and Financial Analysis  🏭 GeoExports",
          "Investment and Financial Analysis  🏭 GeoExports",
          "Investment and Financial Analysis  🏭 GeoExports",
          "Investment and Financial Analysis  🏭 GeoExports",
          "Investment and Financial Analysis  🏭 GeoExports",
          "Investment and Financial Analysis  🏭 GeoExports",
          "Investment and Financial Analysis  🏭 GeoExports",
          "Investment and Financial Analysis  🏭 GeoExports",
          "Investment and Financial Analysis  🏭 GeoExports",
          "Investment and Financial Analysis  🏭 GeoExports",
          "Investment and Financial Analysis  🏭 GeoExports",
          "Investment and Financial Analysis  🏭 GeoExports",
          "Investment and Financial Analysis  🏭 GeoExports",
          "Investment and Financial Analysis  🏭 GeoExports",
          "Investment and Financial Analysis  🏭 GeoExports",
          "Investment and Financial Analysis  🏭 GeoExports",
          "Investment and Financial Analysis  🏭 GeoExports",
          "Investment and Financial Analysis  🏭 GeoExports",
          "Investment and Financial Analysis  🏭 GeoExports",
          "Investment and Financial Analysis  🏭 GeoExports",
          "Investment and Financial Analysis  🏭 GeoExports",
          "Investment and Financial Analysis  🏭 GeoExports",
          "Investment and Financial Analysis  🏭 GeoExports",
          "Investment and Financial Analysis  🏭 GeoExports",
          "Investment and Financial Analysis  🏭 GeoExports",
          "Investment and Financial Analysis  🏭 GeoExports",
          "Investment and Financial Analysis  🏭 GeoExports",
          "Investment and Financial Analysis  🏭 GeoExports",
          "Investment and Financial Analysis  🏭 GeoExports",
          "Investment and Financial Analysis  🏭 GeoExports",
          "Investment and Financial Analysis  🏭 GeoExports",
          "Investment and Financial Analysis  🏭 GeoExports",
          "Investment and Financial Analysis  🏭 GeoExports",
          "Investment and Financial Analysis  🏭 GeoExports",
          "Investment and Financial Analysis  🏭 GeoExports"
         ],
         "legendgroup": "SILVER, Investment and Financial Analysis  🏭 GeoExports",
         "line": {
          "color": "#EF553B",
          "dash": "solid"
         },
         "marker": {
          "symbol": "x"
         },
         "mode": "markers+lines",
         "name": "SILVER, Investment and Financial Analysis  🏭 GeoExports",
         "orientation": "v",
         "showlegend": true,
         "type": "scatter",
         "x": [
          "2022-06-12",
          "2022-06-13",
          "2022-06-14",
          "2022-06-15",
          "2022-06-16",
          "2022-06-17",
          "2022-06-18",
          "2022-06-19",
          "2022-06-20",
          "2022-06-21",
          "2022-06-22",
          "2022-06-25",
          "2022-06-26",
          "2022-06-28",
          "2022-06-29",
          "2022-07-01",
          "2022-07-02",
          "2022-07-03",
          "2022-07-04",
          "2022-07-05",
          "2022-07-06",
          "2022-07-07",
          "2022-07-11",
          "2022-07-12",
          "2022-07-14",
          "2022-07-15",
          "2022-07-17",
          "2022-07-18",
          "2022-07-21",
          "2022-07-22",
          "2022-07-23",
          "2022-07-24",
          "2022-07-25",
          "2022-07-26",
          "2022-07-28",
          "2022-07-29",
          "2022-07-30",
          "2022-07-31",
          "2022-08-01",
          "2022-08-02",
          "2022-08-03"
         ],
         "xaxis": "x",
         "y": [
          604,
          612,
          620,
          623,
          634,
          639,
          639,
          641,
          644,
          647,
          651,
          655,
          655,
          664,
          666,
          675,
          680,
          680,
          682,
          687,
          690,
          690,
          697,
          698,
          703,
          705,
          712,
          718,
          727,
          728,
          734,
          740,
          745,
          747,
          749,
          752,
          752,
          753,
          757,
          757,
          762
         ],
         "yaxis": "y"
        },
        {
         "hovertemplate": "<b>%{hovertext}</b><br><br>medal=BRONZE<br>title=Daily AQI - Air Quality Index [Scheduled]<br>date=%{x}<br>view_count=%{y}<extra></extra>",
         "hovertext": [
          "Daily AQI - Air Quality Index [Scheduled]",
          "Daily AQI - Air Quality Index [Scheduled]",
          "Daily AQI - Air Quality Index [Scheduled]",
          "Daily AQI - Air Quality Index [Scheduled]",
          "Daily AQI - Air Quality Index [Scheduled]",
          "Daily AQI - Air Quality Index [Scheduled]",
          "Daily AQI - Air Quality Index [Scheduled]",
          "Daily AQI - Air Quality Index [Scheduled]",
          "Daily AQI - Air Quality Index [Scheduled]",
          "Daily AQI - Air Quality Index [Scheduled]",
          "Daily AQI - Air Quality Index [Scheduled]",
          "Daily AQI - Air Quality Index [Scheduled]"
         ],
         "legendgroup": "BRONZE, Daily AQI - Air Quality Index [Scheduled]",
         "line": {
          "color": "#00cc96",
          "dash": "solid"
         },
         "marker": {
          "symbol": "diamond"
         },
         "mode": "markers+lines",
         "name": "BRONZE, Daily AQI - Air Quality Index [Scheduled]",
         "orientation": "v",
         "showlegend": true,
         "type": "scatter",
         "x": [
          "2022-07-21",
          "2022-07-22",
          "2022-07-23",
          "2022-07-24",
          "2022-07-25",
          "2022-07-26",
          "2022-07-29",
          "2022-07-30",
          "2022-07-31",
          "2022-08-01",
          "2022-08-02",
          "2022-08-03"
         ],
         "xaxis": "x",
         "y": [
          43,
          111,
          175,
          193,
          217,
          235,
          309,
          324,
          361,
          423,
          436,
          460
         ],
         "yaxis": "y"
        },
        {
         "hovertemplate": "<b>%{hovertext}</b><br><br>medal=BRONZE<br>title=Classification ➡️ Comparing Different Algorithms<br>date=%{x}<br>view_count=%{y}<extra></extra>",
         "hovertext": [
          "Classification ➡️ Comparing Different Algorithms",
          "Classification ➡️ Comparing Different Algorithms",
          "Classification ➡️ Comparing Different Algorithms"
         ],
         "legendgroup": "BRONZE, Classification ➡️ Comparing Different Algorithms",
         "line": {
          "color": "#00cc96",
          "dash": "solid"
         },
         "marker": {
          "symbol": "square"
         },
         "mode": "markers+lines",
         "name": "BRONZE, Classification ➡️ Comparing Different Algorithms",
         "orientation": "v",
         "showlegend": true,
         "type": "scatter",
         "x": [
          "2022-08-01",
          "2022-08-02",
          "2022-08-03"
         ],
         "xaxis": "x",
         "y": [
          79,
          85,
          168
         ],
         "yaxis": "y"
        }
       ],
       "layout": {
        "height": 800,
        "legend": {
         "title": {
          "text": "medal, title"
         },
         "tracegroupgap": 0
        },
        "template": {
         "data": {
          "bar": [
           {
            "error_x": {
             "color": "#2a3f5f"
            },
            "error_y": {
             "color": "#2a3f5f"
            },
            "marker": {
             "line": {
              "color": "#E5ECF6",
              "width": 0.5
             },
             "pattern": {
              "fillmode": "overlay",
              "size": 10,
              "solidity": 0.2
             }
            },
            "type": "bar"
           }
          ],
          "barpolar": [
           {
            "marker": {
             "line": {
              "color": "#E5ECF6",
              "width": 0.5
             },
             "pattern": {
              "fillmode": "overlay",
              "size": 10,
              "solidity": 0.2
             }
            },
            "type": "barpolar"
           }
          ],
          "carpet": [
           {
            "aaxis": {
             "endlinecolor": "#2a3f5f",
             "gridcolor": "white",
             "linecolor": "white",
             "minorgridcolor": "white",
             "startlinecolor": "#2a3f5f"
            },
            "baxis": {
             "endlinecolor": "#2a3f5f",
             "gridcolor": "white",
             "linecolor": "white",
             "minorgridcolor": "white",
             "startlinecolor": "#2a3f5f"
            },
            "type": "carpet"
           }
          ],
          "choropleth": [
           {
            "colorbar": {
             "outlinewidth": 0,
             "ticks": ""
            },
            "type": "choropleth"
           }
          ],
          "contour": [
           {
            "colorbar": {
             "outlinewidth": 0,
             "ticks": ""
            },
            "colorscale": [
             [
              0,
              "#0d0887"
             ],
             [
              0.1111111111111111,
              "#46039f"
             ],
             [
              0.2222222222222222,
              "#7201a8"
             ],
             [
              0.3333333333333333,
              "#9c179e"
             ],
             [
              0.4444444444444444,
              "#bd3786"
             ],
             [
              0.5555555555555556,
              "#d8576b"
             ],
             [
              0.6666666666666666,
              "#ed7953"
             ],
             [
              0.7777777777777778,
              "#fb9f3a"
             ],
             [
              0.8888888888888888,
              "#fdca26"
             ],
             [
              1,
              "#f0f921"
             ]
            ],
            "type": "contour"
           }
          ],
          "contourcarpet": [
           {
            "colorbar": {
             "outlinewidth": 0,
             "ticks": ""
            },
            "type": "contourcarpet"
           }
          ],
          "heatmap": [
           {
            "colorbar": {
             "outlinewidth": 0,
             "ticks": ""
            },
            "colorscale": [
             [
              0,
              "#0d0887"
             ],
             [
              0.1111111111111111,
              "#46039f"
             ],
             [
              0.2222222222222222,
              "#7201a8"
             ],
             [
              0.3333333333333333,
              "#9c179e"
             ],
             [
              0.4444444444444444,
              "#bd3786"
             ],
             [
              0.5555555555555556,
              "#d8576b"
             ],
             [
              0.6666666666666666,
              "#ed7953"
             ],
             [
              0.7777777777777778,
              "#fb9f3a"
             ],
             [
              0.8888888888888888,
              "#fdca26"
             ],
             [
              1,
              "#f0f921"
             ]
            ],
            "type": "heatmap"
           }
          ],
          "heatmapgl": [
           {
            "colorbar": {
             "outlinewidth": 0,
             "ticks": ""
            },
            "colorscale": [
             [
              0,
              "#0d0887"
             ],
             [
              0.1111111111111111,
              "#46039f"
             ],
             [
              0.2222222222222222,
              "#7201a8"
             ],
             [
              0.3333333333333333,
              "#9c179e"
             ],
             [
              0.4444444444444444,
              "#bd3786"
             ],
             [
              0.5555555555555556,
              "#d8576b"
             ],
             [
              0.6666666666666666,
              "#ed7953"
             ],
             [
              0.7777777777777778,
              "#fb9f3a"
             ],
             [
              0.8888888888888888,
              "#fdca26"
             ],
             [
              1,
              "#f0f921"
             ]
            ],
            "type": "heatmapgl"
           }
          ],
          "histogram": [
           {
            "marker": {
             "pattern": {
              "fillmode": "overlay",
              "size": 10,
              "solidity": 0.2
             }
            },
            "type": "histogram"
           }
          ],
          "histogram2d": [
           {
            "colorbar": {
             "outlinewidth": 0,
             "ticks": ""
            },
            "colorscale": [
             [
              0,
              "#0d0887"
             ],
             [
              0.1111111111111111,
              "#46039f"
             ],
             [
              0.2222222222222222,
              "#7201a8"
             ],
             [
              0.3333333333333333,
              "#9c179e"
             ],
             [
              0.4444444444444444,
              "#bd3786"
             ],
             [
              0.5555555555555556,
              "#d8576b"
             ],
             [
              0.6666666666666666,
              "#ed7953"
             ],
             [
              0.7777777777777778,
              "#fb9f3a"
             ],
             [
              0.8888888888888888,
              "#fdca26"
             ],
             [
              1,
              "#f0f921"
             ]
            ],
            "type": "histogram2d"
           }
          ],
          "histogram2dcontour": [
           {
            "colorbar": {
             "outlinewidth": 0,
             "ticks": ""
            },
            "colorscale": [
             [
              0,
              "#0d0887"
             ],
             [
              0.1111111111111111,
              "#46039f"
             ],
             [
              0.2222222222222222,
              "#7201a8"
             ],
             [
              0.3333333333333333,
              "#9c179e"
             ],
             [
              0.4444444444444444,
              "#bd3786"
             ],
             [
              0.5555555555555556,
              "#d8576b"
             ],
             [
              0.6666666666666666,
              "#ed7953"
             ],
             [
              0.7777777777777778,
              "#fb9f3a"
             ],
             [
              0.8888888888888888,
              "#fdca26"
             ],
             [
              1,
              "#f0f921"
             ]
            ],
            "type": "histogram2dcontour"
           }
          ],
          "mesh3d": [
           {
            "colorbar": {
             "outlinewidth": 0,
             "ticks": ""
            },
            "type": "mesh3d"
           }
          ],
          "parcoords": [
           {
            "line": {
             "colorbar": {
              "outlinewidth": 0,
              "ticks": ""
             }
            },
            "type": "parcoords"
           }
          ],
          "pie": [
           {
            "automargin": true,
            "type": "pie"
           }
          ],
          "scatter": [
           {
            "fillpattern": {
             "fillmode": "overlay",
             "size": 10,
             "solidity": 0.2
            },
            "type": "scatter"
           }
          ],
          "scatter3d": [
           {
            "line": {
             "colorbar": {
              "outlinewidth": 0,
              "ticks": ""
             }
            },
            "marker": {
             "colorbar": {
              "outlinewidth": 0,
              "ticks": ""
             }
            },
            "type": "scatter3d"
           }
          ],
          "scattercarpet": [
           {
            "marker": {
             "colorbar": {
              "outlinewidth": 0,
              "ticks": ""
             }
            },
            "type": "scattercarpet"
           }
          ],
          "scattergeo": [
           {
            "marker": {
             "colorbar": {
              "outlinewidth": 0,
              "ticks": ""
             }
            },
            "type": "scattergeo"
           }
          ],
          "scattergl": [
           {
            "marker": {
             "colorbar": {
              "outlinewidth": 0,
              "ticks": ""
             }
            },
            "type": "scattergl"
           }
          ],
          "scattermapbox": [
           {
            "marker": {
             "colorbar": {
              "outlinewidth": 0,
              "ticks": ""
             }
            },
            "type": "scattermapbox"
           }
          ],
          "scatterpolar": [
           {
            "marker": {
             "colorbar": {
              "outlinewidth": 0,
              "ticks": ""
             }
            },
            "type": "scatterpolar"
           }
          ],
          "scatterpolargl": [
           {
            "marker": {
             "colorbar": {
              "outlinewidth": 0,
              "ticks": ""
             }
            },
            "type": "scatterpolargl"
           }
          ],
          "scatterternary": [
           {
            "marker": {
             "colorbar": {
              "outlinewidth": 0,
              "ticks": ""
             }
            },
            "type": "scatterternary"
           }
          ],
          "surface": [
           {
            "colorbar": {
             "outlinewidth": 0,
             "ticks": ""
            },
            "colorscale": [
             [
              0,
              "#0d0887"
             ],
             [
              0.1111111111111111,
              "#46039f"
             ],
             [
              0.2222222222222222,
              "#7201a8"
             ],
             [
              0.3333333333333333,
              "#9c179e"
             ],
             [
              0.4444444444444444,
              "#bd3786"
             ],
             [
              0.5555555555555556,
              "#d8576b"
             ],
             [
              0.6666666666666666,
              "#ed7953"
             ],
             [
              0.7777777777777778,
              "#fb9f3a"
             ],
             [
              0.8888888888888888,
              "#fdca26"
             ],
             [
              1,
              "#f0f921"
             ]
            ],
            "type": "surface"
           }
          ],
          "table": [
           {
            "cells": {
             "fill": {
              "color": "#EBF0F8"
             },
             "line": {
              "color": "white"
             }
            },
            "header": {
             "fill": {
              "color": "#C8D4E3"
             },
             "line": {
              "color": "white"
             }
            },
            "type": "table"
           }
          ]
         },
         "layout": {
          "annotationdefaults": {
           "arrowcolor": "#2a3f5f",
           "arrowhead": 0,
           "arrowwidth": 1
          },
          "autotypenumbers": "strict",
          "coloraxis": {
           "colorbar": {
            "outlinewidth": 0,
            "ticks": ""
           }
          },
          "colorscale": {
           "diverging": [
            [
             0,
             "#8e0152"
            ],
            [
             0.1,
             "#c51b7d"
            ],
            [
             0.2,
             "#de77ae"
            ],
            [
             0.3,
             "#f1b6da"
            ],
            [
             0.4,
             "#fde0ef"
            ],
            [
             0.5,
             "#f7f7f7"
            ],
            [
             0.6,
             "#e6f5d0"
            ],
            [
             0.7,
             "#b8e186"
            ],
            [
             0.8,
             "#7fbc41"
            ],
            [
             0.9,
             "#4d9221"
            ],
            [
             1,
             "#276419"
            ]
           ],
           "sequential": [
            [
             0,
             "#0d0887"
            ],
            [
             0.1111111111111111,
             "#46039f"
            ],
            [
             0.2222222222222222,
             "#7201a8"
            ],
            [
             0.3333333333333333,
             "#9c179e"
            ],
            [
             0.4444444444444444,
             "#bd3786"
            ],
            [
             0.5555555555555556,
             "#d8576b"
            ],
            [
             0.6666666666666666,
             "#ed7953"
            ],
            [
             0.7777777777777778,
             "#fb9f3a"
            ],
            [
             0.8888888888888888,
             "#fdca26"
            ],
            [
             1,
             "#f0f921"
            ]
           ],
           "sequentialminus": [
            [
             0,
             "#0d0887"
            ],
            [
             0.1111111111111111,
             "#46039f"
            ],
            [
             0.2222222222222222,
             "#7201a8"
            ],
            [
             0.3333333333333333,
             "#9c179e"
            ],
            [
             0.4444444444444444,
             "#bd3786"
            ],
            [
             0.5555555555555556,
             "#d8576b"
            ],
            [
             0.6666666666666666,
             "#ed7953"
            ],
            [
             0.7777777777777778,
             "#fb9f3a"
            ],
            [
             0.8888888888888888,
             "#fdca26"
            ],
            [
             1,
             "#f0f921"
            ]
           ]
          },
          "colorway": [
           "#636efa",
           "#EF553B",
           "#00cc96",
           "#ab63fa",
           "#FFA15A",
           "#19d3f3",
           "#FF6692",
           "#B6E880",
           "#FF97FF",
           "#FECB52"
          ],
          "font": {
           "color": "#2a3f5f"
          },
          "geo": {
           "bgcolor": "white",
           "lakecolor": "white",
           "landcolor": "#E5ECF6",
           "showlakes": true,
           "showland": true,
           "subunitcolor": "white"
          },
          "hoverlabel": {
           "align": "left"
          },
          "hovermode": "closest",
          "mapbox": {
           "style": "light"
          },
          "paper_bgcolor": "white",
          "plot_bgcolor": "#E5ECF6",
          "polar": {
           "angularaxis": {
            "gridcolor": "white",
            "linecolor": "white",
            "ticks": ""
           },
           "bgcolor": "#E5ECF6",
           "radialaxis": {
            "gridcolor": "white",
            "linecolor": "white",
            "ticks": ""
           }
          },
          "scene": {
           "xaxis": {
            "backgroundcolor": "#E5ECF6",
            "gridcolor": "white",
            "gridwidth": 2,
            "linecolor": "white",
            "showbackground": true,
            "ticks": "",
            "zerolinecolor": "white"
           },
           "yaxis": {
            "backgroundcolor": "#E5ECF6",
            "gridcolor": "white",
            "gridwidth": 2,
            "linecolor": "white",
            "showbackground": true,
            "ticks": "",
            "zerolinecolor": "white"
           },
           "zaxis": {
            "backgroundcolor": "#E5ECF6",
            "gridcolor": "white",
            "gridwidth": 2,
            "linecolor": "white",
            "showbackground": true,
            "ticks": "",
            "zerolinecolor": "white"
           }
          },
          "shapedefaults": {
           "line": {
            "color": "#2a3f5f"
           }
          },
          "ternary": {
           "aaxis": {
            "gridcolor": "white",
            "linecolor": "white",
            "ticks": ""
           },
           "baxis": {
            "gridcolor": "white",
            "linecolor": "white",
            "ticks": ""
           },
           "bgcolor": "#E5ECF6",
           "caxis": {
            "gridcolor": "white",
            "linecolor": "white",
            "ticks": ""
           }
          },
          "title": {
           "x": 0.05
          },
          "xaxis": {
           "automargin": true,
           "gridcolor": "white",
           "linecolor": "white",
           "ticks": "",
           "title": {
            "standoff": 15
           },
           "zerolinecolor": "white",
           "zerolinewidth": 2
          },
          "yaxis": {
           "automargin": true,
           "gridcolor": "white",
           "linecolor": "white",
           "ticks": "",
           "title": {
            "standoff": 15
           },
           "zerolinecolor": "white",
           "zerolinewidth": 2
          }
         }
        },
        "title": {
         "text": "Notebooks by Azmine Toushik Wasi 2022-08-02"
        },
        "xaxis": {
         "anchor": "y",
         "domain": [
          0,
          1
         ],
         "title": {
          "text": "date"
         }
        },
        "yaxis": {
         "anchor": "x",
         "domain": [
          0,
          1
         ],
         "title": {
          "text": "view_count"
         }
        }
       }
      }
     },
     "metadata": {},
     "output_type": "display_data"
    }
   ],
   "source": [
    "px.line(\n",
    "    df_d,\n",
    "    x='date',\n",
    "    y='view_count',\n",
    "    title=f'Notebooks by {df.author_displayName.get(0)} '+str(links[-2][25:35]),\n",
    "    log_x=False,\n",
    "    log_y=False,\n",
    "    symbol='title',\n",
    "    markers=True,\n",
    "    #width=800, \n",
    "    height=800,\n",
    "    color='medal',\n",
    "    hover_name='title')"
   ]
  },
  {
   "cell_type": "code",
   "execution_count": 17,
   "id": "dd1583ca",
   "metadata": {},
   "outputs": [
    {
     "data": {
      "image/png": "[encoded data removed]",
      "text/plain": [
       "<Figure size 2016x432 with 3 Axes>"
      ]
     },
     "metadata": {},
     "output_type": "display_data"
    }
   ],
   "source": [
    "totals={'date':date_list,\"Upvotes\":gTotalUpvotes,\"Views\":gTotalViews,\"Comments\":gTotalComments}\n",
    "totals=pd.DataFrame(totals)\n",
    "totals['date']=totals['date'].str[5:]\n",
    "\n",
    "\n",
    "sns.set(rc={'figure.figsize':(28,6)})\n",
    "\n",
    "plt.subplot(1,3,1)\n",
    "#p=sns.barplot(x='date',data=totals,y='Views',color='lightgrey')\n",
    "#p.bar_label(p.containers[len(p.containers)-1],label_type='edge',padding=-40,rotation='vertical')\n",
    "p=sns.lineplot(x='date',data=totals,y=\"Views\",color='blue')\n",
    "plt.xticks(fontsize=12,rotation='vertical')\n",
    "for l in p.lines:\n",
    "    y = l.get_ydata()\n",
    "    if len(y)>0:\n",
    "        p.annotate(f'{y[-1]:.0f}', xy=(1,y[-1]), xycoords=('axes fraction', 'data'), \n",
    "                     ha='left', va='center', color=l.get_color())\n",
    "\n",
    "p.axes.set_title(\"\\nViews\\n\",fontsize=20);\n",
    "\n",
    "\n",
    "plt.subplot(1,3,2)\n",
    "#p=sns.barplot(x='date',data=totals,y='Upvotes',color='lightgrey')\n",
    "#p.bar_label(p.containers[len(p.containers)-1],label_type='edge',padding=-40,rotation='vertical')\n",
    "p=sns.lineplot(x='date',data=totals,y=\"Upvotes\",color='green')\n",
    "plt.xticks(fontsize=12,rotation='vertical')\n",
    "for l in p.lines:\n",
    "    y = l.get_ydata()\n",
    "    if len(y)>0:\n",
    "        p.annotate(f'{y[-1]:.0f}', xy=(1,y[-1]), xycoords=('axes fraction', 'data'), \n",
    "                     ha='left', va='center', color=l.get_color())\n",
    "\n",
    "p.axes.set_title(\"\\nUpvotes\\n\",fontsize=20);\n",
    "\n",
    "plt.subplot(1,3,3)\n",
    "#p=sns.barplot(x='date',data=totals,y='Comments',color='lightgrey')\n",
    "#p.bar_label(p.containers[len(p.containers)-1],label_type='edge',padding=-40,rotation='vertical')\n",
    "p=sns.lineplot(x='date',data=totals,y=\"Comments\",color='red')\n",
    "plt.xticks(fontsize=12,rotation='vertical');\n",
    "for l in p.lines:\n",
    "    y = l.get_ydata()\n",
    "    if len(y)>0:\n",
    "        p.annotate(f'{y[-1]:.0f}', xy=(1,y[-1]), xycoords=('axes fraction', 'data'), \n",
    "                     ha='left', va='center', color=l.get_color())\n",
    "\n",
    "p.axes.set_title(\"\\nComments\\n\",fontsize=20);"
   ]
  },
  {
   "cell_type": "code",
   "execution_count": 18,
   "id": "93fcffd4",
   "metadata": {},
   "outputs": [
    {
     "data": {
      "text/plain": [
       "array(['UCL ⚽ EDA & Viz ⭐ 2021-22 ⭐ Players & Teams',\n",
       "       'Divorce Prediction & Reasons Analysis with PCA',\n",
       "       'ML Foundation ➡️ Feature Engineering',\n",
       "       'ML Foundation ➡️ Imputation : All Techniques',\n",
       "       'ML Foundation ➡️ Bias-Variance Tradeoff ',\n",
       "       '▶️ Lionel Messi 📊 Extended EDA ⚽ Goals ',\n",
       "       '▶️ Cristiano Ronaldo ⚽ Goals  📊 EDA, Analysis',\n",
       "       'Coursera 📉 EDA, Insights, Sentiment Analysis',\n",
       "       'Investment and Financial Analysis  🏭 GeoExports',\n",
       "       'ML Foundation ➡️ Cross Validation ✅ All Methods',\n",
       "       'ML Foundation ➡️ Clustering Techniques, Algorithms',\n",
       "       'Daily AQI - Air Quality Index [Scheduled]',\n",
       "       'Classification ➡️ Comparing Different Algorithms'], dtype=object)"
      ]
     },
     "execution_count": 18,
     "metadata": {},
     "output_type": "execute_result"
    }
   ],
   "source": [
    "df_d.title.unique()"
   ]
  }
 ],
 "metadata": {
  "kernelspec": {
   "display_name": "Python 3.9.7 ('base')",
   "language": "python",
   "name": "python3"
  },
  "language_info": {
   "codemirror_mode": {
    "name": "ipython",
    "version": 3
   },
   "file_extension": ".py",
   "mimetype": "text/x-python",
   "name": "python",
   "nbconvert_exporter": "python",
   "pygments_lexer": "ipython3",
   "version": "3.9.7"
  },
  "papermill": {
   "default_parameters": {},
   "duration": 18.651991,
   "end_time": "2022-06-12T00:06:09.640337",
   "environment_variables": {},
   "exception": null,
   "input_path": "__notebook__.ipynb",
   "output_path": "__notebook__.ipynb",
   "parameters": {},
   "start_time": "2022-06-12T00:05:50.988346",
   "version": "2.3.4"
  },
  "vscode": {
   "interpreter": {
    "hash": "5cbe5c8d5a4e4df19ab08f1ca157b6ac51cd16c886bf4a2651a40d0f01930f45"
   }
  }
 },
 "nbformat": 4,
 "nbformat_minor": 5
}
