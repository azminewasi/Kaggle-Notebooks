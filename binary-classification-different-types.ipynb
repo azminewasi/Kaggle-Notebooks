{
 "cells": [
  {
   "cell_type": "markdown",
   "id": "f0e4595f",
   "metadata": {
    "papermill": {
     "duration": 0.012457,
     "end_time": "2022-11-03T23:15:56.656136",
     "exception": false,
     "start_time": "2022-11-03T23:15:56.643679",
     "status": "completed"
    },
    "tags": []
   },
   "source": [
    "<div style=\"padding:20px;color:white;margin:0;font-size:350%;text-align:center;display:fill;border-radius:5px;background-color:#0e3848;overflow:hidden;font-weight:600\">Classification ➡️ Comparing Different Algorithms</div>"
   ]
  },
  {
   "cell_type": "markdown",
   "id": "cf88ea73",
   "metadata": {
    "papermill": {
     "duration": 0.011333,
     "end_time": "2022-11-03T23:15:56.679364",
     "exception": false,
     "start_time": "2022-11-03T23:15:56.668031",
     "status": "completed"
    },
    "tags": []
   },
   "source": [
    "<div style=\"padding:20px;color:white;margin:0;font-size:300%;text-align:center;display:fill;border-radius:5px;background-color:#06445c;overflow:hidden;font-weight:500\">Introduction</div>"
   ]
  },
  {
   "cell_type": "markdown",
   "id": "4ac58b5d",
   "metadata": {
    "papermill": {
     "duration": 0.012166,
     "end_time": "2022-11-03T23:15:56.702989",
     "exception": false,
     "start_time": "2022-11-03T23:15:56.690823",
     "status": "completed"
    },
    "tags": []
   },
   "source": [
    "# 1. Introduction"
   ]
  },
  {
   "cell_type": "markdown",
   "id": "ac8b6436",
   "metadata": {
    "papermill": {
     "duration": 0.011146,
     "end_time": "2022-11-03T23:15:56.725715",
     "exception": false,
     "start_time": "2022-11-03T23:15:56.714569",
     "status": "completed"
    },
    "tags": []
   },
   "source": [
    "In machine learning, classification refers to a predictive modeling problem where a class label is predicted for a given example of input data. Examples of classification problems include: Given an example, classify if it is spam or not. Given a handwritten character, classify it as one of the known characters.\n",
    "\n",
    "### Binary classification\n",
    "**Binary classification refers to those classification tasks that have two class labels.**\n",
    "\n",
    "Examples include:\n",
    "- Email spam detection (spam or not).\n",
    "- Churn prediction (churn or not).\n",
    "- Conversion prediction (buy or not).\n",
    "\n",
    "Typically, binary classification tasks involve one class that is the normal state and another class that is the abnormal state.\n",
    "\n",
    "For example “not spam” is the normal state and “spam” is the abnormal state. Another example is “cancer not detected” is the normal state of a task that involves a medical test and “cancer detected” is the abnormal state.\n",
    "\n",
    "The class for the normal state is assigned the class label 0 and the class with the abnormal state is assigned the class label 1. It is common to model a binary classification task with a model that predicts a Bernoulli probability distribution for each example.\n",
    "\n",
    "The Bernoulli distribution is a discrete probability distribution that covers a case where an event will have a binary outcome as either a 0 or 1. For classification, this means that the model predicts a probability of an example belonging to class 1, or the abnormal state."
   ]
  },
  {
   "cell_type": "markdown",
   "id": "f486f01e",
   "metadata": {
    "papermill": {
     "duration": 0.011086,
     "end_time": "2022-11-03T23:15:56.748242",
     "exception": false,
     "start_time": "2022-11-03T23:15:56.737156",
     "status": "completed"
    },
    "tags": []
   },
   "source": [
    "<div style=\"padding:20px;color:white;margin:0;font-size:300%;text-align:center;display:fill;border-radius:5px;background-color:#06445c;overflow:hidden;font-weight:500\">Popular algorithms</div>"
   ]
  },
  {
   "cell_type": "markdown",
   "id": "ed2f92f2",
   "metadata": {
    "papermill": {
     "duration": 0.011348,
     "end_time": "2022-11-03T23:15:56.771102",
     "exception": false,
     "start_time": "2022-11-03T23:15:56.759754",
     "status": "completed"
    },
    "tags": []
   },
   "source": [
    "# 2. Popular algorithms\n",
    "\n",
    "Popular algorithms that can be used for binary classification include:\n",
    "- Logistic Regression\n",
    "- k-Nearest Neighbors\n",
    "- Decision Trees\n",
    "- Support Vector Machine\n",
    "- Naive Bayes\n",
    "\n",
    "Some algorithms are specifically designed for binary classification and do not natively support more than two classes; examples include Logistic Regression and Support Vector Machines."
   ]
  },
  {
   "cell_type": "markdown",
   "id": "4127b3ad",
   "metadata": {
    "papermill": {
     "duration": 0.01156,
     "end_time": "2022-11-03T23:15:56.794427",
     "exception": false,
     "start_time": "2022-11-03T23:15:56.782867",
     "status": "completed"
    },
    "tags": []
   },
   "source": [
    "<div style=\"padding:20px;color:white;margin:0;font-size:300%;text-align:center;display:fill;border-radius:5px;background-color:#06445c;overflow:hidden;font-weight:500\">Data and Modules</div>"
   ]
  },
  {
   "cell_type": "markdown",
   "id": "10929997",
   "metadata": {
    "papermill": {
     "duration": 0.011431,
     "end_time": "2022-11-03T23:15:56.817809",
     "exception": false,
     "start_time": "2022-11-03T23:15:56.806378",
     "status": "completed"
    },
    "tags": []
   },
   "source": [
    "# 3. Data and Modules"
   ]
  },
  {
   "cell_type": "code",
   "execution_count": 1,
   "id": "e914edda",
   "metadata": {
    "_cell_guid": "b1076dfc-b9ad-4769-8c92-a6c4dae69d19",
    "_uuid": "8f2839f25d086af736a60e9eeb907d3b93b6e0e5",
    "execution": {
     "iopub.execute_input": "2022-11-03T23:15:56.843265Z",
     "iopub.status.busy": "2022-11-03T23:15:56.842557Z",
     "iopub.status.idle": "2022-11-03T23:15:57.788548Z",
     "shell.execute_reply": "2022-11-03T23:15:57.787620Z"
    },
    "papermill": {
     "duration": 0.961658,
     "end_time": "2022-11-03T23:15:57.791061",
     "exception": false,
     "start_time": "2022-11-03T23:15:56.829403",
     "status": "completed"
    },
    "tags": []
   },
   "outputs": [],
   "source": [
    "import numpy as np # linear algebra\n",
    "import pandas as pd # data processing, CSV file I/O (e.g. pd.read_csv)\n",
    "import matplotlib.pyplot as plt \n",
    "import seaborn as sns\n",
    "from datetime import timedelta\n",
    "import warnings\n",
    "warnings.filterwarnings('ignore')"
   ]
  },
  {
   "cell_type": "code",
   "execution_count": 2,
   "id": "f070c240",
   "metadata": {
    "execution": {
     "iopub.execute_input": "2022-11-03T23:15:57.815767Z",
     "iopub.status.busy": "2022-11-03T23:15:57.815421Z",
     "iopub.status.idle": "2022-11-03T23:15:58.034576Z",
     "shell.execute_reply": "2022-11-03T23:15:58.033648Z"
    },
    "papermill": {
     "duration": 0.234069,
     "end_time": "2022-11-03T23:15:58.036907",
     "exception": false,
     "start_time": "2022-11-03T23:15:57.802838",
     "status": "completed"
    },
    "tags": []
   },
   "outputs": [],
   "source": [
    "df=pd.read_csv(\"/kaggle/input/tabular-playground-series-aug-2022/train.csv\")\n",
    "df_test=pd.read_csv(\"/kaggle/input/tabular-playground-series-aug-2022/test.csv\")\n",
    "ss=pd.read_csv(\"/kaggle/input/tabular-playground-series-aug-2022/sample_submission.csv\")"
   ]
  },
  {
   "cell_type": "markdown",
   "id": "08842d00",
   "metadata": {
    "papermill": {
     "duration": 0.01137,
     "end_time": "2022-11-03T23:15:58.060165",
     "exception": false,
     "start_time": "2022-11-03T23:15:58.048795",
     "status": "completed"
    },
    "tags": []
   },
   "source": [
    "<div style=\"padding:20px;color:white;margin:0;font-size:300%;text-align:center;display:fill;border-radius:5px;background-color:#06445c;overflow:hidden;font-weight:500\">Basic Exploration</div>"
   ]
  },
  {
   "cell_type": "markdown",
   "id": "5ef04192",
   "metadata": {
    "papermill": {
     "duration": 0.011231,
     "end_time": "2022-11-03T23:15:58.082998",
     "exception": false,
     "start_time": "2022-11-03T23:15:58.071767",
     "status": "completed"
    },
    "tags": []
   },
   "source": [
    "# 4. Basic Exploration"
   ]
  },
  {
   "cell_type": "code",
   "execution_count": 3,
   "id": "b6e66984",
   "metadata": {
    "execution": {
     "iopub.execute_input": "2022-11-03T23:15:58.107528Z",
     "iopub.status.busy": "2022-11-03T23:15:58.107022Z",
     "iopub.status.idle": "2022-11-03T23:15:58.141499Z",
     "shell.execute_reply": "2022-11-03T23:15:58.140612Z"
    },
    "papermill": {
     "duration": 0.049261,
     "end_time": "2022-11-03T23:15:58.143553",
     "exception": false,
     "start_time": "2022-11-03T23:15:58.094292",
     "status": "completed"
    },
    "tags": []
   },
   "outputs": [
    {
     "data": {
      "text/html": [
       "<div>\n",
       "<style scoped>\n",
       "    .dataframe tbody tr th:only-of-type {\n",
       "        vertical-align: middle;\n",
       "    }\n",
       "\n",
       "    .dataframe tbody tr th {\n",
       "        vertical-align: top;\n",
       "    }\n",
       "\n",
       "    .dataframe thead th {\n",
       "        text-align: right;\n",
       "    }\n",
       "</style>\n",
       "<table border=\"1\" class=\"dataframe\">\n",
       "  <thead>\n",
       "    <tr style=\"text-align: right;\">\n",
       "      <th></th>\n",
       "      <th>id</th>\n",
       "      <th>product_code</th>\n",
       "      <th>loading</th>\n",
       "      <th>attribute_0</th>\n",
       "      <th>attribute_1</th>\n",
       "      <th>attribute_2</th>\n",
       "      <th>attribute_3</th>\n",
       "      <th>measurement_0</th>\n",
       "      <th>measurement_1</th>\n",
       "      <th>measurement_2</th>\n",
       "      <th>...</th>\n",
       "      <th>measurement_9</th>\n",
       "      <th>measurement_10</th>\n",
       "      <th>measurement_11</th>\n",
       "      <th>measurement_12</th>\n",
       "      <th>measurement_13</th>\n",
       "      <th>measurement_14</th>\n",
       "      <th>measurement_15</th>\n",
       "      <th>measurement_16</th>\n",
       "      <th>measurement_17</th>\n",
       "      <th>failure</th>\n",
       "    </tr>\n",
       "  </thead>\n",
       "  <tbody>\n",
       "    <tr>\n",
       "      <th>0</th>\n",
       "      <td>0</td>\n",
       "      <td>A</td>\n",
       "      <td>80.10</td>\n",
       "      <td>material_7</td>\n",
       "      <td>material_8</td>\n",
       "      <td>9</td>\n",
       "      <td>5</td>\n",
       "      <td>7</td>\n",
       "      <td>8</td>\n",
       "      <td>4</td>\n",
       "      <td>...</td>\n",
       "      <td>10.672</td>\n",
       "      <td>15.859</td>\n",
       "      <td>17.594</td>\n",
       "      <td>15.193</td>\n",
       "      <td>15.029</td>\n",
       "      <td>NaN</td>\n",
       "      <td>13.034</td>\n",
       "      <td>14.684</td>\n",
       "      <td>764.100</td>\n",
       "      <td>0</td>\n",
       "    </tr>\n",
       "    <tr>\n",
       "      <th>1</th>\n",
       "      <td>1</td>\n",
       "      <td>A</td>\n",
       "      <td>84.89</td>\n",
       "      <td>material_7</td>\n",
       "      <td>material_8</td>\n",
       "      <td>9</td>\n",
       "      <td>5</td>\n",
       "      <td>14</td>\n",
       "      <td>3</td>\n",
       "      <td>3</td>\n",
       "      <td>...</td>\n",
       "      <td>12.448</td>\n",
       "      <td>17.947</td>\n",
       "      <td>17.915</td>\n",
       "      <td>11.755</td>\n",
       "      <td>14.732</td>\n",
       "      <td>15.425</td>\n",
       "      <td>14.395</td>\n",
       "      <td>15.631</td>\n",
       "      <td>682.057</td>\n",
       "      <td>0</td>\n",
       "    </tr>\n",
       "    <tr>\n",
       "      <th>2</th>\n",
       "      <td>2</td>\n",
       "      <td>A</td>\n",
       "      <td>82.43</td>\n",
       "      <td>material_7</td>\n",
       "      <td>material_8</td>\n",
       "      <td>9</td>\n",
       "      <td>5</td>\n",
       "      <td>12</td>\n",
       "      <td>1</td>\n",
       "      <td>5</td>\n",
       "      <td>...</td>\n",
       "      <td>12.715</td>\n",
       "      <td>15.607</td>\n",
       "      <td>NaN</td>\n",
       "      <td>13.798</td>\n",
       "      <td>16.711</td>\n",
       "      <td>18.631</td>\n",
       "      <td>14.094</td>\n",
       "      <td>17.946</td>\n",
       "      <td>663.376</td>\n",
       "      <td>0</td>\n",
       "    </tr>\n",
       "    <tr>\n",
       "      <th>3</th>\n",
       "      <td>3</td>\n",
       "      <td>A</td>\n",
       "      <td>101.07</td>\n",
       "      <td>material_7</td>\n",
       "      <td>material_8</td>\n",
       "      <td>9</td>\n",
       "      <td>5</td>\n",
       "      <td>13</td>\n",
       "      <td>2</td>\n",
       "      <td>6</td>\n",
       "      <td>...</td>\n",
       "      <td>12.471</td>\n",
       "      <td>16.346</td>\n",
       "      <td>18.377</td>\n",
       "      <td>10.020</td>\n",
       "      <td>15.250</td>\n",
       "      <td>15.562</td>\n",
       "      <td>16.154</td>\n",
       "      <td>17.172</td>\n",
       "      <td>826.282</td>\n",
       "      <td>0</td>\n",
       "    </tr>\n",
       "    <tr>\n",
       "      <th>4</th>\n",
       "      <td>4</td>\n",
       "      <td>A</td>\n",
       "      <td>188.06</td>\n",
       "      <td>material_7</td>\n",
       "      <td>material_8</td>\n",
       "      <td>9</td>\n",
       "      <td>5</td>\n",
       "      <td>9</td>\n",
       "      <td>2</td>\n",
       "      <td>8</td>\n",
       "      <td>...</td>\n",
       "      <td>10.337</td>\n",
       "      <td>17.082</td>\n",
       "      <td>19.932</td>\n",
       "      <td>12.428</td>\n",
       "      <td>16.182</td>\n",
       "      <td>12.760</td>\n",
       "      <td>13.153</td>\n",
       "      <td>16.412</td>\n",
       "      <td>579.885</td>\n",
       "      <td>0</td>\n",
       "    </tr>\n",
       "  </tbody>\n",
       "</table>\n",
       "<p>5 rows × 26 columns</p>\n",
       "</div>"
      ],
      "text/plain": [
       "   id product_code  loading attribute_0 attribute_1  attribute_2  attribute_3  \\\n",
       "0   0            A    80.10  material_7  material_8            9            5   \n",
       "1   1            A    84.89  material_7  material_8            9            5   \n",
       "2   2            A    82.43  material_7  material_8            9            5   \n",
       "3   3            A   101.07  material_7  material_8            9            5   \n",
       "4   4            A   188.06  material_7  material_8            9            5   \n",
       "\n",
       "   measurement_0  measurement_1  measurement_2  ...  measurement_9  \\\n",
       "0              7              8              4  ...         10.672   \n",
       "1             14              3              3  ...         12.448   \n",
       "2             12              1              5  ...         12.715   \n",
       "3             13              2              6  ...         12.471   \n",
       "4              9              2              8  ...         10.337   \n",
       "\n",
       "   measurement_10  measurement_11  measurement_12  measurement_13  \\\n",
       "0          15.859          17.594          15.193          15.029   \n",
       "1          17.947          17.915          11.755          14.732   \n",
       "2          15.607             NaN          13.798          16.711   \n",
       "3          16.346          18.377          10.020          15.250   \n",
       "4          17.082          19.932          12.428          16.182   \n",
       "\n",
       "   measurement_14  measurement_15  measurement_16  measurement_17  failure  \n",
       "0             NaN          13.034          14.684         764.100        0  \n",
       "1          15.425          14.395          15.631         682.057        0  \n",
       "2          18.631          14.094          17.946         663.376        0  \n",
       "3          15.562          16.154          17.172         826.282        0  \n",
       "4          12.760          13.153          16.412         579.885        0  \n",
       "\n",
       "[5 rows x 26 columns]"
      ]
     },
     "execution_count": 3,
     "metadata": {},
     "output_type": "execute_result"
    }
   ],
   "source": [
    "df.head()"
   ]
  },
  {
   "cell_type": "code",
   "execution_count": 4,
   "id": "c700e334",
   "metadata": {
    "execution": {
     "iopub.execute_input": "2022-11-03T23:15:58.169385Z",
     "iopub.status.busy": "2022-11-03T23:15:58.169025Z",
     "iopub.status.idle": "2022-11-03T23:16:01.765642Z",
     "shell.execute_reply": "2022-11-03T23:16:01.764739Z"
    },
    "papermill": {
     "duration": 3.613675,
     "end_time": "2022-11-03T23:16:01.769357",
     "exception": false,
     "start_time": "2022-11-03T23:15:58.155682",
     "status": "completed"
    },
    "tags": []
   },
   "outputs": [
    {
     "data": {
      "image/png": "[encoded data removed]",
      "text/plain": [
       "<Figure size 2160x1440 with 24 Axes>"
      ]
     },
     "metadata": {
      "needs_background": "light"
     },
     "output_type": "display_data"
    }
   ],
   "source": [
    "numerics = ['int16', 'int32', 'int64', 'float16', 'float32', 'float64']\n",
    "\n",
    "newdf = df.select_dtypes(include=numerics)\n",
    "newdf=newdf.sample(1000)\n",
    "\n",
    "\n",
    "fig, axes = plt.subplots(nrows = 6, ncols = 4)    # axes is 2d array (3x3)\n",
    "axes = axes.flatten()         # Convert axes to 1d array of length 9\n",
    "fig.set_size_inches(30, 20)\n",
    "\n",
    "for ax, col in zip(axes, newdf.columns):\n",
    "  sns.distplot(newdf[col], ax = ax, color='forestgreen')\n",
    "  ax.set_title(col)"
   ]
  },
  {
   "cell_type": "code",
   "execution_count": 5,
   "id": "bc63afd9",
   "metadata": {
    "execution": {
     "iopub.execute_input": "2022-11-03T23:16:01.801817Z",
     "iopub.status.busy": "2022-11-03T23:16:01.801449Z",
     "iopub.status.idle": "2022-11-03T23:16:02.133583Z",
     "shell.execute_reply": "2022-11-03T23:16:02.132403Z"
    },
    "papermill": {
     "duration": 0.350914,
     "end_time": "2022-11-03T23:16:02.135617",
     "exception": false,
     "start_time": "2022-11-03T23:16:01.784703",
     "status": "completed"
    },
    "tags": []
   },
   "outputs": [
    {
     "data": {
      "text/plain": [
       "<AxesSubplot:>"
      ]
     },
     "execution_count": 5,
     "metadata": {},
     "output_type": "execute_result"
    },
    {
     "data": {
      "image/png": "[encoded data removed]",
      "text/plain": [
       "<Figure size 432x288 with 2 Axes>"
      ]
     },
     "metadata": {
      "needs_background": "light"
     },
     "output_type": "display_data"
    }
   ],
   "source": [
    "sns.heatmap(newdf.corr())"
   ]
  },
  {
   "cell_type": "code",
   "execution_count": 6,
   "id": "f11b230b",
   "metadata": {
    "execution": {
     "iopub.execute_input": "2022-11-03T23:16:02.167658Z",
     "iopub.status.busy": "2022-11-03T23:16:02.166820Z",
     "iopub.status.idle": "2022-11-03T23:16:02.181571Z",
     "shell.execute_reply": "2022-11-03T23:16:02.180900Z"
    },
    "papermill": {
     "duration": 0.03293,
     "end_time": "2022-11-03T23:16:02.183569",
     "exception": false,
     "start_time": "2022-11-03T23:16:02.150639",
     "status": "completed"
    },
    "tags": []
   },
   "outputs": [],
   "source": [
    "numerics_col_list = list(df.select_dtypes(include=['int16', 'int32', 'int64', 'float16', 'float32', 'float64']).columns)\n",
    "cat_col_list = list(set(df.columns)-set(numerics_col_list))\n",
    "df=df.dropna()"
   ]
  },
  {
   "cell_type": "code",
   "execution_count": 7,
   "id": "49276c72",
   "metadata": {
    "execution": {
     "iopub.execute_input": "2022-11-03T23:16:02.215642Z",
     "iopub.status.busy": "2022-11-03T23:16:02.215030Z",
     "iopub.status.idle": "2022-11-03T23:16:02.552106Z",
     "shell.execute_reply": "2022-11-03T23:16:02.551186Z"
    },
    "papermill": {
     "duration": 0.355629,
     "end_time": "2022-11-03T23:16:02.554281",
     "exception": false,
     "start_time": "2022-11-03T23:16:02.198652",
     "status": "completed"
    },
    "tags": []
   },
   "outputs": [],
   "source": [
    "from sklearn.pipeline import Pipeline\n",
    "from sklearn.impute import SimpleImputer\n",
    "from sklearn.preprocessing import OrdinalEncoder\n",
    "from sklearn.compose import ColumnTransformer\n",
    "\n",
    "num_trans = Pipeline(steps = [('imputer', SimpleImputer(strategy='mean'))])\n",
    "cat_trans = Pipeline(steps = [('imputer', SimpleImputer(strategy = 'most_frequent')),\n",
    "                                       (('odi', (OrdinalEncoder(handle_unknown=\"use_encoded_value\", unknown_value = np.nan))))])\n",
    "transformer = ColumnTransformer(transformers=[(\"num\", num_trans, numerics_col_list),\n",
    "                                           (\"cat\", cat_trans, cat_col_list)])\n",
    "df = pd.DataFrame(transformer.fit_transform(df), columns = (numerics_col_list+cat_col_list))\n",
    "df=df.drop(['id'],axis=1)\n",
    "y=df['failure']\n",
    "X=df.drop(['failure'],axis=1)"
   ]
  },
  {
   "cell_type": "code",
   "execution_count": 8,
   "id": "514368f7",
   "metadata": {
    "execution": {
     "iopub.execute_input": "2022-11-03T23:16:02.586133Z",
     "iopub.status.busy": "2022-11-03T23:16:02.585800Z",
     "iopub.status.idle": "2022-11-03T23:16:02.593066Z",
     "shell.execute_reply": "2022-11-03T23:16:02.592164Z"
    },
    "papermill": {
     "duration": 0.025789,
     "end_time": "2022-11-03T23:16:02.595286",
     "exception": false,
     "start_time": "2022-11-03T23:16:02.569497",
     "status": "completed"
    },
    "tags": []
   },
   "outputs": [],
   "source": [
    "from sklearn.model_selection import train_test_split\n",
    "x_train, x_test, y_train, y_test = train_test_split( X, y, test_size=0.25, random_state=42)"
   ]
  },
  {
   "cell_type": "markdown",
   "id": "1a0d0282",
   "metadata": {
    "papermill": {
     "duration": 0.014499,
     "end_time": "2022-11-03T23:16:02.624839",
     "exception": false,
     "start_time": "2022-11-03T23:16:02.610340",
     "status": "completed"
    },
    "tags": []
   },
   "source": [
    "<div style=\"padding:20px;color:white;margin:0;font-size:300%;text-align:center;display:fill;border-radius:5px;background-color:#06445c;overflow:hidden;font-weight:500\">Binary Classification Algorithms</div>"
   ]
  },
  {
   "cell_type": "markdown",
   "id": "5cb61d79",
   "metadata": {
    "papermill": {
     "duration": 0.014606,
     "end_time": "2022-11-03T23:16:02.654251",
     "exception": false,
     "start_time": "2022-11-03T23:16:02.639645",
     "status": "completed"
    },
    "tags": []
   },
   "source": [
    "# 5. Binary Classification Algorithms"
   ]
  },
  {
   "cell_type": "markdown",
   "id": "a90d8387",
   "metadata": {
    "papermill": {
     "duration": 0.014521,
     "end_time": "2022-11-03T23:16:02.683539",
     "exception": false,
     "start_time": "2022-11-03T23:16:02.669018",
     "status": "completed"
    },
    "tags": []
   },
   "source": [
    "<div style=\"padding:20px;color:white;margin:0;font-size:250%;text-align:center;display:fill;border-radius:5px;background-color:#03648a;overflow:hidden;font-weight:800\">Naive Bayes</div>"
   ]
  },
  {
   "cell_type": "markdown",
   "id": "dbaa7139",
   "metadata": {
    "papermill": {
     "duration": 0.014707,
     "end_time": "2022-11-03T23:16:02.713082",
     "exception": false,
     "start_time": "2022-11-03T23:16:02.698375",
     "status": "completed"
    },
    "tags": []
   },
   "source": [
    "# 5.1. Naive Bayes\n",
    "The Naive Bayes method is a supervised learning algorithm based on applying Bayes’ theorem with the “naive” assumption of conditional independence between every pair of features given the value of the class variable.\n",
    "Naive Bayes classifiers are a collection of classification algorithms based on Bayes’ Theorem. It is not a single algorithm but a family of algorithms where all of them share a common principle, i.e. every pair of features being classified is independent of each other.\n",
    "\n",
    "![](https://static.javatpoint.com/tutorial/machine-learning/images/naive-bayes-classifier-algorithm-4.png)"
   ]
  },
  {
   "cell_type": "markdown",
   "id": "2d2a93c4",
   "metadata": {
    "papermill": {
     "duration": 0.014398,
     "end_time": "2022-11-03T23:16:02.742069",
     "exception": false,
     "start_time": "2022-11-03T23:16:02.727671",
     "status": "completed"
    },
    "tags": []
   },
   "source": [
    "## When use this model?\n",
    "The fundamental Naïve Bayes assumption is that each feature makes an: independent and equal contribution to the outcome.\n",
    "\n",
    "What it does mean that? This mean that when you have several features and they are independent, they are not correlated, and none of the attributes are irrelevant and assumed to be contributing Equally to the outcome.\n",
    "\n",
    "Due to the independence assumption is never correct we call Naive. This model works particularly well with natural language processing (NLP) problems. Because we can assume\n",
    "\n",
    "The order of the words in document X makes no difference but repetitions of words do. (Bag of Words assumption )\n",
    "Words appear independently of each other, given the document class (Conditional Independence ).\n",
    "There are different types , among common types are:\n",
    "\n",
    "a) Multinomial Naïve Bayes Classifier Feature vectors represent the frequencies with which certain events have been generated by a multinomial distribution. This is the event model typically used for document classification.\n",
    "\n",
    "b) Bernoulli Naïve Bayes Classifier In the multivariate Bernoulli event model, features are independent booleans (binary variables) describing inputs. Like the multinomial model, this model is popular for document classification tasks, where binary term occurrence (i.e. a word occurs in a document or not) features are used rather than term frequencies (i.e. frequency of a word in the document).\n",
    "\n",
    "c) Gaussian Naïve Bayes Classifier In Gaussian Naïve Bayes, continuous values associated with each feature are assumed to be distributed according to a Gaussian distribution (Normal distribution)."
   ]
  },
  {
   "cell_type": "markdown",
   "id": "1cb9385c",
   "metadata": {
    "papermill": {
     "duration": 0.014337,
     "end_time": "2022-11-03T23:16:02.770844",
     "exception": false,
     "start_time": "2022-11-03T23:16:02.756507",
     "status": "completed"
    },
    "tags": []
   },
   "source": [
    "## Code Example"
   ]
  },
  {
   "cell_type": "code",
   "execution_count": 9,
   "id": "34ed325d",
   "metadata": {
    "execution": {
     "iopub.execute_input": "2022-11-03T23:16:02.802058Z",
     "iopub.status.busy": "2022-11-03T23:16:02.801460Z",
     "iopub.status.idle": "2022-11-03T23:16:02.821473Z",
     "shell.execute_reply": "2022-11-03T23:16:02.820616Z"
    },
    "papermill": {
     "duration": 0.037768,
     "end_time": "2022-11-03T23:16:02.823308",
     "exception": false,
     "start_time": "2022-11-03T23:16:02.785540",
     "status": "completed"
    },
    "tags": []
   },
   "outputs": [
    {
     "name": "stdout",
     "output_type": "stream",
     "text": [
      "score on test: 0.6946815495732108\n",
      "score on train: 0.6828280617270439\n"
     ]
    }
   ],
   "source": [
    "from sklearn.naive_bayes import MultinomialNB\n",
    "mnb = MultinomialNB().fit(x_train, y_train)\n",
    "print(\"score on test: \" + str(mnb.score(x_test, y_test)))\n",
    "print(\"score on train: \"+ str(mnb.score(x_train, y_train)))"
   ]
  },
  {
   "cell_type": "markdown",
   "id": "47ed3430",
   "metadata": {
    "papermill": {
     "duration": 0.019934,
     "end_time": "2022-11-03T23:16:02.863630",
     "exception": false,
     "start_time": "2022-11-03T23:16:02.843696",
     "status": "completed"
    },
    "tags": []
   },
   "source": [
    "## Summary\n",
    "The Naive Bayes algorithm is very fast for this feature rich dataset (remember we have a tensor with 10,000 feature vectors) and already provides a good result of above 80%. The score on the training and test data are close to each other, which indicates that the we are not overfitting."
   ]
  },
  {
   "cell_type": "markdown",
   "id": "7b2bddee",
   "metadata": {
    "papermill": {
     "duration": 0.020768,
     "end_time": "2022-11-03T23:16:02.905869",
     "exception": false,
     "start_time": "2022-11-03T23:16:02.885101",
     "status": "completed"
    },
    "tags": []
   },
   "source": [
    "<div style=\"padding:20px;color:white;margin:0;font-size:250%;text-align:center;display:fill;border-radius:5px;background-color:#03648a;overflow:hidden;font-weight:800\">Logistic Regression</div>"
   ]
  },
  {
   "cell_type": "markdown",
   "id": "c07c411f",
   "metadata": {
    "papermill": {
     "duration": 0.017302,
     "end_time": "2022-11-03T23:16:02.943645",
     "exception": false,
     "start_time": "2022-11-03T23:16:02.926343",
     "status": "completed"
    },
    "tags": []
   },
   "source": [
    "# 5.2. Logistic Regression"
   ]
  },
  {
   "cell_type": "markdown",
   "id": "5ea02f5e",
   "metadata": {
    "papermill": {
     "duration": 0.014618,
     "end_time": "2022-11-03T23:16:02.973562",
     "exception": false,
     "start_time": "2022-11-03T23:16:02.958944",
     "status": "completed"
    },
    "tags": []
   },
   "source": [
    "Logistic regression estimates the probability of an event occurring, such as voted or didn't vote, based on a given dataset of independent variables. Since the outcome is a probability, the dependent variable is bounded between 0 and 1.\n",
    "\n",
    "Logistic Regression is a Machine Learning algorithm used to make predictions to find the value of a dependent variable such as the condition of a tumor (malignant or benign), classification of email (spam or not spam), or admission into a university (admitted or not admitted) by learning from independent variables (various features relevant to the problem).\n",
    "\n",
    "For example, for classifying an email, the algorithm will use the words in the email as features and based on that make a prediction whether the email is spam or not.\n",
    "\n",
    "Logistic Regression is a supervised Machine Learning algorithm, which means the data provided for training is labeled i.e., answers are already provided in the training set. The algorithm learns from those examples and their corresponding answers (labels) and then uses that to classify new examples.\n",
    "\n",
    "In mathematical terms, suppose the dependent variable is Y and the set of independent variables is X, then logistic regression will predict the dependent variable P(Y=1) as a function of X, the set of independent variables.\n",
    "\n",
    "\n",
    "\n",
    "![](https://pimages.toolbox.com/wp-content/uploads/2022/04/11040522/46-4.png)"
   ]
  },
  {
   "cell_type": "markdown",
   "id": "6981ceea",
   "metadata": {
    "papermill": {
     "duration": 0.015436,
     "end_time": "2022-11-03T23:16:03.003923",
     "exception": false,
     "start_time": "2022-11-03T23:16:02.988487",
     "status": "completed"
    },
    "tags": []
   },
   "source": [
    "## Code Example"
   ]
  },
  {
   "cell_type": "code",
   "execution_count": 10,
   "id": "84a77669",
   "metadata": {
    "_kg_hide-output": true,
    "execution": {
     "iopub.execute_input": "2022-11-03T23:16:03.036275Z",
     "iopub.status.busy": "2022-11-03T23:16:03.035935Z",
     "iopub.status.idle": "2022-11-03T23:16:03.344064Z",
     "shell.execute_reply": "2022-11-03T23:16:03.342903Z"
    },
    "papermill": {
     "duration": 0.327415,
     "end_time": "2022-11-03T23:16:03.346830",
     "exception": false,
     "start_time": "2022-11-03T23:16:03.019415",
     "status": "completed"
    },
    "tags": []
   },
   "outputs": [
    {
     "name": "stdout",
     "output_type": "stream",
     "text": [
      "score on test: 0.788903479973736\n",
      "score on train: 0.7904126080770494\n"
     ]
    }
   ],
   "source": [
    "from sklearn.linear_model import LogisticRegression\n",
    "lr=LogisticRegression(max_iter=1000)\n",
    "lr.fit(x_train, y_train)\n",
    "print(\"score on test: \" + str(lr.score(x_test, y_test)))\n",
    "print(\"score on train: \"+ str(lr.score(x_train, y_train)))"
   ]
  },
  {
   "cell_type": "markdown",
   "id": "ef7b08b8",
   "metadata": {
    "papermill": {
     "duration": 0.020161,
     "end_time": "2022-11-03T23:16:03.387928",
     "exception": false,
     "start_time": "2022-11-03T23:16:03.367767",
     "status": "completed"
    },
    "tags": []
   },
   "source": [
    "## Summary\n",
    "The Logistic Regression takes quite a long time to train and does overfit. That the algorithm overfits can be seen in the deviation of the train data score (98%) to test data score (86%)."
   ]
  },
  {
   "cell_type": "markdown",
   "id": "a6911684",
   "metadata": {
    "papermill": {
     "duration": 0.019899,
     "end_time": "2022-11-03T23:16:03.428172",
     "exception": false,
     "start_time": "2022-11-03T23:16:03.408273",
     "status": "completed"
    },
    "tags": []
   },
   "source": [
    "## When use this model?\n",
    "Well, if the distribution of the data may be distributed this logistic function, or like the sigmoid function, the the outputs may behave as the previous two formulas then this may be a good candidate to test. The logistic regression is a probabilistic approach."
   ]
  },
  {
   "cell_type": "markdown",
   "id": "fdf9a4c3",
   "metadata": {
    "papermill": {
     "duration": 0.016672,
     "end_time": "2022-11-03T23:16:03.465115",
     "exception": false,
     "start_time": "2022-11-03T23:16:03.448443",
     "status": "completed"
    },
    "tags": []
   },
   "source": [
    "<div style=\"padding:20px;color:white;margin:0;font-size:250%;text-align:center;display:fill;border-radius:5px;background-color:#03648a;overflow:hidden;font-weight:800\">K-Nearest Neighbours</div>"
   ]
  },
  {
   "cell_type": "markdown",
   "id": "61aaf403",
   "metadata": {
    "papermill": {
     "duration": 0.014848,
     "end_time": "2022-11-03T23:16:03.494766",
     "exception": false,
     "start_time": "2022-11-03T23:16:03.479918",
     "status": "completed"
    },
    "tags": []
   },
   "source": [
    "# 5.3. K-Nearest Neighbours\n",
    "K-Nearest Neighbour (K-NN ) algorithm assumes the similarity between the new case/data and available cases and put the new case into the category that is most similar to the available categories.\n",
    "K-NN algorithm stores all the available data and classifies a new data point based on the similarity. This means when new data appears then it can be easily classified into a well suite category by using K- NN algorithm.\n",
    "\n",
    "K-NN algorithm can be used for Regression as well as for Classification but mostly it is used for the Classification problems.\n",
    "K-NN is a non-parametric algorithm, which means it does not make any assumption on underlying data.\n",
    "It is also called a lazy learner algorithm because it does not learn from the training set immediately instead it stores the dataset and at the time of classification, it performs an action on the dataset.\n",
    "\n",
    "KNN algorithm at the training phase just stores the dataset and when it gets new data, then it classifies that data into a category that is much similar to the new data.\n",
    "\n",
    "## When use this model?\n",
    "Suppose there are two categories, i.e., Category A and Category B, and we have a new data point x1, so this data point will lie in which of these categories. To solve this type of problem, we need a K-NN algorithm. With the help of K-NN, we can easily identify the category or class of a particular dataset. \n",
    "\n",
    "\n",
    "![](https://static.javatpoint.com/tutorial/machine-learning/images/k-nearest-neighbor-algorithm-for-machine-learning2.png)"
   ]
  },
  {
   "cell_type": "markdown",
   "id": "c6505f32",
   "metadata": {
    "papermill": {
     "duration": 0.014708,
     "end_time": "2022-11-03T23:16:03.524472",
     "exception": false,
     "start_time": "2022-11-03T23:16:03.509764",
     "status": "completed"
    },
    "tags": []
   },
   "source": [
    "## Code Examples :"
   ]
  },
  {
   "cell_type": "code",
   "execution_count": 11,
   "id": "022e07ad",
   "metadata": {
    "execution": {
     "iopub.execute_input": "2022-11-03T23:16:03.555867Z",
     "iopub.status.busy": "2022-11-03T23:16:03.555533Z",
     "iopub.status.idle": "2022-11-03T23:16:06.019466Z",
     "shell.execute_reply": "2022-11-03T23:16:06.017665Z"
    },
    "papermill": {
     "duration": 2.48275,
     "end_time": "2022-11-03T23:16:06.022252",
     "exception": false,
     "start_time": "2022-11-03T23:16:03.539502",
     "status": "completed"
    },
    "tags": []
   },
   "outputs": [
    {
     "name": "stdout",
     "output_type": "stream",
     "text": [
      "train shape: (9137, 24)\n",
      "score on test: 0.742284963887065\n",
      "score on train: 0.8098938382401226\n"
     ]
    }
   ],
   "source": [
    "from sklearn.neighbors import KNeighborsClassifier\n",
    "knn = KNeighborsClassifier(algorithm = 'brute', n_jobs=-1)\n",
    "knn.fit(x_train, y_train)\n",
    "print(\"train shape: \" + str(x_train.shape))\n",
    "print(\"score on test: \" + str(knn.score(x_test, y_test)))\n",
    "print(\"score on train: \"+ str(knn.score(x_train, y_train)))"
   ]
  },
  {
   "cell_type": "markdown",
   "id": "fabb06e2",
   "metadata": {
    "papermill": {
     "duration": 0.015018,
     "end_time": "2022-11-03T23:16:06.052701",
     "exception": false,
     "start_time": "2022-11-03T23:16:06.037683",
     "status": "completed"
    },
    "tags": []
   },
   "source": [
    "## Summary: \n",
    "As expected, this algorithm is not very well-suited for this kind of prediction problem. It takes 12 minutes, it predicts very poorly with only 62%, and shows overfitting tendencies."
   ]
  },
  {
   "cell_type": "markdown",
   "id": "3fc7e7a4",
   "metadata": {
    "papermill": {
     "duration": 0.015297,
     "end_time": "2022-11-03T23:16:06.083442",
     "exception": false,
     "start_time": "2022-11-03T23:16:06.068145",
     "status": "completed"
    },
    "tags": []
   },
   "source": [
    "<div style=\"padding:20px;color:white;margin:0;font-size:250%;text-align:center;display:fill;border-radius:5px;background-color:#03648a;overflow:hidden;font-weight:800\">Support Vector Machine</div>"
   ]
  },
  {
   "cell_type": "markdown",
   "id": "c99f33bd",
   "metadata": {
    "papermill": {
     "duration": 0.015152,
     "end_time": "2022-11-03T23:16:06.113909",
     "exception": false,
     "start_time": "2022-11-03T23:16:06.098757",
     "status": "completed"
    },
    "tags": []
   },
   "source": [
    "# 5.4. Support Vector Machine\n",
    "\n",
    "Support vector machine is based on statistical approaches. Her we try to find a hyperplane that best separates the two classes.\n",
    "SVM finding the maximum margin between the hyperplanes that means maximum distances between the two classes.\n",
    "SVM works best when the dataset is small and complex.\n",
    "When the data is perfectly linearly separable only then we can use Linear SVM.\n",
    "When the data is not linearly separable then we can use Non-Linear SVM, which means when the data points cannot be separated into 2 classes by using a a linear approach."
   ]
  },
  {
   "cell_type": "markdown",
   "id": "bc239427",
   "metadata": {
    "papermill": {
     "duration": 0.014718,
     "end_time": "2022-11-03T23:16:06.144410",
     "exception": false,
     "start_time": "2022-11-03T23:16:06.129692",
     "status": "completed"
    },
    "tags": []
   },
   "source": [
    "The Support Vector Machine is a simple algorithm for classification and regression tasks. It can provide high accuracy with less computation power very fast. Due to the large number of features, we are using the LinearSVC. It turned out that setting the regularisation parameter C=0.0001 improves the quality of the prediction and reduces overfitting.\n",
    "\n",
    "The objective of the support vector machine algorithm is to find a hyperplane in an N-dimensional space(N — the number of features) that distinctly classifies the data points.\n",
    "\n",
    "![](https://static.javatpoint.com/tutorial/machine-learning/images/support-vector-machine-algorithm.png)\n",
    "\n",
    "Support Vector Machine or SVM is one of the most popular Supervised Learning algorithms, which is used for Classification as well as Regression problems. However, primarily, it is used for Classification problems in Machine Learning.\n",
    "\n",
    "The goal of the SVM algorithm is to create the best line or decision boundary that can segregate n-dimensional space into classes so that we can easily put the new data point in the correct category in the future. This best decision boundary is called a hyperplane."
   ]
  },
  {
   "cell_type": "markdown",
   "id": "eabe36e2",
   "metadata": {
    "papermill": {
     "duration": 0.014864,
     "end_time": "2022-11-03T23:16:06.174526",
     "exception": false,
     "start_time": "2022-11-03T23:16:06.159662",
     "status": "completed"
    },
    "tags": []
   },
   "source": [
    "## Code Example"
   ]
  },
  {
   "cell_type": "code",
   "execution_count": 12,
   "id": "314ea820",
   "metadata": {
    "execution": {
     "iopub.execute_input": "2022-11-03T23:16:06.207236Z",
     "iopub.status.busy": "2022-11-03T23:16:06.206853Z",
     "iopub.status.idle": "2022-11-03T23:16:07.341587Z",
     "shell.execute_reply": "2022-11-03T23:16:07.340855Z"
    },
    "papermill": {
     "duration": 1.153971,
     "end_time": "2022-11-03T23:16:07.343741",
     "exception": false,
     "start_time": "2022-11-03T23:16:06.189770",
     "status": "completed"
    },
    "tags": []
   },
   "outputs": [
    {
     "name": "stdout",
     "output_type": "stream",
     "text": [
      "score on test: 0.7895600787918582\n",
      "score on train: 0.7905220531903251\n"
     ]
    }
   ],
   "source": [
    "from sklearn.svm import LinearSVC\n",
    "svm=LinearSVC(C=0.0001)\n",
    "svm.fit(x_train, y_train)\n",
    "print(\"score on test: \" + str(svm.score(x_test, y_test)))\n",
    "print(\"score on train: \"+ str(svm.score(x_train, y_train)))"
   ]
  },
  {
   "cell_type": "markdown",
   "id": "ed80ff03",
   "metadata": {
    "papermill": {
     "duration": 0.020406,
     "end_time": "2022-11-03T23:16:07.384761",
     "exception": false,
     "start_time": "2022-11-03T23:16:07.364355",
     "status": "completed"
    },
    "tags": []
   },
   "source": [
    "## Summary\n",
    "The Support Vector Machine is very fast, gives a high score for prediction and shows no overfitting issues."
   ]
  },
  {
   "cell_type": "markdown",
   "id": "f6cc02a1",
   "metadata": {
    "papermill": {
     "duration": 0.02057,
     "end_time": "2022-11-03T23:16:07.426284",
     "exception": false,
     "start_time": "2022-11-03T23:16:07.405714",
     "status": "completed"
    },
    "tags": []
   },
   "source": [
    "## When use this model?\n",
    "We can use SVM when a number of features are high compared to a number of data points in the dataset. By using the correct kernel and setting an optimum set of parameters. It is effective in high dimensional spaces. Still effective in cases where number of dimensions is greater than the number of samples. Uses a subset of training points in the decision function (called support vectors), so it is also memory efficient."
   ]
  },
  {
   "cell_type": "markdown",
   "id": "cdf34778",
   "metadata": {
    "papermill": {
     "duration": 0.016998,
     "end_time": "2022-11-03T23:16:07.464144",
     "exception": false,
     "start_time": "2022-11-03T23:16:07.447146",
     "status": "completed"
    },
    "tags": []
   },
   "source": [
    "<div style=\"padding:20px;color:white;margin:0;font-size:250%;text-align:center;display:fill;border-radius:5px;background-color:#03648a;overflow:hidden;font-weight:800\">Decision Tree</div>"
   ]
  },
  {
   "cell_type": "markdown",
   "id": "a3589d83",
   "metadata": {
    "papermill": {
     "duration": 0.015097,
     "end_time": "2022-11-03T23:16:07.494452",
     "exception": false,
     "start_time": "2022-11-03T23:16:07.479355",
     "status": "completed"
    },
    "tags": []
   },
   "source": [
    "# 5.5. Decision Tree\n",
    "\n",
    "A Decision Tree is a non-parametric supervised learning method used for classification and regression. The goal is to create a model that predicts the value of a target variable by learning simple decision rules (if-else) inferred from the data features.\n",
    "\n",
    "![](https://static.javatpoint.com/tutorial/machine-learning/images/decision-tree-classification-algorithm.png)\n",
    "\n",
    "Decision trees can perform both classification and regression tasks, so you’ll see authors refer to them as CART algorithm: Classification and Regression Tree. This is an umbrella term, applicable to all tree-based algorithms, not just decision trees.\n",
    "\n",
    "But let’s focus on decision trees for classification.\n",
    "\n",
    "The intuition behind Decision Trees is that you use the dataset features to create yes/no questions and continually split the dataset until you isolate all data points belonging to each class.\n",
    "\n",
    "With this process you’re organizing the data in a tree structure.\n",
    "\n",
    "Every time you ask a question you’re adding a node to the tree. And the first node is called the root node.\n",
    "\n",
    "The result of asking a question splits the dataset based on the value of a feature, and creates new nodes.\n",
    "\n",
    "If you decide to stop the process after a split, the last nodes created are called leaf nodes."
   ]
  },
  {
   "cell_type": "markdown",
   "id": "c8053150",
   "metadata": {
    "papermill": {
     "duration": 0.014878,
     "end_time": "2022-11-03T23:16:07.524516",
     "exception": false,
     "start_time": "2022-11-03T23:16:07.509638",
     "status": "completed"
    },
    "tags": []
   },
   "source": [
    "## When use this model?\n",
    "When you don’t need to prepare the data before building the model and when your dataset can have a mix of numerical and categorical data, and you won’t need to encode any of the categorial features.\n",
    "\n",
    "However you should take into account that Decision tree models are often biased toward splits on features having a large number of levels. Small changes in the training data can result in large changes to decision logic and large trees can be difficult to interpret and the decisions they make may seem counter intuitive.\n",
    "\n",
    "#### Among some uses are in:\n",
    "- Biomedical Engineering (decision trees for identifying features to be used in implantable devices).\n",
    "- Financial analysis (Customer Satisfaction with a product or service).\n",
    "- Astronomy (classify galaxies).\n",
    "- System Control.\n",
    "- Manufacturing and Production (Quality control, Semiconductor manufacturing, etc).\n",
    "- Medicines (diagnosis, cardiology, psychiatry).\n",
    "- Physics (Particle detection)."
   ]
  },
  {
   "cell_type": "markdown",
   "id": "8b00f657",
   "metadata": {
    "papermill": {
     "duration": 0.015183,
     "end_time": "2022-11-03T23:16:07.554832",
     "exception": false,
     "start_time": "2022-11-03T23:16:07.539649",
     "status": "completed"
    },
    "tags": []
   },
   "source": [
    "## Code Example:"
   ]
  },
  {
   "cell_type": "code",
   "execution_count": 13,
   "id": "8be30eb7",
   "metadata": {
    "execution": {
     "iopub.execute_input": "2022-11-03T23:16:07.587221Z",
     "iopub.status.busy": "2022-11-03T23:16:07.586876Z",
     "iopub.status.idle": "2022-11-03T23:16:07.925291Z",
     "shell.execute_reply": "2022-11-03T23:16:07.924323Z"
    },
    "papermill": {
     "duration": 0.356813,
     "end_time": "2022-11-03T23:16:07.927071",
     "exception": false,
     "start_time": "2022-11-03T23:16:07.570258",
     "status": "completed"
    },
    "tags": []
   },
   "outputs": [
    {
     "name": "stdout",
     "output_type": "stream",
     "text": [
      "score on test: 0.6726854891661195\n",
      "score on train: 1.0\n"
     ]
    }
   ],
   "source": [
    "from sklearn.tree import DecisionTreeClassifier\n",
    "clf = DecisionTreeClassifier()\n",
    "clf.fit(x_train, y_train)\n",
    "print(\"score on test: \"  + str(clf.score(x_test, y_test)))\n",
    "print(\"score on train: \" + str(clf.score(x_train, y_train)))"
   ]
  },
  {
   "cell_type": "markdown",
   "id": "649451e2",
   "metadata": {
    "papermill": {
     "duration": 0.014862,
     "end_time": "2022-11-03T23:16:07.957425",
     "exception": false,
     "start_time": "2022-11-03T23:16:07.942563",
     "status": "completed"
    },
    "tags": []
   },
   "source": [
    "## Summary: \n",
    "Applying a single decision tree to this feature rich dataset leads to massive overfitting. Indeed, an accuracy of 100% means it has remembered exactly the training dataset and is therefore generalising poorly on the test data. What we can see here is one of the cons of single decision tree which can’t handle data with too many features."
   ]
  },
  {
   "cell_type": "markdown",
   "id": "c7f567cd",
   "metadata": {
    "papermill": {
     "duration": 0.01475,
     "end_time": "2022-11-03T23:16:07.987255",
     "exception": false,
     "start_time": "2022-11-03T23:16:07.972505",
     "status": "completed"
    },
    "tags": []
   },
   "source": [
    "<div style=\"padding:20px;color:white;margin:0;font-size:250%;text-align:center;display:fill;border-radius:5px;background-color:#03648a;overflow:hidden;font-weight:800\">Bagging Decision Tree</div>"
   ]
  },
  {
   "cell_type": "markdown",
   "id": "3b4c3707",
   "metadata": {
    "papermill": {
     "duration": 0.014644,
     "end_time": "2022-11-03T23:16:08.016784",
     "exception": false,
     "start_time": "2022-11-03T23:16:08.002140",
     "status": "completed"
    },
    "tags": []
   },
   "source": [
    "# 5. 6. Bagging Decision Tree\n",
    "\n",
    "When a decision tree overfits, applying an ensemble learning algorithm like bagging might improve the quality of the prediction model. In bagging, the training data is increased by taking bootstraps from the training data. This means multiple samples are taken (with replacement) from the training data and the model is trained on these sub-datasets. The final prediction is the average over all predictions from each bootstrap sample.\n",
    "\n",
    "![](https://bradleyboehmke.github.io/HOML/images/Boston-6-trees.png)\n",
    "\n",
    "Bootstrap aggregating, also called bagging, is one of the first ensemble algorithms28 machine learning practitioners learn and is designed to improve the stability and accuracy of regression and classification algorithms. By model averaging, bagging helps to reduce variance and minimize overfitting. Although it is usually applied to decision tree methods, it can be used with any type of method."
   ]
  },
  {
   "cell_type": "markdown",
   "id": "ec152320",
   "metadata": {
    "papermill": {
     "duration": 0.015011,
     "end_time": "2022-11-03T23:16:08.046758",
     "exception": false,
     "start_time": "2022-11-03T23:16:08.031747",
     "status": "completed"
    },
    "tags": []
   },
   "source": [
    "## Code Example:"
   ]
  },
  {
   "cell_type": "code",
   "execution_count": 14,
   "id": "7f41545b",
   "metadata": {
    "execution": {
     "iopub.execute_input": "2022-11-03T23:16:08.079668Z",
     "iopub.status.busy": "2022-11-03T23:16:08.079022Z",
     "iopub.status.idle": "2022-11-03T23:16:09.231163Z",
     "shell.execute_reply": "2022-11-03T23:16:09.230055Z"
    },
    "papermill": {
     "duration": 1.171774,
     "end_time": "2022-11-03T23:16:09.233845",
     "exception": false,
     "start_time": "2022-11-03T23:16:08.062071",
     "status": "completed"
    },
    "tags": []
   },
   "outputs": [
    {
     "name": "stdout",
     "output_type": "stream",
     "text": [
      "score on test: 0.7744583059750493\n",
      "score on train: 0.8900076611579293\n"
     ]
    }
   ],
   "source": [
    "from sklearn.ensemble import BaggingClassifier\n",
    "from sklearn.tree import DecisionTreeClassifier\n",
    "# max_samples: maximum size 0.5=50% of each sample taken from the full dataset\n",
    "# max_features: maximum of features 1=100% taken here all 10K \n",
    "# n_estimators: number of decision trees \n",
    "bg=BaggingClassifier(DecisionTreeClassifier(),max_samples=0.5,max_features=1.0,n_estimators=10)\n",
    "bg.fit(x_train, y_train)\n",
    "print(\"score on test: \" + str(bg.score(x_test, y_test)))\n",
    "print(\"score on train: \"+ str(bg.score(x_train, y_train)))"
   ]
  },
  {
   "cell_type": "markdown",
   "id": "4f1043e1",
   "metadata": {
    "papermill": {
     "duration": 0.015323,
     "end_time": "2022-11-03T23:16:09.265575",
     "exception": false,
     "start_time": "2022-11-03T23:16:09.250252",
     "status": "completed"
    },
    "tags": []
   },
   "source": [
    "## Summary: \n",
    "The Bagging Classifier is much slower as it basically runs 10 decision trees but one can see a reduction of the overfitting we saw on the single Decision Tree and an increase in the test score. Play around with the parameters to further improve this result."
   ]
  },
  {
   "cell_type": "markdown",
   "id": "b0ca35c8",
   "metadata": {
    "papermill": {
     "duration": 0.015736,
     "end_time": "2022-11-03T23:16:09.296701",
     "exception": false,
     "start_time": "2022-11-03T23:16:09.280965",
     "status": "completed"
    },
    "tags": []
   },
   "source": [
    "<div style=\"padding:20px;color:white;margin:0;font-size:250%;text-align:center;display:fill;border-radius:5px;background-color:#03648a;overflow:hidden;font-weight:800\">Boosting Decision Tree</div>"
   ]
  },
  {
   "cell_type": "markdown",
   "id": "b38f98bf",
   "metadata": {
    "papermill": {
     "duration": 0.015377,
     "end_time": "2022-11-03T23:16:09.327723",
     "exception": false,
     "start_time": "2022-11-03T23:16:09.312346",
     "status": "completed"
    },
    "tags": []
   },
   "source": [
    "# 5.7. Boosting Decision Tree\n",
    "\n",
    "In general, we can’t use Boosting to improve a completely overfitted model with score = 1. To apply Boosting, we first have to tweak the decision tree classifier a bit. It took me some trial and error until I got the best parameters for the Decision Tree and the AdaBoost Classifier. I am sure you can further improve by playing around a bit more.\n",
    "\n",
    "![](https://www.researchgate.net/profile/Mahsa-Shoaran/publication/325632132/figure/fig2/AS:639244859093006@1529419259793/Schematic-diagram-of-a-boosted-ensemble-of-decision-trees.png)\n",
    "\n",
    "Boosting means that each tree is dependent on prior trees. The algorithm learns by fitting the residual of the trees that preceded it. Thus, boosting in a decision tree ensemble tends to improve accuracy with some small risk of less coverage. This component is based on the LightGBM algorithm."
   ]
  },
  {
   "cell_type": "markdown",
   "id": "d78da62b",
   "metadata": {
    "papermill": {
     "duration": 0.015154,
     "end_time": "2022-11-03T23:16:09.358487",
     "exception": false,
     "start_time": "2022-11-03T23:16:09.343333",
     "status": "completed"
    },
    "tags": []
   },
   "source": [
    "## Code Example"
   ]
  },
  {
   "cell_type": "code",
   "execution_count": 15,
   "id": "c3cdd39e",
   "metadata": {
    "execution": {
     "iopub.execute_input": "2022-11-03T23:16:09.391428Z",
     "iopub.status.busy": "2022-11-03T23:16:09.391056Z",
     "iopub.status.idle": "2022-11-03T23:16:10.257699Z",
     "shell.execute_reply": "2022-11-03T23:16:10.256354Z"
    },
    "papermill": {
     "duration": 0.885349,
     "end_time": "2022-11-03T23:16:10.259413",
     "exception": false,
     "start_time": "2022-11-03T23:16:09.374064",
     "status": "completed"
    },
    "tags": []
   },
   "outputs": [
    {
     "name": "stdout",
     "output_type": "stream",
     "text": [
      "score on test: 0.783650689428759\n",
      "score on train: 0.7964320893072124\n"
     ]
    }
   ],
   "source": [
    "from sklearn.ensemble import AdaBoostClassifier\n",
    "from sklearn.tree import DecisionTreeClassifier\n",
    "adb = AdaBoostClassifier(DecisionTreeClassifier(min_samples_split=10,max_depth=4),n_estimators=10,learning_rate=0.6)\n",
    "adb.fit(x_train, y_train)\n",
    "print(\"score on test: \" + str(adb.score(x_test, y_test)))\n",
    "print(\"score on train: \"+ str(adb.score(x_train, y_train)))"
   ]
  },
  {
   "cell_type": "markdown",
   "id": "109c842e",
   "metadata": {
    "papermill": {
     "duration": 0.014634,
     "end_time": "2022-11-03T23:16:10.289482",
     "exception": false,
     "start_time": "2022-11-03T23:16:10.274848",
     "status": "completed"
    },
    "tags": []
   },
   "source": [
    "## Summary: \n",
    "With Boosting and the improved underlying, decision tree we got rid of the overfitting. Even though we can only predict with a certainty of around 80%, we can do this solid on all test data."
   ]
  },
  {
   "cell_type": "markdown",
   "id": "8b9c1c8a",
   "metadata": {
    "papermill": {
     "duration": 0.015073,
     "end_time": "2022-11-03T23:16:10.319622",
     "exception": false,
     "start_time": "2022-11-03T23:16:10.304549",
     "status": "completed"
    },
    "tags": []
   },
   "source": [
    "<div style=\"padding:20px;color:white;margin:0;font-size:250%;text-align:center;display:fill;border-radius:5px;background-color:#03648a;overflow:hidden;font-weight:800\"> Random Forest</div>"
   ]
  },
  {
   "cell_type": "markdown",
   "id": "49641aa2",
   "metadata": {
    "papermill": {
     "duration": 0.014982,
     "end_time": "2022-11-03T23:16:10.349872",
     "exception": false,
     "start_time": "2022-11-03T23:16:10.334890",
     "status": "completed"
    },
    "tags": []
   },
   "source": [
    "# 5. 8. Random Forest\n",
    "The Random Forest Algorithm is another frequently used ensemble learning classifier which uses multiple decision trees. The Random Forest classifier is basically a modified bagging algorithm of a Decision Tree that selects the subsets differently. I found out that max_depth=9 is a good value for this feature-rich dataset.\n",
    "\n",
    "![](https://miro.medium.com/max/1200/1*hmtbIgxoflflJqMJ_UHwXw.jpeg)\n",
    "\n",
    " A random forest is a meta estimator that fits a number of decision tree classifiers on various sub-samples of the dataset and uses averaging to improve the predictive accuracy and control over-fitting."
   ]
  },
  {
   "cell_type": "markdown",
   "id": "86b104a9",
   "metadata": {
    "papermill": {
     "duration": 0.014932,
     "end_time": "2022-11-03T23:16:10.379901",
     "exception": false,
     "start_time": "2022-11-03T23:16:10.364969",
     "status": "completed"
    },
    "tags": []
   },
   "source": [
    "## Code Example"
   ]
  },
  {
   "cell_type": "code",
   "execution_count": 16,
   "id": "273e7b1b",
   "metadata": {
    "execution": {
     "iopub.execute_input": "2022-11-03T23:16:10.411979Z",
     "iopub.status.busy": "2022-11-03T23:16:10.411579Z",
     "iopub.status.idle": "2022-11-03T23:16:11.087630Z",
     "shell.execute_reply": "2022-11-03T23:16:11.086651Z"
    },
    "papermill": {
     "duration": 0.695178,
     "end_time": "2022-11-03T23:16:11.090179",
     "exception": false,
     "start_time": "2022-11-03T23:16:10.395001",
     "status": "completed"
    },
    "tags": []
   },
   "outputs": [
    {
     "name": "stdout",
     "output_type": "stream",
     "text": [
      "score on test: 0.7895600787918582\n",
      "score on train: 0.7920542847761848\n"
     ]
    }
   ],
   "source": [
    "from sklearn.ensemble import RandomForestClassifier\n",
    "# n_estimators = number of decision trees\n",
    "rf = RandomForestClassifier(n_estimators=30, max_depth=9)\n",
    "rf.fit(x_train, y_train)\n",
    "print(\"score on test: \" + str(rf.score(x_test, y_test)))\n",
    "print(\"score on train: \"+ str(rf.score(x_train, y_train)))"
   ]
  },
  {
   "cell_type": "markdown",
   "id": "cb94d8e7",
   "metadata": {
    "papermill": {
     "duration": 0.015169,
     "end_time": "2022-11-03T23:16:11.121153",
     "exception": false,
     "start_time": "2022-11-03T23:16:11.105984",
     "status": "completed"
    },
    "tags": []
   },
   "source": [
    "## Summary: \n",
    "The Random Forest does not overfit and has a prediction score that is comparable to that of the Boosted Decision Tree but it performs much better as it is more than a magnitude faster (15 times faster)."
   ]
  },
  {
   "cell_type": "markdown",
   "id": "b9507202",
   "metadata": {
    "papermill": {
     "duration": 0.015333,
     "end_time": "2022-11-03T23:16:11.151954",
     "exception": false,
     "start_time": "2022-11-03T23:16:11.136621",
     "status": "completed"
    },
    "tags": []
   },
   "source": [
    "<div style=\"padding:20px;color:white;margin:0;font-size:250%;text-align:center;display:fill;border-radius:5px;background-color:#03648a;overflow:hidden;font-weight:800\">Voting Classifier </div>"
   ]
  },
  {
   "cell_type": "markdown",
   "id": "f30defd0",
   "metadata": {
    "papermill": {
     "duration": 0.01494,
     "end_time": "2022-11-03T23:16:11.182405",
     "exception": false,
     "start_time": "2022-11-03T23:16:11.167465",
     "status": "completed"
    },
    "tags": []
   },
   "source": [
    "# 5.9. Voting Classifier \n",
    "\n",
    "This classifier from the ensemble learning toolbox evaluates different classifiers and selects the best out of it\n",
    "\n",
    "The idea behind the VotingClassifier is to combine conceptually different machine learning classifiers and use a majority vote or the average predicted probabilities to predict the class labels. Such a classifier can be useful for a set of equally well performing models in order to balance out their individual weaknesses.\n",
    "(citation from: https://scikit-learn.org/stable/modules/generated/sklearn.ensemble.VotingClassifier.html)\n",
    "\n",
    "So let’s use this classifier to combine some of the models we had so far and apply the Voting Classifier on\n",
    "\n",
    "- Naive Bayes (84%, 2s)\n",
    "- Logistic Regression (86%, 60s, overfitting)\n",
    "- Random Forest (80%, 20s)\n",
    "- Support Vector Machine (85%, 10s)\n",
    "\n",
    "Be aware that for this code snippet, all used model definitions have to be loaded in the Python kernel.\n",
    "\n",
    "A voting classifier is a machine learning estimator that trains various base models or estimators and predicts on the basis of aggregating the findings of each base estimator. The aggregating criteria can be combined decision of voting for each estimator output.\n",
    "\n",
    "![](https://miro.medium.com/max/1400/1*I7NsQXwyR36XK62s1iDNzQ.png)"
   ]
  },
  {
   "cell_type": "markdown",
   "id": "72174e43",
   "metadata": {
    "papermill": {
     "duration": 0.015406,
     "end_time": "2022-11-03T23:16:11.213582",
     "exception": false,
     "start_time": "2022-11-03T23:16:11.198176",
     "status": "completed"
    },
    "tags": []
   },
   "source": [
    "## Code Example"
   ]
  },
  {
   "cell_type": "code",
   "execution_count": 17,
   "id": "ce53c902",
   "metadata": {
    "execution": {
     "iopub.execute_input": "2022-11-03T23:16:11.246005Z",
     "iopub.status.busy": "2022-11-03T23:16:11.245669Z",
     "iopub.status.idle": "2022-11-03T23:16:13.451477Z",
     "shell.execute_reply": "2022-11-03T23:16:13.450760Z"
    },
    "papermill": {
     "duration": 2.225006,
     "end_time": "2022-11-03T23:16:13.453938",
     "exception": false,
     "start_time": "2022-11-03T23:16:11.228932",
     "status": "completed"
    },
    "tags": []
   },
   "outputs": [
    {
     "name": "stdout",
     "output_type": "stream",
     "text": [
      "score on test: 0.7895600787918582\n",
      "score on train: 0.7905220531903251\n"
     ]
    }
   ],
   "source": [
    "from sklearn.ensemble import VotingClassifier\n",
    "# 1) naive bias = mnb\n",
    "# 2) logistic regression =lr\n",
    "# 3) random forest =rf\n",
    "# 4) support vector machine = svm\n",
    "evc=VotingClassifier(estimators=[('mnb',mnb),('lr',lr),('rf',rf),('svm',svm)],voting='hard')\n",
    "evc.fit(x_train, y_train)\n",
    "print(\"score on test: \" + str(evc.score(x_test, y_test)))\n",
    "print(\"score on train: \"+ str(evc.score(x_train, y_train)))"
   ]
  },
  {
   "cell_type": "markdown",
   "id": "36da3ae9",
   "metadata": {
    "papermill": {
     "duration": 0.026174,
     "end_time": "2022-11-03T23:16:13.503811",
     "exception": false,
     "start_time": "2022-11-03T23:16:13.477637",
     "status": "completed"
    },
    "tags": []
   },
   "source": [
    "## Summary: \n",
    "Even if it is overfitting a bit, it got the best prediction score on the test data so far."
   ]
  },
  {
   "cell_type": "markdown",
   "id": "72b5bc2f",
   "metadata": {
    "papermill": {
     "duration": 0.016158,
     "end_time": "2022-11-03T23:16:13.538347",
     "exception": false,
     "start_time": "2022-11-03T23:16:13.522189",
     "status": "completed"
    },
    "tags": []
   },
   "source": [
    "<div style=\"padding:20px;color:white;margin:0;font-size:300%;text-align:center;display:fill;border-radius:5px;background-color:#06445c;overflow:hidden;font-weight:500\">References</div>"
   ]
  },
  {
   "cell_type": "markdown",
   "id": "1a4ec969",
   "metadata": {
    "papermill": {
     "duration": 0.015695,
     "end_time": "2022-11-03T23:16:13.570162",
     "exception": false,
     "start_time": "2022-11-03T23:16:13.554467",
     "status": "completed"
    },
    "tags": []
   },
   "source": [
    "# 6. References\n",
    "\n",
    " - [4 Types of Classification Tasks in Machine Learning](https://machinelearningmastery.com/types-of-classification-in-machine-learning/#:~:text=In%20machine%20learning%2C%20classification%20refers,one%20of%20the%20known%20characters.)\n",
    " - [Top 10 Binary Classification Algorithms [a Beginner’s Guide]](https://towardsdatascience.com/top-10-binary-classification-algorithms-a-beginners-guide-feeacbd7a3e2)\n",
    " - [Correcting Class Imbalanced Data For Binary Classification Problems](https://analyticsindiamag.com/correcting-class-imbalanced-data-for-binary-classification-problems-demonstrations-using-animated-videos/)\n",
    " - [Naive Bayes Classifiers](https://www.geeksforgeeks.org/naive-bayes-classifiers/)\n",
    " - [ML | Logistic Regression using Python](https://www.geeksforgeeks.org/ml-logistic-regression-using-python/)\n",
    " - [Introduction to Classification Algorithms](https://www.edureka.co/blog/classification-algorithms/)\n",
    " - [Classification Algorithm in Machine Learning](https://www.javatpoint.com/classification-algorithm-in-machine-learning)\n",
    " - [The best machine learning model for binary classification](https://ruslanmv.com/blog/The-best-binary-Machine-Learning-Model)\n",
    " - [7 Types of Classification Algorithms in Machine Learning](projectpro.io/article/7-types-of-classification-algorithms-in-machine-learning/435)\n",
    " - [Binary Classification](https://www.learndatasci.com/glossary/binary-classification/)\n",
    " - [Support Vector Machine — Introduction to Machine Learning Algorithms](https://towardsdatascience.com/support-vector-machine-introduction-to-machine-learning-algorithms-934a444fca47)\n",
    " - [Support Vector Machine Algorithm](https://www.javatpoint.com/machine-learning-support-vector-machine-algorithm)\n",
    " - [Decision Tree Classifier explained in real-life: picking a vacation destination](https://towardsdatascience.com/decision-tree-classifier-explained-in-real-life-picking-a-vacation-destination-6226b2b60575)\n",
    " - [Bagging](https://bradleyboehmke.github.io/HOML/bagging.html)\n",
    " - [Gradient Boosting](https://bradleyboehmke.github.io/HOML/gbm.html)\n",
    " - [Use Voting Classifier to improve the performance of your ML model](https://towardsdatascience.com/use-voting-classifier-to-improve-the-performance-of-your-ml-model-805345f9de0e)\n",
    " - [Model Performance boosting with Voting-Classifier](https://medium.com/analytics-vidhya/performance-boosting-with-voting-classifier-ea69313a367c)"
   ]
  },
  {
   "cell_type": "markdown",
   "id": "eae5e147",
   "metadata": {
    "papermill": {
     "duration": 0.016777,
     "end_time": "2022-11-03T23:16:13.603022",
     "exception": false,
     "start_time": "2022-11-03T23:16:13.586245",
     "status": "completed"
    },
    "tags": []
   },
   "source": [
    "<div style=\"padding:60px;color:white;margin:50px;font-size:500%;text-align:center;display:fill;border-radius:5px;background-color:#06445c;overflow:hidden;font-weight:800\">Upvote, Comment, Share</div>"
   ]
  }
 ],
 "metadata": {
  "kernelspec": {
   "display_name": "Python 3",
   "language": "python",
   "name": "python3"
  },
  "language_info": {
   "codemirror_mode": {
    "name": "ipython",
    "version": 3
   },
   "file_extension": ".py",
   "mimetype": "text/x-python",
   "name": "python",
   "nbconvert_exporter": "python",
   "pygments_lexer": "ipython3",
   "version": "3.7.12"
  },
  "papermill": {
   "default_parameters": {},
   "duration": 24.977717,
   "end_time": "2022-11-03T23:16:14.541452",
   "environment_variables": {},
   "exception": null,
   "input_path": "__notebook__.ipynb",
   "output_path": "__notebook__.ipynb",
   "parameters": {},
   "start_time": "2022-11-03T23:15:49.563735",
   "version": "2.3.4"
  }
 },
 "nbformat": 4,
 "nbformat_minor": 5
}
