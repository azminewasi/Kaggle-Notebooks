{
 "cells": [
  {
   "cell_type": "markdown",
   "id": "e7ef4f19",
   "metadata": {
    "papermill": {
     "duration": 0.005865,
     "end_time": "2022-06-14T15:12:35.951804",
     "exception": false,
     "start_time": "2022-06-14T15:12:35.945939",
     "status": "completed"
    },
    "tags": []
   },
   "source": [
    "Similarly, if you want to see view counts on your Kaggle notebooks - you have to increase the view count by one... *until now!* We can spy on the latest view counts (and other stats) by requesting a listing from the Kaggle API...\n",
    "\n",
    "To use this notebook:\n",
    "\n",
    " 1.   Fork this notebook by clicking on Copy and Edit.\n",
    " 2.   Set the username variable to your own username."
   ]
  },
  {
   "cell_type": "code",
   "execution_count": 1,
   "id": "5d94be2e",
   "metadata": {
    "execution": {
     "iopub.execute_input": "2022-06-14T15:12:35.966672Z",
     "iopub.status.busy": "2022-06-14T15:12:35.966074Z",
     "iopub.status.idle": "2022-06-14T15:12:35.977947Z",
     "shell.execute_reply": "2022-06-14T15:12:35.976650Z"
    },
    "papermill": {
     "duration": 0.019281,
     "end_time": "2022-06-14T15:12:35.979910",
     "exception": false,
     "start_time": "2022-06-14T15:12:35.960629",
     "status": "completed"
    },
    "tags": []
   },
   "outputs": [],
   "source": [
    "username = 'azminetoushikwasi'"
   ]
  },
  {
   "cell_type": "code",
   "execution_count": 2,
   "id": "5c4d09c3",
   "metadata": {
    "_kg_hide-input": true,
    "execution": {
     "iopub.execute_input": "2022-06-14T15:12:35.988965Z",
     "iopub.status.busy": "2022-06-14T15:12:35.988622Z",
     "iopub.status.idle": "2022-06-14T15:12:36.984845Z",
     "shell.execute_reply": "2022-06-14T15:12:36.983868Z"
    },
    "papermill": {
     "duration": 1.003456,
     "end_time": "2022-06-14T15:12:36.987626",
     "exception": false,
     "start_time": "2022-06-14T15:12:35.984170",
     "status": "completed"
    },
    "tags": []
   },
   "outputs": [],
   "source": [
    "from IPython.display import Markdown, display\n",
    "import datetime, requests, json, os, re, sys, time\n",
    "import pandas as pd\n",
    "import numpy as np\n",
    "import seaborn as sns\n",
    "import matplotlib.pyplot as plt\n",
    "import warnings\n",
    "warnings.filterwarnings('ignore')\n",
    "\n",
    "pd.set_option('display.max_rows', 500)\n",
    "\n",
    "session = requests.session()\n",
    "profile = session.get('https://www.kaggle.com/' + username)\n",
    "session.headers['x-xsrf-token'] = session.cookies['XSRF-TOKEN']\n",
    "\n",
    "uid = int(re.findall('Kaggle\\.State\\.push\\({.*?\"userId\":(\\d+),', profile.text)[0])\n",
    "count = int(re.findall('\"scriptsSummary\":{.*?\"totalResults\":(\\d+),', profile.text)[0])\n",
    "pages = int(np.ceil(count / 20))"
   ]
  },
  {
   "cell_type": "code",
   "execution_count": 3,
   "id": "642c6299",
   "metadata": {
    "_kg_hide-input": true,
    "execution": {
     "iopub.execute_input": "2022-06-14T15:12:37.000031Z",
     "iopub.status.busy": "2022-06-14T15:12:36.999689Z",
     "iopub.status.idle": "2022-06-14T15:12:37.005103Z",
     "shell.execute_reply": "2022-06-14T15:12:37.004325Z"
    },
    "papermill": {
     "duration": 0.013327,
     "end_time": "2022-06-14T15:12:37.006746",
     "exception": false,
     "start_time": "2022-06-14T15:12:36.993419",
     "status": "completed"
    },
    "tags": []
   },
   "outputs": [],
   "source": [
    "url = 'https://www.kaggle.com/api/i/kernels.KernelsService/ListKernels'\n",
    "request = {\n",
    "    'kernelFilterCriteria': {\n",
    "        'search': '',\n",
    "        'listRequest': {\n",
    "            'userId': 0,\n",
    "            'sortBy': 'DATE_RUN',\n",
    "            'pageSize': 20,\n",
    "            'group': 'PROFILE',\n",
    "            'page': 1,\n",
    "            'tagIds': '',\n",
    "            'excludeResultsFilesOutputs': False,\n",
    "            'wantOutputFiles': False\n",
    "        }\n",
    "    },\n",
    "    'detailFilterCriteria': {\n",
    "        'deletedAccessBehavior': 'RETURN_NOTHING',\n",
    "        'unauthorizedAccessBehavior': 'RETURN_NOTHING',\n",
    "        'excludeResultsFilesOutputs': False,\n",
    "        'wantOutputFiles': False,\n",
    "        'kernelIds': [],\n",
    "        'outputFileTypes': []\n",
    "    }\n",
    "}"
   ]
  },
  {
   "cell_type": "code",
   "execution_count": 4,
   "id": "45d80ce2",
   "metadata": {
    "_kg_hide-input": true,
    "execution": {
     "iopub.execute_input": "2022-06-14T15:12:37.015290Z",
     "iopub.status.busy": "2022-06-14T15:12:37.014804Z",
     "iopub.status.idle": "2022-06-14T15:12:37.640827Z",
     "shell.execute_reply": "2022-06-14T15:12:37.639856Z"
    },
    "papermill": {
     "duration": 0.632143,
     "end_time": "2022-06-14T15:12:37.642466",
     "exception": false,
     "start_time": "2022-06-14T15:12:37.010323",
     "status": "completed"
    },
    "tags": []
   },
   "outputs": [
    {
     "data": {
      "text/markdown": [
       "\n",
       " - Notebook count: 10\n",
       " - Total views: 7,681\n",
       " - Total comments: 154\n",
       " - Total medals: 10\n",
       " - Total votes: 344\n",
       " - Mean views per vote: 22\n"
      ],
      "text/plain": [
       "<IPython.core.display.Markdown object>"
      ]
     },
     "metadata": {},
     "output_type": "display_data"
    }
   ],
   "source": [
    "request['kernelFilterCriteria']['listRequest']['userId'] = uid\n",
    "\n",
    "dfs = []\n",
    "for page in range(1, pages + 1):\n",
    "    request['kernelFilterCriteria']['listRequest']['page'] = page\n",
    "    data = json.dumps(request, separators=(',', ':'))\n",
    "    res = session.post(url, data=data)\n",
    "    #print(page, res.status_code, len(res.text))\n",
    "    if res.status_code != 200:\n",
    "        break\n",
    "    df = pd.DataFrame(json.loads(res.text)['kernels'])\n",
    "    dfs.append(df)\n",
    "\n",
    "def split_columns(df, col):\n",
    "    values = df.pop(col)\n",
    "    return df.join(values.apply(pd.Series).add_prefix(col + \"_\"))\n",
    "\n",
    "df = pd.concat(dfs, ignore_index=True)\n",
    "df = split_columns(df, 'author')\n",
    "df = split_columns(df, 'dataSources')\n",
    "df = split_columns(df, 'categories')\n",
    "\n",
    "filename = f'{username}-{datetime.datetime.now().strftime(\"%Y-%m-%d\")}.csv'\n",
    "df.to_csv(filename, index=False)\n",
    "\n",
    "display(Markdown(f\"\"\"\n",
    " - Notebook count: {df.shape[0]:,.0f}\n",
    " - Total views: {df.totalViews.sum():,.0f}\n",
    " - Total comments: {df.totalComments.sum():,.0f}\n",
    " - Total medals: {df.medal.count():,.0f}\n",
    " - Total votes: {df.totalVotes.sum():,.0f}\n",
    " - Mean views per vote: {df.totalViews.sum() / df.totalVotes.sum():,.0f}\n",
    "\"\"\"))"
   ]
  },
  {
   "cell_type": "code",
   "execution_count": 5,
   "id": "ce8a180d",
   "metadata": {
    "_kg_hide-input": true,
    "execution": {
     "iopub.execute_input": "2022-06-14T15:12:37.652123Z",
     "iopub.status.busy": "2022-06-14T15:12:37.651042Z",
     "iopub.status.idle": "2022-06-14T15:12:37.750087Z",
     "shell.execute_reply": "2022-06-14T15:12:37.749233Z"
    },
    "papermill": {
     "duration": 0.106462,
     "end_time": "2022-06-14T15:12:37.752733",
     "exception": false,
     "start_time": "2022-06-14T15:12:37.646271",
     "status": "completed"
    },
    "tags": []
   },
   "outputs": [
    {
     "data": {
      "text/markdown": [
       "# Notebooks by Azmine Toushik Wasi"
      ],
      "text/plain": [
       "<IPython.core.display.Markdown object>"
      ]
     },
     "metadata": {},
     "output_type": "display_data"
    },
    {
     "data": {
      "text/html": [
       "<style type=\"text/css\">\n",
       "#T_7da7b_row0_col1 {\n",
       "  width: 10em;\n",
       "  height: 80%;\n",
       "  background: linear-gradient(90deg,#4cf 35.3%, transparent 35.3%);\n",
       "}\n",
       "#T_7da7b_row0_col2, #T_7da7b_row5_col3, #T_7da7b_row7_col1, #T_7da7b_row7_col4 {\n",
       "  width: 10em;\n",
       "  height: 80%;\n",
       "  background: linear-gradient(90deg,#4cf 50.0%, transparent 50.0%);\n",
       "}\n",
       "#T_7da7b_row0_col3 {\n",
       "  width: 10em;\n",
       "  height: 80%;\n",
       "  background: linear-gradient(90deg,#4cf 14.5%, transparent 14.5%);\n",
       "}\n",
       "#T_7da7b_row0_col4 {\n",
       "  width: 10em;\n",
       "  height: 80%;\n",
       "  background: linear-gradient(90deg,#4cf 15.2%, transparent 15.2%);\n",
       "}\n",
       "#T_7da7b_row1_col1 {\n",
       "  width: 10em;\n",
       "  height: 80%;\n",
       "  background: linear-gradient(90deg,#4cf 8.2%, transparent 8.2%);\n",
       "}\n",
       "#T_7da7b_row1_col2 {\n",
       "  width: 10em;\n",
       "  height: 80%;\n",
       "  background: linear-gradient(90deg,#4cf 20.9%, transparent 20.9%);\n",
       "}\n",
       "#T_7da7b_row1_col3 {\n",
       "  width: 10em;\n",
       "  height: 80%;\n",
       "  background: linear-gradient(90deg,#4cf 12.6%, transparent 12.6%);\n",
       "}\n",
       "#T_7da7b_row1_col4, #T_7da7b_row3_col1 {\n",
       "  width: 10em;\n",
       "  height: 80%;\n",
       "  background: linear-gradient(90deg,#4cf 2.2%, transparent 2.2%);\n",
       "}\n",
       "#T_7da7b_row2_col1 {\n",
       "  width: 10em;\n",
       "  height: 80%;\n",
       "  background: linear-gradient(90deg,#4cf 2.3%, transparent 2.3%);\n",
       "}\n",
       "#T_7da7b_row2_col2, #T_7da7b_row2_col4, #T_7da7b_row6_col3, #T_7da7b_row8_col1 {\n",
       "  width: 10em;\n",
       "  height: 80%;\n",
       "}\n",
       "#T_7da7b_row2_col3 {\n",
       "  width: 10em;\n",
       "  height: 80%;\n",
       "  background: linear-gradient(90deg,#4cf 41.1%, transparent 41.1%);\n",
       "}\n",
       "#T_7da7b_row3_col2 {\n",
       "  width: 10em;\n",
       "  height: 80%;\n",
       "  background: linear-gradient(90deg,#4cf 16.3%, transparent 16.3%);\n",
       "}\n",
       "#T_7da7b_row3_col3 {\n",
       "  width: 10em;\n",
       "  height: 80%;\n",
       "  background: linear-gradient(90deg,#4cf 34.0%, transparent 34.0%);\n",
       "}\n",
       "#T_7da7b_row3_col4 {\n",
       "  width: 10em;\n",
       "  height: 80%;\n",
       "  background: linear-gradient(90deg,#4cf 10.9%, transparent 10.9%);\n",
       "}\n",
       "#T_7da7b_row4_col1 {\n",
       "  width: 10em;\n",
       "  height: 80%;\n",
       "  background: linear-gradient(90deg,#4cf 9.6%, transparent 9.6%);\n",
       "}\n",
       "#T_7da7b_row4_col2 {\n",
       "  width: 10em;\n",
       "  height: 80%;\n",
       "  background: linear-gradient(90deg,#4cf 22.1%, transparent 22.1%);\n",
       "}\n",
       "#T_7da7b_row4_col3 {\n",
       "  width: 10em;\n",
       "  height: 80%;\n",
       "  background: linear-gradient(90deg,#4cf 14.1%, transparent 14.1%);\n",
       "}\n",
       "#T_7da7b_row4_col4 {\n",
       "  width: 10em;\n",
       "  height: 80%;\n",
       "  background: linear-gradient(90deg,#4cf 19.6%, transparent 19.6%);\n",
       "}\n",
       "#T_7da7b_row5_col1 {\n",
       "  width: 10em;\n",
       "  height: 80%;\n",
       "  background: linear-gradient(90deg,#4cf 2.6%, transparent 2.6%);\n",
       "}\n",
       "#T_7da7b_row5_col2 {\n",
       "  width: 10em;\n",
       "  height: 80%;\n",
       "  background: linear-gradient(90deg,#4cf 11.6%, transparent 11.6%);\n",
       "}\n",
       "#T_7da7b_row5_col4 {\n",
       "  width: 10em;\n",
       "  height: 80%;\n",
       "  background: linear-gradient(90deg,#4cf 21.7%, transparent 21.7%);\n",
       "}\n",
       "#T_7da7b_row6_col1 {\n",
       "  width: 10em;\n",
       "  height: 80%;\n",
       "  background: linear-gradient(90deg,#4cf 28.4%, transparent 28.4%);\n",
       "}\n",
       "#T_7da7b_row6_col2 {\n",
       "  width: 10em;\n",
       "  height: 80%;\n",
       "  background: linear-gradient(90deg,#4cf 31.4%, transparent 31.4%);\n",
       "}\n",
       "#T_7da7b_row6_col4 {\n",
       "  width: 10em;\n",
       "  height: 80%;\n",
       "  background: linear-gradient(90deg,#4cf 28.3%, transparent 28.3%);\n",
       "}\n",
       "#T_7da7b_row7_col2 {\n",
       "  width: 10em;\n",
       "  height: 80%;\n",
       "  background: linear-gradient(90deg,#4cf 25.6%, transparent 25.6%);\n",
       "}\n",
       "#T_7da7b_row7_col3 {\n",
       "  width: 10em;\n",
       "  height: 80%;\n",
       "  background: linear-gradient(90deg,#4cf 2.1%, transparent 2.1%);\n",
       "}\n",
       "#T_7da7b_row8_col2 {\n",
       "  width: 10em;\n",
       "  height: 80%;\n",
       "  background: linear-gradient(90deg,#4cf 10.5%, transparent 10.5%);\n",
       "}\n",
       "#T_7da7b_row8_col3 {\n",
       "  width: 10em;\n",
       "  height: 80%;\n",
       "  background: linear-gradient(90deg,#4cf 3.0%, transparent 3.0%);\n",
       "}\n",
       "#T_7da7b_row8_col4, #T_7da7b_row9_col4 {\n",
       "  width: 10em;\n",
       "  height: 80%;\n",
       "  background: linear-gradient(90deg,#4cf 17.4%, transparent 17.4%);\n",
       "}\n",
       "#T_7da7b_row9_col1 {\n",
       "  width: 10em;\n",
       "  height: 80%;\n",
       "  background: linear-gradient(90deg,#4cf 8.1%, transparent 8.1%);\n",
       "}\n",
       "#T_7da7b_row9_col2 {\n",
       "  width: 10em;\n",
       "  height: 80%;\n",
       "  background: linear-gradient(90deg,#4cf 14.0%, transparent 14.0%);\n",
       "}\n",
       "#T_7da7b_row9_col3 {\n",
       "  width: 10em;\n",
       "  height: 80%;\n",
       "  background: linear-gradient(90deg,#4cf 30.0%, transparent 30.0%);\n",
       "}\n",
       "</style>\n",
       "<table id=\"T_7da7b_\">\n",
       "  <thead>\n",
       "    <tr>\n",
       "      <th class=\"col_heading level0 col0\" >title</th>\n",
       "      <th class=\"col_heading level0 col1\" >totalViews</th>\n",
       "      <th class=\"col_heading level0 col2\" >totalVotes</th>\n",
       "      <th class=\"col_heading level0 col3\" >totalLines</th>\n",
       "      <th class=\"col_heading level0 col4\" >totalComments</th>\n",
       "    </tr>\n",
       "  </thead>\n",
       "  <tbody>\n",
       "    <tr>\n",
       "      <td id=\"T_7da7b_row0_col0\" class=\"data row0 col0\" ><a href=\"https://www.kaggle.com/code/azminetoushikwasi/intro-to-imputation-different-techniques\"  title=\"Language: Python\n",
       "Medal: SILVER\n",
       "Last run: Tue Jun 14 09:44:41 2022\n",
       "Runtime: 88s\n",
       "Views per vote: 20\">➡️ Intro to Imputation 🔍 Different Techniques</a></td>\n",
       "      <td id=\"T_7da7b_row0_col1\" class=\"data row0 col1\" >1,232</td>\n",
       "      <td id=\"T_7da7b_row0_col2\" class=\"data row0 col2\" >60</td>\n",
       "      <td id=\"T_7da7b_row0_col3\" class=\"data row0 col3\" >357</td>\n",
       "      <td id=\"T_7da7b_row0_col4\" class=\"data row0 col4\" >14</td>\n",
       "    </tr>\n",
       "    <tr>\n",
       "      <td id=\"T_7da7b_row1_col0\" class=\"data row1 col0\" ><a href=\"https://www.kaggle.com/code/azminetoushikwasi/07-cross-validation-methods-tutorial\"  title=\"Language: Python\n",
       "Medal: SILVER\n",
       "Last run: Tue Jun 14 09:41:59 2022\n",
       "Runtime: 68s\n",
       "Views per vote: 17\">✅ 07 Cross Validation Methods ➡️ Tutorial 📊</a></td>\n",
       "      <td id=\"T_7da7b_row1_col1\" class=\"data row1 col1\" >622</td>\n",
       "      <td id=\"T_7da7b_row1_col2\" class=\"data row1 col2\" >35</td>\n",
       "      <td id=\"T_7da7b_row1_col3\" class=\"data row1 col3\" >344</td>\n",
       "      <td id=\"T_7da7b_row1_col4\" class=\"data row1 col4\" >8</td>\n",
       "    </tr>\n",
       "    <tr>\n",
       "      <td id=\"T_7da7b_row2_col0\" class=\"data row2 col0\" ><a href=\"https://www.kaggle.com/code/azminetoushikwasi/ucl-eda-viz-2021-22-players-teams\"  title=\"Language: Python\n",
       "Medal: BRONZE\n",
       "Last run: Sat Jun 11 17:01:43 2022\n",
       "Runtime: 50s\n",
       "Views per vote: 27\">UCL ⚽ EDA & Viz ⭐ 2021-22 ⭐ Players & Teams</a></td>\n",
       "      <td id=\"T_7da7b_row2_col1\" class=\"data row2 col1\" >490</td>\n",
       "      <td id=\"T_7da7b_row2_col2\" class=\"data row2 col2\" >17</td>\n",
       "      <td id=\"T_7da7b_row2_col3\" class=\"data row2 col3\" >536</td>\n",
       "      <td id=\"T_7da7b_row2_col4\" class=\"data row2 col4\" >7</td>\n",
       "    </tr>\n",
       "    <tr>\n",
       "      <td id=\"T_7da7b_row3_col0\" class=\"data row3 col0\" ><a href=\"https://www.kaggle.com/code/azminetoushikwasi/divorce-xgboost-pca-analysis-with-shap-tsne\"  title=\"Language: Python\n",
       "Medal: SILVER\n",
       "Last run: Wed Jun  8 10:16:51 2022\n",
       "Runtime: 110s\n",
       "Views per vote: 15\">Divorce 💥 XGBoost 📊 PCA Analysis with SHAP,TSNE</a></td>\n",
       "      <td id=\"T_7da7b_row3_col1\" class=\"data row3 col1\" >488</td>\n",
       "      <td id=\"T_7da7b_row3_col2\" class=\"data row3 col2\" >31</td>\n",
       "      <td id=\"T_7da7b_row3_col3\" class=\"data row3 col3\" >488</td>\n",
       "      <td id=\"T_7da7b_row3_col4\" class=\"data row3 col4\" >12</td>\n",
       "    </tr>\n",
       "    <tr>\n",
       "      <td id=\"T_7da7b_row4_col0\" class=\"data row4 col0\" ><a href=\"https://www.kaggle.com/code/azminetoushikwasi/feature-engineering-tutorial-housing-data\"  title=\"Language: Python\n",
       "Medal: SILVER\n",
       "Last run: Mon Jun  6 09:14:09 2022\n",
       "Runtime: 97s\n",
       "Views per vote: 18\">🛠 Feature Engineering ➡️ Tutorial  ⚙ Housing Data</a></td>\n",
       "      <td id=\"T_7da7b_row4_col1\" class=\"data row4 col1\" >655</td>\n",
       "      <td id=\"T_7da7b_row4_col2\" class=\"data row4 col2\" >36</td>\n",
       "      <td id=\"T_7da7b_row4_col3\" class=\"data row4 col3\" >354</td>\n",
       "      <td id=\"T_7da7b_row4_col4\" class=\"data row4 col4\" >16</td>\n",
       "    </tr>\n",
       "    <tr>\n",
       "      <td id=\"T_7da7b_row5_col0\" class=\"data row5 col0\" ><a href=\"https://www.kaggle.com/code/azminetoushikwasi/bias-variance-tradeoff-with-numpy-seaborn\"  title=\"Language: Python\n",
       "Medal: SILVER\n",
       "Last run: Wed Jun  1 19:00:46 2022\n",
       "Runtime: 47s\n",
       "Views per vote: 18\">📋 Bias-Variance Tradeoff ➡️ with NumPy & Seaborn</a></td>\n",
       "      <td id=\"T_7da7b_row5_col1\" class=\"data row5 col1\" >497</td>\n",
       "      <td id=\"T_7da7b_row5_col2\" class=\"data row5 col2\" >27</td>\n",
       "      <td id=\"T_7da7b_row5_col3\" class=\"data row5 col3\" >596</td>\n",
       "      <td id=\"T_7da7b_row5_col4\" class=\"data row5 col4\" >17</td>\n",
       "    </tr>\n",
       "    <tr>\n",
       "      <td id=\"T_7da7b_row6_col0\" class=\"data row6 col0\" ><a href=\"https://www.kaggle.com/code/azminetoushikwasi/lionel-messi-extended-eda-goals\"  title=\"Language: Python\n",
       "Medal: SILVER\n",
       "Last run: Wed Jun  1 04:28:42 2022\n",
       "Runtime: 51s\n",
       "Views per vote: 24\">▶️ Lionel Messi 📊 Extended EDA ⚽ Goals </a></td>\n",
       "      <td id=\"T_7da7b_row6_col1\" class=\"data row6 col1\" >1,076</td>\n",
       "      <td id=\"T_7da7b_row6_col2\" class=\"data row6 col2\" >44</td>\n",
       "      <td id=\"T_7da7b_row6_col3\" class=\"data row6 col3\" >259</td>\n",
       "      <td id=\"T_7da7b_row6_col4\" class=\"data row6 col4\" >20</td>\n",
       "    </tr>\n",
       "    <tr>\n",
       "      <td id=\"T_7da7b_row7_col0\" class=\"data row7 col0\" ><a href=\"https://www.kaggle.com/code/azminetoushikwasi/cristiano-ronaldo-extended-eda-goals\"  title=\"Language: Python\n",
       "Medal: SILVER\n",
       "Last run: Tue May 31 07:51:02 2022\n",
       "Runtime: 74s\n",
       "Views per vote: 39\">▶️ Cristiano Ronaldo 📊 Extended EDA ⚽ Goals </a></td>\n",
       "      <td id=\"T_7da7b_row7_col1\" class=\"data row7 col1\" >1,563</td>\n",
       "      <td id=\"T_7da7b_row7_col2\" class=\"data row7 col2\" >39</td>\n",
       "      <td id=\"T_7da7b_row7_col3\" class=\"data row7 col3\" >273</td>\n",
       "      <td id=\"T_7da7b_row7_col4\" class=\"data row7 col4\" >30</td>\n",
       "    </tr>\n",
       "    <tr>\n",
       "      <td id=\"T_7da7b_row8_col0\" class=\"data row8 col0\" ><a href=\"https://www.kaggle.com/code/azminetoushikwasi/coursera-eda-fe-analysis-insights\"  title=\"Language: Python\n",
       "Medal: SILVER\n",
       "Last run: Sun May 29 07:50:50 2022\n",
       "Runtime: 40s\n",
       "Views per vote: 16\"> 📘 Coursera 📉 EDA, FE 📈 Analysis + Insights 📊</a></td>\n",
       "      <td id=\"T_7da7b_row8_col1\" class=\"data row8 col1\" >438</td>\n",
       "      <td id=\"T_7da7b_row8_col2\" class=\"data row8 col2\" >26</td>\n",
       "      <td id=\"T_7da7b_row8_col3\" class=\"data row8 col3\" >279</td>\n",
       "      <td id=\"T_7da7b_row8_col4\" class=\"data row8 col4\" >15</td>\n",
       "    </tr>\n",
       "    <tr>\n",
       "      <td id=\"T_7da7b_row9_col0\" class=\"data row9 col0\" ><a href=\"https://www.kaggle.com/code/azminetoushikwasi/export-processing-zones-eda-statistical-analysis\"  title=\"Language: Python\n",
       "Medal: SILVER\n",
       "Last run: Fri May 27 02:34:12 2022\n",
       "Runtime: 79s\n",
       "Views per vote: 21\">Export Processing Zones - EDA+Statistical Analysis</a></td>\n",
       "      <td id=\"T_7da7b_row9_col1\" class=\"data row9 col1\" >620</td>\n",
       "      <td id=\"T_7da7b_row9_col2\" class=\"data row9 col2\" >29</td>\n",
       "      <td id=\"T_7da7b_row9_col3\" class=\"data row9 col3\" >461</td>\n",
       "      <td id=\"T_7da7b_row9_col4\" class=\"data row9 col4\" >15</td>\n",
       "    </tr>\n",
       "  </tbody>\n",
       "</table>\n"
      ],
      "text/plain": [
       "<pandas.io.formats.style.Styler at 0x7f1cdc069550>"
      ]
     },
     "execution_count": 5,
     "metadata": {},
     "output_type": "execute_result"
    }
   ],
   "source": [
    "display(Markdown(f'# Notebooks by {df.author_displayName.get(0)}'))\n",
    "df['viewsPerVote'] = df.eval('(totalViews+1)/(totalVotes+1)')\n",
    "df['lastRun'] = pd.to_datetime(df.lastRunTime).dt.strftime('%c')\n",
    "stats = ['totalViews', 'totalVotes', 'totalLines', 'totalComments']\n",
    "links = ('<a href=\"https://www.kaggle.com' + df.scriptUrl + '\" '\n",
    "         + ' title=\"'\n",
    "         + 'Language: ' + df.languageName.fillna('N/A') + '\\n'\n",
    "         + 'Medal: ' + df.medal.fillna('N/A') + '\\n'\n",
    "         + 'Last run: ' + df.lastRun + '\\n'\n",
    "         + 'Runtime: ' + df.lastRunExecutionTimeSeconds.map(str) + 's' + '\\n'\n",
    "         + 'Views per vote: ' + df.eval('(totalViews+1)/(totalVotes+1)').apply(lambda x: f'{x:,.0f}')\n",
    "         + '\">' # end title=\"...\"\n",
    "         + df.title\n",
    "         + '</a>')\n",
    "show = df[['title'] + stats].copy()\n",
    "show['title'] = links\n",
    "show.style.format({k:'{:,.0f}' for k in stats}, na_rep=\"\").hide_index().bar(width=50, color='#4cf')"
   ]
  },
  {
   "cell_type": "markdown",
   "id": "aa0aa8af",
   "metadata": {
    "papermill": {
     "duration": 0.006114,
     "end_time": "2022-06-14T15:12:37.765672",
     "exception": false,
     "start_time": "2022-06-14T15:12:37.759558",
     "status": "completed"
    },
    "tags": []
   },
   "source": [
    "# Plotly Scatter Plot\n",
    "\n",
    "You may want to tweak these settings depending on how many notebooks you have...\n"
   ]
  },
  {
   "cell_type": "code",
   "execution_count": 6,
   "id": "f3e9f348",
   "metadata": {
    "_kg_hide-input": true,
    "execution": {
     "iopub.execute_input": "2022-06-14T15:12:37.780684Z",
     "iopub.status.busy": "2022-06-14T15:12:37.779323Z",
     "iopub.status.idle": "2022-06-14T15:12:40.672332Z",
     "shell.execute_reply": "2022-06-14T15:12:40.671466Z"
    },
    "papermill": {
     "duration": 2.902524,
     "end_time": "2022-06-14T15:12:40.674495",
     "exception": false,
     "start_time": "2022-06-14T15:12:37.771971",
     "status": "completed"
    },
    "tags": []
   },
   "outputs": [
    {
     "data": {
      "text/html": [
       "        <script type=\"text/javascript\">\n",
       "        window.PlotlyConfig = {MathJaxConfig: 'local'};\n",
       "        if (window.MathJax && window.MathJax.Hub && window.MathJax.Hub.Config) {window.MathJax.Hub.Config({SVG: {font: \"STIX-Web\"}});}\n",
       "        if (typeof require !== 'undefined') {\n",
       "        require.undef(\"plotly\");\n",
       "        requirejs.config({\n",
       "            paths: {\n",
       "                'plotly': ['https://cdn.plot.ly/plotly-2.12.1.min']\n",
       "            }\n",
       "        });\n",
       "        require(['plotly'], function(Plotly) {\n",
       "            window._Plotly = Plotly;\n",
       "        });\n",
       "        }\n",
       "        </script>\n",
       "        "
      ]
     },
     "metadata": {},
     "output_type": "display_data"
    },
    {
     "data": {
      "text/html": [
       "<div>                            <div id=\"a5805b87-92d6-4267-802e-5901d470cce9\" class=\"plotly-graph-div\" style=\"height:525px; width:100%;\"></div>            <script type=\"text/javascript\">                require([\"plotly\"], function(Plotly) {                    window.PLOTLYENV=window.PLOTLYENV || {};                                    if (document.getElementById(\"a5805b87-92d6-4267-802e-5901d470cce9\")) {                    Plotly.newPlot(                        \"a5805b87-92d6-4267-802e-5901d470cce9\",                        [{\"customdata\":[[14,357,14,20.21311475409836,\"Python\",6,\"Tue Jun 14 09:44:41 2022\",88,\"SILVER\"],[8,344,8,17.305555555555557,\"Python\",7,\"Tue Jun 14 09:41:59 2022\",68,\"SILVER\"],[12,488,12,15.28125,\"Python\",13,\"Wed Jun  8 10:16:51 2022\",110,\"SILVER\"],[16,354,16,17.72972972972973,\"Python\",6,\"Mon Jun  6 09:14:09 2022\",97,\"SILVER\"],[17,596,17,17.785714285714285,\"Python\",9,\"Wed Jun  1 19:00:46 2022\",47,\"SILVER\"],[20,259,20,23.933333333333334,\"Python\",7,\"Wed Jun  1 04:28:42 2022\",51,\"SILVER\"],[30,273,30,39.1,\"Python\",9,\"Tue May 31 07:51:02 2022\",74,\"SILVER\"],[15,279,15,16.25925925925926,\"Python\",16,\"Sun May 29 07:50:50 2022\",40,\"SILVER\"],[15,461,15,20.7,\"Python\",14,\"Fri May 27 02:34:12 2022\",79,\"SILVER\"]],\"hovertemplate\":\"<b>%{hovertext}</b><br><br>medal=%{customdata[8]}<br>totalViews=%{x:,.0f}<br>totalVotes=%{y:,.0f}<br>totalLines=%{customdata[1]:,.0f}<br>totalComments=%{customdata[2]:,.0f}<br>viewsPerVote=%{customdata[3]:,.0f}<br>languageName=%{customdata[4]}<br>versionNumber=%{customdata[5]}<br>lastRun=%{customdata[6]}<br>lastRunExecutionTimeSeconds=%{customdata[7]:,.0f}<extra></extra>\",\"hovertext\":[\"➡️ Intro to Imputation 🔍 Different Techniques\",\"✅ 07 Cross Validation Methods ➡️ Tutorial 📊\",\"Divorce 💥 XGBoost 📊 PCA Analysis with SHAP,TSNE\",\"🛠 Feature Engineering ➡️ Tutorial  ⚙ Housing Data\",\"📋 Bias-Variance Tradeoff ➡️ with NumPy & Seaborn\",\"▶️ Lionel Messi 📊 Extended EDA ⚽ Goals \",\"▶️ Cristiano Ronaldo 📊 Extended EDA ⚽ Goals \",\" 📘 Coursera 📉 EDA, FE 📈 Analysis + Insights 📊\",\"Export Processing Zones - EDA+Statistical Analysis\"],\"legendgroup\":\"SILVER\",\"marker\":{\"color\":\"silver\",\"size\":[14,8,12,16,17,20,30,15,15],\"sizemode\":\"area\",\"sizeref\":0.075,\"symbol\":\"circle\"},\"mode\":\"markers\",\"name\":\"SILVER\",\"orientation\":\"v\",\"showlegend\":true,\"x\":[1232,622,488,655,497,1076,1563,438,620],\"xaxis\":\"x\",\"y\":[60,35,31,36,27,44,39,26,29],\"yaxis\":\"y\",\"type\":\"scatter\"},{\"hovertemplate\":\"<b>OLS trendline</b><br>log10(totalVotes) = 0.540155 * log10(totalViews)<br>R<sup>2</sup>=0.998301<br><br>medal=SILVER<br>totalViews=%{x:,.0f}<br>totalVotes=%{y:,.0f} <b>(trend)</b><extra></extra>\",\"legendgroup\":\"SILVER\",\"marker\":{\"color\":\"silver\",\"symbol\":\"circle\"},\"mode\":\"lines\",\"name\":\"SILVER\",\"showlegend\":false,\"x\":[438,488,497,620,622,655,1076,1232,1563],\"xaxis\":\"x\",\"y\":[26.718043025339057,28.324522122882463,28.605501443700206,32.23468895322361,32.29081419455509,33.20518949212217,43.41578275458045,46.709787015766985,53.11680455313628],\"yaxis\":\"y\",\"type\":\"scatter\"},{\"customdata\":[[7,536,7,27.27777777777778,\"Python\",9,\"Sat Jun 11 17:01:43 2022\",50,\"BRONZE\"]],\"hovertemplate\":\"<b>%{hovertext}</b><br><br>medal=%{customdata[8]}<br>totalViews=%{x:,.0f}<br>totalVotes=%{y:,.0f}<br>totalLines=%{customdata[1]:,.0f}<br>totalComments=%{customdata[2]:,.0f}<br>viewsPerVote=%{customdata[3]:,.0f}<br>languageName=%{customdata[4]}<br>versionNumber=%{customdata[5]}<br>lastRun=%{customdata[6]}<br>lastRunExecutionTimeSeconds=%{customdata[7]:,.0f}<extra></extra>\",\"hovertext\":[\"UCL ⚽ EDA & Viz ⭐ 2021-22 ⭐ Players & Teams\"],\"legendgroup\":\"BRONZE\",\"marker\":{\"color\":\"chocolate\",\"size\":[7],\"sizemode\":\"area\",\"sizeref\":0.075,\"symbol\":\"circle\"},\"mode\":\"markers\",\"name\":\"BRONZE\",\"orientation\":\"v\",\"showlegend\":true,\"x\":[490],\"xaxis\":\"x\",\"y\":[17],\"yaxis\":\"y\",\"type\":\"scatter\"},{\"hovertemplate\":\"medal=BRONZE<extra></extra>\",\"legendgroup\":\"BRONZE\",\"marker\":{\"color\":\"chocolate\",\"symbol\":\"circle\"},\"mode\":\"lines\",\"name\":\"BRONZE\",\"showlegend\":false,\"xaxis\":\"x\",\"yaxis\":\"y\",\"type\":\"scatter\"}],                        {\"template\":{\"data\":{\"histogram2dcontour\":[{\"type\":\"histogram2dcontour\",\"colorbar\":{\"outlinewidth\":0,\"ticks\":\"\"},\"colorscale\":[[0.0,\"#0d0887\"],[0.1111111111111111,\"#46039f\"],[0.2222222222222222,\"#7201a8\"],[0.3333333333333333,\"#9c179e\"],[0.4444444444444444,\"#bd3786\"],[0.5555555555555556,\"#d8576b\"],[0.6666666666666666,\"#ed7953\"],[0.7777777777777778,\"#fb9f3a\"],[0.8888888888888888,\"#fdca26\"],[1.0,\"#f0f921\"]]}],\"choropleth\":[{\"type\":\"choropleth\",\"colorbar\":{\"outlinewidth\":0,\"ticks\":\"\"}}],\"histogram2d\":[{\"type\":\"histogram2d\",\"colorbar\":{\"outlinewidth\":0,\"ticks\":\"\"},\"colorscale\":[[0.0,\"#0d0887\"],[0.1111111111111111,\"#46039f\"],[0.2222222222222222,\"#7201a8\"],[0.3333333333333333,\"#9c179e\"],[0.4444444444444444,\"#bd3786\"],[0.5555555555555556,\"#d8576b\"],[0.6666666666666666,\"#ed7953\"],[0.7777777777777778,\"#fb9f3a\"],[0.8888888888888888,\"#fdca26\"],[1.0,\"#f0f921\"]]}],\"heatmap\":[{\"type\":\"heatmap\",\"colorbar\":{\"outlinewidth\":0,\"ticks\":\"\"},\"colorscale\":[[0.0,\"#0d0887\"],[0.1111111111111111,\"#46039f\"],[0.2222222222222222,\"#7201a8\"],[0.3333333333333333,\"#9c179e\"],[0.4444444444444444,\"#bd3786\"],[0.5555555555555556,\"#d8576b\"],[0.6666666666666666,\"#ed7953\"],[0.7777777777777778,\"#fb9f3a\"],[0.8888888888888888,\"#fdca26\"],[1.0,\"#f0f921\"]]}],\"heatmapgl\":[{\"type\":\"heatmapgl\",\"colorbar\":{\"outlinewidth\":0,\"ticks\":\"\"},\"colorscale\":[[0.0,\"#0d0887\"],[0.1111111111111111,\"#46039f\"],[0.2222222222222222,\"#7201a8\"],[0.3333333333333333,\"#9c179e\"],[0.4444444444444444,\"#bd3786\"],[0.5555555555555556,\"#d8576b\"],[0.6666666666666666,\"#ed7953\"],[0.7777777777777778,\"#fb9f3a\"],[0.8888888888888888,\"#fdca26\"],[1.0,\"#f0f921\"]]}],\"contourcarpet\":[{\"type\":\"contourcarpet\",\"colorbar\":{\"outlinewidth\":0,\"ticks\":\"\"}}],\"contour\":[{\"type\":\"contour\",\"colorbar\":{\"outlinewidth\":0,\"ticks\":\"\"},\"colorscale\":[[0.0,\"#0d0887\"],[0.1111111111111111,\"#46039f\"],[0.2222222222222222,\"#7201a8\"],[0.3333333333333333,\"#9c179e\"],[0.4444444444444444,\"#bd3786\"],[0.5555555555555556,\"#d8576b\"],[0.6666666666666666,\"#ed7953\"],[0.7777777777777778,\"#fb9f3a\"],[0.8888888888888888,\"#fdca26\"],[1.0,\"#f0f921\"]]}],\"surface\":[{\"type\":\"surface\",\"colorbar\":{\"outlinewidth\":0,\"ticks\":\"\"},\"colorscale\":[[0.0,\"#0d0887\"],[0.1111111111111111,\"#46039f\"],[0.2222222222222222,\"#7201a8\"],[0.3333333333333333,\"#9c179e\"],[0.4444444444444444,\"#bd3786\"],[0.5555555555555556,\"#d8576b\"],[0.6666666666666666,\"#ed7953\"],[0.7777777777777778,\"#fb9f3a\"],[0.8888888888888888,\"#fdca26\"],[1.0,\"#f0f921\"]]}],\"mesh3d\":[{\"type\":\"mesh3d\",\"colorbar\":{\"outlinewidth\":0,\"ticks\":\"\"}}],\"scatter\":[{\"fillpattern\":{\"fillmode\":\"overlay\",\"size\":10,\"solidity\":0.2},\"type\":\"scatter\"}],\"parcoords\":[{\"type\":\"parcoords\",\"line\":{\"colorbar\":{\"outlinewidth\":0,\"ticks\":\"\"}}}],\"scatterpolargl\":[{\"type\":\"scatterpolargl\",\"marker\":{\"colorbar\":{\"outlinewidth\":0,\"ticks\":\"\"}}}],\"bar\":[{\"error_x\":{\"color\":\"#2a3f5f\"},\"error_y\":{\"color\":\"#2a3f5f\"},\"marker\":{\"line\":{\"color\":\"#E5ECF6\",\"width\":0.5},\"pattern\":{\"fillmode\":\"overlay\",\"size\":10,\"solidity\":0.2}},\"type\":\"bar\"}],\"scattergeo\":[{\"type\":\"scattergeo\",\"marker\":{\"colorbar\":{\"outlinewidth\":0,\"ticks\":\"\"}}}],\"scatterpolar\":[{\"type\":\"scatterpolar\",\"marker\":{\"colorbar\":{\"outlinewidth\":0,\"ticks\":\"\"}}}],\"histogram\":[{\"marker\":{\"pattern\":{\"fillmode\":\"overlay\",\"size\":10,\"solidity\":0.2}},\"type\":\"histogram\"}],\"scattergl\":[{\"type\":\"scattergl\",\"marker\":{\"colorbar\":{\"outlinewidth\":0,\"ticks\":\"\"}}}],\"scatter3d\":[{\"type\":\"scatter3d\",\"line\":{\"colorbar\":{\"outlinewidth\":0,\"ticks\":\"\"}},\"marker\":{\"colorbar\":{\"outlinewidth\":0,\"ticks\":\"\"}}}],\"scattermapbox\":[{\"type\":\"scattermapbox\",\"marker\":{\"colorbar\":{\"outlinewidth\":0,\"ticks\":\"\"}}}],\"scatterternary\":[{\"type\":\"scatterternary\",\"marker\":{\"colorbar\":{\"outlinewidth\":0,\"ticks\":\"\"}}}],\"scattercarpet\":[{\"type\":\"scattercarpet\",\"marker\":{\"colorbar\":{\"outlinewidth\":0,\"ticks\":\"\"}}}],\"carpet\":[{\"aaxis\":{\"endlinecolor\":\"#2a3f5f\",\"gridcolor\":\"white\",\"linecolor\":\"white\",\"minorgridcolor\":\"white\",\"startlinecolor\":\"#2a3f5f\"},\"baxis\":{\"endlinecolor\":\"#2a3f5f\",\"gridcolor\":\"white\",\"linecolor\":\"white\",\"minorgridcolor\":\"white\",\"startlinecolor\":\"#2a3f5f\"},\"type\":\"carpet\"}],\"table\":[{\"cells\":{\"fill\":{\"color\":\"#EBF0F8\"},\"line\":{\"color\":\"white\"}},\"header\":{\"fill\":{\"color\":\"#C8D4E3\"},\"line\":{\"color\":\"white\"}},\"type\":\"table\"}],\"barpolar\":[{\"marker\":{\"line\":{\"color\":\"#E5ECF6\",\"width\":0.5},\"pattern\":{\"fillmode\":\"overlay\",\"size\":10,\"solidity\":0.2}},\"type\":\"barpolar\"}],\"pie\":[{\"automargin\":true,\"type\":\"pie\"}]},\"layout\":{\"autotypenumbers\":\"strict\",\"colorway\":[\"#636efa\",\"#EF553B\",\"#00cc96\",\"#ab63fa\",\"#FFA15A\",\"#19d3f3\",\"#FF6692\",\"#B6E880\",\"#FF97FF\",\"#FECB52\"],\"font\":{\"color\":\"#2a3f5f\"},\"hovermode\":\"closest\",\"hoverlabel\":{\"align\":\"left\"},\"paper_bgcolor\":\"white\",\"plot_bgcolor\":\"#E5ECF6\",\"polar\":{\"bgcolor\":\"#E5ECF6\",\"angularaxis\":{\"gridcolor\":\"white\",\"linecolor\":\"white\",\"ticks\":\"\"},\"radialaxis\":{\"gridcolor\":\"white\",\"linecolor\":\"white\",\"ticks\":\"\"}},\"ternary\":{\"bgcolor\":\"#E5ECF6\",\"aaxis\":{\"gridcolor\":\"white\",\"linecolor\":\"white\",\"ticks\":\"\"},\"baxis\":{\"gridcolor\":\"white\",\"linecolor\":\"white\",\"ticks\":\"\"},\"caxis\":{\"gridcolor\":\"white\",\"linecolor\":\"white\",\"ticks\":\"\"}},\"coloraxis\":{\"colorbar\":{\"outlinewidth\":0,\"ticks\":\"\"}},\"colorscale\":{\"sequential\":[[0.0,\"#0d0887\"],[0.1111111111111111,\"#46039f\"],[0.2222222222222222,\"#7201a8\"],[0.3333333333333333,\"#9c179e\"],[0.4444444444444444,\"#bd3786\"],[0.5555555555555556,\"#d8576b\"],[0.6666666666666666,\"#ed7953\"],[0.7777777777777778,\"#fb9f3a\"],[0.8888888888888888,\"#fdca26\"],[1.0,\"#f0f921\"]],\"sequentialminus\":[[0.0,\"#0d0887\"],[0.1111111111111111,\"#46039f\"],[0.2222222222222222,\"#7201a8\"],[0.3333333333333333,\"#9c179e\"],[0.4444444444444444,\"#bd3786\"],[0.5555555555555556,\"#d8576b\"],[0.6666666666666666,\"#ed7953\"],[0.7777777777777778,\"#fb9f3a\"],[0.8888888888888888,\"#fdca26\"],[1.0,\"#f0f921\"]],\"diverging\":[[0,\"#8e0152\"],[0.1,\"#c51b7d\"],[0.2,\"#de77ae\"],[0.3,\"#f1b6da\"],[0.4,\"#fde0ef\"],[0.5,\"#f7f7f7\"],[0.6,\"#e6f5d0\"],[0.7,\"#b8e186\"],[0.8,\"#7fbc41\"],[0.9,\"#4d9221\"],[1,\"#276419\"]]},\"xaxis\":{\"gridcolor\":\"white\",\"linecolor\":\"white\",\"ticks\":\"\",\"title\":{\"standoff\":15},\"zerolinecolor\":\"white\",\"automargin\":true,\"zerolinewidth\":2},\"yaxis\":{\"gridcolor\":\"white\",\"linecolor\":\"white\",\"ticks\":\"\",\"title\":{\"standoff\":15},\"zerolinecolor\":\"white\",\"automargin\":true,\"zerolinewidth\":2},\"scene\":{\"xaxis\":{\"backgroundcolor\":\"#E5ECF6\",\"gridcolor\":\"white\",\"linecolor\":\"white\",\"showbackground\":true,\"ticks\":\"\",\"zerolinecolor\":\"white\",\"gridwidth\":2},\"yaxis\":{\"backgroundcolor\":\"#E5ECF6\",\"gridcolor\":\"white\",\"linecolor\":\"white\",\"showbackground\":true,\"ticks\":\"\",\"zerolinecolor\":\"white\",\"gridwidth\":2},\"zaxis\":{\"backgroundcolor\":\"#E5ECF6\",\"gridcolor\":\"white\",\"linecolor\":\"white\",\"showbackground\":true,\"ticks\":\"\",\"zerolinecolor\":\"white\",\"gridwidth\":2}},\"shapedefaults\":{\"line\":{\"color\":\"#2a3f5f\"}},\"annotationdefaults\":{\"arrowcolor\":\"#2a3f5f\",\"arrowhead\":0,\"arrowwidth\":1},\"geo\":{\"bgcolor\":\"white\",\"landcolor\":\"#E5ECF6\",\"subunitcolor\":\"white\",\"showland\":true,\"showlakes\":true,\"lakecolor\":\"white\"},\"title\":{\"x\":0.05},\"mapbox\":{\"style\":\"light\"}}},\"xaxis\":{\"anchor\":\"y\",\"domain\":[0.0,1.0],\"title\":{\"text\":\"totalViews\"},\"type\":\"log\"},\"yaxis\":{\"anchor\":\"x\",\"domain\":[0.0,1.0],\"title\":{\"text\":\"totalVotes\"},\"type\":\"log\"},\"legend\":{\"title\":{\"text\":\"medal\"},\"tracegroupgap\":0,\"itemsizing\":\"constant\"},\"title\":{\"text\":\"Notebooks by Azmine Toushik Wasi\"}},                        {\"responsive\": true}                    ).then(function(){\n",
       "                            \n",
       "var gd = document.getElementById('a5805b87-92d6-4267-802e-5901d470cce9');\n",
       "var x = new MutationObserver(function (mutations, observer) {{\n",
       "        var display = window.getComputedStyle(gd).display;\n",
       "        if (!display || display === 'none') {{\n",
       "            console.log([gd, 'removed!']);\n",
       "            Plotly.purge(gd);\n",
       "            observer.disconnect();\n",
       "        }}\n",
       "}});\n",
       "\n",
       "// Listen for the removal of the full notebook cells\n",
       "var notebookContainer = gd.closest('#notebook-container');\n",
       "if (notebookContainer) {{\n",
       "    x.observe(notebookContainer, {childList: true});\n",
       "}}\n",
       "\n",
       "// Listen for the clearing of the current output cell\n",
       "var outputEl = gd.closest('.output');\n",
       "if (outputEl) {{\n",
       "    x.observe(outputEl, {childList: true});\n",
       "}}\n",
       "\n",
       "                        })                };                });            </script>        </div>"
      ]
     },
     "metadata": {},
     "output_type": "display_data"
    }
   ],
   "source": [
    "import plotly.express as px\n",
    "\n",
    "df['totalComments'].fillna(0, inplace=True)\n",
    "df['medal'].fillna('N/A', inplace=True)\n",
    "df['size'] = df['totalComments'].clip(lower=1)\n",
    "color_map = {\n",
    "    'GOLD': 'gold',\n",
    "    'SILVER': 'silver',\n",
    "    'BRONZE': 'chocolate',\n",
    "    'N/A': '#333'\n",
    "}\n",
    "px.scatter(\n",
    "    df,\n",
    "    'totalViews',\n",
    "    'totalVotes',\n",
    "    title=f'Notebooks by {df.author_displayName.get(0)}',\n",
    "    log_x=True,\n",
    "    log_y=True,\n",
    "    color='medal',\n",
    "    color_discrete_map=color_map,\n",
    "    size='size',\n",
    "    trendline='ols',\n",
    "    trendline_options=dict(log_x=True, log_y=True, add_constant=False),\n",
    "    #trendline='lowess', # Use for Locally Weighted Scatterplot Smoothing line\n",
    "    #trendline_scope='overall', # Use this for one trendline\n",
    "    hover_name='title',\n",
    "    hover_data={\n",
    "        'size': False,\n",
    "        'totalViews': ':,.0f',\n",
    "        'totalVotes': ':,.0f',\n",
    "        'totalLines': ':,.0f',\n",
    "        'totalComments': ':,.0f',\n",
    "        'viewsPerVote': ':,.0f',\n",
    "        'languageName': True,\n",
    "        'versionNumber': True,\n",
    "        'lastRun': True,\n",
    "        'lastRunExecutionTimeSeconds': ':,.0f',\n",
    "        'medal': True,\n",
    "    })"
   ]
  },
  {
   "cell_type": "markdown",
   "id": "5bec5259",
   "metadata": {
    "papermill": {
     "duration": 0.006625,
     "end_time": "2022-06-14T15:12:40.688463",
     "exception": false,
     "start_time": "2022-06-14T15:12:40.681838",
     "status": "completed"
    },
    "tags": []
   },
   "source": [
    "# Analysis"
   ]
  },
  {
   "cell_type": "code",
   "execution_count": 7,
   "id": "d9b469b3",
   "metadata": {
    "execution": {
     "iopub.execute_input": "2022-06-14T15:12:40.704990Z",
     "iopub.status.busy": "2022-06-14T15:12:40.704427Z",
     "iopub.status.idle": "2022-06-14T15:12:40.708984Z",
     "shell.execute_reply": "2022-06-14T15:12:40.708251Z"
    },
    "papermill": {
     "duration": 0.015034,
     "end_time": "2022-06-14T15:12:40.710536",
     "exception": false,
     "start_time": "2022-06-14T15:12:40.695502",
     "status": "completed"
    },
    "tags": []
   },
   "outputs": [],
   "source": [
    "links=[]\n",
    "for dirname, _, filenames in os.walk('/kaggle/working'):\n",
    "    for filename in filenames:\n",
    "        link=os.path.join(dirname, filename)\n",
    "        links.append(link)"
   ]
  },
  {
   "cell_type": "code",
   "execution_count": 8,
   "id": "50c732fc",
   "metadata": {
    "execution": {
     "iopub.execute_input": "2022-06-14T15:12:40.721151Z",
     "iopub.status.busy": "2022-06-14T15:12:40.720693Z",
     "iopub.status.idle": "2022-06-14T15:12:40.743336Z",
     "shell.execute_reply": "2022-06-14T15:12:40.742547Z"
    },
    "papermill": {
     "duration": 0.029734,
     "end_time": "2022-06-14T15:12:40.745069",
     "exception": false,
     "start_time": "2022-06-14T15:12:40.715335",
     "status": "completed"
    },
    "tags": []
   },
   "outputs": [
    {
     "data": {
      "text/html": [
       "<div>\n",
       "<style scoped>\n",
       "    .dataframe tbody tr th:only-of-type {\n",
       "        vertical-align: middle;\n",
       "    }\n",
       "\n",
       "    .dataframe tbody tr th {\n",
       "        vertical-align: top;\n",
       "    }\n",
       "\n",
       "    .dataframe thead th {\n",
       "        text-align: right;\n",
       "    }\n",
       "</style>\n",
       "<table border=\"1\" class=\"dataframe\">\n",
       "  <thead>\n",
       "    <tr style=\"text-align: right;\">\n",
       "      <th></th>\n",
       "      <th>title</th>\n",
       "      <th>2022-06-14</th>\n",
       "    </tr>\n",
       "  </thead>\n",
       "  <tbody>\n",
       "    <tr>\n",
       "      <th>0</th>\n",
       "      <td>➡️ Intro to Imputation 🔍 Different Techniques</td>\n",
       "      <td>60</td>\n",
       "    </tr>\n",
       "    <tr>\n",
       "      <th>1</th>\n",
       "      <td>✅ 07 Cross Validation Methods ➡️ Tutorial 📊</td>\n",
       "      <td>35</td>\n",
       "    </tr>\n",
       "    <tr>\n",
       "      <th>2</th>\n",
       "      <td>UCL ⚽ EDA &amp; Viz ⭐ 2021-22 ⭐ Players &amp; Teams</td>\n",
       "      <td>17</td>\n",
       "    </tr>\n",
       "    <tr>\n",
       "      <th>3</th>\n",
       "      <td>Divorce 💥 XGBoost 📊 PCA Analysis with SHAP,TSNE</td>\n",
       "      <td>31</td>\n",
       "    </tr>\n",
       "    <tr>\n",
       "      <th>4</th>\n",
       "      <td>🛠 Feature Engineering ➡️ Tutorial  ⚙ Housing Data</td>\n",
       "      <td>36</td>\n",
       "    </tr>\n",
       "    <tr>\n",
       "      <th>5</th>\n",
       "      <td>📋 Bias-Variance Tradeoff ➡️ with NumPy &amp; Seaborn</td>\n",
       "      <td>27</td>\n",
       "    </tr>\n",
       "    <tr>\n",
       "      <th>6</th>\n",
       "      <td>▶️ Lionel Messi 📊 Extended EDA ⚽ Goals</td>\n",
       "      <td>44</td>\n",
       "    </tr>\n",
       "    <tr>\n",
       "      <th>7</th>\n",
       "      <td>▶️ Cristiano Ronaldo 📊 Extended EDA ⚽ Goals</td>\n",
       "      <td>39</td>\n",
       "    </tr>\n",
       "    <tr>\n",
       "      <th>8</th>\n",
       "      <td>📘 Coursera 📉 EDA, FE 📈 Analysis + Insights 📊</td>\n",
       "      <td>26</td>\n",
       "    </tr>\n",
       "    <tr>\n",
       "      <th>9</th>\n",
       "      <td>Export Processing Zones - EDA+Statistical Anal...</td>\n",
       "      <td>29</td>\n",
       "    </tr>\n",
       "  </tbody>\n",
       "</table>\n",
       "</div>"
      ],
      "text/plain": [
       "                                               title  2022-06-14\n",
       "0      ➡️ Intro to Imputation 🔍 Different Techniques          60\n",
       "1        ✅ 07 Cross Validation Methods ➡️ Tutorial 📊          35\n",
       "2        UCL ⚽ EDA & Viz ⭐ 2021-22 ⭐ Players & Teams          17\n",
       "3    Divorce 💥 XGBoost 📊 PCA Analysis with SHAP,TSNE          31\n",
       "4  🛠 Feature Engineering ➡️ Tutorial  ⚙ Housing Data          36\n",
       "5   📋 Bias-Variance Tradeoff ➡️ with NumPy & Seaborn          27\n",
       "6            ▶️ Lionel Messi 📊 Extended EDA ⚽ Goals           44\n",
       "7       ▶️ Cristiano Ronaldo 📊 Extended EDA ⚽ Goals           39\n",
       "8       📘 Coursera 📉 EDA, FE 📈 Analysis + Insights 📊          26\n",
       "9  Export Processing Zones - EDA+Statistical Anal...          29"
      ]
     },
     "execution_count": 8,
     "metadata": {},
     "output_type": "execute_result"
    }
   ],
   "source": [
    "dfx=pd.DataFrame()\n",
    "date_list=[]\n",
    "for link in links:\n",
    "    if link.split(\".\")[len(links[0].split(\".\"))-1]!=\"csv\":\n",
    "        continue\n",
    "    date=link[34:44]\n",
    "    date_list.append(date)\n",
    "    temp_df=pd.read_csv(link)\n",
    "    if 'title' not in dfx.columns:\n",
    "        dfx['title']=temp_df['title']\n",
    "    dfx[date]=temp_df['totalVotes']\n",
    "dfx"
   ]
  },
  {
   "cell_type": "code",
   "execution_count": 9,
   "id": "30f21430",
   "metadata": {
    "execution": {
     "iopub.execute_input": "2022-06-14T15:12:40.755949Z",
     "iopub.status.busy": "2022-06-14T15:12:40.755606Z",
     "iopub.status.idle": "2022-06-14T15:12:40.770900Z",
     "shell.execute_reply": "2022-06-14T15:12:40.769575Z"
    },
    "papermill": {
     "duration": 0.023012,
     "end_time": "2022-06-14T15:12:40.772961",
     "exception": false,
     "start_time": "2022-06-14T15:12:40.749949",
     "status": "completed"
    },
    "tags": []
   },
   "outputs": [],
   "source": [
    "dfx=pd.DataFrame()\n",
    "date_list=[]\n",
    "titles_dft=[]\n",
    "date_dft=[]\n",
    "count_dft=[]\n",
    "\n",
    "gTotalUpvotes=[]\n",
    "gTotalViews=[]\n",
    "gTotalComments=[]\n",
    "\n",
    "\n",
    "for link in links:\n",
    "    if link.split(\".\")[len(links[0].split(\".\"))-1]!=\"csv\":\n",
    "        continue\n",
    "        \n",
    "    date=link[34:44]\n",
    "    date_list.append(date)\n",
    "    temp_df=pd.read_csv(link)\n",
    "    \n",
    "    gTotalUpvotes.append(temp_df.totalVotes.sum())\n",
    "    gTotalViews.append(temp_df.totalViews.sum())\n",
    "    gTotalComments.append(temp_df.totalComments.sum())\n",
    "    \n",
    "    temp_titles=list(temp_df.title)\n",
    "    temp_totalVotes=list(temp_df.totalVotes)\n",
    "    \n",
    "    for name in temp_titles:\n",
    "        titles_dft.append(name)\n",
    "        date_dft.append(date)\n",
    "        count_dft.append(temp_totalVotes[temp_titles.index(name)])\n",
    "\n",
    "\n",
    "df_d={\"title\":titles_dft, \"date\":date_dft, \"count\":count_dft}\n",
    "df_d=pd.DataFrame(df_d)\n"
   ]
  },
  {
   "cell_type": "code",
   "execution_count": 10,
   "id": "41728a11",
   "metadata": {
    "execution": {
     "iopub.execute_input": "2022-06-14T15:12:40.784206Z",
     "iopub.status.busy": "2022-06-14T15:12:40.783843Z",
     "iopub.status.idle": "2022-06-14T15:12:41.810984Z",
     "shell.execute_reply": "2022-06-14T15:12:41.810173Z"
    },
    "papermill": {
     "duration": 1.035592,
     "end_time": "2022-06-14T15:12:41.813531",
     "exception": false,
     "start_time": "2022-06-14T15:12:40.777939",
     "status": "completed"
    },
    "tags": []
   },
   "outputs": [
    {
     "data": {
      "image/png": "[encoded data removed]",
      "text/plain": [
       "<Figure size 1800x720 with 10 Axes>"
      ]
     },
     "metadata": {},
     "output_type": "display_data"
    }
   ],
   "source": [
    "w=5\n",
    "import math\n",
    "h=math.ceil(len(list(df_d.title.unique()))/w)\n",
    "\n",
    "sns.set(rc={'figure.figsize':(25,h*5)})\n",
    "for i, column in enumerate(list(df_d.title.unique()), 1):\n",
    "\n",
    "    plt.subplot(h,w,i)\n",
    "    plt.subplots_adjust(left=0.2,\n",
    "                    bottom=0.4, \n",
    "                    right=0.9, \n",
    "                    top=0.9, \n",
    "                    wspace=0.6, \n",
    "                    hspace=0.6)\n",
    "    tdx=df_d[df_d['title']==column]\n",
    "    p=sns.barplot(x='date',data=tdx,y='count',palette='Wistia')\n",
    "    p.axes.set_title(\"\\n\"+str(column)+\"\\n\",fontsize=10);\n",
    "    for container in p.containers:\n",
    "        p.bar_label(container,label_type='edge',padding=-20)\n",
    "    p=sns.lineplot(x='date',data=tdx,y='count',color='red')"
   ]
  },
  {
   "cell_type": "code",
   "execution_count": 11,
   "id": "a3cb9527",
   "metadata": {
    "execution": {
     "iopub.execute_input": "2022-06-14T15:12:41.831183Z",
     "iopub.status.busy": "2022-06-14T15:12:41.830809Z",
     "iopub.status.idle": "2022-06-14T15:12:42.157654Z",
     "shell.execute_reply": "2022-06-14T15:12:42.156936Z"
    },
    "papermill": {
     "duration": 0.337278,
     "end_time": "2022-06-14T15:12:42.159202",
     "exception": false,
     "start_time": "2022-06-14T15:12:41.821924",
     "status": "completed"
    },
    "tags": []
   },
   "outputs": [
    {
     "data": {
      "image/png": "[encoded data removed]",
      "text/plain": [
       "<Figure size 1800x576 with 3 Axes>"
      ]
     },
     "metadata": {},
     "output_type": "display_data"
    }
   ],
   "source": [
    "df_g={\"date\":date_list, \"views\":gTotalViews, \"upvotes\":gTotalUpvotes, \"comments\":gTotalComments}\n",
    "df_g=pd.DataFrame(df_g)\n",
    "\n",
    "sns.set(rc={'figure.figsize':(25,8)})\n",
    "for i, column in enumerate([\"views\",\"upvotes\",\"comments\"], 1):\n",
    "    plt.subplot(1,3,i)\n",
    "    plt.subplots_adjust(left=0.2,\n",
    "                    bottom=0.4, \n",
    "                    right=0.9, \n",
    "                    top=0.9, \n",
    "                    wspace=0.6, \n",
    "                    hspace=0.6)\n",
    "    p=sns.lineplot(x='date',data=df_g,y=column,palette='Wistia')"
   ]
  }
 ],
 "metadata": {
  "kernelspec": {
   "display_name": "Python 3",
   "language": "python",
   "name": "python3"
  },
  "language_info": {
   "codemirror_mode": {
    "name": "ipython",
    "version": 3
   },
   "file_extension": ".py",
   "mimetype": "text/x-python",
   "name": "python",
   "nbconvert_exporter": "python",
   "pygments_lexer": "ipython3",
   "version": "3.7.12"
  },
  "papermill": {
   "default_parameters": {},
   "duration": 14.7814,
   "end_time": "2022-06-14T15:12:43.087993",
   "environment_variables": {},
   "exception": null,
   "input_path": "__notebook__.ipynb",
   "output_path": "__notebook__.ipynb",
   "parameters": {},
   "start_time": "2022-06-14T15:12:28.306593",
   "version": "2.3.4"
  }
 },
 "nbformat": 4,
 "nbformat_minor": 5
}
