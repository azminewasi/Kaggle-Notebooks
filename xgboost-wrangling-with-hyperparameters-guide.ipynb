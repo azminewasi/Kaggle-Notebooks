{
 "cells": [
  {
   "cell_type": "markdown",
   "id": "76790fbc",
   "metadata": {
    "papermill": {
     "duration": 0.017554,
     "end_time": "2022-08-18T14:53:13.788359",
     "exception": false,
     "start_time": "2022-08-18T14:53:13.770805",
     "status": "completed"
    },
    "tags": []
   },
   "source": [
    "<div style=\"padding:20px;color:white;margin:0;font-size:300%;text-align:center;display:fill;border-radius:5px;background-color:#4f4e4e;overflow:hidden;font-weight:500\">Extreme Gradient Boosting (XGBoost) </br> Wrangling with Hyperparameters</div>"
   ]
  },
  {
   "cell_type": "markdown",
   "id": "0a091357",
   "metadata": {
    "papermill": {
     "duration": 0.01346,
     "end_time": "2022-08-18T14:53:13.815585",
     "exception": false,
     "start_time": "2022-08-18T14:53:13.802125",
     "status": "completed"
    },
    "tags": []
   },
   "source": [
    "<div style=\"padding:20px;color:black;margin:0;font-size:200%;text-align:center;display:fill;border-radius:5px;background-color:#d9d9d9;overflow:hidden;font-weight:500\">Extreme Gradient Boosting (XGBoost)</div>"
   ]
  },
  {
   "cell_type": "markdown",
   "id": "83a0109c",
   "metadata": {
    "papermill": {
     "duration": 0.013747,
     "end_time": "2022-08-18T14:53:13.843569",
     "exception": false,
     "start_time": "2022-08-18T14:53:13.829822",
     "status": "completed"
    },
    "tags": []
   },
   "source": [
    "# 1. Extreme Gradient Boosting (XGBoost)"
   ]
  },
  {
   "cell_type": "markdown",
   "id": "63cd67be",
   "metadata": {
    "papermill": {
     "duration": 0.013509,
     "end_time": "2022-08-18T14:53:13.870983",
     "exception": false,
     "start_time": "2022-08-18T14:53:13.857474",
     "status": "completed"
    },
    "tags": []
   },
   "source": [
    "XGBoost is an open-source software library which provides a regularizing gradient boosting framework for C++, Java, Python, R, Julia, Perl, and Scala. It works on Linux, Windows, and macOS. From the project description, it aims to provide a \"Scalable, Portable and Distributed Gradient Boosting Library\".\n",
    "\n",
    "Extreme Gradient Boosting Algorithm. Gradient boosting refers to **a class of ensemble machine learning algorithms that can be used for classification or regression predictive modeling problems**. **Ensembles are constructed from decision tree models**.\n",
    "\n",
    "**XGBoost is a more regularized form of Gradient Boosting**. XGBoost uses advanced regularization (L1 & L2), which improves model generalization capabilities. XGBoost delivers high performance as compared to Gradient Boosting. Its training is very fast and can be parallelized across clusters.\n",
    "\n",
    "Extreme Gradient Boosting (xgboost) is similar to gradient boosting framework but more efficient. It has both linear model solver and tree learning algorithms. So, what makes it fast is its capacity to do parallel computation on a single machine."
   ]
  },
  {
   "cell_type": "markdown",
   "id": "27f0aab8",
   "metadata": {
    "papermill": {
     "duration": 0.013552,
     "end_time": "2022-08-18T14:53:13.898179",
     "exception": false,
     "start_time": "2022-08-18T14:53:13.884627",
     "status": "completed"
    },
    "tags": []
   },
   "source": [
    "<div align=\"center\">\n",
    "  <img src=\"https://cdn.educba.com/academy/wp-content/uploads/2019/06/XGBoost-Algorithm1.jpg\" />\n",
    "</div>\n",
    "\n",
    "*educba*"
   ]
  },
  {
   "cell_type": "markdown",
   "id": "4f88a6b2",
   "metadata": {
    "papermill": {
     "duration": 0.013443,
     "end_time": "2022-08-18T14:53:13.925764",
     "exception": false,
     "start_time": "2022-08-18T14:53:13.912321",
     "status": "completed"
    },
    "tags": []
   },
   "source": [
    "<div style=\"padding:20px;color:black;margin:0;font-size:200%;text-align:center;display:fill;border-radius:5px;background-color:#d9d9d9;overflow:hidden;font-weight:500\"> Introduction to Hyperparameters</div>"
   ]
  },
  {
   "cell_type": "markdown",
   "id": "eb9300dd",
   "metadata": {
    "papermill": {
     "duration": 0.013447,
     "end_time": "2022-08-18T14:53:13.953499",
     "exception": false,
     "start_time": "2022-08-18T14:53:13.940052",
     "status": "completed"
    },
    "tags": []
   },
   "source": [
    "# 2. Hyperparameters"
   ]
  },
  {
   "cell_type": "markdown",
   "id": "b68b44db",
   "metadata": {
    "papermill": {
     "duration": 0.013746,
     "end_time": "2022-08-18T14:53:13.981216",
     "exception": false,
     "start_time": "2022-08-18T14:53:13.967470",
     "status": "completed"
    },
    "tags": []
   },
   "source": [
    "### What is meant by hyperparameter tuning?\n",
    "In machine learning, **hyperparameter optimization or tuning is the problem of choosing a set of optimal hyperparameters for a learning algorithm**. A hyperparameter is a parameter whose value is used to control the learning process. By contrast, the values of other parameters (typically node weights) are learned. The hyper-parameter tuning process is a tightrope walk to achieve a balance between underfitting and overfitting. Underfitting is when the machine learning model is unable to reduce the error for either the test or training set.\n",
    "\n",
    "### What is hyperparameter tuning example?\n",
    "Some examples of model hyperparameters include: The penalty in Logistic Regression Classifier i.e. L1 or L2 regularization. The learning rate for training a neural network. The C and sigma hyperparameters for support vector machines.\n",
    "\n",
    "### Why do we use hyperparameter tuning?\n",
    "Hyperparameter tuning is an essential part of controlling the behavior of a machine learning model. If we don't correctly tune our hyperparameters, our estimated model parameters produce suboptimal results, as they don't minimize the loss function. This means our model makes more errors."
   ]
  },
  {
   "cell_type": "markdown",
   "id": "a0a7d4fe",
   "metadata": {
    "papermill": {
     "duration": 0.013656,
     "end_time": "2022-08-18T14:53:14.008315",
     "exception": false,
     "start_time": "2022-08-18T14:53:13.994659",
     "status": "completed"
    },
    "tags": []
   },
   "source": [
    "<div align=\"center\">\n",
    "  <img src=\"https://blog.eduonix.com/wp-content/uploads/2018/06/Hyperparameter.jpg\" />\n",
    "</div>\n",
    "\n",
    "*eduonix*"
   ]
  },
  {
   "cell_type": "markdown",
   "id": "fcd36995",
   "metadata": {
    "papermill": {
     "duration": 0.014193,
     "end_time": "2022-08-18T14:53:14.036656",
     "exception": false,
     "start_time": "2022-08-18T14:53:14.022463",
     "status": "completed"
    },
    "tags": []
   },
   "source": [
    "<div style=\"padding:20px;color:black;margin:0;font-size:200%;text-align:center;display:fill;border-radius:5px;background-color:#d9d9d9;overflow:hidden;font-weight:500\"> XGBoost Parameters - Classification</div>"
   ]
  },
  {
   "cell_type": "markdown",
   "id": "0e85e233",
   "metadata": {
    "papermill": {
     "duration": 0.013245,
     "end_time": "2022-08-18T14:53:14.064372",
     "exception": false,
     "start_time": "2022-08-18T14:53:14.051127",
     "status": "completed"
    },
    "tags": []
   },
   "source": [
    "# 3. XGBoost Parameters - Classification"
   ]
  },
  {
   "cell_type": "markdown",
   "id": "a4cf2717",
   "metadata": {
    "papermill": {
     "duration": 0.013575,
     "end_time": "2022-08-18T14:53:14.091429",
     "exception": false,
     "start_time": "2022-08-18T14:53:14.077854",
     "status": "completed"
    },
    "tags": []
   },
   "source": [
    "<div style=\"padding:10px;color:black;margin:0;font-size:150%;text-align:center;display:fill;border-radius:5px;background-color:#f5f2f2;overflow:hidden;font-weight:500\"><b>XGBoost Boosters</b></div></br>\n",
    "\n",
    "#### -> gbtree :\n",
    " - **gbtree** for **tree-based models**;  \n",
    " \n",
    "#### -> gblinear :\n",
    " - **gblinear** for **linear models** to run at each iteration.\n",
    "\n",
    "#### -> dart :\n",
    " - **dart** is also a tree based model. \n",
    " - XGBoost mostly combines a huge number of regression trees with a small learning rate. In this situation, trees added early are significant and trees added late are unimportant. *Vinayak and Gilad-Bachrach* proposed a new method to add dropout techniques from the deep neural net community to boosted trees, and reported better results in some situations - it s called dart. It drops trees in order to solve the over-fitting. Trivial trees (to correct trivial errors) may be prevented. Because of the randomness introduced in the training, expect the following few differences: Training can be slower than gbtree because the random dropout prevents usage of the prediction buffer. The early stop might not be stable, due to the randomness."
   ]
  },
  {
   "cell_type": "markdown",
   "id": "444be6c7",
   "metadata": {
    "papermill": {
     "duration": 0.013283,
     "end_time": "2022-08-18T14:53:14.118709",
     "exception": false,
     "start_time": "2022-08-18T14:53:14.105426",
     "status": "completed"
    },
    "tags": []
   },
   "source": [
    "<div style=\"padding:10px;color:black;margin:0;font-size:150%;text-align:center;display:fill;border-radius:5px;background-color:#f5f2f2;overflow:hidden;font-weight:500\"><b>General parameters</b></div></br>\n",
    "It relates to which booster we are using to do boosting, commonly tree or linear model\n",
    "\n",
    "#### 1. booster [default=gbtree]\n",
    " - **gbtree** for **tree-based models**;  **gblinear** for **linear models** to run at each iteration.\n",
    " \n",
    "#### 2. silent [default=0]:\n",
    " - **To activate Silent silent mode, set it to 1,meaning off; so, no messages will be printed.**\n",
    "\n",
    "It’s generally a good idea, to keep it 0 as the messages might help in understanding the model; and how the metrics are going.\n",
    "\n",
    "#### 3. nthread [default to maximum number of threads available if not set]\n",
    "This is used for parallel processing and number of cores in the system should be entered\n",
    "If you wish to run on all cores, value should not be entered and algorithm will detect automatically\n"
   ]
  },
  {
   "cell_type": "markdown",
   "id": "a51481f2",
   "metadata": {
    "papermill": {
     "duration": 0.013499,
     "end_time": "2022-08-18T14:53:14.145708",
     "exception": false,
     "start_time": "2022-08-18T14:53:14.132209",
     "status": "completed"
    },
    "tags": []
   },
   "source": [
    "<div style=\"padding:10px;color:black;margin:0;font-size:150%;text-align:center;display:fill;border-radius:5px;background-color:#f5f2f2;overflow:hidden;font-weight:500\"><b>Booster parameters</b></div></br>\n",
    "\n",
    "depend on which booster you have chosen. We will discuss about tree based boosters here.\n",
    "\n",
    "#### 1. eta [default=0.3]\n",
    "- Similiar to **learning_rate**; works with geeneralization.\n",
    "- **Typical final values to be used:** 0.01-0.2\n",
    "\n",
    "#### 2. min_child_weight [default=1]\n",
    "- Defines the **minimum sum of weights of all observations required in a child**. It is **used to control over-fitting**. Higher values prevent a model from learning - relations which might be highly specific to the particular sample selected for a tree.\n",
    "- Too high values can lead to under-fitting hence, it should be tuned using CV.\n",
    "\n",
    "#### 3. max_depth [default=6]\n",
    "- The **maximum depth of a tree**, it is also used **to control over-fitting** as higher depth will allow model to learn relations very specific to a particular sample. Should be tuned using CV.\n",
    "- **Typical values:** 3-10\n",
    "\n",
    "#### 4. max_leaf_nodes\n",
    "- The **maximum number of terminal nodes** or leaves in a tree.\n",
    "- Since binary trees are created, a depth of ‘n’ would produce a maximum of 2^n leaves. If this is defined, GBM will ignore max_depth.\n",
    "\n",
    "#### 5. gamma [default=0]\n",
    "- A node is split only when the resulting split gives a positive reduction in the loss function. **Gamma specifies the minimum loss reduction required for a split to occur.**\n",
    "- Makes the algorithm conservative. The values can vary depending on the loss function and should be tuned. **Can be used to control overfitting.**\n",
    "\n",
    "#### 6. max_delta_step [default=0]\n",
    "- In **maximum delta step we allow each tree’s weight estimation to be**. If the value is set to 0, it means there is no constraint. If it is set to a positive value, it can help making the update step more conservative.\n",
    "- This is generally not used.\n",
    "\n",
    "#### 7. subsample [default=1]\n",
    "- It denotes the **fraction of observations to be randomly samples for each tree**.\n",
    "- **Lower values make the algorithm more conservative and prevents overfitting** but too small values might lead to under-fitting.\n",
    "- **Typical values:** 0.5-1\n",
    "\n",
    "#### 8. colsample_bytree [default=1]\n",
    "- Denotes the **fraction of columns to be randomly samples for each tree**. Smaller colsample_bytree povides additional regulerization.\n",
    "- **Typical values:** 0.5-1\n",
    "\n",
    "#### 9. colsample_bylevel [default=1]\n",
    "- Denotes **the subsample ratio of columns for each split, in each level**.\n",
    "\n",
    "#### 10. alpha [default=0]\n",
    "- **L1 regularization term**.\n",
    "- L1 regularization forces the weights of uninformative features to be zero by substracting a small amount from the weight at each iteration and thus making the weight zero, eventually. It is also called regularization for simplicity. Applies on leaf weights (rather than feature weights); larger value mean more regularization. \n",
    "\n",
    "#### 11. lambda [default=1]\n",
    "- **L2 regularization term**.\n",
    "- This used to handle the regularization part of XGBoost. It should be explored to reduce overfitting.\n",
    "- L2 regularization acts like a force that removes a small percentage of weights at each iteration. Therefore, weights will never be equal to zero. L2 regularization penalizes (weight)² There is an additional parameter to tune the L2 regularization term which is called regularization rate (lambda).\n",
    "- Smoother than alpha. Also, applies on leaf weights.\n",
    "\n",
    "#### 12. scale_pos_weight [default=1]\n",
    "- A value **greater than 0 should be used** in case of high class imbalance as it helps in faster convergence."
   ]
  },
  {
   "cell_type": "markdown",
   "id": "a57124af",
   "metadata": {
    "papermill": {
     "duration": 0.013408,
     "end_time": "2022-08-18T14:53:14.173150",
     "exception": false,
     "start_time": "2022-08-18T14:53:14.159742",
     "status": "completed"
    },
    "tags": []
   },
   "source": [
    "<div style=\"padding:10px;color:black;margin:0;font-size:150%;text-align:center;display:fill;border-radius:5px;background-color:#f5f2f2;overflow:hidden;font-weight:500\"><b>Learning task parameters</b></div></br>\n",
    "\n",
    "decide on the learning scenario. For example, regression tasks may use different parameters with ranking tasks.\n",
    "\n",
    "#### 1. objective [default=reg:linear]\n",
    "- This **defines the loss function to be minimized**. \n",
    "- Mostly used values are:\n",
    " - **reg:linear** - used for regressions\n",
    " - **reg:logistic** - used for classification, when you want the decision only, not the probability.\n",
    " - **binary:logistic** –logistic regression for binary classification, returns predicted probability (rather than decision class) \n",
    " - **multi:softmax** –multiclass classification using the softmax objective, returns predicted class (not probabilities); you also need to set an additional num_class (number of classes) parameter defining the number of unique classes\n",
    " - **multi:softprob** –same as softmax, but returns predicted probability of each data point belonging to each class.\n",
    " \n",
    "#### 2. eval_metric [ default according to objective ]\n",
    "- The metric to be used for validation data.\n",
    "- The default values are rmse for regression and error for classification.\n",
    "- **Typical values are:**\n",
    " - **rmse** – root mean square error\n",
    " - **mae** – mean absolute error\n",
    " - **logloss** – negative log-likelihood\n",
    " - **error** – Binary classification error rate (0.5 threshold)\n",
    " - **merror** – Multiclass classification error rate\n",
    " - **mlogloss** – Multiclass logloss\n",
    " - **auc** – Area under the curve\n",
    " \n",
    "#### 3. seed [default=0]\n",
    "- for reproducibility."
   ]
  },
  {
   "cell_type": "markdown",
   "id": "b4c61fc3",
   "metadata": {
    "papermill": {
     "duration": 0.0134,
     "end_time": "2022-08-18T14:53:14.200247",
     "exception": false,
     "start_time": "2022-08-18T14:53:14.186847",
     "status": "completed"
    },
    "tags": []
   },
   "source": [
    "<div style=\"padding:10px;color:black;margin:0;font-size:150%;text-align:center;display:fill;border-radius:5px;background-color:#f5f2f2;overflow:hidden;font-weight:500\"><b>Command line parameters</b></div></br>\n",
    "\n",
    "- relate to behavior of CLI version of XGBoost."
   ]
  },
  {
   "cell_type": "markdown",
   "id": "3f17bf26",
   "metadata": {
    "papermill": {
     "duration": 0.013164,
     "end_time": "2022-08-18T14:53:14.227279",
     "exception": false,
     "start_time": "2022-08-18T14:53:14.214115",
     "status": "completed"
    },
    "tags": []
   },
   "source": [
    "<div style=\"padding:20px;color:black;margin:0;font-size:200%;text-align:center;display:fill;border-radius:5px;background-color:#d9d9d9;overflow:hidden;font-weight:500\">Understanding Bias-Variance Tradeoff</div>"
   ]
  },
  {
   "cell_type": "markdown",
   "id": "92fa096f",
   "metadata": {
    "papermill": {
     "duration": 0.013259,
     "end_time": "2022-08-18T14:53:14.254025",
     "exception": false,
     "start_time": "2022-08-18T14:53:14.240766",
     "status": "completed"
    },
    "tags": []
   },
   "source": [
    "# 4. Understanding Bias-Variance Tradeoff"
   ]
  },
  {
   "cell_type": "markdown",
   "id": "b349fa59",
   "metadata": {
    "papermill": {
     "duration": 0.013246,
     "end_time": "2022-08-18T14:53:14.281245",
     "exception": false,
     "start_time": "2022-08-18T14:53:14.267999",
     "status": "completed"
    },
    "tags": []
   },
   "source": [
    "If you take a machine learning or statistics course, this is likely to be one of the most important concepts. When we allow the model to get more complicated (e.g. more depth), the model has better ability to fit the training data, resulting in a less biased model. However, such complicated model requires more data to fit.\n",
    "\n",
    "Most of parameters in XGBoost are about bias variance tradeoff. The best model should trade the model complexity with its predictive power carefully. Parameters Documentation will tell you whether each parameter will make the model more conservative or not. This can be used to help you turn the knob between complicated model and simple model.\n",
    "\n",
    "## More Resources :\n",
    "- [📋 Bias-Variance Tradeoff ➡️ with NumPy & Seaborn](https://www.kaggle.com/code/azminetoushikwasi/bias-variance-tradeoff-with-numpy-seaborn)\n",
    "- [Mastering Bias-Variance Tradeoff wih Polynomials](https://medium.com/@azmine_wasi/mastering-bias-variance-tradeoff-with-polynomials-part-02-29f9bb53bb26)"
   ]
  },
  {
   "cell_type": "markdown",
   "id": "5947aeb6",
   "metadata": {
    "papermill": {
     "duration": 0.01367,
     "end_time": "2022-08-18T14:53:14.309145",
     "exception": false,
     "start_time": "2022-08-18T14:53:14.295475",
     "status": "completed"
    },
    "tags": []
   },
   "source": [
    "<div style=\"padding:20px;color:black;margin:0;font-size:200%;text-align:center;display:fill;border-radius:5px;background-color:#d9d9d9;overflow:hidden;font-weight:500\">Approch to XGBoost Hyperparameter Tuning</div>"
   ]
  },
  {
   "cell_type": "markdown",
   "id": "f199c745",
   "metadata": {
    "papermill": {
     "duration": 0.013616,
     "end_time": "2022-08-18T14:53:14.336245",
     "exception": false,
     "start_time": "2022-08-18T14:53:14.322629",
     "status": "completed"
    },
    "tags": []
   },
   "source": [
    "# 6. Best approch to Hyper parameter tuning"
   ]
  },
  {
   "cell_type": "markdown",
   "id": "80c17a4a",
   "metadata": {
    "papermill": {
     "duration": 0.013663,
     "end_time": "2022-08-18T14:53:14.363849",
     "exception": false,
     "start_time": "2022-08-18T14:53:14.350186",
     "status": "completed"
    },
    "tags": []
   },
   "source": [
    "<div style=\"padding:10px;color:black;font-size:150%;text-align:center;display:fill;border-radius:5px;background-color:#f5f2f2;overflow:hidden;font-weight:500\"><b>Importing Necessary Modules and Functions</b></div></br>"
   ]
  },
  {
   "cell_type": "code",
   "execution_count": 1,
   "id": "3a84754b",
   "metadata": {
    "execution": {
     "iopub.execute_input": "2022-08-18T14:53:14.393061Z",
     "iopub.status.busy": "2022-08-18T14:53:14.392473Z",
     "iopub.status.idle": "2022-08-18T14:53:16.236624Z",
     "shell.execute_reply": "2022-08-18T14:53:16.235521Z"
    },
    "papermill": {
     "duration": 1.86209,
     "end_time": "2022-08-18T14:53:16.239622",
     "exception": false,
     "start_time": "2022-08-18T14:53:14.377532",
     "status": "completed"
    },
    "tags": []
   },
   "outputs": [],
   "source": [
    "import numpy as np \n",
    "import pandas as pd \n",
    "import os\n",
    "import seaborn as sns\n",
    "import matplotlib.pyplot as plt\n",
    "from scipy import stats\n",
    "import warnings\n",
    "import json\n",
    "from sklearn import manifold\n",
    "\n",
    "from sklearn.model_selection import train_test_split\n",
    "\n",
    "from sklearn.preprocessing import OrdinalEncoder\n",
    "\n",
    "import xgboost as xgb\n",
    "\n",
    "from sklearn.model_selection import RandomizedSearchCV, GridSearchCV\n",
    "from sklearn.model_selection import StratifiedKFold\n",
    "\n",
    "from sklearn.metrics import roc_auc_score\n",
    "from sklearn.metrics import classification_report\n",
    "from sklearn.model_selection import cross_val_score, KFold\n",
    "from sklearn.metrics import confusion_matrix\n",
    "from xgboost import plot_tree\n",
    "\n",
    "warnings.filterwarnings('ignore')"
   ]
  },
  {
   "cell_type": "code",
   "execution_count": 2,
   "id": "7ca803a7",
   "metadata": {
    "execution": {
     "iopub.execute_input": "2022-08-18T14:53:16.273840Z",
     "iopub.status.busy": "2022-08-18T14:53:16.273487Z",
     "iopub.status.idle": "2022-08-18T14:53:16.278746Z",
     "shell.execute_reply": "2022-08-18T14:53:16.277703Z"
    },
    "papermill": {
     "duration": 0.02484,
     "end_time": "2022-08-18T14:53:16.281157",
     "exception": false,
     "start_time": "2022-08-18T14:53:16.256317",
     "status": "completed"
    },
    "tags": []
   },
   "outputs": [],
   "source": [
    "warnings.filterwarnings('ignore')"
   ]
  },
  {
   "cell_type": "code",
   "execution_count": 3,
   "id": "eb5a334e",
   "metadata": {
    "execution": {
     "iopub.execute_input": "2022-08-18T14:53:16.313177Z",
     "iopub.status.busy": "2022-08-18T14:53:16.312889Z",
     "iopub.status.idle": "2022-08-18T14:53:16.323775Z",
     "shell.execute_reply": "2022-08-18T14:53:16.322885Z"
    },
    "papermill": {
     "duration": 0.02862,
     "end_time": "2022-08-18T14:53:16.325784",
     "exception": false,
     "start_time": "2022-08-18T14:53:16.297164",
     "status": "completed"
    },
    "tags": []
   },
   "outputs": [],
   "source": [
    "def process_df(df):\n",
    "    df=df.drop(['Name','PassengerId'],axis=1)\n",
    "    df=df.dropna()\n",
    "    \n",
    "    target=df['Transported']\n",
    "    df=df.drop(['Transported'],axis=1)\n",
    "    target = target.astype(int)\n",
    "    \n",
    "    df['Cabin_1']= df['Cabin'].str[0]\n",
    "    df['Cabin_2']= df['Cabin'].str[2]\n",
    "    df['Cabin_3']= df['Cabin'].str[5]\n",
    "    df=df.drop(['Cabin'],axis=1)\n",
    "                                             \n",
    "    \n",
    "    # Create the training and test datasets\n",
    "    X_train, X_test, y_train, y_test = train_test_split(df, \n",
    "                                                    target, \n",
    "                                                    test_size = 0.2, \n",
    "                                                    random_state=100,\n",
    "                                                    stratify=target)\n",
    "\n",
    "    numaric_columns=list(df.select_dtypes(include=np.number).columns)\n",
    "    print(\"Numaric columns (\"+str(len(numaric_columns))+\") :\",\", \".join(numaric_columns))\n",
    "    \n",
    "    cat_columns=df.select_dtypes(include=['object']).columns.tolist()\n",
    "    print(\"Categorical columns (\"+str(len(cat_columns))+\") :\",\", \".join(cat_columns))\n",
    "    \n",
    "    \n",
    "    X_train_n=X_train[numaric_columns]\n",
    "    X_test_n=X_test[numaric_columns]\n",
    "    \n",
    "    X_train_c=X_train[cat_columns]\n",
    "    X_test_c=X_test[cat_columns]\n",
    "                               \n",
    "   \n",
    "    encoder=OrdinalEncoder()\n",
    "    X_train_c = encoder.fit_transform(X_train_c)\n",
    "    X_train_c=pd.DataFrame(X_train_c)\n",
    "    X_test_c = encoder.transform(X_test_c)\n",
    "    X_test_c=pd.DataFrame(X_test_c)\n",
    "    \n",
    "    i=1\n",
    "    for column in X_train_c:\n",
    "        X_train_n[\"cat_\"+str(i)]=X_train_c[column]\n",
    "        X_test_n[\"cat_\"+str(i)]=X_test_c[column]\n",
    "        i=i+1\n",
    "    \n",
    "    #X_train=pd.concat([X_train_n,X_train_c],axis=1,ignore_index=True)\n",
    "    #X_test=pd.concat([X_test_n,X_test_c],axis=1,ignore_index=True)\n",
    "    \n",
    "    X_train_n=X_train_n.fillna(X_train_n.mean())\n",
    "    X_test_n=X_test_n.fillna(X_test_n.mean())\n",
    "    \n",
    "    \n",
    "    return X_train_n, X_test_n, y_train, y_test"
   ]
  },
  {
   "cell_type": "markdown",
   "id": "3d78fd54",
   "metadata": {
    "papermill": {
     "duration": 0.013481,
     "end_time": "2022-08-18T14:53:16.352755",
     "exception": false,
     "start_time": "2022-08-18T14:53:16.339274",
     "status": "completed"
    },
    "tags": []
   },
   "source": [
    "<div style=\"padding:10px;color:black;font-size:150%;text-align:center;display:fill;border-radius:5px;background-color:#f5f2f2;overflow:hidden;font-weight:500\"><b>Preparing the Data</b></div></br>"
   ]
  },
  {
   "cell_type": "code",
   "execution_count": 4,
   "id": "074d715b",
   "metadata": {
    "execution": {
     "iopub.execute_input": "2022-08-18T14:53:16.381605Z",
     "iopub.status.busy": "2022-08-18T14:53:16.381347Z",
     "iopub.status.idle": "2022-08-18T14:53:16.450956Z",
     "shell.execute_reply": "2022-08-18T14:53:16.449949Z"
    },
    "papermill": {
     "duration": 0.086607,
     "end_time": "2022-08-18T14:53:16.453440",
     "exception": false,
     "start_time": "2022-08-18T14:53:16.366833",
     "status": "completed"
    },
    "tags": []
   },
   "outputs": [
    {
     "data": {
      "text/html": [
       "<div>\n",
       "<style scoped>\n",
       "    .dataframe tbody tr th:only-of-type {\n",
       "        vertical-align: middle;\n",
       "    }\n",
       "\n",
       "    .dataframe tbody tr th {\n",
       "        vertical-align: top;\n",
       "    }\n",
       "\n",
       "    .dataframe thead th {\n",
       "        text-align: right;\n",
       "    }\n",
       "</style>\n",
       "<table border=\"1\" class=\"dataframe\">\n",
       "  <thead>\n",
       "    <tr style=\"text-align: right;\">\n",
       "      <th></th>\n",
       "      <th>PassengerId</th>\n",
       "      <th>HomePlanet</th>\n",
       "      <th>CryoSleep</th>\n",
       "      <th>Cabin</th>\n",
       "      <th>Destination</th>\n",
       "      <th>Age</th>\n",
       "      <th>VIP</th>\n",
       "      <th>RoomService</th>\n",
       "      <th>FoodCourt</th>\n",
       "      <th>ShoppingMall</th>\n",
       "      <th>Spa</th>\n",
       "      <th>VRDeck</th>\n",
       "      <th>Name</th>\n",
       "      <th>Transported</th>\n",
       "    </tr>\n",
       "  </thead>\n",
       "  <tbody>\n",
       "    <tr>\n",
       "      <th>0</th>\n",
       "      <td>0001_01</td>\n",
       "      <td>Europa</td>\n",
       "      <td>False</td>\n",
       "      <td>B/0/P</td>\n",
       "      <td>TRAPPIST-1e</td>\n",
       "      <td>39.0</td>\n",
       "      <td>False</td>\n",
       "      <td>0.0</td>\n",
       "      <td>0.0</td>\n",
       "      <td>0.0</td>\n",
       "      <td>0.0</td>\n",
       "      <td>0.0</td>\n",
       "      <td>Maham Ofracculy</td>\n",
       "      <td>False</td>\n",
       "    </tr>\n",
       "    <tr>\n",
       "      <th>1</th>\n",
       "      <td>0002_01</td>\n",
       "      <td>Earth</td>\n",
       "      <td>False</td>\n",
       "      <td>F/0/S</td>\n",
       "      <td>TRAPPIST-1e</td>\n",
       "      <td>24.0</td>\n",
       "      <td>False</td>\n",
       "      <td>109.0</td>\n",
       "      <td>9.0</td>\n",
       "      <td>25.0</td>\n",
       "      <td>549.0</td>\n",
       "      <td>44.0</td>\n",
       "      <td>Juanna Vines</td>\n",
       "      <td>True</td>\n",
       "    </tr>\n",
       "    <tr>\n",
       "      <th>2</th>\n",
       "      <td>0003_01</td>\n",
       "      <td>Europa</td>\n",
       "      <td>False</td>\n",
       "      <td>A/0/S</td>\n",
       "      <td>TRAPPIST-1e</td>\n",
       "      <td>58.0</td>\n",
       "      <td>True</td>\n",
       "      <td>43.0</td>\n",
       "      <td>3576.0</td>\n",
       "      <td>0.0</td>\n",
       "      <td>6715.0</td>\n",
       "      <td>49.0</td>\n",
       "      <td>Altark Susent</td>\n",
       "      <td>False</td>\n",
       "    </tr>\n",
       "    <tr>\n",
       "      <th>3</th>\n",
       "      <td>0003_02</td>\n",
       "      <td>Europa</td>\n",
       "      <td>False</td>\n",
       "      <td>A/0/S</td>\n",
       "      <td>TRAPPIST-1e</td>\n",
       "      <td>33.0</td>\n",
       "      <td>False</td>\n",
       "      <td>0.0</td>\n",
       "      <td>1283.0</td>\n",
       "      <td>371.0</td>\n",
       "      <td>3329.0</td>\n",
       "      <td>193.0</td>\n",
       "      <td>Solam Susent</td>\n",
       "      <td>False</td>\n",
       "    </tr>\n",
       "    <tr>\n",
       "      <th>4</th>\n",
       "      <td>0004_01</td>\n",
       "      <td>Earth</td>\n",
       "      <td>False</td>\n",
       "      <td>F/1/S</td>\n",
       "      <td>TRAPPIST-1e</td>\n",
       "      <td>16.0</td>\n",
       "      <td>False</td>\n",
       "      <td>303.0</td>\n",
       "      <td>70.0</td>\n",
       "      <td>151.0</td>\n",
       "      <td>565.0</td>\n",
       "      <td>2.0</td>\n",
       "      <td>Willy Santantines</td>\n",
       "      <td>True</td>\n",
       "    </tr>\n",
       "  </tbody>\n",
       "</table>\n",
       "</div>"
      ],
      "text/plain": [
       "  PassengerId HomePlanet CryoSleep  Cabin  Destination   Age    VIP  \\\n",
       "0     0001_01     Europa     False  B/0/P  TRAPPIST-1e  39.0  False   \n",
       "1     0002_01      Earth     False  F/0/S  TRAPPIST-1e  24.0  False   \n",
       "2     0003_01     Europa     False  A/0/S  TRAPPIST-1e  58.0   True   \n",
       "3     0003_02     Europa     False  A/0/S  TRAPPIST-1e  33.0  False   \n",
       "4     0004_01      Earth     False  F/1/S  TRAPPIST-1e  16.0  False   \n",
       "\n",
       "   RoomService  FoodCourt  ShoppingMall     Spa  VRDeck               Name  \\\n",
       "0          0.0        0.0           0.0     0.0     0.0    Maham Ofracculy   \n",
       "1        109.0        9.0          25.0   549.0    44.0       Juanna Vines   \n",
       "2         43.0     3576.0           0.0  6715.0    49.0      Altark Susent   \n",
       "3          0.0     1283.0         371.0  3329.0   193.0       Solam Susent   \n",
       "4        303.0       70.0         151.0   565.0     2.0  Willy Santantines   \n",
       "\n",
       "   Transported  \n",
       "0        False  \n",
       "1         True  \n",
       "2        False  \n",
       "3        False  \n",
       "4         True  "
      ]
     },
     "execution_count": 4,
     "metadata": {},
     "output_type": "execute_result"
    }
   ],
   "source": [
    "df= pd.read_csv(\"/kaggle/input/spaceship-titanic/train.csv\")\n",
    "df.head()"
   ]
  },
  {
   "cell_type": "code",
   "execution_count": 5,
   "id": "ffc11167",
   "metadata": {
    "execution": {
     "iopub.execute_input": "2022-08-18T14:53:16.484748Z",
     "iopub.status.busy": "2022-08-18T14:53:16.483130Z",
     "iopub.status.idle": "2022-08-18T14:53:16.564522Z",
     "shell.execute_reply": "2022-08-18T14:53:16.562608Z"
    },
    "papermill": {
     "duration": 0.100104,
     "end_time": "2022-08-18T14:53:16.567900",
     "exception": false,
     "start_time": "2022-08-18T14:53:16.467796",
     "status": "completed"
    },
    "tags": []
   },
   "outputs": [
    {
     "name": "stdout",
     "output_type": "stream",
     "text": [
      "Numaric columns (6) : Age, RoomService, FoodCourt, ShoppingMall, Spa, VRDeck\n",
      "Categorical columns (7) : HomePlanet, CryoSleep, Destination, VIP, Cabin_1, Cabin_2, Cabin_3\n",
      "(5411, 13) (1353, 13) (5411,) (1353,)\n"
     ]
    }
   ],
   "source": [
    "X_train, X_test, y_train, y_test = process_df(df)\n",
    "print(X_train.shape, X_test.shape, y_train.shape, y_test.shape)"
   ]
  },
  {
   "cell_type": "markdown",
   "id": "a3d5a3b0",
   "metadata": {
    "papermill": {
     "duration": 0.014043,
     "end_time": "2022-08-18T14:53:16.596861",
     "exception": false,
     "start_time": "2022-08-18T14:53:16.582818",
     "status": "completed"
    },
    "tags": []
   },
   "source": [
    "<div style=\"padding:10px;color:black;font-size:150%;text-align:center;display:fill;border-radius:5px;background-color:#f5f2f2;overflow:hidden;font-weight:500\"><b>Preparing functions for making things easier later</b></div></br>"
   ]
  },
  {
   "cell_type": "markdown",
   "id": "e451554e",
   "metadata": {
    "papermill": {
     "duration": 0.013753,
     "end_time": "2022-08-18T14:53:16.624590",
     "exception": false,
     "start_time": "2022-08-18T14:53:16.610837",
     "status": "completed"
    },
    "tags": []
   },
   "source": [
    "#### Base parameters : \n",
    "- booster = \"gbtree\",      **as it is a classification problem**\n",
    "- objective = \"binary:logistic\",    **as per the problem**\n",
    "- tree_method=\"gpu_hist\"   **using GPU**"
   ]
  },
  {
   "cell_type": "code",
   "execution_count": 6,
   "id": "46eeb14f",
   "metadata": {
    "execution": {
     "iopub.execute_input": "2022-08-18T14:53:16.654269Z",
     "iopub.status.busy": "2022-08-18T14:53:16.653388Z",
     "iopub.status.idle": "2022-08-18T14:53:16.661391Z",
     "shell.execute_reply": "2022-08-18T14:53:16.660414Z"
    },
    "papermill": {
     "duration": 0.02525,
     "end_time": "2022-08-18T14:53:16.663675",
     "exception": false,
     "start_time": "2022-08-18T14:53:16.638425",
     "status": "completed"
    },
    "tags": []
   },
   "outputs": [],
   "source": [
    "def xgb_helper(PARAMETERS,V_PARAM_NAME=False,V_PARAM_VALUES=False,BR=10):\n",
    "    \n",
    "    temp_dmatrix =xgb.DMatrix(data=X_train, label=y_train)\n",
    "    \n",
    "    if V_PARAM_VALUES==False:\n",
    "        cv_results = xgb.cv(dtrain=temp_dmatrix, nfold=5,num_boost_round=BR,params=PARAMETERS, as_pandas=True, seed=123 )\n",
    "        return cv_results\n",
    "    \n",
    "    else:\n",
    "        results=[]\n",
    "        \n",
    "        for v_param_value in V_PARAM_VALUES:\n",
    "            PARAMETERS[V_PARAM_NAME]=v_param_value\n",
    "            cv_results = xgb.cv(dtrain=temp_dmatrix, nfold=5,num_boost_round=BR,params=PARAMETERS, as_pandas=True, seed=123)\n",
    "            results.append((cv_results[\"train-auc-mean\"].tail().values[-1],cv_results[\"test-auc-mean\"].tail().values[-1]))\n",
    "            \n",
    "        data = list(zip(V_PARAM_VALUES, results))\n",
    "        print(pd.DataFrame(data,columns=[V_PARAM_NAME,\"auc\"]))\n",
    "        \n",
    "        return cv_results"
   ]
  },
  {
   "cell_type": "markdown",
   "id": "3e520aa0",
   "metadata": {
    "papermill": {
     "duration": 0.013866,
     "end_time": "2022-08-18T14:53:16.691669",
     "exception": false,
     "start_time": "2022-08-18T14:53:16.677803",
     "status": "completed"
    },
    "tags": []
   },
   "source": [
    "<div style=\"padding:10px;color:black;font-size:150%;text-align:center;display:fill;border-radius:5px;background-color:#f5f2f2;overflow:hidden;font-weight:500\"><b>Create a general base model and evaluate performance</b></div></br>"
   ]
  },
  {
   "cell_type": "code",
   "execution_count": 7,
   "id": "8f3666c6",
   "metadata": {
    "execution": {
     "iopub.execute_input": "2022-08-18T14:53:16.721881Z",
     "iopub.status.busy": "2022-08-18T14:53:16.721604Z",
     "iopub.status.idle": "2022-08-18T14:53:19.768477Z",
     "shell.execute_reply": "2022-08-18T14:53:19.767693Z"
    },
    "papermill": {
     "duration": 3.064858,
     "end_time": "2022-08-18T14:53:19.770905",
     "exception": false,
     "start_time": "2022-08-18T14:53:16.706047",
     "status": "completed"
    },
    "tags": []
   },
   "outputs": [
    {
     "data": {
      "text/html": [
       "<div>\n",
       "<style scoped>\n",
       "    .dataframe tbody tr th:only-of-type {\n",
       "        vertical-align: middle;\n",
       "    }\n",
       "\n",
       "    .dataframe tbody tr th {\n",
       "        vertical-align: top;\n",
       "    }\n",
       "\n",
       "    .dataframe thead th {\n",
       "        text-align: right;\n",
       "    }\n",
       "</style>\n",
       "<table border=\"1\" class=\"dataframe\">\n",
       "  <thead>\n",
       "    <tr style=\"text-align: right;\">\n",
       "      <th></th>\n",
       "      <th>train-auc-mean</th>\n",
       "      <th>train-auc-std</th>\n",
       "      <th>test-auc-mean</th>\n",
       "      <th>test-auc-std</th>\n",
       "    </tr>\n",
       "  </thead>\n",
       "  <tbody>\n",
       "    <tr>\n",
       "      <th>0</th>\n",
       "      <td>0.858413</td>\n",
       "      <td>0.002187</td>\n",
       "      <td>0.821862</td>\n",
       "      <td>0.005628</td>\n",
       "    </tr>\n",
       "    <tr>\n",
       "      <th>1</th>\n",
       "      <td>0.870282</td>\n",
       "      <td>0.001689</td>\n",
       "      <td>0.828690</td>\n",
       "      <td>0.004939</td>\n",
       "    </tr>\n",
       "    <tr>\n",
       "      <th>2</th>\n",
       "      <td>0.876322</td>\n",
       "      <td>0.000856</td>\n",
       "      <td>0.835879</td>\n",
       "      <td>0.002703</td>\n",
       "    </tr>\n",
       "    <tr>\n",
       "      <th>3</th>\n",
       "      <td>0.880106</td>\n",
       "      <td>0.001456</td>\n",
       "      <td>0.838758</td>\n",
       "      <td>0.004261</td>\n",
       "    </tr>\n",
       "    <tr>\n",
       "      <th>4</th>\n",
       "      <td>0.884137</td>\n",
       "      <td>0.001624</td>\n",
       "      <td>0.838674</td>\n",
       "      <td>0.003967</td>\n",
       "    </tr>\n",
       "    <tr>\n",
       "      <th>5</th>\n",
       "      <td>0.887057</td>\n",
       "      <td>0.001697</td>\n",
       "      <td>0.841544</td>\n",
       "      <td>0.003510</td>\n",
       "    </tr>\n",
       "    <tr>\n",
       "      <th>6</th>\n",
       "      <td>0.889695</td>\n",
       "      <td>0.002341</td>\n",
       "      <td>0.842214</td>\n",
       "      <td>0.005057</td>\n",
       "    </tr>\n",
       "    <tr>\n",
       "      <th>7</th>\n",
       "      <td>0.891214</td>\n",
       "      <td>0.002497</td>\n",
       "      <td>0.842708</td>\n",
       "      <td>0.005743</td>\n",
       "    </tr>\n",
       "    <tr>\n",
       "      <th>8</th>\n",
       "      <td>0.892886</td>\n",
       "      <td>0.002178</td>\n",
       "      <td>0.843644</td>\n",
       "      <td>0.005887</td>\n",
       "    </tr>\n",
       "    <tr>\n",
       "      <th>9</th>\n",
       "      <td>0.893928</td>\n",
       "      <td>0.002417</td>\n",
       "      <td>0.844092</td>\n",
       "      <td>0.005543</td>\n",
       "    </tr>\n",
       "  </tbody>\n",
       "</table>\n",
       "</div>"
      ],
      "text/plain": [
       "   train-auc-mean  train-auc-std  test-auc-mean  test-auc-std\n",
       "0        0.858413       0.002187       0.821862      0.005628\n",
       "1        0.870282       0.001689       0.828690      0.004939\n",
       "2        0.876322       0.000856       0.835879      0.002703\n",
       "3        0.880106       0.001456       0.838758      0.004261\n",
       "4        0.884137       0.001624       0.838674      0.003967\n",
       "5        0.887057       0.001697       0.841544      0.003510\n",
       "6        0.889695       0.002341       0.842214      0.005057\n",
       "7        0.891214       0.002497       0.842708      0.005743\n",
       "8        0.892886       0.002178       0.843644      0.005887\n",
       "9        0.893928       0.002417       0.844092      0.005543"
      ]
     },
     "execution_count": 7,
     "metadata": {},
     "output_type": "execute_result"
    }
   ],
   "source": [
    "PARAMETERS={\"objective\":'binary:logistic',\"eval_metric\":\"auc\"}\n",
    "xgb_helper(PARAMETERS)"
   ]
  },
  {
   "cell_type": "markdown",
   "id": "a7deefda",
   "metadata": {
    "papermill": {
     "duration": 0.014474,
     "end_time": "2022-08-18T14:53:19.801531",
     "exception": false,
     "start_time": "2022-08-18T14:53:19.787057",
     "status": "completed"
    },
    "tags": []
   },
   "source": [
    "<div style=\"padding:10px;color:black;font-size:150%;text-align:center;display:fill;border-radius:5px;background-color:#f5f2f2;overflow:hidden;font-weight:500\"><b>Optimizing number of boosting rounds</br>(as we will be using DMatrix from xgb)</b></div></br>"
   ]
  },
  {
   "cell_type": "code",
   "execution_count": 8,
   "id": "cc5acc4e",
   "metadata": {
    "execution": {
     "iopub.execute_input": "2022-08-18T14:53:19.831809Z",
     "iopub.status.busy": "2022-08-18T14:53:19.831508Z",
     "iopub.status.idle": "2022-08-18T14:53:20.882789Z",
     "shell.execute_reply": "2022-08-18T14:53:20.882055Z"
    },
    "papermill": {
     "duration": 1.069305,
     "end_time": "2022-08-18T14:53:20.885167",
     "exception": false,
     "start_time": "2022-08-18T14:53:19.815862",
     "status": "completed"
    },
    "tags": []
   },
   "outputs": [
    {
     "name": "stdout",
     "output_type": "stream",
     "text": [
      "[14:53:19] WARNING: ../src/objective/regression_obj.cu:203: reg:linear is now deprecated in favor of reg:squarederror.\n",
      "[14:53:19] WARNING: ../src/objective/regression_obj.cu:203: reg:linear is now deprecated in favor of reg:squarederror.\n",
      "[14:53:19] WARNING: ../src/objective/regression_obj.cu:203: reg:linear is now deprecated in favor of reg:squarederror.\n",
      "[14:53:19] WARNING: ../src/objective/regression_obj.cu:203: reg:linear is now deprecated in favor of reg:squarederror.\n",
      "[14:53:19] WARNING: ../src/objective/regression_obj.cu:203: reg:linear is now deprecated in favor of reg:squarederror.\n",
      "[14:53:19] WARNING: ../src/objective/regression_obj.cu:203: reg:linear is now deprecated in favor of reg:squarederror.\n",
      "[14:53:19] WARNING: ../src/objective/regression_obj.cu:203: reg:linear is now deprecated in favor of reg:squarederror.\n",
      "[14:53:19] WARNING: ../src/objective/regression_obj.cu:203: reg:linear is now deprecated in favor of reg:squarederror.\n",
      "[14:53:19] WARNING: ../src/objective/regression_obj.cu:203: reg:linear is now deprecated in favor of reg:squarederror.\n",
      "[14:53:19] WARNING: ../src/objective/regression_obj.cu:203: reg:linear is now deprecated in favor of reg:squarederror.\n",
      "[14:53:20] WARNING: ../src/objective/regression_obj.cu:203: reg:linear is now deprecated in favor of reg:squarederror.\n",
      "[14:53:20] WARNING: ../src/objective/regression_obj.cu:203: reg:linear is now deprecated in favor of reg:squarederror.\n",
      "[14:53:20] WARNING: ../src/objective/regression_obj.cu:203: reg:linear is now deprecated in favor of reg:squarederror.\n",
      "[14:53:20] WARNING: ../src/objective/regression_obj.cu:203: reg:linear is now deprecated in favor of reg:squarederror.\n",
      "[14:53:20] WARNING: ../src/objective/regression_obj.cu:203: reg:linear is now deprecated in favor of reg:squarederror.\n",
      "[14:53:20] WARNING: ../src/objective/regression_obj.cu:203: reg:linear is now deprecated in favor of reg:squarederror.\n",
      "[14:53:20] WARNING: ../src/objective/regression_obj.cu:203: reg:linear is now deprecated in favor of reg:squarederror.\n",
      "[14:53:20] WARNING: ../src/objective/regression_obj.cu:203: reg:linear is now deprecated in favor of reg:squarederror.\n",
      "[14:53:20] WARNING: ../src/objective/regression_obj.cu:203: reg:linear is now deprecated in favor of reg:squarederror.\n",
      "[14:53:20] WARNING: ../src/objective/regression_obj.cu:203: reg:linear is now deprecated in favor of reg:squarederror.\n",
      "[14:53:20] WARNING: ../src/objective/regression_obj.cu:203: reg:linear is now deprecated in favor of reg:squarederror.\n",
      "[14:53:20] WARNING: ../src/objective/regression_obj.cu:203: reg:linear is now deprecated in favor of reg:squarederror.\n",
      "[14:53:20] WARNING: ../src/objective/regression_obj.cu:203: reg:linear is now deprecated in favor of reg:squarederror.\n",
      "[14:53:20] WARNING: ../src/objective/regression_obj.cu:203: reg:linear is now deprecated in favor of reg:squarederror.\n",
      "[14:53:20] WARNING: ../src/objective/regression_obj.cu:203: reg:linear is now deprecated in favor of reg:squarederror.\n",
      "   num_boosting_rounds       auc\n",
      "0                    5  0.820666\n",
      "1                   10  0.837615\n",
      "2                   15  0.841481\n",
      "3                   20  0.842990\n",
      "4                   25  0.842820\n"
     ]
    }
   ],
   "source": [
    "# Create the DMatrix: housing_dmatrix\n",
    "housing_dmatrix =xgb.DMatrix(data=X_train, label=y_train)\n",
    "\n",
    "# Create the parameter dictionary for each tree: params \n",
    "params = {\"objective\":\"reg:linear\", \"max_depth\":3}\n",
    "\n",
    "# Create list of number of boosting rounds\n",
    "num_rounds = [5, 10, 15, 20, 25]\n",
    "\n",
    "# Empty list to store final round rmse per XGBoost model\n",
    "final_rmse_per_round = []\n",
    "\n",
    "# Iterate over num_rounds and build one model per num_boost_round parameter\n",
    "for curr_num_rounds in num_rounds:\n",
    "\n",
    "    # Perform cross-validation: cv_results\n",
    "    cv_results = xgb.cv(dtrain=housing_dmatrix, params=params, nfold=5, num_boost_round=curr_num_rounds, metrics=\"auc\", as_pandas=True, seed=123)\n",
    "    \n",
    "    # Append final round RMSE\n",
    "    final_rmse_per_round.append(cv_results[\"test-auc-mean\"].tail().values[-1])\n",
    "\n",
    "# Print the resultant DataFrame\n",
    "num_rounds_rmses = list(zip(num_rounds, final_rmse_per_round))\n",
    "print(pd.DataFrame(num_rounds_rmses,columns=[\"num_boosting_rounds\",\"auc\"]))"
   ]
  },
  {
   "cell_type": "markdown",
   "id": "c654b2ad",
   "metadata": {
    "papermill": {
     "duration": 0.015083,
     "end_time": "2022-08-18T14:53:20.915956",
     "exception": false,
     "start_time": "2022-08-18T14:53:20.900873",
     "status": "completed"
    },
    "tags": []
   },
   "source": [
    "### Pointers:\n",
    "- Taking num_boosting_rounds = 10; to avoid overfitting"
   ]
  },
  {
   "cell_type": "markdown",
   "id": "f65a51c9",
   "metadata": {
    "papermill": {
     "duration": 0.014143,
     "end_time": "2022-08-18T14:53:20.944421",
     "exception": false,
     "start_time": "2022-08-18T14:53:20.930278",
     "status": "completed"
    },
    "tags": []
   },
   "source": [
    "<div style=\"padding:10px;color:black;padding-left: 45px;font-size:150%;text-align:left;display:fill;border-radius:5px;background-color:#f5f2f2;overflow:hidden;font-weight:500\"><b>   1. Choose the learning rate. Maybe you can start with a higher one. 0.5 - 0.1 is ok for starting in most cases.</b></div></br>"
   ]
  },
  {
   "cell_type": "code",
   "execution_count": 9,
   "id": "51e787f2",
   "metadata": {
    "execution": {
     "iopub.execute_input": "2022-08-18T14:53:20.975301Z",
     "iopub.status.busy": "2022-08-18T14:53:20.974986Z",
     "iopub.status.idle": "2022-08-18T14:53:21.239885Z",
     "shell.execute_reply": "2022-08-18T14:53:21.239210Z"
    },
    "papermill": {
     "duration": 0.282717,
     "end_time": "2022-08-18T14:53:21.242053",
     "exception": false,
     "start_time": "2022-08-18T14:53:20.959336",
     "status": "completed"
    },
    "tags": []
   },
   "outputs": [
    {
     "data": {
      "text/html": [
       "<div>\n",
       "<style scoped>\n",
       "    .dataframe tbody tr th:only-of-type {\n",
       "        vertical-align: middle;\n",
       "    }\n",
       "\n",
       "    .dataframe tbody tr th {\n",
       "        vertical-align: top;\n",
       "    }\n",
       "\n",
       "    .dataframe thead th {\n",
       "        text-align: right;\n",
       "    }\n",
       "</style>\n",
       "<table border=\"1\" class=\"dataframe\">\n",
       "  <thead>\n",
       "    <tr style=\"text-align: right;\">\n",
       "      <th></th>\n",
       "      <th>train-auc-mean</th>\n",
       "      <th>train-auc-std</th>\n",
       "      <th>test-auc-mean</th>\n",
       "      <th>test-auc-std</th>\n",
       "    </tr>\n",
       "  </thead>\n",
       "  <tbody>\n",
       "    <tr>\n",
       "      <th>0</th>\n",
       "      <td>0.858413</td>\n",
       "      <td>0.002187</td>\n",
       "      <td>0.821862</td>\n",
       "      <td>0.005628</td>\n",
       "    </tr>\n",
       "    <tr>\n",
       "      <th>1</th>\n",
       "      <td>0.872958</td>\n",
       "      <td>0.002187</td>\n",
       "      <td>0.831666</td>\n",
       "      <td>0.004109</td>\n",
       "    </tr>\n",
       "    <tr>\n",
       "      <th>2</th>\n",
       "      <td>0.879817</td>\n",
       "      <td>0.001506</td>\n",
       "      <td>0.836776</td>\n",
       "      <td>0.005321</td>\n",
       "    </tr>\n",
       "    <tr>\n",
       "      <th>3</th>\n",
       "      <td>0.884087</td>\n",
       "      <td>0.002211</td>\n",
       "      <td>0.838199</td>\n",
       "      <td>0.005545</td>\n",
       "    </tr>\n",
       "    <tr>\n",
       "      <th>4</th>\n",
       "      <td>0.888099</td>\n",
       "      <td>0.002316</td>\n",
       "      <td>0.840862</td>\n",
       "      <td>0.006667</td>\n",
       "    </tr>\n",
       "    <tr>\n",
       "      <th>5</th>\n",
       "      <td>0.890920</td>\n",
       "      <td>0.002014</td>\n",
       "      <td>0.841520</td>\n",
       "      <td>0.005769</td>\n",
       "    </tr>\n",
       "    <tr>\n",
       "      <th>6</th>\n",
       "      <td>0.893914</td>\n",
       "      <td>0.001330</td>\n",
       "      <td>0.842223</td>\n",
       "      <td>0.005199</td>\n",
       "    </tr>\n",
       "    <tr>\n",
       "      <th>7</th>\n",
       "      <td>0.896395</td>\n",
       "      <td>0.002359</td>\n",
       "      <td>0.842609</td>\n",
       "      <td>0.005717</td>\n",
       "    </tr>\n",
       "    <tr>\n",
       "      <th>8</th>\n",
       "      <td>0.897477</td>\n",
       "      <td>0.002852</td>\n",
       "      <td>0.842670</td>\n",
       "      <td>0.005631</td>\n",
       "    </tr>\n",
       "    <tr>\n",
       "      <th>9</th>\n",
       "      <td>0.900422</td>\n",
       "      <td>0.002209</td>\n",
       "      <td>0.842716</td>\n",
       "      <td>0.005787</td>\n",
       "    </tr>\n",
       "  </tbody>\n",
       "</table>\n",
       "</div>"
      ],
      "text/plain": [
       "   train-auc-mean  train-auc-std  test-auc-mean  test-auc-std\n",
       "0        0.858413       0.002187       0.821862      0.005628\n",
       "1        0.872958       0.002187       0.831666      0.004109\n",
       "2        0.879817       0.001506       0.836776      0.005321\n",
       "3        0.884087       0.002211       0.838199      0.005545\n",
       "4        0.888099       0.002316       0.840862      0.006667\n",
       "5        0.890920       0.002014       0.841520      0.005769\n",
       "6        0.893914       0.001330       0.842223      0.005199\n",
       "7        0.896395       0.002359       0.842609      0.005717\n",
       "8        0.897477       0.002852       0.842670      0.005631\n",
       "9        0.900422       0.002209       0.842716      0.005787"
      ]
     },
     "execution_count": 9,
     "metadata": {},
     "output_type": "execute_result"
    }
   ],
   "source": [
    "PARAMETERS={\"objective\":'binary:logistic',\"eval_metric\":\"auc\",\"learning_rate\": 0.5}\n",
    "xgb_helper(PARAMETERS)"
   ]
  },
  {
   "cell_type": "markdown",
   "id": "29f05dbf",
   "metadata": {
    "papermill": {
     "duration": 0.014413,
     "end_time": "2022-08-18T14:53:21.272070",
     "exception": false,
     "start_time": "2022-08-18T14:53:21.257657",
     "status": "completed"
    },
    "tags": []
   },
   "source": [
    "### Pointers:\n",
    "- A good starting Classifier, with **train-auc-mean of 0.900422, test-auc-mean of 0.842716. Let;s keep tuning and reduce overfitting.**"
   ]
  },
  {
   "cell_type": "markdown",
   "id": "24cc62f9",
   "metadata": {
    "papermill": {
     "duration": 0.015261,
     "end_time": "2022-08-18T14:53:21.301964",
     "exception": false,
     "start_time": "2022-08-18T14:53:21.286703",
     "status": "completed"
    },
    "tags": []
   },
   "source": [
    "<div style=\"padding:10px;color:black;padding-left: 45px;font-size:150%;text-align:left;display:fill;border-radius:5px;background-color:#f5f2f2;overflow:hidden;font-weight:500\"><b>  2. Using CV, tune max_depth and min_child_weight next.</b></div></br>"
   ]
  },
  {
   "cell_type": "markdown",
   "id": "86313925",
   "metadata": {
    "papermill": {
     "duration": 0.014884,
     "end_time": "2022-08-18T14:53:21.332609",
     "exception": false,
     "start_time": "2022-08-18T14:53:21.317725",
     "status": "completed"
    },
    "tags": []
   },
   "source": [
    "<div style=\"padding:6px;color:black;padding-left: 60px;font-size:120%;text-align:left;display:fill;border-radius:5px;background-color:#f5f2f2;overflow:hidden;font-weight:500\"><b>  2.1. Tuning max_depth.</b></div></br>\n",
    "\n",
    "**Tips:** Keep it around 3-10."
   ]
  },
  {
   "cell_type": "code",
   "execution_count": 10,
   "id": "a5e392d0",
   "metadata": {
    "execution": {
     "iopub.execute_input": "2022-08-18T14:53:21.363603Z",
     "iopub.status.busy": "2022-08-18T14:53:21.363298Z",
     "iopub.status.idle": "2022-08-18T14:53:23.223686Z",
     "shell.execute_reply": "2022-08-18T14:53:23.222446Z"
    },
    "papermill": {
     "duration": 1.879122,
     "end_time": "2022-08-18T14:53:23.227003",
     "exception": false,
     "start_time": "2022-08-18T14:53:21.347881",
     "status": "completed"
    },
    "tags": []
   },
   "outputs": [
    {
     "name": "stdout",
     "output_type": "stream",
     "text": [
      "   max_depth                                       auc\n",
      "0          3  (0.8643899441624237, 0.8434407018878254)\n",
      "1          4  (0.8762391828253827, 0.8432457875673736)\n",
      "2          5  (0.8898517716460612, 0.8449580853400329)\n",
      "3          6  (0.9004222967227931, 0.8427158084686912)\n",
      "4          7  (0.9107993432039982, 0.8379593667718235)\n",
      "5          8  (0.9233976130022082, 0.8309442810154544)\n",
      "6          9  (0.9331601626845524, 0.8328975608830239)\n"
     ]
    }
   ],
   "source": [
    "PARAMETERS={\"objective\":'binary:logistic',\"eval_metric\":\"auc\",\"learning_rate\": 0.5}\n",
    "V_PARAM_NAME=\"max_depth\"\n",
    "V_PARAM_VALUES=range(3,10,1)\n",
    "\n",
    "data=xgb_helper(PARAMETERS,V_PARAM_NAME=V_PARAM_NAME,V_PARAM_VALUES=V_PARAM_VALUES);"
   ]
  },
  {
   "cell_type": "markdown",
   "id": "e451effd",
   "metadata": {
    "papermill": {
     "duration": 0.015313,
     "end_time": "2022-08-18T14:53:23.258528",
     "exception": false,
     "start_time": "2022-08-18T14:53:23.243215",
     "status": "completed"
    },
    "tags": []
   },
   "source": [
    "### Pointers:\n",
    "- Taking max_depth 5, as per the score."
   ]
  },
  {
   "cell_type": "markdown",
   "id": "3c55b553",
   "metadata": {
    "papermill": {
     "duration": 0.015574,
     "end_time": "2022-08-18T14:53:23.290298",
     "exception": false,
     "start_time": "2022-08-18T14:53:23.274724",
     "status": "completed"
    },
    "tags": []
   },
   "source": [
    "<div style=\"padding:6px;color:black;padding-left: 60px;font-size:120%;text-align:left;display:fill;border-radius:5px;background-color:#f5f2f2;overflow:hidden;font-weight:500\">\n",
    "<b>  2.2. Tuning min_child_weigh.</b></div></br>\n",
    "\n",
    "**Tips:** Keep it small for imbalanced datasets,good for balanced"
   ]
  },
  {
   "cell_type": "code",
   "execution_count": 11,
   "id": "6086d8a8",
   "metadata": {
    "execution": {
     "iopub.execute_input": "2022-08-18T14:53:23.321899Z",
     "iopub.status.busy": "2022-08-18T14:53:23.320963Z",
     "iopub.status.idle": "2022-08-18T14:53:24.390042Z",
     "shell.execute_reply": "2022-08-18T14:53:24.388771Z"
    },
    "papermill": {
     "duration": 1.087993,
     "end_time": "2022-08-18T14:53:24.393188",
     "exception": false,
     "start_time": "2022-08-18T14:53:23.305195",
     "status": "completed"
    },
    "tags": []
   },
   "outputs": [
    {
     "name": "stdout",
     "output_type": "stream",
     "text": [
      "   min_child_weight                                       auc\n",
      "0                 0  (0.8923932136315347, 0.8400307515925263)\n",
      "1                 1  (0.8898517716460612, 0.8449580853400329)\n",
      "2                 2  (0.8878844356167308, 0.8430174554684318)\n",
      "3                 3   (0.8842988914848681, 0.842868768786811)\n",
      "4                 4  (0.8841976959835126, 0.8426672020116197)\n"
     ]
    }
   ],
   "source": [
    "PARAMETERS={\"objective\":'binary:logistic',\"eval_metric\":\"auc\",\"learning_rate\": 0.5,\"max_depth\":5}\n",
    "V_PARAM_NAME=\"min_child_weight\"\n",
    "V_PARAM_VALUES=range(0,5,1)\n",
    "\n",
    "data=xgb_helper(PARAMETERS,V_PARAM_NAME=V_PARAM_NAME,V_PARAM_VALUES=V_PARAM_VALUES);"
   ]
  },
  {
   "cell_type": "markdown",
   "id": "880e7e95",
   "metadata": {
    "papermill": {
     "duration": 0.014992,
     "end_time": "2022-08-18T14:53:24.424983",
     "exception": false,
     "start_time": "2022-08-18T14:53:24.409991",
     "status": "completed"
    },
    "tags": []
   },
   "source": [
    "### Pointers:\n",
    "- Taking min_child_weight 1, as per the score."
   ]
  },
  {
   "cell_type": "markdown",
   "id": "7859664f",
   "metadata": {
    "papermill": {
     "duration": 0.014691,
     "end_time": "2022-08-18T14:53:24.454346",
     "exception": false,
     "start_time": "2022-08-18T14:53:24.439655",
     "status": "completed"
    },
    "tags": []
   },
   "source": [
    "<div style=\"padding:10px;color:black;padding-left: 45px;font-size:150%;text-align:left;display:fill;border-radius:5px;background-color:#f5f2f2;overflow:hidden;font-weight:500\"><b>  3. Its time for gamma.</b></div></br>\n",
    "\n",
    "**Tips:** Keep it small like 0.1-0.2 forstarting. Will be tuned later."
   ]
  },
  {
   "cell_type": "code",
   "execution_count": 12,
   "id": "18e2ac99",
   "metadata": {
    "execution": {
     "iopub.execute_input": "2022-08-18T14:53:24.486164Z",
     "iopub.status.busy": "2022-08-18T14:53:24.485844Z",
     "iopub.status.idle": "2022-08-18T14:53:26.242729Z",
     "shell.execute_reply": "2022-08-18T14:53:26.241857Z"
    },
    "papermill": {
     "duration": 1.775137,
     "end_time": "2022-08-18T14:53:26.244842",
     "exception": false,
     "start_time": "2022-08-18T14:53:24.469705",
     "status": "completed"
    },
    "tags": []
   },
   "outputs": [
    {
     "name": "stdout",
     "output_type": "stream",
     "text": [
      "   gamma                                       auc\n",
      "0    0.1   (0.889994877151358, 0.8443115370456209)\n",
      "1    0.2  (0.8908020107961383, 0.8447684831269007)\n",
      "2    0.5   (0.888948000423167, 0.8450077335411604)\n",
      "3    1.0   (0.888184172336776, 0.8451616022595031)\n",
      "4    1.5  (0.8875863399894248, 0.8435783340359313)\n",
      "5    2.0  (0.8861811009373095, 0.8449147712912233)\n"
     ]
    }
   ],
   "source": [
    "PARAMETERS={\"objective\":'binary:logistic',\"eval_metric\":\"auc\",\"learning_rate\": 0.5,\"max_depth\":5,\"min_child_weight\":1}\n",
    "V_PARAM_NAME = \"gamma\"\n",
    "V_PARAM_VALUES = [0.1,0.2,0.5,1,1.5,2]\n",
    "\n",
    "data=xgb_helper(PARAMETERS,V_PARAM_NAME=V_PARAM_NAME,V_PARAM_VALUES=V_PARAM_VALUES);"
   ]
  },
  {
   "cell_type": "markdown",
   "id": "29ad2876",
   "metadata": {
    "papermill": {
     "duration": 0.01465,
     "end_time": "2022-08-18T14:53:26.275702",
     "exception": false,
     "start_time": "2022-08-18T14:53:26.261052",
     "status": "completed"
    },
    "tags": []
   },
   "source": [
    "### Pointers:\n",
    "- Taking gamma t 1, as per the score."
   ]
  },
  {
   "cell_type": "markdown",
   "id": "37c331e1",
   "metadata": {
    "papermill": {
     "duration": 0.014851,
     "end_time": "2022-08-18T14:53:26.305542",
     "exception": false,
     "start_time": "2022-08-18T14:53:26.290691",
     "status": "completed"
    },
    "tags": []
   },
   "source": [
    "<div style=\"padding:10px;color:black;padding-left: 45px;font-size:150%;text-align:left;display:fill;border-radius:5px;background-color:#f5f2f2;overflow:hidden;font-weight:500\"><b>  4. Tune subsample and colsample_bytree.</b></div></br>"
   ]
  },
  {
   "cell_type": "markdown",
   "id": "ea5f6600",
   "metadata": {
    "papermill": {
     "duration": 0.014468,
     "end_time": "2022-08-18T14:53:26.335446",
     "exception": false,
     "start_time": "2022-08-18T14:53:26.320978",
     "status": "completed"
    },
    "tags": []
   },
   "source": [
    "<div style=\"padding:6px;color:black;padding-left: 60px;font-size:120%;text-align:left;display:fill;border-radius:5px;background-color:#f5f2f2;overflow:hidden;font-weight:500\">\n",
    "<b>  4.1. Tuning subsample.</b></div></br>\n",
    "\n",
    "**Tips:** Keep it small in range 0.5-0.9."
   ]
  },
  {
   "cell_type": "code",
   "execution_count": 13,
   "id": "711a92c6",
   "metadata": {
    "execution": {
     "iopub.execute_input": "2022-08-18T14:53:26.366207Z",
     "iopub.status.busy": "2022-08-18T14:53:26.365815Z",
     "iopub.status.idle": "2022-08-18T14:53:27.809066Z",
     "shell.execute_reply": "2022-08-18T14:53:27.807392Z"
    },
    "papermill": {
     "duration": 1.462079,
     "end_time": "2022-08-18T14:53:27.812150",
     "exception": false,
     "start_time": "2022-08-18T14:53:26.350071",
     "status": "completed"
    },
    "tags": []
   },
   "outputs": [
    {
     "name": "stdout",
     "output_type": "stream",
     "text": [
      "   subsample                                       auc\n",
      "0        0.4    (0.8749532101660904, 0.83281692487631)\n",
      "1        0.5  (0.8789542430190034, 0.8356286366243391)\n",
      "2        0.6  (0.8804439995005579, 0.8371190653296372)\n",
      "3        0.7  (0.8852418637174774, 0.8388110573107215)\n",
      "4        0.8  (0.8868771320489373, 0.8385871061415084)\n",
      "5        0.9  (0.8880784719598278, 0.8414592031099557)\n"
     ]
    }
   ],
   "source": [
    "PARAMETERS={\"objective\":'binary:logistic',\"eval_metric\":\"auc\",\"learning_rate\": 0.5,\"max_depth\":5,\"min_child_weight\":1,\"gamma\":1}\n",
    "V_PARAM_NAME = \"subsample\"\n",
    "V_PARAM_VALUES = [.4,.5,.6,.7,.8,.9]\n",
    "\n",
    "data=xgb_helper(PARAMETERS,V_PARAM_NAME=V_PARAM_NAME,V_PARAM_VALUES=V_PARAM_VALUES);"
   ]
  },
  {
   "cell_type": "markdown",
   "id": "7813cf9d",
   "metadata": {
    "papermill": {
     "duration": 0.015725,
     "end_time": "2022-08-18T14:53:27.844270",
     "exception": false,
     "start_time": "2022-08-18T14:53:27.828545",
     "status": "completed"
    },
    "tags": []
   },
   "source": [
    "### Pointers:\n",
    "- Taking 0.7"
   ]
  },
  {
   "cell_type": "markdown",
   "id": "7e3efad1",
   "metadata": {
    "papermill": {
     "duration": 0.014814,
     "end_time": "2022-08-18T14:53:27.874603",
     "exception": false,
     "start_time": "2022-08-18T14:53:27.859789",
     "status": "completed"
    },
    "tags": []
   },
   "source": [
    "<div style=\"padding:6px;color:black;padding-left: 60px;font-size:120%;text-align:left;display:fill;border-radius:5px;background-color:#f5f2f2;overflow:hidden;font-weight:500\">\n",
    "<b>  4.2. Tune colsample_bytree.</b></div></br>\n",
    "\n",
    "**Tips:** Keep it small in range 0.5-0.9."
   ]
  },
  {
   "cell_type": "code",
   "execution_count": 14,
   "id": "b39ac3f6",
   "metadata": {
    "execution": {
     "iopub.execute_input": "2022-08-18T14:53:27.905753Z",
     "iopub.status.busy": "2022-08-18T14:53:27.905430Z",
     "iopub.status.idle": "2022-08-18T14:53:29.178197Z",
     "shell.execute_reply": "2022-08-18T14:53:29.176956Z"
    },
    "papermill": {
     "duration": 1.291707,
     "end_time": "2022-08-18T14:53:29.181479",
     "exception": false,
     "start_time": "2022-08-18T14:53:27.889772",
     "status": "completed"
    },
    "tags": []
   },
   "outputs": [
    {
     "name": "stdout",
     "output_type": "stream",
     "text": [
      "   colsample_bytree                                       auc\n",
      "0               0.4   (0.8737438808751801, 0.831927418798438)\n",
      "1               0.5  (0.8781175336774438, 0.8371252843166564)\n",
      "2               0.6  (0.8793282404547682, 0.8362558750372221)\n",
      "3               0.7  (0.8815593124156965, 0.8382064256388843)\n",
      "4               0.8  (0.8818068187259996, 0.8414608580897104)\n",
      "5               0.9  (0.8824219339976163, 0.8391185793280422)\n"
     ]
    }
   ],
   "source": [
    "PARAMETERS={\"objective\":'binary:logistic',\"eval_metric\":\"auc\",\"learning_rate\": 0.5,\"max_depth\":5,\"min_child_weight\":1,\"gamma\":1,\"subsample\":0.7}\n",
    "V_PARAM_NAME = \"colsample_bytree\"\n",
    "V_PARAM_VALUES = [.4,.5,.6,.7,.8,.9]\n",
    "\n",
    "data=xgb_helper(PARAMETERS,V_PARAM_NAME=V_PARAM_NAME,V_PARAM_VALUES=V_PARAM_VALUES);"
   ]
  },
  {
   "cell_type": "markdown",
   "id": "f8f001bb",
   "metadata": {
    "papermill": {
     "duration": 0.015615,
     "end_time": "2022-08-18T14:53:29.214542",
     "exception": false,
     "start_time": "2022-08-18T14:53:29.198927",
     "status": "completed"
    },
    "tags": []
   },
   "source": [
    "### Pointers:\n",
    "- Taking 0.8"
   ]
  },
  {
   "cell_type": "markdown",
   "id": "febebead",
   "metadata": {
    "papermill": {
     "duration": 0.014776,
     "end_time": "2022-08-18T14:53:29.244610",
     "exception": false,
     "start_time": "2022-08-18T14:53:29.229834",
     "status": "completed"
    },
    "tags": []
   },
   "source": [
    "<div style=\"padding:6px;color:black;padding-left: 60px;font-size:120%;text-align:left;display:fill;border-radius:5px;background-color:#f5f2f2;overflow:hidden;font-weight:500\">\n",
    "<b>  4.3. Tune scale_pos_weight.</b></div></br>\n",
    "\n",
    "**Tips:** Based on class imbalance."
   ]
  },
  {
   "cell_type": "code",
   "execution_count": 15,
   "id": "e87e7642",
   "metadata": {
    "execution": {
     "iopub.execute_input": "2022-08-18T14:53:29.276960Z",
     "iopub.status.busy": "2022-08-18T14:53:29.275963Z",
     "iopub.status.idle": "2022-08-18T14:53:29.969824Z",
     "shell.execute_reply": "2022-08-18T14:53:29.968326Z"
    },
    "papermill": {
     "duration": 0.713093,
     "end_time": "2022-08-18T14:53:29.972817",
     "exception": false,
     "start_time": "2022-08-18T14:53:29.259724",
     "status": "completed"
    },
    "tags": []
   },
   "outputs": [
    {
     "name": "stdout",
     "output_type": "stream",
     "text": [
      "   scale_pos_weight                                       auc\n",
      "0               0.5  (0.8793958985004761, 0.8381736971719818)\n",
      "1               1.0  (0.8818068187259996, 0.8414608580897104)\n",
      "2               2.0  (0.8810854054804358, 0.8366761184232949)\n"
     ]
    }
   ],
   "source": [
    "PARAMETERS={\"objective\":'binary:logistic',\"eval_metric\":\"auc\",\"learning_rate\": 0.5,\"max_depth\":5,\"min_child_weight\":1,\n",
    "            \"gamma\":1,\"subsample\":0.7,\"colsample_bytree\":.8}\n",
    "\n",
    "V_PARAM_NAME = \"scale_pos_weight\"\n",
    "V_PARAM_VALUES = [.5,1,2]\n",
    "\n",
    "data=xgb_helper(PARAMETERS,V_PARAM_NAME=V_PARAM_NAME,V_PARAM_VALUES=V_PARAM_VALUES);"
   ]
  },
  {
   "cell_type": "markdown",
   "id": "7da6885d",
   "metadata": {
    "papermill": {
     "duration": 0.016278,
     "end_time": "2022-08-18T14:53:30.007428",
     "exception": false,
     "start_time": "2022-08-18T14:53:29.991150",
     "status": "completed"
    },
    "tags": []
   },
   "source": [
    "### Pointers:\n",
    "- Taking 1"
   ]
  },
  {
   "cell_type": "markdown",
   "id": "2a3616db",
   "metadata": {
    "papermill": {
     "duration": 0.016408,
     "end_time": "2022-08-18T14:53:30.040966",
     "exception": false,
     "start_time": "2022-08-18T14:53:30.024558",
     "status": "completed"
    },
    "tags": []
   },
   "source": [
    "<div style=\"padding:10px;color:black;padding-left: 45px;font-size:150%;text-align:left;display:fill;border-radius:5px;background-color:#f5f2f2;overflow:hidden;font-weight:500\"><b>  5. Tuning Regularization Parameters (alpha,lambda).</b></div></br>"
   ]
  },
  {
   "cell_type": "markdown",
   "id": "7dff235c",
   "metadata": {
    "papermill": {
     "duration": 0.015868,
     "end_time": "2022-08-18T14:53:30.074554",
     "exception": false,
     "start_time": "2022-08-18T14:53:30.058686",
     "status": "completed"
    },
    "tags": []
   },
   "source": [
    "<div style=\"padding:6px;color:black;padding-left: 60px;font-size:120%;text-align:left;display:fill;border-radius:5px;background-color:#f5f2f2;overflow:hidden;font-weight:500\">\n",
    "<b>  5.1. Tune alpha.</b></div></br>\n",
    "\n",
    "**Tips:** Based on class imbalance."
   ]
  },
  {
   "cell_type": "code",
   "execution_count": 16,
   "id": "2e019c11",
   "metadata": {
    "execution": {
     "iopub.execute_input": "2022-08-18T14:53:30.110169Z",
     "iopub.status.busy": "2022-08-18T14:53:30.109763Z",
     "iopub.status.idle": "2022-08-18T14:53:34.891503Z",
     "shell.execute_reply": "2022-08-18T14:53:34.890411Z"
    },
    "papermill": {
     "duration": 4.802501,
     "end_time": "2022-08-18T14:53:34.894037",
     "exception": false,
     "start_time": "2022-08-18T14:53:30.091536",
     "status": "completed"
    },
    "tags": []
   },
   "outputs": [
    {
     "name": "stdout",
     "output_type": "stream",
     "text": [
      "    reg_alpha                                       auc\n",
      "0    0.001000  (0.8818047689235573, 0.8414642805838721)\n",
      "1    0.053579  (0.8822512519204411, 0.8400495473072034)\n",
      "2    0.106158  (0.8816533897741998, 0.8393925267300872)\n",
      "3    0.158737  (0.8817818509762845, 0.8406296490672798)\n",
      "4    0.211316  (0.8801161063692018, 0.8397169942954633)\n",
      "5    0.263895  (0.8812037168173367, 0.8392127901963959)\n",
      "6    0.316474  (0.8801615034837067, 0.8427679621158068)\n",
      "7    0.369053  (0.8805653368213827, 0.8404140823263765)\n",
      "8    0.421632  (0.8802277851530302, 0.8402395041940075)\n",
      "9    0.474211  (0.8803759440342087, 0.8421274755689788)\n",
      "10   0.526789  (0.8803912729575127, 0.8423146821519907)\n",
      "11   0.579368  (0.8801605635521235, 0.8414003162278721)\n",
      "12   0.631947  (0.8819615487131747, 0.8424679296448012)\n",
      "13   0.684526  (0.8812525217771652, 0.8419542782384447)\n",
      "14   0.737105  (0.8800798281136639, 0.8411308776060921)\n",
      "15   0.789684   (0.8791173070125374, 0.843057560946075)\n",
      "16   0.842263  (0.8800692484855718, 0.8442545484482243)\n",
      "17   0.894842  (0.8790444602851833, 0.8393354812370287)\n",
      "18   0.947421  (0.8796063533992223, 0.8406622971346293)\n",
      "19   1.000000   (0.8784791031845056, 0.841360884610965)\n"
     ]
    }
   ],
   "source": [
    "PARAMETERS={\"objective\":'binary:logistic',\"eval_metric\":\"auc\",\"learning_rate\": 0.5,\"max_depth\":5,\"min_child_weight\":1,\n",
    "            \"gamma\":1,\"subsample\":0.7,\"colsample_bytree\":.8, \"scale_pos_weight\":1}\n",
    "\n",
    "V_PARAM_NAME = \"reg_alpha\"\n",
    "V_PARAM_VALUES = np.linspace(start=0.001, stop=1, num=20).tolist()\n",
    "\n",
    "data=xgb_helper(PARAMETERS,V_PARAM_NAME=V_PARAM_NAME,V_PARAM_VALUES=V_PARAM_VALUES);"
   ]
  },
  {
   "cell_type": "markdown",
   "id": "5bc15df5",
   "metadata": {
    "papermill": {
     "duration": 0.017406,
     "end_time": "2022-08-18T14:53:34.930602",
     "exception": false,
     "start_time": "2022-08-18T14:53:34.913196",
     "status": "completed"
    },
    "tags": []
   },
   "source": [
    "### Pointers:\n",
    "- Taking .15"
   ]
  },
  {
   "cell_type": "markdown",
   "id": "9ea253df",
   "metadata": {
    "papermill": {
     "duration": 0.01689,
     "end_time": "2022-08-18T14:53:34.963546",
     "exception": false,
     "start_time": "2022-08-18T14:53:34.946656",
     "status": "completed"
    },
    "tags": []
   },
   "source": [
    "<div style=\"padding:6px;color:black;padding-left: 60px;font-size:120%;text-align:left;display:fill;border-radius:5px;background-color:#f5f2f2;overflow:hidden;font-weight:500\">\n",
    "<b>  5.2. Tune lambda.</b></div></br>\n",
    "\n",
    "**Tips:** Based on class imbalance."
   ]
  },
  {
   "cell_type": "code",
   "execution_count": 17,
   "id": "b781f4fd",
   "metadata": {
    "execution": {
     "iopub.execute_input": "2022-08-18T14:53:34.998570Z",
     "iopub.status.busy": "2022-08-18T14:53:34.998265Z",
     "iopub.status.idle": "2022-08-18T14:53:40.138429Z",
     "shell.execute_reply": "2022-08-18T14:53:40.137068Z"
    },
    "papermill": {
     "duration": 5.160952,
     "end_time": "2022-08-18T14:53:40.141414",
     "exception": false,
     "start_time": "2022-08-18T14:53:34.980462",
     "status": "completed"
    },
    "tags": []
   },
   "outputs": [
    {
     "name": "stdout",
     "output_type": "stream",
     "text": [
      "    reg_lambda                                       auc\n",
      "0     0.001000  (0.8842321498802038, 0.8369315944875698)\n",
      "1     0.053579  (0.8846942202574949, 0.8367595558776119)\n",
      "2     0.106158  (0.8842139683915015, 0.8376755628888233)\n",
      "3     0.158737  (0.8841648054675174, 0.8374257380594093)\n",
      "4     0.211316  (0.8846029132722426, 0.8409101483580509)\n",
      "5     0.263895  (0.8849316913321706, 0.8349999831449061)\n",
      "6     0.316474  (0.8827466914234432, 0.8407336856742689)\n",
      "7     0.369053  (0.8835788031788671, 0.8399715195787192)\n",
      "8     0.421632    (0.883240239698053, 0.839815382235226)\n",
      "9     0.474211  (0.8833454760444799, 0.8381444821333328)\n",
      "10    0.526789  (0.8817612864701729, 0.8376539639984177)\n",
      "11    0.579368  (0.8820436530763995, 0.8367212403795014)\n",
      "12    0.631947  (0.8814519611406787, 0.8389461863625524)\n",
      "13    0.684526  (0.8808375865994101, 0.8382765202241252)\n",
      "14    0.737105  (0.8809840506591808, 0.8395892670674611)\n",
      "15    0.789684  (0.8814380192185137, 0.8398002164520746)\n",
      "16    0.842263   (0.8822586609494353, 0.840774913104777)\n",
      "17    0.894842  (0.8812572158281702, 0.8421072055782199)\n",
      "18    0.947421  (0.8815423976980001, 0.8404889892591069)\n",
      "19    1.000000   (0.881010486305841, 0.8407738594877234)\n"
     ]
    }
   ],
   "source": [
    "PARAMETERS={\"objective\":'binary:logistic',\"eval_metric\":\"auc\",\"learning_rate\": 0.5,\"max_depth\":5,\"min_child_weight\":1,\n",
    "            \"gamma\":1,\"subsample\":0.7,\"colsample_bytree\":.8, \"scale_pos_weight\":1,\"reg_alpha\":0.15}\n",
    "\n",
    "V_PARAM_NAME = \"reg_lambda\"\n",
    "V_PARAM_VALUES = np.linspace(start=0.001, stop=1, num=20).tolist()\n",
    "\n",
    "data=xgb_helper(PARAMETERS,V_PARAM_NAME=V_PARAM_NAME,V_PARAM_VALUES=V_PARAM_VALUES);"
   ]
  },
  {
   "cell_type": "markdown",
   "id": "253b6c73",
   "metadata": {
    "papermill": {
     "duration": 0.015908,
     "end_time": "2022-08-18T14:53:40.174569",
     "exception": false,
     "start_time": "2022-08-18T14:53:40.158661",
     "status": "completed"
    },
    "tags": []
   },
   "source": [
    "### Pointers:\n",
    "- Taking 1"
   ]
  },
  {
   "cell_type": "markdown",
   "id": "1a220f88",
   "metadata": {
    "papermill": {
     "duration": 0.015057,
     "end_time": "2022-08-18T14:53:40.205454",
     "exception": false,
     "start_time": "2022-08-18T14:53:40.190397",
     "status": "completed"
    },
    "tags": []
   },
   "source": [
    "<div style=\"padding:10px;color:black;padding-left: 45px;font-size:150%;text-align:left;display:fill;border-radius:5px;background-color:#f5f2f2;overflow:hidden;font-weight:500\"><b>  6. Lastly, Reduce Learning Rate and add more trees</b></div></br>"
   ]
  },
  {
   "cell_type": "markdown",
   "id": "12942eb9",
   "metadata": {
    "papermill": {
     "duration": 0.015084,
     "end_time": "2022-08-18T14:53:40.235725",
     "exception": false,
     "start_time": "2022-08-18T14:53:40.220641",
     "status": "completed"
    },
    "tags": []
   },
   "source": [
    "<div style=\"padding:6px;color:black;padding-left: 60px;font-size:120%;text-align:left;display:fill;border-radius:5px;background-color:#f5f2f2;overflow:hidden;font-weight:500\">\n",
    "<b>  6.1. Reduce Learning rate.</b></div></br>"
   ]
  },
  {
   "cell_type": "code",
   "execution_count": 18,
   "id": "51715777",
   "metadata": {
    "execution": {
     "iopub.execute_input": "2022-08-18T14:53:40.268923Z",
     "iopub.status.busy": "2022-08-18T14:53:40.267876Z",
     "iopub.status.idle": "2022-08-18T14:53:42.578906Z",
     "shell.execute_reply": "2022-08-18T14:53:42.578073Z"
    },
    "papermill": {
     "duration": 2.330548,
     "end_time": "2022-08-18T14:53:42.581717",
     "exception": false,
     "start_time": "2022-08-18T14:53:40.251169",
     "status": "completed"
    },
    "tags": []
   },
   "outputs": [
    {
     "name": "stdout",
     "output_type": "stream",
     "text": [
      "   learning_rate                                       auc\n",
      "0       0.010000   (0.855713530270808, 0.8334207445339894)\n",
      "1       0.042222  (0.8587092932455096, 0.8348147563720609)\n",
      "2       0.074444   (0.862042487494276, 0.8357581120451331)\n",
      "3       0.106667  (0.8658326130454131, 0.8380194134948816)\n",
      "4       0.138889   (0.867456218936832, 0.8397551989588203)\n",
      "5       0.171111  (0.8710396787562106, 0.8411854139672925)\n",
      "6       0.203333   (0.873634746455022, 0.8417298506166315)\n",
      "7       0.235556  (0.8742498286647391, 0.8442379624397564)\n",
      "8       0.267778  (0.8758428845033487, 0.8421168040274616)\n",
      "9       0.300000  (0.8763744967034954, 0.8431341804372676)\n"
     ]
    }
   ],
   "source": [
    "PARAMETERS={\"objective\":'binary:logistic',\"eval_metric\":\"auc\",\"max_depth\":5,\"min_child_weight\":1,\n",
    "            \"gamma\":1,\"subsample\":0.7,\"colsample_bytree\":.8, \"scale_pos_weight\":1,\"reg_alpha\":0.15,\n",
    "           \"reg_lambda\":1}\n",
    "\n",
    "V_PARAM_NAME = \"learning_rate\"\n",
    "V_PARAM_VALUES = np.linspace(start=0.01, stop=0.3, num=10).tolist()\n",
    "\n",
    "data=xgb_helper(PARAMETERS,V_PARAM_NAME=V_PARAM_NAME,V_PARAM_VALUES=V_PARAM_VALUES);"
   ]
  },
  {
   "cell_type": "markdown",
   "id": "fd2c4c4a",
   "metadata": {
    "papermill": {
     "duration": 0.015733,
     "end_time": "2022-08-18T14:53:42.614515",
     "exception": false,
     "start_time": "2022-08-18T14:53:42.598782",
     "status": "completed"
    },
    "tags": []
   },
   "source": [
    "### Pointers:\n",
    "- Taking .3"
   ]
  },
  {
   "cell_type": "markdown",
   "id": "58a3a95d",
   "metadata": {
    "papermill": {
     "duration": 0.015694,
     "end_time": "2022-08-18T14:53:42.646120",
     "exception": false,
     "start_time": "2022-08-18T14:53:42.630426",
     "status": "completed"
    },
    "tags": []
   },
   "source": [
    "<div style=\"padding:10px;color:black;padding-left: 45px;font-size:150%;text-align:left;display:fill;border-radius:5px;background-color:#f5f2f2;overflow:hidden;font-weight:500\"><b>  Full Model</b></div></br>"
   ]
  },
  {
   "cell_type": "code",
   "execution_count": 19,
   "id": "066be2f6",
   "metadata": {
    "execution": {
     "iopub.execute_input": "2022-08-18T14:53:42.679106Z",
     "iopub.status.busy": "2022-08-18T14:53:42.678785Z",
     "iopub.status.idle": "2022-08-18T14:53:44.207045Z",
     "shell.execute_reply": "2022-08-18T14:53:44.206041Z"
    },
    "papermill": {
     "duration": 1.547788,
     "end_time": "2022-08-18T14:53:44.209824",
     "exception": false,
     "start_time": "2022-08-18T14:53:42.662036",
     "status": "completed"
    },
    "tags": []
   },
   "outputs": [],
   "source": [
    "PARAMETERS={\"objective\":'binary:logistic',\"eval_metric\":\"auc\",\"max_depth\":5,\"min_child_weight\":1,\n",
    "            \"gamma\":1,\"subsample\":0.7,\"colsample_bytree\":.8, \"scale_pos_weight\":1,\"reg_alpha\":0.15,\n",
    "           \"reg_lambda\":1,\"learning_rate\": 0.3}\n",
    "\n",
    "clf = xgb.XGBClassifier( tree_method=\"gpu_hist\",objective=\"binary:logistic\",eval_metric=\"auc\",max_depth=5,min_child_weight=1,\n",
    "            gamma=1,subsample=0.7,colsample_bytree=.8, scale_pos_weight=1,reg_alpha=0.15,\n",
    "           reg_lambda=1,learning_rate= 0.3,n_estimators=800)\n",
    "\n",
    "clf.fit(X_train,y_train)\n",
    "\n",
    "clf.save_model(\"categorical-model.json\")"
   ]
  },
  {
   "cell_type": "code",
   "execution_count": 20,
   "id": "7cc5eef1",
   "metadata": {
    "execution": {
     "iopub.execute_input": "2022-08-18T14:53:44.243116Z",
     "iopub.status.busy": "2022-08-18T14:53:44.242729Z",
     "iopub.status.idle": "2022-08-18T14:53:44.259242Z",
     "shell.execute_reply": "2022-08-18T14:53:44.258584Z"
    },
    "papermill": {
     "duration": 0.035417,
     "end_time": "2022-08-18T14:53:44.261256",
     "exception": false,
     "start_time": "2022-08-18T14:53:44.225839",
     "status": "completed"
    },
    "tags": []
   },
   "outputs": [],
   "source": [
    "pred = clf.predict(X_test)"
   ]
  },
  {
   "cell_type": "code",
   "execution_count": 21,
   "id": "da59ea38",
   "metadata": {
    "execution": {
     "iopub.execute_input": "2022-08-18T14:53:44.296702Z",
     "iopub.status.busy": "2022-08-18T14:53:44.296423Z",
     "iopub.status.idle": "2022-08-18T14:53:44.308821Z",
     "shell.execute_reply": "2022-08-18T14:53:44.307206Z"
    },
    "papermill": {
     "duration": 0.031653,
     "end_time": "2022-08-18T14:53:44.311137",
     "exception": false,
     "start_time": "2022-08-18T14:53:44.279484",
     "status": "completed"
    },
    "tags": []
   },
   "outputs": [
    {
     "name": "stdout",
     "output_type": "stream",
     "text": [
      "              precision    recall  f1-score   support\n",
      "\n",
      "           0       0.81      0.72      0.76       673\n",
      "           1       0.75      0.83      0.79       680\n",
      "\n",
      "    accuracy                           0.78      1353\n",
      "   macro avg       0.78      0.78      0.78      1353\n",
      "weighted avg       0.78      0.78      0.78      1353\n",
      "\n"
     ]
    }
   ],
   "source": [
    "from sklearn.metrics import classification_report\n",
    "print(classification_report(y_test, pred, target_names=[\"0\",\"1\"]))"
   ]
  },
  {
   "cell_type": "code",
   "execution_count": 22,
   "id": "a117c4a2",
   "metadata": {
    "execution": {
     "iopub.execute_input": "2022-08-18T14:53:44.343748Z",
     "iopub.status.busy": "2022-08-18T14:53:44.343485Z",
     "iopub.status.idle": "2022-08-18T14:53:44.571912Z",
     "shell.execute_reply": "2022-08-18T14:53:44.570932Z"
    },
    "papermill": {
     "duration": 0.246578,
     "end_time": "2022-08-18T14:53:44.573937",
     "exception": false,
     "start_time": "2022-08-18T14:53:44.327359",
     "status": "completed"
    },
    "tags": []
   },
   "outputs": [
    {
     "data": {
      "text/plain": [
       "<sklearn.metrics._plot.roc_curve.RocCurveDisplay at 0x7fcebc0f5350>"
      ]
     },
     "execution_count": 22,
     "metadata": {},
     "output_type": "execute_result"
    },
    {
     "data": {
      "image/png": "[encoded data removed]",
      "text/plain": [
       "<Figure size 432x288 with 1 Axes>"
      ]
     },
     "metadata": {
      "needs_background": "light"
     },
     "output_type": "display_data"
    }
   ],
   "source": [
    "from sklearn.metrics import plot_roc_curve\n",
    "plot_roc_curve(clf, X_test, y_test)"
   ]
  },
  {
   "cell_type": "code",
   "execution_count": 23,
   "id": "3d2dc94b",
   "metadata": {
    "execution": {
     "iopub.execute_input": "2022-08-18T14:53:44.608882Z",
     "iopub.status.busy": "2022-08-18T14:53:44.607964Z",
     "iopub.status.idle": "2022-08-18T14:53:44.616020Z",
     "shell.execute_reply": "2022-08-18T14:53:44.614977Z"
    },
    "papermill": {
     "duration": 0.027426,
     "end_time": "2022-08-18T14:53:44.618074",
     "exception": false,
     "start_time": "2022-08-18T14:53:44.590648",
     "status": "completed"
    },
    "tags": []
   },
   "outputs": [
    {
     "data": {
      "text/plain": [
       "0.7765033650904642"
      ]
     },
     "execution_count": 23,
     "metadata": {},
     "output_type": "execute_result"
    }
   ],
   "source": [
    "from sklearn.metrics import roc_auc_score\n",
    "roc_auc_score(y_test,pred)"
   ]
  },
  {
   "cell_type": "code",
   "execution_count": 24,
   "id": "a73af5c8",
   "metadata": {
    "execution": {
     "iopub.execute_input": "2022-08-18T14:53:44.651979Z",
     "iopub.status.busy": "2022-08-18T14:53:44.651113Z",
     "iopub.status.idle": "2022-08-18T14:53:46.786038Z",
     "shell.execute_reply": "2022-08-18T14:53:46.784842Z"
    },
    "papermill": {
     "duration": 2.154431,
     "end_time": "2022-08-18T14:53:46.788797",
     "exception": false,
     "start_time": "2022-08-18T14:53:44.634366",
     "status": "completed"
    },
    "tags": []
   },
   "outputs": [
    {
     "data": {
      "image/png": "[encoded data removed]",
      "text/plain": [
       "<Figure size 432x288 with 1 Axes>"
      ]
     },
     "metadata": {
      "needs_background": "light"
     },
     "output_type": "display_data"
    }
   ],
   "source": [
    "# Get a graph\n",
    "graph = xgb.to_graphviz(clf, num_trees=1)\n",
    "# Or get a matplotlib axis\n",
    "ax = xgb.plot_tree(clf, num_trees=1)\n",
    "# Get feature importances\n",
    "plt.show()"
   ]
  },
  {
   "cell_type": "markdown",
   "id": "115007b0",
   "metadata": {
    "papermill": {
     "duration": 0.019888,
     "end_time": "2022-08-18T14:53:46.826824",
     "exception": false,
     "start_time": "2022-08-18T14:53:46.806936",
     "status": "completed"
    },
    "tags": []
   },
   "source": [
    "---"
   ]
  },
  {
   "cell_type": "markdown",
   "id": "6658dba7",
   "metadata": {
    "papermill": {
     "duration": 0.016707,
     "end_time": "2022-08-18T14:53:46.860496",
     "exception": false,
     "start_time": "2022-08-18T14:53:46.843789",
     "status": "completed"
    },
    "tags": []
   },
   "source": [
    "---"
   ]
  },
  {
   "cell_type": "markdown",
   "id": "9415ed40",
   "metadata": {
    "papermill": {
     "duration": 0.016218,
     "end_time": "2022-08-18T14:53:46.893417",
     "exception": false,
     "start_time": "2022-08-18T14:53:46.877199",
     "status": "completed"
    },
    "tags": []
   },
   "source": [
    "<div style=\"padding:20px;color:black;margin:0;font-size:200%;text-align:center;display:fill;border-radius:5px;background-color:#d9d9d9;overflow:hidden;font-weight:500\">Which parameter does what?</div>"
   ]
  },
  {
   "cell_type": "markdown",
   "id": "9235c274",
   "metadata": {
    "papermill": {
     "duration": 0.015888,
     "end_time": "2022-08-18T14:53:46.926836",
     "exception": false,
     "start_time": "2022-08-18T14:53:46.910948",
     "status": "completed"
    },
    "tags": []
   },
   "source": [
    "# 5. Which parameter does what?\n",
    "\n",
    "<div style=\"padding:10px;color:black;margin:0;font-size:150%;text-align:center;display:fill;border-radius:5px;background-color:#f5f2f2;overflow:hidden;font-weight:500\"><b>Control Overfitting</b></div></br>\n",
    "\n",
    "\n",
    "When you observe high training accuracy, but low test accuracy, it is likely that you encountered overfitting problem.\n",
    "There are in general two ways that you can control overfitting in XGBoost:\n",
    "- **The first way is to directly control model complexity.**\n",
    "  - This includes **max_depth, min_child_weight** and **gamma**.\n",
    "  \n",
    "  \n",
    "- **The second way is to add randomness to make training robust to noise.**\n",
    "  - This includes **subsample** and **colsample_bytree**.\n",
    "  - You can also reduce stepsize **eta**. Remember to increase **num_round** when you do so."
   ]
  },
  {
   "cell_type": "markdown",
   "id": "78dcb5db",
   "metadata": {
    "papermill": {
     "duration": 0.016162,
     "end_time": "2022-08-18T14:53:46.959229",
     "exception": false,
     "start_time": "2022-08-18T14:53:46.943067",
     "status": "completed"
    },
    "tags": []
   },
   "source": [
    "<div style=\"padding:10px;color:black;margin:0;font-size:120%;text-align:center;display:fill;border-radius:5px;background-color:#f5f2f2;overflow:hidden;font-weight:500\"><b>Control Overfitting - Code Example : Method 1</b></div></br>"
   ]
  },
  {
   "cell_type": "markdown",
   "id": "bfdf6c2f",
   "metadata": {
    "papermill": {
     "duration": 0.016064,
     "end_time": "2022-08-18T14:53:46.991677",
     "exception": false,
     "start_time": "2022-08-18T14:53:46.975613",
     "status": "completed"
    },
    "tags": []
   },
   "source": [
    "### Normal Condition"
   ]
  },
  {
   "cell_type": "code",
   "execution_count": 25,
   "id": "f9c36674",
   "metadata": {
    "execution": {
     "iopub.execute_input": "2022-08-18T14:53:47.026415Z",
     "iopub.status.busy": "2022-08-18T14:53:47.025992Z",
     "iopub.status.idle": "2022-08-18T14:53:47.330927Z",
     "shell.execute_reply": "2022-08-18T14:53:47.330009Z"
    },
    "papermill": {
     "duration": 0.325345,
     "end_time": "2022-08-18T14:53:47.333548",
     "exception": false,
     "start_time": "2022-08-18T14:53:47.008203",
     "status": "completed"
    },
    "tags": []
   },
   "outputs": [
    {
     "data": {
      "text/html": [
       "<div>\n",
       "<style scoped>\n",
       "    .dataframe tbody tr th:only-of-type {\n",
       "        vertical-align: middle;\n",
       "    }\n",
       "\n",
       "    .dataframe tbody tr th {\n",
       "        vertical-align: top;\n",
       "    }\n",
       "\n",
       "    .dataframe thead th {\n",
       "        text-align: right;\n",
       "    }\n",
       "</style>\n",
       "<table border=\"1\" class=\"dataframe\">\n",
       "  <thead>\n",
       "    <tr style=\"text-align: right;\">\n",
       "      <th></th>\n",
       "      <th>train-auc-mean</th>\n",
       "      <th>train-auc-std</th>\n",
       "      <th>test-auc-mean</th>\n",
       "      <th>test-auc-std</th>\n",
       "    </tr>\n",
       "  </thead>\n",
       "  <tbody>\n",
       "    <tr>\n",
       "      <th>0</th>\n",
       "      <td>0.858413</td>\n",
       "      <td>0.002187</td>\n",
       "      <td>0.821862</td>\n",
       "      <td>0.005628</td>\n",
       "    </tr>\n",
       "    <tr>\n",
       "      <th>1</th>\n",
       "      <td>0.870282</td>\n",
       "      <td>0.001689</td>\n",
       "      <td>0.828690</td>\n",
       "      <td>0.004939</td>\n",
       "    </tr>\n",
       "    <tr>\n",
       "      <th>2</th>\n",
       "      <td>0.876322</td>\n",
       "      <td>0.000856</td>\n",
       "      <td>0.835879</td>\n",
       "      <td>0.002703</td>\n",
       "    </tr>\n",
       "    <tr>\n",
       "      <th>3</th>\n",
       "      <td>0.880106</td>\n",
       "      <td>0.001456</td>\n",
       "      <td>0.838758</td>\n",
       "      <td>0.004261</td>\n",
       "    </tr>\n",
       "    <tr>\n",
       "      <th>4</th>\n",
       "      <td>0.884137</td>\n",
       "      <td>0.001624</td>\n",
       "      <td>0.838674</td>\n",
       "      <td>0.003967</td>\n",
       "    </tr>\n",
       "    <tr>\n",
       "      <th>5</th>\n",
       "      <td>0.887057</td>\n",
       "      <td>0.001697</td>\n",
       "      <td>0.841544</td>\n",
       "      <td>0.003510</td>\n",
       "    </tr>\n",
       "    <tr>\n",
       "      <th>6</th>\n",
       "      <td>0.889695</td>\n",
       "      <td>0.002341</td>\n",
       "      <td>0.842214</td>\n",
       "      <td>0.005057</td>\n",
       "    </tr>\n",
       "    <tr>\n",
       "      <th>7</th>\n",
       "      <td>0.891214</td>\n",
       "      <td>0.002497</td>\n",
       "      <td>0.842708</td>\n",
       "      <td>0.005743</td>\n",
       "    </tr>\n",
       "    <tr>\n",
       "      <th>8</th>\n",
       "      <td>0.892886</td>\n",
       "      <td>0.002178</td>\n",
       "      <td>0.843644</td>\n",
       "      <td>0.005887</td>\n",
       "    </tr>\n",
       "    <tr>\n",
       "      <th>9</th>\n",
       "      <td>0.893928</td>\n",
       "      <td>0.002417</td>\n",
       "      <td>0.844092</td>\n",
       "      <td>0.005543</td>\n",
       "    </tr>\n",
       "  </tbody>\n",
       "</table>\n",
       "</div>"
      ],
      "text/plain": [
       "   train-auc-mean  train-auc-std  test-auc-mean  test-auc-std\n",
       "0        0.858413       0.002187       0.821862      0.005628\n",
       "1        0.870282       0.001689       0.828690      0.004939\n",
       "2        0.876322       0.000856       0.835879      0.002703\n",
       "3        0.880106       0.001456       0.838758      0.004261\n",
       "4        0.884137       0.001624       0.838674      0.003967\n",
       "5        0.887057       0.001697       0.841544      0.003510\n",
       "6        0.889695       0.002341       0.842214      0.005057\n",
       "7        0.891214       0.002497       0.842708      0.005743\n",
       "8        0.892886       0.002178       0.843644      0.005887\n",
       "9        0.893928       0.002417       0.844092      0.005543"
      ]
     },
     "execution_count": 25,
     "metadata": {},
     "output_type": "execute_result"
    }
   ],
   "source": [
    "PARAMETERS={\"objective\":'binary:logistic',\"eval_metric\":\"auc\"}\n",
    "xgb_helper(PARAMETERS)"
   ]
  },
  {
   "cell_type": "markdown",
   "id": "b7800133",
   "metadata": {
    "papermill": {
     "duration": 0.017122,
     "end_time": "2022-08-18T14:53:47.369377",
     "exception": false,
     "start_time": "2022-08-18T14:53:47.352255",
     "status": "completed"
    },
    "tags": []
   },
   "source": [
    "**So, the difference between train and test AUC score is about 0.05, aka 5% - which is quite higher.**\n",
    "\n",
    "Let's regularise."
   ]
  },
  {
   "cell_type": "markdown",
   "id": "2bd5d9ea",
   "metadata": {
    "papermill": {
     "duration": 0.016601,
     "end_time": "2022-08-18T14:53:47.402838",
     "exception": false,
     "start_time": "2022-08-18T14:53:47.386237",
     "status": "completed"
    },
    "tags": []
   },
   "source": [
    "### Overfitting Controlled"
   ]
  },
  {
   "cell_type": "code",
   "execution_count": 26,
   "id": "c0059114",
   "metadata": {
    "execution": {
     "iopub.execute_input": "2022-08-18T14:53:47.438467Z",
     "iopub.status.busy": "2022-08-18T14:53:47.438115Z",
     "iopub.status.idle": "2022-08-18T14:53:47.642925Z",
     "shell.execute_reply": "2022-08-18T14:53:47.641873Z"
    },
    "papermill": {
     "duration": 0.229352,
     "end_time": "2022-08-18T14:53:47.648759",
     "exception": false,
     "start_time": "2022-08-18T14:53:47.419407",
     "status": "completed"
    },
    "tags": []
   },
   "outputs": [
    {
     "data": {
      "text/html": [
       "<div>\n",
       "<style scoped>\n",
       "    .dataframe tbody tr th:only-of-type {\n",
       "        vertical-align: middle;\n",
       "    }\n",
       "\n",
       "    .dataframe tbody tr th {\n",
       "        vertical-align: top;\n",
       "    }\n",
       "\n",
       "    .dataframe thead th {\n",
       "        text-align: right;\n",
       "    }\n",
       "</style>\n",
       "<table border=\"1\" class=\"dataframe\">\n",
       "  <thead>\n",
       "    <tr style=\"text-align: right;\">\n",
       "      <th></th>\n",
       "      <th>train-auc-mean</th>\n",
       "      <th>train-auc-std</th>\n",
       "      <th>test-auc-mean</th>\n",
       "      <th>test-auc-std</th>\n",
       "    </tr>\n",
       "  </thead>\n",
       "  <tbody>\n",
       "    <tr>\n",
       "      <th>0</th>\n",
       "      <td>0.756095</td>\n",
       "      <td>0.006712</td>\n",
       "      <td>0.745616</td>\n",
       "      <td>0.012709</td>\n",
       "    </tr>\n",
       "    <tr>\n",
       "      <th>1</th>\n",
       "      <td>0.794688</td>\n",
       "      <td>0.003016</td>\n",
       "      <td>0.787055</td>\n",
       "      <td>0.012553</td>\n",
       "    </tr>\n",
       "    <tr>\n",
       "      <th>2</th>\n",
       "      <td>0.807168</td>\n",
       "      <td>0.003095</td>\n",
       "      <td>0.800497</td>\n",
       "      <td>0.013173</td>\n",
       "    </tr>\n",
       "    <tr>\n",
       "      <th>3</th>\n",
       "      <td>0.813550</td>\n",
       "      <td>0.003732</td>\n",
       "      <td>0.807774</td>\n",
       "      <td>0.011470</td>\n",
       "    </tr>\n",
       "    <tr>\n",
       "      <th>4</th>\n",
       "      <td>0.816639</td>\n",
       "      <td>0.003505</td>\n",
       "      <td>0.810455</td>\n",
       "      <td>0.011466</td>\n",
       "    </tr>\n",
       "    <tr>\n",
       "      <th>5</th>\n",
       "      <td>0.817854</td>\n",
       "      <td>0.003483</td>\n",
       "      <td>0.812003</td>\n",
       "      <td>0.011679</td>\n",
       "    </tr>\n",
       "    <tr>\n",
       "      <th>6</th>\n",
       "      <td>0.821096</td>\n",
       "      <td>0.004441</td>\n",
       "      <td>0.814993</td>\n",
       "      <td>0.011331</td>\n",
       "    </tr>\n",
       "    <tr>\n",
       "      <th>7</th>\n",
       "      <td>0.825188</td>\n",
       "      <td>0.002974</td>\n",
       "      <td>0.818432</td>\n",
       "      <td>0.010964</td>\n",
       "    </tr>\n",
       "    <tr>\n",
       "      <th>8</th>\n",
       "      <td>0.828995</td>\n",
       "      <td>0.002206</td>\n",
       "      <td>0.821516</td>\n",
       "      <td>0.010546</td>\n",
       "    </tr>\n",
       "    <tr>\n",
       "      <th>9</th>\n",
       "      <td>0.830942</td>\n",
       "      <td>0.001293</td>\n",
       "      <td>0.824446</td>\n",
       "      <td>0.009938</td>\n",
       "    </tr>\n",
       "  </tbody>\n",
       "</table>\n",
       "</div>"
      ],
      "text/plain": [
       "   train-auc-mean  train-auc-std  test-auc-mean  test-auc-std\n",
       "0        0.756095       0.006712       0.745616      0.012709\n",
       "1        0.794688       0.003016       0.787055      0.012553\n",
       "2        0.807168       0.003095       0.800497      0.013173\n",
       "3        0.813550       0.003732       0.807774      0.011470\n",
       "4        0.816639       0.003505       0.810455      0.011466\n",
       "5        0.817854       0.003483       0.812003      0.011679\n",
       "6        0.821096       0.004441       0.814993      0.011331\n",
       "7        0.825188       0.002974       0.818432      0.010964\n",
       "8        0.828995       0.002206       0.821516      0.010546\n",
       "9        0.830942       0.001293       0.824446      0.009938"
      ]
     },
     "execution_count": 26,
     "metadata": {},
     "output_type": "execute_result"
    }
   ],
   "source": [
    "PARAMETERS={\"objective\":'binary:logistic',\"eval_metric\":\"auc\", \"max_depth\":2 , \"min_child_weight\":3, \"gamma\":2}\n",
    "xgb_helper(PARAMETERS)"
   ]
  },
  {
   "cell_type": "markdown",
   "id": "4c204433",
   "metadata": {
    "papermill": {
     "duration": 0.041537,
     "end_time": "2022-08-18T14:53:47.733750",
     "exception": false,
     "start_time": "2022-08-18T14:53:47.692213",
     "status": "completed"
    },
    "tags": []
   },
   "source": [
    "**So, the difference between train and test AUC score is less than 0.01, aka 1% - which is quite better.**"
   ]
  },
  {
   "cell_type": "markdown",
   "id": "91f9595c",
   "metadata": {
    "papermill": {
     "duration": 0.028734,
     "end_time": "2022-08-18T14:53:47.793034",
     "exception": false,
     "start_time": "2022-08-18T14:53:47.764300",
     "status": "completed"
    },
    "tags": []
   },
   "source": [
    "<div style=\"padding:10px;color:black;margin:0;font-size:120%;text-align:center;display:fill;border-radius:5px;background-color:#f5f2f2;overflow:hidden;font-weight:500\"><b>Control Overfitting - Code Example : Method 2</b></div></br>"
   ]
  },
  {
   "cell_type": "code",
   "execution_count": 27,
   "id": "ae224567",
   "metadata": {
    "execution": {
     "iopub.execute_input": "2022-08-18T14:53:47.848328Z",
     "iopub.status.busy": "2022-08-18T14:53:47.847808Z",
     "iopub.status.idle": "2022-08-18T14:53:48.215331Z",
     "shell.execute_reply": "2022-08-18T14:53:48.213588Z"
    },
    "papermill": {
     "duration": 0.397169,
     "end_time": "2022-08-18T14:53:48.217587",
     "exception": false,
     "start_time": "2022-08-18T14:53:47.820418",
     "status": "completed"
    },
    "tags": []
   },
   "outputs": [
    {
     "data": {
      "text/html": [
       "<div>\n",
       "<style scoped>\n",
       "    .dataframe tbody tr th:only-of-type {\n",
       "        vertical-align: middle;\n",
       "    }\n",
       "\n",
       "    .dataframe tbody tr th {\n",
       "        vertical-align: top;\n",
       "    }\n",
       "\n",
       "    .dataframe thead th {\n",
       "        text-align: right;\n",
       "    }\n",
       "</style>\n",
       "<table border=\"1\" class=\"dataframe\">\n",
       "  <thead>\n",
       "    <tr style=\"text-align: right;\">\n",
       "      <th></th>\n",
       "      <th>train-auc-mean</th>\n",
       "      <th>train-auc-std</th>\n",
       "      <th>test-auc-mean</th>\n",
       "      <th>test-auc-std</th>\n",
       "    </tr>\n",
       "  </thead>\n",
       "  <tbody>\n",
       "    <tr>\n",
       "      <th>0</th>\n",
       "      <td>0.795186</td>\n",
       "      <td>0.003369</td>\n",
       "      <td>0.777080</td>\n",
       "      <td>0.012016</td>\n",
       "    </tr>\n",
       "    <tr>\n",
       "      <th>1</th>\n",
       "      <td>0.802556</td>\n",
       "      <td>0.013406</td>\n",
       "      <td>0.784662</td>\n",
       "      <td>0.018255</td>\n",
       "    </tr>\n",
       "    <tr>\n",
       "      <th>2</th>\n",
       "      <td>0.805264</td>\n",
       "      <td>0.012572</td>\n",
       "      <td>0.784439</td>\n",
       "      <td>0.015186</td>\n",
       "    </tr>\n",
       "    <tr>\n",
       "      <th>3</th>\n",
       "      <td>0.811922</td>\n",
       "      <td>0.010274</td>\n",
       "      <td>0.788479</td>\n",
       "      <td>0.010984</td>\n",
       "    </tr>\n",
       "    <tr>\n",
       "      <th>4</th>\n",
       "      <td>0.814276</td>\n",
       "      <td>0.009995</td>\n",
       "      <td>0.788180</td>\n",
       "      <td>0.011646</td>\n",
       "    </tr>\n",
       "    <tr>\n",
       "      <th>5</th>\n",
       "      <td>0.817306</td>\n",
       "      <td>0.009768</td>\n",
       "      <td>0.787911</td>\n",
       "      <td>0.007396</td>\n",
       "    </tr>\n",
       "    <tr>\n",
       "      <th>6</th>\n",
       "      <td>0.817554</td>\n",
       "      <td>0.011856</td>\n",
       "      <td>0.788386</td>\n",
       "      <td>0.007400</td>\n",
       "    </tr>\n",
       "    <tr>\n",
       "      <th>7</th>\n",
       "      <td>0.819985</td>\n",
       "      <td>0.013085</td>\n",
       "      <td>0.791502</td>\n",
       "      <td>0.012313</td>\n",
       "    </tr>\n",
       "    <tr>\n",
       "      <th>8</th>\n",
       "      <td>0.821693</td>\n",
       "      <td>0.013683</td>\n",
       "      <td>0.794037</td>\n",
       "      <td>0.013249</td>\n",
       "    </tr>\n",
       "    <tr>\n",
       "      <th>9</th>\n",
       "      <td>0.827255</td>\n",
       "      <td>0.004718</td>\n",
       "      <td>0.799101</td>\n",
       "      <td>0.009761</td>\n",
       "    </tr>\n",
       "  </tbody>\n",
       "</table>\n",
       "</div>"
      ],
      "text/plain": [
       "   train-auc-mean  train-auc-std  test-auc-mean  test-auc-std\n",
       "0        0.795186       0.003369       0.777080      0.012016\n",
       "1        0.802556       0.013406       0.784662      0.018255\n",
       "2        0.805264       0.012572       0.784439      0.015186\n",
       "3        0.811922       0.010274       0.788479      0.010984\n",
       "4        0.814276       0.009995       0.788180      0.011646\n",
       "5        0.817306       0.009768       0.787911      0.007396\n",
       "6        0.817554       0.011856       0.788386      0.007400\n",
       "7        0.819985       0.013085       0.791502      0.012313\n",
       "8        0.821693       0.013683       0.794037      0.013249\n",
       "9        0.827255       0.004718       0.799101      0.009761"
      ]
     },
     "execution_count": 27,
     "metadata": {},
     "output_type": "execute_result"
    }
   ],
   "source": [
    "PARAMETERS={\"objective\":'binary:logistic',\"eval_metric\":\"auc\", \"subsample\":0.3,\"colsample_bytree\":0.3,\"eta\":.05}\n",
    "xgb_helper(PARAMETERS,25) #increasing num bossting round to 15"
   ]
  },
  {
   "cell_type": "markdown",
   "id": "c0ff907a",
   "metadata": {
    "papermill": {
     "duration": 0.02671,
     "end_time": "2022-08-18T14:53:48.271474",
     "exception": false,
     "start_time": "2022-08-18T14:53:48.244764",
     "status": "completed"
    },
    "tags": []
   },
   "source": [
    "**So, now the difference between train and test AUC score is less than 0.035, aka 3.5% - which is better than normal.**"
   ]
  },
  {
   "cell_type": "markdown",
   "id": "c7fd592b",
   "metadata": {
    "papermill": {
     "duration": 0.027354,
     "end_time": "2022-08-18T14:53:48.330721",
     "exception": false,
     "start_time": "2022-08-18T14:53:48.303367",
     "status": "completed"
    },
    "tags": []
   },
   "source": [
    "<div style=\"padding:10px;color:black;margin:0;font-size:150%;text-align:center;display:fill;border-radius:5px;background-color:#f5f2f2;overflow:hidden;font-weight:500\"><b>Faster training performance</b></div></br>\n",
    "\n",
    "There’s a parameter called **tree_method**, set it to **hist** or **gpu_hist** for faster computation."
   ]
  },
  {
   "cell_type": "markdown",
   "id": "7d35ee21",
   "metadata": {
    "papermill": {
     "duration": 0.016682,
     "end_time": "2022-08-18T14:53:48.364389",
     "exception": false,
     "start_time": "2022-08-18T14:53:48.347707",
     "status": "completed"
    },
    "tags": []
   },
   "source": [
    "<div style=\"padding:10px;color:black;margin:0;font-size:150%;text-align:center;display:fill;border-radius:5px;background-color:#f5f2f2;overflow:hidden;font-weight:500\"><b>Handle Imbalanced Dataset</b></div></br>\n",
    "\n",
    "For common cases such as ads clickthrough log, the dataset is extremely imbalanced. This can affect the training of XGBoost model, and there are two ways to improve it.\n",
    "\n",
    "- **If you care only about the overall performance metric (AUC) of your prediction**\n",
    "  - Balance the positive and negative weights via **scale_pos_weight**\n",
    "  - Use AUC for evaluation\n",
    "  \n",
    "  \n",
    "- **If you care about predicting the right probability**\n",
    "  - In such a case, you cannot re-balance the dataset\n",
    "  - Set parameter **max_delta_step** to a finite number (say 1) to help convergence"
   ]
  },
  {
   "cell_type": "markdown",
   "id": "577eea27",
   "metadata": {
    "papermill": {
     "duration": 0.016336,
     "end_time": "2022-08-18T14:53:48.397686",
     "exception": false,
     "start_time": "2022-08-18T14:53:48.381350",
     "status": "completed"
    },
    "tags": []
   },
   "source": [
    "---"
   ]
  },
  {
   "cell_type": "markdown",
   "id": "b42c1398",
   "metadata": {
    "papermill": {
     "duration": 0.016648,
     "end_time": "2022-08-18T14:53:48.431837",
     "exception": false,
     "start_time": "2022-08-18T14:53:48.415189",
     "status": "completed"
    },
    "tags": []
   },
   "source": [
    "---"
   ]
  },
  {
   "cell_type": "markdown",
   "id": "fe4ef6fd",
   "metadata": {
    "papermill": {
     "duration": 0.016536,
     "end_time": "2022-08-18T14:53:48.465631",
     "exception": false,
     "start_time": "2022-08-18T14:53:48.449095",
     "status": "completed"
    },
    "tags": []
   },
   "source": [
    "# References\n",
    "- [XGBoost tips & tricks](https://www.kaggle.com/discussions/general/197466)\n",
    "- [Binary Classification: XGBoost Hyperparameter Tuning Scenarios](https://towardsdatascience.com/binary-classification-xgboost-hyperparameter-tuning-scenarios-by-non-exhaustive-grid-search-and-c261f4ce098d)\n",
    "- [Complete Guide to Parameter Tuning in XGBoost with codes in Python - Aarshay Jain](https://www.analyticsvidhya.com/blog/2016/03/complete-guide-parameter-tuning-xgboost-with-codes-python/)\n",
    "- [Notes on Parameter Tuning](https://xgboost.readthedocs.io/en/stable/tutorials/param_tuning.html)\n",
    "- [XGBoost Parameters](https://xgboost.readthedocs.io/en/stable/parameter.html)\n",
    "- [L1 and L2 Regularization — Explained | by Soner Yıldırım](https://towardsdatascience.com/l1-and-l2-regularization-explained-874c3b03f668)\n",
    "- [XGBoost | Wrestling with Hyperparameters](https://medium.com/@azmine_wasi/xgboost-wrestling-with-hyperparameters-detailed-guide-part-01-3ecc8280f02b)"
   ]
  }
 ],
 "metadata": {
  "kernelspec": {
   "display_name": "Python 3",
   "language": "python",
   "name": "python3"
  },
  "language_info": {
   "codemirror_mode": {
    "name": "ipython",
    "version": 3
   },
   "file_extension": ".py",
   "mimetype": "text/x-python",
   "name": "python",
   "nbconvert_exporter": "python",
   "pygments_lexer": "ipython3",
   "version": "3.7.12"
  },
  "papermill": {
   "default_parameters": {},
   "duration": 44.199217,
   "end_time": "2022-08-18T14:53:49.806290",
   "environment_variables": {},
   "exception": null,
   "input_path": "__notebook__.ipynb",
   "output_path": "__notebook__.ipynb",
   "parameters": {},
   "start_time": "2022-08-18T14:53:05.607073",
   "version": "2.3.4"
  }
 },
 "nbformat": 4,
 "nbformat_minor": 5
}
